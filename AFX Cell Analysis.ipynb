{
 "cells": [
  {
   "cell_type": "code",
   "execution_count": 1,
   "metadata": {
    "collapsed": false
   },
   "outputs": [],
   "source": [
    "%matplotlib inline\n",
    "import numpy as np\n",
    "import pandas as pd\n",
    "import matplotlib.pyplot as plt\n",
    "import statsmodels.api as sm"
   ]
  },
  {
   "cell_type": "code",
   "execution_count": 2,
   "metadata": {
    "collapsed": false
   },
   "outputs": [],
   "source": [
    "fluxes_columns = ['y','m','d','ET','R','BF','sm1','sm2','sm3','SWE','Cs','Qs','Ql','Qg','NR','PEText','PETtrc','PETsrc']\n",
    "forcing_columns = ['P','Tmax','Tmin','W']"
   ]
  },
  {
   "cell_type": "code",
   "execution_count": 3,
   "metadata": {
    "collapsed": false
   },
   "outputs": [],
   "source": [
    "fl = './data/flux_snow_40.03125_-105.53125'\n",
    "fr = './data/Meteorology_Livneh_NAmerExt_15Oct2014_40.03125_-105.53125'"
   ]
  },
  {
   "cell_type": "code",
   "execution_count": 4,
   "metadata": {
    "collapsed": false
   },
   "outputs": [],
   "source": [
    "dates = pd.read_pickle('./timecode.pcl')"
   ]
  },
  {
   "cell_type": "code",
   "execution_count": 5,
   "metadata": {
    "collapsed": false
   },
   "outputs": [],
   "source": [
    "flux = pd.read_table(fl, sep='\\t', names=fluxes_columns) # load fluxes\n",
    "flux.index = pd.DatetimeIndex(dates)\n",
    "    \n",
    "forc = pd.read_table(fr, sep=' ', names=forcing_columns) # load forcing\n",
    "forc.index = pd.DatetimeIndex(dates)"
   ]
  },
  {
   "cell_type": "code",
   "execution_count": 6,
   "metadata": {
    "collapsed": false
   },
   "outputs": [
    {
     "data": {
      "text/plain": [
       "Timestamp('1950-01-01 00:00:00')"
      ]
     },
     "execution_count": 6,
     "metadata": {},
     "output_type": "execute_result"
    }
   ],
   "source": [
    "flux.index.min()"
   ]
  },
  {
   "cell_type": "code",
   "execution_count": 7,
   "metadata": {
    "collapsed": false
   },
   "outputs": [
    {
     "data": {
      "text/plain": [
       "Timestamp('2013-12-31 00:00:00')"
      ]
     },
     "execution_count": 7,
     "metadata": {},
     "output_type": "execute_result"
    }
   ],
   "source": [
    "flux.index.max()"
   ]
  },
  {
   "cell_type": "code",
   "execution_count": 6,
   "metadata": {
    "collapsed": false
   },
   "outputs": [],
   "source": [
    "wyears = np.load('./wyears.npy')"
   ]
  },
  {
   "cell_type": "code",
   "execution_count": 7,
   "metadata": {
    "collapsed": false
   },
   "outputs": [],
   "source": [
    "cols = ['ablationslope','peakswe','ablationseasonP','gsET','wyP', 'ablationseason']"
   ]
  },
  {
   "cell_type": "code",
   "execution_count": 8,
   "metadata": {
    "collapsed": false
   },
   "outputs": [],
   "source": [
    "data = pd.DataFrame(columns=cols, index=wyears)"
   ]
  },
  {
   "cell_type": "code",
   "execution_count": 9,
   "metadata": {
    "collapsed": false
   },
   "outputs": [],
   "source": [
    "for wy in wyears:\n",
    "    strt = str(wy-1)+'-10-01'\n",
    "    nd = str(wy)+'-09-30'\n",
    "    \n",
    "    data.loc[wy,'peakswe'] = flux[strt:nd].SWE.max() # pull max swe\n",
    "    dopeakswe = flux[strt:nd].SWE.idxmax() # pull day of peak swe\n",
    "    donosnow = flux[dopeakswe:nd].SWE.idxmin() # pull the day of now snow\n",
    "    \n",
    "    ablationseason = (donosnow-dopeakswe).days # compute the ablation season length\n",
    "    \n",
    "    data.loc[wy,'gsET'] = flux[dopeakswe:nd].ET.sum() # sum ET over the growing season \n",
    "    data.loc[wy,'ablationslope'] = data.loc[wy,'peakswe']/ablationseason # compute the average daily melt rate and store it\n",
    "    data.loc[wy,'ablationseason'] = ablationseason # save the ablation season length\n",
    "    data.loc[wy,'ablationseasonP'] = forc[dopeakswe:donosnow].P.sum()/ablationseason\n",
    "    \n",
    "    data.loc[wy,'wyP'] = forc[strt:nd].P.sum() # sum and store water year P\n",
    "    "
   ]
  },
  {
   "cell_type": "code",
   "execution_count": 10,
   "metadata": {
    "collapsed": false
   },
   "outputs": [
    {
     "data": {
      "text/html": [
       "<div style=\"max-height:1000px;max-width:1500px;overflow:auto;\">\n",
       "<table border=\"1\" class=\"dataframe\">\n",
       "  <thead>\n",
       "    <tr style=\"text-align: right;\">\n",
       "      <th></th>\n",
       "      <th>ablationslope</th>\n",
       "      <th>peakswe</th>\n",
       "      <th>ablationseasonP</th>\n",
       "      <th>gsET</th>\n",
       "      <th>wyP</th>\n",
       "      <th>ablationseason</th>\n",
       "    </tr>\n",
       "  </thead>\n",
       "  <tbody>\n",
       "    <tr>\n",
       "      <th>1951</th>\n",
       "      <td> 5.969521</td>\n",
       "      <td> 334.2932</td>\n",
       "      <td>  2.599286</td>\n",
       "      <td> 481.6596</td>\n",
       "      <td> 859.62</td>\n",
       "      <td> 56</td>\n",
       "    </tr>\n",
       "    <tr>\n",
       "      <th>1952</th>\n",
       "      <td> 7.081557</td>\n",
       "      <td> 297.4254</td>\n",
       "      <td>  3.777143</td>\n",
       "      <td> 518.9008</td>\n",
       "      <td> 839.14</td>\n",
       "      <td> 42</td>\n",
       "    </tr>\n",
       "    <tr>\n",
       "      <th>1953</th>\n",
       "      <td>  3.81896</td>\n",
       "      <td> 160.3963</td>\n",
       "      <td>  2.467857</td>\n",
       "      <td> 495.8938</td>\n",
       "      <td> 635.66</td>\n",
       "      <td> 42</td>\n",
       "    </tr>\n",
       "    <tr>\n",
       "      <th>1954</th>\n",
       "      <td> 2.839413</td>\n",
       "      <td>  65.3065</td>\n",
       "      <td> 0.2395652</td>\n",
       "      <td> 408.0278</td>\n",
       "      <td> 510.92</td>\n",
       "      <td> 23</td>\n",
       "    </tr>\n",
       "    <tr>\n",
       "      <th>1955</th>\n",
       "      <td> 3.179743</td>\n",
       "      <td> 155.8074</td>\n",
       "      <td> 0.8910204</td>\n",
       "      <td> 494.9525</td>\n",
       "      <td> 635.46</td>\n",
       "      <td> 49</td>\n",
       "    </tr>\n",
       "  </tbody>\n",
       "</table>\n",
       "</div>"
      ],
      "text/plain": [
       "     ablationslope   peakswe ablationseasonP      gsET     wyP ablationseason\n",
       "1951      5.969521  334.2932        2.599286  481.6596  859.62             56\n",
       "1952      7.081557  297.4254        3.777143  518.9008  839.14             42\n",
       "1953       3.81896  160.3963        2.467857  495.8938  635.66             42\n",
       "1954      2.839413   65.3065       0.2395652  408.0278  510.92             23\n",
       "1955      3.179743  155.8074       0.8910204  494.9525  635.46             49"
      ]
     },
     "execution_count": 10,
     "metadata": {},
     "output_type": "execute_result"
    }
   ],
   "source": [
    "data.head()"
   ]
  },
  {
   "cell_type": "code",
   "execution_count": 11,
   "metadata": {
    "collapsed": false
   },
   "outputs": [],
   "source": [
    "data['gsET_P']= data.gsET/data.wyP\n",
    "data['flux'] = data.ablationslope+data.ablationseasonP"
   ]
  },
  {
   "cell_type": "code",
   "execution_count": 12,
   "metadata": {
    "collapsed": false
   },
   "outputs": [
    {
     "data": {
      "text/html": [
       "<div style=\"max-height:1000px;max-width:1500px;overflow:auto;\">\n",
       "<table border=\"1\" class=\"dataframe\">\n",
       "  <thead>\n",
       "    <tr style=\"text-align: right;\">\n",
       "      <th></th>\n",
       "      <th>ablationslope</th>\n",
       "      <th>peakswe</th>\n",
       "      <th>ablationseasonP</th>\n",
       "      <th>gsET</th>\n",
       "      <th>wyP</th>\n",
       "      <th>ablationseason</th>\n",
       "      <th>gsET_P</th>\n",
       "      <th>flux</th>\n",
       "    </tr>\n",
       "  </thead>\n",
       "  <tbody>\n",
       "    <tr>\n",
       "      <th>1951</th>\n",
       "      <td> 5.969521</td>\n",
       "      <td> 334.2932</td>\n",
       "      <td>  2.599286</td>\n",
       "      <td> 481.6596</td>\n",
       "      <td> 859.62</td>\n",
       "      <td> 56</td>\n",
       "      <td> 0.5603169</td>\n",
       "      <td> 8.568807</td>\n",
       "    </tr>\n",
       "    <tr>\n",
       "      <th>1952</th>\n",
       "      <td> 7.081557</td>\n",
       "      <td> 297.4254</td>\n",
       "      <td>  3.777143</td>\n",
       "      <td> 518.9008</td>\n",
       "      <td> 839.14</td>\n",
       "      <td> 42</td>\n",
       "      <td> 0.6183721</td>\n",
       "      <td>  10.8587</td>\n",
       "    </tr>\n",
       "    <tr>\n",
       "      <th>1953</th>\n",
       "      <td>  3.81896</td>\n",
       "      <td> 160.3963</td>\n",
       "      <td>  2.467857</td>\n",
       "      <td> 495.8938</td>\n",
       "      <td> 635.66</td>\n",
       "      <td> 42</td>\n",
       "      <td> 0.7801244</td>\n",
       "      <td> 6.286817</td>\n",
       "    </tr>\n",
       "    <tr>\n",
       "      <th>1954</th>\n",
       "      <td> 2.839413</td>\n",
       "      <td>  65.3065</td>\n",
       "      <td> 0.2395652</td>\n",
       "      <td> 408.0278</td>\n",
       "      <td> 510.92</td>\n",
       "      <td> 23</td>\n",
       "      <td> 0.7986138</td>\n",
       "      <td> 3.078978</td>\n",
       "    </tr>\n",
       "    <tr>\n",
       "      <th>1955</th>\n",
       "      <td> 3.179743</td>\n",
       "      <td> 155.8074</td>\n",
       "      <td> 0.8910204</td>\n",
       "      <td> 494.9525</td>\n",
       "      <td> 635.46</td>\n",
       "      <td> 49</td>\n",
       "      <td> 0.7788885</td>\n",
       "      <td> 4.070763</td>\n",
       "    </tr>\n",
       "  </tbody>\n",
       "</table>\n",
       "</div>"
      ],
      "text/plain": [
       "     ablationslope   peakswe ablationseasonP      gsET     wyP ablationseason  \\\n",
       "1951      5.969521  334.2932        2.599286  481.6596  859.62             56   \n",
       "1952      7.081557  297.4254        3.777143  518.9008  839.14             42   \n",
       "1953       3.81896  160.3963        2.467857  495.8938  635.66             42   \n",
       "1954      2.839413   65.3065       0.2395652  408.0278  510.92             23   \n",
       "1955      3.179743  155.8074       0.8910204  494.9525  635.46             49   \n",
       "\n",
       "         gsET_P      flux  \n",
       "1951  0.5603169  8.568807  \n",
       "1952  0.6183721   10.8587  \n",
       "1953  0.7801244  6.286817  \n",
       "1954  0.7986138  3.078978  \n",
       "1955  0.7788885  4.070763  "
      ]
     },
     "execution_count": 12,
     "metadata": {},
     "output_type": "execute_result"
    }
   ],
   "source": [
    "data.head()"
   ]
  },
  {
   "cell_type": "code",
   "execution_count": 25,
   "metadata": {
    "collapsed": false
   },
   "outputs": [],
   "source": [
    "data.to_pickle('./data/AFX_cell.df')"
   ]
  },
  {
   "cell_type": "code",
   "execution_count": 13,
   "metadata": {
    "collapsed": false
   },
   "outputs": [],
   "source": [
    "data.loc[data.gsET_P>1,:] = np.NaN"
   ]
  },
  {
   "cell_type": "code",
   "execution_count": 14,
   "metadata": {
    "collapsed": false
   },
   "outputs": [
    {
     "data": {
      "text/plain": [
       "0.88878590099474142"
      ]
     },
     "execution_count": 14,
     "metadata": {},
     "output_type": "execute_result"
    }
   ],
   "source": [
    "data.gsET_P.max()"
   ]
  },
  {
   "cell_type": "code",
   "execution_count": 14,
   "metadata": {
    "collapsed": false
   },
   "outputs": [],
   "source": []
  },
  {
   "cell_type": "code",
   "execution_count": 22,
   "metadata": {
    "collapsed": false
   },
   "outputs": [
    {
     "name": "stdout",
     "output_type": "stream",
     "text": [
      "                            OLS Regression Results                            \n",
      "==============================================================================\n",
      "Dep. Variable:                 gsET_P   R-squared:                       0.541\n",
      "Model:                            OLS   Adj. R-squared:                  0.534\n",
      "Method:                 Least Squares   F-statistic:                     70.80\n",
      "Date:                Tue, 03 Feb 2015   Prob (F-statistic):           9.65e-12\n",
      "Time:                        12:28:47   Log-Likelihood:                 74.184\n",
      "No. Observations:                  62   AIC:                            -144.4\n",
      "Df Residuals:                      60   BIC:                            -140.1\n",
      "Df Model:                           1                                         \n",
      "Covariance Type:            nonrobust                                         \n",
      "==============================================================================\n",
      "                 coef    std err          t      P>|t|      [95.0% Conf. Int.]\n",
      "------------------------------------------------------------------------------\n",
      "const          0.9062      0.027     33.840      0.000         0.853     0.960\n",
      "flux          -0.0309      0.004     -8.415      0.000        -0.038    -0.024\n",
      "==============================================================================\n",
      "Omnibus:                        0.902   Durbin-Watson:                   2.461\n",
      "Prob(Omnibus):                  0.637   Jarque-Bera (JB):                0.723\n",
      "Skew:                           0.262   Prob(JB):                        0.697\n",
      "Kurtosis:                       2.931   Cond. No.                         21.0\n",
      "==============================================================================\n",
      "\n",
      "Warnings:\n",
      "[1] Standard Errors assume that the covariance matrix of the errors is correctly specified.\n"
     ]
    },
    {
     "data": {
      "image/png": "[encoded data removed]",
      "text/plain": [
       "<matplotlib.figure.Figure at 0x10cbf97d0>"
      ]
     },
     "metadata": {},
     "output_type": "display_data"
    }
   ],
   "source": [
    "data2 = data.dropna(subset=['flux','gsET_P']).astype(float)\n",
    "X = data2.flux\n",
    "y = data2.gsET_P\n",
    "X = sm.add_constant(X)\n",
    "results = sm.OLS(y, X).fit()\n",
    "\n",
    "titlefont = 28\n",
    "axfont = 22\n",
    "labelfont = 24\n",
    "annotatefont = 20\n",
    "\n",
    "\n",
    "EQ = 'y = '+str(round(results.params[1],3))+'x + '+str(round(results.params[0],3))\n",
    "params = 'r$^2$='+str(round(results.rsquared,3))+', p='+str(round(results.f_pvalue,3))\n",
    "\n",
    "fig = plt.figure(figsize=(12,8))\n",
    "ax = fig.add_subplot(111)\n",
    "ax.plot(X.flux,y,'.c',markersize=10);\n",
    "ax.plot(X.flux,results.fittedvalues,'-r', lw=3);\n",
    "ax.set_xlim([0,15])\n",
    "ax.set_ylim([0,1])\n",
    "#ax.set_title('1 Day Soil Moisture Lag', fontsize = titlefont);\n",
    "ax.set_xlabel('Water Flux [mm/d]', fontsize= labelfont);\n",
    "ax.set_ylabel('ET/P [1]', fontsize=labelfont);\n",
    "plt.setp(ax.get_xticklabels(),fontsize=axfont)\n",
    "plt.setp(ax.get_yticklabels(),fontsize=axfont)\n",
    "ax.axhline(0,c='0.5', lw=1.5);\n",
    "ax.axvline(0,c='0.5', lw=1.5);\n",
    "#ax.text(7,10,EQ, fontsize = annotatefont)\n",
    "#ax.text(7,9,params, fontsize = annotatefont)\n",
    "#plt.savefig('/Users/barnhatb/Dropbox/CUB/05_Spring_2015/WSC PI meeting/figures/short_term_SM_water_flx.pdf',bbox_inches='tight',transparent=True)\n",
    "\n",
    "print results.summary()"
   ]
  },
  {
   "cell_type": "code",
   "execution_count": 27,
   "metadata": {
    "collapsed": false
   },
   "outputs": [
    {
     "data": {
      "text/plain": [
       "0.53365413796419037"
      ]
     },
     "execution_count": 27,
     "metadata": {},
     "output_type": "execute_result"
    }
   ],
   "source": [
    "results.rsquared_adj"
   ]
  },
  {
   "cell_type": "code",
   "execution_count": 24,
   "metadata": {
    "collapsed": false
   },
   "outputs": [
    {
     "data": {
      "text/plain": [
       "0.01166040313675515"
      ]
     },
     "execution_count": 24,
     "metadata": {},
     "output_type": "execute_result"
    }
   ],
   "source": [
    "np.var(y)"
   ]
  },
  {
   "cell_type": "code",
   "execution_count": 23,
   "metadata": {
    "collapsed": false
   },
   "outputs": [],
   "source": [
    "results.save('./models/niwot_vic_gsET_PvsFlux.mod')"
   ]
  },
  {
   "cell_type": "code",
   "execution_count": 81,
   "metadata": {
    "collapsed": false
   },
   "outputs": [
    {
     "data": {
      "text/plain": [
       "array([0.64106689535859807, 0.57020292157142338, 0.71168631878835364,\n",
       "       0.81095741612062344, 0.78026522616174609, 0.75303195183775218,\n",
       "       0.50382140085806171, 0.68303687034607552, 0.64682286164967828,\n",
       "       0.74506687522512982, 0.66637502550893379, 0.67636120279443301,\n",
       "       0.79653113409128384, 0.75941323157487939, 0.62479938657821887,\n",
       "       0.7798589432126084, 0.69809264468592236, 0.70955888733301786,\n",
       "       0.62035067213346462, 0.70307844461905555, 0.79324534617778641,\n",
       "       0.54858155749532533, 0.7026773017195741, 0.68605468031152639,\n",
       "       0.80651237111769047, 0.8452616462906154, 0.71580302784140382,\n",
       "       0.63098142199373086, 0.62504300955950198, 0.73919960381224559,\n",
       "       0.83599654325848483, 0.6720916571460035, 0.45803465386000569,\n",
       "       0.76335170648820716, 0.77217456763022629, 0.61904748781957109,\n",
       "       0.70495852136196602, 0.77431900177558288, 0.70457884428147921,\n",
       "       0.76416445519918097, 0.65757378300335967, 0.64147518432265949,\n",
       "       0.68117027319120993, 0.5681453073578342, 0.60085865579690156,\n",
       "       0.58723939170351835, 0.63238039054642359, 0.767926604873017,\n",
       "       0.69118483487772686, 0.632021291857645, 0.78920559584418171,\n",
       "       0.64497785153573639, 0.76166666465353705, 0.69633820456403517,\n",
       "       0.76710435577121683, 0.73310628491663876, 0.65676121234380969,\n",
       "       0.69337109591574952, 0.74354084380712615, 0.68429041579254823,\n",
       "       0.78936876258453903, 0.65075440519967587], dtype=object)"
      ]
     },
     "execution_count": 81,
     "metadata": {},
     "output_type": "execute_result"
    }
   ],
   "source": [
    "results.fittedvalues"
   ]
  },
  {
   "cell_type": "code",
   "execution_count": 72,
   "metadata": {
    "collapsed": false
   },
   "outputs": [
    {
     "data": {
      "text/plain": [
       "array([[1.0, 8.5688071428571426],\n",
       "       [1.0, 10.858699999999999],\n",
       "       [1.0, 6.2868166666666667],\n",
       "       [1.0, 3.0789782608695653],\n",
       "       [1.0, 4.0707632653061223],\n",
       "       [1.0, 4.9507771428571434],\n",
       "       [1.0, 13.003747222222222],\n",
       "       [1.0, 7.2125926829268288],\n",
       "       [1.0, 8.3828093023255814],\n",
       "       [1.0, 5.2081600000000003],\n",
       "       [1.0, 7.7510022222222226],\n",
       "       [1.0, 7.4283096774193549],\n",
       "       [1.0, 3.5451480000000002],\n",
       "       [1.0, 4.7445729729729731],\n",
       "       [1.0, 9.0944741379310337],\n",
       "       [1.0, 4.0838918604651155],\n",
       "       [1.0, 6.726081578947368],\n",
       "       [1.0, 6.3555623188405796],\n",
       "       [1.0, 9.238229545454546],\n",
       "       [1.0, 6.5649708333333336],\n",
       "       [1.0, 3.6513246913580248],\n",
       "       [1.0, 11.557371052631579],\n",
       "       [1.0, 6.5779333333333341],\n",
       "       [1.0, 7.1150754098360665],\n",
       "       [1.0, 3.2226150943396226],\n",
       "       [1.0, 1.9704740740740738],\n",
       "       [1.0, 6.1537896551724138],\n",
       "       [1.0, 8.8947083333333339],\n",
       "       [1.0, 9.0866017241379318],\n",
       "       [1.0, 5.3977545454545455],\n",
       "       [1.0, 2.2698658823529412],\n",
       "       [1.0, 7.5662754385964908],\n",
       "       [1.0, 14.483296551724138],\n",
       "       [1.0, 4.6173054054054052],\n",
       "       [1.0, 4.3322041666666671],\n",
       "       [1.0, 9.2803405405405393],\n",
       "       [1.0, 6.5042181818181817],\n",
       "       [1.0, 4.2629090909090905],\n",
       "       [1.0, 6.5164870370370371],\n",
       "       [1.0, 4.591042307692307],\n",
       "       [1.0, 8.0354048780487801],\n",
       "       [1.0, 8.5556137254901969],\n",
       "       [1.0, 7.2729097560975609],\n",
       "       [1.0, 10.925189583333333],\n",
       "       [1.0, 9.8680930232558133],\n",
       "       [1.0, 10.308184848484849],\n",
       "       [1.0, 8.8495021739130433],\n",
       "       [1.0, 4.4694725000000002],\n",
       "       [1.0, 6.9493],\n",
       "       [1.0, 8.8611060606060601],\n",
       "       [1.0, 3.7818648648648647],\n",
       "       [1.0, 8.4424288135593208],\n",
       "       [1.0, 4.6717557142857142],\n",
       "       [1.0, 6.7827744186046512],\n",
       "       [1.0, 4.4960425925925929],\n",
       "       [1.0, 5.5946535714285712],\n",
       "       [1.0, 8.0616622222222212],\n",
       "       [1.0, 6.8786533333333342],\n",
       "       [1.0, 5.2574720588235291],\n",
       "       [1.0, 7.1720857142857151],\n",
       "       [1.0, 3.7765923076923076],\n",
       "       [1.0, 8.2557657142857153]], dtype=object)"
      ]
     },
     "execution_count": 72,
     "metadata": {},
     "output_type": "execute_result"
    }
   ],
   "source": [
    "X"
   ]
  },
  {
   "cell_type": "code",
   "execution_count": 34,
   "metadata": {
    "collapsed": false
   },
   "outputs": [],
   "source": [
    "td = donosnow-dopeakswe"
   ]
  },
  {
   "cell_type": "code",
   "execution_count": 35,
   "metadata": {
    "collapsed": false
   },
   "outputs": [
    {
     "data": {
      "text/plain": [
       "56"
      ]
     },
     "execution_count": 35,
     "metadata": {},
     "output_type": "execute_result"
    }
   ],
   "source": [
    "td.days"
   ]
  },
  {
   "cell_type": "code",
   "execution_count": 27,
   "metadata": {
    "collapsed": false
   },
   "outputs": [
    {
     "data": {
      "text/plain": [
       "Timestamp('1951-06-17 00:00:00')"
      ]
     },
     "execution_count": 27,
     "metadata": {},
     "output_type": "execute_result"
    }
   ],
   "source": [
    "donosnow"
   ]
  },
  {
   "cell_type": "code",
   "execution_count": 23,
   "metadata": {
    "collapsed": false
   },
   "outputs": [
    {
     "data": {
      "text/plain": [
       "Timestamp('1951-04-22 00:00:00')"
      ]
     },
     "execution_count": 23,
     "metadata": {},
     "output_type": "execute_result"
    }
   ],
   "source": [
    "dopeakswe"
   ]
  },
  {
   "cell_type": "code",
   "execution_count": null,
   "metadata": {
    "collapsed": false
   },
   "outputs": [],
   "source": []
  }
 ],
 "metadata": {
  "kernelspec": {
   "display_name": "Python 2",
   "language": "python",
   "name": "python2"
  },
  "language_info": {
   "codemirror_mode": {
    "name": "ipython",
    "version": 2
   },
   "file_extension": ".py",
   "mimetype": "text/x-python",
   "name": "python",
   "nbconvert_exporter": "python",
   "pygments_lexer": "ipython2",
   "version": "2.7.10"
  }
 },
 "nbformat": 4,
 "nbformat_minor": 0
}
