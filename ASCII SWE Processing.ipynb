{
 "metadata": {
  "name": "",
  "signature": "sha256:38952292ecc4a854f84e3cb14d4f0c56096db1188e4e289cc857a59204fcaacc"
 },
 "nbformat": 3,
 "nbformat_minor": 0,
 "worksheets": [
  {
   "cells": [
    {
     "cell_type": "markdown",
     "metadata": {},
     "source": [
      "# Script to extract SWE metric data from each cell\n",
      "\n",
      "## Theodore Barnhart | Created: 20150115"
     ]
    },
    {
     "cell_type": "markdown",
     "metadata": {},
     "source": [
      "### Set up the parallel environment"
     ]
    },
    {
     "cell_type": "code",
     "collapsed": false,
     "input": [
      "from IPython import parallel as p"
     ],
     "language": "python",
     "metadata": {},
     "outputs": [],
     "prompt_number": 1
    },
    {
     "cell_type": "code",
     "collapsed": false,
     "input": [
      "pc = p.Client()\n",
      "pc.block = True # make results return synchronously"
     ],
     "language": "python",
     "metadata": {},
     "outputs": [],
     "prompt_number": 2
    },
    {
     "cell_type": "code",
     "collapsed": false,
     "input": [
      "pc.ids"
     ],
     "language": "python",
     "metadata": {},
     "outputs": [
      {
       "metadata": {},
       "output_type": "pyout",
       "prompt_number": 3,
       "text": [
        "[0, 1]"
       ]
      }
     ],
     "prompt_number": 3
    },
    {
     "cell_type": "markdown",
     "metadata": {},
     "source": [
      "There are 8 engines working on this problem"
     ]
    },
    {
     "cell_type": "code",
     "collapsed": false,
     "input": [
      "view = pc.direct_view() # set up a direct view"
     ],
     "language": "python",
     "metadata": {},
     "outputs": [],
     "prompt_number": 4
    },
    {
     "cell_type": "code",
     "collapsed": false,
     "input": [
      "%%px \n",
      "\n",
      "# run entire cell on all engines (set up a consistent environment)\n",
      "\n",
      "# import modules onto each engine\n",
      "import numpy as np\n",
      "import pandas as pd\n",
      "\n",
      "# load the dates onto each engine\n",
      "dates = pd.read_pickle('/Volumes/Users/Theo/projects/Budyko_vic/timecode.pcl')\n",
      "# load the fluxes columns onto each engine\n"
     ],
     "language": "python",
     "metadata": {},
     "outputs": [],
     "prompt_number": 5
    },
    {
     "cell_type": "code",
     "collapsed": false,
     "input": [
      "# import global modules\n",
      "\n",
      "import pandas as pd\n",
      "import numpy as np\n",
      "import glob\n",
      "\n",
      "dates = pd.read_pickle('./timecode.pcl')\n",
      "wyears = np.load('./wyears.npy')"
     ],
     "language": "python",
     "metadata": {},
     "outputs": [],
     "prompt_number": 6
    },
    {
     "cell_type": "code",
     "collapsed": false,
     "input": [
      "# write a function to do the SWE work based on a single ascii file for each grid cell:\n",
      "\n",
      "def swemetrics(fl):\n",
      "    \n",
      "    lat = float(fl.split('_')[-2]) # extract latitude from file name\n",
      "    lon = float(fl.split('_')[-1]) # extract longitude from file name\n",
      "    \n",
      "    fluxes_columns = ['y','m','d','ET','R','BF','sm1','sm2','sm3','SWE','Cs','Qs','Ql','Qg','NR','PEText','PETtrc','PETsrc']\n",
      "    dates = pd.read_pickle('/Volumes/Users/Theo/projects/Budyko_vic/timecode.pcl')\n",
      "    wyears = np.load('/Volumes/Users/Theo/projects/Budyko_vic/wyears.npy')\n",
      "    \n",
      "    dat = pd.read_table(fl, sep='\\t', names=fluxes_columns)\n",
      "    dat.index = pd.DatetimeIndex(dates)\n",
      "    del dates\n",
      "    \n",
      "    # preallocations\n",
      "    peakswe = [] # peak swe\n",
      "    ablslope = [] # ablation slope\n",
      "    ablseason = [] # ablation season length\n",
      "    dopeakswe = [] # day of water year peak swe\n",
      "    dosnowfree = [] # day of water year snow free\n",
      "    peakET = [] # peak ET\n",
      "    dopeakET = [] # day of water year peak ET\n",
      "\n",
      "    for wy in wyears:\n",
      "        strt = str(wy-1)+'-10-01'\n",
      "        nd = str(wy)+'-09-30'\n",
      "\n",
      "        data = dat[strt:nd] # subset out each water year\n",
      "\n",
      "        wystart = data.index.min() # datetime for start of the water year\n",
      "        dopkswe = data.SWE.idxmax() # datetime for the first date of peak swe\n",
      "        dons = data[dopkswe:nd].SWE.idxmin() # datetime for the first snow free day after peak SWE.\n",
      "\n",
      "        peakswe.append(data.SWE.max()) # pull max swe for each water year\n",
      "        dopeakswe.append((dopkswe-wystart).days) # pull day of water year for date of max swe\n",
      "        dosnowfree.append((dons-wystart).days) # pull day of water year for date of day of snow free\n",
      "\n",
      "        ablseason.append((dons-dopkswe).days) # compute and store the length of the ablation season\n",
      "        ablslope.append(data.SWE.max()/float((dons-dopkswe).days)) # compute and store the ablation slope\n",
      "\n",
      "        peakET.append(data.ET.max()) # grab the peak ET amount\n",
      "        dopeakET.append((data.ET.idxmax()-wystart).days) # compute the day of water year for peak ET\n",
      "    \n",
      "    del fluxes_columns\n",
      "    del wyears\n",
      "    \n",
      "    meanpeakswe = np.mean(peakswe)\n",
      "    meanablslope = np.mean(ablslope)\n",
      "    meanablseason = np.mean(ablseason)\n",
      "    meandopeakswe = np.mean(dopeakswe)\n",
      "    meandosnowfree = np.mean(dosnowfree)\n",
      "    meanpeaket = np.mean(peakET)\n",
      "    meandopeaket = np.mean(dopeakET)\n",
      "    \n",
      "    del peakswe\n",
      "    del ablslope\n",
      "    del ablseason\n",
      "    del dopeakswe\n",
      "    del dosnowfree\n",
      "    del peakET\n",
      "    del dopeakET\n",
      "    \n",
      "    return lat,lon,meanpeakswe,meanablslope,meanablseason,meandopeakswe,meandosnowfree,meanpeaket,meandopeaket\n",
      "    #return lat,lon"
     ],
     "language": "python",
     "metadata": {},
     "outputs": [],
     "prompt_number": 7
    },
    {
     "cell_type": "markdown",
     "metadata": {},
     "source": [
      "### Function Output format\n",
      "\n",
      "1. latitude\n",
      "1. longitude\n",
      "1. average peak swe [mm]\n",
      "1. average ablation slope [mm/d]\n",
      "1. average ablation season length [d]\n",
      "1. average date of peak swe [d] - day of water year\n",
      "1. average date of snow free [d] - day of water year\n",
      "1. average peak ET [mm]\n",
      "1. average date of peak ET [d] - day of water year"
     ]
    },
    {
     "cell_type": "code",
     "collapsed": false,
     "input": [
      "# find all the fluxes files\n",
      "files = pd.read_pickle('./forcing_fluxes_filenames.dataframe')\n",
      "actual_fluxes = files.loc[files['exists']==True,'flux']"
     ],
     "language": "python",
     "metadata": {},
     "outputs": [],
     "prompt_number": 8
    },
    {
     "cell_type": "code",
     "collapsed": false,
     "input": [
      "res = view.map(swemetrics,actual_fluxes)"
     ],
     "language": "python",
     "metadata": {},
     "outputs": [],
     "prompt_number": 9
    },
    {
     "cell_type": "code",
     "collapsed": false,
     "input": [
      "lat,lon,meanpeakswe,meanablslope,meanablseason,meandopeakswe,meandosnowfree,meanpeaket,meandopeaket = zip(*res)"
     ],
     "language": "python",
     "metadata": {},
     "outputs": [],
     "prompt_number": 10
    },
    {
     "cell_type": "code",
     "collapsed": false,
     "input": [
      "lat = np.array(lat)\n",
      "lon = np.array(lon)\n",
      "meanpeakswe = np.array(meanpeakswe)\n",
      "meanablslope = np.array(meanablslope)\n",
      "meanablseason = np.array(meanablseason)\n",
      "meandopeakswe = np.array(meandopeakswe)\n",
      "meandosnowfree = np.array(meandosnowfree)\n",
      "meanpeaket = np.array(meanpeaket)\n",
      "meandopeaket = np.array(meandopeaket)"
     ],
     "language": "python",
     "metadata": {},
     "outputs": [],
     "prompt_number": 11
    },
    {
     "cell_type": "code",
     "collapsed": false,
     "input": [
      "np.savez_compressed('./budyko_swe_data.npz',\n",
      "                    lat = lat,\n",
      "                    lon = lon,\n",
      "                    meanpeakswe = meanpeakswe,\n",
      "                    meanablslope = meanablslope,\n",
      "                    meanablseason = meanablseason,\n",
      "                    meandopeakswe = meandopeakswe,\n",
      "                    meandosnowfree = meandosnowfree,\n",
      "                    meanpeaket = meanpeaket,\n",
      "                    meandopeaket = meandopeaket)"
     ],
     "language": "python",
     "metadata": {},
     "outputs": [],
     "prompt_number": 13
    },
    {
     "cell_type": "code",
     "collapsed": false,
     "input": [],
     "language": "python",
     "metadata": {},
     "outputs": []
    }
   ],
   "metadata": {}
  }
 ]
}