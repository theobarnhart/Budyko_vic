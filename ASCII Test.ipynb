{
 "metadata": {
  "name": "",
  "signature": "sha256:212a3ee581652f17e8602dc4ce7523cdd7756b69bee67cbf7e912560e5c4fa31"
 },
 "nbformat": 3,
 "nbformat_minor": 0,
 "worksheets": [
  {
   "cells": [
    {
     "cell_type": "markdown",
     "metadata": {},
     "source": [
      "# Code to test processing a lot of VIC ASCII data"
     ]
    },
    {
     "cell_type": "code",
     "collapsed": false,
     "input": [
      "import pandas as pd\n",
      "import numpy as np\n",
      "import matplotlib.pyplot as plt\n",
      "import glob\n",
      "import sys\n",
      "from IPython.display import display, clear_output\n",
      "%matplotlib inline"
     ],
     "language": "python",
     "metadata": {},
     "outputs": [],
     "prompt_number": 1
    },
    {
     "cell_type": "code",
     "collapsed": false,
     "input": [
      "# load the timecode for all files\n",
      "dates = pd.read_pickle('./timecode.pcl')"
     ],
     "language": "python",
     "metadata": {},
     "outputs": [],
     "prompt_number": 2
    },
    {
     "cell_type": "markdown",
     "metadata": {},
     "source": [
      "def dtparse(y,m,d):\n",
      "    return pd.datetime.strptime(str(y)+'-'+str(m)+'-'+str(d),'%Y-%m-%d')\n",
      "    "
     ]
    },
    {
     "cell_type": "code",
     "collapsed": false,
     "input": [
      "# grab all the fluxes cells\n",
      "pth = '/Users/barnhatb/research/vic/fluxes/ascii/'\n",
      "\n",
      "fluxes = glob.glob(pth+'/*/flux_*')"
     ],
     "language": "python",
     "metadata": {},
     "outputs": [],
     "prompt_number": 20
    },
    {
     "cell_type": "code",
     "collapsed": false,
     "input": [
      "fx = fluxes[0]\n",
      "fr = forcing[0]"
     ],
     "language": "python",
     "metadata": {},
     "outputs": [],
     "prompt_number": 22
    },
    {
     "cell_type": "code",
     "collapsed": false,
     "input": [
      "# grab the lat and lon from the flux file\n",
      "fxlat = float(fx.split('_')[-2])\n",
      "fxlon = float(fx.split('_')[-1])\n",
      "\n",
      "\n",
      "\n",
      "# grab the lat and lon from the forcing file\n",
      "frlat = float(fr.split('_')[-2])\n",
      "frlon = float(fr.split('_')[-1])"
     ],
     "language": "python",
     "metadata": {},
     "outputs": [],
     "prompt_number": 41
    },
    {
     "cell_type": "code",
     "collapsed": false,
     "input": [
      "print 'Latitudes'\n",
      "print fxlat\n",
      "print frlat"
     ],
     "language": "python",
     "metadata": {},
     "outputs": [
      {
       "output_type": "stream",
       "stream": "stdout",
       "text": [
        "Latitudes\n",
        "19.03125\n",
        "14.65625\n"
       ]
      }
     ],
     "prompt_number": 43
    },
    {
     "cell_type": "code",
     "collapsed": false,
     "input": [
      "fl"
     ],
     "language": "python",
     "metadata": {},
     "outputs": [
      {
       "metadata": {},
       "output_type": "pyout",
       "prompt_number": 5,
       "text": [
        "'/Users/barnhatb/research/vic/forcing/ascii/latitude.14.65625/Meteorology_Livneh_NAmerExt_15Oct2014_14.65625_-92.21875'"
       ]
      }
     ],
     "prompt_number": 5
    },
    {
     "cell_type": "code",
     "collapsed": false,
     "input": [
      "fluxes_columns = ['y','m','d','ET','R','BF','sm1','sm2','sm3','SWE','Cs','Qs','Ql','Qg','NR','PEText','PETtrc','PETsrc']"
     ],
     "language": "python",
     "metadata": {},
     "outputs": [],
     "prompt_number": 44
    },
    {
     "cell_type": "markdown",
     "metadata": {},
     "source": [
      "## Fluxes Files Header:\n",
      "\n",
      "- y : Year\n",
      "- m : month\n",
      "- d : day\n",
      "- ET : Total ET [mm]\n",
      "- R : Runoff [mm]\n",
      "- BF : Baseflow [mm]\n",
      "- sm1 : Soil Moisture Level 1 [mm]\n",
      "- sm2 : Soil Moisture Level 2 [mm]\n",
      "- sm3 : Soil Moisture Level 3 [mm]\n",
      "- SWE : Snow Water Equivalent [mm]\n",
      "- Cs : Canopy Storage [mm]\n",
      "- Qs : Sensible Heat Flux [W/m$^2$]\n",
      "- Ql : Latent Heat Flux [W/m$^2$]\n",
      "- Qg : Ground Heat Flux [W/m$^2$]\n",
      "- NR : Net Radiation [W/m$^2$] \n",
      "- PEText : PET for existing vegetation [mm]\n",
      "- PETtrc : PET for tall reference crop [mm]\n",
      "- PETsrc : PET for short reference crop [mm]"
     ]
    },
    {
     "cell_type": "code",
     "collapsed": false,
     "input": [
      "forcing_columns = ['P','Tmax','Tmin','W']"
     ],
     "language": "python",
     "metadata": {},
     "outputs": [],
     "prompt_number": 13
    },
    {
     "cell_type": "markdown",
     "metadata": {},
     "source": [
      "## Forcing Files Header:\n",
      "\n",
      "- P : Precipitation [mm]\n",
      "- Tmax : Maximum Daily Temperature [C]\n",
      "- Tmin : Minimum Daily Temperature [C]\n",
      "- W : Wind Speed [m/s]"
     ]
    },
    {
     "cell_type": "code",
     "collapsed": false,
     "input": [
      "flux = pd.read_table(fx, sep='\\t', names=fluxes_columns, parse_dates={'date':[0,1,2]}, date_parser=dtparse)\n",
      "flux.index = pd.DatetimeIndex(flux.date)"
     ],
     "language": "python",
     "metadata": {},
     "outputs": [],
     "prompt_number": 66
    },
    {
     "cell_type": "code",
     "collapsed": false,
     "input": [
      "flux.head()"
     ],
     "language": "python",
     "metadata": {},
     "outputs": [
      {
       "html": [
        "<div style=\"max-height:1000px;max-width:1500px;overflow:auto;\">\n",
        "<table border=\"1\" class=\"dataframe\">\n",
        "  <thead>\n",
        "    <tr style=\"text-align: right;\">\n",
        "      <th></th>\n",
        "      <th>ET</th>\n",
        "      <th>R</th>\n",
        "      <th>BF</th>\n",
        "      <th>sm1</th>\n",
        "      <th>sm2</th>\n",
        "      <th>sm3</th>\n",
        "      <th>SWE</th>\n",
        "      <th>Cs</th>\n",
        "      <th>Qs</th>\n",
        "      <th>Ql</th>\n",
        "      <th>Qg</th>\n",
        "      <th>NR</th>\n",
        "      <th>PEText</th>\n",
        "      <th>PETtrc</th>\n",
        "      <th>PETsrc</th>\n",
        "    </tr>\n",
        "  </thead>\n",
        "  <tbody>\n",
        "    <tr>\n",
        "      <th>1950-01-01</th>\n",
        "      <td> 1.767845</td>\n",
        "      <td> 0.208577</td>\n",
        "      <td> 1.147465</td>\n",
        "      <td> 18.9509</td>\n",
        "      <td> 53.5694</td>\n",
        "      <td> 177.3992</td>\n",
        "      <td>  2.6506</td>\n",
        "      <td> 0.106</td>\n",
        "      <td>-61.1291</td>\n",
        "      <td> 22.3973</td>\n",
        "      <td>-6.5929</td>\n",
        "      <td>-14.8063</td>\n",
        "      <td> 2.09</td>\n",
        "      <td> 2.395756</td>\n",
        "      <td> 0.1592</td>\n",
        "    </tr>\n",
        "    <tr>\n",
        "      <th>1950-01-02</th>\n",
        "      <td> 0.857871</td>\n",
        "      <td> 0.231781</td>\n",
        "      <td> 1.131018</td>\n",
        "      <td> 20.0843</td>\n",
        "      <td> 53.5946</td>\n",
        "      <td> 176.2707</td>\n",
        "      <td>  5.9758</td>\n",
        "      <td> 0.000</td>\n",
        "      <td>-35.3601</td>\n",
        "      <td> 10.4271</td>\n",
        "      <td>-6.2781</td>\n",
        "      <td>-15.7018</td>\n",
        "      <td> 2.01</td>\n",
        "      <td> 2.190061</td>\n",
        "      <td> 0.1624</td>\n",
        "    </tr>\n",
        "    <tr>\n",
        "      <th>1950-01-03</th>\n",
        "      <td> 0.183808</td>\n",
        "      <td> 0.548120</td>\n",
        "      <td> 1.115253</td>\n",
        "      <td> 22.5475</td>\n",
        "      <td> 53.8196</td>\n",
        "      <td> 175.1567</td>\n",
        "      <td>  8.6684</td>\n",
        "      <td> 0.106</td>\n",
        "      <td>-10.6806</td>\n",
        "      <td>  5.6724</td>\n",
        "      <td>-4.9060</td>\n",
        "      <td> -6.0085</td>\n",
        "      <td> 2.29</td>\n",
        "      <td> 2.361599</td>\n",
        "      <td> 0.1697</td>\n",
        "    </tr>\n",
        "    <tr>\n",
        "      <th>1950-01-04</th>\n",
        "      <td> 0.519149</td>\n",
        "      <td> 0.431417</td>\n",
        "      <td> 1.099696</td>\n",
        "      <td> 23.7622</td>\n",
        "      <td> 54.5591</td>\n",
        "      <td> 174.0589</td>\n",
        "      <td> 11.6118</td>\n",
        "      <td> 0.106</td>\n",
        "      <td>-26.0038</td>\n",
        "      <td> 10.0879</td>\n",
        "      <td>-3.3615</td>\n",
        "      <td>-11.4630</td>\n",
        "      <td> 2.25</td>\n",
        "      <td> 2.378340</td>\n",
        "      <td> 0.1752</td>\n",
        "    </tr>\n",
        "    <tr>\n",
        "      <th>1950-01-05</th>\n",
        "      <td> 0.362789</td>\n",
        "      <td> 0.308445</td>\n",
        "      <td> 1.083406</td>\n",
        "      <td> 24.3986</td>\n",
        "      <td> 55.3016</td>\n",
        "      <td> 172.7982</td>\n",
        "      <td>  9.8449</td>\n",
        "      <td> 0.000</td>\n",
        "      <td>  5.6782</td>\n",
        "      <td> 11.5636</td>\n",
        "      <td>-1.8251</td>\n",
        "      <td> 28.2488</td>\n",
        "      <td> 2.69</td>\n",
        "      <td> 2.742714</td>\n",
        "      <td> 0.1790</td>\n",
        "    </tr>\n",
        "  </tbody>\n",
        "</table>\n",
        "</div>"
       ],
       "metadata": {},
       "output_type": "pyout",
       "prompt_number": 60,
       "text": [
        "                  ET         R        BF      sm1      sm2       sm3      SWE  \\\n",
        "1950-01-01  1.767845  0.208577  1.147465  18.9509  53.5694  177.3992   2.6506   \n",
        "1950-01-02  0.857871  0.231781  1.131018  20.0843  53.5946  176.2707   5.9758   \n",
        "1950-01-03  0.183808  0.548120  1.115253  22.5475  53.8196  175.1567   8.6684   \n",
        "1950-01-04  0.519149  0.431417  1.099696  23.7622  54.5591  174.0589  11.6118   \n",
        "1950-01-05  0.362789  0.308445  1.083406  24.3986  55.3016  172.7982   9.8449   \n",
        "\n",
        "               Cs       Qs       Ql      Qg       NR  PEText    PETtrc  PETsrc  \n",
        "1950-01-01  0.106 -61.1291  22.3973 -6.5929 -14.8063    2.09  2.395756  0.1592  \n",
        "1950-01-02  0.000 -35.3601  10.4271 -6.2781 -15.7018    2.01  2.190061  0.1624  \n",
        "1950-01-03  0.106 -10.6806   5.6724 -4.9060  -6.0085    2.29  2.361599  0.1697  \n",
        "1950-01-04  0.106 -26.0038  10.0879 -3.3615 -11.4630    2.25  2.378340  0.1752  \n",
        "1950-01-05  0.000   5.6782  11.5636 -1.8251  28.2488    2.69  2.742714  0.1790  "
       ]
      }
     ],
     "prompt_number": 60
    },
    {
     "cell_type": "code",
     "collapsed": false,
     "input": [
      "force = pd.read_table(fr, sep=' ', names=forcing_columns)\n",
      "force.index = flux.index\n",
      "force.head()"
     ],
     "language": "python",
     "metadata": {},
     "outputs": [
      {
       "html": [
        "<div style=\"max-height:1000px;max-width:1500px;overflow:auto;\">\n",
        "<table border=\"1\" class=\"dataframe\">\n",
        "  <thead>\n",
        "    <tr style=\"text-align: right;\">\n",
        "      <th></th>\n",
        "      <th>P</th>\n",
        "      <th>Tmax</th>\n",
        "      <th>Tmin</th>\n",
        "      <th>W</th>\n",
        "    </tr>\n",
        "  </thead>\n",
        "  <tbody>\n",
        "    <tr>\n",
        "      <th>1950-01-01</th>\n",
        "      <td> 0</td>\n",
        "      <td> 33.77</td>\n",
        "      <td> 17.51</td>\n",
        "      <td> 5.24</td>\n",
        "    </tr>\n",
        "    <tr>\n",
        "      <th>1950-01-02</th>\n",
        "      <td> 0</td>\n",
        "      <td> 34.14</td>\n",
        "      <td> 17.95</td>\n",
        "      <td> 3.95</td>\n",
        "    </tr>\n",
        "    <tr>\n",
        "      <th>1950-01-03</th>\n",
        "      <td> 0</td>\n",
        "      <td> 34.36</td>\n",
        "      <td> 18.51</td>\n",
        "      <td> 3.26</td>\n",
        "    </tr>\n",
        "    <tr>\n",
        "      <th>1950-01-04</th>\n",
        "      <td> 0</td>\n",
        "      <td> 34.40</td>\n",
        "      <td> 19.75</td>\n",
        "      <td> 1.30</td>\n",
        "    </tr>\n",
        "    <tr>\n",
        "      <th>1950-01-05</th>\n",
        "      <td> 0</td>\n",
        "      <td> 34.03</td>\n",
        "      <td> 19.45</td>\n",
        "      <td> 1.40</td>\n",
        "    </tr>\n",
        "  </tbody>\n",
        "</table>\n",
        "</div>"
       ],
       "metadata": {},
       "output_type": "pyout",
       "prompt_number": 73,
       "text": [
        "            P   Tmax   Tmin     W\n",
        "1950-01-01  0  33.77  17.51  5.24\n",
        "1950-01-02  0  34.14  17.95  3.95\n",
        "1950-01-03  0  34.36  18.51  3.26\n",
        "1950-01-04  0  34.40  19.75  1.30\n",
        "1950-01-05  0  34.03  19.45  1.40"
       ]
      }
     ],
     "prompt_number": 73
    },
    {
     "cell_type": "code",
     "collapsed": false,
     "input": [
      "# grab all the forcing cells\n",
      "pth = '/Users/barnhatb/research/vic/forcing/ascii/'\n",
      "\n",
      "forcing = glob.glob(pth+'/*/Meteorology_*')\n",
      "\n",
      "# preallocate lat and lon lists\n",
      "lat = []\n",
      "lon = []\n",
      "\n",
      "for fr in forcing:\n",
      "    #print fr\n",
      "    lat.append(float(fr.split('_')[-2]))\n",
      "    lon.append(float(fr.split('_')[-1]))\n",
      "    #clear_output()"
     ],
     "language": "python",
     "metadata": {},
     "outputs": [],
     "prompt_number": 4
    },
    {
     "cell_type": "code",
     "collapsed": false,
     "input": [
      "len(lat)"
     ],
     "language": "python",
     "metadata": {},
     "outputs": [
      {
       "metadata": {},
       "output_type": "pyout",
       "prompt_number": 5,
       "text": [
        "333579"
       ]
      }
     ],
     "prompt_number": 5
    },
    {
     "cell_type": "code",
     "collapsed": false,
     "input": [
      "len(lon)"
     ],
     "language": "python",
     "metadata": {},
     "outputs": [
      {
       "metadata": {},
       "output_type": "pyout",
       "prompt_number": 6,
       "text": [
        "333579"
       ]
      }
     ],
     "prompt_number": 6
    },
    {
     "cell_type": "code",
     "collapsed": false,
     "input": [
      "lat = np.array(lat)"
     ],
     "language": "python",
     "metadata": {},
     "outputs": [],
     "prompt_number": 7
    },
    {
     "cell_type": "code",
     "collapsed": false,
     "input": [
      "lon = np.array(lon)"
     ],
     "language": "python",
     "metadata": {},
     "outputs": [],
     "prompt_number": 8
    },
    {
     "cell_type": "code",
     "collapsed": false,
     "input": [
      "lat"
     ],
     "language": "python",
     "metadata": {},
     "outputs": [
      {
       "metadata": {},
       "output_type": "pyout",
       "prompt_number": 9,
       "text": [
        "array([ 14.65625,  14.65625,  14.71875, ...,  52.96875,  52.96875,\n",
        "        52.96875])"
       ]
      }
     ],
     "prompt_number": 9
    },
    {
     "cell_type": "code",
     "collapsed": false,
     "input": [
      "lon"
     ],
     "language": "python",
     "metadata": {},
     "outputs": [
      {
       "metadata": {},
       "output_type": "pyout",
       "prompt_number": 10,
       "text": [
        "array([-92.21875, -92.28125, -92.21875, ..., -99.71875, -99.78125,\n",
        "       -99.84375])"
       ]
      }
     ],
     "prompt_number": 10
    },
    {
     "cell_type": "code",
     "collapsed": false,
     "input": [
      "np.save('./longitudes.npy',lon)"
     ],
     "language": "python",
     "metadata": {},
     "outputs": [],
     "prompt_number": 12
    },
    {
     "cell_type": "code",
     "collapsed": false,
     "input": [
      "np.save('./latitudes.npy',lat)"
     ],
     "language": "python",
     "metadata": {},
     "outputs": [],
     "prompt_number": 13
    },
    {
     "cell_type": "code",
     "collapsed": false,
     "input": [],
     "language": "python",
     "metadata": {},
     "outputs": []
    },
    {
     "cell_type": "code",
     "collapsed": false,
     "input": [],
     "language": "python",
     "metadata": {},
     "outputs": []
    },
    {
     "cell_type": "code",
     "collapsed": false,
     "input": [
      "fr = forcing[0]"
     ],
     "language": "python",
     "metadata": {},
     "outputs": [],
     "prompt_number": 79
    },
    {
     "cell_type": "code",
     "collapsed": false,
     "input": [
      "fr"
     ],
     "language": "python",
     "metadata": {},
     "outputs": [
      {
       "metadata": {},
       "output_type": "pyout",
       "prompt_number": 80,
       "text": [
        "'/Users/barnhatb/research/vic/forcing/ascii/latitude.14.65625/Meteorology_Livneh_NAmerExt_15Oct2014_14.65625_-92.21875'"
       ]
      }
     ],
     "prompt_number": 80
    },
    {
     "cell_type": "code",
     "collapsed": false,
     "input": [
      "float(fr.split('_')[-2])"
     ],
     "language": "python",
     "metadata": {},
     "outputs": [
      {
       "metadata": {},
       "output_type": "pyout",
       "prompt_number": 81,
       "text": [
        "14.65625"
       ]
      }
     ],
     "prompt_number": 81
    },
    {
     "cell_type": "code",
     "collapsed": false,
     "input": [
      "float(fr.split('_')[-1])"
     ],
     "language": "python",
     "metadata": {},
     "outputs": [
      {
       "metadata": {},
       "output_type": "pyout",
       "prompt_number": 82,
       "text": [
        "-92.21875"
       ]
      }
     ],
     "prompt_number": 82
    },
    {
     "cell_type": "code",
     "collapsed": false,
     "input": [],
     "language": "python",
     "metadata": {},
     "outputs": []
    }
   ],
   "metadata": {}
  }
 ]
}