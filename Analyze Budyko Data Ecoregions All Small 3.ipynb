{
 "cells": [
  {
   "cell_type": "markdown",
   "metadata": {},
   "source": [
    "# Analysis of Budyko Data from VIC, Subsetted by Ecoregion\n",
    "\n",
    "### Theodore Barnhart | Created: 20150306 | Updated: 20150316\n",
    "\n",
    "Script to take the Budyko relevent data mined from Ben L.'s VIC simulations and plot it in Budyko space. \n",
    "\n",
    "### Foreword\n",
    "\n",
    "This notebook goes through some analyses of the Ben's VIC simulation with the goal of elucidating a process control on the streamflow anomaly pattern shown by Berghuijs and others. \n",
    "\n",
    "***Generally, figures are followed by a explanative caption.*** "
   ]
  },
  {
   "cell_type": "code",
   "execution_count": 2,
   "metadata": {
    "collapsed": false
   },
   "outputs": [],
   "source": [
    "## Front Matter\n",
    "import pandas as pd\n",
    "import matplotlib.pyplot as plt\n",
    "import numpy as np\n",
    "%matplotlib inline\n",
    "from scipy import stats\n",
    "import matplotlib as mpl\n",
    "#import seaborn as sns\n",
    "\n",
    "data = pd.read_hdf('./budyko_working_er_all.hdf','df')\n",
    "# define a function for computing the EI from a given DI\n",
    "def budyko(DI):\n",
    "    return np.sqrt(DI*np.tanh(1/DI)*(1-np.exp(-DI)))\n",
    "data['PETpenvic_P'] = data['PETpenmanvic']/data['P'] # compute the dryness index\n",
    "data['ET_P'] = data['ET']/data['P'] # compute the evaporative index\n",
    "DI = np.arange(0,50.001,0.001) # make a range to compute the budyko curve over\n",
    "EI = budyko(DI) # compute the Budyko Curve\n",
    "data['pred_EI'] = data['PETpenvic_P'].apply(budyko) # compute the predicted evaportative index for each cell given its aridity\n",
    "data['Q_P'] = 1.-data['ET_P'] # compute actual runoff for each cell \n",
    "data['Qpred_P'] = 1.-data['pred_EI'] # compute predicted runoff for each cell\n",
    "data['Qanom_P'] = data['Q_P']-data['Qpred_P'] # compute the anomoly (actual - predicted)\n",
    "data['Q'] = data.Q_P*data.P # compute Q not normalized by P\n",
    "data['Qanom'] = data.Qanom_P*data.P\n",
    "regions = ['Cascades','East Cascades','North Cascades','Sierra','Northern Rockies','Middle Rockies',\n",
    "           'Canadian Rockies','Idaho Batholith','Wasatch',\n",
    "           'Southern Rockies']\n",
    "\n",
    "regs = [1,2,3,4,6,7,8,9,12,13] # region codes\n",
    "regcs = [2,3,6,8,7,5,1,4,10,9] # \n",
    "\n",
    "xx = 'snowmelt'\n",
    "yy = 'Qanom_P'\n",
    "\n",
    "X = data[xx] # pull out the independant variable\n",
    "y = data[yy] # pull out the dependant variable\n",
    "\n",
    "slope, intercept, gr_value, gp_value, std_err = stats.linregress(X,y) # fit the model\n",
    "\n",
    "Sfg = np.arange(0,1.001,.001) # generate a smooth snow fraction domain\n",
    "\n",
    "modg = Sfg*slope+intercept # generate predicted values\n",
    "mods = []\n",
    "rvals = []\n",
    "pvals = []\n",
    "slopes = []\n",
    "intercepts = []\n",
    "Sfs = []\n",
    "\n",
    "for rc in regs:\n",
    "    X = data.loc[data.rc==rc,xx] # pull out the independant variable\n",
    "    y = data.loc[data.rc==rc,yy] # pull out the dependant variable\n",
    "    slope, intrccept, r_value, p_value, std_rcr = stats.linregress(X,y) # fit the model\n",
    "    Sf = np.arange(data.loc[data.rc==rc,xx].min(),data.loc[data.rc==rc,xx].max()+0.001,0.001)\n",
    "    mods.append(Sf*slope+intrccept) # genrcate predicted values\n",
    "    rvals.append(r_value)\n",
    "    pvals.append(p_value)\n",
    "    slopes.append(slope)\n",
    "    intercepts.append(intercept)\n",
    "    Sfs.append(Sf)\n",
    "names = []\n",
    "\n",
    "rsqrds = np.square(rvals)\n",
    "\n",
    "for er,p,r in zip(regions,pvals,rsqrds):\n",
    "    \n",
    "    names.append(er+':\\n p='+str(round(p,4))+', r$^2$='+str(round(r,3)))\n",
    "from palettable.colorbrewer.qualitative import Paired_10 as cbcust\n",
    "cbcust2 = []\n",
    "for rc in regcs:\n",
    "    cbcust2.append(cbcust.mpl_colors[rc-1])\n",
    "    "
   ]
  },
  {
   "cell_type": "code",
   "execution_count": 4,
   "metadata": {
    "collapsed": false
   },
   "outputs": [
    {
     "data": {
      "text/plain": [
       "[array([-0.06111827, -0.06109822, -0.06107818, ...,  0.57873646,\n",
       "         0.5787565 ,  0.57877655]),\n",
       " array([ 0.06363038,  0.06364092,  0.06365146, ...,  0.22076238,\n",
       "         0.22077292,  0.22078346]),\n",
       " array([ 0.12410814,  0.12411208,  0.12411602, ...,  0.25755299,\n",
       "         0.25755693,  0.25756087]),\n",
       " array([ 0.11474197,  0.11475778,  0.1147736 , ...,  0.30453155,\n",
       "         0.30454737,  0.30456318]),\n",
       " array([ 0.10029096,  0.10029357,  0.10029618, ...,  0.1407674 ,\n",
       "         0.14077001,  0.14077262]),\n",
       " array([-0.03542598, -0.03539165, -0.03535731, ...,  0.34752945,\n",
       "         0.34756379,  0.34759813]),\n",
       " array([ 0.05424529,  0.05426026,  0.05427524, ...,  0.22990283,\n",
       "         0.22991781,  0.22993278]),\n",
       " array([-0.01443099, -0.01440322, -0.01437546, ...,  0.30409415,\n",
       "         0.30412191,  0.30414967]),\n",
       " array([-0.01260028, -0.01257679, -0.01255331, ...,  0.19753449,\n",
       "         0.19755797,  0.19758146]),\n",
       " array([-0.06350278, -0.0634613 , -0.06341983, ...,  0.31093998,\n",
       "         0.31098145,  0.31102293])]"
      ]
     },
     "execution_count": 4,
     "metadata": {},
     "output_type": "execute_result"
    }
   ],
   "source": []
  },
  {
   "cell_type": "code",
   "execution_count": 5,
   "metadata": {
    "collapsed": false
   },
   "outputs": [
    {
     "data": {
      "text/plain": [
       "array([ 13.,   4.,  14.,  15.,  12.,   5.,  11.,   2.,   1.,   7.,   9.,\n",
       "        10.,   6.,   3.,   8.])"
      ]
     },
     "execution_count": 5,
     "metadata": {},
     "output_type": "execute_result"
    }
   ],
   "source": [
    "data.rc.unique()"
   ]
  },
  {
   "cell_type": "code",
   "execution_count": 27,
   "metadata": {
    "collapsed": false
   },
   "outputs": [
    {
     "data": {
      "text/plain": [
       "<matplotlib.colorbar.Colorbar at 0x125e9ebd0>"
      ]
     },
     "execution_count": 27,
     "metadata": {},
     "output_type": "execute_result"
    },
    {
     "data": {
      "image/png": "[encoded data removed]",
      "text/plain": [
       "<matplotlib.figure.Figure at 0x125c9a090>"
      ]
     },
     "metadata": {},
     "output_type": "display_data"
    }
   ],
   "source": [
    "rc = 16\n",
    "plt.scatter(data.frlon,data.frlat,s=10,c='none',edgecolors='0.8')\n",
    "plt.scatter(data.loc[data.rc==rc].frlon,data.loc[data.rc==rc].frlat,s=10,c=data.loc[data.rc==rc].rc,edgecolors='none')\n",
    "plt.colorbar()"
   ]
  },
  {
   "cell_type": "markdown",
   "metadata": {},
   "source": [
    "# Plots"
   ]
  },
  {
   "cell_type": "code",
   "execution_count": 2,
   "metadata": {
    "collapsed": false
   },
   "outputs": [
    {
     "ename": "NameError",
     "evalue": "name 'tmp' is not defined",
     "output_type": "error",
     "traceback": [
      "\u001b[0;31m---------------------------------------------------------------------------\u001b[0m",
      "\u001b[0;31mNameError\u001b[0m                                 Traceback (most recent call last)",
      "\u001b[0;32m<ipython-input-2-e4e666db58f0>\u001b[0m in \u001b[0;36m<module>\u001b[0;34m()\u001b[0m\n\u001b[1;32m      4\u001b[0m \u001b[0max\u001b[0m \u001b[0;34m=\u001b[0m \u001b[0mplt\u001b[0m\u001b[0;34m.\u001b[0m\u001b[0msubplot2grid\u001b[0m\u001b[0;34m(\u001b[0m\u001b[0;34m(\u001b[0m\u001b[0;36m1\u001b[0m\u001b[0;34m,\u001b[0m\u001b[0;36m13\u001b[0m\u001b[0;34m)\u001b[0m\u001b[0;34m,\u001b[0m\u001b[0;34m(\u001b[0m\u001b[0;36m0\u001b[0m\u001b[0;34m,\u001b[0m\u001b[0;36m0\u001b[0m\u001b[0;34m)\u001b[0m\u001b[0;34m,\u001b[0m \u001b[0mcolspan\u001b[0m \u001b[0;34m=\u001b[0m \u001b[0;36m7\u001b[0m\u001b[0;34m)\u001b[0m\u001b[0;34m\u001b[0m\u001b[0m\n\u001b[1;32m      5\u001b[0m \u001b[0;31m#ax.hexbin(data.PETpenvic_P,data.ET_P, gridsize=1)\u001b[0m\u001b[0;34m\u001b[0m\u001b[0;34m\u001b[0m\u001b[0m\n\u001b[0;32m----> 6\u001b[0;31m \u001b[0max\u001b[0m\u001b[0;34m.\u001b[0m\u001b[0mscatter\u001b[0m\u001b[0;34m(\u001b[0m\u001b[0mdata\u001b[0m\u001b[0;34m.\u001b[0m\u001b[0mPETpenvic_P\u001b[0m\u001b[0;34m,\u001b[0m\u001b[0mdata\u001b[0m\u001b[0;34m.\u001b[0m\u001b[0mET_P\u001b[0m\u001b[0;34m,\u001b[0m\u001b[0ms\u001b[0m \u001b[0;34m=\u001b[0m \u001b[0;36m10\u001b[0m\u001b[0;34m,\u001b[0m\u001b[0mc\u001b[0m\u001b[0;34m=\u001b[0m\u001b[0mdata\u001b[0m\u001b[0;34m.\u001b[0m\u001b[0mrc\u001b[0m\u001b[0;34m,\u001b[0m \u001b[0malpha\u001b[0m\u001b[0;34m=\u001b[0m\u001b[0;36m0.3\u001b[0m\u001b[0;34m,\u001b[0m \u001b[0medgecolor\u001b[0m\u001b[0;34m=\u001b[0m\u001b[0;34m'none'\u001b[0m\u001b[0;34m,\u001b[0m \u001b[0mcmap\u001b[0m\u001b[0;34m=\u001b[0m\u001b[0mmpl\u001b[0m\u001b[0;34m.\u001b[0m\u001b[0mcolors\u001b[0m\u001b[0;34m.\u001b[0m\u001b[0mListedColormap\u001b[0m\u001b[0;34m(\u001b[0m\u001b[0mtmp\u001b[0m\u001b[0;34m)\u001b[0m\u001b[0;34m)\u001b[0m\u001b[0;34m\u001b[0m\u001b[0m\n\u001b[0m\u001b[1;32m      7\u001b[0m \u001b[0max\u001b[0m\u001b[0;34m.\u001b[0m\u001b[0mplot\u001b[0m\u001b[0;34m(\u001b[0m\u001b[0mDI\u001b[0m\u001b[0;34m,\u001b[0m\u001b[0mEI\u001b[0m\u001b[0;34m,\u001b[0m\u001b[0;34m'-r'\u001b[0m\u001b[0;34m,\u001b[0m \u001b[0mlw\u001b[0m\u001b[0;34m=\u001b[0m\u001b[0;36m4\u001b[0m\u001b[0;34m)\u001b[0m\u001b[0;34m\u001b[0m\u001b[0m\n\u001b[1;32m      8\u001b[0m \u001b[0max\u001b[0m\u001b[0;34m.\u001b[0m\u001b[0mset_ylabel\u001b[0m\u001b[0;34m(\u001b[0m\u001b[0;34m'Evaporative Index \\n ET/P [1]'\u001b[0m\u001b[0;34m,\u001b[0m\u001b[0mfontsize\u001b[0m\u001b[0;34m=\u001b[0m\u001b[0;36m16\u001b[0m\u001b[0;34m)\u001b[0m\u001b[0;34m\u001b[0m\u001b[0m\n",
      "\u001b[0;31mNameError\u001b[0m: name 'tmp' is not defined"
     ]
    },
    {
     "data": {
      "image/png": "[encoded data removed]",
      "text/plain": [
       "<matplotlib.figure.Figure at 0x10d0b1590>"
      ]
     },
     "metadata": {},
     "output_type": "display_data"
    }
   ],
   "source": [
    "bgcolor = '0.35'\n",
    "\n",
    "fig = plt.figure(figsize=(16, 6))\n",
    "ax = plt.subplot2grid((1,13),(0,0), colspan = 7)\n",
    "#ax.hexbin(data.PETpenvic_P,data.ET_P, gridsize=1)\n",
    "ax.scatter(data.PETpenvic_P,data.ET_P,s = 10,c=data.rc, alpha=0.3, edgecolor='none', cmap=mpl.colors.ListedColormap(tmp))\n",
    "ax.plot(DI,EI,'-r', lw=4)\n",
    "ax.set_ylabel('Evaporative Index \\n ET/P [1]',fontsize=16)\n",
    "ax.set_xlabel('Dryness Index \\n PET/P [1]', fontsize=16)\n",
    "ax.axhline(1,c='w')\n",
    "ax.axvline(1,c='w')\n",
    "#ax.set_ylim(-0.2,1.2);\n",
    "ax.set_xlim(0,5);\n",
    "ax.set_ylim(0,1.2);\n",
    "ax.set_axis_bgcolor(bgcolor)\n",
    "#ax.axis('equal')\n",
    "#ax.legend(['VIC Data','Budyko, 1974'], loc = 'lower right');\n",
    "ax.annotate('a',[0.1,1.1], fontsize = 16, fontweight = 'bold', color='w');\n",
    "\n",
    "ax2 = plt.subplot2grid((1,13),(0,8), colspan = 7)\n",
    "#ax2.set_color_cycle(Set3_11.mpl_colors)\n",
    "p1 = ax2.scatter(data.Sf,data.Qanom_P,s = 10, c = data.rc, alpha = 0.3, edgecolor = 'none', cmap=mpl.colors.ListedColormap(tmp));\n",
    "cb=plt.colorbar(p1)\n",
    "ct = 0\n",
    "for Sf,mod in zip(Sfs,mods):\n",
    "    ax2.plot(Sf,mod,'-', lw = 6, color = 'k')\n",
    "    ax2.plot(Sf,mod,'-', lw = 4, color = tmp[ct])\n",
    "    ct += 1\n",
    "p2 = ax2.plot(Sfg,modg,'--w', lw = 5)\n",
    "ax2.set_xlabel('Snowfall Fraction \\n Sf [1]', fontsize = 16);\n",
    "ax2.set_ylabel('Streamflow Anomoly \\n (actual - predicted Q)/P', fontsize=16)\n",
    "ax2.annotate('b',[0.05,0.35], fontsize = 16, fontweight = 'bold',color='w');\n",
    "ax2.set_axis_bgcolor(bgcolor)\n",
    "ax2.axhline(0,c='w',lw=1)\n",
    "ax2.set_xlim(0,1)\n",
    "ax2.set_ylim(-.2,0.4)\n",
    "#cb.set_label('Ecoregion')\n",
    "cb.set_ticks(np.arange(1,16))\n",
    "cb.set_ticklabels(names)\n",
    "cb.set_alpha(1)\n",
    "cb.draw_all()\n",
    "\n",
    "leg = ax2.legend(p2,['Global Relationship: \\n p='+str(round(gp_value,3))+', r$^2$='+str(round(gr_value**2,3))])\n",
    "frame = leg.get_frame()\n",
    "frame.set_facecolor(bgcolor)\n",
    "frame.set_edgecolor('w')\n",
    "text = leg.get_texts()\n",
    "text[0].set_color('w')\n",
    "\n",
    "for l in cb.ax.yaxis.get_ticklabels():\n",
    "    l.set_fontsize(14)\n",
    "    \n",
    "for ax, color in zip([ax, ax2], ['w', 'w']):\n",
    "    plt.setp(ax.spines.values(), color=color)\n",
    "    plt.setp([ax.get_xticklines(), ax.get_yticklines()], color=color)\n",
    "\n",
    "#plt.savefig('./figures/fig1_reproduction_er_small.jpg')\n",
    "\n",
    "#print 'r2 =',round(r_value**2,3)\n",
    "#print 'p =',round(p_value,3)\n",
    "#print 'slope =',round(slope,3)"
   ]
  },
  {
   "cell_type": "markdown",
   "metadata": {},
   "source": [
    "***Figure 1 from Berghuijs et al.*** There is clear structure in A which cooresponds to different ecoregions. B shows the same relationship between Qanom and Sf as in Berghuijs et al."
   ]
  },
  {
   "cell_type": "code",
   "execution_count": 3,
   "metadata": {
    "collapsed": false
   },
   "outputs": [
    {
     "data": {
      "text/plain": [
       "[0.02004306244446424,\n",
       " 0.010539406155338125,\n",
       " 0.0039393313947208471,\n",
       " 0.015813163179371037,\n",
       " 0.0026093629443274201,\n",
       " 0.034336540483281996,\n",
       " 0.014972514841080203,\n",
       " 0.027763020684722254,\n",
       " 0.02348399295950002,\n",
       " 0.041475715206836475]"
      ]
     },
     "execution_count": 3,
     "metadata": {},
     "output_type": "execute_result"
    }
   ],
   "source": [
    "slopes"
   ]
  },
  {
   "cell_type": "code",
   "execution_count": 4,
   "metadata": {
    "collapsed": false
   },
   "outputs": [],
   "source": [
    "slopes2 = np.copy(slopes)"
   ]
  },
  {
   "cell_type": "code",
   "execution_count": 5,
   "metadata": {
    "collapsed": false
   },
   "outputs": [],
   "source": [
    "slopes2 = sorted(slopes2)"
   ]
  },
  {
   "cell_type": "code",
   "execution_count": 6,
   "metadata": {
    "collapsed": false
   },
   "outputs": [
    {
     "data": {
      "text/plain": [
       "[0.0026093629443274201,\n",
       " 0.0039393313947208471,\n",
       " 0.010539406155338125,\n",
       " 0.014972514841080203,\n",
       " 0.015813163179371037,\n",
       " 0.02004306244446424,\n",
       " 0.02348399295950002,\n",
       " 0.027763020684722254,\n",
       " 0.034336540483281996,\n",
       " 0.041475715206836475]"
      ]
     },
     "execution_count": 6,
     "metadata": {},
     "output_type": "execute_result"
    }
   ],
   "source": [
    "slopes2"
   ]
  },
  {
   "cell_type": "code",
   "execution_count": 7,
   "metadata": {
    "collapsed": false
   },
   "outputs": [],
   "source": [
    "cbcust3 = np.copy(cbcust2)"
   ]
  },
  {
   "cell_type": "code",
   "execution_count": 8,
   "metadata": {
    "collapsed": true
   },
   "outputs": [],
   "source": [
    "#regions = ['2','3','1','4','9','7',\n",
    "#           '10','8','5',\n",
    "#           '6']\n",
    "regions = ['Cascades','East Cascades','North Cascades','Sierra','Northern Rockies','Middle Rockies',\n",
    "           'Canadian Rockies','Idaho Batholith','Wasatch',\n",
    "           'Southern Rockies']"
   ]
  },
  {
   "cell_type": "code",
   "execution_count": 9,
   "metadata": {
    "collapsed": false
   },
   "outputs": [],
   "source": [
    "cbcust3 = [x for (y,x) in sorted(zip(slopes,cbcust2))]\n",
    "Sfs2 = [x for (y,x) in sorted(zip(slopes,Sfs))]\n",
    "mods2 = [x for (y,x) in sorted(zip(slopes,mods))]\n",
    "regions2 = [x for (y,x) in sorted(zip(slopes,regions))]\n",
    "pvals2 = [x for (y,x) in sorted(zip(slopes,pvals))]\n",
    "rsqrds2 = [x for (y,x) in sorted(zip(slopes,rsqrds))]"
   ]
  },
  {
   "cell_type": "code",
   "execution_count": 10,
   "metadata": {
    "collapsed": false
   },
   "outputs": [],
   "source": [
    "names = []\n",
    "for er,p,r,s in zip(regions2,pvals2,rsqrds2,slopes2):\n",
    "    \n",
    "    names.append(er+':\\n slope='+str(round(s,3))+', r$^2$='+str(round(r,3)))"
   ]
  },
  {
   "cell_type": "code",
   "execution_count": 13,
   "metadata": {
    "collapsed": false
   },
   "outputs": [
    {
     "data": {
      "image/png": "[encoded data removed]",
      "text/plain": [
       "<matplotlib.figure.Figure at 0x114976050>"
      ]
     },
     "metadata": {},
     "output_type": "display_data"
    }
   ],
   "source": [
    "fig = plt.figure(figsize=(10,8))\n",
    "ax1 = fig.add_subplot(111)\n",
    "\n",
    "p1 = ax1.scatter(data[xx],data[yy],s = 0, c = data.rc, alpha = 0.3, edgecolor = 'none', cmap=mpl.colors.ListedColormap(cbcust3));\n",
    "cb=plt.colorbar(p1);\n",
    "ct = 0\n",
    "for Sf,mod in zip(Sfs2,mods2):\n",
    "    ax1.plot(Sf,mod,'-', lw = 6, color = 'k');\n",
    "    ax1.plot(Sf,mod,'-', lw = 4, color = cbcust3[ct]);\n",
    "    ct += 1\n",
    "ax1.set_xlabel('Snowmelt Rate [mm/d]', fontsize = 14,fontweight = 'bold');\n",
    "ax1.set_ylabel('Budyko Anomaly \\n (sim. - pred. Q)/P', fontsize=14,fontweight = 'bold');\n",
    "\n",
    "#ax1.set_axis_bgcolor('w');\n",
    "#ax1.axhline(y=-.2,c='k',lw=3);\n",
    "#ax1.axhline(y=.4,c='k',lw=3);\n",
    "#ax1.axvline(x=0,c='k',lw=3);\n",
    "#ax1.axvline(x=25,c='k',lw=3)\n",
    "ax1.axhline(0,c='k',lw=2);\n",
    "ax1.set_xlim(0,38);\n",
    "ax1.set_ylim(-.2,0.6);\n",
    "ax1.tick_params(width=2,length=5);\n",
    "\n",
    "cb.set_ticks(np.linspace(1.5,15.5,10,endpoint=False));\n",
    "cb.set_ticklabels(names);\n",
    "cb.set_alpha(1);\n",
    "cb.draw_all();\n",
    "\n",
    "#ax1.plot(Sfg,modg,'--k',lw=10)\n",
    "\n",
    "for l in cb.ax.yaxis.get_ticklabels():\n",
    "    l.set_fontsize(14);\n",
    "    l.set_fontweight('medium');\n",
    "    \n",
    "    plt.setp(ax1.get_xticklabels(),fontsize=14,fontweight ='medium');\n",
    "plt.setp(ax1.get_yticklabels(),fontsize=14, fontweight = 'medium');\n",
    "\n",
    "plt.savefig('./figures/small2_ecoregions_Qanom_netSnowmelt.png',bbox_inches='tight',dpi=300)\n",
    "plt.savefig('./figures/small2_ecoregions_Qanom_netSnowmelt.pdf',bbox_inches='tight')"
   ]
  },
  {
   "cell_type": "code",
   "execution_count": null,
   "metadata": {
    "collapsed": true
   },
   "outputs": [],
   "source": []
  },
  {
   "cell_type": "code",
   "execution_count": 20,
   "metadata": {
    "collapsed": false
   },
   "outputs": [
    {
     "data": {
      "text/plain": [
       "[1.234676334695812e-52,\n",
       " 0.0039419056505518692,\n",
       " 0.8221440565472149,\n",
       " 0.096295745746624556,\n",
       " 1.319584582412961e-06,\n",
       " 4.2152667119954594e-10,\n",
       " 9.8024017987168116e-33,\n",
       " 2.9598092259469914e-47,\n",
       " 2.2446613216091055e-70,\n",
       " 2.0069062178244596e-160,\n",
       " 1.2325273109545439e-314,\n",
       " 2.1705285410817846e-106,\n",
       " 1.8455188953873108e-236,\n",
       " 0.0,\n",
       " 0.0]"
      ]
     },
     "execution_count": 20,
     "metadata": {},
     "output_type": "execute_result"
    }
   ],
   "source": [
    "pvals2"
   ]
  },
  {
   "cell_type": "code",
   "execution_count": 21,
   "metadata": {
    "collapsed": false
   },
   "outputs": [
    {
     "data": {
      "text/plain": [
       "Index([u'frlon', u'PETpenmanvic', u'P', u'ET', u'frlat', u'Sf',\n",
       "       u'meanablseason', u'meandosnowfree', u'meanpeakswe', u'meanpeaket',\n",
       "       u'meandopeaket', u'meanablslope', u'meandopeakswe', u'infilt',\n",
       "       u'fs_active', u'l1_quartz', u'l3_Wpwp_FRACT', u'l3_bulkD',\n",
       "       u'l3_init_moist', u'annual_prec', u'l2_soil_density', u'l2_Ksat',\n",
       "       u'rough', u'l2_Wcr_FRACT', u'l2_depth', u'l2_quartz', u'l1_phi_s',\n",
       "       u'l3_bubble', u'l1_expt', u'Ws', u'l1_Ksat', u'l1_soil_density',\n",
       "       u'l1_resid_moisture', u'l2_phi_s', u'l2_init_moist', u'l2_expt',\n",
       "       u'l1_init_moist', u'l1_depth', u'off_gmt', u'l3_expt', u'l3_depth',\n",
       "       u'Dsmax', u'l1_Wpwp_FRACT', u'l3_resid_moisture', u'avg_T',\n",
       "       u'l3_soil_density', u'l3_phi_s', u'dp', u'c', u'l2_bulkD', u'l2_bubble',\n",
       "       u'l2_Wpwp_FRACT', u'l3_Ksat', u'l3_quartz', u'Ds', u'l1_bulkD',\n",
       "       u'l1_bubble', u'l2_resid_moisture', u'elev', u'snow_rough',\n",
       "       u'l1_Wcr_FRACT', u'l3_Wcr_FRACT', u'slope', u'rsquared_adj',\n",
       "       u'intercept', u'rsquared', u'pvalue', u'w_flux', u'w_flux2', u'w_flux3',\n",
       "       u'snowmelt', u'Sf2', u'Sf1', u'Sf_2', u'Sf_1', u'wflux4', u'wflux5',\n",
       "       u'rain', u'netSM', u'seas', u'MAT', u'idx', u'DEMelev', u'idx2', u'rc',\n",
       "       u'PETpenvic_P', u'ET_P', u'pred_EI', u'Q_P', u'Qpred_P', u'Qanom_P',\n",
       "       u'Q', u'Qanom', u'region'],\n",
       "      dtype='object')"
      ]
     },
     "execution_count": 21,
     "metadata": {},
     "output_type": "execute_result"
    }
   ],
   "source": [
    "data.columns"
   ]
  },
  {
   "cell_type": "code",
   "execution_count": 22,
   "metadata": {
    "collapsed": false
   },
   "outputs": [
    {
     "data": {
      "text/plain": [
       "<matplotlib.collections.PathCollection at 0x11635eb50>"
      ]
     },
     "execution_count": 22,
     "metadata": {},
     "output_type": "execute_result"
    },
    {
     "data": {
      "image/png": "[encoded data removed]",
      "text/plain": [
       "<matplotlib.figure.Figure at 0x1109e3610>"
      ]
     },
     "metadata": {},
     "output_type": "display_data"
    }
   ],
   "source": [
    "plt.scatter(data.frlon,data.frlat,s=4,c=data.rc, edgecolor='none')"
   ]
  },
  {
   "cell_type": "markdown",
   "metadata": {},
   "source": [
    "## Create a facetted Plot of Qanom vs Sf"
   ]
  },
  {
   "cell_type": "code",
   "execution_count": 23,
   "metadata": {
    "collapsed": false
   },
   "outputs": [],
   "source": [
    "from palettable.colorbrewer.qualitative import Dark2_5 as snscmap"
   ]
  },
  {
   "cell_type": "code",
   "execution_count": 24,
   "metadata": {
    "collapsed": false
   },
   "outputs": [
    {
     "ename": "IndexError",
     "evalue": "list index out of range",
     "output_type": "error",
     "traceback": [
      "\u001b[0;31m---------------------------------------------------------------------------\u001b[0m",
      "\u001b[0;31mIndexError\u001b[0m                                Traceback (most recent call last)",
      "\u001b[0;32m<ipython-input-24-f6f108ff264f>\u001b[0m in \u001b[0;36m<module>\u001b[0;34m()\u001b[0m\n\u001b[1;32m      3\u001b[0m \u001b[0;32mfor\u001b[0m \u001b[0mr\u001b[0m \u001b[0;32min\u001b[0m \u001b[0mxrange\u001b[0m\u001b[0;34m(\u001b[0m\u001b[0;36m1\u001b[0m\u001b[0;34m,\u001b[0m\u001b[0;36m16\u001b[0m\u001b[0;34m)\u001b[0m\u001b[0;34m:\u001b[0m\u001b[0;34m\u001b[0m\u001b[0m\n\u001b[1;32m      4\u001b[0m     \u001b[0mridx\u001b[0m \u001b[0;34m=\u001b[0m \u001b[0mr\u001b[0m\u001b[0;34m-\u001b[0m\u001b[0;36m1\u001b[0m\u001b[0;34m\u001b[0m\u001b[0m\n\u001b[0;32m----> 5\u001b[0;31m     \u001b[0mdata\u001b[0m\u001b[0;34m.\u001b[0m\u001b[0mloc\u001b[0m\u001b[0;34m[\u001b[0m\u001b[0mdata\u001b[0m\u001b[0;34m.\u001b[0m\u001b[0mrc\u001b[0m\u001b[0;34m==\u001b[0m\u001b[0mr\u001b[0m\u001b[0;34m,\u001b[0m\u001b[0;34m'region'\u001b[0m\u001b[0;34m]\u001b[0m \u001b[0;34m=\u001b[0m \u001b[0mregions\u001b[0m\u001b[0;34m[\u001b[0m\u001b[0mridx\u001b[0m\u001b[0;34m]\u001b[0m\u001b[0;34m\u001b[0m\u001b[0m\n\u001b[0m",
      "\u001b[0;31mIndexError\u001b[0m: list index out of range"
     ]
    }
   ],
   "source": [
    "data['region'] = np.NaN\n",
    "\n",
    "for r in xrange(1,16):\n",
    "    ridx = r-1\n",
    "    data.loc[data.rc==r,'region'] = regions[ridx]"
   ]
  },
  {
   "cell_type": "markdown",
   "metadata": {},
   "source": [
    "## Snowfall Fraction vs Streamflow Anomaly"
   ]
  },
  {
   "cell_type": "code",
   "execution_count": 25,
   "metadata": {
    "collapsed": false
   },
   "outputs": [
    {
     "ename": "NameError",
     "evalue": "name 'sns' is not defined",
     "output_type": "error",
     "traceback": [
      "\u001b[0;31m---------------------------------------------------------------------------\u001b[0m",
      "\u001b[0;31mNameError\u001b[0m                                 Traceback (most recent call last)",
      "\u001b[0;32m<ipython-input-25-23fa6e2f094d>\u001b[0m in \u001b[0;36m<module>\u001b[0;34m()\u001b[0m\n\u001b[1;32m     29\u001b[0m     \u001b[0mnames\u001b[0m\u001b[0;34m.\u001b[0m\u001b[0mappend\u001b[0m\u001b[0;34m(\u001b[0m\u001b[0mreg\u001b[0m\u001b[0;34m+\u001b[0m\u001b[0;34m': p='\u001b[0m\u001b[0;34m+\u001b[0m\u001b[0mstr\u001b[0m\u001b[0;34m(\u001b[0m\u001b[0mround\u001b[0m\u001b[0;34m(\u001b[0m\u001b[0mp\u001b[0m\u001b[0;34m,\u001b[0m\u001b[0;36m4\u001b[0m\u001b[0;34m)\u001b[0m\u001b[0;34m)\u001b[0m\u001b[0;34m+\u001b[0m\u001b[0;34m', r$^2$='\u001b[0m\u001b[0;34m+\u001b[0m\u001b[0mstr\u001b[0m\u001b[0;34m(\u001b[0m\u001b[0mround\u001b[0m\u001b[0;34m(\u001b[0m\u001b[0mr\u001b[0m\u001b[0;34m,\u001b[0m\u001b[0;36m3\u001b[0m\u001b[0;34m)\u001b[0m\u001b[0;34m)\u001b[0m\u001b[0;34m)\u001b[0m\u001b[0;34m\u001b[0m\u001b[0m\n\u001b[1;32m     30\u001b[0m \u001b[0;34m\u001b[0m\u001b[0m\n\u001b[0;32m---> 31\u001b[0;31m \u001b[0msns\u001b[0m\u001b[0;34m.\u001b[0m\u001b[0mset\u001b[0m\u001b[0;34m(\u001b[0m\u001b[0mstyle\u001b[0m\u001b[0;34m=\u001b[0m\u001b[0;34m'darkgrid'\u001b[0m\u001b[0;34m)\u001b[0m\u001b[0;34m\u001b[0m\u001b[0m\n\u001b[0m\u001b[1;32m     32\u001b[0m \u001b[0mg\u001b[0m \u001b[0;34m=\u001b[0m \u001b[0msns\u001b[0m\u001b[0;34m.\u001b[0m\u001b[0mlmplot\u001b[0m\u001b[0;34m(\u001b[0m\u001b[0mxx\u001b[0m\u001b[0;34m,\u001b[0m\u001b[0myy\u001b[0m\u001b[0;34m,\u001b[0m\u001b[0mcol\u001b[0m \u001b[0;34m=\u001b[0m\u001b[0mcol\u001b[0m\u001b[0;34m,\u001b[0m \u001b[0mcol_wrap\u001b[0m\u001b[0;34m=\u001b[0m\u001b[0;36m5\u001b[0m\u001b[0;34m,\u001b[0m \u001b[0mdata\u001b[0m\u001b[0;34m=\u001b[0m\u001b[0mdata\u001b[0m\u001b[0;34m,\u001b[0m \u001b[0mscatter_kws\u001b[0m\u001b[0;34m=\u001b[0m\u001b[0;34m{\u001b[0m\u001b[0;34m's'\u001b[0m\u001b[0;34m:\u001b[0m\u001b[0;36m20\u001b[0m\u001b[0;34m,\u001b[0m\u001b[0;34m'alpha'\u001b[0m\u001b[0;34m:\u001b[0m\u001b[0;36m0.3\u001b[0m\u001b[0;34m}\u001b[0m\u001b[0;34m,\u001b[0m \u001b[0mcolor\u001b[0m\u001b[0;34m=\u001b[0m\u001b[0msnscmap\u001b[0m\u001b[0;34m.\u001b[0m\u001b[0mhex_colors\u001b[0m\u001b[0;34m[\u001b[0m\u001b[0;36m0\u001b[0m\u001b[0;34m]\u001b[0m\u001b[0;34m,\u001b[0m \u001b[0msize\u001b[0m\u001b[0;34m=\u001b[0m\u001b[0msize\u001b[0m\u001b[0;34m)\u001b[0m\u001b[0;34m\u001b[0m\u001b[0m\n\u001b[1;32m     33\u001b[0m \u001b[0mg\u001b[0m\u001b[0;34m.\u001b[0m\u001b[0mset_axis_labels\u001b[0m\u001b[0;34m(\u001b[0m\u001b[0mx_var\u001b[0m\u001b[0;34m=\u001b[0m\u001b[0;34m'Sf [ ]'\u001b[0m\u001b[0;34m,\u001b[0m\u001b[0my_var\u001b[0m\u001b[0;34m=\u001b[0m\u001b[0;34m'Streamflow Anomaly [ ]'\u001b[0m\u001b[0;34m)\u001b[0m\u001b[0;34m\u001b[0m\u001b[0m\n",
      "\u001b[0;31mNameError\u001b[0m: name 'sns' is not defined"
     ]
    }
   ],
   "source": [
    "xx = 'Sf'\n",
    "yy = 'Qanom_P'\n",
    "col = 'region'\n",
    "size = 3.5\n",
    "\n",
    "mods = []\n",
    "rvals = []\n",
    "pvals = []\n",
    "slopes = []\n",
    "intercepts = []\n",
    "Sfs = []\n",
    "\n",
    "for rc in xrange(1,16):\n",
    "    X = data.loc[data.rc==rc,xx] # pull out the independant variable\n",
    "    y = data.loc[data.rc==rc,yy] # pull out the dependant variable\n",
    "    slope, intrccept, r_value, p_value, std_rcr = stats.linregress(X,y) # fit the model\n",
    "    Sf = np.arange(data.loc[data.rc==rc,xx].min(),data.loc[data.rc==rc,xx].max()+0.001,0.001)\n",
    "    mods.append(Sf*slope+intrccept) # genrcate predicted values\n",
    "    rvals.append(r_value)\n",
    "    pvals.append(p_value)\n",
    "    slopes.append(slope)\n",
    "    intercepts.append(intercept)\n",
    "    Sfs.append(Sf)\n",
    "    \n",
    "rsqrds = np.square(rvals)\n",
    "    \n",
    "names = []\n",
    "for reg,p,r in zip(regions,pvals,rsqrds):\n",
    "    names.append(reg+': p='+str(round(p,4))+', r$^2$='+str(round(r,3)))\n",
    "\n",
    "sns.set(style='darkgrid')\n",
    "g = sns.lmplot(xx,yy,col =col, col_wrap=5, data=data, scatter_kws={'s':20,'alpha':0.3}, color=snscmap.hex_colors[0], size=size)\n",
    "g.set_axis_labels(x_var='Sf [ ]',y_var='Streamflow Anomaly [ ]')\n",
    "names.sort()\n",
    "\n",
    "for ax,name in zip(g.axes.flat,names):    \n",
    "    ax.set_title(name)\n",
    "    ax.set_xlim([0,1])\n",
    "    ax.set_ylim([-0.2,0.4])"
   ]
  },
  {
   "cell_type": "markdown",
   "metadata": {},
   "source": [
    "***Figure 2:*** Relationships between Snowfall fraction and Streamflow Anomaly."
   ]
  },
  {
   "cell_type": "markdown",
   "metadata": {},
   "source": []
  },
  {
   "cell_type": "markdown",
   "metadata": {},
   "source": [
    "## Snowmelt Rate vs Snowfall Fraction"
   ]
  },
  {
   "cell_type": "code",
   "execution_count": 26,
   "metadata": {
    "collapsed": false
   },
   "outputs": [
    {
     "ename": "NameError",
     "evalue": "name 'sns' is not defined",
     "output_type": "error",
     "traceback": [
      "\u001b[0;31m---------------------------------------------------------------------------\u001b[0m",
      "\u001b[0;31mNameError\u001b[0m                                 Traceback (most recent call last)",
      "\u001b[0;32m<ipython-input-26-5d284259e9cb>\u001b[0m in \u001b[0;36m<module>\u001b[0;34m()\u001b[0m\n\u001b[1;32m     29\u001b[0m     \u001b[0mnames\u001b[0m\u001b[0;34m.\u001b[0m\u001b[0mappend\u001b[0m\u001b[0;34m(\u001b[0m\u001b[0mreg\u001b[0m\u001b[0;34m+\u001b[0m\u001b[0;34m': p='\u001b[0m\u001b[0;34m+\u001b[0m\u001b[0mstr\u001b[0m\u001b[0;34m(\u001b[0m\u001b[0mround\u001b[0m\u001b[0;34m(\u001b[0m\u001b[0mp\u001b[0m\u001b[0;34m,\u001b[0m\u001b[0;36m4\u001b[0m\u001b[0;34m)\u001b[0m\u001b[0;34m)\u001b[0m\u001b[0;34m+\u001b[0m\u001b[0;34m', r$^2$='\u001b[0m\u001b[0;34m+\u001b[0m\u001b[0mstr\u001b[0m\u001b[0;34m(\u001b[0m\u001b[0mround\u001b[0m\u001b[0;34m(\u001b[0m\u001b[0mr\u001b[0m\u001b[0;34m,\u001b[0m\u001b[0;36m3\u001b[0m\u001b[0;34m)\u001b[0m\u001b[0;34m)\u001b[0m\u001b[0;34m)\u001b[0m\u001b[0;34m\u001b[0m\u001b[0m\n\u001b[1;32m     30\u001b[0m \u001b[0;34m\u001b[0m\u001b[0m\n\u001b[0;32m---> 31\u001b[0;31m \u001b[0msns\u001b[0m\u001b[0;34m.\u001b[0m\u001b[0mset\u001b[0m\u001b[0;34m(\u001b[0m\u001b[0mstyle\u001b[0m\u001b[0;34m=\u001b[0m\u001b[0;34m'darkgrid'\u001b[0m\u001b[0;34m)\u001b[0m\u001b[0;34m\u001b[0m\u001b[0m\n\u001b[0m\u001b[1;32m     32\u001b[0m \u001b[0mg\u001b[0m \u001b[0;34m=\u001b[0m \u001b[0msns\u001b[0m\u001b[0;34m.\u001b[0m\u001b[0mlmplot\u001b[0m\u001b[0;34m(\u001b[0m\u001b[0mxx\u001b[0m\u001b[0;34m,\u001b[0m\u001b[0myy\u001b[0m\u001b[0;34m,\u001b[0m\u001b[0mcol\u001b[0m \u001b[0;34m=\u001b[0m\u001b[0mcol\u001b[0m\u001b[0;34m,\u001b[0m \u001b[0mcol_wrap\u001b[0m\u001b[0;34m=\u001b[0m\u001b[0;36m5\u001b[0m\u001b[0;34m,\u001b[0m \u001b[0mdata\u001b[0m\u001b[0;34m=\u001b[0m\u001b[0mdata\u001b[0m\u001b[0;34m,\u001b[0m \u001b[0mscatter_kws\u001b[0m\u001b[0;34m=\u001b[0m\u001b[0;34m{\u001b[0m\u001b[0;34m's'\u001b[0m\u001b[0;34m:\u001b[0m\u001b[0;36m20\u001b[0m\u001b[0;34m,\u001b[0m\u001b[0;34m'alpha'\u001b[0m\u001b[0;34m:\u001b[0m\u001b[0;36m0.3\u001b[0m\u001b[0;34m}\u001b[0m\u001b[0;34m,\u001b[0m \u001b[0mcolor\u001b[0m\u001b[0;34m=\u001b[0m\u001b[0msnscmap\u001b[0m\u001b[0;34m.\u001b[0m\u001b[0mhex_colors\u001b[0m\u001b[0;34m[\u001b[0m\u001b[0;36m1\u001b[0m\u001b[0;34m]\u001b[0m\u001b[0;34m,\u001b[0m \u001b[0msize\u001b[0m\u001b[0;34m=\u001b[0m\u001b[0msize\u001b[0m\u001b[0;34m)\u001b[0m\u001b[0;34m\u001b[0m\u001b[0m\n\u001b[1;32m     33\u001b[0m \u001b[0mg\u001b[0m\u001b[0;34m.\u001b[0m\u001b[0mset_axis_labels\u001b[0m\u001b[0;34m(\u001b[0m\u001b[0mx_var\u001b[0m\u001b[0;34m=\u001b[0m\u001b[0;34m'Snowmelt [mm/d]'\u001b[0m\u001b[0;34m,\u001b[0m\u001b[0my_var\u001b[0m\u001b[0;34m=\u001b[0m\u001b[0;34m'Sf [ ]'\u001b[0m\u001b[0;34m)\u001b[0m\u001b[0;34m\u001b[0m\u001b[0m\n",
      "\u001b[0;31mNameError\u001b[0m: name 'sns' is not defined"
     ]
    }
   ],
   "source": [
    "xx = 'snowmelt'\n",
    "yy = 'Sf'\n",
    "col = 'region'\n",
    "size = 3.5\n",
    "\n",
    "mods = []\n",
    "rvals = []\n",
    "pvals = []\n",
    "slopes = []\n",
    "intercepts = []\n",
    "Sfs = []\n",
    "\n",
    "for rc in xrange(1,16):\n",
    "    X = data.loc[data.rc==rc,xx] # pull out the independant variable\n",
    "    y = data.loc[data.rc==rc,yy] # pull out the dependant variable\n",
    "    slope, intrccept, r_value, p_value, std_rcr = stats.linregress(X,y) # fit the model\n",
    "    Sf = np.arange(data.loc[data.rc==rc,xx].min(),data.loc[data.rc==rc,xx].max()+0.001,0.001)\n",
    "    mods.append(Sf*slope+intrccept) # genrcate predicted values\n",
    "    rvals.append(r_value)\n",
    "    pvals.append(p_value)\n",
    "    slopes.append(slope)\n",
    "    intercepts.append(intercept)\n",
    "    Sfs.append(Sf)\n",
    "    \n",
    "rsqrds = np.square(rvals)\n",
    "    \n",
    "names = []\n",
    "for reg,p,r in zip(regions,pvals,rsqrds):\n",
    "    names.append(reg+': p='+str(round(p,4))+', r$^2$='+str(round(r,3)))\n",
    "\n",
    "sns.set(style='darkgrid')\n",
    "g = sns.lmplot(xx,yy,col =col, col_wrap=5, data=data, scatter_kws={'s':20,'alpha':0.3}, color=snscmap.hex_colors[1], size=size)\n",
    "g.set_axis_labels(x_var='Snowmelt [mm/d]',y_var='Sf [ ]')\n",
    "names.sort()\n",
    "\n",
    "for ax,name in zip(g.axes.flat,names):    \n",
    "    ax.set_title(name)\n",
    "    ax.set_xlim([0,35])\n",
    "    ax.set_ylim([0,1])"
   ]
  },
  {
   "cell_type": "markdown",
   "metadata": {},
   "source": [
    "***Figure 3:*** Relationships between Snowmelt Rate and Snowfall Fraction."
   ]
  },
  {
   "cell_type": "markdown",
   "metadata": {},
   "source": [
    "## Snowmelt Rate vs Streamflow Anomaly"
   ]
  },
  {
   "cell_type": "code",
   "execution_count": 27,
   "metadata": {
    "collapsed": false
   },
   "outputs": [
    {
     "ename": "NameError",
     "evalue": "name 'sns' is not defined",
     "output_type": "error",
     "traceback": [
      "\u001b[0;31m---------------------------------------------------------------------------\u001b[0m",
      "\u001b[0;31mNameError\u001b[0m                                 Traceback (most recent call last)",
      "\u001b[0;32m<ipython-input-27-77107f654bb9>\u001b[0m in \u001b[0;36m<module>\u001b[0;34m()\u001b[0m\n\u001b[1;32m     29\u001b[0m     \u001b[0mnames\u001b[0m\u001b[0;34m.\u001b[0m\u001b[0mappend\u001b[0m\u001b[0;34m(\u001b[0m\u001b[0mreg\u001b[0m\u001b[0;34m+\u001b[0m\u001b[0;34m': p='\u001b[0m\u001b[0;34m+\u001b[0m\u001b[0mstr\u001b[0m\u001b[0;34m(\u001b[0m\u001b[0mround\u001b[0m\u001b[0;34m(\u001b[0m\u001b[0mp\u001b[0m\u001b[0;34m,\u001b[0m\u001b[0;36m4\u001b[0m\u001b[0;34m)\u001b[0m\u001b[0;34m)\u001b[0m\u001b[0;34m+\u001b[0m\u001b[0;34m', r$^2$='\u001b[0m\u001b[0;34m+\u001b[0m\u001b[0mstr\u001b[0m\u001b[0;34m(\u001b[0m\u001b[0mround\u001b[0m\u001b[0;34m(\u001b[0m\u001b[0mr\u001b[0m\u001b[0;34m,\u001b[0m\u001b[0;36m3\u001b[0m\u001b[0;34m)\u001b[0m\u001b[0;34m)\u001b[0m\u001b[0;34m)\u001b[0m\u001b[0;34m\u001b[0m\u001b[0m\n\u001b[1;32m     30\u001b[0m \u001b[0;34m\u001b[0m\u001b[0m\n\u001b[0;32m---> 31\u001b[0;31m \u001b[0msns\u001b[0m\u001b[0;34m.\u001b[0m\u001b[0mset\u001b[0m\u001b[0;34m(\u001b[0m\u001b[0mstyle\u001b[0m\u001b[0;34m=\u001b[0m\u001b[0;34m'darkgrid'\u001b[0m\u001b[0;34m)\u001b[0m\u001b[0;34m\u001b[0m\u001b[0m\n\u001b[0m\u001b[1;32m     32\u001b[0m \u001b[0mg\u001b[0m \u001b[0;34m=\u001b[0m \u001b[0msns\u001b[0m\u001b[0;34m.\u001b[0m\u001b[0mlmplot\u001b[0m\u001b[0;34m(\u001b[0m\u001b[0mxx\u001b[0m\u001b[0;34m,\u001b[0m\u001b[0myy\u001b[0m\u001b[0;34m,\u001b[0m\u001b[0mcol\u001b[0m \u001b[0;34m=\u001b[0m\u001b[0mcol\u001b[0m\u001b[0;34m,\u001b[0m \u001b[0mcol_wrap\u001b[0m\u001b[0;34m=\u001b[0m\u001b[0;36m5\u001b[0m\u001b[0;34m,\u001b[0m \u001b[0mdata\u001b[0m\u001b[0;34m=\u001b[0m\u001b[0mdata\u001b[0m\u001b[0;34m,\u001b[0m \u001b[0mscatter_kws\u001b[0m\u001b[0;34m=\u001b[0m\u001b[0;34m{\u001b[0m\u001b[0;34m's'\u001b[0m\u001b[0;34m:\u001b[0m\u001b[0;36m20\u001b[0m\u001b[0;34m,\u001b[0m\u001b[0;34m'alpha'\u001b[0m\u001b[0;34m:\u001b[0m\u001b[0;36m0.3\u001b[0m\u001b[0;34m}\u001b[0m\u001b[0;34m,\u001b[0m \u001b[0mcolor\u001b[0m\u001b[0;34m=\u001b[0m\u001b[0msnscmap\u001b[0m\u001b[0;34m.\u001b[0m\u001b[0mhex_colors\u001b[0m\u001b[0;34m[\u001b[0m\u001b[0;36m2\u001b[0m\u001b[0;34m]\u001b[0m\u001b[0;34m,\u001b[0m \u001b[0msize\u001b[0m\u001b[0;34m=\u001b[0m\u001b[0msize\u001b[0m\u001b[0;34m)\u001b[0m\u001b[0;34m\u001b[0m\u001b[0m\n\u001b[1;32m     33\u001b[0m \u001b[0mg\u001b[0m\u001b[0;34m.\u001b[0m\u001b[0mset_axis_labels\u001b[0m\u001b[0;34m(\u001b[0m\u001b[0mx_var\u001b[0m\u001b[0;34m=\u001b[0m\u001b[0;34m'Snowmelt [mm/day]'\u001b[0m\u001b[0;34m,\u001b[0m\u001b[0my_var\u001b[0m\u001b[0;34m=\u001b[0m\u001b[0;34m'Streamflow Anomaly [ ]'\u001b[0m\u001b[0;34m)\u001b[0m\u001b[0;34m\u001b[0m\u001b[0m\n",
      "\u001b[0;31mNameError\u001b[0m: name 'sns' is not defined"
     ]
    }
   ],
   "source": [
    "xx = 'snowmelt'\n",
    "yy = 'Qanom_P'\n",
    "col = 'region'\n",
    "size = 3.5\n",
    "\n",
    "mods = []\n",
    "rvals = []\n",
    "pvals = []\n",
    "slopes = []\n",
    "intercepts = []\n",
    "Sfs = []\n",
    "\n",
    "for rc in xrange(1,16):\n",
    "    X = data.loc[data.rc==rc,xx] # pull out the independant variable\n",
    "    y = data.loc[data.rc==rc,yy] # pull out the dependant variable\n",
    "    slope, intrccept, r_value, p_value, std_rcr = stats.linregress(X,y) # fit the model\n",
    "    Sf = np.arange(data.loc[data.rc==rc,xx].min(),data.loc[data.rc==rc,xx].max()+0.001,0.001)\n",
    "    mods.append(Sf*slope+intrccept) # genrcate predicted values\n",
    "    rvals.append(r_value)\n",
    "    pvals.append(p_value)\n",
    "    slopes.append(slope)\n",
    "    intercepts.append(intercept)\n",
    "    Sfs.append(Sf)\n",
    "    \n",
    "rsqrds = np.square(rvals)\n",
    "    \n",
    "names = []\n",
    "for reg,p,r in zip(regions,pvals,rsqrds):\n",
    "    names.append(reg+': p='+str(round(p,4))+', r$^2$='+str(round(r,3)))\n",
    "\n",
    "sns.set(style='darkgrid')\n",
    "g = sns.lmplot(xx,yy,col =col, col_wrap=5, data=data, scatter_kws={'s':20,'alpha':0.3}, color=snscmap.hex_colors[2], size=size)\n",
    "g.set_axis_labels(x_var='Snowmelt [mm/day]',y_var='Streamflow Anomaly [ ]')\n",
    "names.sort()\n",
    "\n",
    "for ax,name in zip(g.axes.flat,names):    \n",
    "    ax.set_title(name)\n",
    "    ax.set_xlim([0,35])\n",
    "    ax.set_ylim([-0.2,0.4])"
   ]
  },
  {
   "cell_type": "markdown",
   "metadata": {},
   "source": [
    "***Figure 4:*** Relationships between Snowmelt rate and streamflow anomaly. The norther rockies has a very odd shape too it. So do the north cascades. "
   ]
  },
  {
   "cell_type": "markdown",
   "metadata": {},
   "source": [
    "- Blue mtns, central basin and range, Coast Range, north basin and range : Low SWE\n",
    "- Cascades, Southern Rockies, Sierra, Wasatch, ID Batholith, middle rockies: Snowmelt\n",
    "- North Cascades : Rain\n",
    "- Northern Rockies, East Cascades, klamath : Mixed elevation?"
   ]
  },
  {
   "cell_type": "code",
   "execution_count": 28,
   "metadata": {
    "collapsed": false
   },
   "outputs": [],
   "source": [
    "grp1 = [10,14,15,11]\n",
    "grp2 = [1,13,4,12,9,7,8]\n",
    "grp3 = [3]\n",
    "grp4 = [6,2,5]\n",
    "\n",
    "grp1c = [1,4,5,10]\n",
    "grp2c = [3,14,13,15,7,9,2]\n",
    "grp3c = [11]\n",
    "grp4c = [12,6,8]\n",
    "\n",
    "grp1n = ['Blue Mountains','Central Basin and Range','Coast Range','North Basin and Range']\n",
    "grp2n = ['Cascades','Southern Rockies','Sierra','Wasatch','Idaho Batholith', 'Middle Rockies','Canadian Rockies']\n",
    "grp3n = ['North Cascades']\n",
    "grp4n = ['Northern Rockies','East Cascades','Klamath']"
   ]
  },
  {
   "cell_type": "code",
   "execution_count": 29,
   "metadata": {
    "collapsed": false
   },
   "outputs": [
    {
     "ename": "NameError",
     "evalue": "name 'sns' is not defined",
     "output_type": "error",
     "traceback": [
      "\u001b[0;31m---------------------------------------------------------------------------\u001b[0m",
      "\u001b[0;31mNameError\u001b[0m                                 Traceback (most recent call last)",
      "\u001b[0;32m<ipython-input-29-aee399f57ff4>\u001b[0m in \u001b[0;36m<module>\u001b[0;34m()\u001b[0m\n\u001b[0;32m----> 1\u001b[0;31m \u001b[0mpallette\u001b[0m \u001b[0;34m=\u001b[0m \u001b[0msns\u001b[0m\u001b[0;34m.\u001b[0m\u001b[0mcolor_palette\u001b[0m\u001b[0;34m(\u001b[0m\u001b[0;34m'hls'\u001b[0m\u001b[0;34m,\u001b[0m\u001b[0;36m15\u001b[0m\u001b[0;34m)\u001b[0m\u001b[0;34m\u001b[0m\u001b[0m\n\u001b[0m",
      "\u001b[0;31mNameError\u001b[0m: name 'sns' is not defined"
     ]
    }
   ],
   "source": [
    "pallette = sns.color_palette('hls',15)"
   ]
  },
  {
   "cell_type": "code",
   "execution_count": 30,
   "metadata": {
    "collapsed": false
   },
   "outputs": [
    {
     "ename": "NameError",
     "evalue": "name 'pallette' is not defined",
     "output_type": "error",
     "traceback": [
      "\u001b[0;31m---------------------------------------------------------------------------\u001b[0m",
      "\u001b[0;31mNameError\u001b[0m                                 Traceback (most recent call last)",
      "\u001b[0;32m<ipython-input-30-66dd9ce91fb4>\u001b[0m in \u001b[0;36m<module>\u001b[0;34m()\u001b[0m\n\u001b[1;32m     33\u001b[0m \u001b[0;32mfor\u001b[0m \u001b[0mrc\u001b[0m\u001b[0;34m,\u001b[0m\u001b[0mc\u001b[0m\u001b[0;34m,\u001b[0m\u001b[0mslope\u001b[0m\u001b[0;34m,\u001b[0m\u001b[0mintercept\u001b[0m\u001b[0;34m,\u001b[0m\u001b[0mSf\u001b[0m \u001b[0;32min\u001b[0m \u001b[0mzip\u001b[0m\u001b[0;34m(\u001b[0m\u001b[0mgrp1\u001b[0m\u001b[0;34m,\u001b[0m\u001b[0mgrp1c\u001b[0m\u001b[0;34m,\u001b[0m \u001b[0mslopes\u001b[0m\u001b[0;34m,\u001b[0m \u001b[0mintercepts\u001b[0m\u001b[0;34m,\u001b[0m\u001b[0mSfs\u001b[0m\u001b[0;34m)\u001b[0m\u001b[0;34m:\u001b[0m\u001b[0;34m\u001b[0m\u001b[0m\n\u001b[1;32m     34\u001b[0m     \u001b[0max1\u001b[0m\u001b[0;34m.\u001b[0m\u001b[0mplot\u001b[0m\u001b[0;34m(\u001b[0m\u001b[0mSf\u001b[0m\u001b[0;34m,\u001b[0m\u001b[0;34m(\u001b[0m\u001b[0mSf\u001b[0m\u001b[0;34m*\u001b[0m\u001b[0mslope\u001b[0m\u001b[0;34m)\u001b[0m\u001b[0;34m+\u001b[0m\u001b[0mintercept\u001b[0m\u001b[0;34m,\u001b[0m\u001b[0;34m'-'\u001b[0m\u001b[0;34m,\u001b[0m\u001b[0mcolor\u001b[0m\u001b[0;34m=\u001b[0m\u001b[0;34m'k'\u001b[0m\u001b[0;34m,\u001b[0m\u001b[0mlw\u001b[0m\u001b[0;34m=\u001b[0m\u001b[0;36m6\u001b[0m\u001b[0;34m)\u001b[0m\u001b[0;34m\u001b[0m\u001b[0m\n\u001b[0;32m---> 35\u001b[0;31m     ax1.scatter(data.loc[data.rc == rc,:].snowmelt,data.loc[data.rc == rc,:].Qanom_P,s = 30, c = pallette[c-1],\n\u001b[0m\u001b[1;32m     36\u001b[0m                             alpha = 0.3, edgecolor = 'none');\n\u001b[1;32m     37\u001b[0m \u001b[0;34m\u001b[0m\u001b[0m\n",
      "\u001b[0;31mNameError\u001b[0m: name 'pallette' is not defined"
     ]
    },
    {
     "data": {
      "image/png": "[encoded data removed]",
      "text/plain": [
       "<matplotlib.figure.Figure at 0x116290e90>"
      ]
     },
     "metadata": {},
     "output_type": "display_data"
    }
   ],
   "source": [
    "## Generate Group 1 figure\n",
    "xx = 'snowmelt'\n",
    "yy = 'Qanom_P'\n",
    "\n",
    "mods = []\n",
    "rvals = []\n",
    "pvals = []\n",
    "slopes = []\n",
    "intercepts = []\n",
    "Sfs = []\n",
    "\n",
    "for rc in grp1:\n",
    "    X = data.loc[data.rc==rc,xx] # pull out the independant variable\n",
    "    y = data.loc[data.rc==rc,yy] # pull out the dependant variable\n",
    "    slope, intrccept, r_value, p_value, std_rcr = stats.linregress(X,y) # fit the model\n",
    "    Sf = np.arange(data.loc[data.rc==rc,xx].min(),data.loc[data.rc==rc,xx].max()+0.001,0.001)\n",
    "    mods.append(Sf*slope+intrccept) # genrcate predicted values\n",
    "    rvals.append(r_value)\n",
    "    pvals.append(p_value)\n",
    "    slopes.append(slope)\n",
    "    intercepts.append(intercept)\n",
    "    Sfs.append(Sf)\n",
    "    \n",
    "rsqrds = np.square(rvals)\n",
    "    \n",
    "names = []\n",
    "for reg,p,r in zip(grp1n,pvals,rsqrds):\n",
    "    names.append(reg+': \\n p='+str(round(p,4))+', r$^2$='+str(round(r,3)))\n",
    "\n",
    "fig = plt.figure(figsize=(8,8))\n",
    "ax1 = fig.add_subplot(111)\n",
    "#plts = []\n",
    "for rc,c,slope,intercept,Sf in zip(grp1,grp1c, slopes, intercepts,Sfs):\n",
    "    ax1.plot(Sf,(Sf*slope)+intercept,'-',color='k',lw=6)\n",
    "    ax1.scatter(data.loc[data.rc == rc,:].snowmelt,data.loc[data.rc == rc,:].Qanom_P,s = 30, c = pallette[c-1],\n",
    "                            alpha = 0.3, edgecolor = 'none');\n",
    "\n",
    "for rc,c,slope,intercept,Sf,lab in zip(grp1,grp1c, slopes, intercepts,Sfs,names):\n",
    "    ax1.plot(Sf,(Sf*slope)+intercept,'-',color=pallette[c-1],lw=3,label=lab)\n",
    "    \n",
    "ax1.set_xlim([0,50])\n",
    "ax1.set_ylim([-0.2,0.4])\n",
    "\n",
    "plt.setp(ax1.get_xticklabels(),fontsize=16)\n",
    "plt.setp(ax1.get_yticklabels(),fontsize=16)\n",
    "\n",
    "ax1.set_xlabel('Snowmelt Rate [mm/d]',fontsize=18)\n",
    "ax1.set_ylabel('Streamflow Anomoly \\n (actual - predicted Q)/P', fontsize=18)\n",
    "\n",
    "\n",
    "plt.legend(fontsize=20);\n",
    "\n",
    "plt.savefig('./figures/group1.png',bbox_inches='tight',dpi=600)"
   ]
  },
  {
   "cell_type": "code",
   "execution_count": 31,
   "metadata": {
    "collapsed": false
   },
   "outputs": [
    {
     "ename": "NameError",
     "evalue": "name 'pallette' is not defined",
     "output_type": "error",
     "traceback": [
      "\u001b[0;31m---------------------------------------------------------------------------\u001b[0m",
      "\u001b[0;31mNameError\u001b[0m                                 Traceback (most recent call last)",
      "\u001b[0;32m<ipython-input-31-69e98e09d552>\u001b[0m in \u001b[0;36m<module>\u001b[0;34m()\u001b[0m\n\u001b[1;32m     33\u001b[0m \u001b[0;32mfor\u001b[0m \u001b[0mrc\u001b[0m\u001b[0;34m,\u001b[0m\u001b[0mc\u001b[0m\u001b[0;34m,\u001b[0m\u001b[0mmod\u001b[0m\u001b[0;34m,\u001b[0m\u001b[0mSf\u001b[0m \u001b[0;32min\u001b[0m \u001b[0mzip\u001b[0m\u001b[0;34m(\u001b[0m\u001b[0mgrp2\u001b[0m\u001b[0;34m,\u001b[0m\u001b[0mgrp2c\u001b[0m\u001b[0;34m,\u001b[0m\u001b[0mmods\u001b[0m\u001b[0;34m,\u001b[0m\u001b[0mSfs\u001b[0m\u001b[0;34m)\u001b[0m\u001b[0;34m:\u001b[0m\u001b[0;34m\u001b[0m\u001b[0m\n\u001b[1;32m     34\u001b[0m     \u001b[0max1\u001b[0m\u001b[0;34m.\u001b[0m\u001b[0mplot\u001b[0m\u001b[0;34m(\u001b[0m\u001b[0mSf\u001b[0m\u001b[0;34m,\u001b[0m\u001b[0mmod\u001b[0m\u001b[0;34m,\u001b[0m\u001b[0;34m'-'\u001b[0m\u001b[0;34m,\u001b[0m\u001b[0mcolor\u001b[0m\u001b[0;34m=\u001b[0m\u001b[0;34m'k'\u001b[0m\u001b[0;34m,\u001b[0m\u001b[0mlw\u001b[0m\u001b[0;34m=\u001b[0m\u001b[0;36m6\u001b[0m\u001b[0;34m)\u001b[0m\u001b[0;34m\u001b[0m\u001b[0m\n\u001b[0;32m---> 35\u001b[0;31m     ax1.scatter(data.loc[data.rc == rc,:].snowmelt,data.loc[data.rc == rc,:].Qanom_P,s = 30, c = pallette[c-1],\n\u001b[0m\u001b[1;32m     36\u001b[0m                             alpha = 0.3, edgecolor = 'none');\n\u001b[1;32m     37\u001b[0m \u001b[0;34m\u001b[0m\u001b[0m\n",
      "\u001b[0;31mNameError\u001b[0m: name 'pallette' is not defined"
     ]
    },
    {
     "data": {
      "image/png": "[encoded data removed]",
      "text/plain": [
       "<matplotlib.figure.Figure at 0x1115fa2d0>"
      ]
     },
     "metadata": {},
     "output_type": "display_data"
    }
   ],
   "source": [
    "## Generate Group 2 figure\n",
    "xx = 'snowmelt'\n",
    "yy = 'Qanom_P'\n",
    "\n",
    "mods = []\n",
    "rvals = []\n",
    "pvals = []\n",
    "slopes = []\n",
    "intercepts = []\n",
    "Sfs = []\n",
    "\n",
    "for rc in grp2:\n",
    "    X = data.loc[data.rc==rc,xx] # pull out the independant variable\n",
    "    y = data.loc[data.rc==rc,yy] # pull out the dependant variable\n",
    "    slope, intrccept, r_value, p_value, std_rcr = stats.linregress(X,y) # fit the model\n",
    "    Sf = np.arange(data.loc[data.rc==rc,xx].min(),data.loc[data.rc==rc,xx].max()+0.001,0.001)\n",
    "    mods.append(Sf*slope+intrccept) # genrcate predicted values\n",
    "    rvals.append(r_value)\n",
    "    pvals.append(p_value)\n",
    "    slopes.append(slope)\n",
    "    intercepts.append(intercept)\n",
    "    Sfs.append(Sf)\n",
    "    \n",
    "rsqrds = np.square(rvals)\n",
    "    \n",
    "names = []\n",
    "for reg,p,r in zip(grp2n,pvals,rvals):\n",
    "    names.append(reg+': \\n p='+str(round(p,4))+', r$^2$='+str(round(r**2,3)))\n",
    "\n",
    "fig = plt.figure(figsize=(8,8))\n",
    "ax1 = fig.add_subplot(111)\n",
    "#plts = []\n",
    "for rc,c,mod,Sf in zip(grp2,grp2c,mods,Sfs):\n",
    "    ax1.plot(Sf,mod,'-',color='k',lw=6)\n",
    "    ax1.scatter(data.loc[data.rc == rc,:].snowmelt,data.loc[data.rc == rc,:].Qanom_P,s = 30, c = pallette[c-1],\n",
    "                            alpha = 0.3, edgecolor = 'none');\n",
    "\n",
    "for rc,c,mod,Sf,lab in zip(grp2,grp2c,mods,Sfs,names):\n",
    "    ax1.plot(Sf,mod,'-',color=pallette[c-1],lw=3,label=lab)\n",
    "    \n",
    "ax1.set_xlim([0,50])\n",
    "ax1.set_ylim([-0.2,0.4])\n",
    "\n",
    "plt.setp(ax1.get_xticklabels(),fontsize=16)\n",
    "plt.setp(ax1.get_yticklabels(),fontsize=16)\n",
    "\n",
    "ax1.set_xlabel('Snowmelt Rate [mm/d]',fontsize=18)\n",
    "ax1.set_ylabel('Streamflow Anomoly \\n (actual - predicted Q)/P', fontsize=18)\n",
    "\n",
    "\n",
    "plt.legend(fontsize=20);\n",
    "\n",
    "plt.savefig('./figures/group2.png',bbox_inches='tight',dpi=600)"
   ]
  },
  {
   "cell_type": "code",
   "execution_count": 32,
   "metadata": {
    "collapsed": false
   },
   "outputs": [
    {
     "ename": "NameError",
     "evalue": "name 'pallette' is not defined",
     "output_type": "error",
     "traceback": [
      "\u001b[0;31m---------------------------------------------------------------------------\u001b[0m",
      "\u001b[0;31mNameError\u001b[0m                                 Traceback (most recent call last)",
      "\u001b[0;32m<ipython-input-32-7fefc15c704f>\u001b[0m in \u001b[0;36m<module>\u001b[0;34m()\u001b[0m\n\u001b[1;32m     33\u001b[0m \u001b[0;32mfor\u001b[0m \u001b[0mrc\u001b[0m\u001b[0;34m,\u001b[0m\u001b[0mc\u001b[0m\u001b[0;34m,\u001b[0m\u001b[0mmod\u001b[0m\u001b[0;34m,\u001b[0m\u001b[0mSf\u001b[0m \u001b[0;32min\u001b[0m \u001b[0mzip\u001b[0m\u001b[0;34m(\u001b[0m\u001b[0mgrp3\u001b[0m\u001b[0;34m,\u001b[0m\u001b[0mgrp3c\u001b[0m\u001b[0;34m,\u001b[0m\u001b[0mmods\u001b[0m\u001b[0;34m,\u001b[0m\u001b[0mSfs\u001b[0m\u001b[0;34m)\u001b[0m\u001b[0;34m:\u001b[0m\u001b[0;34m\u001b[0m\u001b[0m\n\u001b[1;32m     34\u001b[0m     \u001b[0max1\u001b[0m\u001b[0;34m.\u001b[0m\u001b[0mplot\u001b[0m\u001b[0;34m(\u001b[0m\u001b[0mSf\u001b[0m\u001b[0;34m,\u001b[0m\u001b[0mmod\u001b[0m\u001b[0;34m,\u001b[0m\u001b[0;34m'-'\u001b[0m\u001b[0;34m,\u001b[0m\u001b[0mcolor\u001b[0m\u001b[0;34m=\u001b[0m\u001b[0;34m'k'\u001b[0m\u001b[0;34m,\u001b[0m\u001b[0mlw\u001b[0m\u001b[0;34m=\u001b[0m\u001b[0;36m6\u001b[0m\u001b[0;34m)\u001b[0m\u001b[0;34m\u001b[0m\u001b[0m\n\u001b[0;32m---> 35\u001b[0;31m     ax1.scatter(data.loc[data.rc == rc,:].snowmelt,data.loc[data.rc == rc,:].Qanom_P,s = 30, c = pallette[c-1],\n\u001b[0m\u001b[1;32m     36\u001b[0m                             alpha = 0.3, edgecolor = 'none');\n\u001b[1;32m     37\u001b[0m \u001b[0;34m\u001b[0m\u001b[0m\n",
      "\u001b[0;31mNameError\u001b[0m: name 'pallette' is not defined"
     ]
    },
    {
     "data": {
      "image/png": "[encoded data removed]",
      "text/plain": [
       "<matplotlib.figure.Figure at 0x118ab13d0>"
      ]
     },
     "metadata": {},
     "output_type": "display_data"
    }
   ],
   "source": [
    "## Generate Group 3 figure A\n",
    "xx = 'snowmelt'\n",
    "yy = 'Qanom_P'\n",
    "\n",
    "mods = []\n",
    "rvals = []\n",
    "pvals = []\n",
    "slopes = []\n",
    "intercepts = []\n",
    "Sfs = []\n",
    "\n",
    "for rc in grp3:\n",
    "    X = data.loc[data.rc==rc,xx] # pull out the independant variable\n",
    "    y = data.loc[data.rc==rc,yy] # pull out the dependant variable\n",
    "    slope, intrccept, r_value, p_value, std_rcr = stats.linregress(X,y) # fit the model\n",
    "    Sf = np.arange(data.loc[data.rc==rc,xx].min(),data.loc[data.rc==rc,xx].max()+0.001,0.001)\n",
    "    mods.append(Sf*slope+intrccept) # genrcate predicted values\n",
    "    rvals.append(r_value)\n",
    "    pvals.append(p_value)\n",
    "    slopes.append(slope)\n",
    "    intercepts.append(intercept)\n",
    "    Sfs.append(Sf)\n",
    "    \n",
    "rsqrds = np.square(rvals)\n",
    "    \n",
    "names = []\n",
    "for reg,p,r in zip(grp3n,pvals,rvals):\n",
    "    names.append(reg+': \\n p='+str(round(p,4))+', r$^2$='+str(round(r**2,3)))\n",
    "\n",
    "fig = plt.figure(figsize=(8,8))\n",
    "ax1 = fig.add_subplot(111)\n",
    "#plts = []\n",
    "for rc,c,mod,Sf in zip(grp3,grp3c,mods,Sfs):\n",
    "    ax1.plot(Sf,mod,'-',color='k',lw=6)\n",
    "    ax1.scatter(data.loc[data.rc == rc,:].snowmelt,data.loc[data.rc == rc,:].Qanom_P,s = 30, c = pallette[c-1],\n",
    "                            alpha = 0.3, edgecolor = 'none');\n",
    "\n",
    "for rc,c,mod,Sf,lab in zip(grp3,grp3c,mods,Sfs,names):\n",
    "    ax1.plot(Sf,mod,'-',color=pallette[c-1],lw=3,label=lab)\n",
    "    \n",
    "ax1.set_xlim([0,50])\n",
    "ax1.set_ylim([-0.2,0.4])\n",
    "\n",
    "plt.setp(ax1.get_xticklabels(),fontsize=16)\n",
    "plt.setp(ax1.get_yticklabels(),fontsize=16)\n",
    "\n",
    "ax1.set_xlabel('Snowmelt Rate [mm/d]',fontsize=18)\n",
    "ax1.set_ylabel('Streamflow Anomoly \\n (actual - predicted Q)/P', fontsize=18)\n",
    "\n",
    "\n",
    "plt.legend(fontsize=20);\n",
    "\n",
    "plt.savefig('./figures/group3A.png',bbox_inches='tight',dpi=600)"
   ]
  },
  {
   "cell_type": "code",
   "execution_count": 33,
   "metadata": {
    "collapsed": false
   },
   "outputs": [
    {
     "ename": "NameError",
     "evalue": "name 'pallette' is not defined",
     "output_type": "error",
     "traceback": [
      "\u001b[0;31m---------------------------------------------------------------------------\u001b[0m",
      "\u001b[0;31mNameError\u001b[0m                                 Traceback (most recent call last)",
      "\u001b[0;32m<ipython-input-33-3dbe5191078d>\u001b[0m in \u001b[0;36m<module>\u001b[0;34m()\u001b[0m\n\u001b[1;32m     33\u001b[0m \u001b[0;32mfor\u001b[0m \u001b[0mrc\u001b[0m\u001b[0;34m,\u001b[0m\u001b[0mc\u001b[0m\u001b[0;34m,\u001b[0m\u001b[0mmod\u001b[0m\u001b[0;34m,\u001b[0m\u001b[0mSf\u001b[0m \u001b[0;32min\u001b[0m \u001b[0mzip\u001b[0m\u001b[0;34m(\u001b[0m\u001b[0mgrp3\u001b[0m\u001b[0;34m,\u001b[0m\u001b[0mgrp3c\u001b[0m\u001b[0;34m,\u001b[0m\u001b[0mmods\u001b[0m\u001b[0;34m,\u001b[0m\u001b[0mSfs\u001b[0m\u001b[0;34m)\u001b[0m\u001b[0;34m:\u001b[0m\u001b[0;34m\u001b[0m\u001b[0m\n\u001b[1;32m     34\u001b[0m     \u001b[0max1\u001b[0m\u001b[0;34m.\u001b[0m\u001b[0mplot\u001b[0m\u001b[0;34m(\u001b[0m\u001b[0mSf\u001b[0m\u001b[0;34m,\u001b[0m\u001b[0mmod\u001b[0m\u001b[0;34m,\u001b[0m\u001b[0;34m'-'\u001b[0m\u001b[0;34m,\u001b[0m\u001b[0mcolor\u001b[0m\u001b[0;34m=\u001b[0m\u001b[0;34m'k'\u001b[0m\u001b[0;34m,\u001b[0m\u001b[0mlw\u001b[0m\u001b[0;34m=\u001b[0m\u001b[0;36m6\u001b[0m\u001b[0;34m)\u001b[0m\u001b[0;34m\u001b[0m\u001b[0m\n\u001b[0;32m---> 35\u001b[0;31m     ax1.scatter(data.loc[data.rc == rc,:].rain,data.loc[data.rc == rc,:].Qanom_P,s = 30, c = pallette[c-1],\n\u001b[0m\u001b[1;32m     36\u001b[0m                             alpha = 0.3, edgecolor = 'none');\n\u001b[1;32m     37\u001b[0m \u001b[0;34m\u001b[0m\u001b[0m\n",
      "\u001b[0;31mNameError\u001b[0m: name 'pallette' is not defined"
     ]
    },
    {
     "data": {
      "image/png": "[encoded data removed]",
      "text/plain": [
       "<matplotlib.figure.Figure at 0x118d47410>"
      ]
     },
     "metadata": {},
     "output_type": "display_data"
    }
   ],
   "source": [
    "## Generate Group 3 figure B\n",
    "xx = 'rain'\n",
    "yy = 'Qanom_P'\n",
    "\n",
    "mods = []\n",
    "rvals = []\n",
    "pvals = []\n",
    "slopes = []\n",
    "intercepts = []\n",
    "Sfs = []\n",
    "\n",
    "for rc in grp3:\n",
    "    X = data.loc[data.rc==rc,xx] # pull out the independant variable\n",
    "    y = data.loc[data.rc==rc,yy] # pull out the dependant variable\n",
    "    slope, intrccept, r_value, p_value, std_rcr = stats.linregress(X,y) # fit the model\n",
    "    Sf = np.arange(data.loc[data.rc==rc,xx].min(),data.loc[data.rc==rc,xx].max()+0.001,0.001)\n",
    "    mods.append(Sf*slope+intrccept) # genrcate predicted values\n",
    "    rvals.append(r_value)\n",
    "    pvals.append(p_value)\n",
    "    slopes.append(slope)\n",
    "    intercepts.append(intercept)\n",
    "    Sfs.append(Sf)\n",
    "    \n",
    "rsqrds = np.square(rvals)\n",
    "    \n",
    "names = []\n",
    "for reg,p,r in zip(grp3n,pvals,rvals):\n",
    "    names.append(reg+': \\n p='+str(round(p,4))+', r$^2$='+str(round(r**2,3)))\n",
    "\n",
    "fig = plt.figure(figsize=(8,8))\n",
    "ax1 = fig.add_subplot(111)\n",
    "#plts = []\n",
    "for rc,c,mod,Sf in zip(grp3,grp3c,mods,Sfs):\n",
    "    ax1.plot(Sf,mod,'-',color='k',lw=6)\n",
    "    ax1.scatter(data.loc[data.rc == rc,:].rain,data.loc[data.rc == rc,:].Qanom_P,s = 30, c = pallette[c-1],\n",
    "                            alpha = 0.3, edgecolor = 'none');\n",
    "\n",
    "for rc,c,mod,Sf,lab in zip(grp3,grp3c,mods,Sfs,names):\n",
    "    ax1.plot(Sf,mod,'-',color=pallette[c-1],lw=3,label=lab)\n",
    "    \n",
    "ax1.set_xlim([0,50])\n",
    "ax1.set_ylim([-0.2,0.4])\n",
    "\n",
    "plt.setp(ax1.get_xticklabels(),fontsize=16)\n",
    "plt.setp(ax1.get_yticklabels(),fontsize=16)\n",
    "\n",
    "ax1.set_xlabel('Rainfall Rate [mm/d]',fontsize=18)\n",
    "ax1.set_ylabel('Streamflow Anomoly \\n (actual - predicted Q)/P', fontsize=18)\n",
    "\n",
    "\n",
    "plt.legend(fontsize=20);\n",
    "\n",
    "plt.savefig('./figures/group3B.png',bbox_inches='tight',dpi=600)"
   ]
  },
  {
   "cell_type": "code",
   "execution_count": 34,
   "metadata": {
    "collapsed": false
   },
   "outputs": [
    {
     "ename": "NameError",
     "evalue": "name 'pallette' is not defined",
     "output_type": "error",
     "traceback": [
      "\u001b[0;31m---------------------------------------------------------------------------\u001b[0m",
      "\u001b[0;31mNameError\u001b[0m                                 Traceback (most recent call last)",
      "\u001b[0;32m<ipython-input-34-fd49a83a971c>\u001b[0m in \u001b[0;36m<module>\u001b[0;34m()\u001b[0m\n\u001b[1;32m     33\u001b[0m \u001b[0;32mfor\u001b[0m \u001b[0mrc\u001b[0m\u001b[0;34m,\u001b[0m\u001b[0mc\u001b[0m\u001b[0;34m,\u001b[0m\u001b[0mmod\u001b[0m\u001b[0;34m,\u001b[0m\u001b[0mSf\u001b[0m \u001b[0;32min\u001b[0m \u001b[0mzip\u001b[0m\u001b[0;34m(\u001b[0m\u001b[0mgrp4\u001b[0m\u001b[0;34m,\u001b[0m\u001b[0mgrp4c\u001b[0m\u001b[0;34m,\u001b[0m\u001b[0mmods\u001b[0m\u001b[0;34m,\u001b[0m\u001b[0mSfs\u001b[0m\u001b[0;34m)\u001b[0m\u001b[0;34m:\u001b[0m\u001b[0;34m\u001b[0m\u001b[0m\n\u001b[1;32m     34\u001b[0m     \u001b[0max1\u001b[0m\u001b[0;34m.\u001b[0m\u001b[0mplot\u001b[0m\u001b[0;34m(\u001b[0m\u001b[0mSf\u001b[0m\u001b[0;34m,\u001b[0m\u001b[0mmod\u001b[0m\u001b[0;34m,\u001b[0m\u001b[0;34m'-'\u001b[0m\u001b[0;34m,\u001b[0m\u001b[0mcolor\u001b[0m\u001b[0;34m=\u001b[0m\u001b[0;34m'k'\u001b[0m\u001b[0;34m,\u001b[0m\u001b[0mlw\u001b[0m\u001b[0;34m=\u001b[0m\u001b[0;36m6\u001b[0m\u001b[0;34m)\u001b[0m\u001b[0;34m\u001b[0m\u001b[0m\n\u001b[0;32m---> 35\u001b[0;31m     ax1.scatter(data.loc[data.rc == rc,:].snowmelt,data.loc[data.rc == rc,:].Qanom_P,s = 30, c = pallette[c-1],\n\u001b[0m\u001b[1;32m     36\u001b[0m                             alpha = 0.3, edgecolor = 'none');\n\u001b[1;32m     37\u001b[0m \u001b[0;34m\u001b[0m\u001b[0m\n",
      "\u001b[0;31mNameError\u001b[0m: name 'pallette' is not defined"
     ]
    },
    {
     "data": {
      "image/png": "[encoded data removed]",
      "text/plain": [
       "<matplotlib.figure.Figure at 0x118ee3490>"
      ]
     },
     "metadata": {},
     "output_type": "display_data"
    }
   ],
   "source": [
    "## Generate Group 4 figure\n",
    "xx = 'snowmelt'\n",
    "yy = 'Qanom_P'\n",
    "\n",
    "mods = []\n",
    "rvals = []\n",
    "pvals = []\n",
    "slopes = []\n",
    "intercepts = []\n",
    "Sfs = []\n",
    "\n",
    "for rc in grp4:\n",
    "    X = data.loc[data.rc==rc,xx] # pull out the independant variable\n",
    "    y = data.loc[data.rc==rc,yy] # pull out the dependant variable\n",
    "    slope, intrccept, r_value, p_value, std_rcr = stats.linregress(X,y) # fit the model\n",
    "    Sf = np.arange(data.loc[data.rc==rc,xx].min(),data.loc[data.rc==rc,xx].max()+0.001,0.001)\n",
    "    mods.append(Sf*slope+intrccept) # genrcate predicted values\n",
    "    rvals.append(r_value)\n",
    "    pvals.append(p_value)\n",
    "    slopes.append(slope)\n",
    "    intercepts.append(intercept)\n",
    "    Sfs.append(Sf)\n",
    "    \n",
    "rsqrds = np.square(rvals)\n",
    "    \n",
    "names = []\n",
    "for reg,p,r in zip(grp4n,pvals,rvals):\n",
    "    names.append(reg+': \\n p='+str(round(p,4))+', r$^2$='+str(round(r**2,3)))\n",
    "\n",
    "fig = plt.figure(figsize=(8,8))\n",
    "ax1 = fig.add_subplot(111)\n",
    "#plts = []\n",
    "for rc,c,mod,Sf in zip(grp4,grp4c,mods,Sfs):\n",
    "    ax1.plot(Sf,mod,'-',color='k',lw=6)\n",
    "    ax1.scatter(data.loc[data.rc == rc,:].snowmelt,data.loc[data.rc == rc,:].Qanom_P,s = 30, c = pallette[c-1],\n",
    "                            alpha = 0.3, edgecolor = 'none');\n",
    "\n",
    "for rc,c,mod,Sf,lab in zip(grp4,grp4c,mods,Sfs,names):\n",
    "    ax1.plot(Sf,mod,'-',color=pallette[c-1],lw=3,label=lab)\n",
    "    \n",
    "ax1.set_xlim([0,50])\n",
    "ax1.set_ylim([-0.2,0.4])\n",
    "\n",
    "plt.setp(ax1.get_xticklabels(),fontsize=16)\n",
    "plt.setp(ax1.get_yticklabels(),fontsize=16)\n",
    "\n",
    "ax1.set_xlabel('Snowmelt Rate [mm/d]',fontsize=18)\n",
    "ax1.set_ylabel('Streamflow Anomoly \\n (actual - predicted Q)/P', fontsize=18)\n",
    "\n",
    "\n",
    "plt.legend(fontsize=20);\n",
    "\n",
    "plt.savefig('./figures/group4.png',bbox_inches='tight',dpi=600)"
   ]
  },
  {
   "cell_type": "code",
   "execution_count": 35,
   "metadata": {
    "collapsed": false
   },
   "outputs": [
    {
     "ename": "IndentationError",
     "evalue": "unexpected indent (<ipython-input-35-ed407b7afa05>, line 2)",
     "output_type": "error",
     "traceback": [
      "\u001b[0;36m  File \u001b[0;32m\"<ipython-input-35-ed407b7afa05>\"\u001b[0;36m, line \u001b[0;32m2\u001b[0m\n\u001b[0;31m    'Canadian Rockies',\u001b[0m\n\u001b[0m    ^\u001b[0m\n\u001b[0;31mIndentationError\u001b[0m\u001b[0;31m:\u001b[0m unexpected indent\n"
     ]
    }
   ],
   "source": [
    "'Blue Mountains',\n",
    " 'Canadian Rockies',\n",
    " 'Cascades',\n",
    " 'Central Basin and Range',\n",
    " 'Coast Range',\n",
    " 'East Cascades',\n",
    " 'Idaho Batholith',\n",
    " 'Klamath',\n",
    " 'Middle Rockies',\n",
    " 'North Basin and Range',\n",
    " 'North Cascades',\n",
    " 'Northern Rockies',\n",
    " 'Sierra',\n",
    " 'Southern Rockies',\n",
    " 'Wasatch']"
   ]
  },
  {
   "cell_type": "code",
   "execution_count": 36,
   "metadata": {
    "collapsed": false
   },
   "outputs": [
    {
     "ename": "SyntaxError",
     "evalue": "invalid syntax (<ipython-input-36-72de7872860c>, line 1)",
     "output_type": "error",
     "traceback": [
      "\u001b[0;36m  File \u001b[0;32m\"<ipython-input-36-72de7872860c>\"\u001b[0;36m, line \u001b[0;32m1\u001b[0m\n\u001b[0;31m    1 'Cascades'\u001b[0m\n\u001b[0m               ^\u001b[0m\n\u001b[0;31mSyntaxError\u001b[0m\u001b[0;31m:\u001b[0m invalid syntax\n"
     ]
    }
   ],
   "source": [
    "1 'Cascades'\n",
    "2 'East Cascades'\n",
    "3 'North Cascades'\n",
    "4 'Sierra'\n",
    "5 'Klamath'\n",
    "6 'Northern Rockies'\n",
    "7 'Middle Rockies'\n",
    "8 'Canadian Rockies'\n",
    "9 'Idaho Batholith'\n",
    "10 'Blue Mountains'\n",
    "11 'North Basin and Range'\n",
    "12 'Wasatch'\n",
    "13 'Southern Rockies'\n",
    "14 'Central Basin and Range'\n",
    "15 'Coast Range'"
   ]
  },
  {
   "cell_type": "markdown",
   "metadata": {},
   "source": [
    "## Water Flux vs Streamflow Anomaly"
   ]
  },
  {
   "cell_type": "code",
   "execution_count": 37,
   "metadata": {
    "collapsed": false
   },
   "outputs": [
    {
     "ename": "NameError",
     "evalue": "name 'sns' is not defined",
     "output_type": "error",
     "traceback": [
      "\u001b[0;31m---------------------------------------------------------------------------\u001b[0m",
      "\u001b[0;31mNameError\u001b[0m                                 Traceback (most recent call last)",
      "\u001b[0;32m<ipython-input-37-91f1f86cc1dc>\u001b[0m in \u001b[0;36m<module>\u001b[0;34m()\u001b[0m\n\u001b[1;32m     29\u001b[0m     \u001b[0mnames\u001b[0m\u001b[0;34m.\u001b[0m\u001b[0mappend\u001b[0m\u001b[0;34m(\u001b[0m\u001b[0mreg\u001b[0m\u001b[0;34m+\u001b[0m\u001b[0;34m': p='\u001b[0m\u001b[0;34m+\u001b[0m\u001b[0mstr\u001b[0m\u001b[0;34m(\u001b[0m\u001b[0mround\u001b[0m\u001b[0;34m(\u001b[0m\u001b[0mp\u001b[0m\u001b[0;34m,\u001b[0m\u001b[0;36m4\u001b[0m\u001b[0;34m)\u001b[0m\u001b[0;34m)\u001b[0m\u001b[0;34m+\u001b[0m\u001b[0;34m', r$^2$='\u001b[0m\u001b[0;34m+\u001b[0m\u001b[0mstr\u001b[0m\u001b[0;34m(\u001b[0m\u001b[0mround\u001b[0m\u001b[0;34m(\u001b[0m\u001b[0mr\u001b[0m\u001b[0;34m,\u001b[0m\u001b[0;36m3\u001b[0m\u001b[0;34m)\u001b[0m\u001b[0;34m)\u001b[0m\u001b[0;34m)\u001b[0m\u001b[0;34m\u001b[0m\u001b[0m\n\u001b[1;32m     30\u001b[0m \u001b[0;34m\u001b[0m\u001b[0m\n\u001b[0;32m---> 31\u001b[0;31m \u001b[0msns\u001b[0m\u001b[0;34m.\u001b[0m\u001b[0mset\u001b[0m\u001b[0;34m(\u001b[0m\u001b[0mstyle\u001b[0m\u001b[0;34m=\u001b[0m\u001b[0;34m'darkgrid'\u001b[0m\u001b[0;34m)\u001b[0m\u001b[0;34m\u001b[0m\u001b[0m\n\u001b[0m\u001b[1;32m     32\u001b[0m \u001b[0mg\u001b[0m \u001b[0;34m=\u001b[0m \u001b[0msns\u001b[0m\u001b[0;34m.\u001b[0m\u001b[0mlmplot\u001b[0m\u001b[0;34m(\u001b[0m\u001b[0mxx\u001b[0m\u001b[0;34m,\u001b[0m\u001b[0myy\u001b[0m\u001b[0;34m,\u001b[0m\u001b[0mcol\u001b[0m \u001b[0;34m=\u001b[0m\u001b[0mcol\u001b[0m\u001b[0;34m,\u001b[0m \u001b[0mcol_wrap\u001b[0m\u001b[0;34m=\u001b[0m\u001b[0;36m5\u001b[0m\u001b[0;34m,\u001b[0m \u001b[0mdata\u001b[0m\u001b[0;34m=\u001b[0m\u001b[0mdata\u001b[0m\u001b[0;34m,\u001b[0m \u001b[0mscatter_kws\u001b[0m\u001b[0;34m=\u001b[0m\u001b[0;34m{\u001b[0m\u001b[0;34m's'\u001b[0m\u001b[0;34m:\u001b[0m\u001b[0;36m20\u001b[0m\u001b[0;34m,\u001b[0m\u001b[0;34m'alpha'\u001b[0m\u001b[0;34m:\u001b[0m\u001b[0;36m0.3\u001b[0m\u001b[0;34m}\u001b[0m\u001b[0;34m,\u001b[0m \u001b[0mcolor\u001b[0m\u001b[0;34m=\u001b[0m\u001b[0msnscmap\u001b[0m\u001b[0;34m.\u001b[0m\u001b[0mhex_colors\u001b[0m\u001b[0;34m[\u001b[0m\u001b[0;36m3\u001b[0m\u001b[0;34m]\u001b[0m\u001b[0;34m,\u001b[0m \u001b[0msize\u001b[0m\u001b[0;34m=\u001b[0m\u001b[0msize\u001b[0m\u001b[0;34m)\u001b[0m\u001b[0;34m\u001b[0m\u001b[0m\n\u001b[1;32m     33\u001b[0m \u001b[0mg\u001b[0m\u001b[0;34m.\u001b[0m\u001b[0mset_axis_labels\u001b[0m\u001b[0;34m(\u001b[0m\u001b[0mx_var\u001b[0m\u001b[0;34m=\u001b[0m\u001b[0;34m'Snowmelt + rain [mm/day]'\u001b[0m\u001b[0;34m,\u001b[0m\u001b[0my_var\u001b[0m\u001b[0;34m=\u001b[0m\u001b[0;34m'Streamflow Anomaly [ ]'\u001b[0m\u001b[0;34m)\u001b[0m\u001b[0;34m\u001b[0m\u001b[0m\n",
      "\u001b[0;31mNameError\u001b[0m: name 'sns' is not defined"
     ]
    }
   ],
   "source": [
    "xx = 'wflux5'\n",
    "yy = 'Qanom_P'\n",
    "col = 'region'\n",
    "size = 3.5\n",
    "\n",
    "mods = []\n",
    "rvals = []\n",
    "pvals = []\n",
    "slopes = []\n",
    "intercepts = []\n",
    "Sfs = []\n",
    "\n",
    "for rc in xrange(1,16):\n",
    "    X = data.loc[data.rc==rc,xx] # pull out the independant variable\n",
    "    y = data.loc[data.rc==rc,yy] # pull out the dependant variable\n",
    "    slope, intrccept, r_value, p_value, std_rcr = stats.linregress(X,y) # fit the model\n",
    "    Sf = np.arange(data.loc[data.rc==rc,xx].min(),data.loc[data.rc==rc,xx].max()+0.001,0.001)\n",
    "    mods.append(Sf*slope+intrccept) # genrcate predicted values\n",
    "    rvals.append(r_value)\n",
    "    pvals.append(p_value)\n",
    "    slopes.append(slope)\n",
    "    intercepts.append(intercept)\n",
    "    Sfs.append(Sf)\n",
    "    \n",
    "rsqrds = np.square(rvals)\n",
    "    \n",
    "names = []\n",
    "for reg,p,r in zip(regions,pvals,rsqrds):\n",
    "    names.append(reg+': p='+str(round(p,4))+', r$^2$='+str(round(r,3)))\n",
    "\n",
    "sns.set(style='darkgrid')\n",
    "g = sns.lmplot(xx,yy,col =col, col_wrap=5, data=data, scatter_kws={'s':20,'alpha':0.3}, color=snscmap.hex_colors[3], size=size)\n",
    "g.set_axis_labels(x_var='Snowmelt + rain [mm/day]',y_var='Streamflow Anomaly [ ]')\n",
    "names.sort()\n",
    "\n",
    "for ax,name in zip(g.axes.flat,names):    \n",
    "    ax.set_title(name)\n",
    "    ax.set_xlim([0,35])\n",
    "    ax.set_ylim([-0.2,0.4])"
   ]
  },
  {
   "cell_type": "markdown",
   "metadata": {},
   "source": [
    "***Figure 5:*** Relationships between water flux (snowmelt + rain as long as there is no accumulation occiring, and rain when there is now snow). The north cascades have changed sign. The northern rockies still have an odd shape. Some relationships are better when rain is included, some are worse."
   ]
  },
  {
   "cell_type": "markdown",
   "metadata": {},
   "source": [
    "## Rainfall Rate vs Streamflow Anomaly"
   ]
  },
  {
   "cell_type": "code",
   "execution_count": 38,
   "metadata": {
    "collapsed": false
   },
   "outputs": [
    {
     "ename": "NameError",
     "evalue": "name 'sns' is not defined",
     "output_type": "error",
     "traceback": [
      "\u001b[0;31m---------------------------------------------------------------------------\u001b[0m",
      "\u001b[0;31mNameError\u001b[0m                                 Traceback (most recent call last)",
      "\u001b[0;32m<ipython-input-38-8b46822015eb>\u001b[0m in \u001b[0;36m<module>\u001b[0;34m()\u001b[0m\n\u001b[1;32m     29\u001b[0m     \u001b[0mnames\u001b[0m\u001b[0;34m.\u001b[0m\u001b[0mappend\u001b[0m\u001b[0;34m(\u001b[0m\u001b[0mreg\u001b[0m\u001b[0;34m+\u001b[0m\u001b[0;34m': p='\u001b[0m\u001b[0;34m+\u001b[0m\u001b[0mstr\u001b[0m\u001b[0;34m(\u001b[0m\u001b[0mround\u001b[0m\u001b[0;34m(\u001b[0m\u001b[0mp\u001b[0m\u001b[0;34m,\u001b[0m\u001b[0;36m4\u001b[0m\u001b[0;34m)\u001b[0m\u001b[0;34m)\u001b[0m\u001b[0;34m+\u001b[0m\u001b[0;34m', r$^2$='\u001b[0m\u001b[0;34m+\u001b[0m\u001b[0mstr\u001b[0m\u001b[0;34m(\u001b[0m\u001b[0mround\u001b[0m\u001b[0;34m(\u001b[0m\u001b[0mr\u001b[0m\u001b[0;34m,\u001b[0m\u001b[0;36m3\u001b[0m\u001b[0;34m)\u001b[0m\u001b[0;34m)\u001b[0m\u001b[0;34m)\u001b[0m\u001b[0;34m\u001b[0m\u001b[0m\n\u001b[1;32m     30\u001b[0m \u001b[0;34m\u001b[0m\u001b[0m\n\u001b[0;32m---> 31\u001b[0;31m \u001b[0msns\u001b[0m\u001b[0;34m.\u001b[0m\u001b[0mset\u001b[0m\u001b[0;34m(\u001b[0m\u001b[0mstyle\u001b[0m\u001b[0;34m=\u001b[0m\u001b[0;34m'darkgrid'\u001b[0m\u001b[0;34m)\u001b[0m\u001b[0;34m\u001b[0m\u001b[0m\n\u001b[0m\u001b[1;32m     32\u001b[0m \u001b[0mg\u001b[0m \u001b[0;34m=\u001b[0m \u001b[0msns\u001b[0m\u001b[0;34m.\u001b[0m\u001b[0mlmplot\u001b[0m\u001b[0;34m(\u001b[0m\u001b[0mxx\u001b[0m\u001b[0;34m,\u001b[0m\u001b[0myy\u001b[0m\u001b[0;34m,\u001b[0m\u001b[0mcol\u001b[0m \u001b[0;34m=\u001b[0m\u001b[0mcol\u001b[0m\u001b[0;34m,\u001b[0m \u001b[0mcol_wrap\u001b[0m\u001b[0;34m=\u001b[0m\u001b[0;36m5\u001b[0m\u001b[0;34m,\u001b[0m \u001b[0mdata\u001b[0m\u001b[0;34m=\u001b[0m\u001b[0mdata\u001b[0m\u001b[0;34m,\u001b[0m \u001b[0mscatter_kws\u001b[0m\u001b[0;34m=\u001b[0m\u001b[0;34m{\u001b[0m\u001b[0;34m's'\u001b[0m\u001b[0;34m:\u001b[0m\u001b[0;36m20\u001b[0m\u001b[0;34m,\u001b[0m\u001b[0;34m'alpha'\u001b[0m\u001b[0;34m:\u001b[0m\u001b[0;36m0.3\u001b[0m\u001b[0;34m}\u001b[0m\u001b[0;34m,\u001b[0m \u001b[0mcolor\u001b[0m\u001b[0;34m=\u001b[0m\u001b[0msnscmap\u001b[0m\u001b[0;34m.\u001b[0m\u001b[0mhex_colors\u001b[0m\u001b[0;34m[\u001b[0m\u001b[0;36m4\u001b[0m\u001b[0;34m]\u001b[0m\u001b[0;34m,\u001b[0m \u001b[0msize\u001b[0m\u001b[0;34m=\u001b[0m\u001b[0msize\u001b[0m\u001b[0;34m)\u001b[0m\u001b[0;34m\u001b[0m\u001b[0m\n\u001b[1;32m     33\u001b[0m \u001b[0mg\u001b[0m\u001b[0;34m.\u001b[0m\u001b[0mset_axis_labels\u001b[0m\u001b[0;34m(\u001b[0m\u001b[0mx_var\u001b[0m\u001b[0;34m=\u001b[0m\u001b[0;34m'rain [mm/day]'\u001b[0m\u001b[0;34m,\u001b[0m\u001b[0my_var\u001b[0m\u001b[0;34m=\u001b[0m\u001b[0;34m'Streamflow Anomaly [ ]'\u001b[0m\u001b[0;34m)\u001b[0m\u001b[0;34m\u001b[0m\u001b[0m\n",
      "\u001b[0;31mNameError\u001b[0m: name 'sns' is not defined"
     ]
    }
   ],
   "source": [
    "xx = 'rain'\n",
    "yy = 'Qanom_P'\n",
    "col = 'region'\n",
    "size = 3.5\n",
    "\n",
    "mods = []\n",
    "rvals = []\n",
    "pvals = []\n",
    "slopes = []\n",
    "intercepts = []\n",
    "Sfs = []\n",
    "\n",
    "for rc in xrange(1,16):\n",
    "    X = data.loc[data.rc==rc,xx] # pull out the independant variable\n",
    "    y = data.loc[data.rc==rc,yy] # pull out the dependant variable\n",
    "    slope, intrccept, r_value, p_value, std_rcr = stats.linregress(X,y) # fit the model\n",
    "    Sf = np.arange(data.loc[data.rc==rc,xx].min(),data.loc[data.rc==rc,xx].max()+0.001,0.001)\n",
    "    mods.append(Sf*slope+intrccept) # genrcate predicted values\n",
    "    rvals.append(r_value)\n",
    "    pvals.append(p_value)\n",
    "    slopes.append(slope)\n",
    "    intercepts.append(intercept)\n",
    "    Sfs.append(Sf)\n",
    "    \n",
    "rsqrds = np.square(rvals)\n",
    "    \n",
    "names = []\n",
    "for reg,p,r in zip(regions,pvals,rsqrds):\n",
    "    names.append(reg+': p='+str(round(p,4))+', r$^2$='+str(round(r,3)))\n",
    "\n",
    "sns.set(style='darkgrid')\n",
    "g = sns.lmplot(xx,yy,col =col, col_wrap=5, data=data, scatter_kws={'s':20,'alpha':0.3}, color=snscmap.hex_colors[4], size=size)\n",
    "g.set_axis_labels(x_var='rain [mm/day]',y_var='Streamflow Anomaly [ ]')\n",
    "names.sort()\n",
    "\n",
    "for ax,name in zip(g.axes.flat,names):    \n",
    "    ax.set_title(name)\n",
    "    ax.set_xlim([0,35])\n",
    "    ax.set_ylim([-0.2,0.4])"
   ]
  },
  {
   "cell_type": "markdown",
   "metadata": {},
   "source": [
    "***Figure 6:*** Rain seems to work well for the North Cascades and the Cascades, but the relationship is opposite from what I would expect. For the cascades the snowmelt relationship is better as well. "
   ]
  },
  {
   "cell_type": "markdown",
   "metadata": {},
   "source": [
    "## Make a Table of Different Properties for Each Region"
   ]
  },
  {
   "cell_type": "code",
   "execution_count": 39,
   "metadata": {
    "collapsed": false
   },
   "outputs": [],
   "source": [
    "vars = ['Elevation','L1 Ksat', 'Dsmax', 'Soil Depth','Binfilt', 'Q Anomaly','SD Q Anomaly','Peak SWE','Snowmelt Rate',\n",
    "        'Rainfall Rate','Water Flux','SM Rsqrd','SM Pval','SM Slope','WF Rsqrd','WF Pval','WF Slope','RF Rsqrd','RF Pval',\n",
    "        'RF Slope','Seasonality','MAT','P','P SD','SM Rate SD','Peak SWE SD','Elev SD','Seas SD','Elev mean Q25']\n",
    "tab = pd.DataFrame(columns=vars,index=regions)\n",
    "\n",
    "\n",
    "ct = 1\n",
    "for reg in regions:\n",
    "    tab.loc[reg,'Elevation'] = round(data.loc[data.rc==ct,:].DEMelev.mean(),0)\n",
    "    tab.loc[reg,'L1 Ksat'] = round(data.loc[data.rc==ct,:].l1_Ksat.mean(),2)\n",
    "    tab.loc[reg,'Dsmax'] = round(data.loc[data.rc==ct,:].Dsmax.mean(),2)\n",
    "    tab.loc[reg,'Q Anomaly'] = round(data.loc[data.rc==ct,:].Qanom_P.mean(),2)\n",
    "    tab.loc[reg,'SD Q Anomaly'] = round(data.loc[data.rc==ct,:].Qanom_P.std(),2)\n",
    "    tab.loc[reg,'Peak SWE'] = round(data.loc[data.rc==ct,:].meanpeakswe.mean(),2)\n",
    "    tab.loc[reg,'Snowmelt Rate'] = round(data.loc[data.rc==ct,:].snowmelt.mean(),1)\n",
    "    tab.loc[reg,'Rainfall Rate'] = round(data.loc[data.rc==ct,:].rain.mean(),1)\n",
    "    tab.loc[reg,'Water Flux'] = round(data.loc[data.rc==ct,:].wflux5.mean(),1)\n",
    "    tab.loc[reg,'Binfilt'] = round(data.loc[data.rc==ct,:].infilt.mean(),3)\n",
    "    tab.loc[reg,'Seasonality'] = round(data.loc[data.rc==ct,:].seas.mean(),3)\n",
    "    tab.loc[reg,'MAT'] = round(data.loc[data.rc==ct,:].MAT.mean(),3)\n",
    "    tab.loc[reg,'P'] = round(data.loc[data.rc==ct,:].P.mean(),3)\n",
    "    \n",
    "    tab.loc[reg,'P SD'] = round(data.loc[data.rc==ct,:].P.std(),3)\n",
    "    tab.loc[reg,'SM Rate SD'] = round(data.loc[data.rc==ct,:].snowmelt.std(),3)\n",
    "    tab.loc[reg,'Peak SWE SD'] = round(data.loc[data.rc==ct,:].meanpeakswe.std(),3)\n",
    "    tab.loc[reg,'Elev SD'] = round(data.loc[data.rc==ct,:].DEMelev.std(),3)\n",
    "    tab.loc[reg,'Seas SD'] = round(data.loc[data.rc==ct,:].seas.std(),3)\n",
    "    \n",
    "    tmp = data.loc[data.rc==ct,:].DEMelev.as_matrix()\n",
    "    q25 = np.percentile(tmp,0.25)\n",
    "    tmp = tmp[tmp<=q25]\n",
    "    \n",
    "    tab.loc[reg,'Elev mean Q25'] = round(np.mean(tmp),3)\n",
    "    \n",
    "    \n",
    "    xx = 'snowmelt'\n",
    "    yy = 'Qanom_P'\n",
    "    \n",
    "    X = data.loc[data.rc==ct,xx] # pull out the independant variable\n",
    "    y = data.loc[data.rc==ct,yy] # pull out the dependant variable\n",
    "    slope, intrccept, r_value, p_value, std_rcr = stats.linregress(X,y) # fit the model\n",
    "    \n",
    "    tab.loc[reg,'SM Rsqrd'] = round(r_value**2,3)\n",
    "    tab.loc[reg,'SM Pval'] = round(p_value,3)\n",
    "    tab.loc[reg,'SM Slope'] = round(slope,3)\n",
    "    \n",
    "    \n",
    "    xx = 'wflux5'\n",
    "    yy = 'Qanom_P'\n",
    "    \n",
    "    X = data.loc[data.rc==ct,xx] # pull out the independant variable\n",
    "    y = data.loc[data.rc==ct,yy] # pull out the dependant variable\n",
    "    slope, intrccept, r_value, p_value, std_rcr = stats.linregress(X,y) # fit the model\n",
    "    \n",
    "    tab.loc[reg,'WF Rsqrd'] = round(r_value**2,3)\n",
    "    tab.loc[reg,'WF Pval'] = round(p_value,3)\n",
    "    tab.loc[reg,'WF Slope'] = round(slope,3)\n",
    "    \n",
    "    xx = 'rain'\n",
    "    yy = 'Qanom_P'\n",
    "    \n",
    "    X = data.loc[data.rc==ct,xx] # pull out the independant variable\n",
    "    y = data.loc[data.rc==ct,yy] # pull out the dependant variable\n",
    "    slope, intrccept, r_value, p_value, std_rcr = stats.linregress(X,y) # fit the model\n",
    "    \n",
    "    tab.loc[reg,'RF Rsqrd'] = round(r_value**2,3)\n",
    "    tab.loc[reg,'RF Pval'] = round(p_value,3)\n",
    "    tab.loc[reg,'RF Slope'] = round(slope,3)\n",
    "    \n",
    "    l1sd = data.loc[data.rc==ct,'l1_depth']\n",
    "    l2sd = data.loc[data.rc==ct,'l2_depth']\n",
    "    l3sd = data.loc[data.rc==ct,'l3_depth']\n",
    "        \n",
    "    #tab.loc[reg,'Soil Depth'] = np.mean(np.sum([l1sd,l2sd,l3sd], axis=0))\n",
    "    tab.loc[reg,'Soil Depth'] = np.mean(l1sd)\n",
    "    \n",
    "    ct += 1"
   ]
  },
  {
   "cell_type": "markdown",
   "metadata": {},
   "source": [
    "### Table Key:\n",
    "\n",
    "SM - Snowmelt [mm/day]\n",
    "\n",
    "WF - Water Flux (snowmelt + rain) [mm/day]\n",
    "\n",
    "RF - Rainfall Rate [mm/day]"
   ]
  },
  {
   "cell_type": "code",
   "execution_count": 40,
   "metadata": {
    "collapsed": false
   },
   "outputs": [
    {
     "name": "stderr",
     "output_type": "stream",
     "text": [
      "/Users/barnhatb/anaconda/lib/python2.7/site-packages/ipykernel/__main__.py:1: FutureWarning: sort(columns=....) is deprecated, use sort_values(by=.....)\n",
      "  if __name__ == '__main__':\n"
     ]
    }
   ],
   "source": [
    "tab.sort(columns=['SM Rsqrd'], inplace=True)"
   ]
  },
  {
   "cell_type": "code",
   "execution_count": 41,
   "metadata": {
    "collapsed": false
   },
   "outputs": [
    {
     "data": {
      "text/html": [
       "<div>\n",
       "<table border=\"1\" class=\"dataframe\">\n",
       "  <thead>\n",
       "    <tr style=\"text-align: right;\">\n",
       "      <th></th>\n",
       "      <th>Elevation</th>\n",
       "      <th>L1 Ksat</th>\n",
       "      <th>Dsmax</th>\n",
       "      <th>Soil Depth</th>\n",
       "      <th>Binfilt</th>\n",
       "      <th>Q Anomaly</th>\n",
       "      <th>SD Q Anomaly</th>\n",
       "      <th>Peak SWE</th>\n",
       "      <th>Snowmelt Rate</th>\n",
       "      <th>Rainfall Rate</th>\n",
       "      <th>...</th>\n",
       "      <th>RF Slope</th>\n",
       "      <th>Seasonality</th>\n",
       "      <th>MAT</th>\n",
       "      <th>P</th>\n",
       "      <th>P SD</th>\n",
       "      <th>SM Rate SD</th>\n",
       "      <th>Peak SWE SD</th>\n",
       "      <th>Elev SD</th>\n",
       "      <th>Seas SD</th>\n",
       "      <th>Elev mean Q25</th>\n",
       "    </tr>\n",
       "  </thead>\n",
       "  <tbody>\n",
       "    <tr>\n",
       "      <th>Southern Rockies</th>\n",
       "      <td>1305</td>\n",
       "      <td>832.57</td>\n",
       "      <td>11.01</td>\n",
       "      <td>0.1</td>\n",
       "      <td>0.184</td>\n",
       "      <td>0.11</td>\n",
       "      <td>0.1</td>\n",
       "      <td>172.29</td>\n",
       "      <td>3</td>\n",
       "      <td>2.1</td>\n",
       "      <td>...</td>\n",
       "      <td>-0.054</td>\n",
       "      <td>0.328</td>\n",
       "      <td>6.13</td>\n",
       "      <td>1.542</td>\n",
       "      <td>0.742</td>\n",
       "      <td>2.068</td>\n",
       "      <td>209.923</td>\n",
       "      <td>319.624</td>\n",
       "      <td>0.147</td>\n",
       "      <td>512.667</td>\n",
       "    </tr>\n",
       "    <tr>\n",
       "      <th>Middle Rockies</th>\n",
       "      <td>1123</td>\n",
       "      <td>886.04</td>\n",
       "      <td>10.87</td>\n",
       "      <td>0.1</td>\n",
       "      <td>0.215</td>\n",
       "      <td>0.11</td>\n",
       "      <td>0.08</td>\n",
       "      <td>369.99</td>\n",
       "      <td>5.6</td>\n",
       "      <td>2.8</td>\n",
       "      <td>...</td>\n",
       "      <td>-0.038</td>\n",
       "      <td>0.279</td>\n",
       "      <td>5.086</td>\n",
       "      <td>2.272</td>\n",
       "      <td>0.933</td>\n",
       "      <td>2.985</td>\n",
       "      <td>296.301</td>\n",
       "      <td>307.833</td>\n",
       "      <td>0.164</td>\n",
       "      <td>461.714</td>\n",
       "    </tr>\n",
       "    <tr>\n",
       "      <th>North Cascades</th>\n",
       "      <td>1183</td>\n",
       "      <td>1421.19</td>\n",
       "      <td>10.63</td>\n",
       "      <td>0.1</td>\n",
       "      <td>0.299</td>\n",
       "      <td>0.15</td>\n",
       "      <td>0.08</td>\n",
       "      <td>952.77</td>\n",
       "      <td>9.1</td>\n",
       "      <td>4.1</td>\n",
       "      <td>...</td>\n",
       "      <td>-0.025</td>\n",
       "      <td>0.489</td>\n",
       "      <td>3.518</td>\n",
       "      <td>4.828</td>\n",
       "      <td>2.606</td>\n",
       "      <td>4.302</td>\n",
       "      <td>636.794</td>\n",
       "      <td>456.337</td>\n",
       "      <td>0.12</td>\n",
       "      <td>109.333</td>\n",
       "    </tr>\n",
       "    <tr>\n",
       "      <th>East Cascades</th>\n",
       "      <td>1393</td>\n",
       "      <td>2031.87</td>\n",
       "      <td>10.53</td>\n",
       "      <td>0.1</td>\n",
       "      <td>0.212</td>\n",
       "      <td>0.09</td>\n",
       "      <td>0.08</td>\n",
       "      <td>187.09</td>\n",
       "      <td>3.6</td>\n",
       "      <td>2.4</td>\n",
       "      <td>...</td>\n",
       "      <td>-0.003</td>\n",
       "      <td>0.509</td>\n",
       "      <td>6.632</td>\n",
       "      <td>1.69</td>\n",
       "      <td>0.786</td>\n",
       "      <td>2.259</td>\n",
       "      <td>210.611</td>\n",
       "      <td>342.982</td>\n",
       "      <td>0.104</td>\n",
       "      <td>189.5</td>\n",
       "    </tr>\n",
       "    <tr>\n",
       "      <th>Northern Rockies</th>\n",
       "      <td>927</td>\n",
       "      <td>713.66</td>\n",
       "      <td>10.15</td>\n",
       "      <td>0.1</td>\n",
       "      <td>0.17</td>\n",
       "      <td>0.12</td>\n",
       "      <td>0.08</td>\n",
       "      <td>240.37</td>\n",
       "      <td>4.3</td>\n",
       "      <td>6.8</td>\n",
       "      <td>...</td>\n",
       "      <td>-0.007</td>\n",
       "      <td>0.689</td>\n",
       "      <td>9.116</td>\n",
       "      <td>4.115</td>\n",
       "      <td>1.787</td>\n",
       "      <td>2.25</td>\n",
       "      <td>314.681</td>\n",
       "      <td>388.711</td>\n",
       "      <td>0.076</td>\n",
       "      <td>168.75</td>\n",
       "    </tr>\n",
       "    <tr>\n",
       "      <th>Sierra</th>\n",
       "      <td>1901</td>\n",
       "      <td>1627.43</td>\n",
       "      <td>9.15</td>\n",
       "      <td>0.1</td>\n",
       "      <td>0.111</td>\n",
       "      <td>0.19</td>\n",
       "      <td>0.06</td>\n",
       "      <td>419.11</td>\n",
       "      <td>5.5</td>\n",
       "      <td>4.7</td>\n",
       "      <td>...</td>\n",
       "      <td>-0.002</td>\n",
       "      <td>0.699</td>\n",
       "      <td>6.969</td>\n",
       "      <td>3.027</td>\n",
       "      <td>1.078</td>\n",
       "      <td>2.455</td>\n",
       "      <td>337.167</td>\n",
       "      <td>685.145</td>\n",
       "      <td>0.061</td>\n",
       "      <td>484.75</td>\n",
       "    </tr>\n",
       "    <tr>\n",
       "      <th>Idaho Batholith</th>\n",
       "      <td>1756</td>\n",
       "      <td>773.1</td>\n",
       "      <td>10.86</td>\n",
       "      <td>0.1</td>\n",
       "      <td>0.301</td>\n",
       "      <td>0.15</td>\n",
       "      <td>0.06</td>\n",
       "      <td>652.85</td>\n",
       "      <td>7.5</td>\n",
       "      <td>3.4</td>\n",
       "      <td>...</td>\n",
       "      <td>0.049</td>\n",
       "      <td>0.23</td>\n",
       "      <td>1.641</td>\n",
       "      <td>3.313</td>\n",
       "      <td>0.957</td>\n",
       "      <td>2.497</td>\n",
       "      <td>304.702</td>\n",
       "      <td>264.898</td>\n",
       "      <td>0.128</td>\n",
       "      <td>1017.5</td>\n",
       "    </tr>\n",
       "    <tr>\n",
       "      <th>Canadian Rockies</th>\n",
       "      <td>2097</td>\n",
       "      <td>613.18</td>\n",
       "      <td>7.8</td>\n",
       "      <td>0.1</td>\n",
       "      <td>0.127</td>\n",
       "      <td>0.05</td>\n",
       "      <td>0.1</td>\n",
       "      <td>218.87</td>\n",
       "      <td>2.9</td>\n",
       "      <td>2.2</td>\n",
       "      <td>...</td>\n",
       "      <td>0.036</td>\n",
       "      <td>-0.106</td>\n",
       "      <td>2.217</td>\n",
       "      <td>1.687</td>\n",
       "      <td>0.643</td>\n",
       "      <td>1.956</td>\n",
       "      <td>210.25</td>\n",
       "      <td>511.088</td>\n",
       "      <td>0.29</td>\n",
       "      <td>992.923</td>\n",
       "    </tr>\n",
       "    <tr>\n",
       "      <th>Wasatch</th>\n",
       "      <td>1927</td>\n",
       "      <td>1185.18</td>\n",
       "      <td>11.45</td>\n",
       "      <td>0.1</td>\n",
       "      <td>0.116</td>\n",
       "      <td>0.12</td>\n",
       "      <td>0.1</td>\n",
       "      <td>507.42</td>\n",
       "      <td>5.9</td>\n",
       "      <td>2.7</td>\n",
       "      <td>...</td>\n",
       "      <td>0.038</td>\n",
       "      <td>0.339</td>\n",
       "      <td>2.303</td>\n",
       "      <td>2.458</td>\n",
       "      <td>0.765</td>\n",
       "      <td>2.387</td>\n",
       "      <td>262.522</td>\n",
       "      <td>394.842</td>\n",
       "      <td>0.137</td>\n",
       "      <td>809.2</td>\n",
       "    </tr>\n",
       "    <tr>\n",
       "      <th>Cascades</th>\n",
       "      <td>1044</td>\n",
       "      <td>1068.41</td>\n",
       "      <td>10.64</td>\n",
       "      <td>0.1</td>\n",
       "      <td>0.292</td>\n",
       "      <td>0.07</td>\n",
       "      <td>0.1</td>\n",
       "      <td>635.79</td>\n",
       "      <td>8.2</td>\n",
       "      <td>5.9</td>\n",
       "      <td>...</td>\n",
       "      <td>-0.028</td>\n",
       "      <td>0.542</td>\n",
       "      <td>6.311</td>\n",
       "      <td>5.253</td>\n",
       "      <td>1.559</td>\n",
       "      <td>3.94</td>\n",
       "      <td>520.542</td>\n",
       "      <td>456.589</td>\n",
       "      <td>0.057</td>\n",
       "      <td>145</td>\n",
       "    </tr>\n",
       "  </tbody>\n",
       "</table>\n",
       "<p>10 rows × 29 columns</p>\n",
       "</div>"
      ],
      "text/plain": [
       "                 Elevation  L1 Ksat  Dsmax Soil Depth Binfilt Q Anomaly  \\\n",
       "Southern Rockies      1305   832.57  11.01        0.1   0.184      0.11   \n",
       "Middle Rockies        1123   886.04  10.87        0.1   0.215      0.11   \n",
       "North Cascades        1183  1421.19  10.63        0.1   0.299      0.15   \n",
       "East Cascades         1393  2031.87  10.53        0.1   0.212      0.09   \n",
       "Northern Rockies       927   713.66  10.15        0.1    0.17      0.12   \n",
       "Sierra                1901  1627.43   9.15        0.1   0.111      0.19   \n",
       "Idaho Batholith       1756    773.1  10.86        0.1   0.301      0.15   \n",
       "Canadian Rockies      2097   613.18    7.8        0.1   0.127      0.05   \n",
       "Wasatch               1927  1185.18  11.45        0.1   0.116      0.12   \n",
       "Cascades              1044  1068.41  10.64        0.1   0.292      0.07   \n",
       "\n",
       "                 SD Q Anomaly Peak SWE Snowmelt Rate Rainfall Rate  \\\n",
       "Southern Rockies          0.1   172.29             3           2.1   \n",
       "Middle Rockies           0.08   369.99           5.6           2.8   \n",
       "North Cascades           0.08   952.77           9.1           4.1   \n",
       "East Cascades            0.08   187.09           3.6           2.4   \n",
       "Northern Rockies         0.08   240.37           4.3           6.8   \n",
       "Sierra                   0.06   419.11           5.5           4.7   \n",
       "Idaho Batholith          0.06   652.85           7.5           3.4   \n",
       "Canadian Rockies          0.1   218.87           2.9           2.2   \n",
       "Wasatch                   0.1   507.42           5.9           2.7   \n",
       "Cascades                  0.1   635.79           8.2           5.9   \n",
       "\n",
       "                      ...      RF Slope Seasonality    MAT      P   P SD  \\\n",
       "Southern Rockies      ...        -0.054       0.328   6.13  1.542  0.742   \n",
       "Middle Rockies        ...        -0.038       0.279  5.086  2.272  0.933   \n",
       "North Cascades        ...        -0.025       0.489  3.518  4.828  2.606   \n",
       "East Cascades         ...        -0.003       0.509  6.632   1.69  0.786   \n",
       "Northern Rockies      ...        -0.007       0.689  9.116  4.115  1.787   \n",
       "Sierra                ...        -0.002       0.699  6.969  3.027  1.078   \n",
       "Idaho Batholith       ...         0.049        0.23  1.641  3.313  0.957   \n",
       "Canadian Rockies      ...         0.036      -0.106  2.217  1.687  0.643   \n",
       "Wasatch               ...         0.038       0.339  2.303  2.458  0.765   \n",
       "Cascades              ...        -0.028       0.542  6.311  5.253  1.559   \n",
       "\n",
       "                 SM Rate SD Peak SWE SD  Elev SD Seas SD Elev mean Q25  \n",
       "Southern Rockies      2.068     209.923  319.624   0.147       512.667  \n",
       "Middle Rockies        2.985     296.301  307.833   0.164       461.714  \n",
       "North Cascades        4.302     636.794  456.337    0.12       109.333  \n",
       "East Cascades         2.259     210.611  342.982   0.104         189.5  \n",
       "Northern Rockies       2.25     314.681  388.711   0.076        168.75  \n",
       "Sierra                2.455     337.167  685.145   0.061        484.75  \n",
       "Idaho Batholith       2.497     304.702  264.898   0.128        1017.5  \n",
       "Canadian Rockies      1.956      210.25  511.088    0.29       992.923  \n",
       "Wasatch               2.387     262.522  394.842   0.137         809.2  \n",
       "Cascades               3.94     520.542  456.589   0.057           145  \n",
       "\n",
       "[10 rows x 29 columns]"
      ]
     },
     "execution_count": 41,
     "metadata": {},
     "output_type": "execute_result"
    }
   ],
   "source": [
    "tab"
   ]
  },
  {
   "cell_type": "markdown",
   "metadata": {},
   "source": [
    "***Table 1:*** It looks like Peak SWE and Rainfall Rate can explain a lot of the bad relationships (Coast Range, Central Basin and Range, North Basin and Range). For some areas either snowmelt rate or water flux is a better predictor."
   ]
  },
  {
   "cell_type": "code",
   "execution_count": 29,
   "metadata": {
    "collapsed": false
   },
   "outputs": [
    {
     "name": "stdout",
     "output_type": "stream",
     "text": [
      "r2: 0.22\n",
      "pVal: 0.172\n"
     ]
    },
    {
     "data": {
      "image/png": "[encoded data removed]",
      "text/plain": [
       "<matplotlib.figure.Figure at 0x1130ee9d0>"
      ]
     },
     "metadata": {},
     "output_type": "display_data"
    }
   ],
   "source": [
    "xx = 'Elevation'\n",
    "yy = 'SM Rsqrd'\n",
    "\n",
    "slope, intrccept, r_value, p_value, std_rcr = stats.linregress(tab[xx],tab[yy]) # fit the model\n",
    "\n",
    "sns.lmplot(xx,yy,tab)\n",
    "\n",
    "print 'r2:',round(r_value**2,3)\n",
    "print 'pVal:',round(p_value,3)"
   ]
  },
  {
   "cell_type": "code",
   "execution_count": null,
   "metadata": {
    "collapsed": false
   },
   "outputs": [],
   "source": []
  }
 ],
 "metadata": {
  "kernelspec": {
   "display_name": "Python 2",
   "language": "python",
   "name": "python2"
  },
  "language_info": {
   "codemirror_mode": {
    "name": "ipython",
    "version": 2
   },
   "file_extension": ".py",
   "mimetype": "text/x-python",
   "name": "python",
   "nbconvert_exporter": "python",
   "pygments_lexer": "ipython2",
   "version": "2.7.11"
  }
 },
 "nbformat": 4,
 "nbformat_minor": 0
}
