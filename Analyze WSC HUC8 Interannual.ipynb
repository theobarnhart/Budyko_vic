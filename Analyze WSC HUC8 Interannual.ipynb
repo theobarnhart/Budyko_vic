{
 "metadata": {
  "name": "",
  "signature": "sha256:490d43b4ad55b76142045ca80f486b92f94a48331f816dcf1b9d6fce23c6b6ec"
 },
 "nbformat": 3,
 "nbformat_minor": 0,
 "worksheets": [
  {
   "cells": [
    {
     "cell_type": "markdown",
     "metadata": {},
     "source": [
      "## Interannual analysis of HUC8 basins containing inter-basin transfers\n",
      "\n",
      "Theodore Barnhart | 27 April 2015"
     ]
    },
    {
     "cell_type": "code",
     "collapsed": false,
     "input": [
      "import numpy as np\n",
      "import pandas as pd\n",
      "import matplotlib.pyplot as plt\n",
      "import statsmodels.api as sm\n",
      "import seaborn as sn\n",
      "from matplotlib.backends.backend_pdf import PdfPages\n",
      "%matplotlib inline"
     ],
     "language": "python",
     "metadata": {},
     "outputs": [],
     "prompt_number": 1
    },
    {
     "cell_type": "code",
     "collapsed": false,
     "input": [
      "data = pd.read_hdf('./WSC_HUC8_budyko.hdf','df')"
     ],
     "language": "python",
     "metadata": {},
     "outputs": [],
     "prompt_number": 2
    },
    {
     "cell_type": "code",
     "collapsed": false,
     "input": [
      "def budyko(DI):\n",
      "    return np.sqrt(DI*np.tanh(1/DI)*(1-np.exp(-DI)))\n",
      "data['PET_P'] = data['PET']/data['P'] # compute the dryness index\n",
      "data['ET_P'] = data['ET']/data['P'] # compute the evaporative index\n",
      "DI = np.arange(0,50.001,0.001) # make a range to compute the budyko curve over\n",
      "EI = budyko(DI) # compute the Budyko Curve\n",
      "data['pred_EI'] = data['PET_P'].apply(budyko) # compute the predicted evaportative index for each cell given its aridity\n",
      "data['Q_P'] = 1.-data['ET_P'] # compute actual runoff for each cell \n",
      "data['Qpred_P'] = 1.-data['pred_EI'] # compute predicted runoff for each cell\n",
      "data['Qanom_P'] = data['Q_P']-data['Qpred_P'] # compute the anomoly (actual - predicted)\n",
      "data['Q'] = data.Q_P*data.P # compute Q not normalized by P\n",
      "data['Qanom'] = data.Qanom_P*data.P"
     ],
     "language": "python",
     "metadata": {},
     "outputs": [],
     "prompt_number": 3
    },
    {
     "cell_type": "code",
     "collapsed": false,
     "input": [
      "def computeHUC4(huc8):\n",
      "    return int(huc8[:4])"
     ],
     "language": "python",
     "metadata": {},
     "outputs": [],
     "prompt_number": 4
    },
    {
     "cell_type": "code",
     "collapsed": false,
     "input": [
      "data['huc4']=data.huc8.map(computeHUC4)"
     ],
     "language": "python",
     "metadata": {},
     "outputs": [],
     "prompt_number": 5
    },
    {
     "cell_type": "code",
     "collapsed": false,
     "input": [
      "data['side'] = np.nan"
     ],
     "language": "python",
     "metadata": {},
     "outputs": [],
     "prompt_number": 6
    },
    {
     "cell_type": "code",
     "collapsed": false,
     "input": [
      "data.loc[(data.huc4 == 1018) | (data.huc4 == 1019) | (data.huc4 == 1102),'side'] = 1 # east draining river"
     ],
     "language": "python",
     "metadata": {},
     "outputs": [],
     "prompt_number": 7
    },
    {
     "cell_type": "code",
     "collapsed": false,
     "input": [
      "data.loc[(data.huc4 == 1401) | (data.huc4 == 1402),'side'] = 2 # west draining rivers"
     ],
     "language": "python",
     "metadata": {},
     "outputs": [],
     "prompt_number": 8
    },
    {
     "cell_type": "code",
     "collapsed": false,
     "input": [
      "xx = 'sm'\n",
      "yy = 'Qanom_P'\n",
      "\n",
      "mods = []\n",
      "\n",
      "for side in [1,2]:\n",
      "    X = data.loc[data.side==side,xx].as_matrix()\n",
      "    y = data.loc[data.side==side,yy].as_matrix()\n",
      "    X = sm.add_constant(X)\n",
      "    mod = sm.OLS(y,X).fit()\n",
      "    mods.append(mod)"
     ],
     "language": "python",
     "metadata": {},
     "outputs": [],
     "prompt_number": 9
    },
    {
     "cell_type": "code",
     "collapsed": false,
     "input": [
      "diversion = pd.read_excel('/Volumes/shareProjects/WSC/data/diversions/Transbasin_Structures_detailed_TBB.xlsx')"
     ],
     "language": "python",
     "metadata": {},
     "outputs": [],
     "prompt_number": 10
    },
    {
     "cell_type": "code",
     "collapsed": false,
     "input": [
      "divs = []\n",
      "for idx in diversion.index:\n",
      "    \n",
      "    name = str(diversion.HUC8From[idx])+':'+str(diversion.Huc8To[idx])\n",
      "    divs.append(name)"
     ],
     "language": "python",
     "metadata": {},
     "outputs": [],
     "prompt_number": 11
    },
    {
     "cell_type": "code",
     "collapsed": false,
     "input": [
      "divs = np.unique(divs)"
     ],
     "language": "python",
     "metadata": {},
     "outputs": [],
     "prompt_number": 12
    },
    {
     "cell_type": "code",
     "collapsed": false,
     "input": [
      "huc8from = []\n",
      "huc8to = []\n",
      "\n",
      "\n",
      "for div in divs:\n",
      "    \n",
      "    huc8from.append(int(div.split(':')[0]))\n",
      "    huc8to.append(int(div.split(':')[-1]))"
     ],
     "language": "python",
     "metadata": {},
     "outputs": [],
     "prompt_number": 13
    },
    {
     "cell_type": "code",
     "collapsed": false,
     "input": [
      "huc8fromnames=['North Platte Headwaters','Upper Laramie','Colorado Headwaters','Colorado Headwaters','Colorado Headwaters',\n",
      "               'Colorado Headwaters','Blue','Blue','Blue','Eagle','Roaring Fork','Tomichi']\n",
      "huc8tonames=['Cache La Poudre','Cache La Poudre','Clear','St. Vrain','Big Thompson','Cache La Poudre','South Platte Headwaters',\n",
      "             'Upper South Platte','Clear','Arkansas Headwaters','Arkansas Headwaters','Arkansas Headwaters']"
     ],
     "language": "python",
     "metadata": {},
     "outputs": [],
     "prompt_number": 14
    },
    {
     "cell_type": "code",
     "collapsed": false,
     "input": [
      "divpairs = []\n",
      "for frm,to,frmhuc,tohuc in zip(huc8fromnames,huc8tonames,huc8from,huc8to):\n",
      "    divpairs.append(frm+' ('+str(frmhuc)+')'+':'+to+' ('+str(tohuc)+')')"
     ],
     "language": "python",
     "metadata": {},
     "outputs": [],
     "prompt_number": 15
    },
    {
     "cell_type": "markdown",
     "metadata": {},
     "source": [
      "## Generate a Table of Results for the Transfers"
     ]
    },
    {
     "cell_type": "code",
     "collapsed": false,
     "input": [
      "def huc8int(huc8):\n",
      "    return int(huc8)"
     ],
     "language": "python",
     "metadata": {},
     "outputs": [],
     "prompt_number": 16
    },
    {
     "cell_type": "code",
     "collapsed": false,
     "input": [
      "data.huc8 = data.huc8.map(huc8int)"
     ],
     "language": "python",
     "metadata": {},
     "outputs": [],
     "prompt_number": 17
    },
    {
     "cell_type": "code",
     "collapsed": false,
     "input": [
      "def testslopes(mod1,mod2):\n",
      "    intercept,X = zip(*mod2.model.data.exog)\n",
      "    X = np.array(X)\n",
      "    slope = mod1.params[1]\n",
      "    inter = mod1.params[0]\n",
      "    \n",
      "    preds = slope*X+inter\n",
      "   \n",
      "    act = mod2.model.data.endog\n",
      "    \n",
      "    tstat,pval,df = sm.stats.ttest_ind(act,preds)\n",
      "    \n",
      "    return pval"
     ],
     "language": "python",
     "metadata": {},
     "outputs": [],
     "prompt_number": 18
    },
    {
     "cell_type": "code",
     "collapsed": false,
     "input": [
      "# generate models\n",
      "\n",
      "Frommods = []\n",
      "Tomods = []\n",
      "\n",
      "Anovas = []\n",
      "\n",
      "tabcols = ['From RR Slope','To RR Slope','Ratio','Slopes Pval','From Pval','To Pval', 'From r2','To r2']\n",
      "\n",
      "tab = pd.DataFrame(columns=tabcols,index=divpairs)\n",
      "\n",
      "xx = 'sm'\n",
      "yy = 'R_P'\n",
      "\n",
      "for frm,to,div in zip(huc8from,huc8to,divpairs):\n",
      "    X = (data.loc[data.huc8==frm,xx]-data.loc[data.huc8==frm,xx].mean()).as_matrix()\n",
      "    y = (data.loc[data.huc8==frm,yy]-data.loc[data.huc8==frm,yy].mean()).as_matrix()\n",
      "    X = sm.add_constant(X)\n",
      "    mod1 = sm.OLS(y,X).fit()\n",
      "    Frommods.append(mod1)\n",
      "    \n",
      "    X = (data.loc[data.huc8==to,xx]-data.loc[data.huc8==to,xx].mean()).as_matrix()\n",
      "    y = (data.loc[data.huc8==to,yy]-data.loc[data.huc8==to,yy].mean()).as_matrix()\n",
      "    X = sm.add_constant(X)\n",
      "    mod2 = sm.OLS(y,X).fit()\n",
      "    Tomods.append(mod2)\n",
      "        \n",
      "    an = sm.stats.anova_lm(mod2,mod1)\n",
      "    \n",
      "    Anovas.append(an)\n",
      "    \n",
      "    tab.loc[div,'From RR Slope'] = round(mod1.params[1],3)\n",
      "    tab.loc[div,'To RR Slope'] = round(mod2.params[1],3)\n",
      "    tab.loc[div,'Ratio'] = round(mod1.params[1]/mod2.params[1],3)\n",
      "    tab.loc[div,'From Pval'] = mod1.f_pvalue\n",
      "    tab.loc[div,'To Pval'] = mod2.f_pvalue\n",
      "    tab.loc[div,'From r2'] = round(mod1.rsquared,2)\n",
      "    tab.loc[div,'To r2'] = round(mod2.rsquared,2)\n",
      "    tab.loc[div,'Slopes Pval'] = round(testslopes(mod1,mod2),3)"
     ],
     "language": "python",
     "metadata": {},
     "outputs": [],
     "prompt_number": 19
    },
    {
     "cell_type": "code",
     "collapsed": false,
     "input": [
      "tab"
     ],
     "language": "python",
     "metadata": {},
     "outputs": [
      {
       "html": [
        "<div style=\"max-height:1000px;max-width:1500px;overflow:auto;\">\n",
        "<table border=\"1\" class=\"dataframe\">\n",
        "  <thead>\n",
        "    <tr style=\"text-align: right;\">\n",
        "      <th></th>\n",
        "      <th>From RR Slope</th>\n",
        "      <th>To RR Slope</th>\n",
        "      <th>Ratio</th>\n",
        "      <th>Slopes Pval</th>\n",
        "      <th>From Pval</th>\n",
        "      <th>To Pval</th>\n",
        "      <th>From r2</th>\n",
        "      <th>To r2</th>\n",
        "    </tr>\n",
        "  </thead>\n",
        "  <tbody>\n",
        "    <tr>\n",
        "      <th>North Platte Headwaters (10180001):Cache La Poudre (10190007)</th>\n",
        "      <td> 0.078</td>\n",
        "      <td> 0.057</td>\n",
        "      <td> 1.365</td>\n",
        "      <td> 1</td>\n",
        "      <td> 0</td>\n",
        "      <td> 0</td>\n",
        "      <td> 0.76</td>\n",
        "      <td> 0.45</td>\n",
        "    </tr>\n",
        "    <tr>\n",
        "      <th>Upper Laramie (10180010):Cache La Poudre (10190007)</th>\n",
        "      <td> 0.059</td>\n",
        "      <td> 0.057</td>\n",
        "      <td> 1.021</td>\n",
        "      <td> 1</td>\n",
        "      <td> 0</td>\n",
        "      <td> 0</td>\n",
        "      <td> 0.63</td>\n",
        "      <td> 0.45</td>\n",
        "    </tr>\n",
        "    <tr>\n",
        "      <th>Colorado Headwaters (14010001):Clear (10190004)</th>\n",
        "      <td> 0.062</td>\n",
        "      <td> 0.073</td>\n",
        "      <td> 0.858</td>\n",
        "      <td> 1</td>\n",
        "      <td> 0</td>\n",
        "      <td> 0</td>\n",
        "      <td> 0.65</td>\n",
        "      <td> 0.64</td>\n",
        "    </tr>\n",
        "    <tr>\n",
        "      <th>Colorado Headwaters (14010001):St. Vrain (10190005)</th>\n",
        "      <td> 0.062</td>\n",
        "      <td>  0.06</td>\n",
        "      <td>  1.04</td>\n",
        "      <td> 1</td>\n",
        "      <td> 0</td>\n",
        "      <td> 0</td>\n",
        "      <td> 0.65</td>\n",
        "      <td> 0.55</td>\n",
        "    </tr>\n",
        "    <tr>\n",
        "      <th>Colorado Headwaters (14010001):Big Thompson (10190006)</th>\n",
        "      <td> 0.062</td>\n",
        "      <td> 0.075</td>\n",
        "      <td>  0.83</td>\n",
        "      <td> 1</td>\n",
        "      <td> 0</td>\n",
        "      <td> 0</td>\n",
        "      <td> 0.65</td>\n",
        "      <td> 0.65</td>\n",
        "    </tr>\n",
        "    <tr>\n",
        "      <th>Colorado Headwaters (14010001):Cache La Poudre (10190007)</th>\n",
        "      <td> 0.062</td>\n",
        "      <td> 0.057</td>\n",
        "      <td> 1.088</td>\n",
        "      <td> 1</td>\n",
        "      <td> 0</td>\n",
        "      <td> 0</td>\n",
        "      <td> 0.65</td>\n",
        "      <td> 0.45</td>\n",
        "    </tr>\n",
        "    <tr>\n",
        "      <th>Blue (14010002):South Platte Headwaters (10190001)</th>\n",
        "      <td> 0.052</td>\n",
        "      <td> 0.072</td>\n",
        "      <td> 0.723</td>\n",
        "      <td> 1</td>\n",
        "      <td> 0</td>\n",
        "      <td> 0</td>\n",
        "      <td> 0.52</td>\n",
        "      <td> 0.72</td>\n",
        "    </tr>\n",
        "    <tr>\n",
        "      <th>Blue (14010002):Upper South Platte (10190002)</th>\n",
        "      <td> 0.052</td>\n",
        "      <td> 0.042</td>\n",
        "      <td> 1.247</td>\n",
        "      <td> 1</td>\n",
        "      <td> 0</td>\n",
        "      <td> 0</td>\n",
        "      <td> 0.52</td>\n",
        "      <td> 0.21</td>\n",
        "    </tr>\n",
        "    <tr>\n",
        "      <th>Blue (14010002):Clear (10190004)</th>\n",
        "      <td> 0.052</td>\n",
        "      <td> 0.073</td>\n",
        "      <td> 0.713</td>\n",
        "      <td> 1</td>\n",
        "      <td> 0</td>\n",
        "      <td> 0</td>\n",
        "      <td> 0.52</td>\n",
        "      <td> 0.64</td>\n",
        "    </tr>\n",
        "    <tr>\n",
        "      <th>Eagle (14010003):Arkansas Headwaters (11020001)</th>\n",
        "      <td> 0.058</td>\n",
        "      <td> 0.082</td>\n",
        "      <td> 0.713</td>\n",
        "      <td> 1</td>\n",
        "      <td> 0</td>\n",
        "      <td> 0</td>\n",
        "      <td> 0.67</td>\n",
        "      <td> 0.72</td>\n",
        "    </tr>\n",
        "    <tr>\n",
        "      <th>Roaring Fork (14010004):Arkansas Headwaters (11020001)</th>\n",
        "      <td> 0.068</td>\n",
        "      <td> 0.082</td>\n",
        "      <td> 0.829</td>\n",
        "      <td> 1</td>\n",
        "      <td> 0</td>\n",
        "      <td> 0</td>\n",
        "      <td> 0.73</td>\n",
        "      <td> 0.72</td>\n",
        "    </tr>\n",
        "    <tr>\n",
        "      <th>Tomichi (14020003):Arkansas Headwaters (11020001)</th>\n",
        "      <td> 0.071</td>\n",
        "      <td> 0.082</td>\n",
        "      <td> 0.871</td>\n",
        "      <td> 1</td>\n",
        "      <td> 0</td>\n",
        "      <td> 0</td>\n",
        "      <td>  0.7</td>\n",
        "      <td> 0.72</td>\n",
        "    </tr>\n",
        "  </tbody>\n",
        "</table>\n",
        "</div>"
       ],
       "metadata": {},
       "output_type": "pyout",
       "prompt_number": 20,
       "text": [
        "                                                              From RR Slope  \\\n",
        "North Platte Headwaters (10180001):Cache La Poudre (10190007)         0.078   \n",
        "Upper Laramie (10180010):Cache La Poudre (10190007)                   0.059   \n",
        "Colorado Headwaters (14010001):Clear (10190004)                       0.062   \n",
        "Colorado Headwaters (14010001):St. Vrain (10190005)                   0.062   \n",
        "Colorado Headwaters (14010001):Big Thompson (10190006)                0.062   \n",
        "Colorado Headwaters (14010001):Cache La Poudre (10190007)             0.062   \n",
        "Blue (14010002):South Platte Headwaters (10190001)                    0.052   \n",
        "Blue (14010002):Upper South Platte (10190002)                         0.052   \n",
        "Blue (14010002):Clear (10190004)                                      0.052   \n",
        "Eagle (14010003):Arkansas Headwaters (11020001)                       0.058   \n",
        "Roaring Fork (14010004):Arkansas Headwaters (11020001)                0.068   \n",
        "Tomichi (14020003):Arkansas Headwaters (11020001)                     0.071   \n",
        "\n",
        "                                                              To RR Slope  \\\n",
        "North Platte Headwaters (10180001):Cache La Poudre (10190007)       0.057   \n",
        "Upper Laramie (10180010):Cache La Poudre (10190007)                 0.057   \n",
        "Colorado Headwaters (14010001):Clear (10190004)                     0.073   \n",
        "Colorado Headwaters (14010001):St. Vrain (10190005)                  0.06   \n",
        "Colorado Headwaters (14010001):Big Thompson (10190006)              0.075   \n",
        "Colorado Headwaters (14010001):Cache La Poudre (10190007)           0.057   \n",
        "Blue (14010002):South Platte Headwaters (10190001)                  0.072   \n",
        "Blue (14010002):Upper South Platte (10190002)                       0.042   \n",
        "Blue (14010002):Clear (10190004)                                    0.073   \n",
        "Eagle (14010003):Arkansas Headwaters (11020001)                     0.082   \n",
        "Roaring Fork (14010004):Arkansas Headwaters (11020001)              0.082   \n",
        "Tomichi (14020003):Arkansas Headwaters (11020001)                   0.082   \n",
        "\n",
        "                                                               Ratio  \\\n",
        "North Platte Headwaters (10180001):Cache La Poudre (10190007)  1.365   \n",
        "Upper Laramie (10180010):Cache La Poudre (10190007)            1.021   \n",
        "Colorado Headwaters (14010001):Clear (10190004)                0.858   \n",
        "Colorado Headwaters (14010001):St. Vrain (10190005)             1.04   \n",
        "Colorado Headwaters (14010001):Big Thompson (10190006)          0.83   \n",
        "Colorado Headwaters (14010001):Cache La Poudre (10190007)      1.088   \n",
        "Blue (14010002):South Platte Headwaters (10190001)             0.723   \n",
        "Blue (14010002):Upper South Platte (10190002)                  1.247   \n",
        "Blue (14010002):Clear (10190004)                               0.713   \n",
        "Eagle (14010003):Arkansas Headwaters (11020001)                0.713   \n",
        "Roaring Fork (14010004):Arkansas Headwaters (11020001)         0.829   \n",
        "Tomichi (14020003):Arkansas Headwaters (11020001)              0.871   \n",
        "\n",
        "                                                              Slopes Pval  \\\n",
        "North Platte Headwaters (10180001):Cache La Poudre (10190007)           1   \n",
        "Upper Laramie (10180010):Cache La Poudre (10190007)                     1   \n",
        "Colorado Headwaters (14010001):Clear (10190004)                         1   \n",
        "Colorado Headwaters (14010001):St. Vrain (10190005)                     1   \n",
        "Colorado Headwaters (14010001):Big Thompson (10190006)                  1   \n",
        "Colorado Headwaters (14010001):Cache La Poudre (10190007)               1   \n",
        "Blue (14010002):South Platte Headwaters (10190001)                      1   \n",
        "Blue (14010002):Upper South Platte (10190002)                           1   \n",
        "Blue (14010002):Clear (10190004)                                        1   \n",
        "Eagle (14010003):Arkansas Headwaters (11020001)                         1   \n",
        "Roaring Fork (14010004):Arkansas Headwaters (11020001)                  1   \n",
        "Tomichi (14020003):Arkansas Headwaters (11020001)                       1   \n",
        "\n",
        "                                                              From Pval  \\\n",
        "North Platte Headwaters (10180001):Cache La Poudre (10190007)         0   \n",
        "Upper Laramie (10180010):Cache La Poudre (10190007)                   0   \n",
        "Colorado Headwaters (14010001):Clear (10190004)                       0   \n",
        "Colorado Headwaters (14010001):St. Vrain (10190005)                   0   \n",
        "Colorado Headwaters (14010001):Big Thompson (10190006)                0   \n",
        "Colorado Headwaters (14010001):Cache La Poudre (10190007)             0   \n",
        "Blue (14010002):South Platte Headwaters (10190001)                    0   \n",
        "Blue (14010002):Upper South Platte (10190002)                         0   \n",
        "Blue (14010002):Clear (10190004)                                      0   \n",
        "Eagle (14010003):Arkansas Headwaters (11020001)                       0   \n",
        "Roaring Fork (14010004):Arkansas Headwaters (11020001)                0   \n",
        "Tomichi (14020003):Arkansas Headwaters (11020001)                     0   \n",
        "\n",
        "                                                              To Pval From r2  \\\n",
        "North Platte Headwaters (10180001):Cache La Poudre (10190007)       0    0.76   \n",
        "Upper Laramie (10180010):Cache La Poudre (10190007)                 0    0.63   \n",
        "Colorado Headwaters (14010001):Clear (10190004)                     0    0.65   \n",
        "Colorado Headwaters (14010001):St. Vrain (10190005)                 0    0.65   \n",
        "Colorado Headwaters (14010001):Big Thompson (10190006)              0    0.65   \n",
        "Colorado Headwaters (14010001):Cache La Poudre (10190007)           0    0.65   \n",
        "Blue (14010002):South Platte Headwaters (10190001)                  0    0.52   \n",
        "Blue (14010002):Upper South Platte (10190002)                       0    0.52   \n",
        "Blue (14010002):Clear (10190004)                                    0    0.52   \n",
        "Eagle (14010003):Arkansas Headwaters (11020001)                     0    0.67   \n",
        "Roaring Fork (14010004):Arkansas Headwaters (11020001)              0    0.73   \n",
        "Tomichi (14020003):Arkansas Headwaters (11020001)                   0     0.7   \n",
        "\n",
        "                                                              To r2  \n",
        "North Platte Headwaters (10180001):Cache La Poudre (10190007)  0.45  \n",
        "Upper Laramie (10180010):Cache La Poudre (10190007)            0.45  \n",
        "Colorado Headwaters (14010001):Clear (10190004)                0.64  \n",
        "Colorado Headwaters (14010001):St. Vrain (10190005)            0.55  \n",
        "Colorado Headwaters (14010001):Big Thompson (10190006)         0.65  \n",
        "Colorado Headwaters (14010001):Cache La Poudre (10190007)      0.45  \n",
        "Blue (14010002):South Platte Headwaters (10190001)             0.72  \n",
        "Blue (14010002):Upper South Platte (10190002)                  0.21  \n",
        "Blue (14010002):Clear (10190004)                               0.64  \n",
        "Eagle (14010003):Arkansas Headwaters (11020001)                0.72  \n",
        "Roaring Fork (14010004):Arkansas Headwaters (11020001)         0.72  \n",
        "Tomichi (14020003):Arkansas Headwaters (11020001)              0.72  "
       ]
      }
     ],
     "prompt_number": 20
    },
    {
     "cell_type": "markdown",
     "metadata": {},
     "source": [
      "**Table 1:** Table illustrating the slope of the Runoff Ratio - Snowmelt Rate equation for the 12 unique intra-basin transfer pairs, this is the sensitivity of the runoff ratio to a unit change in snowmelt rate. $ Ratio = \\frac{From RR Slope}{To RR Slope}$, when $>1$ the contributing basin in more sensitive and when $<1$ the recieving basin is more sensitive to a change in snowmelt rate. Overall, this suggests that almost all the contributing basins are more sensitive to a change in snowmelt rate than the recieving basins."
     ]
    },
    {
     "cell_type": "code",
     "collapsed": false,
     "input": [
      "names = []\n",
      "\n",
      "for div,ratio in zip(tab.index,tab.Ratio):\n",
      "    names.append(div+', Ratio: '+str(ratio))"
     ],
     "language": "python",
     "metadata": {},
     "outputs": [],
     "prompt_number": 21
    },
    {
     "cell_type": "code",
     "collapsed": false,
     "input": [
      "with PdfPages('./figures/diversions_scatterplots.pdf') as pdf:\n",
      "    for huc1,huc2,Frommod,Tomod,name in zip(huc8from,huc8to,Frommods,Tomods,names):\n",
      "        \n",
      "        intercept,X = zip(*Frommod.model.data.exog)\n",
      "        y = Frommod.model.data.endog\n",
      "        \n",
      "        data3=pd.DataFrame({'sm':X,'R_P':y,'huc8':np.repeat(huc1,len(X))})\n",
      "        \n",
      "        intercept,X = zip(*Tomod.model.data.exog)\n",
      "        y = Tomod.model.data.endog\n",
      "        \n",
      "        data4=pd.DataFrame({'sm':X,'R_P':y,'huc8':np.repeat(huc2,len(X))})\n",
      "        \n",
      "        data4 = data4.append(data3)\n",
      "        \n",
      "        p = sn.lmplot(xx,yy,data4,hue='huc8',markers=[\"x\", \"o\"],scatter_kws={\"alpha\":0.5}, size=7)\n",
      "        plt.title(name,fontsize=12)\n",
      "        p.set_xlabels('Snowmelt Rate [mm/d]')\n",
      "        p.set_ylabels('Runoff Ratio [1]')\n",
      "        sn.set\n",
      "        \n",
      "        pdf.savefig()\n",
      "        plt.close()\n",
      "        "
     ],
     "language": "python",
     "metadata": {},
     "outputs": [],
     "prompt_number": 22
    },
    {
     "cell_type": "code",
     "collapsed": false,
     "input": [
      "intercept,X = zip(*Frommod.model.data.exog)\n",
      "X = np.array(X)\n",
      "slope = mod1.params[1]\n",
      "inter = mod1.params[0]\n",
      "\n",
      "preds = slope*X+inter\n",
      "\n",
      "act = Tomod.model.data.endog\n",
      "\n",
      "tstat,pval,df = sm.stats.ttest_ind(act,preds)"
     ],
     "language": "python",
     "metadata": {},
     "outputs": [],
     "prompt_number": 23
    },
    {
     "cell_type": "code",
     "collapsed": false,
     "input": [
      "pval"
     ],
     "language": "python",
     "metadata": {},
     "outputs": [
      {
       "metadata": {},
       "output_type": "pyout",
       "prompt_number": 24,
       "text": [
        "0.99999999999999512"
       ]
      }
     ],
     "prompt_number": 24
    },
    {
     "cell_type": "code",
     "collapsed": false,
     "input": [
      "plt.hist(act)"
     ],
     "language": "python",
     "metadata": {},
     "outputs": [
      {
       "metadata": {},
       "output_type": "pyout",
       "prompt_number": 25,
       "text": [
        "(array([  1.05130000e+04,   8.55000000e+02,   5.44000000e+02,\n",
        "          4.41000000e+02,   3.36000000e+02,   3.05000000e+02,\n",
        "          2.06000000e+02,   1.07000000e+02,   4.00000000e+01,\n",
        "          9.00000000e+00]),\n",
        " array([ -8.21793216e-02,  -5.37868113e-05,   8.20717479e-02,\n",
        "          1.64197283e-01,   2.46322817e-01,   3.28448352e-01,\n",
        "          4.10573887e-01,   4.92699422e-01,   5.74824956e-01,\n",
        "          6.56950491e-01,   7.39076026e-01]),\n",
        " <a list of 10 Patch objects>)"
       ]
      },
      {
       "metadata": {},
       "output_type": "display_data",
       "png": "[encoded data removed]",
       "text": [
        "<matplotlib.figure.Figure at 0x10ecbb1d0>"
       ]
      }
     ],
     "prompt_number": 25
    },
    {
     "cell_type": "code",
     "collapsed": false,
     "input": [
      "plt.hist(preds)"
     ],
     "language": "python",
     "metadata": {},
     "outputs": [
      {
       "metadata": {},
       "output_type": "pyout",
       "prompt_number": 26,
       "text": [
        "(array([ 1342.,  1253.,   872.,   608.,   287.,   134.,    53.,    25.,\n",
        "           18.,     7.]),\n",
        " array([-0.121166  , -0.06367298, -0.00617997,  0.05131304,  0.10880605,\n",
        "         0.16629906,  0.22379207,  0.28128508,  0.33877809,  0.3962711 ,\n",
        "         0.45376411]),\n",
        " <a list of 10 Patch objects>)"
       ]
      },
      {
       "metadata": {},
       "output_type": "display_data",
       "png": "[encoded data removed]",
       "text": [
        "<matplotlib.figure.Figure at 0x11262b110>"
       ]
      }
     ],
     "prompt_number": 26
    },
    {
     "cell_type": "raw",
     "metadata": {},
     "source": [
      "huc1 = huc8from[0]\n",
      "huc2 = huc8to[0]\n",
      "\n",
      "fig = plt.figure(figsize=(4,18))\n",
      "\n",
      "ax1 = fig.add_subplot(12,1,1)\n",
      "ax2 = fig.add_subplot(12,1,2)\n",
      "ax3 = fig.add_subplot(12,1,3)\n",
      "ax4 = fig.add_subplot(12,1,4)\n",
      "ax5 = fig.add_subplot(12,1,5)\n",
      "ax6 = fig.add_subplot(12,1,6)\n",
      "ax7 = fig.add_subplot(12,1,7)\n",
      "ax8 = fig.add_subplot(12,1,8)\n",
      "ax9 = fig.add_subplot(12,1,9)\n",
      "ax10 = fig.add_subplot(12,1,10)\n",
      "ax11 = fig.add_subplot(12,1,11)\n",
      "ax12 = fig.add_subplot(12,1,12)\n",
      "\n",
      "axes = [ax1,ax2,ax3,ax4,ax5,ax6,ax7,ax8,ax9,ax10,ax11,ax12]\n",
      "\n",
      "for huc1,huc2,ax in zip(huc8from,huc8to,axes):\n",
      "\n",
      "    data2 = data.loc[(data.huc8==huc1)|(data.huc8==huc2),:]\n",
      "    plt.sca(ax)\n",
      "    p = sn.lmplot(xx,yy,data2,hue='huc8')"
     ]
    },
    {
     "cell_type": "markdown",
     "metadata": {},
     "source": [
      "### Comment:\n",
      "I'm not sure the ANOVA results I showed earlier are valid because I think ANOVA is usually for comparing nested models, not two different models. \n",
      "\n",
      "The Slopes Pval presented above comes from taking the model for the contributing basin and using it to predict the runoff ratios for the receiving basin and then conducting a t-test between the predicted values and the actual runoff ratio values for the receiving basin. This works off of the idea that if the predicted and actual runoff ratios are from the same distribution then the slopes for the RR-snowmelt relationship in each basin are the same and if the predicted and actual runoff ratios are from different distributi\n",
      "\n",
      "### Future Work:\n",
      "- use WRF-Hydro headwaters simulation (maybe has smaller grid-cells, therefore more data to compare on either side of the divide?)"
     ]
    },
    {
     "cell_type": "markdown",
     "metadata": {},
     "source": [
      "## Histagrams of R/P and ET/P"
     ]
    },
    {
     "cell_type": "code",
     "collapsed": false,
     "input": [
      "bins = np.linspace(0,1.5,150)\n",
      "\n",
      "plt.hist(data.R_P,bins);\n",
      "plt.xlim(0,1.5);\n",
      "plt.ylim(0,30000);\n",
      "plt.xlabel('R/P [1]');\n",
      "plt.ylabel('Count');"
     ],
     "language": "python",
     "metadata": {},
     "outputs": [
      {
       "metadata": {},
       "output_type": "display_data",
       "png": "[encoded data removed]",
       "text": [
        "<matplotlib.figure.Figure at 0x11033c6d0>"
       ]
      }
     ],
     "prompt_number": 27
    },
    {
     "cell_type": "code",
     "collapsed": false,
     "input": [
      "plt.hist(data.ET_P,bins);\n",
      "plt.xlim(0,1.5);\n",
      "plt.ylim(0,30000);\n",
      "plt.xlabel('ET/P [1]');\n",
      "plt.ylabel('Count');"
     ],
     "language": "python",
     "metadata": {},
     "outputs": [
      {
       "metadata": {},
       "output_type": "display_data",
       "png": "[encoded data removed]",
       "text": [
        "<matplotlib.figure.Figure at 0x10f37afd0>"
       ]
      }
     ],
     "prompt_number": 28
    },
    {
     "cell_type": "markdown",
     "metadata": {},
     "source": [
      "It is a little odd how there can be a ET/P ratio greater than 1.0, but this may be possible if soil moisture is being depleted."
     ]
    }
   ],
   "metadata": {}
  }
 ]
}