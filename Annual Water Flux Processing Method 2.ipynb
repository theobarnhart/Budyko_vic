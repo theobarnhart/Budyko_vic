{
 "metadata": {
  "name": "",
  "signature": "sha256:c656731dea9e1caef4d7bc893c561f12ee3e410247622dde56c70bb1d3e198f3"
 },
 "nbformat": 3,
 "nbformat_minor": 0,
 "worksheets": [
  {
   "cells": [
    {
     "cell_type": "code",
     "collapsed": false,
     "input": [
      "from IPython import parallel as p"
     ],
     "language": "python",
     "metadata": {},
     "outputs": [],
     "prompt_number": 1
    },
    {
     "cell_type": "code",
     "collapsed": false,
     "input": [
      "pc = p.Client()"
     ],
     "language": "python",
     "metadata": {},
     "outputs": [],
     "prompt_number": 2
    },
    {
     "cell_type": "code",
     "collapsed": false,
     "input": [
      "pc.ids"
     ],
     "language": "python",
     "metadata": {},
     "outputs": [
      {
       "metadata": {},
       "output_type": "pyout",
       "prompt_number": 3,
       "text": [
        "[0, 1, 2, 3]"
       ]
      }
     ],
     "prompt_number": 3
    },
    {
     "cell_type": "code",
     "collapsed": false,
     "input": [
      "view = pc.load_balanced_view()"
     ],
     "language": "python",
     "metadata": {},
     "outputs": [],
     "prompt_number": 4
    },
    {
     "cell_type": "code",
     "collapsed": false,
     "input": [
      "%%px\n",
      "import numpy as np\n",
      "import pandas as pd\n",
      "dates = pd.read_pickle('/Volumes/Users/Theo/projects/Budyko_vic/timecode.pcl')\n",
      "wyears = np.load('/Volumes/Users/Theo/projects/Budyko_vic/wyears.npy')\n",
      "fluxes_columns = ['y','m','d','ET','R','BF','sm1','sm2','sm3','SWE','Cs','Qs','Ql','Qg','NR','PEText','PETtrc','PETsrc']\n",
      "forcing_columns = ['P','Tmax','Tmin','W']"
     ],
     "language": "python",
     "metadata": {},
     "outputs": [],
     "prompt_number": 5
    },
    {
     "cell_type": "code",
     "collapsed": false,
     "input": [
      "import pandas as pd\n",
      "import numpy as np\n",
      "import glob\n",
      "\n",
      "dates = pd.read_pickle('./timecode.pcl')\n",
      "wyears = np.load('./wyears.npy')\n",
      "fluxes_columns = ['y','m','d','ET','R','BF','sm1','sm2','sm3','SWE','Cs','Qs','Ql','Qg','NR','PEText','PETtrc','PETsrc']\n",
      "forcing_columns = ['P','Tmax','Tmin','W']"
     ],
     "language": "python",
     "metadata": {},
     "outputs": [],
     "prompt_number": 6
    },
    {
     "cell_type": "code",
     "collapsed": false,
     "input": [
      "def annwaterflux(fr,fl):\n",
      "    lat = float(fl.split('_')[-2]) # extract latitude from file name\n",
      "    lon = float(fl.split('_')[-1]) # extract longitude from file name\n",
      "\n",
      "    # load the fluxes data\n",
      "    flux = pd.read_table(fl, sep='\\t', names=fluxes_columns)\n",
      "    flux.index = pd.DatetimeIndex(dates)\n",
      "\n",
      "    ## load the forcing data\n",
      "    force = pd.read_table(fr, sep=' ', names=forcing_columns)\n",
      "    force.index = pd.DatetimeIndex(dates)\n",
      "\n",
      "    # compute the snow fraction\n",
      "    force['coef'] = (0.-force.Tmin)/(np.abs(force.Tmax-force.Tmin))\n",
      "    force.loc[force.coef<0,'coef'] = 0.\n",
      "    force.loc[force.coef>1,'coef'] = 1.\n",
      "\n",
      "    force['snow'] = force.P*force.coef # \n",
      "    force['rain'] = force.P*(1-force.coef)\n",
      "\n",
      "    SWE_thresh = 100. # SWE threshold in mm\n",
      "    \n",
      "\n",
      "    # preallocate\n",
      "    A = 0.\n",
      "    B = 0.\n",
      "    C = 0.\n",
      "    \n",
      "    Alen = 0\n",
      "    Blen = 0\n",
      "    Clen = 0 \n",
      "\n",
      "    waterflx = []\n",
      "\n",
      "    for wy in wyears:\n",
      "        strt = str(wy-1)+'-10-01'\n",
      "        nd = str(wy)+'-09-30'\n",
      "\n",
      "        # subset out each water year\n",
      "        frs = force[strt:nd]\n",
      "        fls = flux[strt:nd]\n",
      "\n",
      "        dopkswe = fls.SWE.idxmax() # datetime for the first date of peak swe\n",
      "        dons = fls[dopkswe:nd].SWE.idxmin() # datetime for the first snow free day after peak SWE.\n",
      "\n",
      "        accm = fls.loc[strt:dopkswe,:] # grab the portion of the water year before peak swe\n",
      "        swe = accm.loc[accm.SWE > 0,:].SWE # find all the entries with SWE greater than 0\n",
      "        doaccmstrt = swe.index.min() # take the first value as the start of the accumulation season\n",
      "\n",
      "        if (dons-dopkswe).days == 0: # if there is no snow season\n",
      "            A = frs.loc[frs.P>0,:].P.sum() # take the sum of all the days with P > 0\n",
      "            Alen = len(frs.loc[frs.P>0,:].P) # count the number of days with P > 0\n",
      "\n",
      "        else: # if these is a snow season \n",
      "            Atmp = frs.loc[strt:doaccmstrt,:] # subset before the accum season\n",
      "            A += Atmp.loc[Atmp.P>0,:].P.sum() # add the sum of precip before the accumulation season starts\n",
      "            Alen += len(Atmp.loc[Atmp.P>0,:].P) # compute and add the number of days with precip\n",
      "\n",
      "            Atmp = frs.loc[dons:nd,:] # subset after the melt season\n",
      "            A += Atmp.loc[Atmp.P > 0,:].P.sum() # add the sum of the precip after the day of now snow until the end of the WY\n",
      "            Alen += len(Atmp.loc[Atmp.P > 0,:].P) # compute and add the number of days with precip\n",
      "\n",
      "            Btmp = frs.loc[doaccmstrt:dopkswe,:] # subset the accumulation season\n",
      "            SWEtmp = fls.loc[doaccmstrt:dopkswe,:] # subset the accumulation season\n",
      "            Btmp2 = Btmp.loc[SWEtmp.SWE<SWE_thresh,:] #Take all days with SWE less than the threshold\n",
      "            B += Btmp2.loc[Btmp2.rain > 0,:].rain.sum() # add the sum of all the days with rain \n",
      "            Blen += len(Btmp2.loc[Btmp2.rain > 0,:].rain) # add the days with rain\n",
      "\n",
      "            C += frs.loc[dopkswe:dons,:].P.sum()\n",
      "            Clen += len(frs.loc[dopkswe:dons,:].P)\n",
      "            C += fls.SWE.max() # grab the max SWE\n",
      "\n",
      "        waterflx.append(np.sum([A,B,C])/np.sum([Alen,Blen,Clen])) # [mm/d]\n",
      "\n",
      "    meanwaterflx = np.mean(waterflx)\n",
      "    \n",
      "    return lat,lon,round(meanwaterflx,3)"
     ],
     "language": "python",
     "metadata": {},
     "outputs": [],
     "prompt_number": 11
    },
    {
     "cell_type": "code",
     "collapsed": false,
     "input": [
      "files = pd.read_pickle('./forcing_fluxes_filenames.dataframe')"
     ],
     "language": "python",
     "metadata": {},
     "outputs": [],
     "prompt_number": 12
    },
    {
     "cell_type": "code",
     "collapsed": false,
     "input": [
      "files.head()"
     ],
     "language": "python",
     "metadata": {},
     "outputs": [
      {
       "html": [
        "<div style=\"max-height:1000px;max-width:1500px;overflow:auto;\">\n",
        "<table border=\"1\" class=\"dataframe\">\n",
        "  <thead>\n",
        "    <tr style=\"text-align: right;\">\n",
        "      <th></th>\n",
        "      <th>exists</th>\n",
        "      <th>flux</th>\n",
        "      <th>forcing</th>\n",
        "    </tr>\n",
        "  </thead>\n",
        "  <tbody>\n",
        "    <tr>\n",
        "      <th>0</th>\n",
        "      <td> True</td>\n",
        "      <td> /Users/barnhatb/research/vic/fluxes/ascii/lati...</td>\n",
        "      <td> /Users/barnhatb/research/vic/forcing/ascii/lat...</td>\n",
        "    </tr>\n",
        "    <tr>\n",
        "      <th>1</th>\n",
        "      <td> True</td>\n",
        "      <td> /Users/barnhatb/research/vic/fluxes/ascii/lati...</td>\n",
        "      <td> /Users/barnhatb/research/vic/forcing/ascii/lat...</td>\n",
        "    </tr>\n",
        "    <tr>\n",
        "      <th>2</th>\n",
        "      <td> True</td>\n",
        "      <td> /Users/barnhatb/research/vic/fluxes/ascii/lati...</td>\n",
        "      <td> /Users/barnhatb/research/vic/forcing/ascii/lat...</td>\n",
        "    </tr>\n",
        "    <tr>\n",
        "      <th>3</th>\n",
        "      <td> True</td>\n",
        "      <td> /Users/barnhatb/research/vic/fluxes/ascii/lati...</td>\n",
        "      <td> /Users/barnhatb/research/vic/forcing/ascii/lat...</td>\n",
        "    </tr>\n",
        "    <tr>\n",
        "      <th>4</th>\n",
        "      <td> True</td>\n",
        "      <td> /Users/barnhatb/research/vic/fluxes/ascii/lati...</td>\n",
        "      <td> /Users/barnhatb/research/vic/forcing/ascii/lat...</td>\n",
        "    </tr>\n",
        "  </tbody>\n",
        "</table>\n",
        "</div>"
       ],
       "metadata": {},
       "output_type": "pyout",
       "prompt_number": 13,
       "text": [
        "  exists                                               flux  \\\n",
        "0   True  /Users/barnhatb/research/vic/fluxes/ascii/lati...   \n",
        "1   True  /Users/barnhatb/research/vic/fluxes/ascii/lati...   \n",
        "2   True  /Users/barnhatb/research/vic/fluxes/ascii/lati...   \n",
        "3   True  /Users/barnhatb/research/vic/fluxes/ascii/lati...   \n",
        "4   True  /Users/barnhatb/research/vic/fluxes/ascii/lati...   \n",
        "\n",
        "                                             forcing  \n",
        "0  /Users/barnhatb/research/vic/forcing/ascii/lat...  \n",
        "1  /Users/barnhatb/research/vic/forcing/ascii/lat...  \n",
        "2  /Users/barnhatb/research/vic/forcing/ascii/lat...  \n",
        "3  /Users/barnhatb/research/vic/forcing/ascii/lat...  \n",
        "4  /Users/barnhatb/research/vic/forcing/ascii/lat...  "
       ]
      }
     ],
     "prompt_number": 13
    },
    {
     "cell_type": "code",
     "collapsed": false,
     "input": [
      "res = view.map(annwaterflux,files.forcing,files.flux)"
     ],
     "language": "python",
     "metadata": {},
     "outputs": [],
     "prompt_number": 22
    },
    {
     "cell_type": "code",
     "collapsed": false,
     "input": [
      "import ProgressBar as pb"
     ],
     "language": "python",
     "metadata": {},
     "outputs": [],
     "prompt_number": 16
    },
    {
     "cell_type": "code",
     "collapsed": false,
     "input": [
      "prog = pb.ProgressBar(len(files.forcing))\n",
      "\n",
      "while res.ready() == False:\n",
      "    prog.animate(res.progress)"
     ],
     "language": "python",
     "metadata": {},
     "outputs": [
      {
       "output_type": "stream",
       "stream": "stdout",
       "text": [
        "\r",
        "[                  0%                  ]"
       ]
      },
      {
       "output_type": "stream",
       "stream": "stdout",
       "text": [
        " \r",
        "[*******          18%                  ]  54206 of 309673 complete"
       ]
      },
      {
       "output_type": "stream",
       "stream": "stdout",
       "text": [
        " \r",
        "[*******          18%                  ]  54210 of 309673 complete"
       ]
      },
      {
       "output_type": "stream",
       "stream": "stdout",
       "text": [
        " \r",
        "[*******          18%                  ]  54214 of 309673 complete"
       ]
      },
      {
       "output_type": "stream",
       "stream": "stdout",
       "text": [
        " \r",
        "[*******          18%                  ]  54218 of 309673 complete"
       ]
      },
      {
       "output_type": "stream",
       "stream": "stdout",
       "text": [
        " \r",
        "[*******          18%                  ]  54222 of 309673 complete"
       ]
      },
      {
       "output_type": "stream",
       "stream": "stdout",
       "text": [
        " \r",
        "[*******          18%                  ]  54227 of 309673 complete"
       ]
      },
      {
       "output_type": "stream",
       "stream": "stdout",
       "text": [
        " \r",
        "[*******          18%                  ]  54231 of 309673 complete"
       ]
      },
      {
       "output_type": "stream",
       "stream": "stdout",
       "text": [
        " \r",
        "[*******          18%                  ]  54235 of 309673 complete"
       ]
      },
      {
       "output_type": "stream",
       "stream": "stdout",
       "text": [
        " \r",
        "[*******          18%                  ]  54240 of 309673 complete"
       ]
      },
      {
       "output_type": "stream",
       "stream": "stdout",
       "text": [
        " \r",
        "[*******          18%                  ]  54244 of 309673 complete"
       ]
      },
      {
       "output_type": "stream",
       "stream": "stdout",
       "text": [
        " \r",
        "[*******          18%                  ]  54250 of 309673 complete"
       ]
      },
      {
       "output_type": "stream",
       "stream": "stdout",
       "text": [
        " \r",
        "[*******          18%                  ]  54254 of 309673 complete"
       ]
      },
      {
       "output_type": "stream",
       "stream": "stdout",
       "text": [
        " \r",
        "[*******          18%                  ]  54258 of 309673 complete"
       ]
      },
      {
       "output_type": "stream",
       "stream": "stdout",
       "text": [
        " \r",
        "[*******          18%                  ]  54262 of 309673 complete"
       ]
      },
      {
       "output_type": "stream",
       "stream": "stdout",
       "text": [
        " \r",
        "[*******          18%                  ]  54266 of 309673 complete"
       ]
      },
      {
       "output_type": "stream",
       "stream": "stdout",
       "text": [
        " \r",
        "[*******          18%                  ]  54270 of 309673 complete"
       ]
      },
      {
       "output_type": "stream",
       "stream": "stdout",
       "text": [
        " \r",
        "[*******          18%                  ]  54275 of 309673 complete"
       ]
      },
      {
       "output_type": "stream",
       "stream": "stdout",
       "text": [
        " \r",
        "[*******          18%                  ]  54279 of 309673 complete"
       ]
      },
      {
       "output_type": "stream",
       "stream": "stdout",
       "text": [
        " \r",
        "[*******          18%                  ]  54283 of 309673 complete"
       ]
      },
      {
       "output_type": "stream",
       "stream": "stdout",
       "text": [
        " \r",
        "[*******          18%                  ]  54290 of 309673 complete"
       ]
      },
      {
       "output_type": "stream",
       "stream": "stdout",
       "text": [
        " \r",
        "[*******          18%                  ]  54294 of 309673 complete"
       ]
      },
      {
       "output_type": "stream",
       "stream": "stdout",
       "text": [
        " \r",
        "[*******          18%                  ]  54299 of 309673 complete"
       ]
      },
      {
       "output_type": "stream",
       "stream": "stdout",
       "text": [
        " \r",
        "[*******          18%                  ]  54304 of 309673 complete"
       ]
      },
      {
       "output_type": "stream",
       "stream": "stdout",
       "text": [
        " \r",
        "[*******          18%                  ]  54308 of 309673 complete"
       ]
      },
      {
       "output_type": "stream",
       "stream": "stdout",
       "text": [
        " \r",
        "[*******          18%                  ]  54312 of 309673 complete"
       ]
      },
      {
       "output_type": "stream",
       "stream": "stdout",
       "text": [
        " \r",
        "[*******          18%                  ]  54317 of 309673 complete"
       ]
      },
      {
       "output_type": "stream",
       "stream": "stdout",
       "text": [
        " \r",
        "[*******          18%                  ]  54321 of 309673 complete"
       ]
      },
      {
       "output_type": "stream",
       "stream": "stdout",
       "text": [
        " \r",
        "[*******          18%                  ]  54325 of 309673 complete"
       ]
      },
      {
       "output_type": "stream",
       "stream": "stdout",
       "text": [
        " \r",
        "[*******          18%                  ]  54329 of 309673 complete"
       ]
      },
      {
       "output_type": "stream",
       "stream": "stdout",
       "text": [
        " \r",
        "[*******          18%                  ]  54333 of 309673 complete"
       ]
      },
      {
       "output_type": "stream",
       "stream": "stdout",
       "text": [
        " \r",
        "[*******          18%                  ]  54338 of 309673 complete"
       ]
      },
      {
       "output_type": "stream",
       "stream": "stdout",
       "text": [
        " \r",
        "[*******          18%                  ]  54342 of 309673 complete"
       ]
      },
      {
       "output_type": "stream",
       "stream": "stdout",
       "text": [
        " \r",
        "[*******          18%                  ]  54345 of 309673 complete"
       ]
      },
      {
       "output_type": "stream",
       "stream": "stdout",
       "text": [
        " \r",
        "[*******          18%                  ]  54350 of 309673 complete"
       ]
      },
      {
       "output_type": "stream",
       "stream": "stdout",
       "text": [
        " \r",
        "[*******          18%                  ]  54356 of 309673 complete"
       ]
      },
      {
       "output_type": "stream",
       "stream": "stdout",
       "text": [
        " \r",
        "[*******          18%                  ]  54360 of 309673 complete"
       ]
      },
      {
       "output_type": "stream",
       "stream": "stdout",
       "text": [
        " \r",
        "[*******          18%                  ]  54364 of 309673 complete"
       ]
      },
      {
       "output_type": "stream",
       "stream": "stdout",
       "text": [
        " \r",
        "[*******          18%                  ]  54369 of 309673 complete"
       ]
      },
      {
       "output_type": "stream",
       "stream": "stdout",
       "text": [
        " \r",
        "[*******          18%                  ]  54373 of 309673 complete"
       ]
      },
      {
       "output_type": "stream",
       "stream": "stdout",
       "text": [
        " \r",
        "[*******          18%                  ]  54376 of 309673 complete"
       ]
      },
      {
       "output_type": "stream",
       "stream": "stdout",
       "text": [
        " \r",
        "[*******          18%                  ]  54381 of 309673 complete"
       ]
      },
      {
       "output_type": "stream",
       "stream": "stdout",
       "text": [
        " \r",
        "[*******          18%                  ]  54386 of 309673 complete"
       ]
      },
      {
       "output_type": "stream",
       "stream": "stdout",
       "text": [
        " \r",
        "[*******          18%                  ]  54389 of 309673 complete"
       ]
      },
      {
       "output_type": "stream",
       "stream": "stdout",
       "text": [
        " \r",
        "[*******          18%                  ]  54391 of 309673 complete"
       ]
      },
      {
       "output_type": "stream",
       "stream": "stdout",
       "text": [
        " \r",
        "[*******          18%                  ]  54394 of 309673 complete"
       ]
      },
      {
       "output_type": "stream",
       "stream": "stdout",
       "text": [
        " \r",
        "[*******          18%                  ]  54398 of 309673 complete"
       ]
      },
      {
       "output_type": "stream",
       "stream": "stdout",
       "text": [
        " \r",
        "[*******          18%                  ]  54402 of 309673 complete"
       ]
      },
      {
       "output_type": "stream",
       "stream": "stdout",
       "text": [
        " \r",
        "[*******          18%                  ]  54406 of 309673 complete"
       ]
      },
      {
       "output_type": "stream",
       "stream": "stdout",
       "text": [
        " \r",
        "[*******          18%                  ]  54410 of 309673 complete"
       ]
      },
      {
       "output_type": "stream",
       "stream": "stdout",
       "text": [
        " \r",
        "[*******          18%                  ]  54415 of 309673 complete"
       ]
      },
      {
       "output_type": "stream",
       "stream": "stdout",
       "text": [
        " \r",
        "[*******          18%                  ]  54419 of 309673 complete"
       ]
      },
      {
       "output_type": "stream",
       "stream": "stdout",
       "text": [
        " \r",
        "[*******          18%                  ]  54426 of 309673 complete"
       ]
      },
      {
       "output_type": "stream",
       "stream": "stdout",
       "text": [
        " \r",
        "[*******          18%                  ]  54428 of 309673 complete"
       ]
      },
      {
       "output_type": "stream",
       "stream": "stdout",
       "text": [
        " \r",
        "[*******          18%                  ]  54432 of 309673 complete"
       ]
      },
      {
       "output_type": "stream",
       "stream": "stdout",
       "text": [
        " \r",
        "[*******          18%                  ]  54435 of 309673 complete"
       ]
      },
      {
       "output_type": "stream",
       "stream": "stdout",
       "text": [
        " \r",
        "[*******          18%                  ]  54439 of 309673 complete"
       ]
      },
      {
       "output_type": "stream",
       "stream": "stdout",
       "text": [
        " \r",
        "[*******          18%                  ]  54443 of 309673 complete"
       ]
      },
      {
       "output_type": "stream",
       "stream": "stdout",
       "text": [
        " \r",
        "[*******          18%                  ]  54446 of 309673 complete"
       ]
      },
      {
       "output_type": "stream",
       "stream": "stdout",
       "text": [
        " \r",
        "[*******          18%                  ]  54450 of 309673 complete"
       ]
      },
      {
       "output_type": "stream",
       "stream": "stdout",
       "text": [
        " \r",
        "[*******          18%                  ]  54454 of 309673 complete"
       ]
      },
      {
       "output_type": "stream",
       "stream": "stdout",
       "text": [
        " \r",
        "[*******          18%                  ]  54458 of 309673 complete"
       ]
      },
      {
       "output_type": "stream",
       "stream": "stdout",
       "text": [
        " \r",
        "[*******          18%                  ]  54461 of 309673 complete"
       ]
      },
      {
       "output_type": "stream",
       "stream": "stdout",
       "text": [
        " \r",
        "[*******          18%                  ]  54463 of 309673 complete"
       ]
      },
      {
       "output_type": "stream",
       "stream": "stdout",
       "text": [
        " \r",
        "[*******          18%                  ]  54468 of 309673 complete"
       ]
      },
      {
       "output_type": "stream",
       "stream": "stdout",
       "text": [
        " \r",
        "[*******          18%                  ]  54472 of 309673 complete"
       ]
      },
      {
       "output_type": "stream",
       "stream": "stdout",
       "text": [
        " \r",
        "[*******          18%                  ]  54477 of 309673 complete"
       ]
      },
      {
       "output_type": "stream",
       "stream": "stdout",
       "text": [
        " \r",
        "[*******          18%                  ]  54481 of 309673 complete"
       ]
      },
      {
       "output_type": "stream",
       "stream": "stdout",
       "text": [
        " \r",
        "[*******          18%                  ]  54485 of 309673 complete"
       ]
      },
      {
       "output_type": "stream",
       "stream": "stdout",
       "text": [
        " \r",
        "[*******          18%                  ]  54490 of 309673 complete"
       ]
      },
      {
       "output_type": "stream",
       "stream": "stdout",
       "text": [
        " \r",
        "[*******          18%                  ]  54492 of 309673 complete"
       ]
      },
      {
       "output_type": "stream",
       "stream": "stdout",
       "text": [
        " \r",
        "[*******          18%                  ]  54497 of 309673 complete"
       ]
      },
      {
       "output_type": "stream",
       "stream": "stdout",
       "text": [
        " \r",
        "[*******          18%                  ]  54502 of 309673 complete"
       ]
      },
      {
       "output_type": "stream",
       "stream": "stdout",
       "text": [
        " \r",
        "[*******          18%                  ]  54506 of 309673 complete"
       ]
      },
      {
       "output_type": "stream",
       "stream": "stdout",
       "text": [
        " \r",
        "[*******          18%                  ]  54511 of 309673 complete"
       ]
      },
      {
       "output_type": "stream",
       "stream": "stdout",
       "text": [
        " \r",
        "[*******          18%                  ]  54518 of 309673 complete"
       ]
      },
      {
       "output_type": "stream",
       "stream": "stdout",
       "text": [
        " \r",
        "[*******          18%                  ]  54524 of 309673 complete"
       ]
      },
      {
       "output_type": "stream",
       "stream": "stdout",
       "text": [
        " \r",
        "[*******          18%                  ]  54529 of 309673 complete"
       ]
      },
      {
       "output_type": "stream",
       "stream": "stdout",
       "text": [
        " \r",
        "[*******          18%                  ]  54534 of 309673 complete"
       ]
      },
      {
       "output_type": "stream",
       "stream": "stdout",
       "text": [
        " \r",
        "[*******          18%                  ]  54540 of 309673 complete"
       ]
      },
      {
       "output_type": "stream",
       "stream": "stdout",
       "text": [
        " \r",
        "[*******          18%                  ]  54545 of 309673 complete"
       ]
      },
      {
       "output_type": "stream",
       "stream": "stdout",
       "text": [
        " \r",
        "[*******          18%                  ]  54551 of 309673 complete"
       ]
      },
      {
       "output_type": "stream",
       "stream": "stdout",
       "text": [
        " \r",
        "[*******          18%                  ]  54557 of 309673 complete"
       ]
      },
      {
       "output_type": "stream",
       "stream": "stdout",
       "text": [
        " \r",
        "[*******          18%                  ]  54563 of 309673 complete"
       ]
      },
      {
       "output_type": "stream",
       "stream": "stdout",
       "text": [
        " \r",
        "[*******          18%                  ]  54569 of 309673 complete"
       ]
      },
      {
       "output_type": "stream",
       "stream": "stdout",
       "text": [
        " \r",
        "[*******          18%                  ]  54573 of 309673 complete"
       ]
      },
      {
       "output_type": "stream",
       "stream": "stdout",
       "text": [
        " \r",
        "[*******          18%                  ]  54577 of 309673 complete"
       ]
      },
      {
       "output_type": "stream",
       "stream": "stdout",
       "text": [
        " \r",
        "[*******          18%                  ]  54583 of 309673 complete"
       ]
      },
      {
       "output_type": "stream",
       "stream": "stdout",
       "text": [
        " \r",
        "[*******          18%                  ]  54588 of 309673 complete"
       ]
      },
      {
       "output_type": "stream",
       "stream": "stdout",
       "text": [
        " \r",
        "[*******          18%                  ]  54595 of 309673 complete"
       ]
      },
      {
       "output_type": "stream",
       "stream": "stdout",
       "text": [
        " \r",
        "[*******          18%                  ]  54600 of 309673 complete"
       ]
      },
      {
       "output_type": "stream",
       "stream": "stdout",
       "text": [
        " \r",
        "[*******          18%                  ]  54604 of 309673 complete"
       ]
      },
      {
       "output_type": "stream",
       "stream": "stdout",
       "text": [
        " \r",
        "[*******          18%                  ]  54610 of 309673 complete"
       ]
      },
      {
       "output_type": "stream",
       "stream": "stdout",
       "text": [
        " \r",
        "[*******          18%                  ]  54615 of 309673 complete"
       ]
      },
      {
       "output_type": "stream",
       "stream": "stdout",
       "text": [
        " \r",
        "[*******          18%                  ]  54619 of 309673 complete"
       ]
      },
      {
       "output_type": "stream",
       "stream": "stdout",
       "text": [
        " \r",
        "[*******          18%                  ]  54623 of 309673 complete"
       ]
      },
      {
       "output_type": "stream",
       "stream": "stdout",
       "text": [
        " \r",
        "[*******          18%                  ]  54629 of 309673 complete"
       ]
      },
      {
       "output_type": "stream",
       "stream": "stdout",
       "text": [
        " \r",
        "[*******          18%                  ]  54633 of 309673 complete"
       ]
      },
      {
       "output_type": "stream",
       "stream": "stdout",
       "text": [
        " \r",
        "[*******          18%                  ]  54638 of 309673 complete"
       ]
      },
      {
       "output_type": "stream",
       "stream": "stdout",
       "text": [
        " \r",
        "[*******          18%                  ]  54644 of 309673 complete"
       ]
      },
      {
       "output_type": "stream",
       "stream": "stdout",
       "text": [
        " \r",
        "[*******          18%                  ]  54648 of 309673 complete"
       ]
      },
      {
       "output_type": "stream",
       "stream": "stdout",
       "text": [
        " \r",
        "[*******          18%                  ]  54654 of 309673 complete"
       ]
      },
      {
       "output_type": "stream",
       "stream": "stdout",
       "text": [
        " \r",
        "[*******          18%                  ]  54658 of 309673 complete"
       ]
      },
      {
       "output_type": "stream",
       "stream": "stdout",
       "text": [
        " \r",
        "[*******          18%                  ]  54662 of 309673 complete"
       ]
      },
      {
       "output_type": "stream",
       "stream": "stdout",
       "text": [
        " \r",
        "[*******          18%                  ]  54668 of 309673 complete"
       ]
      },
      {
       "output_type": "stream",
       "stream": "stdout",
       "text": [
        " \r",
        "[*******          18%                  ]  54672 of 309673 complete"
       ]
      },
      {
       "output_type": "stream",
       "stream": "stdout",
       "text": [
        " \r",
        "[*******          18%                  ]  54676 of 309673 complete"
       ]
      },
      {
       "output_type": "stream",
       "stream": "stdout",
       "text": [
        " \r",
        "[*******          18%                  ]  54680 of 309673 complete"
       ]
      },
      {
       "output_type": "stream",
       "stream": "stdout",
       "text": [
        " \r",
        "[*******          18%                  ]  54685 of 309673 complete"
       ]
      },
      {
       "output_type": "stream",
       "stream": "stdout",
       "text": [
        " \r",
        "[*******          18%                  ]  54689 of 309673 complete"
       ]
      },
      {
       "output_type": "stream",
       "stream": "stdout",
       "text": [
        " \r",
        "[*******          18%                  ]  54693 of 309673 complete"
       ]
      },
      {
       "output_type": "stream",
       "stream": "stdout",
       "text": [
        " \r",
        "[*******          18%                  ]  54697 of 309673 complete"
       ]
      },
      {
       "output_type": "stream",
       "stream": "stdout",
       "text": [
        " \r",
        "[*******          18%                  ]  54702 of 309673 complete"
       ]
      },
      {
       "output_type": "stream",
       "stream": "stdout",
       "text": [
        " \r",
        "[*******          18%                  ]  54706 of 309673 complete"
       ]
      },
      {
       "output_type": "stream",
       "stream": "stdout",
       "text": [
        " \r",
        "[*******          18%                  ]  54710 of 309673 complete"
       ]
      },
      {
       "output_type": "stream",
       "stream": "stdout",
       "text": [
        " \r",
        "[*******          18%                  ]  54714 of 309673 complete"
       ]
      },
      {
       "output_type": "stream",
       "stream": "stdout",
       "text": [
        " \r",
        "[*******          18%                  ]  54718 of 309673 complete"
       ]
      },
      {
       "output_type": "stream",
       "stream": "stdout",
       "text": [
        " \r",
        "[*******          18%                  ]  54722 of 309673 complete"
       ]
      },
      {
       "output_type": "stream",
       "stream": "stdout",
       "text": [
        " \r",
        "[*******          18%                  ]  54726 of 309673 complete"
       ]
      },
      {
       "output_type": "stream",
       "stream": "stdout",
       "text": [
        " \r",
        "[*******          18%                  ]  54731 of 309673 complete"
       ]
      },
      {
       "output_type": "stream",
       "stream": "stdout",
       "text": [
        " \r",
        "[*******          18%                  ]  54736 of 309673 complete"
       ]
      },
      {
       "output_type": "stream",
       "stream": "stdout",
       "text": [
        " \r",
        "[*******          18%                  ]  54741 of 309673 complete"
       ]
      },
      {
       "output_type": "stream",
       "stream": "stdout",
       "text": [
        " \r",
        "[*******          18%                  ]  54745 of 309673 complete"
       ]
      },
      {
       "output_type": "stream",
       "stream": "stdout",
       "text": [
        " \r",
        "[*******          18%                  ]  54750 of 309673 complete"
       ]
      },
      {
       "output_type": "stream",
       "stream": "stdout",
       "text": [
        " \r",
        "[*******          18%                  ]  54754 of 309673 complete"
       ]
      },
      {
       "output_type": "stream",
       "stream": "stdout",
       "text": [
        " \r",
        "[*******          18%                  ]  54756 of 309673 complete"
       ]
      },
      {
       "output_type": "stream",
       "stream": "stdout",
       "text": [
        " \r",
        "[*******          18%                  ]  54762 of 309673 complete"
       ]
      },
      {
       "output_type": "stream",
       "stream": "stdout",
       "text": [
        " \r",
        "[*******          18%                  ]  54766 of 309673 complete"
       ]
      },
      {
       "output_type": "stream",
       "stream": "stdout",
       "text": [
        " \r",
        "[*******          18%                  ]  54771 of 309673 complete"
       ]
      },
      {
       "output_type": "stream",
       "stream": "stdout",
       "text": [
        " \r",
        "[*******          18%                  ]  54775 of 309673 complete"
       ]
      },
      {
       "output_type": "stream",
       "stream": "stdout",
       "text": [
        " \r",
        "[*******          18%                  ]  54780 of 309673 complete"
       ]
      },
      {
       "output_type": "stream",
       "stream": "stdout",
       "text": [
        " \r",
        "[*******          18%                  ]  54785 of 309673 complete"
       ]
      },
      {
       "output_type": "stream",
       "stream": "stdout",
       "text": [
        " \r",
        "[*******          18%                  ]  54790 of 309673 complete"
       ]
      },
      {
       "output_type": "stream",
       "stream": "stdout",
       "text": [
        " \r",
        "[*******          18%                  ]  54794 of 309673 complete"
       ]
      },
      {
       "output_type": "stream",
       "stream": "stdout",
       "text": [
        " \r",
        "[*******          18%                  ]  54798 of 309673 complete"
       ]
      },
      {
       "output_type": "stream",
       "stream": "stdout",
       "text": [
        " \r",
        "[*******          18%                  ]  54802 of 309673 complete"
       ]
      },
      {
       "output_type": "stream",
       "stream": "stdout",
       "text": [
        " \r",
        "[*******          18%                  ]  54807 of 309673 complete"
       ]
      },
      {
       "output_type": "stream",
       "stream": "stdout",
       "text": [
        " \r",
        "[*******          18%                  ]  54810 of 309673 complete"
       ]
      },
      {
       "output_type": "stream",
       "stream": "stdout",
       "text": [
        " \r",
        "[*******          18%                  ]  54815 of 309673 complete"
       ]
      },
      {
       "output_type": "stream",
       "stream": "stdout",
       "text": [
        " \r",
        "[*******          18%                  ]  54818 of 309673 complete"
       ]
      },
      {
       "output_type": "stream",
       "stream": "stdout",
       "text": [
        " \r",
        "[*******          18%                  ]  54822 of 309673 complete"
       ]
      },
      {
       "output_type": "stream",
       "stream": "stdout",
       "text": [
        " \r",
        "[*******          18%                  ]  54827 of 309673 complete"
       ]
      },
      {
       "output_type": "stream",
       "stream": "stdout",
       "text": [
        " \r",
        "[*******          18%                  ]  54830 of 309673 complete"
       ]
      },
      {
       "output_type": "stream",
       "stream": "stdout",
       "text": [
        " \r",
        "[*******          18%                  ]  54835 of 309673 complete"
       ]
      },
      {
       "output_type": "stream",
       "stream": "stdout",
       "text": [
        " \r",
        "[*******          18%                  ]  54840 of 309673 complete"
       ]
      },
      {
       "output_type": "stream",
       "stream": "stdout",
       "text": [
        " \r",
        "[*******          18%                  ]  54841 of 309673 complete"
       ]
      },
      {
       "output_type": "stream",
       "stream": "stdout",
       "text": [
        " \r",
        "[*******          18%                  ]  54845 of 309673 complete"
       ]
      },
      {
       "output_type": "stream",
       "stream": "stdout",
       "text": [
        " \r",
        "[*******          18%                  ]  54850 of 309673 complete"
       ]
      },
      {
       "output_type": "stream",
       "stream": "stdout",
       "text": [
        " \r",
        "[*******          18%                  ]  54852 of 309673 complete"
       ]
      },
      {
       "output_type": "stream",
       "stream": "stdout",
       "text": [
        " \r",
        "[*******          18%                  ]  54857 of 309673 complete"
       ]
      },
      {
       "output_type": "stream",
       "stream": "stdout",
       "text": [
        " \r",
        "[*******          18%                  ]  54860 of 309673 complete"
       ]
      },
      {
       "output_type": "stream",
       "stream": "stdout",
       "text": [
        " \r",
        "[*******          18%                  ]  54864 of 309673 complete"
       ]
      },
      {
       "output_type": "stream",
       "stream": "stdout",
       "text": [
        " \r",
        "[*******          18%                  ]  54868 of 309673 complete"
       ]
      },
      {
       "output_type": "stream",
       "stream": "stdout",
       "text": [
        " \r",
        "[*******          18%                  ]  54874 of 309673 complete"
       ]
      },
      {
       "output_type": "stream",
       "stream": "stdout",
       "text": [
        " \r",
        "[*******          18%                  ]  54879 of 309673 complete"
       ]
      },
      {
       "output_type": "stream",
       "stream": "stdout",
       "text": [
        " \r",
        "[*******          18%                  ]  54884 of 309673 complete"
       ]
      },
      {
       "output_type": "stream",
       "stream": "stdout",
       "text": [
        " \r",
        "[*******          18%                  ]  54888 of 309673 complete"
       ]
      },
      {
       "output_type": "stream",
       "stream": "stdout",
       "text": [
        " \r",
        "[*******          18%                  ]  54892 of 309673 complete"
       ]
      },
      {
       "output_type": "stream",
       "stream": "stdout",
       "text": [
        " \r",
        "[*******          18%                  ]  54896 of 309673 complete"
       ]
      },
      {
       "output_type": "stream",
       "stream": "stdout",
       "text": [
        " \r",
        "[*******          18%                  ]  54900 of 309673 complete"
       ]
      },
      {
       "output_type": "stream",
       "stream": "stdout",
       "text": [
        " \r",
        "[*******          18%                  ]  54905 of 309673 complete"
       ]
      },
      {
       "output_type": "stream",
       "stream": "stdout",
       "text": [
        " \r",
        "[*******          18%                  ]  54911 of 309673 complete"
       ]
      },
      {
       "output_type": "stream",
       "stream": "stdout",
       "text": [
        " \r",
        "[*******          18%                  ]  54916 of 309673 complete"
       ]
      },
      {
       "output_type": "stream",
       "stream": "stdout",
       "text": [
        " \r",
        "[*******          18%                  ]  54921 of 309673 complete"
       ]
      },
      {
       "output_type": "stream",
       "stream": "stdout",
       "text": [
        " \r",
        "[*******          18%                  ]  54925 of 309673 complete"
       ]
      },
      {
       "output_type": "stream",
       "stream": "stdout",
       "text": [
        " \r",
        "[*******          18%                  ]  54929 of 309673 complete"
       ]
      },
      {
       "output_type": "stream",
       "stream": "stdout",
       "text": [
        " \r",
        "[*******          18%                  ]  54934 of 309673 complete"
       ]
      },
      {
       "output_type": "stream",
       "stream": "stdout",
       "text": [
        " \r",
        "[*******          18%                  ]  54938 of 309673 complete"
       ]
      },
      {
       "output_type": "stream",
       "stream": "stdout",
       "text": [
        " \r",
        "[*******          18%                  ]  54942 of 309673 complete"
       ]
      },
      {
       "output_type": "stream",
       "stream": "stdout",
       "text": [
        " \r",
        "[*******          18%                  ]  54946 of 309673 complete"
       ]
      },
      {
       "output_type": "stream",
       "stream": "stdout",
       "text": [
        " \r",
        "[*******          18%                  ]  54950 of 309673 complete"
       ]
      },
      {
       "output_type": "stream",
       "stream": "stdout",
       "text": [
        " \r",
        "[*******          18%                  ]  54954 of 309673 complete"
       ]
      },
      {
       "output_type": "stream",
       "stream": "stdout",
       "text": [
        " \r",
        "[*******          18%                  ]  54959 of 309673 complete"
       ]
      },
      {
       "output_type": "stream",
       "stream": "stdout",
       "text": [
        " \r",
        "[*******          18%                  ]  54965 of 309673 complete"
       ]
      },
      {
       "output_type": "stream",
       "stream": "stdout",
       "text": [
        " \r",
        "[*******          18%                  ]  54970 of 309673 complete"
       ]
      },
      {
       "output_type": "stream",
       "stream": "stdout",
       "text": [
        " \r",
        "[*******          18%                  ]  54974 of 309673 complete"
       ]
      },
      {
       "output_type": "stream",
       "stream": "stdout",
       "text": [
        " \r",
        "[*******          18%                  ]  54978 of 309673 complete"
       ]
      },
      {
       "output_type": "stream",
       "stream": "stdout",
       "text": [
        " \r",
        "[*******          18%                  ]  54982 of 309673 complete"
       ]
      },
      {
       "output_type": "stream",
       "stream": "stdout",
       "text": [
        " \r",
        "[*******          18%                  ]  54987 of 309673 complete"
       ]
      },
      {
       "output_type": "stream",
       "stream": "stdout",
       "text": [
        " \r",
        "[*******          18%                  ]  54991 of 309673 complete"
       ]
      },
      {
       "output_type": "stream",
       "stream": "stdout",
       "text": [
        " \r",
        "[*******          18%                  ]  54995 of 309673 complete"
       ]
      },
      {
       "output_type": "stream",
       "stream": "stdout",
       "text": [
        " \r",
        "[*******          18%                  ]  54999 of 309673 complete"
       ]
      },
      {
       "output_type": "stream",
       "stream": "stdout",
       "text": [
        " \r",
        "[*******          18%                  ]  55003 of 309673 complete"
       ]
      },
      {
       "output_type": "stream",
       "stream": "stdout",
       "text": [
        " \r",
        "[*******          18%                  ]  55008 of 309673 complete"
       ]
      },
      {
       "output_type": "stream",
       "stream": "stdout",
       "text": [
        " \r",
        "[*******          18%                  ]  55013 of 309673 complete"
       ]
      },
      {
       "output_type": "stream",
       "stream": "stdout",
       "text": [
        " \r",
        "[*******          18%                  ]  55017 of 309673 complete"
       ]
      },
      {
       "output_type": "stream",
       "stream": "stdout",
       "text": [
        " \r",
        "[*******          18%                  ]  55021 of 309673 complete"
       ]
      },
      {
       "output_type": "stream",
       "stream": "stdout",
       "text": [
        " \r",
        "[*******          18%                  ]  55023 of 309673 complete"
       ]
      },
      {
       "output_type": "stream",
       "stream": "stdout",
       "text": [
        " \r",
        "[*******          18%                  ]  55028 of 309673 complete"
       ]
      },
      {
       "output_type": "stream",
       "stream": "stdout",
       "text": [
        " \r",
        "[*******          18%                  ]  55032 of 309673 complete"
       ]
      },
      {
       "output_type": "stream",
       "stream": "stdout",
       "text": [
        " \r",
        "[*******          18%                  ]  55036 of 309673 complete"
       ]
      },
      {
       "output_type": "stream",
       "stream": "stdout",
       "text": [
        " \r",
        "[*******          18%                  ]  55038 of 309673 complete"
       ]
      },
      {
       "output_type": "stream",
       "stream": "stdout",
       "text": [
        " \r",
        "[*******          18%                  ]  55042 of 309673 complete"
       ]
      },
      {
       "output_type": "stream",
       "stream": "stdout",
       "text": [
        " \r",
        "[*******          18%                  ]  55046 of 309673 complete"
       ]
      }
     ]
    },
    {
     "cell_type": "code",
     "collapsed": false,
     "input": [
      "res.ready()"
     ],
     "language": "python",
     "metadata": {},
     "outputs": [
      {
       "metadata": {},
       "output_type": "pyout",
       "prompt_number": 24,
       "text": [
        "True"
       ]
      }
     ],
     "prompt_number": 24
    },
    {
     "cell_type": "code",
     "collapsed": false,
     "input": [
      "(len(files)/500)*117.845681"
     ],
     "language": "python",
     "metadata": {},
     "outputs": [
      {
       "metadata": {},
       "output_type": "pyout",
       "prompt_number": 20,
       "text": [
        "72946.476539"
       ]
      }
     ],
     "prompt_number": 20
    },
    {
     "cell_type": "code",
     "collapsed": false,
     "input": [
      "72946.476539/60/60"
     ],
     "language": "python",
     "metadata": {},
     "outputs": [
      {
       "metadata": {},
       "output_type": "pyout",
       "prompt_number": 21,
       "text": [
        "20.262910149722224"
       ]
      }
     ],
     "prompt_number": 21
    },
    {
     "cell_type": "code",
     "collapsed": false,
     "input": [
      "lat,lon,w_flux = zip(*res.result)"
     ],
     "language": "python",
     "metadata": {},
     "outputs": [],
     "prompt_number": 26
    },
    {
     "cell_type": "code",
     "collapsed": false,
     "input": [
      "np.savez_compressed('./water_flux_method_2.npz',lat=lat,lon=lon,w_flux2=w_flux)"
     ],
     "language": "python",
     "metadata": {},
     "outputs": [],
     "prompt_number": 28
    },
    {
     "cell_type": "code",
     "collapsed": false,
     "input": [
      "res.result"
     ],
     "language": "python",
     "metadata": {},
     "outputs": [
      {
       "metadata": {},
       "output_type": "pyout",
       "prompt_number": 80,
       "text": [
        "[(45.15625, -98.78125, 2.9808032195776724),\n",
        " (45.15625, -98.84375, 2.8963974009871833),\n",
        " (45.15625, -98.90625, 2.9010942138530957),\n",
        " (45.15625, -98.96875, 2.8755059356024764),\n",
        " (45.15625, -99.03125, 2.9216727601281689),\n",
        " (45.15625, -99.09375, 2.9248735800457557),\n",
        " (45.15625, -99.15625, 3.0201201408994245),\n",
        " (45.15625, -99.21875, 2.9664083378417079),\n",
        " (45.15625, -99.28125, 2.983879714395365),\n",
        " (45.15625, -99.34375, 2.9188277116557781),\n",
        " (45.15625, -99.40625, 2.9545705295153679),\n",
        " (45.15625, -99.46875, 2.9381070235064097),\n",
        " (45.15625, -99.53125, 2.8664667738496501),\n",
        " (45.15625, -99.59375, 2.8083653097173551),\n",
        " (45.15625, -99.65625, 2.7879592320596003),\n",
        " (45.15625, -99.71875, 2.7766422079004611),\n",
        " (45.15625, -99.78125, 2.790551378905366),\n",
        " (45.15625, -99.84375, 2.7678443835770548),\n",
        " (45.15625, -99.90625, 2.7649379586775975),\n",
        " (45.15625, -99.96875, 2.7593557349210398),\n",
        " (45.21875, -100.03125, 2.6836834829221097),\n",
        " (45.21875, -100.09375, 2.5706879890426872),\n",
        " (45.21875, -100.15625, 2.5609965868905014),\n",
        " (45.21875, -100.21875, 2.4873419650825137),\n",
        " (45.21875, -100.28125, 2.4784708014372812),\n",
        " (45.21875, -100.34375, 2.454998992924124),\n",
        " (45.21875, -100.40625, 2.4841167170785705),\n",
        " (45.21875, -100.46875, 2.4939514305864408),\n",
        " (45.21875, -100.53125, 2.4765870221803978),\n",
        " (45.21875, -100.59375, 2.4414631842741756),\n",
        " (45.21875, -100.65625, 2.4847731100774713),\n",
        " (45.21875, -100.71875, 2.4646402043932611),\n",
        " (45.21875, -100.78125, 2.5178263086649446),\n",
        " (45.21875, -100.84375, 2.5015314211411614),\n",
        " (45.21875, -100.90625, 2.4885640800829609),\n",
        " (45.21875, -100.96875, 2.5090753790141775),\n",
        " (45.21875, -101.03125, 2.5424325102220902),\n",
        " (45.21875, -101.09375, 2.5760778899912635),\n",
        " (45.21875, -101.15625, 2.5719143178858794),\n",
        " (45.21875, -101.21875, 2.5396803052060308),\n",
        " (45.21875, -101.28125, 2.531334278329147),\n",
        " (45.21875, -101.34375, 2.4434274083179375),\n",
        " (45.21875, -101.40625, 2.4408360200332511),\n",
        " (45.21875, -101.46875, 2.4516599855311938),\n",
        " (45.21875, -101.53125, 2.456961522639638),\n",
        " (45.21875, -101.59375, 2.4802995193336499),\n",
        " (45.21875, -101.65625, 2.4905052582943377),\n",
        " (45.21875, -101.71875, 2.4881961426360459),\n",
        " (45.21875, -101.78125, 2.5042715530425514),\n",
        " (45.21875, -101.84375, 2.4768746400258315),\n",
        " (45.21875, -101.90625, 2.4314802229092716),\n",
        " (45.21875, -101.96875, 2.424053891056714),\n",
        " (45.21875, -102.03125, 2.4167372407031897),\n",
        " (45.21875, -102.09375, 2.3621983543502685),\n",
        " (45.21875, -102.15625, 2.3547396911538589),\n",
        " (45.21875, -102.21875, 2.4034833486325873),\n",
        " (45.21875, -102.28125, 2.5814747590644904),\n",
        " (45.21875, -102.34375, 2.5206135845274802),\n",
        " (45.21875, -102.40625, 2.4213659404389638),\n",
        " (45.21875, -102.46875, 2.4132470882864703),\n",
        " (45.21875, -102.53125, 2.4007549149021519),\n",
        " (45.21875, -102.59375, 2.4008565909003035),\n",
        " (45.21875, -102.65625, 2.3875906752685561),\n",
        " (45.21875, -102.71875, 2.3365562411319707),\n",
        " (45.21875, -102.78125, 2.3282617733133217),\n",
        " (45.21875, -102.84375, 2.3126763040046665),\n",
        " (45.21875, -102.90625, 2.3710105798495027),\n",
        " (45.21875, -102.96875, 2.3602015050355867),\n",
        " (45.21875, -103.03125, 2.3470358552558213),\n",
        " (45.21875, -103.09375, 2.3326547294112361),\n",
        " (45.21875, -103.15625, 2.3019738583601144),\n",
        " (45.21875, -103.21875, 2.3071469522552883),\n",
        " (45.21875, -103.28125, 2.2988227487794237),\n",
        " (45.21875, -103.34375, 2.2847340150583202),\n",
        " (45.21875, -103.40625, 2.2924404084307426),\n",
        " (45.21875, -103.46875, 2.2444463393306533),\n",
        " (45.21875, -103.53125, 2.2578417347725486),\n",
        " (45.21875, -103.59375, 2.2713729801095695),\n",
        " (45.21875, -103.65625, 2.2610050959636192),\n",
        " (45.21875, -103.71875, 2.2303583132871814),\n",
        " (45.21875, -103.78125, 2.243404572125498),\n",
        " (45.21875, -103.84375, 2.2034677366486353),\n",
        " (45.21875, -103.90625, 2.1676294141615196),\n",
        " (45.21875, -103.96875, 2.1409176845206397),\n",
        " (45.21875, -104.03125, 2.1221978740605714),\n",
        " (45.21875, -104.09375, 2.0799986264515278),\n",
        " (45.21875, -104.15625, 2.1071338317841382),\n",
        " (45.21875, -104.21875, 2.3727458107260437),\n",
        " (45.21875, -104.28125, 2.4148372079743332),\n",
        " (45.21875, -104.34375, 2.1638598651352936),\n",
        " (45.21875, -104.40625, 2.1051096951516661),\n",
        " (45.21875, -104.46875, 2.1034599624668413),\n",
        " (45.21875, -104.53125, 2.11433339671854),\n",
        " (45.21875, -104.59375, 2.1394571939210558),\n",
        " (45.21875, -104.65625, 2.1642430153249324),\n",
        " (45.21875, -104.71875, 2.1840319686162406),\n",
        " (45.21875, -104.78125, 2.1909128428233133),\n",
        " (45.21875, -104.84375, 2.2185471636013769),\n",
        " (45.21875, -104.90625, 2.2818588360922027),\n",
        " (45.21875, -104.96875, 2.3491849615419951),\n",
        " (45.21875, -105.03125, 2.3664381412817699),\n",
        " (45.21875, -105.09375, 2.249659960117643),\n",
        " (45.21875, -105.15625, 2.1074751711627169),\n",
        " (45.21875, -105.21875, 1.9180999360920863),\n",
        " (45.21875, -105.28125, 1.8466512807519311),\n",
        " (45.21875, -105.34375, 1.8027470133770924),\n",
        " (45.21875, -105.40625, 1.8348215481124079),\n",
        " (45.21875, -105.46875, 1.8759229040948826),\n",
        " (45.21875, -105.53125, 1.8981697197462739),\n",
        " (45.21875, -105.59375, 1.8474786371984826),\n",
        " (45.21875, -105.65625, 1.8537619693392839),\n",
        " (45.21875, -105.71875, 1.8963934928255677),\n",
        " (45.21875, -105.78125, 1.9767059083876706),\n",
        " (45.21875, -105.84375, 1.939949746842158),\n",
        " (45.21875, -105.90625, 1.9163267341248225),\n",
        " (45.21875, -105.96875, 1.9032191914359331),\n",
        " (45.21875, -106.03125, 1.8815030056248361),\n",
        " (45.21875, -106.09375, 1.8782537873004796),\n",
        " (45.21875, -106.15625, 1.8778699929566076),\n",
        " (45.21875, -106.21875, 1.9830845883144259),\n",
        " (45.21875, -106.28125, 2.0512767719627272),\n",
        " (45.21875, -106.34375, 2.0250882928258802),\n",
        " (45.21875, -106.40625, 1.981676061145661),\n",
        " (45.21875, -106.46875, 1.9101399347903734),\n",
        " (45.21875, -106.53125, 1.9133342860530651),\n",
        " (45.21875, -106.59375, 1.8875687562883816),\n",
        " (45.21875, -106.65625, 1.8092573562353271),\n",
        " (45.21875, -106.71875, 1.786920965507018),\n",
        " (45.21875, -106.78125, 1.8638558092053175),\n",
        " (45.21875, -106.84375, 2.0486746714335995),\n",
        " (45.21875, -106.90625, 2.2328460888844166),\n",
        " (45.21875, -106.96875, 2.3948606855394527),\n",
        " (45.21875, -107.03125, 2.7125678861052354),\n",
        " (45.21875, -107.09375, 2.6957643762594974),\n",
        " (45.21875, -107.15625, 2.268204517402256),\n",
        " (45.21875, -107.21875, 2.0816510806627915),\n",
        " (45.21875, -107.28125, 2.0034532302504284),\n",
        " (45.21875, -107.34375, 2.0194859361644166),\n",
        " (45.21875, -107.40625, 2.0615376137611903),\n",
        " (45.21875, -107.46875, 2.0517912521109047),\n",
        " (45.21875, -107.53125, 2.057632754654259),\n",
        " (45.21875, -107.59375, 2.0814006837762018),\n",
        " (45.21875, -107.65625, 2.1319997956892087),\n",
        " (45.21875, -107.71875, 2.1408684981892026),\n",
        " (45.21875, -107.78125, 2.216634495855494),\n",
        " (45.21875, -107.84375, 2.4955948222496338),\n",
        " (45.21875, -107.90625, 2.8288502657020032),\n",
        " (45.21875, -107.96875, 2.7325162311376681),\n",
        " (45.21875, -108.03125, 2.6242206702854607),\n",
        " (45.21875, -108.09375, 2.481484344991812),\n",
        " (45.21875, -108.15625, 2.3939336541062959),\n",
        " (45.21875, -108.21875, 2.4556425033873333),\n",
        " (45.21875, -108.28125, 2.3946679176841368),\n",
        " (45.21875, -108.34375, 2.1146567157443807),\n",
        " (45.21875, -108.40625, 2.4836517565882934),\n",
        " (45.21875, -108.46875, 2.1651956714538527),\n",
        " (45.21875, -108.53125, 2.3430828383611071),\n",
        " (45.21875, -108.59375, 2.2022162627159414),\n",
        " (45.21875, -108.65625, 2.4620934886826413),\n",
        " (45.21875, -108.71875, 2.5391156166193078),\n",
        " (45.21875, -108.78125, 2.2418216847589014),\n",
        " (45.21875, -108.84375, 1.6257116653269625),\n",
        " (45.21875, -108.90625, 1.5012165813825287),\n",
        " (45.21875, -108.96875, 1.3773006737150577),\n",
        " (45.21875, -109.03125, 1.4037696879973711),\n",
        " (45.21875, -109.09375, 1.7207315617281453),\n",
        " (45.21875, -109.15625, 2.4526617697658639),\n",
        " (45.21875, -109.21875, 3.1378905139208682),\n",
        " (45.21875, -109.28125, 3.088668614838801),\n",
        " (45.21875, -109.34375, 2.9755373601657649),\n",
        " (45.21875, -109.40625, 3.2283368330166922),\n",
        " (45.21875, -109.46875, 3.4507435098720149),\n",
        " (45.21875, -109.53125, 3.6863207703683476),\n",
        " (45.21875, -109.59375, 3.03248314325546),\n",
        " (45.21875, -109.65625, 3.2675852836316355),\n",
        " (45.21875, -109.71875, 4.4668163279030484),\n",
        " (45.21875, -109.78125, 5.1965449254759912),\n",
        " (45.21875, -109.84375, 6.0703452125121116),\n",
        " (45.21875, -109.90625, 7.2231008585833152),\n",
        " (45.21875, -109.96875, 3.3579471925656832),\n",
        " (45.21875, -110.03125, 3.84222638936772),\n",
        " (45.21875, -110.09375, 5.5558446534501771),\n",
        " (45.21875, -110.15625, 5.2283186144847136),\n",
        " (45.21875, -110.21875, 4.6585985476077756),\n",
        " (45.21875, -110.28125, 5.0960226864652149),\n",
        " (45.21875, -110.34375, 5.4200964996745844),\n",
        " (45.21875, -110.40625, 5.9158951194326228),\n",
        " (45.21875, -110.46875, 5.278355657509886),\n",
        " (45.21875, -110.53125, 4.3882814295986465),\n",
        " (45.21875, -110.59375, 5.137951388893887),\n",
        " (45.21875, -110.65625, 6.1858563094798784),\n",
        " (45.21875, -110.71875, 4.1189452618338525),\n",
        " (45.21875, -110.78125, 2.8736105507192393),\n",
        " (45.21875, -110.84375, 1.8052048443902271),\n",
        " (45.21875, -110.90625, 1.6042983268512503),\n",
        " (45.21875, -110.96875, 2.9794850193227611),\n",
        " (45.21875, -111.03125, 4.544275614853345),\n",
        " (45.21875, -111.09375, 5.8118871907342777),\n",
        " (45.21875, -111.15625, 5.0311093349268061),\n",
        " (45.21875, -111.21875, 2.5442597139646401),\n",
        " (45.21875, -111.28125, 2.3887867890328209),\n",
        " (45.21875, -111.34375, 3.2644899237215195),\n",
        " (45.21875, -111.40625, 4.1981916103142023),\n",
        " (45.21875, -111.46875, 4.610890258814778),\n",
        " (45.21875, -111.53125, 4.5471317857003521),\n",
        " (45.21875, -111.59375, 2.1939390256830018),\n",
        " (45.21875, -111.65625, 1.71830605440027),\n",
        " (45.21875, -111.71875, 1.7072632085671271),\n",
        " (45.21875, -111.78125, 1.7674580769535544),\n",
        " (45.21875, -111.84375, 2.5963836512461969),\n",
        " (45.21875, -111.90625, 4.0466861217915326),\n",
        " (45.21875, -111.96875, 3.5947561773238421),\n",
        " (45.21875, -112.03125, 2.6811963752177013),\n",
        " (45.21875, -112.09375, 1.7357013969224502),\n",
        " (45.21875, -112.15625, 1.7280372528458006),\n",
        " (45.21875, -112.21875, 2.321485115979085),\n",
        " (45.21875, -112.28125, 2.6632720411922297),\n",
        " (45.21875, -112.34375, 2.0846330800421922),\n",
        " (45.21875, -112.40625, 1.9712874511123031),\n",
        " (45.21875, -112.46875, 1.7669091844684583),\n",
        " (45.21875, -112.53125, 1.8064920805322402),\n",
        " (45.21875, -112.59375, 1.8734508370150538),\n",
        " (45.21875, -112.65625, 1.9814189858522833),\n",
        " (45.21875, -112.71875, 1.7220331346422506),\n",
        " (45.21875, -112.78125, 1.5385643834813003),\n",
        " (45.21875, -112.84375, 1.447109360565944),\n",
        " (45.21875, -112.90625, 1.454303077627676),\n",
        " (45.21875, -112.96875, 1.5427287127300273),\n",
        " (45.21875, -113.03125, 1.3483195406273996),\n",
        " (45.21875, -113.09375, 1.476383994355535),\n",
        " (45.21875, -113.15625, 2.4158594256282431),\n",
        " (45.21875, -113.21875, 5.3720409695302882),\n",
        " (45.21875, -113.28125, 4.4964998927896174),\n",
        " (45.21875, -113.34375, 3.456975530525336),\n",
        " (45.21875, -113.40625, 4.3255215793219772),\n",
        " (45.21875, -113.46875, 4.3320640741369365),\n",
        " (45.21875, -113.53125, 4.6850472768773574),\n",
        " (45.21875, -113.59375, 6.4508967012031926),\n",
        " (45.21875, -113.65625, 6.3317596255665389),\n",
        " (45.21875, -113.71875, 3.2883889244114308),\n",
        " (45.21875, -113.78125, 1.8481910571320894),\n",
        " (45.21875, -113.84375, 1.4214347357558335),\n",
        " (45.21875, -113.90625, 1.2890101020494555),\n",
        " (45.21875, -113.96875, 2.9744591395814952),\n",
        " (45.21875, -114.03125, 5.1747225781826822),\n",
        " (45.21875, -114.09375, 4.1934433311476642),\n",
        " (45.21875, -114.15625, 3.7314125359418626),\n",
        " (45.21875, -114.21875, 3.7520481728763353),\n",
        " (45.21875, -114.28125, 2.5085517776518671),\n",
        " (45.21875, -114.34375, 2.3245560790837994),\n",
        " (45.21875, -114.40625, 2.6699989104449529),\n",
        " (45.21875, -114.46875, 3.2849695662489378),\n",
        " (45.21875, -114.53125, 5.3106121842522409),\n",
        " (45.21875, -114.59375, 5.3662640137815156),\n",
        " (45.21875, -114.65625, 3.1217737255933562),\n",
        " (45.21875, -114.71875, 3.1734092664707076),\n",
        " (45.21875, -114.78125, 5.6740404636400132),\n",
        " (45.21875, -114.84375, 8.7295744602665053),\n",
        " (45.21875, -114.90625, 7.4780705316326248),\n",
        " (45.21875, -114.96875, 6.6671100766221834),\n",
        " (45.21875, -115.03125, 6.2874638188587184),\n",
        " (45.21875, -115.09375, 6.5313906618573094),\n",
        " (45.21875, -115.15625, 6.6053723943633234),\n",
        " (45.21875, -115.21875, 7.1597362163318197),\n",
        " (45.21875, -115.28125, 6.9376233991059326),\n",
        " (45.21875, -115.34375, 8.2170042600618842),\n",
        " (45.21875, -115.40625, 7.4295889102285217),\n",
        " (45.21875, -115.46875, 4.6799291292238223),\n",
        " (45.21875, -115.53125, 3.7649908127465741),\n",
        " (45.21875, -115.59375, 4.4369763330850676),\n",
        " (45.21875, -115.65625, 6.4317788310639745),\n",
        " (45.21875, -115.71875, 6.871935745429341),\n",
        " (45.21875, -115.78125, 5.8025294667236986),\n",
        " (45.21875, -115.84375, 6.1254494566795961),\n",
        " (45.21875, -115.90625, 8.0796144574271391),\n",
        " (45.21875, -115.96875, 8.9918110849856561),\n",
        " (45.21875, -116.03125, 7.5314324314682706),\n",
        " (45.21875, -116.09375, 9.0010726175481679),\n",
        " (45.21875, -116.15625, 9.007264930022636),\n",
        " (45.21875, -116.21875, 7.6732583949003814),\n",
        " (45.21875, -116.28125, 4.8141457734572759),\n",
        " (45.21875, -116.34375, 3.7154862889475764),\n",
        " (45.21875, -116.40625, 5.9932121189669854),\n",
        " (45.21875, -116.46875, 5.9730940938799986),\n",
        " (45.21875, -116.53125, 8.9278856567396971),\n",
        " (45.21875, -116.59375, 8.1800993960396173),\n",
        " (45.21875, -116.65625, 4.8261842675035282),\n",
        " (45.21875, -116.71875, 3.1138032650378396),\n",
        " (45.21875, -116.78125, 5.4639313817208448),\n",
        " (45.21875, -116.84375, 4.3452310813025754),\n",
        " (45.21875, -116.90625, 4.7117531536806831),\n",
        " (45.21875, -116.96875, 4.9788861195220173),\n",
        " (45.21875, -117.03125, 4.8170503444498127),\n",
        " (45.21875, -117.09375, 5.5010227663929516),\n",
        " (45.21875, -117.15625, 7.2392526271793072),\n",
        " (45.21875, -117.21875, 6.4888039182212616),\n",
        " (45.21875, -117.28125, 7.6727335190493351),\n",
        " (45.21875, -117.34375, 8.0116169932051999),\n",
        " (45.21875, -117.40625, 8.9124372376083993),\n",
        " (45.21875, -117.46875, 7.5621518371820446),\n",
        " (45.21875, -117.53125, 6.7686203673162781),\n",
        " (45.21875, -117.59375, 8.1026581087796536),\n",
        " (45.21875, -117.65625, 7.7395678046303216),\n",
        " (45.21875, -117.71875, 5.0223513708481793),\n",
        " (45.21875, -117.78125, 3.4525897523453635),\n",
        " (45.21875, -117.84375, 2.3101517829292835),\n",
        " (45.21875, -117.90625, 2.0111695739117788),\n",
        " (45.21875, -117.96875, 2.3144420123304128),\n",
        " (45.21875, -118.03125, 2.3809958299225373),\n",
        " (45.21875, -118.09375, 3.768078843005616),\n",
        " (45.21875, -118.15625, 3.7505890669574642),\n",
        " (45.21875, -118.21875, 3.8305062937296905),\n",
        " (45.21875, -118.28125, 4.1297147572951376),\n",
        " (45.21875, -118.34375, 4.3453226167532737),\n",
        " (45.21875, -118.40625, 3.7204148288261019),\n",
        " (45.21875, -118.46875, 3.2807146321824687),\n",
        " (45.21875, -118.53125, 3.7084582975198082),\n",
        " (45.21875, -118.59375, 3.9755441339475253),\n",
        " (45.21875, -118.65625, 4.1840878109667381),\n",
        " (45.21875, -118.71875, 4.3542500219927813),\n",
        " (45.21875, -118.78125, 4.2668540270070396),\n",
        " (45.21875, -118.84375, 3.7146990040736219),\n",
        " (45.21875, -118.90625, 3.2650383246906403),\n",
        " (45.21875, -118.96875, 3.0647311131161454),\n",
        " (45.21875, -119.03125, 3.2938345547993575),\n",
        " (45.21875, -119.09375, 3.3334017651789849),\n",
        " (45.21875, -119.15625, 3.6052543492392974),\n",
        " (45.21875, -119.21875, 3.7689021024014662),\n",
        " (45.21875, -119.28125, 3.9339285351313769),\n",
        " (45.21875, -119.34375, 3.0263582710727652),\n",
        " (45.21875, -119.40625, 2.5967697049285432),\n",
        " (45.21875, -119.46875, 2.2126237788058725),\n",
        " (45.21875, -119.53125, 2.0574563218834609),\n",
        " (45.21875, -119.59375, 2.065723686566439),\n",
        " (45.21875, -119.65625, 1.9741399496015581),\n",
        " (45.21875, -119.71875, 1.930502847213097),\n",
        " (45.21875, -119.78125, 1.9993598818413088),\n",
        " (45.21875, -119.84375, 2.017372633585095),\n",
        " (45.21875, -119.90625, 1.9792267227120801),\n",
        " (45.21875, -119.96875, 1.8221119683831757),\n",
        " (45.21875, -120.03125, 1.828124070046812),\n",
        " (45.21875, -120.09375, 1.9026317688882917),\n",
        " (45.21875, -120.15625, 2.2034674872775302),\n",
        " (45.21875, -120.21875, 1.9768191553847321),\n",
        " (45.21875, -120.28125, 1.8427723477034537),\n",
        " (45.21875, -120.34375, 1.776801293784942),\n",
        " (45.21875, -120.40625, 1.7170629413203344),\n",
        " (45.21875, -120.46875, 1.5993174764796181),\n",
        " (45.21875, -120.53125, 1.5702876404767967),\n",
        " (45.21875, -120.59375, 1.6711343555600771),\n",
        " (45.21875, -120.65625, 1.8513715237382942),\n",
        " (45.21875, -120.71875, 1.8971269336059726),\n",
        " (45.21875, -120.78125, 1.7838513845740864),\n",
        " (45.21875, -120.84375, 1.8186830167644517),\n",
        " (45.21875, -120.90625, 1.8413235394143905),\n",
        " (45.21875, -120.96875, 1.8797473372699349),\n",
        " (45.21875, -121.03125, 2.0219643008641048),\n",
        " (45.21875, -121.09375, 2.0763535144747371),\n",
        " (45.21875, -121.15625, 2.4078282045829087),\n",
        " (45.21875, -121.21875, 1.6611745294953304),\n",
        " (45.21875, -121.28125, 1.5415386473557899),\n",
        " (45.21875, -121.34375, 1.5214017419437396),\n",
        " (45.21875, -121.40625, 1.6229968701572155),\n",
        " (45.21875, -121.46875, 3.3463937663537449),\n",
        " (45.21875, -121.53125, 5.4384493774402403),\n",
        " (45.21875, -121.59375, 5.9645203944720233),\n",
        " (45.21875, -121.65625, 6.966373625925927),\n",
        " (45.21875, -121.71875, 7.1587204659288446),\n",
        " (45.21875, -121.78125, 7.3837360995472334),\n",
        " (45.21875, -121.84375, 7.9319150551876687),\n",
        " (45.21875, -121.90625, 8.6273136784577922),\n",
        " (45.21875, -121.96875, 9.8316680675907318),\n",
        " (45.21875, -122.03125, 10.710184570089815),\n",
        " (45.21875, -122.09375, 10.902993937360847),\n",
        " (45.21875, -122.15625, 8.7641356703755395),\n",
        " (45.21875, -122.21875, 6.9646748420917399),\n",
        " (45.21875, -122.28125, 6.6400409384294221),\n",
        " (45.21875, -122.34375, 6.6725875042221876),\n",
        " (45.21875, -122.40625, 6.559334065544923),\n",
        " (45.21875, -122.46875, 6.0403882060165621),\n",
        " (45.21875, -122.53125, 5.5589801615559322),\n",
        " (45.21875, -122.59375, 5.2729236902419165),\n",
        " (45.21875, -122.65625, 5.2932394920195449),\n",
        " (45.21875, -122.71875, 5.1111614758907757),\n",
        " (45.21875, -122.78125, 5.1450060842861767),\n",
        " (45.21875, -122.84375, 5.19433819531677),\n",
        " (45.21875, -122.90625, 5.1590963291911018),\n",
        " (45.21875, -122.96875, 5.2853507564280857),\n",
        " (45.21875, -123.03125, 5.2464575734988648),\n",
        " (45.21875, -123.09375, 5.3322223181744786),\n",
        " (45.21875, -123.15625, 6.1020167623030197),\n",
        " (45.21875, -123.21875, 6.3945372896375723),\n",
        " (45.21875, -123.28125, 7.5499342592681318),\n",
        " (45.21875, -123.34375, 8.8976434337122967),\n",
        " (45.21875, -123.40625, 9.0166398180985752),\n",
        " (45.21875, -123.46875, 9.2605092945165985),\n",
        " (45.21875, -123.53125, 9.6423040411758372),\n",
        " (45.21875, -123.59375, 9.816115980974164),\n",
        " (45.21875, -123.65625, 10.43123359661991),\n",
        " (45.21875, -123.71875, 13.513381609861522),\n",
        " (45.21875, -123.78125, 13.672212148218485),\n",
        " (45.21875, -123.84375, 11.982403405790695),\n",
        " (45.21875, -123.90625, 11.946645152143219),\n",
        " (45.21875, -123.96875, 8.8899988846130924),\n",
        " (45.21875, -67.03125, 5.1513680937914748),\n",
        " (45.21875, -67.09375, 5.2585012862258331),\n",
        " (45.21875, -67.15625, 5.244174910909571),\n",
        " (45.21875, -67.21875, 5.1174011593573629),\n",
        " (45.21875, -67.28125, 5.1010733425663464),\n",
        " (45.21875, -67.34375, 5.1788298572143816),\n",
        " (45.21875, -67.40625, 5.1761021061558896),\n",
        " (45.21875, -67.46875, 5.1339947680185398),\n",
        " (45.21875, -67.53125, 5.0801268986936847),\n",
        " (45.21875, -67.59375, 5.114123273717273),\n",
        " (45.21875, -67.65625, 5.1261768301661021),\n",
        " (45.21875, -67.71875, 5.1585297629868254),\n",
        " (45.21875, -67.78125, 5.2465728561125724),\n",
        " (45.21875, -67.84375, 5.1529487846409765),\n",
        " (45.21875, -67.90625, 5.07236022242272),\n",
        " (45.21875, -67.96875, 4.9817285806298237),\n",
        " (45.21875, -68.03125, 4.9175367601706945),\n",
        " (45.21875, -68.09375, 4.9786238307847022),\n",
        " (45.21875, -68.15625, 4.9215460920610639),\n",
        " (45.21875, -68.21875, 4.7660825406847955),\n",
        " (45.21875, -68.28125, 4.8532088834577252),\n",
        " (45.21875, -68.34375, 4.8553862656443272),\n",
        " (45.21875, -68.40625, 4.8733774189305539),\n",
        " (45.21875, -68.46875, 4.8235614255924437),\n",
        " (45.21875, -68.53125, 4.8494548056935516),\n",
        " (45.21875, -68.59375, 4.9989426027723161),\n",
        " (45.21875, -68.65625, 5.0899592312421742),\n",
        " (45.21875, -68.71875, 5.0254420777310491),\n",
        " (45.21875, -68.78125, 4.9296589683497727),\n",
        " (45.21875, -68.84375, 4.8226114984931572),\n",
        " (45.21875, -68.90625, 4.6617892500039106),\n",
        " (45.21875, -68.96875, 4.5174521909980481),\n",
        " (45.21875, -69.03125, 4.5401073663090026),\n",
        " (45.21875, -69.09375, 4.731632191734982),\n",
        " (45.21875, -69.15625, 5.0069125452130008),\n",
        " (45.21875, -69.21875, 4.996625603667205),\n",
        " (45.21875, -69.28125, 4.9107152403814256),\n",
        " (45.21875, -69.34375, 4.8999172894995295),\n",
        " (45.21875, -69.40625, 4.7965815776541616),\n",
        " (45.21875, -69.46875, 4.7422252751453424),\n",
        " (45.21875, -69.53125, 4.8374961911084382),\n",
        " (45.21875, -69.59375, 5.1777582965032538),\n",
        " (45.21875, -69.65625, 5.4588861826149788),\n",
        " (45.21875, -69.71875, 5.3214359255189985),\n",
        " (45.21875, -69.78125, 5.2352193958071958),\n",
        " (45.21875, -69.84375, 5.2680100848385587),\n",
        " (45.21875, -69.90625, 5.6402662552735938),\n",
        " (45.21875, -69.96875, 4.7638531807750351),\n",
        " (45.21875, -70.03125, 4.759929355419243),\n",
        " (45.21875, -70.09375, 4.921048012224789),\n",
        " (45.21875, -70.15625, 5.1609797699096855),\n",
        " (45.21875, -70.21875, 5.0203138580289561),\n",
        " (45.21875, -70.28125, 4.6890067522136629),\n",
        " (45.21875, -70.34375, 4.4381623539749011),\n",
        " (45.21875, -70.40625, 4.309702579027511),\n",
        " (45.21875, -70.46875, 4.4717873119015916),\n",
        " (45.21875, -70.53125, 4.4413867309602306),\n",
        " (45.21875, -70.59375, 4.6616935604289251),\n",
        " (45.21875, -70.65625, 4.97347397159783),\n",
        " (45.21875, -70.71875, 6.0339423525196043),\n",
        " (45.21875, -70.78125, 5.9923594972112246),\n",
        " (45.21875, -70.84375, 6.578017527775148),\n",
        " (45.21875, -70.90625, 5.8977101669077641),\n",
        " (45.21875, -70.96875, 5.1432123053990484),\n",
        " (45.21875, -71.03125, 5.3197019542785231),\n",
        " (45.21875, -71.09375, 6.0093119448570622),\n",
        " (45.21875, -71.15625, 5.9054012483942806),\n",
        " (45.21875, -71.21875, 6.0023323050095403),\n",
        " (45.21875, -71.28125, 5.5640393635665992),\n",
        " (45.21875, -71.34375, 5.1432999935137715),\n",
        " (45.21875, -71.40625, 5.206456416739158),\n",
        " (45.21875, -71.46875, 5.0767334034825122),\n",
        " (45.21875, -71.53125, 4.6278115129931736),\n",
        " (45.21875, -71.59375, 4.6524890718940064),\n",
        " (45.21875, -71.65625, 4.8091672590754175),\n",
        " (45.21875, -71.71875, 4.643451078868484),\n",
        " (45.21875, -71.78125, 4.2238086852410381),\n",
        " (45.21875, -71.84375, 4.0138753125409492),\n",
        " (45.21875, -71.90625, 4.1430602843492519),\n",
        " (45.21875, -71.96875, 4.1580217126971135),\n",
        " (45.21875, -72.03125, 4.1736768506684054),\n",
        " (45.21875, -72.09375, 4.3947865172634657),\n",
        " (45.21875, -72.15625, 4.4664437768148124),\n",
        " (45.21875, -72.21875, 4.3630431793105284),\n",
        " (45.21875, -72.28125, 4.5375676892534837),\n",
        " (45.21875, -72.34375, 4.562187394393888),\n",
        " (45.21875, -72.40625, 4.8508561609672656),\n",
        " (45.21875, -72.46875, 4.6970287490887399),\n",
        " (45.21875, -72.53125, 4.3537079376561003),\n",
        " (45.21875, -72.59375, 4.4933314326593665),\n",
        " (45.21875, -72.65625, 4.5118887497168254),\n",
        " (45.21875, -72.71875, 4.4184735799341084),\n",
        " (45.21875, -72.78125, 4.1967656487110245),\n",
        " (45.21875, -72.84375, 4.3070529290647883),\n",
        " (45.21875, -72.90625, 4.2888071143516688),\n",
        " (45.21875, -72.96875, 4.2345604465770839)]"
       ]
      }
     ],
     "prompt_number": 80
    },
    {
     "cell_type": "code",
     "collapsed": false,
     "input": [
      "res.elapsed"
     ],
     "language": "python",
     "metadata": {},
     "outputs": [
      {
       "metadata": {},
       "output_type": "pyout",
       "prompt_number": 81,
       "text": [
        "122.120241"
       ]
      }
     ],
     "prompt_number": 81
    },
    {
     "cell_type": "code",
     "collapsed": false,
     "input": [
      "((len(files)/500)*130)/60/60"
     ],
     "language": "python",
     "metadata": {},
     "outputs": [
      {
       "metadata": {},
       "output_type": "pyout",
       "prompt_number": 85,
       "text": [
        "22"
       ]
      }
     ],
     "prompt_number": 85
    },
    {
     "cell_type": "code",
     "collapsed": false,
     "input": [
      "fl = files.flux[300000]\n",
      "fr = files.forcing[300000]"
     ],
     "language": "python",
     "metadata": {},
     "outputs": [],
     "prompt_number": 62
    },
    {
     "cell_type": "code",
     "collapsed": false,
     "input": [
      "lat = float(fl.split('_')[-2]) # extract latitude from file name\n",
      "lon = float(fl.split('_')[-1]) # extract longitude from file name\n",
      "\n",
      "# load the fluxes data\n",
      "flux = pd.read_table(fl, sep='\\t', names=fluxes_columns)\n",
      "flux.index = pd.DatetimeIndex(dates)\n",
      "\n",
      "## load the forcing data\n",
      "force = pd.read_table(fr, sep=' ', names=forcing_columns)\n",
      "force.index = pd.DatetimeIndex(dates)\n",
      "\n",
      "# compute the snow fraction\n",
      "force['coef'] = (0.-force.Tmin)/(np.abs(force.Tmax-force.Tmin))\n",
      "force.loc[force.coef<0,'coef'] = 0.\n",
      "force.loc[force.coef>1,'coef'] = 1.\n",
      "\n",
      "force['snow'] = force.P*force.coef # \n",
      "force['rain'] = force.P*(1-force.coef)\n",
      "\n",
      "\n",
      "# preallocate\n",
      "A = 0.\n",
      "B = 0.\n",
      "C = 0.\n",
      "\n",
      "Alen = 0\n",
      "Blen = 0\n",
      "Clen = 0 \n",
      "\n",
      "waterflx = []\n",
      "\n",
      "for wy in wyears:\n",
      "    strt = str(wy-1)+'-10-01'\n",
      "    nd = str(wy)+'-09-30'\n",
      "\n",
      "    # subset out each water year\n",
      "    frs = force[strt:nd]\n",
      "    fls = flux[strt:nd]\n",
      "\n",
      "    dopkswe = fls.SWE.idxmax() # datetime for the first date of peak swe\n",
      "    dons = fls[dopkswe:nd].SWE.idxmin() # datetime for the first snow free day after peak SWE.\n",
      "\n",
      "    accm = fls.loc[strt:dopkswe,:] # grab the portion of the water year before peak swe\n",
      "    swe = accm.loc[accm.SWE > 0,:].SWE # find all the entries with SWE greater than 0\n",
      "    doaccmstrt = swe.index.min() # take the first value as the start of the accumulation season\n",
      "\n",
      "    if (dons-dopkswe).days == 0: # if there is no snow season\n",
      "        A = frs.loc[frs.P>0,:].P.sum() # take the sum of all the days with P > 0\n",
      "        Alen = len(frs.loc[frs.P>0,:].P) # count the number of days with P > 0\n",
      "\n",
      "    else: # if these is a snow season \n",
      "        Atmp = frs.loc[strt:doaccmstrt,:] # subset before the accum season\n",
      "        A += Atmp.loc[Atmp.P>0,:].P.sum() # add the sum of precip before the accumulation season starts\n",
      "        Alen += len(Atmp.loc[Atmp.P>0,:].P) # compute and add the number of days with precip\n",
      "\n",
      "        Atmp = frs.loc[dons:nd,:] # subset after the melt season\n",
      "        A += Atmp.loc[Atmp.P > 0,:].P.sum() # add the sum of the precip after the day of now snow until the end of the WY\n",
      "        Alen += len(Atmp.loc[Atmp.P > 0,:].P) # compute and add the number of days with precip\n",
      "        \n",
      "        Btmp = frs.loc[doaccmstrt:dopkswe,:]\n",
      "        B += Btmp.loc[Btmp.rain > 0,:].rain.sum()\n",
      "        Blen += len(Btmp.loc[Btmp.rain > 0,:].rain)\n",
      "\n",
      "        C += frs.loc[dopkswe:dons,:].P.sum()\n",
      "        Clen += len(frs.loc[dopkswe:dons,:].P)\n",
      "        C += fls.SWE.max() # grab the max SWE\n",
      "\n",
      "    waterflx.append(np.sum([A,B,C])/np.sum([Alen,Blen,Clen])) # [mm/d]\n",
      "\n",
      "meanwaterflx = np.mean(waterflx)"
     ],
     "language": "python",
     "metadata": {},
     "outputs": [],
     "prompt_number": 67
    },
    {
     "cell_type": "code",
     "collapsed": false,
     "input": [
      "waterflx"
     ],
     "language": "python",
     "metadata": {},
     "outputs": [
      {
       "metadata": {},
       "output_type": "pyout",
       "prompt_number": 69,
       "text": [
        "[3.6698033874179194,\n",
        " 4.187926529092433,\n",
        " 4.4096727643580325,\n",
        " 4.3122913841141388,\n",
        " 4.1048296447142105,\n",
        " 4.1336010813164208,\n",
        " 4.0291327920192703,\n",
        " 4.0222150861451205,\n",
        " 3.9758165291850536,\n",
        " 3.9905229394697819,\n",
        " 4.1337701481793454,\n",
        " 4.0994944582934449,\n",
        " 4.009039785378131,\n",
        " 4.0363984442607324,\n",
        " 4.0554442739077112,\n",
        " 4.126636034520538,\n",
        " 4.1243307325378344,\n",
        " 4.1091214030530789,\n",
        " 4.1180678930019576,\n",
        " 4.1321842583981843,\n",
        " 4.1116845969301981,\n",
        " 4.1042312600286071,\n",
        " 4.1238394005557319,\n",
        " 4.1344345946427925,\n",
        " 4.1411228329990024,\n",
        " 4.121520457274694,\n",
        " 4.1277448533399479,\n",
        " 4.126431083332073,\n",
        " 4.1286876565579256,\n",
        " 4.1218369483004249,\n",
        " 4.1271018555504133,\n",
        " 4.1303147188049696,\n",
        " 4.12646068213762,\n",
        " 4.1249245522001896,\n",
        " 4.1011124103432071,\n",
        " 4.1078526784360649,\n",
        " 4.1095046463178528,\n",
        " 4.1048688245091132,\n",
        " 4.1016529504303287,\n",
        " 4.1078529899318355,\n",
        " 4.1261063580629047,\n",
        " 4.1521482766305819,\n",
        " 4.1561085163642231,\n",
        " 4.1575578651565035,\n",
        " 4.1531795444058579,\n",
        " 4.1641541906310851,\n",
        " 4.1619039539679248,\n",
        " 4.1529757608889879,\n",
        " 4.1669327718718705,\n",
        " 4.1620731002929903,\n",
        " 4.1554915257455329,\n",
        " 4.15616765230694,\n",
        " 4.153016801885534,\n",
        " 4.1491731091513895,\n",
        " 4.1497806867525568,\n",
        " 4.1402841675857687,\n",
        " 4.1360738933416519,\n",
        " 4.124633423025168,\n",
        " 4.1127071485407081,\n",
        " 4.0934905039193659,\n",
        " 4.0869446438526138,\n",
        " 4.074330746520765,\n",
        " 4.0757134401413486]"
       ]
      }
     ],
     "prompt_number": 69
    },
    {
     "cell_type": "code",
     "collapsed": false,
     "input": [],
     "language": "python",
     "metadata": {},
     "outputs": []
    }
   ],
   "metadata": {}
  }
 ]
}