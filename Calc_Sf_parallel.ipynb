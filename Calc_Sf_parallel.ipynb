{
 "metadata": {
  "name": "",
  "signature": "sha256:61840a7a6a6b0dfc1499801b51b47b5d40b19df97fab9aa1f8b8939dac119c8b"
 },
 "nbformat": 3,
 "nbformat_minor": 0,
 "worksheets": [
  {
   "cells": [
    {
     "cell_type": "code",
     "collapsed": false,
     "input": [
      "import pandas as pd\n",
      "import numpy as np\n",
      "import matplotlib.pyplot as plt\n",
      "import glob\n",
      "import sys\n",
      "from IPython.display import display, clear_output\n",
      "import ProgressBar as pb\n",
      "%matplotlib inline\n",
      "import IPython.parallel as p"
     ],
     "language": "python",
     "metadata": {},
     "outputs": []
    },
    {
     "cell_type": "code",
     "collapsed": false,
     "input": [
      "files = pd.read_pickle('./forcing_fluxes_filenames_lat_lon_index.df')"
     ],
     "language": "python",
     "metadata": {},
     "outputs": []
    },
    {
     "cell_type": "code",
     "collapsed": false,
     "input": [
      "cp = p.Client()\n",
      "cp.block=False\n",
      "cp.ids"
     ],
     "language": "python",
     "metadata": {},
     "outputs": []
    },
    {
     "cell_type": "code",
     "collapsed": false,
     "input": [
      "view = cp.load_balanced_view() # generate a load balanced view"
     ],
     "language": "python",
     "metadata": {},
     "outputs": []
    },
    {
     "cell_type": "code",
     "collapsed": false,
     "input": [
      "%%px\n",
      "import pandas as pd\n",
      "import numpy as np\n",
      "forcing_columns = ['P','Tmax','Tmin','W']\n",
      "dates = pd.read_pickle('/Volumes/Users/Theo/projects/Budyko_vic/timecode.pcl')"
     ],
     "language": "python",
     "metadata": {},
     "outputs": []
    },
    {
     "cell_type": "code",
     "collapsed": false,
     "input": [
      "def calcSF(fr):\n",
      "    \n",
      "    frlat = float(fr.split('_')[-2]) # extract latitude from file name\n",
      "    frlon = float(fr.split('_')[-1]) # extract longitude from file name\n",
      "    \n",
      "    force = pd.read_table(fr, sep=' ', names=forcing_columns)\n",
      "    force.index = pd.DatetimeIndex(dates)\n",
      "    \n",
      "    ## Sf1\n",
      "    force['coef'] = (1.-force.Tmin)/(np.abs(force.Tmax-force.Tmin))\n",
      "    \n",
      "    force.loc[force.coef<0,'coef'] = 0.\n",
      "    force.loc[force.coef>1,'coef'] = 1.\n",
      "    \n",
      "    force['snow1'] = force.P*force.coef\n",
      "    \n",
      "    # compute the long term average Snow fraction\n",
      "    Sf1 = force.snow1.sum()/force.P.sum()\n",
      "    \n",
      "    ## Sf2\n",
      "    force['coef'] = (2.-force.Tmin)/(np.abs(force.Tmax-force.Tmin))\n",
      "    \n",
      "    force.loc[force.coef<0,'coef'] = 0.\n",
      "    force.loc[force.coef>1,'coef'] = 1.\n",
      "    \n",
      "    force['snow2'] = force.P*force.coef\n",
      "    \n",
      "    # compute the long term average Snow fraction\n",
      "    Sf2 = force.snow2.sum()/force.P.sum()\n",
      "    \n",
      "    ## Sf_1\n",
      "    force['coef'] = (-1.-force.Tmin)/(np.abs(force.Tmax-force.Tmin))\n",
      "    \n",
      "    force.loc[force.coef<0,'coef'] = 0.\n",
      "    force.loc[force.coef>1,'coef'] = 1.\n",
      "    \n",
      "    force['snow_1'] = force.P*force.coef\n",
      "    \n",
      "    # compute the long term average Snow fraction\n",
      "    Sf_1 = force.snow_1.sum()/force.P.sum()\n",
      "    \n",
      "    ## Sf_2\n",
      "    force['coef'] = (-2.-force.Tmin)/(np.abs(force.Tmax-force.Tmin))\n",
      "    \n",
      "    force.loc[force.coef<0,'coef'] = 0.\n",
      "    force.loc[force.coef>1,'coef'] = 1.\n",
      "    \n",
      "    force['snow_2'] = force.P*force.coef\n",
      "    \n",
      "    # compute the long term average Snow fraction\n",
      "    Sf_2 = force.snow_2.sum()/force.P.sum()\n",
      "    \n",
      "        \n",
      "    return frlat,frlon,Sf1,Sf2,Sf_1,Sf_2"
     ],
     "language": "python",
     "metadata": {},
     "outputs": []
    },
    {
     "cell_type": "code",
     "collapsed": false,
     "input": [
      "res = view.map(calcSF,files.forcing) # map function and input to engines"
     ],
     "language": "python",
     "metadata": {},
     "outputs": []
    },
    {
     "cell_type": "code",
     "collapsed": false,
     "input": [
      "p = pb.ProgressBar(len(files))\n",
      "\n",
      "while res.ready() == False:\n",
      "    p.animate(res.progress+1)"
     ],
     "language": "python",
     "metadata": {},
     "outputs": []
    },
    {
     "cell_type": "code",
     "collapsed": false,
     "input": [
      "res.result"
     ],
     "language": "python",
     "metadata": {},
     "outputs": []
    },
    {
     "cell_type": "code",
     "collapsed": false,
     "input": [
      "lat,lon,Sf1,Sf2,Sf_1,Sf_2 = zip(*res.result)"
     ],
     "language": "python",
     "metadata": {},
     "outputs": []
    },
    {
     "cell_type": "code",
     "collapsed": false,
     "input": [
      "np.savez_compressed('./new_Sf_sense.npz',lat=lat,lon=lon,Sf1=Sf1,Sf2=Sf2,Sf_1=Sf_1,Sf_2=Sf_2)"
     ],
     "language": "python",
     "metadata": {},
     "outputs": []
    },
    {
     "cell_type": "code",
     "collapsed": false,
     "input": [
      "dat = pd.DataFrame({'lat':lat,'lon':lon,'Sf':Sf,'Sf_flag':Sf_flag})"
     ],
     "language": "python",
     "metadata": {},
     "outputs": []
    },
    {
     "cell_type": "code",
     "collapsed": false,
     "input": [
      "dat.loc[dat.Sf_flag==True,:]"
     ],
     "language": "python",
     "metadata": {},
     "outputs": []
    },
    {
     "cell_type": "code",
     "collapsed": false,
     "input": [
      "plt.hist(dat.Sf);"
     ],
     "language": "python",
     "metadata": {},
     "outputs": []
    },
    {
     "cell_type": "code",
     "collapsed": false,
     "input": [
      "len(dat)"
     ],
     "language": "python",
     "metadata": {},
     "outputs": []
    },
    {
     "cell_type": "code",
     "collapsed": false,
     "input": [],
     "language": "python",
     "metadata": {},
     "outputs": []
    }
   ],
   "metadata": {}
  }
 ]
}