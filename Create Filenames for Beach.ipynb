{
 "metadata": {
  "name": "",
  "signature": "sha256:1380815b0a1090b87ab063e95972a8a5156a3b706257fc30c62671150a51aeb8"
 },
 "nbformat": 3,
 "nbformat_minor": 0,
 "worksheets": [
  {
   "cells": [
    {
     "cell_type": "code",
     "collapsed": false,
     "input": [],
     "language": "python",
     "metadata": {},
     "outputs": []
    },
    {
     "cell_type": "code",
     "collapsed": false,
     "input": [
      "import numpy as np\n",
      "import pandas as pd"
     ],
     "language": "python",
     "metadata": {},
     "outputs": [],
     "prompt_number": 1
    },
    {
     "cell_type": "code",
     "collapsed": false,
     "input": [
      "files = pd.read_pickle('./forcing_fluxes_filenames.dataframe')"
     ],
     "language": "python",
     "metadata": {},
     "outputs": [],
     "prompt_number": 10
    },
    {
     "cell_type": "code",
     "collapsed": false,
     "input": [
      "files.head()"
     ],
     "language": "python",
     "metadata": {},
     "outputs": [
      {
       "html": [
        "<div style=\"max-height:1000px;max-width:1500px;overflow:auto;\">\n",
        "<table border=\"1\" class=\"dataframe\">\n",
        "  <thead>\n",
        "    <tr style=\"text-align: right;\">\n",
        "      <th></th>\n",
        "      <th>exists</th>\n",
        "      <th>flux</th>\n",
        "      <th>forcing</th>\n",
        "    </tr>\n",
        "  </thead>\n",
        "  <tbody>\n",
        "    <tr>\n",
        "      <th>0</th>\n",
        "      <td> True</td>\n",
        "      <td> /Users/barnhatb/research/vic/fluxes/ascii/lati...</td>\n",
        "      <td> /Users/barnhatb/research/vic/forcing/ascii/lat...</td>\n",
        "    </tr>\n",
        "    <tr>\n",
        "      <th>1</th>\n",
        "      <td> True</td>\n",
        "      <td> /Users/barnhatb/research/vic/fluxes/ascii/lati...</td>\n",
        "      <td> /Users/barnhatb/research/vic/forcing/ascii/lat...</td>\n",
        "    </tr>\n",
        "    <tr>\n",
        "      <th>2</th>\n",
        "      <td> True</td>\n",
        "      <td> /Users/barnhatb/research/vic/fluxes/ascii/lati...</td>\n",
        "      <td> /Users/barnhatb/research/vic/forcing/ascii/lat...</td>\n",
        "    </tr>\n",
        "    <tr>\n",
        "      <th>3</th>\n",
        "      <td> True</td>\n",
        "      <td> /Users/barnhatb/research/vic/fluxes/ascii/lati...</td>\n",
        "      <td> /Users/barnhatb/research/vic/forcing/ascii/lat...</td>\n",
        "    </tr>\n",
        "    <tr>\n",
        "      <th>4</th>\n",
        "      <td> True</td>\n",
        "      <td> /Users/barnhatb/research/vic/fluxes/ascii/lati...</td>\n",
        "      <td> /Users/barnhatb/research/vic/forcing/ascii/lat...</td>\n",
        "    </tr>\n",
        "  </tbody>\n",
        "</table>\n",
        "</div>"
       ],
       "metadata": {},
       "output_type": "pyout",
       "prompt_number": 12,
       "text": [
        "  exists                                               flux  \\\n",
        "0   True  /Users/barnhatb/research/vic/fluxes/ascii/lati...   \n",
        "1   True  /Users/barnhatb/research/vic/fluxes/ascii/lati...   \n",
        "2   True  /Users/barnhatb/research/vic/fluxes/ascii/lati...   \n",
        "3   True  /Users/barnhatb/research/vic/fluxes/ascii/lati...   \n",
        "4   True  /Users/barnhatb/research/vic/fluxes/ascii/lati...   \n",
        "\n",
        "                                             forcing  \n",
        "0  /Users/barnhatb/research/vic/forcing/ascii/lat...  \n",
        "1  /Users/barnhatb/research/vic/forcing/ascii/lat...  \n",
        "2  /Users/barnhatb/research/vic/forcing/ascii/lat...  \n",
        "3  /Users/barnhatb/research/vic/forcing/ascii/lat...  \n",
        "4  /Users/barnhatb/research/vic/forcing/ascii/lat...  "
       ]
      }
     ],
     "prompt_number": 12
    },
    {
     "cell_type": "code",
     "collapsed": false,
     "input": [
      "fl = files.flux[0]\n",
      "fl"
     ],
     "language": "python",
     "metadata": {},
     "outputs": [
      {
       "metadata": {},
       "output_type": "pyout",
       "prompt_number": 18,
       "text": [
        "'/Users/barnhatb/research/vic/fluxes/ascii/latitude.25.03125/flux_snow_25.03125_-100.03125'"
       ]
      }
     ],
     "prompt_number": 18
    },
    {
     "cell_type": "code",
     "collapsed": false,
     "input": [
      "fr = files.forcing[0]\n",
      "fr"
     ],
     "language": "python",
     "metadata": {},
     "outputs": [
      {
       "metadata": {},
       "output_type": "pyout",
       "prompt_number": 24,
       "text": [
        "'/Users/barnhatb/research/vic/forcing/ascii/latitude.25.03125/Meteorology_Livneh_NAmerExt_15Oct2014_25.03125_-100.03125'"
       ]
      }
     ],
     "prompt_number": 24
    },
    {
     "cell_type": "code",
     "collapsed": false,
     "input": [
      "fl[42:]"
     ],
     "language": "python",
     "metadata": {},
     "outputs": [
      {
       "metadata": {},
       "output_type": "pyout",
       "prompt_number": 21,
       "text": [
        "'latitude.25.03125/flux_snow_25.03125_-100.03125'"
       ]
      }
     ],
     "prompt_number": 21
    },
    {
     "cell_type": "code",
     "collapsed": false,
     "input": [
      "fr[43:]"
     ],
     "language": "python",
     "metadata": {},
     "outputs": [
      {
       "metadata": {},
       "output_type": "pyout",
       "prompt_number": 27,
       "text": [
        "'latitude.25.03125/Meteorology_Livneh_NAmerExt_15Oct2014_25.03125_-100.03125'"
       ]
      }
     ],
     "prompt_number": 27
    },
    {
     "cell_type": "code",
     "collapsed": false,
     "input": [],
     "language": "python",
     "metadata": {},
     "outputs": []
    },
    {
     "cell_type": "code",
     "collapsed": false,
     "input": [],
     "language": "python",
     "metadata": {},
     "outputs": []
    },
    {
     "cell_type": "code",
     "collapsed": false,
     "input": [
      "def get_beach_flux(files):\n",
      "    app_fl = '/home/barnhatb/tbbscratch/vic/fluxes/ascii/'\n",
      "    \n",
      "    fl=files.flux\n",
      "    \n",
      "    return app_fl+fl[42:]\n",
      "\n",
      "def get_beach_forcing(files):\n",
      "    app_fr = '/home/barnhatb/tbbscratch/vic/forcing/ascii/'\n",
      "    \n",
      "    fr = files.forcing\n",
      "    \n",
      "    return app_fr+fr[43:]"
     ],
     "language": "python",
     "metadata": {},
     "outputs": [],
     "prompt_number": 33
    },
    {
     "cell_type": "code",
     "collapsed": false,
     "input": [
      "files['beach_flx'] = files.apply(get_beach_flux,axis=1)"
     ],
     "language": "python",
     "metadata": {},
     "outputs": [],
     "prompt_number": 35
    },
    {
     "cell_type": "code",
     "collapsed": false,
     "input": [
      "files['beach_frc'] = files.apply(get_beach_forcing, axis=1)"
     ],
     "language": "python",
     "metadata": {},
     "outputs": [],
     "prompt_number": 38
    },
    {
     "cell_type": "code",
     "collapsed": false,
     "input": [
      "files.beach_flx[0]"
     ],
     "language": "python",
     "metadata": {},
     "outputs": [
      {
       "metadata": {},
       "output_type": "pyout",
       "prompt_number": 37,
       "text": [
        "'/home/barnhatb/tbbscratch/vic/fluxes/ascii/latitude.25.03125/flux_snow_25.03125_-100.03125'"
       ]
      }
     ],
     "prompt_number": 37
    },
    {
     "cell_type": "code",
     "collapsed": false,
     "input": [
      "files.beach_frc[0]"
     ],
     "language": "python",
     "metadata": {},
     "outputs": [
      {
       "metadata": {},
       "output_type": "pyout",
       "prompt_number": 39,
       "text": [
        "'/home/barnhatb/tbbscratch/vic/forcing/ascii/latitude.25.03125/Meteorology_Livneh_NAmerExt_15Oct2014_25.03125_-100.03125'"
       ]
      }
     ],
     "prompt_number": 39
    },
    {
     "cell_type": "code",
     "collapsed": false,
     "input": [],
     "language": "python",
     "metadata": {},
     "outputs": []
    },
    {
     "cell_type": "code",
     "collapsed": false,
     "input": [
      "len(files)"
     ],
     "language": "python",
     "metadata": {},
     "outputs": [
      {
       "metadata": {},
       "output_type": "pyout",
       "prompt_number": 41,
       "text": [
        "309673"
       ]
      }
     ],
     "prompt_number": 41
    },
    {
     "cell_type": "code",
     "collapsed": false,
     "input": [
      "len(files.loc[files.exists==True,'beach_frc'])"
     ],
     "language": "python",
     "metadata": {},
     "outputs": [
      {
       "metadata": {},
       "output_type": "pyout",
       "prompt_number": 43,
       "text": [
        "309673"
       ]
      }
     ],
     "prompt_number": 43
    },
    {
     "cell_type": "code",
     "collapsed": false,
     "input": [
      "files.to_pickle('./forcing_fluxes_filenames_beach.dataframe')"
     ],
     "language": "python",
     "metadata": {},
     "outputs": [],
     "prompt_number": 44
    },
    {
     "cell_type": "code",
     "collapsed": false,
     "input": [
      "! ls -ltrh"
     ],
     "language": "python",
     "metadata": {},
     "outputs": [
      {
       "output_type": "stream",
       "stream": "stdout",
       "text": [
        "total 836340\r\n",
        "-rwx------  1 barnhatb  staff   548K Jan 12 15:29 \u001b[31mtimecode.pcl\u001b[m\u001b[m\r\n",
        "-rwx------@ 1 barnhatb  staff   186B Jan 12 16:16 \u001b[31muncompress_fluxes.sh\u001b[m\u001b[m\r\n",
        "-rwx------  1 barnhatb  staff   2.5M Jan 12 17:09 \u001b[31mlongitudes.npy\u001b[m\u001b[m\r\n",
        "-rwx------  1 barnhatb  staff   2.5M Jan 12 17:10 \u001b[31mlatitudes.npy\u001b[m\u001b[m\r\n",
        "-rwx------  1 barnhatb  staff    18K Jan 12 17:10 \u001b[31mASCII Test.ipynb\u001b[m\u001b[m\r\n",
        "-rwx------  1 barnhatb  staff    24M Jan 13 20:10 \u001b[31mbudyko_temp.pcl\u001b[m\u001b[m\r\n",
        "-rwx------  1 barnhatb  staff    31M Jan 14 08:38 \u001b[31mbudykodata.pcl\u001b[m\u001b[m\r\n",
        "-rwx------  1 barnhatb  staff    13K Jan 15 09:23 \u001b[31mProcess ASCII Data 1.ipynb\u001b[m\u001b[m\r\n",
        "-rwx------  1 barnhatb  staff   592B Jan 15 10:42 \u001b[31myears.npy\u001b[m\u001b[m\r\n",
        "-rwx------  1 barnhatb  staff   584B Jan 15 10:42 \u001b[31mwyears.npy\u001b[m\u001b[m\r\n",
        "-rwx------  1 barnhatb  staff   4.1K Jan 15 14:24 \u001b[31mparallel test.ipynb\u001b[m\u001b[m\r\n",
        "-rwx------  1 barnhatb  staff    18K Jan 16 14:55 \u001b[31mcomparison_lons.txt\u001b[m\u001b[m\r\n",
        "-rwx------  1 barnhatb  staff    17K Jan 16 14:55 \u001b[31mcomparison_lats.txt\u001b[m\u001b[m\r",
        "\r\n",
        "-rwx------  1 barnhatb  staff    36M Jan 19 10:56 \u001b[31mbudykodata_newSf.pcl\u001b[m\u001b[m\r\n",
        "-rwx------  1 barnhatb  staff    56K Jan 19 10:57 \u001b[31mNew Snow Fraction Calculation.ipynb\u001b[m\u001b[m\r\n",
        "-rwx------  1 barnhatb  staff    99M Jan 20 09:17 \u001b[31mbudykodata_newSf_SWE.pcl\u001b[m\u001b[m\r\n",
        "-rwx------@ 1 barnhatb  staff    28K Jan 20 09:20 \u001b[31mlat.lon.etratio.petratio.snowratio.txt\u001b[m\u001b[m\r\n",
        "-rwx------  1 barnhatb  staff   3.7M Jan 20 09:21 \u001b[31mbudykodata_newSf_SWE_clean.pcl\u001b[m\u001b[m\r\n",
        "-rwx------  1 barnhatb  staff    18M Jan 20 09:40 \u001b[31mVIC_SWE_metrics.pcl\u001b[m\u001b[m\r\n",
        "-rwx------  1 barnhatb  staff   2.4K Jan 20 11:23 \u001b[31mUntitled0.ipynb\u001b[m\u001b[m\r\n",
        "-rwx------  1 barnhatb  staff    29K Jan 20 11:37 \u001b[31mUntitled1.ipynb\u001b[m\u001b[m\r\n",
        "-rwx------  1 barnhatb  staff    47M Jan 20 14:48 \u001b[31mforcings_files_lat_lon.dataframe\u001b[m\u001b[m\r\n",
        "-rwx------  1 barnhatb  staff    35M Jan 20 15:01 \u001b[31mfluxes_files_lat_lon.dataframe\u001b[m\u001b[m\r\n",
        "-rwx------  1 barnhatb  staff    68M Jan 20 21:43 \u001b[31mforcing_fluxes_filenames.dataframe\u001b[m\u001b[m\r\n",
        "-rwx------  1 barnhatb  staff   181B Jan 21 08:10 \u001b[31mUntitled2.ipynb\u001b[m\u001b[m\r\n",
        "-rwx------  1 barnhatb  staff   8.7M Jan 21 08:24 \u001b[31mnew_budyko_data.npz\u001b[m\u001b[m\r\n",
        "-rwx------  1 barnhatb  staff    11K Jan 21 09:19 \u001b[31mASCII Processing II.ipynb\u001b[m\u001b[m\r\n",
        "drwx------  1 barnhatb  staff    16K Jan 22 10:36 \u001b[34mfigures\u001b[m\u001b[m\r\n",
        "-rwx------  1 barnhatb  staff   8.6M Jan 23 09:51 \u001b[31mbudyko_swe_data.npz\u001b[m\u001b[m\r\n",
        "-rwx------@ 1 barnhatb  staff   183B Jan 25 11:35 \u001b[31mcompress_fluxes.sh\u001b[m\u001b[m\r\n",
        "-rwx------@ 1 barnhatb  staff   187B Jan 25 11:35 \u001b[31muncompress_forcing.sh\u001b[m\u001b[m\r\n",
        "-rwx------@ 1 barnhatb  staff   184B Jan 25 11:35 \u001b[31mcompress_forcing.sh\u001b[m\u001b[m\r\n",
        "-rwx------  1 barnhatb  staff   1.9K Jan 28 19:15 \u001b[31mcluster_test.ipynb\u001b[m\u001b[m\r\n",
        "-rwx------  1 barnhatb  staff   1.1M Jan 30 11:23 \u001b[31mAnalyze Budyko Data.ipynb\u001b[m\u001b[m\r\n",
        "-rwx------  1 barnhatb  staff    22M Jan 30 11:58 \u001b[31mbudyko_working.hdf\u001b[m\u001b[m\r\n",
        "-rwx------  1 barnhatb  staff    15K Jan 30 12:00 \u001b[31mMerge Computed Data .ipynb\u001b[m\u001b[m\r\n",
        "-rwx------  1 barnhatb  staff   8.9K Jan 30 12:04 \u001b[31mASCII SWE Processing.ipynb\u001b[m\u001b[m\r\n",
        "-rwx------  1 barnhatb  staff   725B Jan 30 14:03 \u001b[31mCreate Filenames for Beach.ipynb\u001b[m\u001b[m\r\n"
       ]
      }
     ],
     "prompt_number": 5
    },
    {
     "cell_type": "code",
     "collapsed": false,
     "input": [],
     "language": "python",
     "metadata": {},
     "outputs": []
    }
   ],
   "metadata": {}
  }
 ]
}