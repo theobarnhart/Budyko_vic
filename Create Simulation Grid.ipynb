{
 "metadata": {
  "name": "",
  "signature": "sha256:8d757e70860f11caee04cb229a92f597d20fe17b759162043b8b980dc6e09a41"
 },
 "nbformat": 3,
 "nbformat_minor": 0,
 "worksheets": [
  {
   "cells": [
    {
     "cell_type": "code",
     "collapsed": false,
     "input": [
      "import numpy as np\n",
      "import pandas as pd\n",
      "import matplotlib.pyplot as plt\n",
      "%matplotlib inline"
     ],
     "language": "python",
     "metadata": {},
     "outputs": [],
     "prompt_number": 1
    },
    {
     "cell_type": "code",
     "collapsed": false,
     "input": [
      "lats = np.load('latitudes.npy')\n",
      "lons = np.load('longitudes.npy')"
     ],
     "language": "python",
     "metadata": {},
     "outputs": [],
     "prompt_number": 2
    },
    {
     "cell_type": "code",
     "collapsed": false,
     "input": [
      "unlats = np.unique(lats)\n",
      "unlons = np.unique(lons)"
     ],
     "language": "python",
     "metadata": {},
     "outputs": [],
     "prompt_number": 4
    },
    {
     "cell_type": "code",
     "collapsed": false,
     "input": [
      "minlat = unlats.min()\n",
      "maxlat = unlats.max()"
     ],
     "language": "python",
     "metadata": {},
     "outputs": [],
     "prompt_number": 5
    },
    {
     "cell_type": "code",
     "collapsed": false,
     "input": [
      "minlon = unlons.min()\n",
      "maxlon = unlons.max()"
     ],
     "language": "python",
     "metadata": {},
     "outputs": [],
     "prompt_number": 6
    },
    {
     "cell_type": "code",
     "collapsed": false,
     "input": [
      "print minlon\n",
      "print maxlon\n",
      "print\n",
      "print minlat\n",
      "print maxlat"
     ],
     "language": "python",
     "metadata": {},
     "outputs": [
      {
       "output_type": "stream",
       "stream": "stdout",
       "text": [
        "-124.96875\n",
        "-67.03125\n",
        "\n",
        "14.65625\n",
        "52.96875\n"
       ]
      }
     ],
     "prompt_number": 7
    },
    {
     "cell_type": "code",
     "collapsed": false,
     "input": [
      "step = (1/16.)/2\n",
      "\n",
      "minlon -= step\n",
      "maxlon += step\n",
      "\n",
      "minlat -= step\n",
      "maxlat += step"
     ],
     "language": "python",
     "metadata": {},
     "outputs": [],
     "prompt_number": 8
    },
    {
     "cell_type": "code",
     "collapsed": false,
     "input": [
      "print minlon\n",
      "print maxlon\n",
      "print\n",
      "print minlat\n",
      "print maxlat"
     ],
     "language": "python",
     "metadata": {},
     "outputs": [
      {
       "output_type": "stream",
       "stream": "stdout",
       "text": [
        "-125.0\n",
        "-67.0\n",
        "\n",
        "14.625\n",
        "53.0\n"
       ]
      }
     ],
     "prompt_number": 9
    },
    {
     "cell_type": "code",
     "collapsed": false,
     "input": [
      "latlines = np.linspace(minlat,maxlat,len(unlats)+1)\n",
      "lonlines = np.linspace(minlon,maxlon,len(unlons)+1)"
     ],
     "language": "python",
     "metadata": {},
     "outputs": [],
     "prompt_number": 13
    },
    {
     "cell_type": "code",
     "collapsed": false,
     "input": [
      "afx = [ -105.5464,40.0329]"
     ],
     "language": "python",
     "metadata": {},
     "outputs": [],
     "prompt_number": 14
    },
    {
     "cell_type": "code",
     "collapsed": false,
     "input": [
      "fig = plt.figure(figsize=(15,15))\n",
      "ax = fig.add_subplot(111)\n",
      "\n",
      "for lat in latlines[(latlines>39.9) & (latlines<40.15)]:\n",
      "    ax.axhline(lat,color='k')\n",
      "for lon in lonlines[(lonlines>-105.6) & (lonlines<-105.4)]:\n",
      "    ax.axvline(lon,color='k')\n",
      "\n",
      "ax.scatter(afx[0],afx[1],s=80,c='r')\n",
      "\n",
      "ax.scatter(lons,lats,s=40,c='k')\n",
      "ax.set_xlim(-105.6,-105.4)\n",
      "ax.set_ylim(39.9,40.15)\n",
      "\n",
      "ax.set_aspect('equal')"
     ],
     "language": "python",
     "metadata": {},
     "outputs": [
      {
       "metadata": {},
       "output_type": "display_data",
       "png": "[encoded data removed]",
       "text": [
        "<matplotlib.figure.Figure at 0x10873cd10>"
       ]
      }
     ],
     "prompt_number": 15
    },
    {
     "cell_type": "code",
     "collapsed": false,
     "input": [
      "latlines = np.reshape(latlines,[len(latlines),1])"
     ],
     "language": "python",
     "metadata": {},
     "outputs": [],
     "prompt_number": 28
    },
    {
     "cell_type": "code",
     "collapsed": false,
     "input": [
      "len(latlines)"
     ],
     "language": "python",
     "metadata": {},
     "outputs": [
      {
       "metadata": {},
       "output_type": "pyout",
       "prompt_number": 29,
       "text": [
        "614"
       ]
      }
     ],
     "prompt_number": 29
    },
    {
     "cell_type": "code",
     "collapsed": false,
     "input": [
      "n = int(np.abs(minlon-maxlon)/0.01)\n",
      "latlines = np.repeat(latlines,n,axis=0)\n",
      "latlineslon = np.linspace(minlon,maxlon,n)\n",
      "latlineslon = np.reshape(latlineslon,[len(latlineslon),1])"
     ],
     "language": "python",
     "metadata": {},
     "outputs": [],
     "prompt_number": 11
    },
    {
     "cell_type": "code",
     "collapsed": false,
     "input": [
      "latlineslon = np.repeat(latlineslon,614,axis=1)"
     ],
     "language": "python",
     "metadata": {},
     "outputs": [],
     "prompt_number": 13
    },
    {
     "cell_type": "code",
     "collapsed": false,
     "input": [
      "m,k = np.shape(latlineslon)"
     ],
     "language": "python",
     "metadata": {},
     "outputs": [],
     "prompt_number": 16
    },
    {
     "cell_type": "code",
     "collapsed": false,
     "input": [
      "latlineslon = np.reshape(latlineslon,[m*k,1])"
     ],
     "language": "python",
     "metadata": {},
     "outputs": [],
     "prompt_number": 17
    },
    {
     "cell_type": "code",
     "collapsed": false,
     "input": [
      "latlineslon"
     ],
     "language": "python",
     "metadata": {},
     "outputs": [
      {
       "metadata": {},
       "output_type": "pyout",
       "prompt_number": 19,
       "text": [
        "array([[-125.03125],\n",
        "       [-125.03125],\n",
        "       [-125.03125],\n",
        "       ..., \n",
        "       [ -66.96875],\n",
        "       [ -66.96875],\n",
        "       [ -66.96875]])"
       ]
      }
     ],
     "prompt_number": 19
    },
    {
     "cell_type": "code",
     "collapsed": false,
     "input": [
      "fig = plt.figure(figsize=(8,8))\n",
      "ax = fig.add_subplot(111)\n",
      "\n",
      "ax.plot(latlineslon,latlines,'.k')"
     ],
     "language": "python",
     "metadata": {},
     "outputs": [
      {
       "metadata": {},
       "output_type": "pyout",
       "prompt_number": 18,
       "text": [
        "[<matplotlib.lines.Line2D at 0x10baddc10>]"
       ]
      },
      {
       "metadata": {},
       "output_type": "display_data",
       "png": "[encoded data removed]",
       "text": [
        "<matplotlib.figure.Figure at 0x10ba4e350>"
       ]
      }
     ],
     "prompt_number": 18
    },
    {
     "cell_type": "code",
     "collapsed": false,
     "input": [],
     "language": "python",
     "metadata": {},
     "outputs": []
    },
    {
     "cell_type": "code",
     "collapsed": false,
     "input": [
      "int(np.abs(minlon-maxlon)/0.01)"
     ],
     "language": "python",
     "metadata": {},
     "outputs": [
      {
       "metadata": {},
       "output_type": "pyout",
       "prompt_number": 39,
       "text": [
        "5806"
       ]
      }
     ],
     "prompt_number": 39
    },
    {
     "cell_type": "code",
     "collapsed": false,
     "input": [
      "len(lons)"
     ],
     "language": "python",
     "metadata": {},
     "outputs": [
      {
       "metadata": {},
       "output_type": "pyout",
       "prompt_number": 5,
       "text": [
        "333579"
       ]
      }
     ],
     "prompt_number": 5
    },
    {
     "cell_type": "code",
     "collapsed": false,
     "input": [
      "ls -ltrh"
     ],
     "language": "python",
     "metadata": {},
     "outputs": [
      {
       "output_type": "stream",
       "stream": "stdout",
       "text": [
        "total 6969994\r\n",
        "-rwx------  1 barnhatb  staff   548K Jan 12 15:29 \u001b[31mtimecode.pcl\u001b[m\u001b[m*\r\n",
        "-rwx------@ 1 barnhatb  staff   186B Jan 12 16:16 \u001b[31muncompress_fluxes.sh\u001b[m\u001b[m*\r\n",
        "-rwx------  1 barnhatb  staff   2.5M Jan 12 17:09 \u001b[31mlongitudes.npy\u001b[m\u001b[m*\r\n",
        "-rwx------  1 barnhatb  staff   2.5M Jan 12 17:10 \u001b[31mlatitudes.npy\u001b[m\u001b[m*\r\n",
        "-rwx------  1 barnhatb  staff    18K Jan 12 17:10 \u001b[31mASCII Test.ipynb\u001b[m\u001b[m*\r\n",
        "-rwx------  1 barnhatb  staff    24M Jan 13 20:10 \u001b[31mbudyko_temp.pcl\u001b[m\u001b[m*\r\n",
        "-rwx------  1 barnhatb  staff    31M Jan 14 08:38 \u001b[31mbudykodata.pcl\u001b[m\u001b[m*\r\n",
        "-rwx------  1 barnhatb  staff    13K Jan 15 09:23 \u001b[31mProcess ASCII Data 1.ipynb\u001b[m\u001b[m*\r\n",
        "-rwx------  1 barnhatb  staff   592B Jan 15 10:42 \u001b[31myears.npy\u001b[m\u001b[m*\r\n",
        "-rwx------  1 barnhatb  staff   584B Jan 15 10:42 \u001b[31mwyears.npy\u001b[m\u001b[m*\r\n",
        "-rwx------  1 barnhatb  staff   4.1K Jan 15 14:24 \u001b[31mparallel test.ipynb\u001b[m\u001b[m*\r\n",
        "-rwx------  1 barnhatb  staff    18K Jan 16 14:55 \u001b[31mcomparison_lons.txt\u001b[m\u001b[m*\r\n",
        "-rwx------  1 barnhatb  staff    17K Jan 16 14:55 \u001b[31mcomparison_lats.txt\u001b[m\u001b[m*\r\n",
        "-rwx------  1 barnhatb  staff    36M Jan 19 10:56 \u001b[31mbudykodata_newSf.pcl\u001b[m\u001b[m*\r\n",
        "-rwx------  1 barnhatb  staff    56K Jan 19 10:57 \u001b[31mNew Snow Fraction Calculation.ipynb\u001b[m\u001b[m*\r\n",
        "-rwx------  1 barnhatb  staff    99M Jan 20 09:17 \u001b[31mbudykodata_newSf_SWE.pcl\u001b[m\u001b[m*\r\n",
        "-rwx------@ 1 barnhatb  staff    28K Jan 20 09:20 \u001b[31mlat.lon.etratio.petratio.snowratio.txt\u001b[m\u001b[m*\r\n",
        "-rwx------  1 barnhatb  staff   3.7M Jan 20 09:21 \u001b[31mbudykodata_newSf_SWE_clean.pcl\u001b[m\u001b[m*\r\n",
        "-rwx------  1 barnhatb  staff    18M Jan 20 09:40 \u001b[31mVIC_SWE_metrics.pcl\u001b[m\u001b[m*\r\n",
        "-rwx------  1 barnhatb  staff    47M Jan 20 14:48 \u001b[31mforcings_files_lat_lon.dataframe\u001b[m\u001b[m*\r\n",
        "-rwx------  1 barnhatb  staff    35M Jan 20 15:01 \u001b[31mfluxes_files_lat_lon.dataframe\u001b[m\u001b[m*\r\n",
        "-rwx------  1 barnhatb  staff    68M Jan 20 21:43 \u001b[31mforcing_fluxes_filenames.dataframe\u001b[m\u001b[m*\r\n",
        "-rwx------  1 barnhatb  staff   8.7M Jan 21 08:24 \u001b[31mnew_budyko_data.npz\u001b[m\u001b[m*\r\n",
        "-rwx------  1 barnhatb  staff   8.6M Jan 23 09:51 \u001b[31mbudyko_swe_data.npz\u001b[m\u001b[m*\r\n",
        "-rwx------@ 1 barnhatb  staff   183B Jan 25 11:35 \u001b[31mcompress_fluxes.sh\u001b[m\u001b[m*\r\n",
        "-rwx------@ 1 barnhatb  staff   187B Jan 25 11:35 \u001b[31muncompress_forcing.sh\u001b[m\u001b[m*\r\n",
        "-rwx------@ 1 barnhatb  staff   184B Jan 25 11:35 \u001b[31mcompress_forcing.sh\u001b[m\u001b[m*\r\n",
        "-rwx------  1 barnhatb  staff   1.9K Jan 28 19:15 \u001b[31mcluster_test.ipynb\u001b[m\u001b[m*\r\n",
        "-rwx------  1 barnhatb  staff   8.9K Jan 30 12:04 \u001b[31mASCII SWE Processing.ipynb\u001b[m\u001b[m*\r\n",
        "-rwx------  1 barnhatb  staff   133M Jan 30 14:52 \u001b[31mforcing_fluxes_filenames_beach.dataframe\u001b[m\u001b[m*\r\n",
        "-rwx------  1 barnhatb  staff    14K Jan 30 14:59 \u001b[31mCreate Filenames for Beach.ipynb\u001b[m\u001b[m*\r\n",
        "drwx------  1 barnhatb  staff    16K Feb  3 12:31 \u001b[34mmodels\u001b[m\u001b[m/\r\n",
        "-rwx------  1 barnhatb  staff    10M Feb  3 22:23 \u001b[31mdominik_domain_vic.pcl\u001b[m\u001b[m*\r\n",
        "-rwx------  1 barnhatb  staff    11K Feb  3 22:23 \u001b[31mCreate Files for Doms domain.ipynb\u001b[m\u001b[m*\r\n",
        "-rwx------  1 barnhatb  staff   8.6K Feb  4 07:20 \u001b[31muncompress dom's domain.ipynb\u001b[m\u001b[m*\r\n",
        "-rwx------  1 barnhatb  staff   804K Feb  4 10:59 \u001b[31mdoms_domain_results.npz\u001b[m\u001b[m*\r\n",
        "-rwx------  1 barnhatb  staff   367K Feb  5 17:27 \u001b[31mMap Dom's box.ipynb\u001b[m\u001b[m*\r\n",
        "-rwx------  1 barnhatb  staff   8.7M Feb  6 04:52 \u001b[31mUncompress VIC Data.ipynb\u001b[m\u001b[m*\r\n",
        "-rwx------  1 barnhatb  staff    11M Feb 13 10:23 \u001b[31mwhole_domain_partitioning_results.npz\u001b[m\u001b[m*\r\n",
        "-rwx------  1 barnhatb  staff    16K Feb 13 10:27 \u001b[31mPartitioning Sensitivity.ipynb\u001b[m\u001b[m*\r\n",
        "-rwx------  1 barnhatb  staff    58M Feb 16 13:53 \u001b[31mProcess Soil Data.ipynb\u001b[m\u001b[m*\r\n",
        "-rwx------  1 barnhatb  staff   4.6K Feb 16 17:14 \u001b[31mSf Calc Test.ipynb\u001b[m\u001b[m*\r\n",
        "-rwx------  1 barnhatb  staff    49K Feb 16 17:46 \u001b[31mAFX Cell Analysis.ipynb\u001b[m\u001b[m*\r\n",
        "-rwx------  1 barnhatb  staff   2.2M Feb 16 20:05 \u001b[31mnew_Sf_calc.npz\u001b[m\u001b[m*\r\n",
        "-rwx------  1 barnhatb  staff   7.8K Feb 19 15:56 \u001b[31mASCII Processing II.ipynb\u001b[m\u001b[m*\r\n",
        "-rwx------  1 barnhatb  staff    35K Feb 20 15:04 \u001b[31mcluster trial.ipynb\u001b[m\u001b[m*\r\n",
        "-rwx------  1 barnhatb  staff   2.3M Feb 24 11:38 \u001b[31mwater_flux_method_1.npz\u001b[m\u001b[m*\r\n",
        "-rwx------  1 barnhatb"
       ]
      },
      {
       "output_type": "stream",
       "stream": "stdout",
       "text": [
        "  staff    21M Feb 24 11:40 \u001b[31mAnnual Water Flux Processing Method 1.ipynb\u001b[m\u001b[m*\r\n",
        "-rwx------  1 barnhatb  staff   7.6M Feb 24 18:17 \u001b[31mAnnual Water Flux Processing Method 3.ipynb\u001b[m\u001b[m*\r\n",
        "-rwx------  1 barnhatb  staff   777K Feb 25 09:04 \u001b[31mwater_flux_method_2.npz\u001b[m\u001b[m*\r\n",
        "-rwx------  1 barnhatb  staff    84K Feb 25 09:05 \u001b[31mAnnual Water Flux Processing Method 2.ipynb\u001b[m\u001b[m*\r\n",
        "-rwx------  1 barnhatb  staff   2.3M Feb 26 12:20 \u001b[31mwater_flux_method_3.npz\u001b[m\u001b[m*\r\n",
        "-rwx------  1 barnhatb  staff   1.6M Feb 27 11:03 \u001b[31mAnalyze Budyko Data.ipynb\u001b[m\u001b[m*\r\n",
        "-rwx------  1 barnhatb  staff   1.0M Feb 27 12:24 \u001b[31mAnalyze Budyko Data 2.ipynb\u001b[m\u001b[m*\r\n",
        "-rwx------  1 barnhatb  staff   2.1M Feb 27 12:30 \u001b[31mAnalyze Budyko Data 3.ipynb\u001b[m\u001b[m*\r\n",
        "drwx------  1 barnhatb  staff    16K Feb 27 13:40 \u001b[34mgrass_data\u001b[m\u001b[m/\r\n",
        "-rwx------  1 barnhatb  staff   5.4K Mar  1 08:59 \u001b[31msnowmelt processing.ipynb\u001b[m\u001b[m*\r\n",
        "-rwx------  1 barnhatb  staff    75M Mar  1 20:34 \u001b[31mforcing_fluxes_filenames_lat_lon_index.df\u001b[m\u001b[m*\r\n",
        "-rwx------  1 barnhatb  staff   392K Mar  1 20:35 \u001b[31mMake a raster of cell centers.ipynb\u001b[m\u001b[m*\r\n",
        "-rwx------  1 barnhatb  staff    64K Mar  1 21:34 \u001b[31mspl_domain.npz\u001b[m\u001b[m*\r\n",
        "-rwx------  1 barnhatb  staff    29K Mar  1 21:35 \u001b[31mgenerate SPL coords states.ipynb\u001b[m\u001b[m*\r\n",
        "-rwx------  1 barnhatb  staff   2.9K Mar  2 17:43 \u001b[31mecoregions_index.npz\u001b[m\u001b[m*\r\n",
        "-rwx------  1 barnhatb  staff   819M Mar  2 21:31 \u001b[31mspl_cals.npz\u001b[m\u001b[m*\r\n",
        "-rwx------  1 barnhatb  staff   9.0K Mar  2 22:38 \u001b[31mMerge SPL data States.ipynb\u001b[m\u001b[m*\r\n",
        "-rwx------  1 barnhatb  staff   2.2M Mar  3 15:40 \u001b[31msnowmelt.npz\u001b[m\u001b[m*\r\n",
        "-rwx------  1 barnhatb  staff    40K Mar  3 17:28 \u001b[31mSubsetting ecoregions 1.ipynb\u001b[m\u001b[m*\r\n",
        "-rwx------  1 barnhatb  staff   117K Mar  3 21:10 \u001b[31mspl_er_domain.npz\u001b[m\u001b[m*\r\n",
        "-rwx------  1 barnhatb  staff   7.4K Mar  3 21:14 \u001b[31mSPL PET P processing States.ipynb\u001b[m\u001b[m*\r\n",
        "-rwx------@ 1 barnhatb  staff   855B Mar  4 19:42 \u001b[31msubset_vic_data.sh\u001b[m\u001b[m*\r\n",
        "-rwx------  1 barnhatb  staff   1.6G Mar  5 08:45 \u001b[31mspl_ecoregion_cals.npz\u001b[m\u001b[m*\r\n",
        "-rwx------  1 barnhatb  staff    13M Mar  5 08:47 \u001b[31mSPL PET P processing Ecoregions.ipynb\u001b[m\u001b[m*\r\n",
        "-rwx------  1 barnhatb  staff   3.3K Mar  5 08:48 \u001b[31mgenerate SPL coords ecoregions.ipynb\u001b[m\u001b[m*\r\n",
        "drwx------  1 barnhatb  staff    16K Mar  5 18:17 \u001b[34mdata\u001b[m\u001b[m/\r\n",
        "-rwx------  1 barnhatb  staff    15K Mar  5 18:56 \u001b[31mMerge SPL data Ecoregions.ipynb\u001b[m\u001b[m*\r\n",
        "-rwx------  1 barnhatb  staff   872K Mar  9 12:34 \u001b[31mecoregion_cells.df\u001b[m\u001b[m*\r\n",
        "-rwx------  1 barnhatb  staff   8.0K Mar  9 12:35 \u001b[31mSubsetting ecoregions 2.ipynb\u001b[m\u001b[m*\r\n",
        "-rwx------  1 barnhatb  staff    11M Mar  9 13:27 \u001b[31mbudyko_working_er.hdf\u001b[m\u001b[m*\r\n",
        "-rwx------  1 barnhatb  staff   3.7M Mar  9 21:57 \u001b[31mAnalyze Budyko Data Ecoregions.ipynb\u001b[m\u001b[m*\r\n",
        "-rwx------  1 barnhatb  staff   469K Mar 10 08:42 \u001b[31mecoregion_cells_sm.df\u001b[m\u001b[m*\r\n",
        "-rwx------  1 barnhatb  staff   367K Mar 11 10:21 \u001b[31mMap Dom's box-Copy0.ipynb\u001b[m\u001b[m*\r\n",
        "-rwx------  1 barnhatb  staff   8.9M Mar 15 11:08 \u001b[31mnew_Sf_sense.npz\u001b[m\u001b[m*\r\n",
        "-rwx------  1 barnhatb  staff   2.3M Mar 15 11:11 \u001b[31mw_flux4.npz\u001b[m\u001b[m*\r\n",
        "-rwx------  1 barnhatb  staff    12M Mar 15 11:12 \u001b[31msnowmelt and P processing.ipynb\u001b[m\u001b[m*\r\n",
        "-rwx------  1 barnhatb  staff   6.4M Mar 15 13:33 \u001b[31mbudyko_working_er_sm_all.hdf\u001b[m\u001b[m*\r\n",
        "-rwx------  1 barnhatb  staff   6.3M Mar 15 13:34 \u001b[31mbudyko_working_er_sm.hdf\u001b[m\u001b[m*\r\n",
        "-rwx------  1 barnhatb  staff    85K Mar 15 13:35 \u001b[31mcrop ecoregions small.ipynb\u001b[m\u001b[m*\r\n",
        "-rwx------  1 barnhatb  staff   3.3M Mar 15 13:40 \u001b[31mAnalyze Budyko Data Ecoregions Small.ipynb\u001b[m\u001b[m*\r\n",
        "-rwx------  1 barnhatb  staff   6.2K Mar 15 14:34 \u001b[31mSubsetting ecoregions 3.ipynb\u001b[m\u001b[m*\r\n",
        "-rwx------  1 barnhatb  staff   469K Mar 15 14:35 \u001b[31mecoregion_cells_sm2.df\u001b[m\u001b[m*\r\n",
        "-rwx------  1 barnhatb  staff   6.2K Mar 15 14:36 \u001b[31mSubsetting ecoregions 4.ipynb\u001b[m\u001b[m*\r\n",
        "-rwx------  1 barnhatb  staff   468K Mar 15 14:37 \u001b[31mbudyko_working_er_sm_all.csv\u001b[m\u001b[m*\r\n",
        "-rwx------  1 barnhatb  staff   2.3M Mar 16 09:47 \u001b[31mw_flux5.npz\u001b[m\u001b[m*\r\n",
        "-rwx------  1 barnhatb  staff    11K Mar 16 09:47 \u001b[31msnowmelt and rain processing.ipynb\u001b[m\u001b[m*\r\n",
        "-rwx------  1 barnhatb  staff   872K Mar 16 10:28 \u001b[31mecoregion_cells_all.df\u001b[m\u001b[m*\r\n",
        "-rwx------  1 barnhatb  staff   7.3K Mar 16 10:29 \u001b[31mSubsetting ecoregions 5.ipynb\u001b[m\u001b[m*\r\n",
        "-rwx------  1 barnhatb  staff   2.3M Mar 16 11:40 \u001b[31mrain.npz\u001b[m\u001b[m*\r\n",
        "-rwx------  1 barnhatb  staff    19M Mar 16 11:42 \u001b[31mrain processing.ipynb\u001b[m\u001b[m*\r\n",
        "-rwx------@ 1 barnhatb  staff   422B Mar 16 14:49 \u001b[31mreproject_er_subsets.sh\u001b[m\u001b[m*\r\n",
        "-rwx------  1 barnhatb  staff   157K Mar 16 16:08 \u001b[31mMap Ecoregion Values.ipynb\u001b[m\u001b[m*\r\n",
        "-rwx------  1 barnhatb  staff   699K Mar 16 21:44 \u001b[31mAnalyze Budyko Data Ecoregions Small2.ipynb\u001b[m\u001b[m*\r\n",
        "-rwx------@ 1 barnhatb  staff    66B Mar 17 13:02 \u001b[31mno_code.tpl\u001b[m\u001b[m*\r\n",
        "-rwx------@ 1 barnhatb  staff   1.0K Mar 17 13:10 \u001b[31mno_code_2.tpl\u001b[m\u001b[m*\r\n",
        "-rwx------@ 1 barnhatb  staff   596B Mar 17 13:11 \u001b[31mno_code_3.tpl\u001b[m\u001b[m*\r\n",
        "-rwx------  1 barnhatb  staff   2.3M Mar 17 13:40 \u001b[31mAnalyze Budyko Data Ecoregions All.html\u001b[m\u001b[m*\r\n",
        "-rwx------  1 barnhatb  staff   6.0K Mar 18 15:11 \u001b[31mCalc_Sf_parallel.ipynb\u001b[m\u001b[m*\r\n",
        "-rwx------  1 barnhatb  staff   6.6M Mar 18 16:55 \u001b[31mbudyko_working_er_sm2_all.hdf\u001b[m\u001b[m*\r\n",
        "-rwx------  1 barnhatb  staff   468K Mar 18 16:55 \u001b[31mbudyko_working_er_sm2_all.csv\u001b[m\u001b[m*\r\n",
        "-rwx------  1 barnhatb  staff   6.6M Mar 18 16:55 \u001b[31mbudyko_working_er_sm2.hdf\u001b[m\u001b[m*\r\n",
        "-rwx------  1 barnhatb  staff    82K Mar 18 16:56 \u001b[31mcrop ecoregions small2.ipynb\u001b[m\u001b[m*\r\n",
        "-rwx------  1 barnhatb  staff   525K Mar 20 11:42 \u001b[31mAnalyze Budyko Data Ecoregions Small2 Lumped.ipynb\u001b[m\u001b[m*\r\n",
        "-rwx------  1 barnhatb  staff   2.7M Apr  1 18:38 \u001b[31mAnalyze Budyko Data Ecoregions All.ipynb\u001b[m\u001b[m*\r\n",
        "-rwx------  1 barnhatb  staff   2.2M Apr  2 09:49 \u001b[31mnet_snowmelt.npz\u001b[m\u001b[m*\r\n",
        "-rwx------  1 barnhatb  staff    14K Apr  2 09:49 \u001b[31mnet snowmelt processing.ipynb\u001b[m\u001b[m*\r\n",
        "-rwx------  1 barnhatb  staff    99M Apr  2 11:32 \u001b[31mbudyko_working.hdf\u001b[m\u001b[m*\r\n",
        "-rwx------  1 barnhatb  staff    38K Apr  2 11:33 \u001b[31mMerge Computed Data.ipynb\u001b[m\u001b[m*\r\n",
        "-rwx------  1 barnhatb  staff    13M Apr  2 11:36 \u001b[31mbudyko_working_er_all.hdf\u001b[m\u001b[m*\r\n",
        "-rwx------  1 barnhatb  staff   116K Apr  2 11:37 \u001b[31mcrop ecoregions all.ipynb\u001b[m\u001b[m*\r\n",
        "drwx------  1 barnhatb  staff    16K Apr  2 11:45 \u001b[34mfigures\u001b[m\u001b[m/\r\n",
        "-rwx------  1 barnhatb  staff   2.5M Apr  2 15:31 \u001b[31mAnalyze Budyko Data Ecoregions All Small 3.ipynb\u001b[m\u001b[m*\r\n",
        "-rwx------  1 barnhatb  staff   728B Apr  2 15:37 \u001b[31mCreate Simulation Grid.ipynb\u001b[m\u001b[m*\r\n"
       ]
      }
     ],
     "prompt_number": 2
    },
    {
     "cell_type": "code",
     "collapsed": false,
     "input": [
      "coords = pd.read_pickle('./)"
     ],
     "language": "python",
     "metadata": {},
     "outputs": []
    }
   ],
   "metadata": {}
  }
 ]
}