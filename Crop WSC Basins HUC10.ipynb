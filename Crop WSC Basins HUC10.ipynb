{
 "cells": [
  {
   "cell_type": "code",
   "execution_count": 2,
   "metadata": {
    "collapsed": false
   },
   "outputs": [],
   "source": [
    "import pandas as pd\n",
    "import numpy as np"
   ]
  },
  {
   "cell_type": "code",
   "execution_count": 3,
   "metadata": {
    "collapsed": false
   },
   "outputs": [],
   "source": [
    "df = pd.read_hdf('./budyko_working.hdf','df')\n",
    "df['idx2'] = df.idx.copy()"
   ]
  },
  {
   "cell_type": "code",
   "execution_count": 4,
   "metadata": {
    "collapsed": false
   },
   "outputs": [],
   "source": [
    "cells = pd.read_pickle('./data/WSC_basin_index.df')"
   ]
  },
  {
   "cell_type": "raw",
   "metadata": {},
   "source": [
    "idx = np.zeros([len(df)-len(cells)])\n",
    "idx[:] = np.NaN\n",
    "rc = idx.copy()"
   ]
  },
  {
   "cell_type": "raw",
   "metadata": {},
   "source": [
    "tmp = pd.DataFrame({'idx':idx,'rc':rc})"
   ]
  },
  {
   "cell_type": "raw",
   "metadata": {},
   "source": [
    "cells = pd.concat([cells,tmp])"
   ]
  },
  {
   "cell_type": "code",
   "execution_count": 5,
   "metadata": {
    "collapsed": false
   },
   "outputs": [],
   "source": [
    "df = pd.merge(df,cells, on='idx', left_index=True)"
   ]
  },
  {
   "cell_type": "code",
   "execution_count": 6,
   "metadata": {
    "collapsed": false
   },
   "outputs": [
    {
     "data": {
      "text/plain": [
       "Index([u'frlon', u'PETpenmanvic', u'P', u'ET', u'frlat', u'Sf', u'meanablseason', u'meandosnowfree', u'meanpeakswe', u'meanpeaket', u'meandopeaket', u'meanablslope', u'meandopeakswe', u'infilt', u'fs_active', u'l1_quartz', u'l3_Wpwp_FRACT', u'l3_bulkD', u'l3_init_moist', u'annual_prec', u'l2_soil_density', u'l2_Ksat', u'rough', u'l2_Wcr_FRACT', u'l2_depth', u'l2_quartz', u'l1_phi_s', u'l3_bubble', u'l1_expt', u'Ws', u'l1_Ksat', u'l1_soil_density', u'l1_resid_moisture', u'l2_phi_s', u'l2_init_moist', u'l2_expt', u'l1_init_moist', u'l1_depth', u'off_gmt', u'l3_expt', u'l3_depth', u'Dsmax', u'l1_Wpwp_FRACT', u'l3_resid_moisture', u'avg_T', u'l3_soil_density', u'l3_phi_s', u'dp', u'c', u'l2_bulkD', u'l2_bubble', u'l2_Wpwp_FRACT', u'l3_Ksat', u'l3_quartz', u'Ds', u'l1_bulkD', u'l1_bubble', u'l2_resid_moisture', u'elev', u'snow_rough', u'l1_Wcr_FRACT', u'l3_Wcr_FRACT', u'slope', u'rsquared_adj', u'intercept', u'rsquared', u'pvalue', u'w_flux', u'w_flux2', u'w_flux3', u'snowmelt', u'Sf2', u'Sf1', u'Sf_2', u'Sf_1', u'wflux4', u'wflux5', u'rain', u'netSM', u'idx', u'idx2', u'huc10', u'huc4', u'huc6', u'huc8'], dtype='object')"
      ]
     },
     "execution_count": 6,
     "metadata": {},
     "output_type": "execute_result"
    }
   ],
   "source": [
    "df.columns"
   ]
  },
  {
   "cell_type": "raw",
   "metadata": {},
   "source": [
    "df.to_hdf('./budyko_working_er_sm2_all.hdf','df',format='fixed',complevel=5,complib='bzip2',fletcher32=True)\n",
    "df[['frlon','frlat','rc']].to_csv('./budyko_working_er_sm2_all.csv',fmt=['%1.6f','%1.6f','%i'],index=False,na_rep='-9999')"
   ]
  },
  {
   "cell_type": "code",
   "execution_count": 7,
   "metadata": {
    "collapsed": false
   },
   "outputs": [],
   "source": [
    "df.dropna(subset=['idx'],inplace=True)"
   ]
  },
  {
   "cell_type": "code",
   "execution_count": 8,
   "metadata": {
    "collapsed": false
   },
   "outputs": [
    {
     "data": {
      "text/plain": [
       "349"
      ]
     },
     "execution_count": 8,
     "metadata": {},
     "output_type": "execute_result"
    }
   ],
   "source": [
    "len(df)"
   ]
  },
  {
   "cell_type": "code",
   "execution_count": 9,
   "metadata": {
    "collapsed": false
   },
   "outputs": [],
   "source": [
    "df.to_hdf('./budyko_working_WSC_HUC10.hdf','df',format='fixed',complevel=5,complib='bzip2',fletcher32=True)"
   ]
  },
  {
   "cell_type": "code",
   "execution_count": 18,
   "metadata": {
    "collapsed": false
   },
   "outputs": [],
   "source": []
  }
 ],
 "metadata": {
  "kernelspec": {
   "display_name": "Python 2",
   "language": "python",
   "name": "python2"
  },
  "language_info": {
   "codemirror_mode": {
    "name": "ipython",
    "version": 2
   },
   "file_extension": ".py",
   "mimetype": "text/x-python",
   "name": "python",
   "nbconvert_exporter": "python",
   "pygments_lexer": "ipython2",
   "version": "2.7.12"
  }
 },
 "nbformat": 4,
 "nbformat_minor": 0
}
