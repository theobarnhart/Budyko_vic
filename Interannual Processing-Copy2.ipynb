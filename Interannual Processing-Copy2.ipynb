{
 "metadata": {
  "name": "",
  "signature": "sha256:eb00f65b2fc66c3e910e7af026a0cc17a8e70efff6035fa1b90b798d4f850e0c"
 },
 "nbformat": 3,
 "nbformat_minor": 0,
 "worksheets": [
  {
   "cells": [
    {
     "cell_type": "code",
     "collapsed": false,
     "input": [
      "import numpy as np\n",
      "import pandas as pd\n",
      "import IPython.parallel as p\n",
      "from IPython.display import clear_output\n",
      "dates = pd.read_pickle('/Volumes/Users/Theo/projects/Budyko_vic/timecode.pcl')\n",
      "\n",
      "forcing_columns = ['P','Tmax','Tmin','W']\n",
      "fluxes_columns = ['y','m','d','ET','R','BF','sm1','sm2','sm3','SWE','Cs','Qs','Ql','Qg','NR','PEText','PETtrc','PETsrc']"
     ],
     "language": "python",
     "metadata": {},
     "outputs": [],
     "prompt_number": 1
    },
    {
     "cell_type": "code",
     "collapsed": false,
     "input": [
      "c = p.Client()"
     ],
     "language": "python",
     "metadata": {},
     "outputs": [],
     "prompt_number": 2
    },
    {
     "cell_type": "code",
     "collapsed": false,
     "input": [
      "c.ids"
     ],
     "language": "python",
     "metadata": {},
     "outputs": [
      {
       "metadata": {},
       "output_type": "pyout",
       "prompt_number": 3,
       "text": [
        "[0, 1, 2, 3]"
       ]
      }
     ],
     "prompt_number": 3
    },
    {
     "cell_type": "code",
     "collapsed": false,
     "input": [
      "view = c.load_balanced_view()"
     ],
     "language": "python",
     "metadata": {},
     "outputs": [],
     "prompt_number": 4
    },
    {
     "cell_type": "code",
     "collapsed": false,
     "input": [
      "%%px\n",
      "import pandas as pd\n",
      "import numpy as np\n",
      "dates = pd.read_pickle('/Volumes/Users/Theo/projects/Budyko_vic/timecode.pcl')\n",
      "forcing_columns = ['P','Tmax','Tmin','W']\n",
      "fluxes_columns = ['y','m','d','ET','R','BF','sm1','sm2','sm3','SWE','Cs','Qs','Ql','Qg','NR','PEText','PETtrc','PETsrc']"
     ],
     "language": "python",
     "metadata": {},
     "outputs": [],
     "prompt_number": 5
    },
    {
     "cell_type": "code",
     "collapsed": false,
     "input": [
      "files = pd.read_pickle('./forcing_fluxes_filenames_lat_lon_index.df')\n",
      "files.columns = ['exists','flux','forcing','lat','lon','idx']\n",
      "basins = pd.read_pickle('./data/WSC_HUC8_basin_index.df')\n",
      "\n",
      "files = pd.merge(files,basins, on='idx', left_index=True)"
     ],
     "language": "python",
     "metadata": {},
     "outputs": [],
     "prompt_number": 6
    },
    {
     "cell_type": "code",
     "collapsed": false,
     "input": [
      "len(files)"
     ],
     "language": "python",
     "metadata": {},
     "outputs": [
      {
       "metadata": {},
       "output_type": "pyout",
       "prompt_number": 7,
       "text": [
        "1507"
       ]
      }
     ],
     "prompt_number": 7
    },
    {
     "cell_type": "code",
     "collapsed": false,
     "input": [
      "files.head()"
     ],
     "language": "python",
     "metadata": {},
     "outputs": [
      {
       "html": [
        "<div style=\"max-height:1000px;max-width:1500px;overflow:auto;\">\n",
        "<table border=\"1\" class=\"dataframe\">\n",
        "  <thead>\n",
        "    <tr style=\"text-align: right;\">\n",
        "      <th></th>\n",
        "      <th>exists</th>\n",
        "      <th>flux</th>\n",
        "      <th>forcing</th>\n",
        "      <th>lat</th>\n",
        "      <th>lon</th>\n",
        "      <th>idx</th>\n",
        "      <th>huc4</th>\n",
        "      <th>huc6</th>\n",
        "      <th>huc8</th>\n",
        "    </tr>\n",
        "  </thead>\n",
        "  <tbody>\n",
        "    <tr>\n",
        "      <th>808</th>\n",
        "      <td> True</td>\n",
        "      <td> /Users/barnhatb/research/vic/fluxes/ascii/lati...</td>\n",
        "      <td> /Users/barnhatb/research/vic/forcing/ascii/lat...</td>\n",
        "      <td> 37.90625</td>\n",
        "      <td>-105.21875</td>\n",
        "      <td> 104949</td>\n",
        "      <td> 1102</td>\n",
        "      <td> 110200</td>\n",
        "      <td> 11020001</td>\n",
        "    </tr>\n",
        "    <tr>\n",
        "      <th>809</th>\n",
        "      <td> True</td>\n",
        "      <td> /Users/barnhatb/research/vic/fluxes/ascii/lati...</td>\n",
        "      <td> /Users/barnhatb/research/vic/forcing/ascii/lat...</td>\n",
        "      <td> 37.90625</td>\n",
        "      <td>-105.34375</td>\n",
        "      <td> 104951</td>\n",
        "      <td> 1102</td>\n",
        "      <td> 110200</td>\n",
        "      <td> 11020001</td>\n",
        "    </tr>\n",
        "    <tr>\n",
        "      <th>810</th>\n",
        "      <td> True</td>\n",
        "      <td> /Users/barnhatb/research/vic/fluxes/ascii/lati...</td>\n",
        "      <td> /Users/barnhatb/research/vic/forcing/ascii/lat...</td>\n",
        "      <td> 37.90625</td>\n",
        "      <td>-105.40625</td>\n",
        "      <td> 104952</td>\n",
        "      <td> 1102</td>\n",
        "      <td> 110200</td>\n",
        "      <td> 11020001</td>\n",
        "    </tr>\n",
        "    <tr>\n",
        "      <th>811</th>\n",
        "      <td> True</td>\n",
        "      <td> /Users/barnhatb/research/vic/fluxes/ascii/lati...</td>\n",
        "      <td> /Users/barnhatb/research/vic/forcing/ascii/lat...</td>\n",
        "      <td> 37.96875</td>\n",
        "      <td>-105.21875</td>\n",
        "      <td> 105705</td>\n",
        "      <td> 1102</td>\n",
        "      <td> 110200</td>\n",
        "      <td> 11020001</td>\n",
        "    </tr>\n",
        "    <tr>\n",
        "      <th>812</th>\n",
        "      <td> True</td>\n",
        "      <td> /Users/barnhatb/research/vic/fluxes/ascii/lati...</td>\n",
        "      <td> /Users/barnhatb/research/vic/forcing/ascii/lat...</td>\n",
        "      <td> 37.96875</td>\n",
        "      <td>-105.28125</td>\n",
        "      <td> 105706</td>\n",
        "      <td> 1102</td>\n",
        "      <td> 110200</td>\n",
        "      <td> 11020001</td>\n",
        "    </tr>\n",
        "  </tbody>\n",
        "</table>\n",
        "</div>"
       ],
       "metadata": {},
       "output_type": "pyout",
       "prompt_number": 8,
       "text": [
        "    exists                                               flux  \\\n",
        "808   True  /Users/barnhatb/research/vic/fluxes/ascii/lati...   \n",
        "809   True  /Users/barnhatb/research/vic/fluxes/ascii/lati...   \n",
        "810   True  /Users/barnhatb/research/vic/fluxes/ascii/lati...   \n",
        "811   True  /Users/barnhatb/research/vic/fluxes/ascii/lati...   \n",
        "812   True  /Users/barnhatb/research/vic/fluxes/ascii/lati...   \n",
        "\n",
        "                                               forcing       lat        lon  \\\n",
        "808  /Users/barnhatb/research/vic/forcing/ascii/lat...  37.90625 -105.21875   \n",
        "809  /Users/barnhatb/research/vic/forcing/ascii/lat...  37.90625 -105.34375   \n",
        "810  /Users/barnhatb/research/vic/forcing/ascii/lat...  37.90625 -105.40625   \n",
        "811  /Users/barnhatb/research/vic/forcing/ascii/lat...  37.96875 -105.21875   \n",
        "812  /Users/barnhatb/research/vic/forcing/ascii/lat...  37.96875 -105.28125   \n",
        "\n",
        "        idx  huc4    huc6      huc8  \n",
        "808  104949  1102  110200  11020001  \n",
        "809  104951  1102  110200  11020001  \n",
        "810  104952  1102  110200  11020001  \n",
        "811  105705  1102  110200  11020001  \n",
        "812  105706  1102  110200  11020001  "
       ]
      }
     ],
     "prompt_number": 8
    },
    {
     "cell_type": "code",
     "collapsed": false,
     "input": [
      "%%px\n",
      "def wateryear(index):\n",
      "    year = index.year\n",
      "    strt = pd.datetime(year,10,1) # start of the next water year+1\n",
      "    \n",
      "    if index<strt:\n",
      "        wyear = year\n",
      "    elif index>=strt: \n",
      "        wyear = year+1\n",
      "\n",
      "    return wyear"
     ],
     "language": "python",
     "metadata": {},
     "outputs": [],
     "prompt_number": 9
    },
    {
     "cell_type": "code",
     "collapsed": false,
     "input": [
      "def wateryear(index):\n",
      "    year = index.year\n",
      "    strt = pd.datetime(year,10,1) # start of the next water year+1\n",
      "    \n",
      "    if index<strt:\n",
      "        wyear = year\n",
      "    elif index>=strt: \n",
      "        wyear = year+1\n",
      "\n",
      "    return wyear"
     ],
     "language": "python",
     "metadata": {},
     "outputs": [],
     "prompt_number": 10
    },
    {
     "cell_type": "code",
     "collapsed": false,
     "input": [
      "%%px\n",
      "def computesnowmelt(swe):\n",
      "    swe = swe.as_matrix() # convert SWE to a matrix\n",
      "    smelt = swe[0:-1]-swe[1:] # compute snowmelt for each day\n",
      "    smelt = np.append(0,smelt)\n",
      "    \n",
      "    smelt[smelt<0]=0 # set accumulation events to 0\n",
      "    \n",
      "    return np.nanmean(smelt[smelt>0]) # compute the average snowmelt rate\n",
      "    "
     ],
     "language": "python",
     "metadata": {},
     "outputs": [],
     "prompt_number": 11
    },
    {
     "cell_type": "code",
     "collapsed": false,
     "input": [
      "#fl = files.flux[300]\n",
      "#fr = files.forcing[300]\n",
      "#idx = files.idx[300]\n",
      "#huc8 = files.huc8[300]\n",
      "\n",
      "def interannual(fl,fr,idx,huc8):\n",
      "    flux = pd.read_table(fl, sep='\\t', names = fluxes_columns)\n",
      "    flux.index = pd.DatetimeIndex(dates)\n",
      "\n",
      "    force = pd.read_table(fr,sep=' ', names = forcing_columns)\n",
      "    force.index = pd.DatetimeIndex(dates)\n",
      "\n",
      "    force['wateryear']=force.index.map(wateryear) # compute the water year for each entry\n",
      "    flux['wateryear'] = force.index.map(wateryear) # compute the water year for each entry\n",
      "    #wyears = np.unique(force.index.year)[1:] # grab all the complete water years\n",
      "\n",
      "    # compute snowmelt\n",
      "    swe = flux.SWE.as_matrix() # convert SWE to a matrix\n",
      "    smelt = swe[0:-1]-swe[1:] # compute snowmelt for each day\n",
      "    smelt = np.append(0,smelt) # append a zero onto it\n",
      "    smelt[smelt<0] = 0 # set accumulation events to 0\n",
      "\n",
      "    flux['sm'] = smelt\n",
      "\n",
      "    force_sum = force.groupby(by='wateryear').sum()[1:-1] # group by and save complete water years\n",
      "    flux_sum = flux.groupby(by='wateryear').sum()[1:-1] # group by and save complete water years\n",
      "\n",
      "    flux_mean = flux.loc[flux.sm>0,:].groupby(by='wateryear').mean()[1:-1]\n",
      "\n",
      "    n = len(np.unique(force.wateryear)[1:-1]) # get the length of the variable\n",
      "\n",
      "    # convert output variables\n",
      "    wyears = list(flux_sum.index)\n",
      "    PET = list(flux_sum.PEText)\n",
      "    P = list(force_sum.P)\n",
      "    ET = list(flux_sum.ET)\n",
      "    R = list(flux_sum.R+flux_sum.BF)\n",
      "    idx = list(np.repeat(idx,n))\n",
      "    huc8 = list(np.repeat(huc8,n))\n",
      "\n",
      "    sm = list(flux_mean.sm)\n",
      "    \n",
      "    return wyears,PET,P,ET,R,sm,idx,huc8"
     ],
     "language": "python",
     "metadata": {},
     "outputs": [],
     "prompt_number": 12
    },
    {
     "cell_type": "code",
     "collapsed": false,
     "input": [
      "def compwflux(fl,fr,idx,huc8):\n",
      "    flux = pd.read_table(fl, sep='\\t', names = fluxes_columns)\n",
      "    flux.index = pd.DatetimeIndex(dates)\n",
      "\n",
      "    force = pd.read_table(fr,sep=' ', names = forcing_columns)\n",
      "    force.index = pd.DatetimeIndex(dates)\n",
      "\n",
      "    force['wateryear']=force.index.map(wateryear) # compute the water year for each entry\n",
      "    flux['wateryear'] = force.index.map(wateryear) # compute the water year for each entry\n",
      "    #wyears = np.unique(force.index.year)[1:] # grab all the complete water years\n",
      "\n",
      "    # compute snowmelt\n",
      "    swe = flux.SWE.as_matrix() # convert SWE to a matrix\n",
      "    smelt = swe[0:-1]-swe[1:] # compute snowmelt for each day\n",
      "    smelt = np.append(0,smelt) # append a zero onto it\n",
      "    smelt[smelt<0] = 0 # set accumulation events to 0\n",
      "    flux['sm'] = smelt\n",
      "    \n",
      "    # compute rainfall\n",
      "    coef = (0.-force.Tmin)/(np.abs(force.Tmax-force.Tmin))\n",
      "    coef[coef<0] = 0.\n",
      "    coef[coef>1] = 1.\n",
      "    force['rain'] = force.P.as_matrix()*(1-coef) # compute rain\n",
      "    force['wflux'] = force.rain + flux.sm\n",
      "\n",
      "    force_sum = force.groupby(by='wateryear').sum()[1:-1] # group by and save complete water years\n",
      "    flux_sum = flux.groupby(by='wateryear').sum()[1:-1] # group by and save complete water years\n",
      "\n",
      "    flux_mean = flux.loc[(flux.sm>0) | (force.rain>0),:].groupby(by='wateryear').mean()[1:-1]\n",
      "    force_mean = force.loc[(flux.sm>0) | (force.rain>0),:].groupby(by='wateryear').mean()[1:-1]\n",
      "    \n",
      "    n = len(np.unique(force.wateryear)[1:-1]) # get the length of the variable\n",
      "\n",
      "    # convert output variables\n",
      "    wyears = list(flux_sum.index)\n",
      "    idx = list(np.repeat(idx,n))\n",
      "    huc8 = list(np.repeat(huc8,n))\n",
      "    sm = list(flux_mean.sm)\n",
      "    rain = list(force_mean.rain)\n",
      "    wflux = list(force_mean.wflux)\n",
      "    \n",
      "    return wyears,idx,huc8,sm,rain,wflux"
     ],
     "language": "python",
     "metadata": {},
     "outputs": [],
     "prompt_number": 26
    },
    {
     "cell_type": "code",
     "collapsed": false,
     "input": [
      "#test batch\n",
      "num = 200\n",
      "num2 = 300\n",
      "fl = files.flux[num:num2]\n",
      "fr = files.forcing[num:num2]\n",
      "idx = files.idx[num:num2]\n",
      "huc8 = files.huc8[num:num2]"
     ],
     "language": "python",
     "metadata": {},
     "outputs": [],
     "prompt_number": 13
    },
    {
     "cell_type": "code",
     "collapsed": false,
     "input": [
      "#full calculation\n",
      "fl = files.flux\n",
      "fr = files.forcing\n",
      "idx = files.idx\n",
      "huc8 = files.huc8"
     ],
     "language": "python",
     "metadata": {},
     "outputs": [],
     "prompt_number": 27
    },
    {
     "cell_type": "markdown",
     "metadata": {},
     "source": [
      "## Run the Interannual Calculation"
     ]
    },
    {
     "cell_type": "raw",
     "metadata": {},
     "source": [
      "res = view.map(interannual,fl,fr,idx,huc8)"
     ]
    },
    {
     "cell_type": "raw",
     "metadata": {},
     "source": [
      "wyears,PET,P,ET,R,sm,idx,huc8 = zip(*res.result) # unzip the results"
     ]
    },
    {
     "cell_type": "raw",
     "metadata": {},
     "source": [
      "# repack the results\n",
      "\n",
      "m,n = np.shape(wyears)\n",
      "wyears= np.reshape(wyears,[1,m*n])[0]\n",
      "PET = np.reshape(PET,[1,m*n])[0]\n",
      "P = np.reshape(P,[1,m*n])[0]\n",
      "ET = np.reshape(ET,[1,m*n])[0]\n",
      "R = np.reshape(R,[1,m*n])[0]\n",
      "sm = np.reshape(sm,[1,m*n])[0]\n",
      "idx = np.reshape(idx,[1,m*n])[0]\n",
      "huc8 = np.reshape(huc8,[1,m*n])[0]"
     ]
    },
    {
     "cell_type": "raw",
     "metadata": {},
     "source": [
      "np.savez_compressed('./WSC_HUC8_interannual.npz', wyears=wyears,PET=PET,P=P,ET=ET,R=R,sm=sm,idx=idx,huc8=huc8)"
     ]
    },
    {
     "cell_type": "markdown",
     "metadata": {},
     "source": [
      "## Run the Water Flux Calculation"
     ]
    },
    {
     "cell_type": "code",
     "collapsed": false,
     "input": [
      "res = view.map(compwflux,fl,fr,idx,huc8)"
     ],
     "language": "python",
     "metadata": {},
     "outputs": [],
     "prompt_number": 28
    },
    {
     "cell_type": "code",
     "collapsed": false,
     "input": [
      "res.progress"
     ],
     "language": "python",
     "metadata": {},
     "outputs": [
      {
       "metadata": {},
       "output_type": "pyout",
       "prompt_number": 29,
       "text": [
        "12"
       ]
      }
     ],
     "prompt_number": 29
    },
    {
     "cell_type": "code",
     "collapsed": false,
     "input": [
      "while res.ready() == False:\n",
      "    pause(0.5)\n",
      "    clear_output(wait=0.2)\n",
      "    print res.progress"
     ],
     "language": "python",
     "metadata": {},
     "outputs": [
      {
       "output_type": "stream",
       "stream": "stdout",
       "text": [
        "1507\n"
       ]
      }
     ],
     "prompt_number": 30
    },
    {
     "cell_type": "code",
     "collapsed": false,
     "input": [
      "wyears,idx,huc8,sm,rain,wflux = zip(*res.result) # unzip the results"
     ],
     "language": "python",
     "metadata": {},
     "outputs": [],
     "prompt_number": 35
    },
    {
     "cell_type": "code",
     "collapsed": false,
     "input": [
      "# repack the results\n",
      "\n",
      "m,n = np.shape(wyears)\n",
      "wyears= np.reshape(wyears,[1,m*n])[0]\n",
      "sm = np.reshape(sm,[1,m*n])[0]\n",
      "rain = np.reshape(rain,[1,m*n])[0]\n",
      "wflux = np.reshape(wflux,[1,m*n])[0]\n",
      "idx = np.reshape(idx,[1,m*n])[0]\n",
      "huc8 = np.reshape(huc8,[1,m*n])[0]"
     ],
     "language": "python",
     "metadata": {},
     "outputs": [],
     "prompt_number": 36
    },
    {
     "cell_type": "code",
     "collapsed": false,
     "input": [
      "np.savez_compressed('./WSC_HUC8_interannual_wflux.npz', wyears=wyears,sm=sm,rain=rain,wflux=wflux,idx=idx,huc8=huc8)"
     ],
     "language": "python",
     "metadata": {},
     "outputs": [],
     "prompt_number": 38
    }
   ],
   "metadata": {}
  }
 ]
}