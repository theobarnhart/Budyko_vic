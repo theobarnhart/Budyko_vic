{
 "cells": [
  {
   "cell_type": "markdown",
   "metadata": {},
   "source": [
    "## Script to calculate the long term and shorter term runoff ratio from the VIC "
   ]
  },
  {
   "cell_type": "code",
   "execution_count": 1,
   "metadata": {
    "collapsed": false
   },
   "outputs": [],
   "source": [
    "import numpy as np\n",
    "import pandas as pd\n",
    "from IPython import parallel as pr"
   ]
  },
  {
   "cell_type": "code",
   "execution_count": 2,
   "metadata": {
    "collapsed": false
   },
   "outputs": [],
   "source": [
    "c = pr.Client() # start the parallel environment"
   ]
  },
  {
   "cell_type": "code",
   "execution_count": 3,
   "metadata": {
    "collapsed": false
   },
   "outputs": [
    {
     "data": {
      "text/plain": [
       "[0, 1, 2, 3, 4, 5, 6, 7]"
      ]
     },
     "execution_count": 3,
     "metadata": {},
     "output_type": "execute_result"
    }
   ],
   "source": [
    "c.ids # check the number of engines available"
   ]
  },
  {
   "cell_type": "code",
   "execution_count": 12,
   "metadata": {
    "collapsed": false
   },
   "outputs": [],
   "source": [
    "view = c.load_balanced_view([0,1,2,3]) # access the first 4 engines"
   ]
  },
  {
   "cell_type": "code",
   "execution_count": 13,
   "metadata": {
    "collapsed": false
   },
   "outputs": [
    {
     "data": {
      "text/plain": [
       "[0, 1, 2, 3]"
      ]
     },
     "execution_count": 13,
     "metadata": {},
     "output_type": "execute_result"
    }
   ],
   "source": [
    "view.targets # check what you are mapping to"
   ]
  },
  {
   "cell_type": "code",
   "execution_count": 14,
   "metadata": {
    "collapsed": false
   },
   "outputs": [],
   "source": [
    "%%px # load the working environment\n",
    "import pandas as pd\n",
    "import numpy as np\n",
    "dates = pd.read_pickle('/Volumes/data/Theo/projects/Budyko_vic/timecode.pcl')\n",
    "fluxes_columns = ['y','m','d','ET','R','BF','sm1','sm2','sm3','SWE','Cs','Qs','Ql','Qg','NR','PEText','PETtrc','PETsrc']\n",
    "forcing_columns = ['P','Tmax','Tmin','W']\n",
    "# bring in the data frame of file paths\n",
    "files = pd.read_pickle('/Volumes/data/Theo/projects/Budyko_vic/forcing_fluxes_filenames_lat_lon_index.df') \n",
    "\n",
    "cells = pd.DataFrame()\n",
    "data = np.load('/Volumes/data/Theo/projects/Budyko_vic/data/VIC_cells_overlap.npz') # load the soil data\n",
    "\n",
    "# loop through the data frame\n",
    "for key in data.keys():\n",
    "    cells[key] = data[key]\n",
    "\n",
    "# temporal bounds of the Newman et al. [2015] data set\n",
    "strt = '1980-1-1'\n",
    "nd = '2011-12-23'    \n",
    "    \n",
    "#def fluxproc(fl):\n",
    "#    flux = pd.read_table(fl, sep='\\t', names = fluxes_columns) # read fluxes\n",
    "#    flux.index = pd.DatetimeIndex(dates)\n",
    "#    \n",
    "#    flux['discharge'] = flux.BF+flux.R # compute the total discharge [mm]\n",
    "#    \n",
    "#    return flux.loc[strt:nd,'discharge'].sum()\n",
    "\n",
    "def forceproc(fr):\n",
    "    force = pd.read_table(fr,sep=' ', names = forcing_columns) # read forcings\n",
    "    force.index = pd.DatetimeIndex(dates)\n",
    "    \n",
    "    return force.loc[strt:nd,'P'].sum()"
   ]
  },
  {
   "cell_type": "code",
   "execution_count": 15,
   "metadata": {
    "collapsed": false
   },
   "outputs": [],
   "source": [
    "strt = '1980-1-1'\n",
    "nd = '2011-12-23'    \n",
    "    \n",
    "#def fluxproc(fl):\n",
    "#    flux = pd.read_table(fl, sep='\\t', names = fluxes_columns) # read fluxes\n",
    "#    flux.index = pd.DatetimeIndex(dates)\n",
    "#    \n",
    "#    flux['discharge'] = flux.BF+flux.R # compute the total discharge [mm]\n",
    "#    \n",
    "#    return flux.loc[strt:nd,'discharge'].sum()\n",
    "\n",
    "def forceproc(fr):\n",
    "    force = pd.read_table(fr,sep=' ', names = forcing_columns) # read forcings\n",
    "    force.index = pd.DatetimeIndex(dates)\n",
    "    \n",
    "    return force.loc[strt:nd,'P'].sum()"
   ]
  },
  {
   "cell_type": "code",
   "execution_count": 16,
   "metadata": {
    "collapsed": false
   },
   "outputs": [],
   "source": [
    "dates = pd.read_pickle('/Volumes/data/Theo/projects/Budyko_vic/timecode.pcl')\n",
    "fluxes_columns = ['y','m','d','ET','R','BF','sm1','sm2','sm3','SWE','Cs','Qs','Ql','Qg','NR','PEText','PETtrc','PETsrc']\n",
    "forcing_columns = ['P','Tmax','Tmin','W']"
   ]
  },
  {
   "cell_type": "code",
   "execution_count": 17,
   "metadata": {
    "collapsed": false
   },
   "outputs": [],
   "source": [
    "files = pd.read_pickle('./forcing_fluxes_filenames_lat_lon_index.df') # bring in the data frame of file paths"
   ]
  },
  {
   "cell_type": "code",
   "execution_count": 18,
   "metadata": {
    "collapsed": false
   },
   "outputs": [],
   "source": [
    "cells = pd.DataFrame()\n",
    "data = np.load('./data/VIC_cells_overlap.npz') # load the vic cells and basins\n",
    "\n",
    "# loop through the SWE data\n",
    "\n",
    "for key in data.keys():\n",
    "    cells[key] = data[key]"
   ]
  },
  {
   "cell_type": "code",
   "execution_count": 19,
   "metadata": {
    "collapsed": false
   },
   "outputs": [
    {
     "data": {
      "text/html": [
       "<div style=\"max-height:1000px;max-width:1500px;overflow:auto;\">\n",
       "<table border=\"1\" class=\"dataframe\">\n",
       "  <thead>\n",
       "    <tr style=\"text-align: right;\">\n",
       "      <th></th>\n",
       "      <th>basins</th>\n",
       "      <th>cells</th>\n",
       "      <th>percents</th>\n",
       "    </tr>\n",
       "  </thead>\n",
       "  <tbody>\n",
       "    <tr>\n",
       "      <th>0</th>\n",
       "      <td>1013500</td>\n",
       "      <td>220561</td>\n",
       "      <td>0.03</td>\n",
       "    </tr>\n",
       "    <tr>\n",
       "      <th>1</th>\n",
       "      <td>1013500</td>\n",
       "      <td>221439</td>\n",
       "      <td>0.04</td>\n",
       "    </tr>\n",
       "    <tr>\n",
       "      <th>2</th>\n",
       "      <td>1013500</td>\n",
       "      <td>221442</td>\n",
       "      <td>0.07</td>\n",
       "    </tr>\n",
       "    <tr>\n",
       "      <th>3</th>\n",
       "      <td>1013500</td>\n",
       "      <td>221443</td>\n",
       "      <td>0.67</td>\n",
       "    </tr>\n",
       "    <tr>\n",
       "      <th>4</th>\n",
       "      <td>1013500</td>\n",
       "      <td>221444</td>\n",
       "      <td>0.74</td>\n",
       "    </tr>\n",
       "  </tbody>\n",
       "</table>\n",
       "</div>"
      ],
      "text/plain": [
       "    basins   cells  percents\n",
       "0  1013500  220561      0.03\n",
       "1  1013500  221439      0.04\n",
       "2  1013500  221442      0.07\n",
       "3  1013500  221443      0.67\n",
       "4  1013500  221444      0.74"
      ]
     },
     "execution_count": 19,
     "metadata": {},
     "output_type": "execute_result"
    }
   ],
   "source": [
    "cells.head()"
   ]
  },
  {
   "cell_type": "code",
   "execution_count": 20,
   "metadata": {
    "collapsed": false
   },
   "outputs": [],
   "source": [
    "basins = np.unique(cells.basins) # create a list of unique basins"
   ]
  },
  {
   "cell_type": "code",
   "execution_count": 21,
   "metadata": {
    "collapsed": false
   },
   "outputs": [
    {
     "data": {
      "text/plain": [
       "677"
      ]
     },
     "execution_count": 21,
     "metadata": {},
     "output_type": "execute_result"
    }
   ],
   "source": [
    "len(basins)"
   ]
  },
  {
   "cell_type": "code",
   "execution_count": 22,
   "metadata": {
    "collapsed": false
   },
   "outputs": [],
   "source": [
    "# define a long term P function\n",
    "def ltp(basin):\n",
    "\n",
    "\n",
    "    viccells = cells.loc[cells.basins==basin,'cells'] # pull the cell index numbers\n",
    "    vicpercs = cells.loc[cells.basins==basin,'percents'] # pull the cell percents\n",
    "    \n",
    "    # create lists of file paths for forcing and flux files\n",
    "    fluxfiles = []\n",
    "    forcefiles = []\n",
    "    \n",
    "    for cell in viccells:\n",
    "        fluxfiles.extend(list(files.loc[files.indexer==cell,'flux'].as_matrix()))\n",
    "        forcefiles.extend(list(files.loc[files.indexer==cell,'forcing'].as_matrix()))\n",
    "    \n",
    "    # create a data frame for each basin\n",
    "    temp = pd.DataFrame({'cellid':viccells,'cellperc':vicpercs,'force':forcefiles}) \n",
    "    \n",
    "    temp['P'] = temp.force.map(forceproc)\n",
    "    \n",
    "    # assign column the weights that would be used for normal averaging\n",
    "    temp['aveweight'] = 1./len(temp)\n",
    "    \n",
    "    # compute the final weight for each cell based on the number of cells and the\n",
    "    # percent of the cell that falls within the basin\n",
    "    temp['weight'] = temp.aveweight*temp.cellperc  \n",
    "    \n",
    "    temp['P2'] = temp.P*temp.weight # multiply P by the final weight\n",
    "    \n",
    "    P = temp.P2.sum() # compute the sum of the weighted precipitation\n",
    "    \n",
    "    return basin,P"
   ]
  },
  {
   "cell_type": "code",
   "execution_count": 23,
   "metadata": {
    "collapsed": false
   },
   "outputs": [],
   "source": [
    "res = view.map(ltp,basins) # map the function to all the basins over the engines"
   ]
  },
  {
   "cell_type": "code",
   "execution_count": 41,
   "metadata": {
    "collapsed": false
   },
   "outputs": [
    {
     "data": {
      "text/plain": [
       "True"
      ]
     },
     "execution_count": 41,
     "metadata": {},
     "output_type": "execute_result"
    }
   ],
   "source": [
    "res.ready()"
   ]
  },
  {
   "cell_type": "code",
   "execution_count": 40,
   "metadata": {
    "collapsed": false
   },
   "outputs": [
    {
     "data": {
      "text/plain": [
       "677"
      ]
     },
     "execution_count": 40,
     "metadata": {},
     "output_type": "execute_result"
    }
   ],
   "source": [
    "res.progress"
   ]
  },
  {
   "cell_type": "code",
   "execution_count": 43,
   "metadata": {
    "collapsed": false
   },
   "outputs": [
    {
     "data": {
      "text/plain": [
       "7.1706211500000006"
      ]
     },
     "execution_count": 43,
     "metadata": {},
     "output_type": "execute_result"
    }
   ],
   "source": [
    "res.elapsed/60."
   ]
  },
  {
   "cell_type": "code",
   "execution_count": 44,
   "metadata": {
    "collapsed": false
   },
   "outputs": [],
   "source": [
    "basins,LTP = zip(*res.result)"
   ]
  },
  {
   "cell_type": "code",
   "execution_count": 46,
   "metadata": {
    "collapsed": false
   },
   "outputs": [],
   "source": [
    "np.savez_compressed('/Volumes/data/Theo/projects/Budyko_vic/data/ground_truth_ltp.npz',LTP=LTP,basin=basins)"
   ]
  }
 ],
 "metadata": {
  "kernelspec": {
   "display_name": "Python 2",
   "language": "python",
   "name": "python2"
  },
  "language_info": {
   "codemirror_mode": {
    "name": "ipython",
    "version": 2
   },
   "file_extension": ".py",
   "mimetype": "text/x-python",
   "name": "python",
   "nbconvert_exporter": "python",
   "pygments_lexer": "ipython2",
   "version": "2.7.11"
  }
 },
 "nbformat": 4,
 "nbformat_minor": 0
}
