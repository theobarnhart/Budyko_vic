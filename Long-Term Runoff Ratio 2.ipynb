{
 "metadata": {
  "name": "",
  "signature": "sha256:96b108fbc6a4618dd652c4513614d550aa96b34ab49a33168b17b87ed0f9f901"
 },
 "nbformat": 3,
 "nbformat_minor": 0,
 "worksheets": [
  {
   "cells": [
    {
     "cell_type": "markdown",
     "metadata": {},
     "source": [
      "## Script to calculate the long term runoff ratio from the VIC data"
     ]
    },
    {
     "cell_type": "code",
     "collapsed": false,
     "input": [
      "import numpy as np\n",
      "import pandas as pd\n",
      "from IPython import parallel as pr"
     ],
     "language": "python",
     "metadata": {},
     "outputs": [],
     "prompt_number": 1
    },
    {
     "cell_type": "code",
     "collapsed": false,
     "input": [
      "c = pr.Client() # start the parallel environment"
     ],
     "language": "python",
     "metadata": {},
     "outputs": [],
     "prompt_number": 2
    },
    {
     "cell_type": "code",
     "collapsed": false,
     "input": [
      "c.ids # check the number of engines found"
     ],
     "language": "python",
     "metadata": {},
     "outputs": [
      {
       "metadata": {},
       "output_type": "pyout",
       "prompt_number": 3,
       "text": [
        "[0, 1, 2, 3]"
       ]
      }
     ],
     "prompt_number": 3
    },
    {
     "cell_type": "code",
     "collapsed": false,
     "input": [
      "view = c.load_balanced_view() # create a load balanced view to the engines"
     ],
     "language": "python",
     "metadata": {},
     "outputs": [],
     "prompt_number": 4
    },
    {
     "cell_type": "code",
     "collapsed": false,
     "input": [
      "%%px # load the working environment onto each engine\n",
      "import pandas as pd\n",
      "import numpy as np\n",
      "dates = pd.read_pickle('/Volumes/data/Theo/projects/Budyko_vic/timecode.pcl')\n",
      "fluxes_columns = ['y','m','d','ET','R','BF','sm1','sm2','sm3','SWE','Cs','Qs','Ql','Qg','NR','PEText','PETtrc','PETsrc']\n",
      "forcing_columns = ['P','Tmax','Tmin','W']\n",
      "# bring in the data frame of file paths\n",
      "files = pd.read_pickle('/Volumes/data/Theo/projects/Budyko_vic/forcing_fluxes_filenames_lat_lon_index.df') \n",
      "\n",
      "cells = pd.DataFrame()\n",
      "data = np.load('/Volumes/data/Theo/projects/Budyko_vic/data/VIC_cells_overlap.npz') # load the soil data\n",
      "\n",
      "# loop through the data frame\n",
      "for key in data.keys():\n",
      "    cells[key] = data[key]\n",
      "\n",
      "# temporal bounds of the Newman et al. [2015] data set\n",
      "strt = '1980-1-1'\n",
      "nd = '2011-12-23'    \n",
      "\n",
      "# define a function to read in the flux file and return the sum of the discharge\n",
      "def fluxproc(fl):\n",
      "    flux = pd.read_table(fl, sep='\\t', names = fluxes_columns) # read fluxes\n",
      "    flux.index = pd.DatetimeIndex(dates)\n",
      "    \n",
      "    flux['discharge'] = flux.BF+flux.R # compute the total discharge [mm]\n",
      "    \n",
      "    return flux.loc[strt:nd,'discharge'].sum()\n",
      "\n",
      "# define a function to read in the forcing file and return the sum of the precip\n",
      "def forceproc(fr):\n",
      "    force = pd.read_table(fr,sep=' ', names = forcing_columns) # read forcings\n",
      "    force.index = pd.DatetimeIndex(dates)\n",
      "    \n",
      "    return force.loc[strt:nd,'P'].sum()"
     ],
     "language": "python",
     "metadata": {},
     "outputs": [],
     "prompt_number": 5
    },
    {
     "cell_type": "code",
     "collapsed": false,
     "input": [
      "strt = '1980-1-1'\n",
      "nd = '2011-12-23'    \n",
      "\n",
      "# define a function to read in the flux file and return the discharge\n",
      "def fluxproc(fl):\n",
      "    flux = pd.read_table(fl, sep='\\t', names = fluxes_columns) # read fluxes\n",
      "    flux.index = pd.DatetimeIndex(dates)\n",
      "    \n",
      "    flux['discharge'] = flux.BF+flux.R # compute the total discharge [mm]\n",
      "    \n",
      "    return flux.loc[strt:nd,'discharge'].sum()\n",
      "\n",
      "# define a function to read in the forcing file and return the sum of the precip\n",
      "def forceproc(fr):\n",
      "    force = pd.read_table(fr,sep=' ', names = forcing_columns) # read forcings\n",
      "    force.index = pd.DatetimeIndex(dates)\n",
      "    \n",
      "    return force.loc[strt:nd,'P'].sum()"
     ],
     "language": "python",
     "metadata": {},
     "outputs": [],
     "prompt_number": 6
    },
    {
     "cell_type": "code",
     "collapsed": false,
     "input": [
      "dates = pd.read_pickle('/Volumes/data/Theo/projects/Budyko_vic/timecode.pcl')\n",
      "fluxes_columns = ['y','m','d','ET','R','BF','sm1','sm2','sm3','SWE','Cs','Qs','Ql','Qg','NR','PEText','PETtrc','PETsrc']\n",
      "forcing_columns = ['P','Tmax','Tmin','W']"
     ],
     "language": "python",
     "metadata": {},
     "outputs": [],
     "prompt_number": 7
    },
    {
     "cell_type": "code",
     "collapsed": false,
     "input": [
      "files = pd.read_pickle('./forcing_fluxes_filenames_lat_lon_index.df') # bring in the data frame of file paths"
     ],
     "language": "python",
     "metadata": {},
     "outputs": [],
     "prompt_number": 8
    },
    {
     "cell_type": "code",
     "collapsed": false,
     "input": [
      "cells = pd.DataFrame()\n",
      "data = np.load('./data/VIC_cells_overlap.npz') # load the soil data\n",
      "\n",
      "# loop through the SWE data\n",
      "\n",
      "for key in data.keys():\n",
      "    cells[key] = data[key]"
     ],
     "language": "python",
     "metadata": {},
     "outputs": [],
     "prompt_number": 9
    },
    {
     "cell_type": "code",
     "collapsed": false,
     "input": [
      "cells.head()"
     ],
     "language": "python",
     "metadata": {},
     "outputs": [
      {
       "html": [
        "<div style=\"max-height:1000px;max-width:1500px;overflow:auto;\">\n",
        "<table border=\"1\" class=\"dataframe\">\n",
        "  <thead>\n",
        "    <tr style=\"text-align: right;\">\n",
        "      <th></th>\n",
        "      <th>basins</th>\n",
        "      <th>cells</th>\n",
        "      <th>percents</th>\n",
        "    </tr>\n",
        "  </thead>\n",
        "  <tbody>\n",
        "    <tr>\n",
        "      <th>0</th>\n",
        "      <td>1013500</td>\n",
        "      <td>220561</td>\n",
        "      <td>0.03</td>\n",
        "    </tr>\n",
        "    <tr>\n",
        "      <th>1</th>\n",
        "      <td>1013500</td>\n",
        "      <td>221439</td>\n",
        "      <td>0.04</td>\n",
        "    </tr>\n",
        "    <tr>\n",
        "      <th>2</th>\n",
        "      <td>1013500</td>\n",
        "      <td>221442</td>\n",
        "      <td>0.07</td>\n",
        "    </tr>\n",
        "    <tr>\n",
        "      <th>3</th>\n",
        "      <td>1013500</td>\n",
        "      <td>221443</td>\n",
        "      <td>0.67</td>\n",
        "    </tr>\n",
        "    <tr>\n",
        "      <th>4</th>\n",
        "      <td>1013500</td>\n",
        "      <td>221444</td>\n",
        "      <td>0.74</td>\n",
        "    </tr>\n",
        "  </tbody>\n",
        "</table>\n",
        "</div>"
       ],
       "metadata": {},
       "output_type": "pyout",
       "prompt_number": 10,
       "text": [
        "    basins   cells  percents\n",
        "0  1013500  220561      0.03\n",
        "1  1013500  221439      0.04\n",
        "2  1013500  221442      0.07\n",
        "3  1013500  221443      0.67\n",
        "4  1013500  221444      0.74"
       ]
      }
     ],
     "prompt_number": 10
    },
    {
     "cell_type": "code",
     "collapsed": false,
     "input": [
      "basins = np.unique(cells.basins) # create a list of unique basins"
     ],
     "language": "python",
     "metadata": {},
     "outputs": [],
     "prompt_number": 11
    },
    {
     "cell_type": "code",
     "collapsed": false,
     "input": [
      "len(basins)"
     ],
     "language": "python",
     "metadata": {},
     "outputs": [
      {
       "metadata": {},
       "output_type": "pyout",
       "prompt_number": 12,
       "text": [
        "677"
       ]
      }
     ],
     "prompt_number": 12
    },
    {
     "cell_type": "code",
     "collapsed": false,
     "input": [
      "#RRs = []\n",
      "#bsns = []\n",
      "\n",
      "def runoffratios(basin):\n",
      "#for basin in basins[0:5]:\n",
      "\n",
      "    viccells = cells.loc[cells.basins==basin,'cells'] # pull the cell index numbers for the basin\n",
      "    vicpercs = cells.loc[cells.basins==basin,'percents'] # pull the cell percents for the cells\n",
      "    \n",
      "    # find the paths for each cell\n",
      "    fluxfiles = []\n",
      "    forcefiles = []\n",
      "    \n",
      "    for cell in viccells:\n",
      "        fluxfiles.extend(list(files.loc[files.indexer==cell,'flux'].as_matrix()))\n",
      "        forcefiles.extend(list(files.loc[files.indexer==cell,'forcing'].as_matrix()))\n",
      "    \n",
      "    # create a data frame for each basin\n",
      "    temp = pd.DataFrame({'cellid':viccells,'cellperc':vicpercs,'flux':fluxfiles,'force':forcefiles}) \n",
      "    \n",
      "    # map the flux and force processing functions onto each cell\n",
      "    temp['Q'] = temp.flux.map(fluxproc)\n",
      "    temp['P'] = temp.force.map(forceproc)\n",
      "    \n",
      "    # multiply for by the cooresponding precent\n",
      "    temp['Q2'] = temp.Q*temp.cellperc\n",
      "    temp['P2'] = temp.P*temp.cellperc\n",
      "    \n",
      "    # calculate the runoff ratio\n",
      "    RR = temp.Q2.sum()/temp.P2.sum()\n",
      "    \n",
      "    return basin,RR\n",
      "    \n",
      "    # save results\n",
      "    #RRs.append(RR)\n",
      "    #bsns.append(basin)"
     ],
     "language": "python",
     "metadata": {},
     "outputs": [],
     "prompt_number": 13
    },
    {
     "cell_type": "code",
     "collapsed": false,
     "input": [
      "# map the runoff ratio function to all the basins over the ipython engines\n",
      "res = view.map(runoffratios,basins) "
     ],
     "language": "python",
     "metadata": {},
     "outputs": [],
     "prompt_number": 15
    },
    {
     "cell_type": "code",
     "collapsed": false,
     "input": [
      "res.ready()"
     ],
     "language": "python",
     "metadata": {},
     "outputs": [
      {
       "metadata": {},
       "output_type": "pyout",
       "prompt_number": 35,
       "text": [
        "False"
       ]
      }
     ],
     "prompt_number": 35
    },
    {
     "cell_type": "code",
     "collapsed": false,
     "input": [
      "res.progress"
     ],
     "language": "python",
     "metadata": {},
     "outputs": [
      {
       "metadata": {},
       "output_type": "pyout",
       "prompt_number": 38,
       "text": [
        "677"
       ]
      }
     ],
     "prompt_number": 38
    },
    {
     "cell_type": "code",
     "collapsed": false,
     "input": [
      "res.elapsed/60./60"
     ],
     "language": "python",
     "metadata": {},
     "outputs": [
      {
       "metadata": {},
       "output_type": "pyout",
       "prompt_number": 40,
       "text": [
        "11.697183711111112"
       ]
      }
     ],
     "prompt_number": 40
    },
    {
     "cell_type": "code",
     "collapsed": false,
     "input": [
      "basins,RRs = zip(*res.result)"
     ],
     "language": "python",
     "metadata": {},
     "outputs": [],
     "prompt_number": 41
    },
    {
     "cell_type": "code",
     "collapsed": false,
     "input": [
      "RRs"
     ],
     "language": "python",
     "metadata": {},
     "outputs": [
      {
       "metadata": {},
       "output_type": "pyout",
       "prompt_number": 62,
       "text": [
        "(0.45874429241895587,\n",
        " 0.48969046342328015,\n",
        " 0.46889487231731991,\n",
        " 0.50980375995542082,\n",
        " 0.5394630979224373)"
       ]
      }
     ],
     "prompt_number": 62
    },
    {
     "cell_type": "code",
     "collapsed": false,
     "input": [
      "np.savez_compressed('/Volumes/data/Theo/projects/Budyko_vic/data/ground_truth_runoff_ratios.npz',RR=RRs,basin=basins)"
     ],
     "language": "python",
     "metadata": {},
     "outputs": [],
     "prompt_number": 42
    },
    {
     "cell_type": "code",
     "collapsed": false,
     "input": [],
     "language": "python",
     "metadata": {},
     "outputs": []
    }
   ],
   "metadata": {}
  }
 ]
}