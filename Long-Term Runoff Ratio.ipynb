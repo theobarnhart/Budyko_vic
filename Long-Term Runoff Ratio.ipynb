{
 "metadata": {
  "name": "",
  "signature": "sha256:6f55dd8cb052a4b567b072e502ebb99dd3ce5e7f68db30b0183d25fc02004ea6"
 },
 "nbformat": 3,
 "nbformat_minor": 0,
 "worksheets": [
  {
   "cells": [
    {
     "cell_type": "markdown",
     "metadata": {},
     "source": [
      "## Script to calculate the long term and shorter term runoff ratio from the VIC "
     ]
    },
    {
     "cell_type": "code",
     "collapsed": false,
     "input": [
      "import numpy as np\n",
      "import pandas as pd\n",
      "from IPython import parallel as pr"
     ],
     "language": "python",
     "metadata": {},
     "outputs": [],
     "prompt_number": 1
    },
    {
     "cell_type": "code",
     "collapsed": false,
     "input": [
      "c = pr.Client()"
     ],
     "language": "python",
     "metadata": {},
     "outputs": [],
     "prompt_number": 2
    },
    {
     "cell_type": "code",
     "collapsed": false,
     "input": [
      "c.ids"
     ],
     "language": "python",
     "metadata": {},
     "outputs": [
      {
       "metadata": {},
       "output_type": "pyout",
       "prompt_number": 3,
       "text": [
        "[0, 1, 2, 3]"
       ]
      }
     ],
     "prompt_number": 3
    },
    {
     "cell_type": "code",
     "collapsed": false,
     "input": [
      "view = c.load_balanced_view()"
     ],
     "language": "python",
     "metadata": {},
     "outputs": [],
     "prompt_number": 4
    },
    {
     "cell_type": "code",
     "collapsed": false,
     "input": [
      "%%px\n",
      "import pandas as pd\n",
      "import numpy as np\n",
      "dates = pd.read_pickle('/Volumes/data/Theo/projects/Budyko_vic/timecode.pcl')\n",
      "fluxes_columns = ['y','m','d','ET','R','BF','sm1','sm2','sm3','SWE','Cs','Qs','Ql','Qg','NR','PEText','PETtrc','PETsrc']\n",
      "forcing_columns = ['P','Tmax','Tmin','W']\n",
      "files = pd.read_pickle('/Volumes/data/Theo/projects/Budyko_vic/forcing_fluxes_filenames_lat_lon_index.df') # bring in the data frame of file paths"
     ],
     "language": "python",
     "metadata": {},
     "outputs": [],
     "prompt_number": 5
    },
    {
     "cell_type": "code",
     "collapsed": false,
     "input": [
      "dates = pd.read_pickle('/Volumes/data/Theo/projects/Budyko_vic/timecode.pcl')\n",
      "fluxes_columns = ['y','m','d','ET','R','BF','sm1','sm2','sm3','SWE','Cs','Qs','Ql','Qg','NR','PEText','PETtrc','PETsrc']\n",
      "forcing_columns = ['P','Tmax','Tmin','W']"
     ],
     "language": "python",
     "metadata": {},
     "outputs": [],
     "prompt_number": 6
    },
    {
     "cell_type": "code",
     "collapsed": false,
     "input": [
      "files = pd.read_pickle('./forcing_fluxes_filenames_lat_lon_index.df') # bring in the data frame of file paths"
     ],
     "language": "python",
     "metadata": {},
     "outputs": [],
     "prompt_number": 7
    },
    {
     "cell_type": "code",
     "collapsed": false,
     "input": [
      "cells = pd.DataFrame()\n",
      "data = np.load('./data/VIC_cells_overlap.npz') # load the soil data\n",
      "\n",
      "# loop through the SWE data\n",
      "\n",
      "for key in data.keys():\n",
      "    cells[key] = data[key]"
     ],
     "language": "python",
     "metadata": {},
     "outputs": [],
     "prompt_number": 8
    },
    {
     "cell_type": "code",
     "collapsed": false,
     "input": [
      "cells2 = np.unique(cells.cells.as_matrix())"
     ],
     "language": "python",
     "metadata": {},
     "outputs": [],
     "prompt_number": 9
    },
    {
     "cell_type": "code",
     "collapsed": false,
     "input": [
      "len(cells2)"
     ],
     "language": "python",
     "metadata": {},
     "outputs": [
      {
       "metadata": {},
       "output_type": "pyout",
       "prompt_number": 10,
       "text": [
        "19477"
       ]
      }
     ],
     "prompt_number": 10
    },
    {
     "cell_type": "code",
     "collapsed": false,
     "input": [
      "#STRRs = []\n",
      "#LTRRs = []\n",
      "#idx = []\n",
      "\n",
      "def runoffratios(id2):\n",
      "#for id2 in cells2[1:10]:\n",
      "    \n",
      "    # find the input files\n",
      "    fl = list(files.loc[files.indexer==id2,'flux'].as_matrix())\n",
      "    fr = list(files.loc[files.indexer==id2,'forcing'].as_matrix())\n",
      "    \n",
      "    flux = pd.read_table(fl[0], sep='\\t', names = fluxes_columns) # read fluxes\n",
      "    flux.index = pd.DatetimeIndex(dates)\n",
      "    \n",
      "    force = pd.read_table(fr[0],sep=' ', names = forcing_columns) # read forcings\n",
      "    force.index = pd.DatetimeIndex(dates)\n",
      "\n",
      "    flux['discharge'] = flux.BF+flux.R # compute the total discharge [mm]\n",
      "    \n",
      "    # compute the long term Runoff Ratio\n",
      "    LTRR = flux.discharge.sum()/force.P.sum()\n",
      "    \n",
      "    # compute the Runoff Ratio for the period the newman data set covers\n",
      "    strt = '1980-1-1'\n",
      "    nd = '2011-12-23'\n",
      "    \n",
      "    force = force.loc[strt:nd] # crop the data\n",
      "    flux = flux.loc[strt:nd]\n",
      "    \n",
      "    STRR = flux.discharge.sum()/force.P.sum()\n",
      "    \n",
      "    # save results\n",
      "    #STRRs.append(STRR)\n",
      "    #LTRRs.append(LTRR)\n",
      "    #idx.append(id2)\n",
      "    return id2,LTRR,STRR"
     ],
     "language": "python",
     "metadata": {},
     "outputs": [],
     "prompt_number": 11
    },
    {
     "cell_type": "code",
     "collapsed": false,
     "input": [
      "res = view.map(runoffratios,cells2)"
     ],
     "language": "python",
     "metadata": {},
     "outputs": [],
     "prompt_number": 24
    },
    {
     "cell_type": "code",
     "collapsed": false,
     "input": [
      "res.ready()"
     ],
     "language": "python",
     "metadata": {},
     "outputs": [
      {
       "metadata": {},
       "output_type": "pyout",
       "prompt_number": 33,
       "text": [
        "True"
       ]
      }
     ],
     "prompt_number": 33
    },
    {
     "cell_type": "code",
     "collapsed": false,
     "input": [
      "res.progress"
     ],
     "language": "python",
     "metadata": {},
     "outputs": [
      {
       "metadata": {},
       "output_type": "pyout",
       "prompt_number": 35,
       "text": [
        "19477"
       ]
      }
     ],
     "prompt_number": 35
    },
    {
     "cell_type": "code",
     "collapsed": false,
     "input": [
      "id2,LTRR,STRR = zip(*res.result)"
     ],
     "language": "python",
     "metadata": {},
     "outputs": [],
     "prompt_number": 34
    },
    {
     "cell_type": "code",
     "collapsed": false,
     "input": [
      "np.savez_compressed('/Volumes/data/Theo/projects/Budyko_vic/data/ground_truth_runoff_ratios.npz',STRRs = STRR,LTRR=LTRR,idx=id2)"
     ],
     "language": "python",
     "metadata": {},
     "outputs": [],
     "prompt_number": 37
    }
   ],
   "metadata": {}
  }
 ]
}