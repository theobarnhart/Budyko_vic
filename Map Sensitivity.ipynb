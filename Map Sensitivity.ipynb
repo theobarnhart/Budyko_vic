{
 "cells": [
  {
   "cell_type": "code",
   "execution_count": 1,
   "metadata": {
    "collapsed": false
   },
   "outputs": [],
   "source": [
    "import numpy as np\n",
    "import pandas as pd"
   ]
  },
  {
   "cell_type": "code",
   "execution_count": 2,
   "metadata": {
    "collapsed": false
   },
   "outputs": [
    {
     "name": "stdout",
     "output_type": "stream",
     "text": [
      "-rwx------  1 barnhatb  staff    11M Mar  9 13:27 \u001b[31mbudyko_working_er.hdf\u001b[m\u001b[m\r\n",
      "-rwx------  1 barnhatb  staff   6.4M Mar 15 13:33 \u001b[31mbudyko_working_er_sm_all.hdf\u001b[m\u001b[m\r\n",
      "-rwx------  1 barnhatb  staff   6.3M Mar 15 13:34 \u001b[31mbudyko_working_er_sm.hdf\u001b[m\u001b[m\r\n",
      "-rwx------  1 barnhatb  staff   6.6M Mar 18 16:55 \u001b[31mbudyko_working_er_sm2_all.hdf\u001b[m\u001b[m\r\n",
      "-rwx------  1 barnhatb  staff   6.6M Mar 18 16:55 \u001b[31mbudyko_working_er_sm2.hdf\u001b[m\u001b[m\r\n",
      "-rwx------  1 barnhatb  staff    99M Apr  2 11:32 \u001b[31mbudyko_working.hdf\u001b[m\u001b[m\r\n",
      "-rwx------  1 barnhatb  staff    13M Apr  2 11:36 \u001b[31mbudyko_working_er_all.hdf\u001b[m\u001b[m\r\n"
     ]
    }
   ],
   "source": [
    "!ls -ltrh *.hdf"
   ]
  },
  {
   "cell_type": "code",
   "execution_count": 3,
   "metadata": {
    "collapsed": false
   },
   "outputs": [],
   "source": [
    "df = pd.read_hdf('./budyko_working.hdf','df')"
   ]
  },
  {
   "cell_type": "code",
   "execution_count": 4,
   "metadata": {
    "collapsed": false
   },
   "outputs": [
    {
     "data": {
      "text/html": [
       "<div style=\"max-height:1000px;max-width:1500px;overflow:auto;\">\n",
       "<table border=\"1\" class=\"dataframe\">\n",
       "  <thead>\n",
       "    <tr style=\"text-align: right;\">\n",
       "      <th></th>\n",
       "      <th></th>\n",
       "      <th>frlon</th>\n",
       "      <th>PETpenmanvic</th>\n",
       "      <th>P</th>\n",
       "      <th>ET</th>\n",
       "      <th>frlat</th>\n",
       "      <th>Sf</th>\n",
       "      <th>meanablseason</th>\n",
       "      <th>meandosnowfree</th>\n",
       "      <th>meanpeakswe</th>\n",
       "      <th>meanpeaket</th>\n",
       "      <th>...</th>\n",
       "      <th>snowmelt</th>\n",
       "      <th>Sf2</th>\n",
       "      <th>Sf1</th>\n",
       "      <th>Sf_2</th>\n",
       "      <th>Sf_1</th>\n",
       "      <th>wflux4</th>\n",
       "      <th>wflux5</th>\n",
       "      <th>rain</th>\n",
       "      <th>netSM</th>\n",
       "      <th>idx</th>\n",
       "    </tr>\n",
       "    <tr>\n",
       "      <th>latitude</th>\n",
       "      <th>longitude</th>\n",
       "      <th></th>\n",
       "      <th></th>\n",
       "      <th></th>\n",
       "      <th></th>\n",
       "      <th></th>\n",
       "      <th></th>\n",
       "      <th></th>\n",
       "      <th></th>\n",
       "      <th></th>\n",
       "      <th></th>\n",
       "      <th></th>\n",
       "      <th></th>\n",
       "      <th></th>\n",
       "      <th></th>\n",
       "      <th></th>\n",
       "      <th></th>\n",
       "      <th></th>\n",
       "      <th></th>\n",
       "      <th></th>\n",
       "      <th></th>\n",
       "      <th></th>\n",
       "    </tr>\n",
       "  </thead>\n",
       "  <tbody>\n",
       "    <tr>\n",
       "      <th rowspan=\"5\" valign=\"top\">25.03125</th>\n",
       "      <th>-100.03125</th>\n",
       "      <td>-100.03125</td>\n",
       "      <td> 4.044650</td>\n",
       "      <td> 2.380122</td>\n",
       "      <td> 1.989825</td>\n",
       "      <td> 25.03125</td>\n",
       "      <td> 0.001405</td>\n",
       "      <td> 0.285714</td>\n",
       "      <td> 14.809524</td>\n",
       "      <td> 0.308465</td>\n",
       "      <td> 6.680370</td>\n",
       "      <td>...</td>\n",
       "      <td> 1.025183</td>\n",
       "      <td> 0.003792</td>\n",
       "      <td> 0.002340</td>\n",
       "      <td> 0.000067</td>\n",
       "      <td> 0.000584</td>\n",
       "      <td> 7.721596</td>\n",
       "      <td> 7.719330</td>\n",
       "      <td> 7.731232</td>\n",
       "      <td> 1.766832</td>\n",
       "      <td> 1</td>\n",
       "    </tr>\n",
       "    <tr>\n",
       "      <th>-100.09375</th>\n",
       "      <td>-100.09375</td>\n",
       "      <td> 3.991995</td>\n",
       "      <td> 2.871153</td>\n",
       "      <td> 2.254173</td>\n",
       "      <td> 25.03125</td>\n",
       "      <td> 0.001652</td>\n",
       "      <td> 0.269841</td>\n",
       "      <td> 13.000000</td>\n",
       "      <td> 0.488219</td>\n",
       "      <td> 6.671541</td>\n",
       "      <td>...</td>\n",
       "      <td> 1.755262</td>\n",
       "      <td> 0.004152</td>\n",
       "      <td> 0.002603</td>\n",
       "      <td> 0.000152</td>\n",
       "      <td> 0.000760</td>\n",
       "      <td> 9.518770</td>\n",
       "      <td> 9.515616</td>\n",
       "      <td> 9.527388</td>\n",
       "      <td> 2.759381</td>\n",
       "      <td> 2</td>\n",
       "    </tr>\n",
       "    <tr>\n",
       "      <th>-100.15625</th>\n",
       "      <td>-100.15625</td>\n",
       "      <td> 3.802503</td>\n",
       "      <td> 2.924025</td>\n",
       "      <td> 2.417331</td>\n",
       "      <td> 25.03125</td>\n",
       "      <td> 0.002934</td>\n",
       "      <td> 1.174603</td>\n",
       "      <td> 40.952381</td>\n",
       "      <td> 1.307113</td>\n",
       "      <td> 6.393477</td>\n",
       "      <td>...</td>\n",
       "      <td> 0.874662</td>\n",
       "      <td> 0.006159</td>\n",
       "      <td> 0.004277</td>\n",
       "      <td> 0.001362</td>\n",
       "      <td> 0.002033</td>\n",
       "      <td> 9.240017</td>\n",
       "      <td> 9.239107</td>\n",
       "      <td> 9.337554</td>\n",
       "      <td> 1.443875</td>\n",
       "      <td> 3</td>\n",
       "    </tr>\n",
       "    <tr>\n",
       "      <th>-100.21875</th>\n",
       "      <td>-100.21875</td>\n",
       "      <td> 3.627629</td>\n",
       "      <td> 2.321484</td>\n",
       "      <td> 2.046060</td>\n",
       "      <td> 25.03125</td>\n",
       "      <td> 0.006171</td>\n",
       "      <td> 0.539683</td>\n",
       "      <td> 21.539683</td>\n",
       "      <td> 0.825600</td>\n",
       "      <td> 6.152420</td>\n",
       "      <td>...</td>\n",
       "      <td> 1.514448</td>\n",
       "      <td> 0.011660</td>\n",
       "      <td> 0.008391</td>\n",
       "      <td> 0.003238</td>\n",
       "      <td> 0.004505</td>\n",
       "      <td> 7.564592</td>\n",
       "      <td> 7.552627</td>\n",
       "      <td> 7.577787</td>\n",
       "      <td> 2.294001</td>\n",
       "      <td> 4</td>\n",
       "    </tr>\n",
       "    <tr>\n",
       "      <th>-100.28125</th>\n",
       "      <td>-100.28125</td>\n",
       "      <td> 3.509792</td>\n",
       "      <td> 2.118430</td>\n",
       "      <td> 1.900092</td>\n",
       "      <td> 25.03125</td>\n",
       "      <td> 0.011271</td>\n",
       "      <td> 1.301587</td>\n",
       "      <td> 47.968254</td>\n",
       "      <td> 2.278933</td>\n",
       "      <td> 6.032642</td>\n",
       "      <td>...</td>\n",
       "      <td> 1.418163</td>\n",
       "      <td> 0.022706</td>\n",
       "      <td> 0.015937</td>\n",
       "      <td> 0.006083</td>\n",
       "      <td> 0.008177</td>\n",
       "      <td> 6.666998</td>\n",
       "      <td> 6.648131</td>\n",
       "      <td> 6.704189</td>\n",
       "      <td> 2.469267</td>\n",
       "      <td> 5</td>\n",
       "    </tr>\n",
       "  </tbody>\n",
       "</table>\n",
       "<p>5 rows × 80 columns</p>\n",
       "</div>"
      ],
      "text/plain": [
       "                         frlon  PETpenmanvic         P        ET     frlat  \\\n",
       "latitude longitude                                                           \n",
       "25.03125 -100.03125 -100.03125      4.044650  2.380122  1.989825  25.03125   \n",
       "         -100.09375 -100.09375      3.991995  2.871153  2.254173  25.03125   \n",
       "         -100.15625 -100.15625      3.802503  2.924025  2.417331  25.03125   \n",
       "         -100.21875 -100.21875      3.627629  2.321484  2.046060  25.03125   \n",
       "         -100.28125 -100.28125      3.509792  2.118430  1.900092  25.03125   \n",
       "\n",
       "                           Sf  meanablseason  meandosnowfree  meanpeakswe  \\\n",
       "latitude longitude                                                          \n",
       "25.03125 -100.03125  0.001405       0.285714       14.809524     0.308465   \n",
       "         -100.09375  0.001652       0.269841       13.000000     0.488219   \n",
       "         -100.15625  0.002934       1.174603       40.952381     1.307113   \n",
       "         -100.21875  0.006171       0.539683       21.539683     0.825600   \n",
       "         -100.28125  0.011271       1.301587       47.968254     2.278933   \n",
       "\n",
       "                     meanpeaket ...   snowmelt       Sf2       Sf1      Sf_2  \\\n",
       "latitude longitude              ...                                            \n",
       "25.03125 -100.03125    6.680370 ...   1.025183  0.003792  0.002340  0.000067   \n",
       "         -100.09375    6.671541 ...   1.755262  0.004152  0.002603  0.000152   \n",
       "         -100.15625    6.393477 ...   0.874662  0.006159  0.004277  0.001362   \n",
       "         -100.21875    6.152420 ...   1.514448  0.011660  0.008391  0.003238   \n",
       "         -100.28125    6.032642 ...   1.418163  0.022706  0.015937  0.006083   \n",
       "\n",
       "                         Sf_1    wflux4    wflux5      rain     netSM  idx  \n",
       "latitude longitude                                                          \n",
       "25.03125 -100.03125  0.000584  7.721596  7.719330  7.731232  1.766832    1  \n",
       "         -100.09375  0.000760  9.518770  9.515616  9.527388  2.759381    2  \n",
       "         -100.15625  0.002033  9.240017  9.239107  9.337554  1.443875    3  \n",
       "         -100.21875  0.004505  7.564592  7.552627  7.577787  2.294001    4  \n",
       "         -100.28125  0.008177  6.666998  6.648131  6.704189  2.469267    5  \n",
       "\n",
       "[5 rows x 80 columns]"
      ]
     },
     "execution_count": 4,
     "metadata": {},
     "output_type": "execute_result"
    }
   ],
   "source": [
    "df.head()"
   ]
  },
  {
   "cell_type": "code",
   "execution_count": 5,
   "metadata": {
    "collapsed": false
   },
   "outputs": [
    {
     "data": {
      "text/plain": [
       "Index([u'frlon', u'PETpenmanvic', u'P', u'ET', u'frlat', u'Sf', u'meanablseason', u'meandosnowfree', u'meanpeakswe', u'meanpeaket', u'meandopeaket', u'meanablslope', u'meandopeakswe', u'infilt', u'fs_active', u'l1_quartz', u'l3_Wpwp_FRACT', u'l3_bulkD', u'l3_init_moist', u'annual_prec', u'l2_soil_density', u'l2_Ksat', u'rough', u'l2_Wcr_FRACT', u'l2_depth', u'l2_quartz', u'l1_phi_s', u'l3_bubble', u'l1_expt', u'Ws', u'l1_Ksat', u'l1_soil_density', u'l1_resid_moisture', u'l2_phi_s', u'l2_init_moist', u'l2_expt', u'l1_init_moist', u'l1_depth', u'off_gmt', u'l3_expt', u'l3_depth', u'Dsmax', u'l1_Wpwp_FRACT', u'l3_resid_moisture', u'avg_T', u'l3_soil_density', u'l3_phi_s', u'dp', u'c', u'l2_bulkD', u'l2_bubble', u'l2_Wpwp_FRACT', u'l3_Ksat', u'l3_quartz', u'Ds', u'l1_bulkD', u'l1_bubble', u'l2_resid_moisture', u'elev', u'snow_rough', u'l1_Wcr_FRACT', u'l3_Wcr_FRACT', u'slope', u'rsquared_adj', u'intercept', u'rsquared', u'pvalue', u'w_flux', u'w_flux2', u'w_flux3', u'snowmelt', u'Sf2', u'Sf1', u'Sf_2', u'Sf_1', u'wflux4', u'wflux5', u'rain', u'netSM', u'idx'], dtype='object')"
      ]
     },
     "execution_count": 5,
     "metadata": {},
     "output_type": "execute_result"
    }
   ],
   "source": [
    "df.columns"
   ]
  },
  {
   "cell_type": "code",
   "execution_count": 6,
   "metadata": {
    "collapsed": false
   },
   "outputs": [],
   "source": [
    "df = df.loc[df.pvalue<=0.005,:] # subset only significant relationships"
   ]
  },
  {
   "cell_type": "code",
   "execution_count": 8,
   "metadata": {
    "collapsed": false
   },
   "outputs": [],
   "source": [
    "df = df.loc[df.rsquared>=0.35,:] # subset only relationships with high r2 values"
   ]
  },
  {
   "cell_type": "code",
   "execution_count": 9,
   "metadata": {
    "collapsed": false
   },
   "outputs": [
    {
     "data": {
      "text/plain": [
       "18956"
      ]
     },
     "execution_count": 9,
     "metadata": {},
     "output_type": "execute_result"
    }
   ],
   "source": [
    "len(df)"
   ]
  },
  {
   "cell_type": "code",
   "execution_count": 12,
   "metadata": {
    "collapsed": false
   },
   "outputs": [],
   "source": [
    "out = df.slope"
   ]
  },
  {
   "cell_type": "code",
   "execution_count": 13,
   "metadata": {
    "collapsed": false
   },
   "outputs": [
    {
     "data": {
      "text/plain": [
       "latitude  longitude \n",
       "25.21875  -100.96875    0.012848\n",
       "25.34375  -100.28125   -0.004368\n",
       "          -101.59375    0.011648\n",
       "25.46875  -101.15625    0.017699\n",
       "26.09375  -105.59375    0.002650\n",
       "Name: slope, dtype: float64"
      ]
     },
     "execution_count": 13,
     "metadata": {},
     "output_type": "execute_result"
    }
   ],
   "source": [
    "out.head()"
   ]
  },
  {
   "cell_type": "code",
   "execution_count": 14,
   "metadata": {
    "collapsed": false
   },
   "outputs": [],
   "source": [
    "out.to_csv('./data/CONUS_slope.csv',index=True,header=False)"
   ]
  },
  {
   "cell_type": "code",
   "execution_count": null,
   "metadata": {
    "collapsed": false
   },
   "outputs": [],
   "source": []
  }
 ],
 "metadata": {
  "kernelspec": {
   "display_name": "Python 2",
   "language": "python",
   "name": "python2"
  },
  "language_info": {
   "codemirror_mode": {
    "name": "ipython",
    "version": 2
   },
   "file_extension": ".py",
   "mimetype": "text/x-python",
   "name": "python",
   "nbconvert_exporter": "python",
   "pygments_lexer": "ipython2",
   "version": "2.7.12"
  }
 },
 "nbformat": 4,
 "nbformat_minor": 0
}
