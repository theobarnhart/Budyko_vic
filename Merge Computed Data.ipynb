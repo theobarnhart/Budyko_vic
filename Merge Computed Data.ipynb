{
 "cells": [
  {
   "cell_type": "markdown",
   "metadata": {},
   "source": [
    "# Data Merger\n",
    "\n",
    "Merge data computed for this project into one working data frame"
   ]
  },
  {
   "cell_type": "code",
   "execution_count": 1,
   "metadata": {
    "collapsed": false
   },
   "outputs": [],
   "source": [
    "import numpy as np\n",
    "import pandas as pd"
   ]
  },
  {
   "cell_type": "code",
   "execution_count": 2,
   "metadata": {
    "collapsed": false
   },
   "outputs": [],
   "source": [
    "data = np.load('./new_budyko_data.npz') #load the normal Budyko VIC data"
   ]
  },
  {
   "cell_type": "code",
   "execution_count": 3,
   "metadata": {
    "collapsed": false
   },
   "outputs": [],
   "source": [
    "df = pd.DataFrame() # initialize the data frame"
   ]
  },
  {
   "cell_type": "code",
   "execution_count": 4,
   "metadata": {
    "collapsed": false
   },
   "outputs": [
    {
     "name": "stdout",
     "output_type": "stream",
     "text": [
      "frlon\n",
      "PETpenmanvic\n",
      "P\n",
      "ET\n",
      "Sf\n",
      "frlat\n"
     ]
    }
   ],
   "source": [
    "# loop through the keys provided and create a data frame\n",
    "for key in data.keys():\n",
    "    df[key] = data[key]\n",
    "    print key\n",
    "    \n",
    "del df['Sf']"
   ]
  },
  {
   "cell_type": "code",
   "execution_count": 5,
   "metadata": {
    "collapsed": false
   },
   "outputs": [
    {
     "data": {
      "text/html": [
       "<div>\n",
       "<table border=\"1\" class=\"dataframe\">\n",
       "  <thead>\n",
       "    <tr style=\"text-align: right;\">\n",
       "      <th></th>\n",
       "      <th>frlon</th>\n",
       "      <th>PETpenmanvic</th>\n",
       "      <th>P</th>\n",
       "      <th>ET</th>\n",
       "      <th>frlat</th>\n",
       "    </tr>\n",
       "  </thead>\n",
       "  <tbody>\n",
       "    <tr>\n",
       "      <th>0</th>\n",
       "      <td>-100.03125</td>\n",
       "      <td>4.044650</td>\n",
       "      <td>2.380122</td>\n",
       "      <td>1.989825</td>\n",
       "      <td>25.03125</td>\n",
       "    </tr>\n",
       "    <tr>\n",
       "      <th>1</th>\n",
       "      <td>-100.09375</td>\n",
       "      <td>3.991995</td>\n",
       "      <td>2.871153</td>\n",
       "      <td>2.254173</td>\n",
       "      <td>25.03125</td>\n",
       "    </tr>\n",
       "    <tr>\n",
       "      <th>2</th>\n",
       "      <td>-100.15625</td>\n",
       "      <td>3.802503</td>\n",
       "      <td>2.924025</td>\n",
       "      <td>2.417331</td>\n",
       "      <td>25.03125</td>\n",
       "    </tr>\n",
       "    <tr>\n",
       "      <th>3</th>\n",
       "      <td>-100.21875</td>\n",
       "      <td>3.627629</td>\n",
       "      <td>2.321484</td>\n",
       "      <td>2.046060</td>\n",
       "      <td>25.03125</td>\n",
       "    </tr>\n",
       "    <tr>\n",
       "      <th>4</th>\n",
       "      <td>-100.28125</td>\n",
       "      <td>3.509792</td>\n",
       "      <td>2.118430</td>\n",
       "      <td>1.900092</td>\n",
       "      <td>25.03125</td>\n",
       "    </tr>\n",
       "  </tbody>\n",
       "</table>\n",
       "</div>"
      ],
      "text/plain": [
       "       frlon  PETpenmanvic         P        ET     frlat\n",
       "0 -100.03125      4.044650  2.380122  1.989825  25.03125\n",
       "1 -100.09375      3.991995  2.871153  2.254173  25.03125\n",
       "2 -100.15625      3.802503  2.924025  2.417331  25.03125\n",
       "3 -100.21875      3.627629  2.321484  2.046060  25.03125\n",
       "4 -100.28125      3.509792  2.118430  1.900092  25.03125"
      ]
     },
     "execution_count": 5,
     "metadata": {},
     "output_type": "execute_result"
    }
   ],
   "source": [
    "df.head()"
   ]
  },
  {
   "cell_type": "code",
   "execution_count": 6,
   "metadata": {
    "collapsed": false
   },
   "outputs": [
    {
     "data": {
      "text/plain": [
       "309673"
      ]
     },
     "execution_count": 6,
     "metadata": {},
     "output_type": "execute_result"
    }
   ],
   "source": [
    "len(df)"
   ]
  },
  {
   "cell_type": "code",
   "execution_count": 7,
   "metadata": {
    "collapsed": false
   },
   "outputs": [],
   "source": [
    "data = np.load('./new_Sf_calc.npz') # load the new Sf data\n",
    "df['Sf'] = data['Sf']"
   ]
  },
  {
   "cell_type": "code",
   "execution_count": 8,
   "metadata": {
    "collapsed": false
   },
   "outputs": [
    {
     "name": "stdout",
     "output_type": "stream",
     "text": [
      "meanablseason\n",
      "meandosnowfree\n",
      "meanpeakswe\n",
      "meanpeaket\n",
      "meandopeaket\n",
      "lon\n",
      "meanablslope\n",
      "lat\n",
      "meandopeakswe\n"
     ]
    }
   ],
   "source": [
    "data = np.load('./budyko_swe_data.npz') # load the SWE data\n",
    "\n",
    "# loop through the SWE data \n",
    "for key in data.keys():\n",
    "    df[key] = data[key]\n",
    "    print key"
   ]
  },
  {
   "cell_type": "code",
   "execution_count": 9,
   "metadata": {
    "collapsed": false
   },
   "outputs": [],
   "source": [
    "meanablslope = data['meanablslope']"
   ]
  },
  {
   "cell_type": "code",
   "execution_count": 10,
   "metadata": {
    "collapsed": false
   },
   "outputs": [],
   "source": [
    "meanablslope[np.isinf(meanablslope)]=np.NaN"
   ]
  },
  {
   "cell_type": "code",
   "execution_count": 11,
   "metadata": {
    "collapsed": false
   },
   "outputs": [],
   "source": [
    "df.meanablslope = meanablslope"
   ]
  },
  {
   "cell_type": "code",
   "execution_count": 12,
   "metadata": {
    "collapsed": false
   },
   "outputs": [],
   "source": [
    "import matplotlib.pyplot as plt\n",
    "%matplotlib inline"
   ]
  },
  {
   "cell_type": "code",
   "execution_count": 13,
   "metadata": {
    "collapsed": false
   },
   "outputs": [
    {
     "name": "stdout",
     "output_type": "stream",
     "text": [
      "infilt\n",
      "fs_active\n",
      "l1_quartz\n",
      "l3_Wpwp_FRACT\n",
      "l3_bulkD\n",
      "l3_init_moist\n",
      "annual_prec\n",
      "l2_soil_density\n",
      "l2_Ksat\n",
      "rough\n",
      "l2_Wcr_FRACT\n",
      "l2_depth\n",
      "l2_quartz\n",
      "lon\n",
      "l1_phi_s\n",
      "l3_bubble\n",
      "l1_expt\n",
      "Ws\n",
      "l1_Ksat\n",
      "l1_soil_density\n",
      "l1_resid_moisture\n",
      "l2_phi_s\n",
      "l2_init_moist\n",
      "l2_expt\n",
      "l1_init_moist\n",
      "l1_depth\n",
      "off_gmt\n",
      "l3_expt\n",
      "l3_depth\n",
      "Dsmax\n",
      "l1_Wpwp_FRACT\n",
      "l3_resid_moisture\n",
      "avg_T\n",
      "lat\n",
      "l3_soil_density\n",
      "l3_phi_s\n",
      "dp\n",
      "c\n",
      "l2_bulkD\n",
      "l2_bubble\n",
      "l2_Wpwp_FRACT\n",
      "l3_Ksat\n",
      "l3_quartz\n",
      "Ds\n",
      "l1_bulkD\n",
      "l1_bubble\n",
      "l2_resid_moisture\n",
      "elev\n",
      "snow_rough\n",
      "l1_Wcr_FRACT\n",
      "l3_Wcr_FRACT\n"
     ]
    }
   ],
   "source": [
    "data = np.load('./data/soil_data.npz') # load the soil data\n",
    "\n",
    "# loop through the soil data\n",
    "\n",
    "for key in data.keys():\n",
    "    df[key] = data[key]\n",
    "    print key"
   ]
  },
  {
   "cell_type": "code",
   "execution_count": 14,
   "metadata": {
    "collapsed": false
   },
   "outputs": [
    {
     "name": "stdout",
     "output_type": "stream",
     "text": [
      "slope\n",
      "rsquared_adj\n",
      "lon\n",
      "intercept\n",
      "lat\n",
      "rsquared\n",
      "pvalue\n"
     ]
    }
   ],
   "source": [
    "data = np.load('./whole_domain_partitioning_results.npz')\n",
    "for key in data.keys():\n",
    "    df[key] = data[key]\n",
    "    print key"
   ]
  },
  {
   "cell_type": "code",
   "execution_count": 15,
   "metadata": {
    "collapsed": false
   },
   "outputs": [
    {
     "name": "stdout",
     "output_type": "stream",
     "text": [
      "lat\n",
      "lon\n",
      "w_flux\n"
     ]
    }
   ],
   "source": [
    "data = np.load('./water_flux_method_1.npz') # water flux method 1\n",
    "for key in data.keys():\n",
    "    df[key] = data[key]\n",
    "    print key"
   ]
  },
  {
   "cell_type": "code",
   "execution_count": 16,
   "metadata": {
    "collapsed": false
   },
   "outputs": [
    {
     "data": {
      "text/plain": [
       "309673"
      ]
     },
     "execution_count": 16,
     "metadata": {},
     "output_type": "execute_result"
    }
   ],
   "source": [
    "len(df)"
   ]
  },
  {
   "cell_type": "code",
   "execution_count": 17,
   "metadata": {
    "collapsed": false
   },
   "outputs": [
    {
     "name": "stdout",
     "output_type": "stream",
     "text": [
      "lat\n",
      "w_flux2\n",
      "lon\n"
     ]
    }
   ],
   "source": [
    "data = np.load('./water_flux_method_2.npz') # water flux method 2\n",
    "for key in data.keys():\n",
    "    df[key] = data[key]\n",
    "    print key"
   ]
  },
  {
   "cell_type": "code",
   "execution_count": 18,
   "metadata": {
    "collapsed": false
   },
   "outputs": [
    {
     "name": "stdout",
     "output_type": "stream",
     "text": [
      "lat\n",
      "lon\n",
      "w_flux3\n"
     ]
    }
   ],
   "source": [
    "data = np.load('./water_flux_method_3.npz') # water flux method 3\n",
    "for key in data.keys():\n",
    "    df[key] = data[key]\n",
    "    print key"
   ]
  },
  {
   "cell_type": "code",
   "execution_count": 19,
   "metadata": {
    "collapsed": false
   },
   "outputs": [
    {
     "data": {
      "text/plain": [
       "309673"
      ]
     },
     "execution_count": 19,
     "metadata": {},
     "output_type": "execute_result"
    }
   ],
   "source": [
    "len(df)"
   ]
  },
  {
   "cell_type": "code",
   "execution_count": 20,
   "metadata": {
    "collapsed": false
   },
   "outputs": [
    {
     "name": "stdout",
     "output_type": "stream",
     "text": [
      "lat\n",
      "lon\n",
      "snowmelt\n"
     ]
    }
   ],
   "source": [
    "data = np.load('./snowmelt.npz') # snowmelt alone\n",
    "for key in data.keys():\n",
    "    df[key] = data[key]\n",
    "    print key"
   ]
  },
  {
   "cell_type": "code",
   "execution_count": 21,
   "metadata": {
    "collapsed": false
   },
   "outputs": [
    {
     "name": "stdout",
     "output_type": "stream",
     "text": [
      "lon\n",
      "Sf2\n",
      "Sf1\n",
      "Sf_2\n",
      "Sf_1\n",
      "lat\n"
     ]
    }
   ],
   "source": [
    "data = np.load('./new_Sf_sense.npz') # snow fraction sensitivity analysis \n",
    "for key in data.keys():\n",
    "    df[key] = data[key]\n",
    "    print key"
   ]
  },
  {
   "cell_type": "code",
   "execution_count": 22,
   "metadata": {
    "collapsed": false
   },
   "outputs": [
    {
     "name": "stdout",
     "output_type": "stream",
     "text": [
      "lat\n",
      "wflux4\n",
      "lon\n"
     ]
    }
   ],
   "source": [
    "data = np.load('./w_flux4.npz') # snowmelt + precip.\n",
    "for key in data.keys():\n",
    "    df[key] = data[key]\n",
    "    print key"
   ]
  },
  {
   "cell_type": "code",
   "execution_count": 23,
   "metadata": {
    "collapsed": false
   },
   "outputs": [
    {
     "name": "stdout",
     "output_type": "stream",
     "text": [
      "lat\n",
      "wflux5\n",
      "lon\n"
     ]
    }
   ],
   "source": [
    "data = np.load('./w_flux5.npz') # snowmelt + rain\n",
    "for key in data.keys():\n",
    "    df[key] = data[key]\n",
    "    print key"
   ]
  },
  {
   "cell_type": "code",
   "execution_count": 24,
   "metadata": {
    "collapsed": false
   },
   "outputs": [
    {
     "name": "stdout",
     "output_type": "stream",
     "text": [
      "lat\n",
      "lon\n",
      "rain\n"
     ]
    }
   ],
   "source": [
    "data = np.load('./rain.npz') # rain alone\n",
    "for key in data.keys():\n",
    "    df[key] = data[key]\n",
    "    print key"
   ]
  },
  {
   "cell_type": "code",
   "execution_count": 25,
   "metadata": {
    "collapsed": false
   },
   "outputs": [
    {
     "name": "stdout",
     "output_type": "stream",
     "text": [
      "lat\n",
      "netSM\n",
      "lon\n"
     ]
    }
   ],
   "source": [
    "data = np.load('./net_snowmelt.npz') # snowmelt - ET\n",
    "for key in data.keys():\n",
    "    df[key] = data[key]\n",
    "    print key"
   ]
  },
  {
   "cell_type": "code",
   "execution_count": 26,
   "metadata": {
    "collapsed": false
   },
   "outputs": [
    {
     "name": "stdout",
     "output_type": "stream",
     "text": [
      "lat\n",
      "seas\n",
      "lon\n",
      "MAT\n"
     ]
    }
   ],
   "source": [
    "data = np.load('./MATsignedseas.npz') # Mean annual temp and signed seasonality\n",
    "for key in data.keys():\n",
    "    df[key] = data[key]\n",
    "    print key"
   ]
  },
  {
   "cell_type": "code",
   "execution_count": 27,
   "metadata": {
    "collapsed": false
   },
   "outputs": [
    {
     "name": "stdout",
     "output_type": "stream",
     "text": [
      "RR_pval\n",
      "RR_intercept\n",
      "RR_slope\n",
      "idx\n",
      "RR_rsqrd\n"
     ]
    }
   ],
   "source": [
    "data = np.load('./RR_interannual_slope.npz') # Runoff ratio - snowmelt relationship data\n",
    "for key in data.keys():\n",
    "    df[key] = data[key]\n",
    "    print key"
   ]
  },
  {
   "cell_type": "code",
   "execution_count": 28,
   "metadata": {
    "collapsed": false
   },
   "outputs": [
    {
     "name": "stdout",
     "output_type": "stream",
     "text": [
      "bf\n",
      "lon\n",
      "sm3\n",
      "sm2\n",
      "sm1\n",
      "lat\n"
     ]
    }
   ],
   "source": [
    "data = np.load('./smbf.npz') # Runoff ratio - snowmelt relationship data\n",
    "for key in data.keys():\n",
    "    df[key] = data[key]\n",
    "    print key"
   ]
  },
  {
   "cell_type": "code",
   "execution_count": 29,
   "metadata": {
    "collapsed": false
   },
   "outputs": [
    {
     "name": "stdout",
     "output_type": "stream",
     "text": [
      "prate\n",
      "idx\n"
     ]
    }
   ],
   "source": [
    "data = np.load('./data/precip_rate.npz') # Runoff ratio - snowmelt relationship data\n",
    "for key in data.keys():\n",
    "    df[key] = data[key]\n",
    "    print key\n",
    "del df['idx']"
   ]
  },
  {
   "cell_type": "code",
   "execution_count": 30,
   "metadata": {
    "collapsed": false
   },
   "outputs": [
    {
     "name": "stdout",
     "output_type": "stream",
     "text": [
      "lat\n",
      "lon\n",
      "rr\n"
     ]
    }
   ],
   "source": [
    "data = np.load('./data/rainfall_rate.npz') # Runoff ratio - snowmelt relationship data\n",
    "for key in data.keys():\n",
    "    df[key] = data[key]\n",
    "    print key"
   ]
  },
  {
   "cell_type": "code",
   "execution_count": 31,
   "metadata": {
    "collapsed": false
   },
   "outputs": [
    {
     "name": "stdout",
     "output_type": "stream",
     "text": [
      "lat\n",
      "Tmean\n",
      "lon\n",
      "idx\n"
     ]
    }
   ],
   "source": [
    "data = np.load('./mean_temp.npz') # Runoff ratio - snowmelt relationship data\n",
    "for key in data.keys():\n",
    "    df[key] = data[key]\n",
    "    print key"
   ]
  },
  {
   "cell_type": "code",
   "execution_count": 32,
   "metadata": {
    "collapsed": false
   },
   "outputs": [
    {
     "name": "stdout",
     "output_type": "stream",
     "text": [
      "meanrunoff\n",
      "idx\n"
     ]
    }
   ],
   "source": [
    "data = np.load('./data/mean_runoff.npz') # Runoff ratio - snowmelt relationship data\n",
    "for key in data.keys():\n",
    "    df[key] = data[key]\n",
    "    print key"
   ]
  },
  {
   "cell_type": "code",
   "execution_count": 33,
   "metadata": {
    "collapsed": false
   },
   "outputs": [],
   "source": [
    "df['idx'] = np.arange(1,len(df)+1)"
   ]
  },
  {
   "cell_type": "code",
   "execution_count": 34,
   "metadata": {
    "collapsed": false
   },
   "outputs": [],
   "source": [
    "# create another index for the data\n",
    "spaidx = []\n",
    "for lat,lon in zip(list(df.frlat.as_matrix()),list(df.frlon.as_matrix())):\n",
    "    spaidx.append(str(lat)+str(lon))\n",
    "    \n",
    "df['spaidx'] = spaidx"
   ]
  },
  {
   "cell_type": "code",
   "execution_count": 35,
   "metadata": {
    "collapsed": false
   },
   "outputs": [],
   "source": [
    "dem = pd.read_hdf('./data/VIC_DEM.hdf','df')\n",
    "\n",
    "df = pd.merge(df,dem,on='spaidx')"
   ]
  },
  {
   "cell_type": "code",
   "execution_count": 36,
   "metadata": {
    "collapsed": false
   },
   "outputs": [],
   "source": [
    "# create a multiindex for the data frame\n",
    "\n",
    "arrays = [df.frlat,df.frlon]\n",
    "tuples = list(zip(*arrays))\n",
    "\n",
    "index = pd.MultiIndex.from_tuples(tuples, names=['latitude','longitude'])\n",
    "\n",
    "df.index = index"
   ]
  },
  {
   "cell_type": "code",
   "execution_count": 37,
   "metadata": {
    "collapsed": false
   },
   "outputs": [
    {
     "data": {
      "text/html": [
       "<div>\n",
       "<table border=\"1\" class=\"dataframe\">\n",
       "  <thead>\n",
       "    <tr style=\"text-align: right;\">\n",
       "      <th></th>\n",
       "      <th></th>\n",
       "      <th>frlon</th>\n",
       "      <th>PETpenmanvic</th>\n",
       "      <th>P</th>\n",
       "      <th>ET</th>\n",
       "      <th>frlat</th>\n",
       "      <th>Sf</th>\n",
       "      <th>meanablseason</th>\n",
       "      <th>meandosnowfree</th>\n",
       "      <th>meanpeakswe</th>\n",
       "      <th>meanpeaket</th>\n",
       "      <th>...</th>\n",
       "      <th>sm1</th>\n",
       "      <th>prate</th>\n",
       "      <th>rr</th>\n",
       "      <th>Tmean</th>\n",
       "      <th>idx</th>\n",
       "      <th>meanrunoff</th>\n",
       "      <th>spaidx</th>\n",
       "      <th>lat_y</th>\n",
       "      <th>lon_y</th>\n",
       "      <th>DEMelev</th>\n",
       "    </tr>\n",
       "    <tr>\n",
       "      <th>latitude</th>\n",
       "      <th>longitude</th>\n",
       "      <th></th>\n",
       "      <th></th>\n",
       "      <th></th>\n",
       "      <th></th>\n",
       "      <th></th>\n",
       "      <th></th>\n",
       "      <th></th>\n",
       "      <th></th>\n",
       "      <th></th>\n",
       "      <th></th>\n",
       "      <th></th>\n",
       "      <th></th>\n",
       "      <th></th>\n",
       "      <th></th>\n",
       "      <th></th>\n",
       "      <th></th>\n",
       "      <th></th>\n",
       "      <th></th>\n",
       "      <th></th>\n",
       "      <th></th>\n",
       "      <th></th>\n",
       "    </tr>\n",
       "  </thead>\n",
       "  <tbody>\n",
       "    <tr>\n",
       "      <th rowspan=\"5\" valign=\"top\">25.03125</th>\n",
       "      <th>-100.03125</th>\n",
       "      <td>-100.03125</td>\n",
       "      <td>4.044650</td>\n",
       "      <td>2.380122</td>\n",
       "      <td>1.989825</td>\n",
       "      <td>25.03125</td>\n",
       "      <td>0.001405</td>\n",
       "      <td>0.285714</td>\n",
       "      <td>14.809524</td>\n",
       "      <td>0.308465</td>\n",
       "      <td>6.680370</td>\n",
       "      <td>...</td>\n",
       "      <td>26.782371</td>\n",
       "      <td>7.757632</td>\n",
       "      <td>7.746734</td>\n",
       "      <td>18.889</td>\n",
       "      <td>1</td>\n",
       "      <td>0.342695</td>\n",
       "      <td>25.03125-100.03125</td>\n",
       "      <td>25.03125</td>\n",
       "      <td>-100.03125</td>\n",
       "      <td>1138</td>\n",
       "    </tr>\n",
       "    <tr>\n",
       "      <th>-100.09375</th>\n",
       "      <td>-100.09375</td>\n",
       "      <td>3.991995</td>\n",
       "      <td>2.871153</td>\n",
       "      <td>2.254173</td>\n",
       "      <td>25.03125</td>\n",
       "      <td>0.001652</td>\n",
       "      <td>0.269841</td>\n",
       "      <td>13.000000</td>\n",
       "      <td>0.488219</td>\n",
       "      <td>6.671541</td>\n",
       "      <td>...</td>\n",
       "      <td>27.010345</td>\n",
       "      <td>9.562056</td>\n",
       "      <td>9.546255</td>\n",
       "      <td>18.872</td>\n",
       "      <td>2</td>\n",
       "      <td>0.538990</td>\n",
       "      <td>25.03125-100.09375</td>\n",
       "      <td>25.03125</td>\n",
       "      <td>-100.09375</td>\n",
       "      <td>1169</td>\n",
       "    </tr>\n",
       "    <tr>\n",
       "      <th>-100.15625</th>\n",
       "      <td>-100.15625</td>\n",
       "      <td>3.802503</td>\n",
       "      <td>2.924025</td>\n",
       "      <td>2.417331</td>\n",
       "      <td>25.03125</td>\n",
       "      <td>0.002934</td>\n",
       "      <td>1.174603</td>\n",
       "      <td>40.952381</td>\n",
       "      <td>1.307113</td>\n",
       "      <td>6.393477</td>\n",
       "      <td>...</td>\n",
       "      <td>27.983320</td>\n",
       "      <td>9.382570</td>\n",
       "      <td>9.365323</td>\n",
       "      <td>16.202</td>\n",
       "      <td>3</td>\n",
       "      <td>0.408476</td>\n",
       "      <td>25.03125-100.15625</td>\n",
       "      <td>25.03125</td>\n",
       "      <td>-100.15625</td>\n",
       "      <td>1664</td>\n",
       "    </tr>\n",
       "    <tr>\n",
       "      <th>-100.21875</th>\n",
       "      <td>-100.21875</td>\n",
       "      <td>3.627629</td>\n",
       "      <td>2.321484</td>\n",
       "      <td>2.046060</td>\n",
       "      <td>25.03125</td>\n",
       "      <td>0.006171</td>\n",
       "      <td>0.539683</td>\n",
       "      <td>21.539683</td>\n",
       "      <td>0.825600</td>\n",
       "      <td>6.152420</td>\n",
       "      <td>...</td>\n",
       "      <td>27.716505</td>\n",
       "      <td>7.613218</td>\n",
       "      <td>7.581129</td>\n",
       "      <td>13.401</td>\n",
       "      <td>4</td>\n",
       "      <td>0.224773</td>\n",
       "      <td>25.03125-100.21875</td>\n",
       "      <td>25.03125</td>\n",
       "      <td>-100.21875</td>\n",
       "      <td>2168</td>\n",
       "    </tr>\n",
       "    <tr>\n",
       "      <th>-100.28125</th>\n",
       "      <td>-100.28125</td>\n",
       "      <td>3.509792</td>\n",
       "      <td>2.118430</td>\n",
       "      <td>1.900092</td>\n",
       "      <td>25.03125</td>\n",
       "      <td>0.011271</td>\n",
       "      <td>1.301587</td>\n",
       "      <td>47.968254</td>\n",
       "      <td>2.278933</td>\n",
       "      <td>6.032642</td>\n",
       "      <td>...</td>\n",
       "      <td>27.690968</td>\n",
       "      <td>6.790130</td>\n",
       "      <td>6.728359</td>\n",
       "      <td>11.491</td>\n",
       "      <td>5</td>\n",
       "      <td>0.162114</td>\n",
       "      <td>25.03125-100.28125</td>\n",
       "      <td>25.03125</td>\n",
       "      <td>-100.28125</td>\n",
       "      <td>2461</td>\n",
       "    </tr>\n",
       "  </tbody>\n",
       "</table>\n",
       "<p>5 rows × 100 columns</p>\n",
       "</div>"
      ],
      "text/plain": [
       "                         frlon  PETpenmanvic         P        ET     frlat  \\\n",
       "latitude longitude                                                           \n",
       "25.03125 -100.03125 -100.03125      4.044650  2.380122  1.989825  25.03125   \n",
       "         -100.09375 -100.09375      3.991995  2.871153  2.254173  25.03125   \n",
       "         -100.15625 -100.15625      3.802503  2.924025  2.417331  25.03125   \n",
       "         -100.21875 -100.21875      3.627629  2.321484  2.046060  25.03125   \n",
       "         -100.28125 -100.28125      3.509792  2.118430  1.900092  25.03125   \n",
       "\n",
       "                           Sf  meanablseason  meandosnowfree  meanpeakswe  \\\n",
       "latitude longitude                                                          \n",
       "25.03125 -100.03125  0.001405       0.285714       14.809524     0.308465   \n",
       "         -100.09375  0.001652       0.269841       13.000000     0.488219   \n",
       "         -100.15625  0.002934       1.174603       40.952381     1.307113   \n",
       "         -100.21875  0.006171       0.539683       21.539683     0.825600   \n",
       "         -100.28125  0.011271       1.301587       47.968254     2.278933   \n",
       "\n",
       "                     meanpeaket   ...           sm1     prate        rr  \\\n",
       "latitude longitude                ...                                     \n",
       "25.03125 -100.03125    6.680370   ...     26.782371  7.757632  7.746734   \n",
       "         -100.09375    6.671541   ...     27.010345  9.562056  9.546255   \n",
       "         -100.15625    6.393477   ...     27.983320  9.382570  9.365323   \n",
       "         -100.21875    6.152420   ...     27.716505  7.613218  7.581129   \n",
       "         -100.28125    6.032642   ...     27.690968  6.790130  6.728359   \n",
       "\n",
       "                      Tmean  idx  meanrunoff              spaidx     lat_y  \\\n",
       "latitude longitude                                                           \n",
       "25.03125 -100.03125  18.889    1    0.342695  25.03125-100.03125  25.03125   \n",
       "         -100.09375  18.872    2    0.538990  25.03125-100.09375  25.03125   \n",
       "         -100.15625  16.202    3    0.408476  25.03125-100.15625  25.03125   \n",
       "         -100.21875  13.401    4    0.224773  25.03125-100.21875  25.03125   \n",
       "         -100.28125  11.491    5    0.162114  25.03125-100.28125  25.03125   \n",
       "\n",
       "                         lon_y  DEMelev  \n",
       "latitude longitude                       \n",
       "25.03125 -100.03125 -100.03125     1138  \n",
       "         -100.09375 -100.09375     1169  \n",
       "         -100.15625 -100.15625     1664  \n",
       "         -100.21875 -100.21875     2168  \n",
       "         -100.28125 -100.28125     2461  \n",
       "\n",
       "[5 rows x 100 columns]"
      ]
     },
     "execution_count": 37,
     "metadata": {},
     "output_type": "execute_result"
    }
   ],
   "source": [
    "df.head()"
   ]
  },
  {
   "cell_type": "code",
   "execution_count": 38,
   "metadata": {
    "collapsed": false
   },
   "outputs": [],
   "source": [
    "df.to_hdf('./budyko_working.hdf','df',format='fixed',complevel=5,complib='bzip2',fletcher32=True)"
   ]
  },
  {
   "cell_type": "code",
   "execution_count": 38,
   "metadata": {
    "collapsed": false
   },
   "outputs": [
    {
     "name": "stdout",
     "output_type": "stream",
     "text": [
      "-rwx------  1 barnhatb  staff   243M Jul 28 12:03 \u001b[31mbudyko_working.hdf\u001b[m\u001b[m\r\n",
      "-rwx------  1 barnhatb  staff    11M Jul 27 15:50 \u001b[31mbudyko_working_er_sm2.hdf\u001b[m\u001b[m\r\n",
      "-rwx------  1 barnhatb  staff    11M Jul 27 15:49 \u001b[31mbudyko_working_er_sm2_all.hdf\u001b[m\u001b[m\r\n",
      "-rw-r--r--  1 barnhatb  staff   101M May 29 11:03 budyko_working_DEM.hdf\r\n",
      "-rwx------  1 barnhatb  staff    11M May 27 17:05 \u001b[31mWSC_HUC8_budyko.hdf\u001b[m\u001b[m\r\n",
      "-rwx------  1 barnhatb  staff    11M May 27 17:05 \u001b[31mbudyko_working_er_DEM.hdf\u001b[m\u001b[m\r\n",
      "-rwx------  1 barnhatb  staff   138K May 27 17:05 \u001b[31mbudyko_working_WSC_HUC10.hdf\u001b[m\u001b[m\r\n",
      "-rwx------  1 barnhatb  staff   1.6M May 27 17:05 \u001b[31mbudyko_working_WSC_HUC8.hdf\u001b[m\u001b[m\r\n",
      "-rwx------  1 barnhatb  staff    14M May 27 17:05 \u001b[31mbudyko_working_er_all.hdf\u001b[m\u001b[m\r\n",
      "-rwx------  1 barnhatb  staff   6.3M May 27 17:05 \u001b[31mbudyko_working_er_sm.hdf\u001b[m\u001b[m\r\n",
      "-rwx------  1 barnhatb  staff    11M May 27 17:05 \u001b[31mbudyko_working_er.hdf\u001b[m\u001b[m\r\n",
      "-rwx------  1 barnhatb  staff   6.4M May 27 17:05 \u001b[31mbudyko_working_er_sm_all.hdf\u001b[m\u001b[m\r\n"
     ]
    }
   ],
   "source": [
    "!ls -lth *.hdf"
   ]
  },
  {
   "cell_type": "code",
   "execution_count": null,
   "metadata": {
    "collapsed": true
   },
   "outputs": [],
   "source": []
  }
 ],
 "metadata": {
  "kernelspec": {
   "display_name": "Python 2",
   "language": "python",
   "name": "python2"
  },
  "language_info": {
   "codemirror_mode": {
    "name": "ipython",
    "version": 2
   },
   "file_extension": ".py",
   "mimetype": "text/x-python",
   "name": "python",
   "nbconvert_exporter": "python",
   "pygments_lexer": "ipython2",
   "version": "2.7.11"
  }
 },
 "nbformat": 4,
 "nbformat_minor": 0
}
