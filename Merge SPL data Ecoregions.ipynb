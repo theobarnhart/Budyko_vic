{
 "metadata": {
  "name": "",
  "signature": "sha256:c5edb6873f4d32924ee27d721dc449f82c563b4e5a54b0f75a8962d9cf680744"
 },
 "nbformat": 3,
 "nbformat_minor": 0,
 "worksheets": [
  {
   "cells": [
    {
     "cell_type": "code",
     "collapsed": false,
     "input": [
      "import numpy as np\n",
      "import pandas as pd\n",
      "\n",
      "import gdal\n",
      "from gdalconst import *"
     ],
     "language": "python",
     "metadata": {},
     "outputs": [],
     "prompt_number": 1
    },
    {
     "cell_type": "markdown",
     "metadata": {},
     "source": [
      "## Get the indexers for each timeseries"
     ]
    },
    {
     "cell_type": "markdown",
     "metadata": {},
     "source": [
      "### ER 10"
     ]
    },
    {
     "cell_type": "code",
     "collapsed": false,
     "input": [
      "pth = './data/ecoregions/spl_tiffs/'"
     ],
     "language": "python",
     "metadata": {},
     "outputs": [],
     "prompt_number": 2
    },
    {
     "cell_type": "code",
     "collapsed": false,
     "input": [
      "fpath = pth+'l1_10.tif'\n",
      "rast = gdal.Open(fpath, GA_ReadOnly)\n",
      "r = np.array(rast.GetRasterBand(1).ReadAsArray(), dtype=np.float32)\n",
      "r[r == -9999] = np.NaN\n",
      "r = r[np.isnan(r) == 0].astype(np.int64)\n",
      "er10 = r"
     ],
     "language": "python",
     "metadata": {},
     "outputs": [],
     "prompt_number": 3
    },
    {
     "cell_type": "markdown",
     "metadata": {},
     "source": [
      "### ER 6 11 13"
     ]
    },
    {
     "cell_type": "code",
     "collapsed": false,
     "input": [
      "# grab only ER 6\n",
      "fpath = pth+'l1_6.tif'\n",
      "rast = gdal.Open(fpath, GA_ReadOnly)\n",
      "r = np.array(rast.GetRasterBand(1).ReadAsArray(), dtype=np.float32)\n",
      "r[r == -9999] = np.NaN\n",
      "r = r[np.isnan(r) == 0].astype(np.int64)\n",
      "er6 = r"
     ],
     "language": "python",
     "metadata": {},
     "outputs": [],
     "prompt_number": 4
    },
    {
     "cell_type": "code",
     "collapsed": false,
     "input": [
      "# grab only ER 11\n",
      "fpath = pth+'l1_11.tif'\n",
      "rast = gdal.Open(fpath, GA_ReadOnly)\n",
      "r = np.array(rast.GetRasterBand(1).ReadAsArray(), dtype=np.float32)\n",
      "r[r == -9999] = np.NaN\n",
      "r = r[np.isnan(r) == 0].astype(np.int64)\n",
      "er11 = r"
     ],
     "language": "python",
     "metadata": {},
     "outputs": [],
     "prompt_number": 5
    },
    {
     "cell_type": "code",
     "collapsed": false,
     "input": [
      "# grab only ER 13\n",
      "fpath = pth+'l1_13.tif'\n",
      "rast = gdal.Open(fpath, GA_ReadOnly)\n",
      "r = np.array(rast.GetRasterBand(1).ReadAsArray(), dtype=np.float32)\n",
      "r[r == -9999] = np.NaN\n",
      "r = r[np.isnan(r) == 0].astype(np.int64)\n",
      "er13 = r"
     ],
     "language": "python",
     "metadata": {},
     "outputs": [],
     "prompt_number": 6
    },
    {
     "cell_type": "code",
     "collapsed": false,
     "input": [
      "# merge the three ecoregions\n",
      "er61113 = []\n",
      "er61113.extend(er6)\n",
      "er61113.extend(er11)\n",
      "er61113.extend(er13)"
     ],
     "language": "python",
     "metadata": {},
     "outputs": [],
     "prompt_number": 7
    },
    {
     "cell_type": "code",
     "collapsed": false,
     "input": [
      "with np.load('/Users/barnhatb/research/spl_ecoregion_cals.npz') as data:\n",
      "    days = data['days']\n",
      "    PET = data['PET']\n",
      "    P = data['P']\n",
      "    idx = data['idx']\n",
      "    #dat = pd.DataFrame({'days':data['days'],'PET':data['PET'],'P':data['P']})"
     ],
     "language": "python",
     "metadata": {},
     "outputs": [],
     "prompt_number": 8
    },
    {
     "cell_type": "code",
     "collapsed": false,
     "input": [
      "P = P[np.isnan(days) == 0]\n",
      "PET = PET[np.isnan(days) == 0]\n",
      "idx = idx[np.isnan(days) == 0]\n",
      "days = days[np.isnan(days) == 0]"
     ],
     "language": "python",
     "metadata": {},
     "outputs": [],
     "prompt_number": 9
    },
    {
     "cell_type": "markdown",
     "metadata": {},
     "source": [
      "### Load the dates"
     ]
    },
    {
     "cell_type": "code",
     "collapsed": false,
     "input": [
      "dates = pd.read_pickle('./timecode.pcl')"
     ],
     "language": "python",
     "metadata": {},
     "outputs": [],
     "prompt_number": 10
    },
    {
     "cell_type": "code",
     "collapsed": false,
     "input": [
      "dates = dates.loc['1998-01-01':'2013-12-31']"
     ],
     "language": "python",
     "metadata": {},
     "outputs": [],
     "prompt_number": 11
    },
    {
     "cell_type": "markdown",
     "metadata": {},
     "source": [
      "### Make the DOY ranges"
     ]
    },
    {
     "cell_type": "code",
     "collapsed": false,
     "input": [
      "doy1 = np.arange(91,137)\n",
      "doy2 = np.arange(170,226)"
     ],
     "language": "python",
     "metadata": {},
     "outputs": [],
     "prompt_number": 12
    },
    {
     "cell_type": "markdown",
     "metadata": {},
     "source": [
      "## Subset out ER10"
     ]
    },
    {
     "cell_type": "code",
     "collapsed": false,
     "input": [
      "finder = np.in1d(idx,er10)\n",
      "df_er10 = pd.DataFrame({'P':P[finder==True],'PET':PET[finder==True],'days':days[finder == True]})\n",
      "df_er10 = df_er10.groupby(by='days').mean()\n",
      "df_er10.index = pd.DatetimeIndex(dates)\n",
      "\n",
      "df_er10['PET_P'] = df_er10.PET/df_er10.P\n",
      "df_er10.loc[np.isinf(df_er10.PET_P)==1,'PET_P'] = np.NaN\n",
      "\n",
      "df_er10an = df_er10.resample('A', how=np.nanmean)\n",
      "df_er10.to_csv('./data/spl_er10_PET_P.csv',index = True, header = True, float_format='%.8f',index_label='date')\n",
      "df_er10an.to_csv('./data/spl_er10_PET_P_an.csv',index = True, header = True, float_format='%.8f',index_label='date')\n",
      "df_er10['year'] = np.NaN\n",
      "df_er10['doy'] = np.NaN\n",
      "for day in df_er10.index:\n",
      "    df_er10.loc[day,'year'] = int(day.strftime('%Y'))\n",
      "    df_er10.loc[day,'doy'] = int(day.strftime('%j'))\n",
      "    \n",
      "# subset out DOY1\n",
      "finder = np.in1d(df_er10.doy.as_matrix(),doy1)\n",
      "df_er10_doy1 = df_er10.loc[finder==True,:]\n",
      "df_er10_doy1an = df_er10_doy1.resample('A', how=np.nanmean)\n",
      "df_er10_doy1an.to_csv('./data/spl_er10_PET_P_doy1an.csv',index = True, header = True, float_format='%.8f',index_label='date')\n",
      "\n",
      "# subset out DOY2\n",
      "finder = np.in1d(df_er10.doy.as_matrix(),doy2)\n",
      "df_er10_doy2 = df_er10.loc[finder==True,:]\n",
      "df_er10_doy2an = df_er10_doy2.resample('A', how=np.nanmean)\n",
      "df_er10_doy2an.to_csv('./data/spl_er10_PET_P_doy2an.csv',index = True, header = True, float_format='%.8f',index_label='date')"
     ],
     "language": "python",
     "metadata": {},
     "outputs": [],
     "prompt_number": 26
    },
    {
     "cell_type": "markdown",
     "metadata": {},
     "source": [
      "## Now do ER 6"
     ]
    },
    {
     "cell_type": "code",
     "collapsed": false,
     "input": [
      "finder = np.in1d(idx,er6)\n",
      "df_er6 = pd.DataFrame({'P':P[finder==True],'PET':PET[finder==True],'days':days[finder == True]})\n",
      "df_er6 = df_er6.groupby(by='days').mean()\n",
      "df_er6.index = pd.DatetimeIndex(dates)\n",
      "\n",
      "df_er6['PET_P'] = df_er6.PET/df_er6.P\n",
      "df_er6.loc[np.isinf(df_er6.PET_P)==1,'PET_P'] = np.NaN\n",
      "\n",
      "df_er6an = df_er6.resample('A', how=np.nanmean)\n",
      "df_er6.to_csv('./data/spl_er6_PET_P.csv',index = True, header = True, float_format='%.8f',index_label='date')\n",
      "df_er6an.to_csv('./data/spl_er6_PET_P_an.csv',index = True, header = True, float_format='%.8f',index_label='date')\n",
      "df_er6['year'] = np.NaN\n",
      "df_er6['doy'] = np.NaN\n",
      "for day in df_er6.index:\n",
      "    df_er6.loc[day,'year'] = int(day.strftime('%Y'))\n",
      "    df_er6.loc[day,'doy'] = int(day.strftime('%j'))\n",
      "    \n",
      "# subset out DOY1\n",
      "finder = np.in1d(df_er6.doy.as_matrix(),doy1)\n",
      "df_er6_doy1 = df_er6.loc[finder==True,:]\n",
      "df_er6_doy1an = df_er6_doy1.resample('A', how=np.nanmean)\n",
      "df_er6_doy1an.to_csv('./data/spl_er6_PET_P_doy1an.csv',index = True, header = True, float_format='%.8f',index_label='date')\n",
      "\n",
      "# subset out DOY2\n",
      "finder = np.in1d(df_er6.doy.as_matrix(),doy2)\n",
      "df_er6_doy2 = df_er6.loc[finder==True,:]\n",
      "df_er6_doy2an = df_er6_doy2.resample('A', how=np.nanmean)\n",
      "df_er6_doy2an.to_csv('./data/spl_er6_PET_P_doy2an.csv',index = True, header = True, float_format='%.8f',index_label='date')"
     ],
     "language": "python",
     "metadata": {},
     "outputs": [],
     "prompt_number": 27
    },
    {
     "cell_type": "markdown",
     "metadata": {},
     "source": [
      "## Now do ER 11"
     ]
    },
    {
     "cell_type": "code",
     "collapsed": false,
     "input": [
      "finder = np.in1d(idx,er11)\n",
      "df_er11 = pd.DataFrame({'P':P[finder==True],'PET':PET[finder==True],'days':days[finder == True]})\n",
      "df_er11 = df_er11.groupby(by='days').mean()\n",
      "df_er11.index = pd.DatetimeIndex(dates)\n",
      "\n",
      "df_er11['PET_P'] = df_er11.PET/df_er11.P\n",
      "df_er11.loc[np.isinf(df_er11.PET_P)==1,'PET_P'] = np.NaN\n",
      "\n",
      "df_er11an = df_er11.resample('A', how=np.nanmean)\n",
      "df_er11.to_csv('./data/spl_er11_PET_P.csv',index = True, header = True, float_format='%.8f',index_label='date')\n",
      "df_er11an.to_csv('./data/spl_er11_PET_P_an.csv',index = True, header = True, float_format='%.8f',index_label='date')\n",
      "df_er11['year'] = np.NaN\n",
      "df_er11['doy'] = np.NaN\n",
      "for day in df_er11.index:\n",
      "    df_er11.loc[day,'year'] = int(day.strftime('%Y'))\n",
      "    df_er11.loc[day,'doy'] = int(day.strftime('%j'))\n",
      "    \n",
      "# subset out DOY1\n",
      "finder = np.in1d(df_er11.doy.as_matrix(),doy1)\n",
      "df_er11_doy1 = df_er11.loc[finder==True,:]\n",
      "df_er11_doy1an = df_er11_doy1.resample('A', how=np.nanmean)\n",
      "df_er11_doy1an.to_csv('./data/spl_er11_PET_P_doy1an.csv',index = True, header = True, float_format='%.8f',index_label='date')\n",
      "\n",
      "# subset out DOY2\n",
      "finder = np.in1d(df_er11.doy.as_matrix(),doy2)\n",
      "df_er11_doy2 = df_er11.loc[finder==True,:]\n",
      "df_er11_doy2an = df_er11_doy2.resample('A', how=np.nanmean)\n",
      "df_er11_doy2an.to_csv('./data/spl_er11_PET_P_doy2an.csv',index = True, header = True, float_format='%.8f',index_label='date')"
     ],
     "language": "python",
     "metadata": {},
     "outputs": [],
     "prompt_number": 28
    },
    {
     "cell_type": "markdown",
     "metadata": {},
     "source": [
      "## ER 13"
     ]
    },
    {
     "cell_type": "code",
     "collapsed": false,
     "input": [
      "finder = np.in1d(idx,er13)\n",
      "df_er13 = pd.DataFrame({'P':P[finder==True],'PET':PET[finder==True],'days':days[finder == True]})\n",
      "df_er13 = df_er13.groupby(by='days').mean()\n",
      "df_er13.index = pd.DatetimeIndex(dates)\n",
      "\n",
      "df_er13['PET_P'] = df_er13.PET/df_er13.P\n",
      "df_er13.loc[np.isinf(df_er13.PET_P)==1,'PET_P'] = np.NaN\n",
      "\n",
      "df_er13an = df_er13.resample('A', how=np.nanmean)\n",
      "df_er13.to_csv('./data/spl_er13_PET_P.csv',index = True, header = True, float_format='%.8f',index_label='date')\n",
      "df_er13an.to_csv('./data/spl_er13_PET_P_an.csv',index = True, header = True, float_format='%.8f',index_label='date')\n",
      "df_er13['year'] = np.NaN\n",
      "df_er13['doy'] = np.NaN\n",
      "for day in df_er13.index:\n",
      "    df_er13.loc[day,'year'] = int(day.strftime('%Y'))\n",
      "    df_er13.loc[day,'doy'] = int(day.strftime('%j'))\n",
      "    \n",
      "# subset out DOY1\n",
      "finder = np.in1d(df_er13.doy.as_matrix(),doy1)\n",
      "df_er13_doy1 = df_er13.loc[finder==True,:]\n",
      "df_er13_doy1an = df_er13_doy1.resample('A', how=np.nanmean)\n",
      "df_er13_doy1an.to_csv('./data/spl_er13_PET_P_doy1an.csv',index = True, header = True, float_format='%.8f',index_label='date')\n",
      "\n",
      "# subset out DOY2\n",
      "finder = np.in1d(df_er13.doy.as_matrix(),doy2)\n",
      "df_er13_doy2 = df_er13.loc[finder==True,:]\n",
      "df_er13_doy2an = df_er13_doy2.resample('A', how=np.nanmean)\n",
      "df_er13_doy2an.to_csv('./data/spl_er13_PET_P_doy2an.csv',index = True, header = True, float_format='%.8f',index_label='date')"
     ],
     "language": "python",
     "metadata": {},
     "outputs": [],
     "prompt_number": 29
    },
    {
     "cell_type": "markdown",
     "metadata": {},
     "source": [
      "## ER 6 11 13"
     ]
    },
    {
     "cell_type": "code",
     "collapsed": false,
     "input": [
      "finder = np.in1d(idx,er61113)\n",
      "df_er61113 = pd.DataFrame({'P':P[finder==True],'PET':PET[finder==True],'days':days[finder == True]})\n",
      "df_er61113 = df_er61113.groupby(by='days').mean()\n",
      "df_er61113.index = pd.DatetimeIndex(dates)\n",
      "\n",
      "df_er61113['PET_P'] = df_er61113.PET/df_er61113.P\n",
      "df_er61113.loc[np.isinf(df_er61113.PET_P)==1,'PET_P'] = np.NaN\n",
      "\n",
      "df_er61113an = df_er61113.resample('A', how=np.nanmean)\n",
      "df_er61113.to_csv('./data/spl_er61113_PET_P.csv',index = True, header = True, float_format='%.8f',index_label='date')\n",
      "df_er61113an.to_csv('./data/spl_er61113_PET_P_an.csv',index = True, header = True, float_format='%.8f',index_label='date')\n",
      "df_er61113['year'] = np.NaN\n",
      "df_er61113['doy'] = np.NaN\n",
      "for day in df_er61113.index:\n",
      "    df_er61113.loc[day,'year'] = int(day.strftime('%Y'))\n",
      "    df_er61113.loc[day,'doy'] = int(day.strftime('%j'))\n",
      "    \n",
      "# subset out DOY1\n",
      "finder = np.in1d(df_er61113.doy.as_matrix(),doy1)\n",
      "df_er61113_doy1 = df_er61113.loc[finder==True,:]\n",
      "df_er61113_doy1an = df_er61113_doy1.resample('A', how=np.nanmean)\n",
      "df_er61113_doy1an.to_csv('./data/spl_er61113_PET_P_doy1an.csv',index = True, header = True, float_format='%.8f',index_label='date')\n",
      "\n",
      "# subset out DOY2\n",
      "finder = np.in1d(df_er61113.doy.as_matrix(),doy2)\n",
      "df_er61113_doy2 = df_er61113.loc[finder==True,:]\n",
      "df_er61113_doy2an = df_er61113_doy2.resample('A', how=np.nanmean)\n",
      "df_er61113_doy2an.to_csv('./data/spl_er61113_PET_P_doy2an.csv',index = True, header = True, float_format='%.8f',index_label='date')"
     ],
     "language": "python",
     "metadata": {},
     "outputs": [],
     "prompt_number": 30
    }
   ],
   "metadata": {}
  }
 ]
}