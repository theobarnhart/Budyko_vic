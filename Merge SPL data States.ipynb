{
 "metadata": {
  "name": "",
  "signature": "sha256:c73bfb724b37f5736f25e57db5cf9b56d9e78ee35517d739099fbbe139490bbd"
 },
 "nbformat": 3,
 "nbformat_minor": 0,
 "worksheets": [
  {
   "cells": [
    {
     "cell_type": "code",
     "collapsed": false,
     "input": [
      "import numpy as np\n",
      "import pandas as pd"
     ],
     "language": "python",
     "metadata": {},
     "outputs": [],
     "prompt_number": 1
    },
    {
     "cell_type": "code",
     "collapsed": false,
     "input": [
      "with np.load('/Users/barnhatb/research/spl_cals.npz') as data:\n",
      "    days = data['days']\n",
      "    PET = data['PET']\n",
      "    P = data['P']\n",
      "    #dat = pd.DataFrame({'days':data['days'],'PET':data['PET'],'P':data['P']})"
     ],
     "language": "python",
     "metadata": {},
     "outputs": [],
     "prompt_number": 2
    },
    {
     "cell_type": "code",
     "collapsed": false,
     "input": [
      "P = P[np.isnan(days) == 0]\n",
      "PET = PET[np.isnan(days) == 0]\n",
      "days = days[np.isnan(days) == 0]"
     ],
     "language": "python",
     "metadata": {},
     "outputs": [],
     "prompt_number": 3
    },
    {
     "cell_type": "code",
     "collapsed": false,
     "input": [
      "dd = np.unique(days)"
     ],
     "language": "python",
     "metadata": {},
     "outputs": [],
     "prompt_number": 4
    },
    {
     "cell_type": "code",
     "collapsed": false,
     "input": [
      "len(dd)"
     ],
     "language": "python",
     "metadata": {},
     "outputs": [
      {
       "metadata": {},
       "output_type": "pyout",
       "prompt_number": 5,
       "text": [
        "5844"
       ]
      }
     ],
     "prompt_number": 5
    },
    {
     "cell_type": "code",
     "collapsed": false,
     "input": [
      "PET_P = PET/P"
     ],
     "language": "python",
     "metadata": {},
     "outputs": [],
     "prompt_number": 6
    },
    {
     "cell_type": "code",
     "collapsed": false,
     "input": [
      "dat = pd.DataFrame({'days':days,'PET':PET,'P':P,'PET_P':PET_P})"
     ],
     "language": "python",
     "metadata": {},
     "outputs": [],
     "prompt_number": 7
    },
    {
     "cell_type": "code",
     "collapsed": false,
     "input": [
      "dat2 = dat.groupby('days').mean()"
     ],
     "language": "python",
     "metadata": {},
     "outputs": [],
     "prompt_number": 8
    },
    {
     "cell_type": "code",
     "collapsed": false,
     "input": [
      "len(dat2)"
     ],
     "language": "python",
     "metadata": {},
     "outputs": [
      {
       "metadata": {},
       "output_type": "pyout",
       "prompt_number": 9,
       "text": [
        "5844"
       ]
      }
     ],
     "prompt_number": 9
    },
    {
     "cell_type": "code",
     "collapsed": false,
     "input": [
      "dat2['PET_P'] = dat2.PET/dat2.P"
     ],
     "language": "python",
     "metadata": {},
     "outputs": [],
     "prompt_number": 11
    },
    {
     "cell_type": "code",
     "collapsed": false,
     "input": [
      "dat2.head()"
     ],
     "language": "python",
     "metadata": {},
     "outputs": [
      {
       "html": [
        "<div style=\"max-height:1000px;max-width:1500px;overflow:auto;\">\n",
        "<table border=\"1\" class=\"dataframe\">\n",
        "  <thead>\n",
        "    <tr style=\"text-align: right;\">\n",
        "      <th></th>\n",
        "      <th>P</th>\n",
        "      <th>PET</th>\n",
        "      <th>PET_P</th>\n",
        "    </tr>\n",
        "    <tr>\n",
        "      <th>days</th>\n",
        "      <th></th>\n",
        "      <th></th>\n",
        "      <th></th>\n",
        "    </tr>\n",
        "  </thead>\n",
        "  <tbody>\n",
        "    <tr>\n",
        "      <th>2450814.5</th>\n",
        "      <td> 1.625576</td>\n",
        "      <td> 1.309253</td>\n",
        "      <td> 0.805409</td>\n",
        "    </tr>\n",
        "    <tr>\n",
        "      <th>2450815.5</th>\n",
        "      <td> 3.077506</td>\n",
        "      <td> 1.346047</td>\n",
        "      <td> 0.437382</td>\n",
        "    </tr>\n",
        "    <tr>\n",
        "      <th>2450816.5</th>\n",
        "      <td> 3.670232</td>\n",
        "      <td> 1.046665</td>\n",
        "      <td> 0.285177</td>\n",
        "    </tr>\n",
        "    <tr>\n",
        "      <th>2450817.5</th>\n",
        "      <td> 4.235277</td>\n",
        "      <td> 1.027991</td>\n",
        "      <td> 0.242721</td>\n",
        "    </tr>\n",
        "    <tr>\n",
        "      <th>2450818.5</th>\n",
        "      <td> 2.252586</td>\n",
        "      <td> 1.001181</td>\n",
        "      <td> 0.444459</td>\n",
        "    </tr>\n",
        "  </tbody>\n",
        "</table>\n",
        "</div>"
       ],
       "metadata": {},
       "output_type": "pyout",
       "prompt_number": 12,
       "text": [
        "                  P       PET     PET_P\n",
        "days                                   \n",
        "2450814.5  1.625576  1.309253  0.805409\n",
        "2450815.5  3.077506  1.346047  0.437382\n",
        "2450816.5  3.670232  1.046665  0.285177\n",
        "2450817.5  4.235277  1.027991  0.242721\n",
        "2450818.5  2.252586  1.001181  0.444459"
       ]
      }
     ],
     "prompt_number": 12
    },
    {
     "cell_type": "code",
     "collapsed": false,
     "input": [
      "dates = pd.read_pickle('./timecode.pcl')\n",
      "tmp = np.arange(len(dates))"
     ],
     "language": "python",
     "metadata": {},
     "outputs": [],
     "prompt_number": 16
    },
    {
     "cell_type": "code",
     "collapsed": false,
     "input": [
      "dts = pd.DataFrame({'var':tmp})"
     ],
     "language": "python",
     "metadata": {},
     "outputs": [],
     "prompt_number": 17
    },
    {
     "cell_type": "code",
     "collapsed": false,
     "input": [
      "dts.index = pd.DatetimeIndex(dates)"
     ],
     "language": "python",
     "metadata": {},
     "outputs": [],
     "prompt_number": 18
    },
    {
     "cell_type": "code",
     "collapsed": false,
     "input": [
      "dts = dts.loc['1998-01-01':'2013-12-31']"
     ],
     "language": "python",
     "metadata": {},
     "outputs": [],
     "prompt_number": 19
    },
    {
     "cell_type": "code",
     "collapsed": false,
     "input": [
      "len(dts)"
     ],
     "language": "python",
     "metadata": {},
     "outputs": [
      {
       "metadata": {},
       "output_type": "pyout",
       "prompt_number": 22,
       "text": [
        "5844"
       ]
      }
     ],
     "prompt_number": 22
    },
    {
     "cell_type": "code",
     "collapsed": false,
     "input": [
      "dat2.index = dts.index"
     ],
     "language": "python",
     "metadata": {},
     "outputs": [],
     "prompt_number": 23
    },
    {
     "cell_type": "code",
     "collapsed": false,
     "input": [
      "dat2.head()"
     ],
     "language": "python",
     "metadata": {},
     "outputs": [
      {
       "html": [
        "<div style=\"max-height:1000px;max-width:1500px;overflow:auto;\">\n",
        "<table border=\"1\" class=\"dataframe\">\n",
        "  <thead>\n",
        "    <tr style=\"text-align: right;\">\n",
        "      <th></th>\n",
        "      <th>P</th>\n",
        "      <th>PET</th>\n",
        "      <th>PET_P</th>\n",
        "    </tr>\n",
        "  </thead>\n",
        "  <tbody>\n",
        "    <tr>\n",
        "      <th>1998-01-01</th>\n",
        "      <td> 1.625576</td>\n",
        "      <td> 1.309253</td>\n",
        "      <td> 0.805409</td>\n",
        "    </tr>\n",
        "    <tr>\n",
        "      <th>1998-01-02</th>\n",
        "      <td> 3.077506</td>\n",
        "      <td> 1.346047</td>\n",
        "      <td> 0.437382</td>\n",
        "    </tr>\n",
        "    <tr>\n",
        "      <th>1998-01-03</th>\n",
        "      <td> 3.670232</td>\n",
        "      <td> 1.046665</td>\n",
        "      <td> 0.285177</td>\n",
        "    </tr>\n",
        "    <tr>\n",
        "      <th>1998-01-04</th>\n",
        "      <td> 4.235277</td>\n",
        "      <td> 1.027991</td>\n",
        "      <td> 0.242721</td>\n",
        "    </tr>\n",
        "    <tr>\n",
        "      <th>1998-01-05</th>\n",
        "      <td> 2.252586</td>\n",
        "      <td> 1.001181</td>\n",
        "      <td> 0.444459</td>\n",
        "    </tr>\n",
        "  </tbody>\n",
        "</table>\n",
        "</div>"
       ],
       "metadata": {},
       "output_type": "pyout",
       "prompt_number": 24,
       "text": [
        "                   P       PET     PET_P\n",
        "1998-01-01  1.625576  1.309253  0.805409\n",
        "1998-01-02  3.077506  1.346047  0.437382\n",
        "1998-01-03  3.670232  1.046665  0.285177\n",
        "1998-01-04  4.235277  1.027991  0.242721\n",
        "1998-01-05  2.252586  1.001181  0.444459"
       ]
      }
     ],
     "prompt_number": 24
    },
    {
     "cell_type": "code",
     "collapsed": false,
     "input": [
      "dat2.to_csv('./data/spl_PET_P.csv',index = True, header = True, float_format='%.8f',index_label='date')"
     ],
     "language": "python",
     "metadata": {},
     "outputs": [],
     "prompt_number": 27
    }
   ],
   "metadata": {}
  }
 ]
}