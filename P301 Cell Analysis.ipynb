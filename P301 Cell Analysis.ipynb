{
 "metadata": {
  "name": "",
  "signature": "sha256:843c32dbbef64ffaa48c6644b205c295fc5078dc17320d1cc6a11f2066cd1588"
 },
 "nbformat": 3,
 "nbformat_minor": 0,
 "worksheets": [
  {
   "cells": [
    {
     "cell_type": "code",
     "collapsed": false,
     "input": [
      "%matplotlib inline\n",
      "import numpy as np\n",
      "import pandas as pd\n",
      "import matplotlib.pyplot as plt\n",
      "import statsmodels.api as sm"
     ],
     "language": "python",
     "metadata": {},
     "outputs": [],
     "prompt_number": 1
    },
    {
     "cell_type": "code",
     "collapsed": false,
     "input": [
      "fluxes_columns = ['y','m','d','ET','R','BF','sm1','sm2','sm3','SWE','Cs','Qs','Ql','Qg','NR','PEText','PETtrc','PETsrc']\n",
      "forcing_columns = ['P','Tmax','Tmin','W']"
     ],
     "language": "python",
     "metadata": {},
     "outputs": [],
     "prompt_number": 2
    },
    {
     "cell_type": "code",
     "collapsed": false,
     "input": [
      "fl = './data/flux_snow_37.09375_-119.21875'\n",
      "fr = './data/Meteorology_Livneh_NAmerExt_15Oct2014_37.09375_-119.21875'"
     ],
     "language": "python",
     "metadata": {},
     "outputs": [],
     "prompt_number": 21
    },
    {
     "cell_type": "code",
     "collapsed": false,
     "input": [
      "dates = pd.read_pickle('./timecode.pcl')"
     ],
     "language": "python",
     "metadata": {},
     "outputs": [],
     "prompt_number": 22
    },
    {
     "cell_type": "code",
     "collapsed": false,
     "input": [
      "flux = pd.read_table(fl, sep='\\t', names=fluxes_columns) # load fluxes\n",
      "flux.index = pd.DatetimeIndex(dates)\n",
      "    \n",
      "forc = pd.read_table(fr, sep=' ', names=forcing_columns) # load forcing\n",
      "forc.index = pd.DatetimeIndex(dates)"
     ],
     "language": "python",
     "metadata": {},
     "outputs": [],
     "prompt_number": 23
    },
    {
     "cell_type": "code",
     "collapsed": false,
     "input": [
      "wyears = np.load('./wyears.npy')"
     ],
     "language": "python",
     "metadata": {},
     "outputs": [],
     "prompt_number": 24
    },
    {
     "cell_type": "code",
     "collapsed": false,
     "input": [
      "cols = ['ablationslope','peakswe','ablationseasonP','gsET','wyP', 'ablationseason']"
     ],
     "language": "python",
     "metadata": {},
     "outputs": [],
     "prompt_number": 25
    },
    {
     "cell_type": "code",
     "collapsed": false,
     "input": [
      "data = pd.DataFrame(columns=cols, index=wyears)"
     ],
     "language": "python",
     "metadata": {},
     "outputs": [],
     "prompt_number": 26
    },
    {
     "cell_type": "code",
     "collapsed": false,
     "input": [
      "for wy in wyears:\n",
      "    strt = str(wy-1)+'-10-01'\n",
      "    nd = str(wy)+'-09-30'\n",
      "    \n",
      "    data.loc[wy,'peakswe'] = flux[strt:nd].SWE.max() # pull max swe\n",
      "    dopeakswe = flux[strt:nd].SWE.idxmax() # pull day of peak swe\n",
      "    donosnow = flux[dopeakswe:nd].SWE.idxmin() # pull the day of now snow\n",
      "    \n",
      "    ablationseason = (donosnow-dopeakswe).days # compute the ablation season length\n",
      "    \n",
      "    data.loc[wy,'gsET'] = flux[dopeakswe:nd].ET.sum() # sum ET over the growing season \n",
      "    data.loc[wy,'ablationslope'] = data.loc[wy,'peakswe']/ablationseason # compute the average daily melt rate and store it\n",
      "    data.loc[wy,'ablationseason'] = ablationseason # save the ablation season length\n",
      "    data.loc[wy,'ablationseasonP'] = forc[dopeakswe:donosnow].P.sum()/ablationseason\n",
      "    \n",
      "    data.loc[wy,'wyP'] = forc[strt:nd].P.sum() # sum and store water year P\n",
      "    "
     ],
     "language": "python",
     "metadata": {},
     "outputs": [],
     "prompt_number": 27
    },
    {
     "cell_type": "code",
     "collapsed": false,
     "input": [
      "data.head()"
     ],
     "language": "python",
     "metadata": {},
     "outputs": [
      {
       "html": [
        "<div style=\"max-height:1000px;max-width:1500px;overflow:auto;\">\n",
        "<table border=\"1\" class=\"dataframe\">\n",
        "  <thead>\n",
        "    <tr style=\"text-align: right;\">\n",
        "      <th></th>\n",
        "      <th>ablationslope</th>\n",
        "      <th>peakswe</th>\n",
        "      <th>ablationseasonP</th>\n",
        "      <th>gsET</th>\n",
        "      <th>wyP</th>\n",
        "      <th>ablationseason</th>\n",
        "    </tr>\n",
        "  </thead>\n",
        "  <tbody>\n",
        "    <tr>\n",
        "      <th>1951</th>\n",
        "      <td> 6.448169</td>\n",
        "      <td>  83.8262</td>\n",
        "      <td> 0.05076923</td>\n",
        "      <td> 448.3339</td>\n",
        "      <td> 956.04</td>\n",
        "      <td> 13</td>\n",
        "    </tr>\n",
        "    <tr>\n",
        "      <th>1952</th>\n",
        "      <td> 13.05414</td>\n",
        "      <td> 757.1399</td>\n",
        "      <td>   1.730862</td>\n",
        "      <td> 443.8277</td>\n",
        "      <td> 1222.1</td>\n",
        "      <td> 58</td>\n",
        "    </tr>\n",
        "    <tr>\n",
        "      <th>1953</th>\n",
        "      <td> 1.772696</td>\n",
        "      <td> 125.8614</td>\n",
        "      <td>   1.145211</td>\n",
        "      <td> 511.5187</td>\n",
        "      <td> 641.52</td>\n",
        "      <td> 71</td>\n",
        "    </tr>\n",
        "    <tr>\n",
        "      <th>1954</th>\n",
        "      <td> 9.844154</td>\n",
        "      <td>  127.974</td>\n",
        "      <td>  0.1376923</td>\n",
        "      <td> 456.6603</td>\n",
        "      <td> 785.01</td>\n",
        "      <td> 13</td>\n",
        "    </tr>\n",
        "    <tr>\n",
        "      <th>1955</th>\n",
        "      <td> 2.211941</td>\n",
        "      <td> 157.0478</td>\n",
        "      <td>   1.668592</td>\n",
        "      <td> 456.1688</td>\n",
        "      <td> 716.73</td>\n",
        "      <td> 71</td>\n",
        "    </tr>\n",
        "  </tbody>\n",
        "</table>\n",
        "</div>"
       ],
       "metadata": {},
       "output_type": "pyout",
       "prompt_number": 28,
       "text": [
        "     ablationslope   peakswe ablationseasonP      gsET     wyP ablationseason\n",
        "1951      6.448169   83.8262      0.05076923  448.3339  956.04             13\n",
        "1952      13.05414  757.1399        1.730862  443.8277  1222.1             58\n",
        "1953      1.772696  125.8614        1.145211  511.5187  641.52             71\n",
        "1954      9.844154   127.974       0.1376923  456.6603  785.01             13\n",
        "1955      2.211941  157.0478        1.668592  456.1688  716.73             71"
       ]
      }
     ],
     "prompt_number": 28
    },
    {
     "cell_type": "code",
     "collapsed": false,
     "input": [
      "data['gsET_P']= data.gsET/data.wyP\n",
      "data['flux'] = data.ablationslope+data.ablationseasonP"
     ],
     "language": "python",
     "metadata": {},
     "outputs": [],
     "prompt_number": 29
    },
    {
     "cell_type": "code",
     "collapsed": false,
     "input": [
      "data.head()"
     ],
     "language": "python",
     "metadata": {},
     "outputs": [
      {
       "html": [
        "<div style=\"max-height:1000px;max-width:1500px;overflow:auto;\">\n",
        "<table border=\"1\" class=\"dataframe\">\n",
        "  <thead>\n",
        "    <tr style=\"text-align: right;\">\n",
        "      <th></th>\n",
        "      <th>ablationslope</th>\n",
        "      <th>peakswe</th>\n",
        "      <th>ablationseasonP</th>\n",
        "      <th>gsET</th>\n",
        "      <th>wyP</th>\n",
        "      <th>ablationseason</th>\n",
        "      <th>gsET_P</th>\n",
        "      <th>flux</th>\n",
        "    </tr>\n",
        "  </thead>\n",
        "  <tbody>\n",
        "    <tr>\n",
        "      <th>1951</th>\n",
        "      <td> 6.448169</td>\n",
        "      <td>  83.8262</td>\n",
        "      <td> 0.05076923</td>\n",
        "      <td> 448.3339</td>\n",
        "      <td> 956.04</td>\n",
        "      <td> 13</td>\n",
        "      <td> 0.4689489</td>\n",
        "      <td> 6.498938</td>\n",
        "    </tr>\n",
        "    <tr>\n",
        "      <th>1952</th>\n",
        "      <td> 13.05414</td>\n",
        "      <td> 757.1399</td>\n",
        "      <td>   1.730862</td>\n",
        "      <td> 443.8277</td>\n",
        "      <td> 1222.1</td>\n",
        "      <td> 58</td>\n",
        "      <td> 0.3631681</td>\n",
        "      <td>   14.785</td>\n",
        "    </tr>\n",
        "    <tr>\n",
        "      <th>1953</th>\n",
        "      <td> 1.772696</td>\n",
        "      <td> 125.8614</td>\n",
        "      <td>   1.145211</td>\n",
        "      <td> 511.5187</td>\n",
        "      <td> 641.52</td>\n",
        "      <td> 71</td>\n",
        "      <td> 0.7973543</td>\n",
        "      <td> 2.917907</td>\n",
        "    </tr>\n",
        "    <tr>\n",
        "      <th>1954</th>\n",
        "      <td> 9.844154</td>\n",
        "      <td>  127.974</td>\n",
        "      <td>  0.1376923</td>\n",
        "      <td> 456.6603</td>\n",
        "      <td> 785.01</td>\n",
        "      <td> 13</td>\n",
        "      <td> 0.5817255</td>\n",
        "      <td> 9.981846</td>\n",
        "    </tr>\n",
        "    <tr>\n",
        "      <th>1955</th>\n",
        "      <td> 2.211941</td>\n",
        "      <td> 157.0478</td>\n",
        "      <td>   1.668592</td>\n",
        "      <td> 456.1688</td>\n",
        "      <td> 716.73</td>\n",
        "      <td> 71</td>\n",
        "      <td> 0.6364584</td>\n",
        "      <td> 3.880532</td>\n",
        "    </tr>\n",
        "  </tbody>\n",
        "</table>\n",
        "</div>"
       ],
       "metadata": {},
       "output_type": "pyout",
       "prompt_number": 30,
       "text": [
        "     ablationslope   peakswe ablationseasonP      gsET     wyP ablationseason  \\\n",
        "1951      6.448169   83.8262      0.05076923  448.3339  956.04             13   \n",
        "1952      13.05414  757.1399        1.730862  443.8277  1222.1             58   \n",
        "1953      1.772696  125.8614        1.145211  511.5187  641.52             71   \n",
        "1954      9.844154   127.974       0.1376923  456.6603  785.01             13   \n",
        "1955      2.211941  157.0478        1.668592  456.1688  716.73             71   \n",
        "\n",
        "         gsET_P      flux  \n",
        "1951  0.4689489  6.498938  \n",
        "1952  0.3631681    14.785  \n",
        "1953  0.7973543  2.917907  \n",
        "1954  0.5817255  9.981846  \n",
        "1955  0.6364584  3.880532  "
       ]
      }
     ],
     "prompt_number": 30
    },
    {
     "cell_type": "code",
     "collapsed": false,
     "input": [
      "data.to_pickle('./data/P301_cell.df')"
     ],
     "language": "python",
     "metadata": {},
     "outputs": [],
     "prompt_number": 31
    },
    {
     "cell_type": "code",
     "collapsed": false,
     "input": [
      "data.loc[data.gsET_P>1,:] = np.NaN"
     ],
     "language": "python",
     "metadata": {},
     "outputs": [],
     "prompt_number": 32
    },
    {
     "cell_type": "code",
     "collapsed": false,
     "input": [
      "data.gsET_P.max()"
     ],
     "language": "python",
     "metadata": {},
     "outputs": [
      {
       "metadata": {},
       "output_type": "pyout",
       "prompt_number": 33,
       "text": [
        "0.87820624082820009"
       ]
      }
     ],
     "prompt_number": 33
    },
    {
     "cell_type": "code",
     "collapsed": false,
     "input": [],
     "language": "python",
     "metadata": {},
     "outputs": [],
     "prompt_number": 33
    },
    {
     "cell_type": "code",
     "collapsed": false,
     "input": [
      "data2 = data.dropna(subset=['flux','gsET_P']).astype(float)\n",
      "X = data2.flux\n",
      "y = data2.gsET_P\n",
      "X = sm.add_constant(X)\n",
      "results = sm.OLS(y, X).fit()\n",
      "\n",
      "titlefont = 28\n",
      "axfont = 22\n",
      "labelfont = 24\n",
      "annotatefont = 20\n",
      "\n",
      "\n",
      "EQ = 'y = '+str(round(results.params[1],3))+'x + '+str(round(results.params[0],3))\n",
      "params = 'r$^2$='+str(round(results.rsquared,3))+', p='+str(round(results.f_pvalue,3))\n",
      "\n",
      "fig = plt.figure(figsize=(12,8))\n",
      "ax = fig.add_subplot(111)\n",
      "ax.plot(X.flux,y,'.c',markersize=10);\n",
      "ax.plot(X.flux,results.fittedvalues,'-r', lw=3);\n",
      "ax.set_xlim([0,15])\n",
      "ax.set_ylim([0,1])\n",
      "#ax.set_title('1 Day Soil Moisture Lag', fontsize = titlefont);\n",
      "ax.set_xlabel('Water Flux [mm/d]', fontsize= labelfont);\n",
      "ax.set_ylabel('ET/P [1]', fontsize=labelfont);\n",
      "plt.setp(ax.get_xticklabels(),fontsize=axfont)\n",
      "plt.setp(ax.get_yticklabels(),fontsize=axfont)\n",
      "ax.axhline(0,c='0.5', lw=1.5);\n",
      "ax.axvline(0,c='0.5', lw=1.5);\n",
      "#ax.text(7,10,EQ, fontsize = annotatefont)\n",
      "#ax.text(7,9,params, fontsize = annotatefont)\n",
      "#plt.savefig('/Users/barnhatb/Dropbox/CUB/05_Spring_2015/WSC PI meeting/figures/short_term_SM_water_flx.pdf',bbox_inches='tight',transparent=True)\n",
      "\n",
      "print results.summary()"
     ],
     "language": "python",
     "metadata": {},
     "outputs": [
      {
       "output_type": "stream",
       "stream": "stdout",
       "text": [
        "                            OLS Regression Results                            \n",
        "==============================================================================\n",
        "Dep. Variable:                 gsET_P   R-squared:                       0.399\n",
        "Model:                            OLS   Adj. R-squared:                  0.389\n",
        "Method:                 Least Squares   F-statistic:                     40.44\n",
        "Date:                Sun, 12 Apr 2015   Prob (F-statistic):           2.89e-08\n",
        "Time:                        14:04:52   Log-Likelihood:                 35.314\n",
        "No. Observations:                  63   AIC:                            -66.63\n",
        "Df Residuals:                      61   BIC:                            -62.34\n",
        "Df Model:                           1                                         \n",
        "Covariance Type:            nonrobust                                         \n",
        "==============================================================================\n",
        "                 coef    std err          t      P>|t|      [95.0% Conf. Int.]\n",
        "------------------------------------------------------------------------------\n",
        "const          0.8132      0.047     17.308      0.000         0.719     0.907\n",
        "flux          -0.0345      0.005     -6.359      0.000        -0.045    -0.024\n",
        "==============================================================================\n",
        "Omnibus:                        0.126   Durbin-Watson:                   1.798\n",
        "Prob(Omnibus):                  0.939   Jarque-Bera (JB):                0.258\n",
        "Skew:                          -0.095   Prob(JB):                        0.879\n",
        "Kurtosis:                       2.750   Cond. No.                         23.3\n",
        "==============================================================================\n",
        "\n",
        "Warnings:\n",
        "[1] Standard Errors assume that the covariance matrix of the errors is correctly specified.\n"
       ]
      },
      {
       "metadata": {},
       "output_type": "display_data",
       "png": "[encoded data removed]",
       "text": [
        "<matplotlib.figure.Figure at 0x10cf33d90>"
       ]
      }
     ],
     "prompt_number": 34
    },
    {
     "cell_type": "code",
     "collapsed": false,
     "input": [
      "results.rsquared_adj"
     ],
     "language": "python",
     "metadata": {},
     "outputs": [
      {
       "metadata": {},
       "output_type": "pyout",
       "prompt_number": 35,
       "text": [
        "0.38879479284825058"
       ]
      }
     ],
     "prompt_number": 35
    },
    {
     "cell_type": "code",
     "collapsed": false,
     "input": [
      "np.var(y)"
     ],
     "language": "python",
     "metadata": {},
     "outputs": [
      {
       "metadata": {},
       "output_type": "pyout",
       "prompt_number": 36,
       "text": [
        "0.031733724981076676"
       ]
      }
     ],
     "prompt_number": 36
    },
    {
     "cell_type": "code",
     "collapsed": false,
     "input": [
      "results.save('./models/P301_vic_gsET_PvsFlux.mod')"
     ],
     "language": "python",
     "metadata": {},
     "outputs": [],
     "prompt_number": 38
    },
    {
     "cell_type": "code",
     "collapsed": false,
     "input": [
      "results.fittedvalues"
     ],
     "language": "python",
     "metadata": {},
     "outputs": []
    },
    {
     "cell_type": "code",
     "collapsed": false,
     "input": [
      "X"
     ],
     "language": "python",
     "metadata": {},
     "outputs": []
    },
    {
     "cell_type": "code",
     "collapsed": false,
     "input": [
      "td = donosnow-dopeakswe"
     ],
     "language": "python",
     "metadata": {},
     "outputs": []
    },
    {
     "cell_type": "code",
     "collapsed": false,
     "input": [
      "td.days"
     ],
     "language": "python",
     "metadata": {},
     "outputs": []
    },
    {
     "cell_type": "code",
     "collapsed": false,
     "input": [
      "donosnow"
     ],
     "language": "python",
     "metadata": {},
     "outputs": []
    },
    {
     "cell_type": "code",
     "collapsed": false,
     "input": [
      "dopeakswe"
     ],
     "language": "python",
     "metadata": {},
     "outputs": []
    },
    {
     "cell_type": "code",
     "collapsed": false,
     "input": [],
     "language": "python",
     "metadata": {},
     "outputs": []
    }
   ],
   "metadata": {}
  }
 ]
}