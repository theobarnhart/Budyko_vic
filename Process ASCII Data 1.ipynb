{
 "metadata": {
  "name": "",
  "signature": "sha256:9de4fbe245d4f432516cffa3fd4d0db79a9ac9776f6fbc8dea134ad139ca54a4"
 },
 "nbformat": 3,
 "nbformat_minor": 0,
 "worksheets": [
  {
   "cells": [
    {
     "cell_type": "markdown",
     "metadata": {},
     "source": [
      "# Process VIC ASCII data to extract Budyko Data\n",
      "\n",
      "## Theodore Barnhart | Created: 20150114"
     ]
    },
    {
     "cell_type": "markdown",
     "metadata": {},
     "source": [
      "## Imports"
     ]
    },
    {
     "cell_type": "code",
     "collapsed": false,
     "input": [
      "import pandas as pd\n",
      "import numpy as np\n",
      "import matplotlib.pyplot as plt\n",
      "import glob\n",
      "import sys\n",
      "from IPython.display import display, clear_output\n",
      "import ProgressBar as pb\n",
      "%matplotlib inline"
     ],
     "language": "python",
     "metadata": {},
     "outputs": []
    },
    {
     "cell_type": "code",
     "collapsed": false,
     "input": [
      "# load ASCII Forcing and Flux File Dates\n",
      "dates = pd.read_pickle('./timecode.pcl')"
     ],
     "language": "python",
     "metadata": {},
     "outputs": []
    },
    {
     "cell_type": "code",
     "collapsed": false,
     "input": [
      "# load all of the latitudes and logitudes of the grid cell centers\n",
      "lats = np.load('./latitudes.npy')\n",
      "lons = np.load('./longitudes.npy')"
     ],
     "language": "python",
     "metadata": {},
     "outputs": []
    },
    {
     "cell_type": "code",
     "collapsed": false,
     "input": [
      "# create a PANDAS multiindex to handle this type of data\n",
      "\n",
      "arrays = [lats,lons]\n",
      "tuples = list(zip(*arrays))\n",
      "\n",
      "index = pd.MultiIndex.from_tuples(tuples, names=['latitude','longitude'])"
     ],
     "language": "python",
     "metadata": {},
     "outputs": []
    },
    {
     "cell_type": "markdown",
     "metadata": {},
     "source": [
      "## Output Matrix Format:\n",
      "\n",
      "### The multiindex:\n",
      "\n",
      "- first index : latitude: grid cell center latitude [deg]\n",
      "- second index : longitude : grid cell center longitude [deg]\n",
      "\n",
      "### Data Frame columns:\n",
      "\n",
      "- P : average daily precipitation [mm]\n",
      "- PETpenmanvic : average daily PET from VIC's penman equation [mm]\n",
      "- ET : average daily ET from VIC [mm]\n",
      "- Sf : Long term average snowfall fraction [1]"
     ]
    },
    {
     "cell_type": "code",
     "collapsed": false,
     "input": [
      "# preallocate the data frame for the results\n",
      "\n",
      "data = pd.DataFrame(columns=['P','PETpenmanvic','ET','Sf'], index=index)"
     ],
     "language": "python",
     "metadata": {},
     "outputs": []
    },
    {
     "cell_type": "code",
     "collapsed": false,
     "input": [
      "data.head()"
     ],
     "language": "python",
     "metadata": {},
     "outputs": []
    },
    {
     "cell_type": "code",
     "collapsed": false,
     "input": [
      "# grab all the forcing cells:\n",
      "pth = '/Users/barnhatb/research/vic/forcing/ascii/'\n",
      "\n",
      "forcing = glob.glob(pth+'/*/Meteorology_*')\n",
      "\n",
      "# grab all the fluxes cells:\n",
      "pth = '/Users/barnhatb/research/vic/fluxes/ascii/'\n",
      "\n",
      "fluxes = glob.glob(pth+'/*/flux_*')"
     ],
     "language": "python",
     "metadata": {},
     "outputs": []
    },
    {
     "cell_type": "markdown",
     "metadata": {},
     "source": [
      "## Forcing Files Header:\n",
      "\n",
      "- P : Precipitation [mm]\n",
      "- Tmax : Maximum Daily Temperature [C]\n",
      "- Tmin : Minimum Daily Temperature [C]\n",
      "- W : Wind Speed [m/s]"
     ]
    },
    {
     "cell_type": "code",
     "collapsed": false,
     "input": [
      "forcing_columns = ['P','Tmax','Tmin','W']"
     ],
     "language": "python",
     "metadata": {},
     "outputs": []
    },
    {
     "cell_type": "markdown",
     "metadata": {},
     "source": [
      "## Fluxes Files Header:\n",
      "\n",
      "- y : Year\n",
      "- m : month\n",
      "- d : day\n",
      "- ET : Total ET [mm]\n",
      "- R : Runoff [mm]\n",
      "- BF : Baseflow [mm]\n",
      "- sm1 : Soil Moisture Level 1 [mm]\n",
      "- sm2 : Soil Moisture Level 2 [mm]\n",
      "- sm3 : Soil Moisture Level 3 [mm]\n",
      "- SWE : Snow Water Equivalent [mm]\n",
      "- Cs : Canopy Storage [mm]\n",
      "- Qs : Sensible Heat Flux [W/m$^2$]\n",
      "- Ql : Latent Heat Flux [W/m$^2$]\n",
      "- Qg : Ground Heat Flux [W/m$^2$]\n",
      "- NR : Net Radiation [W/m$^2$] \n",
      "- PEText : PET for existing vegetation [mm]\n",
      "- PETtrc : PET for tall reference crop [mm]\n",
      "- PETsrc : PET for short reference crop [mm]"
     ]
    },
    {
     "cell_type": "code",
     "collapsed": false,
     "input": [
      "fluxes_columns = ['y','m','d','ET','R','BF','sm1','sm2','sm3','SWE','Cs','Qs','Ql','Qg','NR','PEText','PETtrc','PETsrc']"
     ],
     "language": "python",
     "metadata": {},
     "outputs": []
    },
    {
     "cell_type": "code",
     "collapsed": false,
     "input": [
      "# loop though each forcing cell and extract summed P and\n",
      "# compute snow fraction\n",
      "\n",
      "# snowfall fraction computation thresholds:\n",
      "threshmax = 1.\n",
      "threshmin = -1. \n",
      "delx = threshmax-threshmin # get the number of degrees between snowfall thresholds \n",
      "\n",
      "# preallocations\n",
      "lat = []\n",
      "lon = []\n",
      "\n",
      "# initialize progress bar and counter\n",
      "p = pb.ProgressBar(len(forcing)) # progress bar\n",
      "ct = -1 # counter\n",
      "\n",
      "for fr in forcing:\n",
      "    ct += 1 # increment counter \n",
      "    # get indexing information \n",
      "    lat = float(fr.split('_')[-2]) # extract latitude from file name\n",
      "    lon = float(fr.split('_')[-1]) # extract longitude from file name\n",
      "    \n",
      "    # load the forcing file\n",
      "    force = pd.read_table(fr, sep=' ', names=forcing_columns)\n",
      "    force.index = pd.DatetimeIndex(dates)\n",
      "    \n",
      "    n = len(force) # get the number of records\n",
      "    \n",
      "    # Sum P over the record and standardize by record length\n",
      "    data.loc[(lat,lon),'P'] = np.sum(force.P)/n\n",
      "    \n",
      "    ################## Snow Fraction Calculation #################\n",
      "    ## Look At Me                                                #\n",
      "    ##############################################################\n",
      "    \n",
      "    force['snow'] = np.NaN # preallocate a new column\n",
      "    force.loc[force.P == 0.0,'snow'] = force.loc[force.P == 0.0,'P'] # fill in all the days with zero precip\n",
      "\n",
      "    # days where the max temp is less than the minimum threshold, assign all the precip to snow\n",
      "    force.loc[force.Tmax < threshmin,'snow'] = force.loc[force.Tmax < threshmin,'P']\n",
      "\n",
      "    # days where the min temp is more than the maximum threshold asisgn all the precip to rain.\n",
      "    force.loc[force.Tmin > threshmax,'snow'] = 0.0\n",
      "\n",
      "    # compute the average temperature for each day\n",
      "    force['Tave'] = (force.Tmax+force.Tmin)/2.\n",
      "\n",
      "    # for days where the average temperature is between the thresholds, compute the snowfall as the linear fraction at that\n",
      "    # temperature between each threshold value.\n",
      "    force.loc[(threshmin <= force['Tave']) & (force['Tave']<= threshmax),'snow'] = (1+((-1./delx)*(force.loc[(threshmin <= force['Tave']) & (force['Tave']<= threshmax),'Tave'] - threshmin)))*force.loc[(threshmin <= force['Tave']) & (force['Tave']<= threshmax),'P']\n",
      "\n",
      "    # compute the long term snowfall fraction\n",
      "    data.loc[(lat,lon),'Sf'] = np.sum(force.snow)/np.sum(force.P) \n",
      "    \n",
      "    ## Old way ##\n",
      "    \n",
      "    #force.loc[force.Tmax<threshmin,'snow'] = force.apply(snowfallfrac,axis=1)\n",
      "    \n",
      "    # Compute the snowfall for each day\n",
      "    #for day in dates:\n",
      "    #    force.loc[day,'snow'] = snowfallfrac(force.loc[day,'Tmin'],force.loc[day,'Tmax'],\n",
      "    #                             threshmin,threshmax,force.loc[day,'P']) \n",
      "    \n",
      "    ############ End Snow Fraction Calculation ###################\n",
      "    \n",
      "    p.animate(ct) # update progress bar\n",
      "    "
     ],
     "language": "python",
     "metadata": {},
     "outputs": []
    },
    {
     "cell_type": "markdown",
     "metadata": {},
     "source": [
      "### Comments:\n",
      "\n",
      "I tried to linearlize the snow fraction calculation as best I could. I think its correct, but it could use another set of eyes. It basically hinges on a bunch of conditional statements in place of a loop and condtional statements. Thoughts on how to do this better would be great!"
     ]
    },
    {
     "cell_type": "code",
     "collapsed": false,
     "input": [
      "data.to_pickle('./budyko_temp.pcl') # export intermediate file"
     ],
     "language": "python",
     "metadata": {},
     "outputs": []
    },
    {
     "cell_type": "code",
     "collapsed": false,
     "input": [
      "# loop through each fluxes cell and extract ET and PET\n",
      "\n",
      "# preallocations\n",
      "lat = []\n",
      "lon = []\n",
      "\n",
      "# initialize progress bar and counter\n",
      "p = pb.ProgressBar(len(fluxes)) # progress bar\n",
      "ct = -1 # counter\n",
      "\n",
      "for fl in fluxes:\n",
      "    ct += 1 # increment counter\n",
      "    # get indexing information\n",
      "    lat = float(fl.split('_')[-2]) # extract latitude from file name\n",
      "    lon = float(fl.split('_')[-1]) # extract longitude from file name\n",
      "    \n",
      "    # load the fluxes file\n",
      "    flux = pd.read_table(fl, sep='\\t', names=fluxes_columns)\n",
      "    flux.index = pd.DatetimeIndex(dates)\n",
      "    \n",
      "    n = len(flux)\n",
      "    \n",
      "    # sum ET over the record and standardize by record length\n",
      "    data.loc[(lat,lon),'ET'] = flux.ET.sum()/n\n",
      "    \n",
      "    # Sum PET over the record and standardize by record length\n",
      "    data.loc[(lat,lon),'PETpenmanvic'] = flux.PEText.sum()/n\n",
      "    \n",
      "    p.animate(ct)"
     ],
     "language": "python",
     "metadata": {},
     "outputs": []
    },
    {
     "cell_type": "code",
     "collapsed": false,
     "input": [
      "data.to_pickle('./budykodata.pcl') # export the complete data set"
     ],
     "language": "python",
     "metadata": {},
     "outputs": []
    },
    {
     "cell_type": "markdown",
     "metadata": {},
     "source": [
      "### Old Code, ignore"
     ]
    },
    {
     "cell_type": "raw",
     "metadata": {},
     "source": [
      "def snowfallfrac(x):\n",
      "    \n",
      "    threshmax = 1.\n",
      "    threshmin = -1. \n",
      "    \n",
      "    \n",
      "    # if the maximum temperature does not exceed the minimum snowfall temperature\n",
      "    # all of the P is snow, return P as the amount of snow\n",
      "    if x.Tmax.all() < threshmin:\n",
      "        return x.P\n",
      "    \n",
      "    # if the minimum temperature exceeds the maximum snowfall temperature all of\n",
      "    # the P is rain, return 0.\n",
      "    elif x.Tmin.all() > threshmax:\n",
      "        return 0.\n",
      "    \n",
      "    # if Tmin is less then threshmax and Tmax is more than threshmin, compute the snowfall\n",
      "    # as a linear percentage of the overlap of Tmin and Tmax over threshmin and threshmax\n",
      "\n",
      "    else:\n",
      "        Tave = (x.Tmin+x.Tmax)/2. # compute the average temperature\n",
      "        interslope = -1./(threshmax-threshmin) # compute the slope of the linear interpoaltion\n",
      "        deltemp = Tave - threshmin # compute the differnce between Tave and the minimum threshold\n",
      "        coef = 1+(interslope*deltemp) # compute the fraction of the precip that day that falls as snow\n",
      "        \n",
      "        if coef.all() > 1.:\n",
      "            coef = 1.\n",
      "            print 'Coef greater than 1 set to 1.'\n",
      "            \n",
      "        if coef.all() <0.:\n",
      "            coef = 0.\n",
      "            print 'Coef less than 0 set to 0.'\n",
      "            \n",
      "        return x.P*coef\n",
      "        "
     ]
    },
    {
     "cell_type": "raw",
     "metadata": {},
     "source": [
      "Tmax = [0.1,0.2,0.3,0.4,0.5,-2,10]\n",
      "Tmin = [-0.8,-0.7,-0.6,-0.5,-0.4,-4,3]\n",
      "P = [1.,1.,1.,1.,1.]\n",
      "threshmin = -1.\n",
      "threshmax = 1."
     ]
    },
    {
     "cell_type": "raw",
     "metadata": {},
     "source": [
      "for i in xrange(0,len(Tmax)):\n",
      "    print snowfallfrac(Tmin[i],Tmax[i],threshmin,threshmax,1.)"
     ]
    }
   ],
   "metadata": {}
  }
 ]
}