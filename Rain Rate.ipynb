{
 "cells": [
  {
   "cell_type": "code",
   "execution_count": 1,
   "metadata": {
    "collapsed": false
   },
   "outputs": [],
   "source": [
    "from IPython import parallel as p\n",
    "pc = p.Client()\n",
    "pc.block = True # make results return synchronously"
   ]
  },
  {
   "cell_type": "code",
   "execution_count": 2,
   "metadata": {
    "collapsed": false
   },
   "outputs": [
    {
     "data": {
      "text/plain": [
       "[0, 1, 2, 3]"
      ]
     },
     "execution_count": 2,
     "metadata": {},
     "output_type": "execute_result"
    }
   ],
   "source": [
    "pc.ids"
   ]
  },
  {
   "cell_type": "code",
   "execution_count": 3,
   "metadata": {
    "collapsed": false
   },
   "outputs": [],
   "source": [
    "view = pc.load_balanced_view()"
   ]
  },
  {
   "cell_type": "code",
   "execution_count": 4,
   "metadata": {
    "collapsed": false
   },
   "outputs": [],
   "source": [
    "%%px \n",
    "\n",
    "# run entire cell on all engines (set up a consistent environment)\n",
    "\n",
    "# import modules onto each engine\n",
    "import numpy as np\n",
    "import pandas as pd"
   ]
  },
  {
   "cell_type": "code",
   "execution_count": 5,
   "metadata": {
    "collapsed": false
   },
   "outputs": [],
   "source": [
    "# import global modules\n",
    "\n",
    "import pandas as pd\n",
    "import numpy as np\n",
    "import glob\n",
    "\n",
    "dates = pd.read_pickle('./timecode.pcl')\n",
    "wyears = np.load('./wyears.npy')"
   ]
  },
  {
   "cell_type": "code",
   "execution_count": 6,
   "metadata": {
    "collapsed": false
   },
   "outputs": [],
   "source": [
    "def rainrate(fr):\n",
    "    lat = float(fr.split('_')[-2]) # extract latitude from file name\n",
    "    lon = float(fr.split('_')[-1]) # extract longitude from file name\n",
    "    \n",
    "    forcing_columns = ['P','Tmax','Tmin','W']\n",
    "    \n",
    "    dat = pd.read_table(fr, sep=' ', names=forcing_columns)\n",
    "    \n",
    "    dat['coef'] = (0.-dat.Tmin)/(np.abs(dat.Tmax-dat.Tmin))\n",
    "    \n",
    "    dat.loc[dat.coef<0,'coef'] = 0.\n",
    "    dat.loc[dat.coef>1,'coef'] = 1.\n",
    "    \n",
    "    dat['rain'] = dat['P']*(1-dat['coef'])\n",
    "    \n",
    "    rain= dat.loc[dat.rain>0,'rain'].mean()\n",
    "    \n",
    "    return lat,lon,rain\n",
    "    "
   ]
  },
  {
   "cell_type": "code",
   "execution_count": 7,
   "metadata": {
    "collapsed": true
   },
   "outputs": [],
   "source": [
    "files = pd.read_pickle('./forcing_fluxes_filenames_lat_lon_index.df') # bring in the data frame of file paths"
   ]
  },
  {
   "cell_type": "code",
   "execution_count": 13,
   "metadata": {
    "collapsed": false
   },
   "outputs": [],
   "source": [
    "res = view.map(rainrate,files.forcing)"
   ]
  },
  {
   "cell_type": "code",
   "execution_count": 15,
   "metadata": {
    "collapsed": false
   },
   "outputs": [],
   "source": [
    "lat,lon,rr = zip(*res)"
   ]
  },
  {
   "cell_type": "code",
   "execution_count": 16,
   "metadata": {
    "collapsed": false
   },
   "outputs": [],
   "source": [
    "np.savez_compressed('./data/rainfall_rate.npz',lat=lat,lon=lon,rr=rr)"
   ]
  },
  {
   "cell_type": "code",
   "execution_count": 12,
   "metadata": {
    "collapsed": false
   },
   "outputs": [],
   "source": [
    "lat = list(lat)\n",
    "lon = list(lon)\n",
    "Sf = list(Sf)\n",
    "\n",
    "arrays = [lat,lon]\n",
    "tuples = list(zip(*arrays))\n",
    "\n",
    "index = pd.MultiIndex.from_tuples(tuples, names=['latitude','longitude'])\n",
    "\n",
    "cols = ['Sf2']\n",
    "\n",
    "data2 = pd.DataFrame({'Sf2':Sf}, index=index)"
   ]
  },
  {
   "cell_type": "code",
   "execution_count": 13,
   "metadata": {
    "collapsed": false
   },
   "outputs": [],
   "source": [
    "data = pd.read_pickle('./budykodata.pcl')"
   ]
  },
  {
   "cell_type": "code",
   "execution_count": 14,
   "metadata": {
    "collapsed": false
   },
   "outputs": [],
   "source": [
    "data = data.append(data2)"
   ]
  },
  {
   "cell_type": "code",
   "execution_count": 15,
   "metadata": {
    "collapsed": false
   },
   "outputs": [
    {
     "data": {
      "text/html": [
       "<div style=\"max-height:1000px;max-width:1500px;overflow:auto;\">\n",
       "<table border=\"1\" class=\"dataframe\">\n",
       "  <thead>\n",
       "    <tr style=\"text-align: right;\">\n",
       "      <th></th>\n",
       "      <th></th>\n",
       "      <th>ET</th>\n",
       "      <th>P</th>\n",
       "      <th>PETpenmanvic</th>\n",
       "      <th>Sf</th>\n",
       "      <th>Sf2</th>\n",
       "    </tr>\n",
       "    <tr>\n",
       "      <th>latitude</th>\n",
       "      <th>longitude</th>\n",
       "      <th></th>\n",
       "      <th></th>\n",
       "      <th></th>\n",
       "      <th></th>\n",
       "      <th></th>\n",
       "    </tr>\n",
       "  </thead>\n",
       "  <tbody>\n",
       "    <tr>\n",
       "      <th rowspan=\"2\" valign=\"top\">14.65625</th>\n",
       "      <th>-92.21875</th>\n",
       "      <td> NaN</td>\n",
       "      <td> 5.006493</td>\n",
       "      <td> NaN</td>\n",
       "      <td> 0</td>\n",
       "      <td>NaN</td>\n",
       "    </tr>\n",
       "    <tr>\n",
       "      <th>-92.28125</th>\n",
       "      <td> NaN</td>\n",
       "      <td> 4.951291</td>\n",
       "      <td> NaN</td>\n",
       "      <td> 0</td>\n",
       "      <td>NaN</td>\n",
       "    </tr>\n",
       "    <tr>\n",
       "      <th rowspan=\"3\" valign=\"top\">14.71875</th>\n",
       "      <th>-92.21875</th>\n",
       "      <td> NaN</td>\n",
       "      <td>  5.00617</td>\n",
       "      <td> NaN</td>\n",
       "      <td> 0</td>\n",
       "      <td>NaN</td>\n",
       "    </tr>\n",
       "    <tr>\n",
       "      <th>-92.28125</th>\n",
       "      <td> NaN</td>\n",
       "      <td> 4.934073</td>\n",
       "      <td> NaN</td>\n",
       "      <td> 0</td>\n",
       "      <td>NaN</td>\n",
       "    </tr>\n",
       "    <tr>\n",
       "      <th>-92.34375</th>\n",
       "      <td> NaN</td>\n",
       "      <td> 5.069163</td>\n",
       "      <td> NaN</td>\n",
       "      <td> 0</td>\n",
       "      <td>NaN</td>\n",
       "    </tr>\n",
       "  </tbody>\n",
       "</table>\n",
       "</div>"
      ],
      "text/plain": [
       "                     ET         P PETpenmanvic Sf  Sf2\n",
       "latitude longitude                                    \n",
       "14.65625 -92.21875  NaN  5.006493          NaN  0  NaN\n",
       "         -92.28125  NaN  4.951291          NaN  0  NaN\n",
       "14.71875 -92.21875  NaN   5.00617          NaN  0  NaN\n",
       "         -92.28125  NaN  4.934073          NaN  0  NaN\n",
       "         -92.34375  NaN  5.069163          NaN  0  NaN"
      ]
     },
     "execution_count": 15,
     "metadata": {},
     "output_type": "execute_result"
    }
   ],
   "source": [
    "data.head()"
   ]
  },
  {
   "cell_type": "code",
   "execution_count": 16,
   "metadata": {
    "collapsed": false
   },
   "outputs": [],
   "source": [
    "del data['Sf']"
   ]
  },
  {
   "cell_type": "code",
   "execution_count": 17,
   "metadata": {
    "collapsed": false
   },
   "outputs": [
    {
     "data": {
      "text/html": [
       "<div style=\"max-height:1000px;max-width:1500px;overflow:auto;\">\n",
       "<table border=\"1\" class=\"dataframe\">\n",
       "  <thead>\n",
       "    <tr style=\"text-align: right;\">\n",
       "      <th></th>\n",
       "      <th></th>\n",
       "      <th>ET</th>\n",
       "      <th>P</th>\n",
       "      <th>PETpenmanvic</th>\n",
       "      <th>Sf2</th>\n",
       "    </tr>\n",
       "    <tr>\n",
       "      <th>latitude</th>\n",
       "      <th>longitude</th>\n",
       "      <th></th>\n",
       "      <th></th>\n",
       "      <th></th>\n",
       "      <th></th>\n",
       "    </tr>\n",
       "  </thead>\n",
       "  <tbody>\n",
       "    <tr>\n",
       "      <th rowspan=\"2\" valign=\"top\">14.65625</th>\n",
       "      <th>-92.21875</th>\n",
       "      <td> NaN</td>\n",
       "      <td> 5.006493</td>\n",
       "      <td> NaN</td>\n",
       "      <td>NaN</td>\n",
       "    </tr>\n",
       "    <tr>\n",
       "      <th>-92.28125</th>\n",
       "      <td> NaN</td>\n",
       "      <td> 4.951291</td>\n",
       "      <td> NaN</td>\n",
       "      <td>NaN</td>\n",
       "    </tr>\n",
       "    <tr>\n",
       "      <th rowspan=\"3\" valign=\"top\">14.71875</th>\n",
       "      <th>-92.21875</th>\n",
       "      <td> NaN</td>\n",
       "      <td>  5.00617</td>\n",
       "      <td> NaN</td>\n",
       "      <td>NaN</td>\n",
       "    </tr>\n",
       "    <tr>\n",
       "      <th>-92.28125</th>\n",
       "      <td> NaN</td>\n",
       "      <td> 4.934073</td>\n",
       "      <td> NaN</td>\n",
       "      <td>NaN</td>\n",
       "    </tr>\n",
       "    <tr>\n",
       "      <th>-92.34375</th>\n",
       "      <td> NaN</td>\n",
       "      <td> 5.069163</td>\n",
       "      <td> NaN</td>\n",
       "      <td>NaN</td>\n",
       "    </tr>\n",
       "  </tbody>\n",
       "</table>\n",
       "</div>"
      ],
      "text/plain": [
       "                     ET         P PETpenmanvic  Sf2\n",
       "latitude longitude                                 \n",
       "14.65625 -92.21875  NaN  5.006493          NaN  NaN\n",
       "         -92.28125  NaN  4.951291          NaN  NaN\n",
       "14.71875 -92.21875  NaN   5.00617          NaN  NaN\n",
       "         -92.28125  NaN  4.934073          NaN  NaN\n",
       "         -92.34375  NaN  5.069163          NaN  NaN"
      ]
     },
     "execution_count": 17,
     "metadata": {},
     "output_type": "execute_result"
    }
   ],
   "source": [
    "data.head()"
   ]
  },
  {
   "cell_type": "code",
   "execution_count": 19,
   "metadata": {
    "collapsed": false
   },
   "outputs": [],
   "source": [
    "data.columns = ['ET','P','PETpenmanvic','Sf']"
   ]
  },
  {
   "cell_type": "code",
   "execution_count": 20,
   "metadata": {
    "collapsed": false
   },
   "outputs": [
    {
     "data": {
      "text/html": [
       "<div style=\"max-height:1000px;max-width:1500px;overflow:auto;\">\n",
       "<table border=\"1\" class=\"dataframe\">\n",
       "  <thead>\n",
       "    <tr style=\"text-align: right;\">\n",
       "      <th></th>\n",
       "      <th></th>\n",
       "      <th>ET</th>\n",
       "      <th>P</th>\n",
       "      <th>PETpenmanvic</th>\n",
       "      <th>Sf</th>\n",
       "    </tr>\n",
       "    <tr>\n",
       "      <th>latitude</th>\n",
       "      <th>longitude</th>\n",
       "      <th></th>\n",
       "      <th></th>\n",
       "      <th></th>\n",
       "      <th></th>\n",
       "    </tr>\n",
       "  </thead>\n",
       "  <tbody>\n",
       "    <tr>\n",
       "      <th rowspan=\"2\" valign=\"top\">14.65625</th>\n",
       "      <th>-92.21875</th>\n",
       "      <td> NaN</td>\n",
       "      <td> 5.006493</td>\n",
       "      <td> NaN</td>\n",
       "      <td>NaN</td>\n",
       "    </tr>\n",
       "    <tr>\n",
       "      <th>-92.28125</th>\n",
       "      <td> NaN</td>\n",
       "      <td> 4.951291</td>\n",
       "      <td> NaN</td>\n",
       "      <td>NaN</td>\n",
       "    </tr>\n",
       "    <tr>\n",
       "      <th rowspan=\"3\" valign=\"top\">14.71875</th>\n",
       "      <th>-92.21875</th>\n",
       "      <td> NaN</td>\n",
       "      <td>  5.00617</td>\n",
       "      <td> NaN</td>\n",
       "      <td>NaN</td>\n",
       "    </tr>\n",
       "    <tr>\n",
       "      <th>-92.28125</th>\n",
       "      <td> NaN</td>\n",
       "      <td> 4.934073</td>\n",
       "      <td> NaN</td>\n",
       "      <td>NaN</td>\n",
       "    </tr>\n",
       "    <tr>\n",
       "      <th>-92.34375</th>\n",
       "      <td> NaN</td>\n",
       "      <td> 5.069163</td>\n",
       "      <td> NaN</td>\n",
       "      <td>NaN</td>\n",
       "    </tr>\n",
       "  </tbody>\n",
       "</table>\n",
       "</div>"
      ],
      "text/plain": [
       "                     ET         P PETpenmanvic  Sf\n",
       "latitude longitude                                \n",
       "14.65625 -92.21875  NaN  5.006493          NaN NaN\n",
       "         -92.28125  NaN  4.951291          NaN NaN\n",
       "14.71875 -92.21875  NaN   5.00617          NaN NaN\n",
       "         -92.28125  NaN  4.934073          NaN NaN\n",
       "         -92.34375  NaN  5.069163          NaN NaN"
      ]
     },
     "execution_count": 20,
     "metadata": {},
     "output_type": "execute_result"
    }
   ],
   "source": [
    "data.head()"
   ]
  },
  {
   "cell_type": "code",
   "execution_count": 21,
   "metadata": {
    "collapsed": false
   },
   "outputs": [],
   "source": [
    "data.to_pickle('./budykodata_newSf.pcl')"
   ]
  },
  {
   "cell_type": "code",
   "execution_count": null,
   "metadata": {
    "collapsed": false
   },
   "outputs": [],
   "source": []
  }
 ],
 "metadata": {
  "kernelspec": {
   "display_name": "Python 2",
   "language": "python",
   "name": "python2"
  },
  "language_info": {
   "codemirror_mode": {
    "name": "ipython",
    "version": 2
   },
   "file_extension": ".py",
   "mimetype": "text/x-python",
   "name": "python",
   "nbconvert_exporter": "python",
   "pygments_lexer": "ipython2",
   "version": "2.7.10"
  }
 },
 "nbformat": 4,
 "nbformat_minor": 0
}
