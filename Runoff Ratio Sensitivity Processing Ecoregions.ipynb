{
 "cells": [
  {
   "cell_type": "code",
   "execution_count": 1,
   "metadata": {
    "collapsed": false
   },
   "outputs": [
    {
     "name": "stderr",
     "output_type": "stream",
     "text": [
      "/Users/barnhatb/anaconda/lib/python2.7/site-packages/IPython/parallel.py:13: ShimWarning: The `IPython.parallel` package has been deprecated. You should import from ipyparallel instead.\n",
      "  \"You should import from ipyparallel instead.\", ShimWarning)\n"
     ]
    }
   ],
   "source": [
    "import numpy as np\n",
    "import pandas as pd\n",
    "import statsmodels.api as sm\n",
    "import IPython.parallel as p\n",
    "from IPython.display import clear_output\n",
    "dates = pd.read_pickle('/Volumes/data/Theo/projects/Budyko_vic/timecode.pcl')\n",
    "\n",
    "forcing_columns = ['P','Tmax','Tmin','W']\n",
    "fluxes_columns = ['y','m','d','ET','R','BF','sm1','sm2','sm3','SWE','Cs','Qs','Ql','Qg','NR','PEText','PETtrc','PETsrc']"
   ]
  },
  {
   "cell_type": "code",
   "execution_count": 2,
   "metadata": {
    "collapsed": false
   },
   "outputs": [],
   "source": [
    "c = p.Client()"
   ]
  },
  {
   "cell_type": "code",
   "execution_count": 3,
   "metadata": {
    "collapsed": false
   },
   "outputs": [
    {
     "data": {
      "text/plain": [
       "[0, 1, 2, 3]"
      ]
     },
     "execution_count": 3,
     "metadata": {},
     "output_type": "execute_result"
    }
   ],
   "source": [
    "c.ids"
   ]
  },
  {
   "cell_type": "code",
   "execution_count": 4,
   "metadata": {
    "collapsed": false
   },
   "outputs": [],
   "source": [
    "view = c.load_balanced_view()"
   ]
  },
  {
   "cell_type": "code",
   "execution_count": 5,
   "metadata": {
    "collapsed": false
   },
   "outputs": [],
   "source": [
    "%%px\n",
    "import pandas as pd\n",
    "import numpy as np\n",
    "import statsmodels.api as sm\n",
    "dates = pd.read_pickle('/Volumes/data/Theo/projects/Budyko_vic/timecode.pcl')\n",
    "forcing_columns = ['P','Tmax','Tmin','W']\n",
    "fluxes_columns = ['y','m','d','ET','R','BF','sm1','sm2','sm3','SWE','Cs','Qs','Ql','Qg','NR','PEText','PETtrc','PETsrc']"
   ]
  },
  {
   "cell_type": "code",
   "execution_count": 6,
   "metadata": {
    "collapsed": false
   },
   "outputs": [],
   "source": [
    "files = pd.read_pickle('./forcing_fluxes_filenames_lat_lon_index.df')\n",
    "files.columns = ['exists','flux','forcing','lat','lon','idx']"
   ]
  },
  {
   "cell_type": "code",
   "execution_count": 7,
   "metadata": {
    "collapsed": false
   },
   "outputs": [
    {
     "data": {
      "text/plain": [
       "309673"
      ]
     },
     "execution_count": 7,
     "metadata": {},
     "output_type": "execute_result"
    }
   ],
   "source": [
    "len(files)"
   ]
  },
  {
   "cell_type": "code",
   "execution_count": 8,
   "metadata": {
    "collapsed": false
   },
   "outputs": [],
   "source": [
    "%%px\n",
    "def wateryear(index):\n",
    "    year = index.year\n",
    "    strt = pd.datetime(year,10,1) # start of the next water year+1\n",
    "    \n",
    "    if index<strt:\n",
    "        wyear = year\n",
    "    elif index>=strt: \n",
    "        wyear = year+1\n",
    "\n",
    "    return wyear"
   ]
  },
  {
   "cell_type": "code",
   "execution_count": 9,
   "metadata": {
    "collapsed": false
   },
   "outputs": [],
   "source": [
    "def wateryear(index):\n",
    "    year = index.year\n",
    "    strt = pd.datetime(year,10,1) # start of the next water year+1\n",
    "    \n",
    "    if index<strt:\n",
    "        wyear = year\n",
    "    elif index>=strt: \n",
    "        wyear = year+1\n",
    "\n",
    "    return wyear"
   ]
  },
  {
   "cell_type": "code",
   "execution_count": 12,
   "metadata": {
    "collapsed": false
   },
   "outputs": [],
   "source": [
    "num = 200\n",
    "fl = files.flux[num]\n",
    "fr = files.forcing[num]\n",
    "idx = files.idx[num]\n",
    "\n",
    "def interannual(fl,fr,idx):\n",
    "    \n",
    "    # load the flux file\n",
    "    flux = pd.read_table(fl, sep='\\t', names = fluxes_columns)\n",
    "    flux.index = pd.DatetimeIndex(dates)\n",
    "\n",
    "    # load the forcing file\n",
    "    force = pd.read_table(fr,sep=' ', names = forcing_columns)\n",
    "    force.index = pd.DatetimeIndex(dates)\n",
    "\n",
    "    force['wateryear']=force.index.map(wateryear) # compute the water year for each entry\n",
    "    flux['wateryear'] = force.index.map(wateryear) # compute the water year for each entry\n",
    "\n",
    "    # compute snowmelt\n",
    "    swe = flux.SWE.as_matrix() # convert SWE to a matrix\n",
    "    smelt = swe[0:-1]-swe[1:] # compute snowmelt for each day\n",
    "    smelt = np.append(0,smelt) # append a zero onto it\n",
    "    smelt[smelt<0] = 0 # set accumulation events to 0\n",
    "\n",
    "    flux['sm'] = smelt # add snowmelt back into the flux matrix\n",
    "\n",
    "    force_sum = force.groupby(by='wateryear').sum()[1:-1] # group by and save complete water years\n",
    "    flux_sum = flux.groupby(by='wateryear').sum()[1:-1] # group by and save complete water years\n",
    "\n",
    "    flux_mean = flux.loc[flux['sm']>0,:].groupby(by='wateryear').mean()[1:-1] # also drop the first and last entries\n",
    "\n",
    "    flux_sum['Q'] = flux_sum.R+flux_sum.BF # compute discharge for each water year\n",
    "\n",
    "    flux_sum['Q_P'] = flux_sum.Q/force_sum.P # compute Q/P, runoff ratio for each water year\n",
    "\n",
    "    ## regress the data\n",
    "    #print 'got to regression'\n",
    "    data = pd.DataFrame({'sm':flux_mean.sm,'Q_P':flux_sum.Q_P})\n",
    "    #data = pd.concat([flux_mean['sm'],flux_sum['Q_P']],axis=1)\n",
    "    data2 = data.dropna().astype(float)\n",
    "    #data2.reset_index(inplace=True)\n",
    "    X = data2['sm']\n",
    "\n",
    "    if len(data2)<10:\n",
    "        return idx,np.NaN,np.NaN,np.NaN,np.NaN\n",
    "        #print idx,np.NaN,np.NaN,np.NaN,np.NaN\n",
    "    else:\n",
    "        y = data2.Q_P\n",
    "        X = sm.add_constant(X)\n",
    "        results = sm.OLS(y, X).fit()\n",
    "\n",
    "        RR_pval = results.f_pvalue\n",
    "        RR_rsqrd = results.rsquared_adj\n",
    "        RR_slope = results.params[1] # slope\n",
    "        RR_intercept = results.params[0] # intercept\n",
    "\n",
    "        return idx,RR_pval,RR_rsqrd,RR_slope,RR_intercept\n",
    "        #print idx,RR_pval,RR_rsqrd,RR_slope,RR_intercept"
   ]
  },
  {
   "cell_type": "code",
   "execution_count": 13,
   "metadata": {
    "collapsed": false
   },
   "outputs": [
    {
     "data": {
      "text/plain": [
       "(201,\n",
       " 0.71075578981185006,\n",
       " -0.076730744702182108,\n",
       " -0.0046604710922694892,\n",
       " 0.20073342295241361)"
      ]
     },
     "execution_count": 13,
     "metadata": {},
     "output_type": "execute_result"
    }
   ],
   "source": [
    "interannual(fl,fr,idx)"
   ]
  },
  {
   "cell_type": "code",
   "execution_count": 26,
   "metadata": {
    "collapsed": false
   },
   "outputs": [],
   "source": [
    "def compwflux(fl,fr,idx):\n",
    "    flux = pd.read_table(fl, sep='\\t', names = fluxes_columns)\n",
    "    flux.index = pd.DatetimeIndex(dates)\n",
    "\n",
    "    force = pd.read_table(fr,sep=' ', names = forcing_columns)\n",
    "    force.index = pd.DatetimeIndex(dates)\n",
    "\n",
    "    force['wateryear']=force.index.map(wateryear) # compute the water year for each entry\n",
    "    flux['wateryear'] = force.index.map(wateryear) # compute the water year for each entry\n",
    "    #wyears = np.unique(force.index.year)[1:] # grab all the complete water years\n",
    "\n",
    "    # compute snowmelt\n",
    "    swe = flux.SWE.as_matrix() # convert SWE to a matrix\n",
    "    smelt = swe[0:-1]-swe[1:] # compute snowmelt for each day\n",
    "    smelt = np.append(0,smelt) # append a zero onto it\n",
    "    smelt[smelt<0] = 0 # set accumulation events to 0\n",
    "    flux['sm'] = smelt\n",
    "    \n",
    "    # compute rainfall\n",
    "    coef = (0.-force.Tmin)/(np.abs(force.Tmax-force.Tmin))\n",
    "    coef[coef<0] = 0.\n",
    "    coef[coef>1] = 1.\n",
    "    force['rain'] = force.P.as_matrix()*(1-coef) # compute rain\n",
    "    force['wflux'] = force.rain + flux.sm\n",
    "\n",
    "    force_sum = force.groupby(by='wateryear').sum()[1:-1] # group by and save complete water years\n",
    "    flux_sum = flux.groupby(by='wateryear').sum()[1:-1] # group by and save complete water years\n",
    "\n",
    "    flux_mean = flux.loc[(flux.sm>0) | (force.rain>0),:].groupby(by='wateryear').mean()[1:-1]\n",
    "    force_mean = force.loc[(flux.sm>0) | (force.rain>0),:].groupby(by='wateryear').mean()[1:-1]\n",
    "    \n",
    "    n = len(np.unique(force.wateryear)[1:-1]) # get the length of the variable\n",
    "\n",
    "    # convert output variables\n",
    "    wyears = list(flux_sum.index)\n",
    "    idx = list(np.repeat(idx,n))\n",
    "    huc8 = list(np.repeat(huc8,n))\n",
    "    sm = list(flux_mean.sm)\n",
    "    rain = list(force_mean.rain)\n",
    "    wflux = list(force_mean.wflux)\n",
    "    \n",
    "    return wyears,idx,huc8,sm,rain,wflux"
   ]
  },
  {
   "cell_type": "code",
   "execution_count": 36,
   "metadata": {
    "collapsed": false
   },
   "outputs": [],
   "source": [
    "#test batch\n",
    "num = 200\n",
    "num2 = 300\n",
    "fl = files.flux[num:num2]\n",
    "fr = files.forcing[num:num2]\n",
    "idx = files.idx[num:num2]"
   ]
  },
  {
   "cell_type": "code",
   "execution_count": 14,
   "metadata": {
    "collapsed": false
   },
   "outputs": [],
   "source": [
    "#full calculation\n",
    "fl = files.flux\n",
    "fr = files.forcing\n",
    "idx = files.idx"
   ]
  },
  {
   "cell_type": "markdown",
   "metadata": {},
   "source": [
    "## Run the Interannual Calculation"
   ]
  },
  {
   "cell_type": "code",
   "execution_count": 15,
   "metadata": {
    "collapsed": false
   },
   "outputs": [],
   "source": [
    "res = view.map(interannual,fl,fr,idx)"
   ]
  },
  {
   "cell_type": "code",
   "execution_count": 16,
   "metadata": {
    "collapsed": false
   },
   "outputs": [],
   "source": [
    "import ProgressBar as pb"
   ]
  },
  {
   "cell_type": "code",
   "execution_count": 17,
   "metadata": {
    "collapsed": false
   },
   "outputs": [],
   "source": [
    "p = pb.ProgressBar(len(fl))"
   ]
  },
  {
   "cell_type": "code",
   "execution_count": 18,
   "metadata": {
    "collapsed": false
   },
   "outputs": [
    {
     "name": "stdout",
     "output_type": "stream",
     "text": [
      "[****************100%******************]  309666 of 309673 complete\n"
     ]
    }
   ],
   "source": [
    "while res.ready() == False:\n",
    "    p.animate(res.progress)"
   ]
  },
  {
   "cell_type": "code",
   "execution_count": 19,
   "metadata": {
    "collapsed": false
   },
   "outputs": [],
   "source": [
    "idx,RR_pval,RR_rsqrd,RR_slope,RR_intercept = zip(*res.result) # unzip the results"
   ]
  },
  {
   "cell_type": "code",
   "execution_count": 20,
   "metadata": {
    "collapsed": false
   },
   "outputs": [],
   "source": [
    "np.savez_compressed('./RR_interannual_slope.npz', idx=idx,RR_pval=RR_pval,RR_rsqrd=RR_rsqrd,RR_slope=RR_slope,RR_intercept=RR_intercept)"
   ]
  },
  {
   "cell_type": "markdown",
   "metadata": {},
   "source": [
    "## Run the Water Flux Calculation"
   ]
  },
  {
   "cell_type": "code",
   "execution_count": 28,
   "metadata": {
    "collapsed": false
   },
   "outputs": [],
   "source": [
    "res = view.map(compwflux,fl,fr,idx,huc8)"
   ]
  },
  {
   "cell_type": "code",
   "execution_count": 29,
   "metadata": {
    "collapsed": false
   },
   "outputs": [
    {
     "data": {
      "text/plain": [
       "12"
      ]
     },
     "execution_count": 29,
     "metadata": {},
     "output_type": "execute_result"
    }
   ],
   "source": [
    "res.progress"
   ]
  },
  {
   "cell_type": "code",
   "execution_count": 30,
   "metadata": {
    "collapsed": false
   },
   "outputs": [
    {
     "name": "stdout",
     "output_type": "stream",
     "text": [
      "1507\n"
     ]
    }
   ],
   "source": [
    "while res.ready() == False:\n",
    "    pause(0.5)\n",
    "    clear_output(wait=0.2)\n",
    "    print res.progress"
   ]
  },
  {
   "cell_type": "code",
   "execution_count": 35,
   "metadata": {
    "collapsed": false
   },
   "outputs": [],
   "source": [
    "wyears,idx,huc8,sm,rain,wflux = zip(*res.result) # unzip the results"
   ]
  },
  {
   "cell_type": "code",
   "execution_count": 36,
   "metadata": {
    "collapsed": false
   },
   "outputs": [],
   "source": [
    "# repack the results\n",
    "\n",
    "m,n = np.shape(wyears)\n",
    "wyears= np.reshape(wyears,[1,m*n])[0]\n",
    "sm = np.reshape(sm,[1,m*n])[0]\n",
    "rain = np.reshape(rain,[1,m*n])[0]\n",
    "wflux = np.reshape(wflux,[1,m*n])[0]\n",
    "idx = np.reshape(idx,[1,m*n])[0]\n",
    "huc8 = np.reshape(huc8,[1,m*n])[0]"
   ]
  },
  {
   "cell_type": "code",
   "execution_count": 38,
   "metadata": {
    "collapsed": false
   },
   "outputs": [],
   "source": [
    "np.savez_compressed('./WSC_HUC8_interannual_wflux.npz', wyears=wyears,sm=sm,rain=rain,wflux=wflux,idx=idx,huc8=huc8)"
   ]
  }
 ],
 "metadata": {
  "kernelspec": {
   "display_name": "Python 2",
   "language": "python",
   "name": "python2"
  },
  "language_info": {
   "codemirror_mode": {
    "name": "ipython",
    "version": 2
   },
   "file_extension": ".py",
   "mimetype": "text/x-python",
   "name": "python",
   "nbconvert_exporter": "python",
   "pygments_lexer": "ipython2",
   "version": "2.7.12"
  }
 },
 "nbformat": 4,
 "nbformat_minor": 0
}
