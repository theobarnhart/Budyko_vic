{
 "cells": [
  {
   "cell_type": "code",
   "execution_count": 1,
   "metadata": {
    "collapsed": false
   },
   "outputs": [],
   "source": [
    "import pandas as pd\n",
    "import numpy as np\n",
    "import glob\n",
    "import ProgressBar as pb\n",
    "dates = pd.read_pickle('./timecode.pcl')\n",
    "wyears = np.load('./wyears.npy')\n",
    "fluxes_columns = ['y','m','d','ET','R','BF','sm1','sm2','sm3','SWE','Cs','Qs','Ql','Qg','NR','PEText','PETtrc','PETsrc']\n",
    "forcing_columns = ['P','Tmax','Tmin','W']"
   ]
  },
  {
   "cell_type": "code",
   "execution_count": 2,
   "metadata": {
    "collapsed": false
   },
   "outputs": [],
   "source": [
    "with np.load('./spl_er_L3_domain.npz') as data:\n",
    "    lat = data['lat']\n",
    "    lon = data['lon']\n",
    "    indexer = data['indexer']\n",
    "    regcode = data['rc']"
   ]
  },
  {
   "cell_type": "code",
   "execution_count": 3,
   "metadata": {
    "collapsed": false
   },
   "outputs": [
    {
     "name": "stdout",
     "output_type": "stream",
     "text": [
      "9361\n",
      "9361\n"
     ]
    }
   ],
   "source": [
    "print len(lat)\n",
    "print len(lon)"
   ]
  },
  {
   "cell_type": "code",
   "execution_count": 4,
   "metadata": {
    "collapsed": false
   },
   "outputs": [],
   "source": [
    "i = 0\n",
    "fl = '/Users/barnhatb/research/vic/fluxes/ascii/latitude.'+str(lat[i])+'/flux_snow_'+str(lat[i])+'_'+str(lon[i])\n",
    "fr = '/Users/barnhatb/research/vic/forcing/ascii/latitude.'+str(lat[i])+'/Meteorology_Livneh_NAmerExt_15Oct2014_'+str(lat[i])+'_'+str(lon[i])\n",
    "\n",
    "flux = pd.read_table(fl, sep='\\t', names=fluxes_columns)\n",
    "flux.index = pd.DatetimeIndex(dates)\n",
    "\n",
    "flux = flux.loc['1988-01-01':'2013-12-31',:]"
   ]
  },
  {
   "cell_type": "code",
   "execution_count": 5,
   "metadata": {
    "collapsed": false
   },
   "outputs": [
    {
     "name": "stdout",
     "output_type": "stream",
     "text": [
      "9497\n",
      "9361\n",
      "88901417\n",
      "[*****************99%******************]  88901280 of 89901417 complete\n"
     ]
    }
   ],
   "source": [
    "n = len(flux)\n",
    "print n\n",
    "\n",
    "m = len(lat)\n",
    "print m\n",
    "\n",
    "q = m*n\n",
    "print q\n",
    "q += 1000000\n",
    "\n",
    "\n",
    "# preallocate\n",
    "days = np.zeros([q]) # preallocate for days\n",
    "days[:] = np.NaN # fill with NaNs\n",
    "PET = days.copy() # preallocate for PET\n",
    "P = days.copy() # preallocate for P\n",
    "idx = days.copy() # preallocate for cell index\n",
    "rc = days.copy() # preallocate for region code\n",
    "\n",
    "strtct = 0 # initialize the indexer\n",
    "ndct = strtct\n",
    "\n",
    "p = pb.ProgressBar(q)\n",
    "\n",
    "for i in xrange(m):\n",
    "\n",
    "    # generate file names for Ullr\n",
    "    fl = '/Users/barnhatb/research/vic/fluxes/ascii/latitude.'+str(lat[i])+'/flux_snow_'+str(lat[i])+'_'+str(lon[i])\n",
    "    fr = '/Users/barnhatb/research/vic/forcing/ascii/latitude.'+str(lat[i])+'/Meteorology_Livneh_NAmerExt_15Oct2014_'+str(lat[i])+'_'+str(lon[i])\n",
    "    \n",
    "    # load the fluxes data\n",
    "    flux = pd.read_table(fl, sep='\\t', names=fluxes_columns)\n",
    "    flux.index = pd.DatetimeIndex(dates)\n",
    "\n",
    "    ## load the forcing data\n",
    "    force = pd.read_table(fr, sep=' ', names=forcing_columns)\n",
    "    force.index = pd.DatetimeIndex(dates)\n",
    "    \n",
    "    # grab only the days needed \n",
    "    flux = flux.loc['1988-01-01':'2013-12-31',:]\n",
    "    force = force.loc['1988-01-01':'2013-12-31',:]\n",
    "    \n",
    "    ndct = strtct + len(flux) # compute the end indexer\n",
    "    \n",
    "    days[strtct:ndct] = flux.index.to_julian_date()\n",
    "    PET[strtct:ndct] = flux.PEText.as_matrix() \n",
    "    P[strtct:ndct] = force.P.as_matrix()\n",
    "    idx[strtct:ndct] = np.repeat(indexer[i],len(force.P))\n",
    "    rc[strtct:ndct] = np.repeat(regcode[i],len(force.P))\n",
    "    \n",
    "    strtct = ndct+1 # compute the start indexer for the next iteration\n",
    "    \n",
    "    #for day in flux.index:\n",
    "    #    days[ct] = day.to_julian_date()\n",
    "    #    PET[ct] = flux.loc[day,'PEText']\n",
    "    #    P[ct] = force.loc[day,'P']\n",
    "    #    ct += 1\n",
    "    p.animate(ndct)\n",
    "    \n",
    "    "
   ]
  },
  {
   "cell_type": "code",
   "execution_count": null,
   "metadata": {
    "collapsed": false
   },
   "outputs": [],
   "source": [
    "len(flux.index.to_julian_date())"
   ]
  },
  {
   "cell_type": "code",
   "execution_count": null,
   "metadata": {
    "collapsed": false
   },
   "outputs": [],
   "source": [
    "len(days[strtct:ndct])"
   ]
  },
  {
   "cell_type": "code",
   "execution_count": null,
   "metadata": {
    "collapsed": false
   },
   "outputs": [],
   "source": [
    "ndct"
   ]
  },
  {
   "cell_type": "code",
   "execution_count": null,
   "metadata": {
    "collapsed": false
   },
   "outputs": [],
   "source": [
    "ndct-strtct"
   ]
  },
  {
   "cell_type": "code",
   "execution_count": 6,
   "metadata": {
    "collapsed": false
   },
   "outputs": [],
   "source": [
    "np.savez_compressed('./spl_L3_ecoregion_cals_2',days=days,PET=PET,P=P,idx=idx,rc=rc)"
   ]
  },
  {
   "cell_type": "code",
   "execution_count": null,
   "metadata": {
    "collapsed": false
   },
   "outputs": [],
   "source": [
    "!ls -lth"
   ]
  }
 ],
 "metadata": {
  "kernelspec": {
   "display_name": "Python 2",
   "language": "python",
   "name": "python2"
  },
  "language_info": {
   "codemirror_mode": {
    "name": "ipython",
    "version": 2
   },
   "file_extension": ".py",
   "mimetype": "text/x-python",
   "name": "python",
   "nbconvert_exporter": "python",
   "pygments_lexer": "ipython2",
   "version": "2.7.10"
  }
 },
 "nbformat": 4,
 "nbformat_minor": 0
}
