{
 "metadata": {
  "name": "",
  "signature": "sha256:5c8e4f4acccdb949007e204485778f2330369fcce9307a07f071a8faf75cba2f"
 },
 "nbformat": 3,
 "nbformat_minor": 0,
 "worksheets": [
  {
   "cells": [
    {
     "cell_type": "code",
     "collapsed": false,
     "input": [
      "import numpy as np"
     ],
     "language": "python",
     "metadata": {},
     "outputs": [],
     "prompt_number": 1
    },
    {
     "cell_type": "code",
     "collapsed": false,
     "input": [
      "tmin = np.arange(-20,21)\n",
      "tmax = np.arange(-15,26)"
     ],
     "language": "python",
     "metadata": {},
     "outputs": [],
     "prompt_number": 2
    },
    {
     "cell_type": "code",
     "collapsed": false,
     "input": [
      "tmin"
     ],
     "language": "python",
     "metadata": {},
     "outputs": [
      {
       "metadata": {},
       "output_type": "pyout",
       "prompt_number": 3,
       "text": [
        "array([-20, -19, -18, -17, -16, -15, -14, -13, -12, -11, -10,  -9,  -8,\n",
        "        -7,  -6,  -5,  -4,  -3,  -2,  -1,   0,   1,   2,   3,   4,   5,\n",
        "         6,   7,   8,   9,  10,  11,  12,  13,  14,  15,  16,  17,  18,\n",
        "        19,  20])"
       ]
      }
     ],
     "prompt_number": 3
    },
    {
     "cell_type": "code",
     "collapsed": false,
     "input": [
      "tmax"
     ],
     "language": "python",
     "metadata": {},
     "outputs": [
      {
       "metadata": {},
       "output_type": "pyout",
       "prompt_number": 12,
       "text": [
        "array([-15, -14, -13, -12, -11, -10,  -9,  -8,  -7,  -6,  -5,  -4,  -3,\n",
        "        -2,  -1,   0,   1,   2,   3,   4,   5,   6,   7,   8,   9,  10,\n",
        "        11,  12,  13,  14,  15,  16,  17,  18,  19,  20,  21,  22,  23,\n",
        "        24,  25])"
       ]
      }
     ],
     "prompt_number": 12
    },
    {
     "cell_type": "code",
     "collapsed": false,
     "input": [
      "coef = (0.-tmin)/(tmax-tmin)"
     ],
     "language": "python",
     "metadata": {},
     "outputs": [],
     "prompt_number": 30
    },
    {
     "cell_type": "code",
     "collapsed": false,
     "input": [
      "coef"
     ],
     "language": "python",
     "metadata": {},
     "outputs": [
      {
       "metadata": {},
       "output_type": "pyout",
       "prompt_number": 31,
       "text": [
        "array([ 4. ,  3.8,  3.6,  3.4,  3.2,  3. ,  2.8,  2.6,  2.4,  2.2,  2. ,\n",
        "        1.8,  1.6,  1.4,  1.2,  1. ,  0.8,  0.6,  0.4,  0.2,  0. , -0.2,\n",
        "       -0.4, -0.6, -0.8, -1. , -1.2, -1.4, -1.6, -1.8, -2. , -2.2, -2.4,\n",
        "       -2.6, -2.8, -3. , -3.2, -3.4, -3.6, -3.8, -4. ])"
       ]
      }
     ],
     "prompt_number": 31
    },
    {
     "cell_type": "code",
     "collapsed": false,
     "input": [
      "def calccoef(tmin,tmax):\n",
      "    coef = (0.-tmin)/np.abs(tmax-tmin)\n",
      "    if coef > 1.:\n",
      "        coef = 1.\n",
      "    \n",
      "    if coef < 0.:\n",
      "        coef = 0.\n",
      "        \n",
      "    return coef"
     ],
     "language": "python",
     "metadata": {},
     "outputs": [],
     "prompt_number": 32
    },
    {
     "cell_type": "code",
     "collapsed": false,
     "input": [
      "coef = []\n",
      "for i in xrange(len(tmin)):\n",
      "    coef.append(calccoef(tmin[i],tmax[i]))"
     ],
     "language": "python",
     "metadata": {},
     "outputs": [],
     "prompt_number": 33
    },
    {
     "cell_type": "code",
     "collapsed": false,
     "input": [
      "coef"
     ],
     "language": "python",
     "metadata": {},
     "outputs": [
      {
       "metadata": {},
       "output_type": "pyout",
       "prompt_number": 34,
       "text": [
        "[1.0,\n",
        " 1.0,\n",
        " 1.0,\n",
        " 1.0,\n",
        " 1.0,\n",
        " 1.0,\n",
        " 1.0,\n",
        " 1.0,\n",
        " 1.0,\n",
        " 1.0,\n",
        " 1.0,\n",
        " 1.0,\n",
        " 1.0,\n",
        " 1.0,\n",
        " 1.0,\n",
        " 1.0,\n",
        " 0.8,\n",
        " 0.6,\n",
        " 0.4,\n",
        " 0.2,\n",
        " 0.0,\n",
        " 0.0,\n",
        " 0.0,\n",
        " 0.0,\n",
        " 0.0,\n",
        " 0.0,\n",
        " 0.0,\n",
        " 0.0,\n",
        " 0.0,\n",
        " 0.0,\n",
        " 0.0,\n",
        " 0.0,\n",
        " 0.0,\n",
        " 0.0,\n",
        " 0.0,\n",
        " 0.0,\n",
        " 0.0,\n",
        " 0.0,\n",
        " 0.0,\n",
        " 0.0,\n",
        " 0.0]"
       ]
      }
     ],
     "prompt_number": 34
    },
    {
     "cell_type": "code",
     "collapsed": false,
     "input": [],
     "language": "python",
     "metadata": {},
     "outputs": []
    }
   ],
   "metadata": {}
  }
 ]
}