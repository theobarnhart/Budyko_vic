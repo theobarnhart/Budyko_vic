{
 "cells": [
  {
   "cell_type": "code",
   "execution_count": 1,
   "metadata": {
    "collapsed": false
   },
   "outputs": [],
   "source": [
    "from IPython import parallel as p"
   ]
  },
  {
   "cell_type": "code",
   "execution_count": 2,
   "metadata": {
    "collapsed": false
   },
   "outputs": [],
   "source": [
    "pc = p.Client()"
   ]
  },
  {
   "cell_type": "code",
   "execution_count": 3,
   "metadata": {
    "collapsed": false
   },
   "outputs": [
    {
     "data": {
      "text/plain": [
       "[0, 1, 2, 3, 4, 5]"
      ]
     },
     "execution_count": 3,
     "metadata": {},
     "output_type": "execute_result"
    }
   ],
   "source": [
    "pc.ids"
   ]
  },
  {
   "cell_type": "code",
   "execution_count": 4,
   "metadata": {
    "collapsed": false
   },
   "outputs": [],
   "source": [
    "view = pc.load_balanced_view()"
   ]
  },
  {
   "cell_type": "code",
   "execution_count": 7,
   "metadata": {
    "collapsed": false
   },
   "outputs": [],
   "source": [
    "%%px\n",
    "import numpy as np\n",
    "import pandas as pd\n",
    "dates = pd.read_pickle('/Volumes/data/Theo/projects/Budyko_vic/timecode.pcl')\n",
    "wyears = np.load('/Volumes/data/Theo/projects/Budyko_vic/wyears.npy')\n",
    "fluxes_columns = ['y','m','d','ET','R','BF','sm1','sm2','sm3','SWE','Cs','Qs','Ql','Qg','NR','PEText','PETtrc','PETsrc']"
   ]
  },
  {
   "cell_type": "code",
   "execution_count": 8,
   "metadata": {
    "collapsed": false
   },
   "outputs": [],
   "source": [
    "import pandas as pd\n",
    "import numpy as np\n",
    "import glob\n",
    "\n",
    "dates = pd.read_pickle('./timecode.pcl')\n",
    "wyears = np.load('./wyears.npy')\n",
    "fluxes_columns = ['y','m','d','ET','R','BF','sm1','sm2','sm3','SWE','Cs','Qs','Ql','Qg','NR','PEText','PETtrc','PETsrc']"
   ]
  },
  {
   "cell_type": "code",
   "execution_count": 9,
   "metadata": {
    "collapsed": false
   },
   "outputs": [],
   "source": [
    "def smbf(fl):\n",
    "    lat = float(fl.split('_')[-2]) # extract latitude from file name\n",
    "    lon = float(fl.split('_')[-1]) # extract longitude from file name\n",
    "\n",
    "    # load the fluxes data\n",
    "    flux = pd.read_table(fl, sep='\\t', names=fluxes_columns)\n",
    "    flux.index = pd.DatetimeIndex(dates)\n",
    "    \n",
    "    sm1 = flux.sm1.mean()\n",
    "    sm2 = flux.sm2.mean()\n",
    "    sm3 = flux.sm3.mean()\n",
    "    bf = flux.BF.mean()\n",
    "    \n",
    "    return lat,lon,sm1,sm2,sm3,bf"
   ]
  },
  {
   "cell_type": "code",
   "execution_count": 10,
   "metadata": {
    "collapsed": false
   },
   "outputs": [],
   "source": [
    "files = pd.read_pickle('./forcing_fluxes_filenames_lat_lon_index.df')"
   ]
  },
  {
   "cell_type": "code",
   "execution_count": 11,
   "metadata": {
    "collapsed": false
   },
   "outputs": [
    {
     "data": {
      "text/html": [
       "<div>\n",
       "<table border=\"1\" class=\"dataframe\">\n",
       "  <thead>\n",
       "    <tr style=\"text-align: right;\">\n",
       "      <th></th>\n",
       "      <th>exists</th>\n",
       "      <th>flux</th>\n",
       "      <th>forcing</th>\n",
       "      <th>lat</th>\n",
       "      <th>lon</th>\n",
       "      <th>indexer</th>\n",
       "    </tr>\n",
       "  </thead>\n",
       "  <tbody>\n",
       "    <tr>\n",
       "      <th>0</th>\n",
       "      <td>True</td>\n",
       "      <td>/Users/barnhatb/research/vic/fluxes/ascii/lati...</td>\n",
       "      <td>/Users/barnhatb/research/vic/forcing/ascii/lat...</td>\n",
       "      <td>25.03125</td>\n",
       "      <td>-100.03125</td>\n",
       "      <td>1</td>\n",
       "    </tr>\n",
       "    <tr>\n",
       "      <th>1</th>\n",
       "      <td>True</td>\n",
       "      <td>/Users/barnhatb/research/vic/fluxes/ascii/lati...</td>\n",
       "      <td>/Users/barnhatb/research/vic/forcing/ascii/lat...</td>\n",
       "      <td>25.03125</td>\n",
       "      <td>-100.09375</td>\n",
       "      <td>2</td>\n",
       "    </tr>\n",
       "    <tr>\n",
       "      <th>2</th>\n",
       "      <td>True</td>\n",
       "      <td>/Users/barnhatb/research/vic/fluxes/ascii/lati...</td>\n",
       "      <td>/Users/barnhatb/research/vic/forcing/ascii/lat...</td>\n",
       "      <td>25.03125</td>\n",
       "      <td>-100.15625</td>\n",
       "      <td>3</td>\n",
       "    </tr>\n",
       "    <tr>\n",
       "      <th>3</th>\n",
       "      <td>True</td>\n",
       "      <td>/Users/barnhatb/research/vic/fluxes/ascii/lati...</td>\n",
       "      <td>/Users/barnhatb/research/vic/forcing/ascii/lat...</td>\n",
       "      <td>25.03125</td>\n",
       "      <td>-100.21875</td>\n",
       "      <td>4</td>\n",
       "    </tr>\n",
       "    <tr>\n",
       "      <th>4</th>\n",
       "      <td>True</td>\n",
       "      <td>/Users/barnhatb/research/vic/fluxes/ascii/lati...</td>\n",
       "      <td>/Users/barnhatb/research/vic/forcing/ascii/lat...</td>\n",
       "      <td>25.03125</td>\n",
       "      <td>-100.28125</td>\n",
       "      <td>5</td>\n",
       "    </tr>\n",
       "  </tbody>\n",
       "</table>\n",
       "</div>"
      ],
      "text/plain": [
       "  exists                                               flux  \\\n",
       "0   True  /Users/barnhatb/research/vic/fluxes/ascii/lati...   \n",
       "1   True  /Users/barnhatb/research/vic/fluxes/ascii/lati...   \n",
       "2   True  /Users/barnhatb/research/vic/fluxes/ascii/lati...   \n",
       "3   True  /Users/barnhatb/research/vic/fluxes/ascii/lati...   \n",
       "4   True  /Users/barnhatb/research/vic/fluxes/ascii/lati...   \n",
       "\n",
       "                                             forcing       lat        lon  \\\n",
       "0  /Users/barnhatb/research/vic/forcing/ascii/lat...  25.03125 -100.03125   \n",
       "1  /Users/barnhatb/research/vic/forcing/ascii/lat...  25.03125 -100.09375   \n",
       "2  /Users/barnhatb/research/vic/forcing/ascii/lat...  25.03125 -100.15625   \n",
       "3  /Users/barnhatb/research/vic/forcing/ascii/lat...  25.03125 -100.21875   \n",
       "4  /Users/barnhatb/research/vic/forcing/ascii/lat...  25.03125 -100.28125   \n",
       "\n",
       "   indexer  \n",
       "0        1  \n",
       "1        2  \n",
       "2        3  \n",
       "3        4  \n",
       "4        5  "
      ]
     },
     "execution_count": 11,
     "metadata": {},
     "output_type": "execute_result"
    }
   ],
   "source": [
    "files.head()"
   ]
  },
  {
   "cell_type": "code",
   "execution_count": 15,
   "metadata": {
    "collapsed": false
   },
   "outputs": [
    {
     "data": {
      "text/plain": [
       "(50.28125,\n",
       " -117.28125,\n",
       " 18.874508889459275,\n",
       " 71.0174373374401,\n",
       " 121.56040100530458,\n",
       " 1.7804348448614817)"
      ]
     },
     "execution_count": 15,
     "metadata": {},
     "output_type": "execute_result"
    }
   ],
   "source": [
    "smbf(files.flux[270900])"
   ]
  },
  {
   "cell_type": "code",
   "execution_count": 17,
   "metadata": {
    "collapsed": false
   },
   "outputs": [],
   "source": [
    "res = view.map(smbf,files.flux)"
   ]
  },
  {
   "cell_type": "code",
   "execution_count": 26,
   "metadata": {
    "collapsed": false
   },
   "outputs": [
    {
     "name": "stdout",
     "output_type": "stream",
     "text": [
      "5.1 Total hours\n",
      "0.0 Hours remaining\n"
     ]
    }
   ],
   "source": [
    "n = len(files)\n",
    "m = res.progress\n",
    "t = res.elapsed/60./60.\n",
    "\n",
    "texp = (n/m)*t\n",
    "trem = texp-t\n",
    "\n",
    "\n",
    "print round(texp,2),'Total hours'\n",
    "print round(trem,2), 'Hours remaining'"
   ]
  },
  {
   "cell_type": "code",
   "execution_count": 21,
   "metadata": {
    "collapsed": false
   },
   "outputs": [
    {
     "data": {
      "text/plain": [
       "309673"
      ]
     },
     "execution_count": 21,
     "metadata": {},
     "output_type": "execute_result"
    }
   ],
   "source": [
    "len(files)"
   ]
  },
  {
   "cell_type": "code",
   "execution_count": 20,
   "metadata": {
    "collapsed": false
   },
   "outputs": [
    {
     "data": {
      "text/plain": [
       "4.798091383333333"
      ]
     },
     "execution_count": 20,
     "metadata": {},
     "output_type": "execute_result"
    }
   ],
   "source": [
    "res.elapsed/60."
   ]
  },
  {
   "cell_type": "code",
   "execution_count": 27,
   "metadata": {
    "collapsed": false
   },
   "outputs": [
    {
     "data": {
      "text/plain": [
       "True"
      ]
     },
     "execution_count": 27,
     "metadata": {},
     "output_type": "execute_result"
    }
   ],
   "source": [
    "res.ready()"
   ]
  },
  {
   "cell_type": "code",
   "execution_count": 28,
   "metadata": {
    "collapsed": false
   },
   "outputs": [],
   "source": [
    "lat,lon,sm1,sm2,sm3,bf = zip(*res.result)"
   ]
  },
  {
   "cell_type": "code",
   "execution_count": 29,
   "metadata": {
    "collapsed": false
   },
   "outputs": [],
   "source": [
    "np.savez_compressed('./smbf.npz',lat=lat,lon=lon,sm1=sm1,sm2=sm2,sm3=sm3,bf=bf)"
   ]
  },
  {
   "cell_type": "code",
   "execution_count": null,
   "metadata": {
    "collapsed": false
   },
   "outputs": [],
   "source": [
    "(res.elapsed/60./60.)"
   ]
  },
  {
   "cell_type": "code",
   "execution_count": null,
   "metadata": {
    "collapsed": false
   },
   "outputs": [],
   "source": []
  }
 ],
 "metadata": {
  "kernelspec": {
   "display_name": "Python 2",
   "language": "python",
   "name": "python2"
  },
  "language_info": {
   "codemirror_mode": {
    "name": "ipython",
    "version": 2
   },
   "file_extension": ".py",
   "mimetype": "text/x-python",
   "name": "python",
   "nbconvert_exporter": "python",
   "pygments_lexer": "ipython2",
   "version": "2.7.10"
  }
 },
 "nbformat": 4,
 "nbformat_minor": 0
}
