{
 "metadata": {
  "name": "",
  "signature": "sha256:c475bf282208facd497c200dd1f21729a3c69b7ba4e881857c8893c387987a03"
 },
 "nbformat": 3,
 "nbformat_minor": 0,
 "worksheets": [
  {
   "cells": [
    {
     "cell_type": "code",
     "collapsed": false,
     "input": [
      "from osgeo import ogr\n",
      "import gdal\n",
      "from gdalconst import GDT_Float32\n",
      "from gdalconst import GA_ReadOnly\n",
      "\n",
      "import numpy as np\n",
      "import pandas as pd\n",
      "\n",
      "import glob"
     ],
     "language": "python",
     "metadata": {},
     "outputs": [],
     "prompt_number": 1
    },
    {
     "cell_type": "code",
     "collapsed": false,
     "input": [
      "hucs = !ls ./data/WSC_basin_tiffs/*.tif"
     ],
     "language": "python",
     "metadata": {},
     "outputs": [],
     "prompt_number": 6
    },
    {
     "cell_type": "code",
     "collapsed": false,
     "input": [
      "hucs"
     ],
     "language": "python",
     "metadata": {},
     "outputs": [
      {
       "metadata": {},
       "output_type": "pyout",
       "prompt_number": 7,
       "text": [
        "['./data/WSC_basin_tiffs/HUC10_1018000105.tif',\n",
        " './data/WSC_basin_tiffs/HUC10_1018001001.tif',\n",
        " './data/WSC_basin_tiffs/HUC10_1018001003.tif',\n",
        " './data/WSC_basin_tiffs/HUC10_1019000101.tif',\n",
        " './data/WSC_basin_tiffs/HUC10_1019000104.tif',\n",
        " './data/WSC_basin_tiffs/HUC10_1019000202.tif',\n",
        " './data/WSC_basin_tiffs/HUC10_1019000401.tif',\n",
        " './data/WSC_basin_tiffs/HUC10_1019000505.tif',\n",
        " './data/WSC_basin_tiffs/HUC10_1019000602.tif',\n",
        " './data/WSC_basin_tiffs/HUC10_1019000702.tif',\n",
        " './data/WSC_basin_tiffs/HUC10_1019000704.tif',\n",
        " './data/WSC_basin_tiffs/HUC10_1102000101.tif',\n",
        " './data/WSC_basin_tiffs/HUC10_1102000102.tif',\n",
        " './data/WSC_basin_tiffs/HUC10_1102000106.tif',\n",
        " './data/WSC_basin_tiffs/HUC10_1401000102.tif',\n",
        " './data/WSC_basin_tiffs/HUC10_1401000103.tif',\n",
        " './data/WSC_basin_tiffs/HUC10_1401000104.tif',\n",
        " './data/WSC_basin_tiffs/HUC10_1401000201.tif',\n",
        " './data/WSC_basin_tiffs/HUC10_1401000202.tif',\n",
        " './data/WSC_basin_tiffs/HUC10_1401000205.tif',\n",
        " './data/WSC_basin_tiffs/HUC10_1401000302.tif',\n",
        " './data/WSC_basin_tiffs/HUC10_1401000401.tif',\n",
        " './data/WSC_basin_tiffs/HUC10_1401000405.tif',\n",
        " './data/WSC_basin_tiffs/HUC10_1402000301.tif']"
       ]
      }
     ],
     "prompt_number": 7
    },
    {
     "cell_type": "code",
     "collapsed": false,
     "input": [
      "len(hucs)"
     ],
     "language": "python",
     "metadata": {},
     "outputs": [
      {
       "metadata": {},
       "output_type": "pyout",
       "prompt_number": 8,
       "text": [
        "24"
       ]
      }
     ],
     "prompt_number": 8
    },
    {
     "cell_type": "code",
     "collapsed": false,
     "input": [],
     "language": "python",
     "metadata": {},
     "outputs": []
    },
    {
     "cell_type": "code",
     "collapsed": false,
     "input": [
      "tmp = hucs[0]"
     ],
     "language": "python",
     "metadata": {},
     "outputs": [],
     "prompt_number": 9
    },
    {
     "cell_type": "code",
     "collapsed": false,
     "input": [
      "hc = tmp.split('/')[-1].split('.')[0].split('_')[-1]"
     ],
     "language": "python",
     "metadata": {},
     "outputs": [],
     "prompt_number": 16
    },
    {
     "cell_type": "code",
     "collapsed": false,
     "input": [
      "hc[0:6]"
     ],
     "language": "python",
     "metadata": {},
     "outputs": [
      {
       "metadata": {},
       "output_type": "pyout",
       "prompt_number": 21,
       "text": [
        "'101800'"
       ]
      }
     ],
     "prompt_number": 21
    },
    {
     "cell_type": "code",
     "collapsed": false,
     "input": [
      "cells = []\n",
      "huc10s = []\n",
      "huc4s = []\n",
      "huc6s = []\n",
      "huc8s = []\n",
      "\n",
      "for huc in hucs:\n",
      "    \n",
      "    hc10 = huc.split('/')[-1].split('.')[0].split('_')[-1] # grab the HUC10 codefrom this\n",
      "    hc4 = int(hc10[0:4])\n",
      "    hc6 = int(hc10[0:6])\n",
      "    hc8 = int(hc10[0:8])\n",
      "    hc10 = int(hc10)\n",
      "    \n",
      "    raster = gdal.Open(huc, GA_ReadOnly) # open the raster\n",
      "    r = np.array(raster.GetRasterBand(1).ReadAsArray(), dtype=np.float32) # load the raster into memory\n",
      "    \n",
      "    m,n = np.shape(r) # get the shape\n",
      "    r = np.reshape(r,[m*n,1]) # reshape the raster\n",
      "    r[r==-9999] = np.NaN\n",
      "    r = r[np.isnan(r) == 0] # remove nans\n",
      "    cells.extend(np.unique(r)) # grab the unique values and add to the cells index list\n",
      "    \n",
      "    n = len(r)\n",
      "    \n",
      "    huc10s.extend(np.repeat(hc10,n))\n",
      "    huc8s.extend(np.repeat(hc8,n))\n",
      "    huc6s.extend(np.repeat(hc6,n))\n",
      "    huc4s.extend(np.repeat(hc4,n))"
     ],
     "language": "python",
     "metadata": {},
     "outputs": [],
     "prompt_number": 27
    },
    {
     "cell_type": "code",
     "collapsed": false,
     "input": [
      "print len(huc6s)\n",
      "print len(cells)"
     ],
     "language": "python",
     "metadata": {},
     "outputs": [
      {
       "output_type": "stream",
       "stream": "stdout",
       "text": [
        "349\n",
        "349\n"
       ]
      }
     ],
     "prompt_number": 32
    },
    {
     "cell_type": "code",
     "collapsed": false,
     "input": [
      "df =  pd.DataFrame({'idx':cells,'huc10':huc10s,'huc8':huc8s,'huc6':huc6s,'huc4':huc4s})"
     ],
     "language": "python",
     "metadata": {},
     "outputs": [],
     "prompt_number": 38
    },
    {
     "cell_type": "code",
     "collapsed": false,
     "input": [
      "df.to_pickle('./data/WSC_basin_index.df')"
     ],
     "language": "python",
     "metadata": {},
     "outputs": [],
     "prompt_number": 39
    },
    {
     "cell_type": "code",
     "collapsed": false,
     "input": [
      "riverdict = {1018:'North Platte',1019:'South Platte',1401:'Colorado Headwaters',1402:'Gunisson'}"
     ],
     "language": "python",
     "metadata": {},
     "outputs": [],
     "prompt_number": 35
    },
    {
     "cell_type": "code",
     "collapsed": false,
     "input": [
      "riverdict[1018]"
     ],
     "language": "python",
     "metadata": {},
     "outputs": [
      {
       "metadata": {},
       "output_type": "pyout",
       "prompt_number": 37,
       "text": [
        "'North Platte'"
       ]
      }
     ],
     "prompt_number": 37
    }
   ],
   "metadata": {}
  }
 ]
}