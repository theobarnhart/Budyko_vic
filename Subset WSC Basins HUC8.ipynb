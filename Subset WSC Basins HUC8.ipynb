{
 "cells": [
  {
   "cell_type": "code",
   "execution_count": 1,
   "metadata": {
    "collapsed": false
   },
   "outputs": [],
   "source": [
    "from osgeo import ogr\n",
    "import gdal\n",
    "from gdalconst import GDT_Float32\n",
    "from gdalconst import GA_ReadOnly\n",
    "\n",
    "import numpy as np\n",
    "import pandas as pd\n",
    "\n",
    "import glob"
   ]
  },
  {
   "cell_type": "code",
   "execution_count": 2,
   "metadata": {
    "collapsed": false
   },
   "outputs": [],
   "source": [
    "hucs = !ls ./data/WSC_basin_tiffs/HUC8*.tif"
   ]
  },
  {
   "cell_type": "code",
   "execution_count": 3,
   "metadata": {
    "collapsed": false
   },
   "outputs": [
    {
     "data": {
      "text/plain": [
       "['./data/WSC_basin_tiffs/HUC8_10180001.tif',\n",
       " './data/WSC_basin_tiffs/HUC8_10180010.tif',\n",
       " './data/WSC_basin_tiffs/HUC8_10190001.tif',\n",
       " './data/WSC_basin_tiffs/HUC8_10190002.tif',\n",
       " './data/WSC_basin_tiffs/HUC8_10190004.tif',\n",
       " './data/WSC_basin_tiffs/HUC8_10190005.tif',\n",
       " './data/WSC_basin_tiffs/HUC8_10190006.tif',\n",
       " './data/WSC_basin_tiffs/HUC8_10190007.tif',\n",
       " './data/WSC_basin_tiffs/HUC8_11020001.tif',\n",
       " './data/WSC_basin_tiffs/HUC8_14010001.tif',\n",
       " './data/WSC_basin_tiffs/HUC8_14010002.tif',\n",
       " './data/WSC_basin_tiffs/HUC8_14010003.tif',\n",
       " './data/WSC_basin_tiffs/HUC8_14010004.tif',\n",
       " './data/WSC_basin_tiffs/HUC8_14020003.tif']"
      ]
     },
     "execution_count": 3,
     "metadata": {},
     "output_type": "execute_result"
    }
   ],
   "source": [
    "hucs"
   ]
  },
  {
   "cell_type": "code",
   "execution_count": 4,
   "metadata": {
    "collapsed": false
   },
   "outputs": [
    {
     "data": {
      "text/plain": [
       "14"
      ]
     },
     "execution_count": 4,
     "metadata": {},
     "output_type": "execute_result"
    }
   ],
   "source": [
    "len(hucs)"
   ]
  },
  {
   "cell_type": "code",
   "execution_count": 9,
   "metadata": {
    "collapsed": false
   },
   "outputs": [],
   "source": [
    "tmp = hucs[0]"
   ]
  },
  {
   "cell_type": "code",
   "execution_count": 16,
   "metadata": {
    "collapsed": false
   },
   "outputs": [],
   "source": [
    "hc = tmp.split('/')[-1].split('.')[0].split('_')[-1]"
   ]
  },
  {
   "cell_type": "code",
   "execution_count": 21,
   "metadata": {
    "collapsed": false
   },
   "outputs": [
    {
     "data": {
      "text/plain": [
       "'101800'"
      ]
     },
     "execution_count": 21,
     "metadata": {},
     "output_type": "execute_result"
    }
   ],
   "source": [
    "hc[0:6]"
   ]
  },
  {
   "cell_type": "code",
   "execution_count": 16,
   "metadata": {
    "collapsed": false
   },
   "outputs": [],
   "source": [
    "cells = []\n",
    "huc4s = []\n",
    "huc6s = []\n",
    "huc8s = []\n",
    "\n",
    "for huc in hucs:\n",
    "    \n",
    "    hc8 = huc.split('/')[-1].split('.')[0].split('_')[-1] # grab the HUC10 codefrom this\n",
    "    hc4 = int(hc8[0:4])\n",
    "    hc6 = int(hc8[0:6])\n",
    "    \n",
    "    raster = gdal.Open(huc, GA_ReadOnly) # open the raster\n",
    "    r = np.array(raster.GetRasterBand(1).ReadAsArray(), dtype=np.float32) # load the raster into memory\n",
    "    \n",
    "    m,n = np.shape(r) # get the shape\n",
    "    r = np.reshape(r,[m*n,1]) # reshape the raster\n",
    "    r[r==-9999] = np.NaN\n",
    "    r = r[np.isnan(r) == 0] # remove nans\n",
    "    cells.extend(np.unique(r)) # grab the unique values and add to the cells index list\n",
    "    \n",
    "    n = len(r)\n",
    "    \n",
    "    huc8s.extend(np.repeat(hc8,n))\n",
    "    huc6s.extend(np.repeat(hc6,n))\n",
    "    huc4s.extend(np.repeat(hc4,n))"
   ]
  },
  {
   "cell_type": "code",
   "execution_count": 17,
   "metadata": {
    "collapsed": false
   },
   "outputs": [
    {
     "name": "stdout",
     "output_type": "stream",
     "text": [
      "1507\n",
      "1507\n"
     ]
    }
   ],
   "source": [
    "print len(huc6s)\n",
    "print len(cells)"
   ]
  },
  {
   "cell_type": "code",
   "execution_count": 19,
   "metadata": {
    "collapsed": false
   },
   "outputs": [],
   "source": [
    "df =  pd.DataFrame({'idx':cells,'huc8':huc8s,'huc6':huc6s,'huc4':huc4s})\n",
    "cells = df"
   ]
  },
  {
   "cell_type": "code",
   "execution_count": 20,
   "metadata": {
    "collapsed": false
   },
   "outputs": [],
   "source": [
    "cells.to_pickle('./data/WSC_HUC8_basin_index.df')"
   ]
  },
  {
   "cell_type": "code",
   "execution_count": 21,
   "metadata": {
    "collapsed": false
   },
   "outputs": [],
   "source": [
    "df = pd.read_hdf('./budyko_working.hdf','df')\n",
    "df['idx2'] = df.idx.copy()"
   ]
  },
  {
   "cell_type": "code",
   "execution_count": 22,
   "metadata": {
    "collapsed": false
   },
   "outputs": [],
   "source": [
    "df = pd.merge(df,cells, on='idx', left_index=True)"
   ]
  },
  {
   "cell_type": "code",
   "execution_count": 23,
   "metadata": {
    "collapsed": false
   },
   "outputs": [],
   "source": [
    "df.dropna(subset=['idx'],inplace=True)"
   ]
  },
  {
   "cell_type": "code",
   "execution_count": 24,
   "metadata": {
    "collapsed": false
   },
   "outputs": [
    {
     "data": {
      "text/plain": [
       "1507"
      ]
     },
     "execution_count": 24,
     "metadata": {},
     "output_type": "execute_result"
    }
   ],
   "source": [
    "len(df)"
   ]
  },
  {
   "cell_type": "code",
   "execution_count": 25,
   "metadata": {
    "collapsed": false
   },
   "outputs": [],
   "source": [
    "df.to_hdf('./budyko_working_WSC_HUC8.hdf','df',format='fixed',complevel=5,complib='bzip2',fletcher32=True)"
   ]
  },
  {
   "cell_type": "code",
   "execution_count": 2,
   "metadata": {
    "collapsed": false
   },
   "outputs": [],
   "source": [
    "tmp = pd.read_hdf('./budyko_working_WSC_HUC8.hdf','df')"
   ]
  },
  {
   "cell_type": "code",
   "execution_count": 4,
   "metadata": {
    "collapsed": false
   },
   "outputs": [
    {
     "name": "stdout",
     "output_type": "stream",
     "text": [
      "Index([u'frlon', u'PETpenmanvic', u'P', u'ET', u'frlat', u'Sf', u'meanablseason', u'meandosnowfree', u'meanpeakswe', u'meanpeaket', u'meandopeaket', u'meanablslope', u'meandopeakswe', u'infilt', u'fs_active', u'l1_quartz', u'l3_Wpwp_FRACT', u'l3_bulkD', u'l3_init_moist', u'annual_prec', u'l2_soil_density', u'l2_Ksat', u'rough', u'l2_Wcr_FRACT', u'l2_depth', u'l2_quartz', u'l1_phi_s', u'l3_bubble', u'l1_expt', u'Ws', u'l1_Ksat', u'l1_soil_density', u'l1_resid_moisture', u'l2_phi_s', u'l2_init_moist', u'l2_expt', u'l1_init_moist', u'l1_depth', u'off_gmt', u'l3_expt', u'l3_depth', u'Dsmax', u'l1_Wpwp_FRACT', u'l3_resid_moisture', u'avg_T', u'l3_soil_density', u'l3_phi_s', u'dp', u'c', u'l2_bulkD', u'l2_bubble', u'l2_Wpwp_FRACT', u'l3_Ksat', u'l3_quartz', u'Ds', u'l1_bulkD', u'l1_bubble', u'l2_resid_moisture', u'elev', u'snow_rough', u'l1_Wcr_FRACT', u'l3_Wcr_FRACT', u'slope', u'rsquared_adj', u'intercept', u'rsquared', u'pvalue', u'w_flux', u'w_flux2', u'w_flux3', u'snowmelt', u'Sf2', u'Sf1', u'Sf_2', u'Sf_1', u'wflux4', u'wflux5', u'rain', u'netSM', u'idx', u'idx2', u'huc4', u'huc6', u'huc8'], dtype='object')\n"
     ]
    }
   ],
   "source": [
    "print tmp.columns"
   ]
  },
  {
   "cell_type": "code",
   "execution_count": null,
   "metadata": {
    "collapsed": false
   },
   "outputs": [],
   "source": []
  }
 ],
 "metadata": {
  "kernelspec": {
   "display_name": "Python 2",
   "language": "python",
   "name": "python2"
  },
  "language_info": {
   "codemirror_mode": {
    "name": "ipython",
    "version": 2
   },
   "file_extension": ".py",
   "mimetype": "text/x-python",
   "name": "python",
   "nbconvert_exporter": "python",
   "pygments_lexer": "ipython2",
   "version": "2.7.12"
  }
 },
 "nbformat": 4,
 "nbformat_minor": 0
}
