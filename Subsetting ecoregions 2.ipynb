{
 "metadata": {
  "name": "",
  "signature": "sha256:c7dd3355cdaaae9a5bdf01b9b6d6df92230ccefe39e857eeb885ef26325c3682"
 },
 "nbformat": 3,
 "nbformat_minor": 0,
 "worksheets": [
  {
   "cells": [
    {
     "cell_type": "code",
     "collapsed": false,
     "input": [
      "from osgeo import ogr\n",
      "import gdal\n",
      "from gdalconst import GDT_Float32\n",
      "from gdalconst import GA_ReadOnly\n",
      "\n",
      "import numpy as np\n",
      "import pandas as pd\n",
      "\n",
      "import glob"
     ],
     "language": "python",
     "metadata": {},
     "outputs": [],
     "prompt_number": 1
    },
    {
     "cell_type": "markdown",
     "metadata": {},
     "source": [
      "## Breakdown of Ecoregions\n",
      "\n",
      "***Greater Cascades - 1***\n",
      "- Cascades 4\n",
      "- East Cascades 9\n",
      "- N Cascades 77\n",
      "\n",
      "***Sierra - 2***\n",
      "- Sierra 188\n",
      "\n",
      "***Klamath - 3***\n",
      "- Klamath 78 - maybe put as part of the Cascades or Sierra?\n",
      "\n",
      "***Greater Nothern Rockies - 4***\n",
      "- Northern Rockies 15\n",
      "- Idaho Batholith 16\n",
      "- Canadian Rockies (Glacier) 41 \n",
      "\n",
      "***Middle Rockies - 5***\n",
      "- Middle Rockies 17\n",
      "\n",
      "***Blue Mountains - 6***\n",
      "- Blue Mountains 11\n",
      "\n",
      "***North Basin and Range - 7***\n",
      "- North Basin and Range 80\n",
      "\n",
      "***Wasatch and Uintas - 8***\n",
      "- Wasatch and Uintas 19\n",
      "\n",
      "***Southern Rockies - 9***\n",
      "- Southern Rockies 21\n",
      "\n",
      "***Central Basin and Range - 10***\n",
      "- Central Basin and Range 13"
     ]
    },
    {
     "cell_type": "code",
     "collapsed": false,
     "input": [
      "cascades = ['cascades.tif','e_cascades.tif','n_cascades.tif']\n",
      "sierra = ['sierra.tif']\n",
      "klamath = ['klamath.tif']\n",
      "nrockies = ['canadian_rockies.tif','northern_rockies.tif']\n",
      "mrockies = ['middle_rockies.tif','id_batholith.tif']\n",
      "bluemtns = ['blue_mtns.tif']\n",
      "nbar = ['north_basin_and_range.tif']\n",
      "wasatch = ['wasatch_uinta.tif']\n",
      "srockies = ['souther_rockies.tif']\n",
      "cbar = ['central_basin_and_range.tif']\n",
      "coastrange = ['coast_ranges.tif']"
     ],
     "language": "python",
     "metadata": {},
     "outputs": [],
     "prompt_number": 2
    },
    {
     "cell_type": "code",
     "collapsed": false,
     "input": [
      "ecoregions = [cascades,sierra,klamath,nrockies,mrockies,bluemtns,nbar,wasatch,srockies,cbar,coastrange]"
     ],
     "language": "python",
     "metadata": {},
     "outputs": [],
     "prompt_number": 3
    },
    {
     "cell_type": "code",
     "collapsed": false,
     "input": [
      "# preallocate index cells\n",
      "\n",
      "cascades_idx = np.array([])\n",
      "sierra_idx = np.array([])\n",
      "klamath_idx = np.array([])\n",
      "nrockies_idx = np.array([])\n",
      "mrockies_idx = np.array([])\n",
      "bluemtns_idx = np.array([])\n",
      "nbar_idx = np.array([])\n",
      "wasatch_idx = np.array([])\n",
      "srockies_idx = np.array([])\n",
      "cbar_idx = np.array([])\n",
      "coastrange_idx = np.array([])\n",
      "\n",
      "er_idx = [cascades_idx,sierra_idx,klamath_idx,nrockies_idx,mrockies_idx,bluemtns_idx,nbar_idx,wasatch_idx,srockies_idx,cbar_idx,coastrange_idx]"
     ],
     "language": "python",
     "metadata": {},
     "outputs": [],
     "prompt_number": 4
    },
    {
     "cell_type": "code",
     "collapsed": false,
     "input": [
      "er_idx"
     ],
     "language": "python",
     "metadata": {},
     "outputs": [
      {
       "metadata": {},
       "output_type": "pyout",
       "prompt_number": 5,
       "text": [
        "[array([], dtype=float64),\n",
        " array([], dtype=float64),\n",
        " array([], dtype=float64),\n",
        " array([], dtype=float64),\n",
        " array([], dtype=float64),\n",
        " array([], dtype=float64),\n",
        " array([], dtype=float64),\n",
        " array([], dtype=float64),\n",
        " array([], dtype=float64),\n",
        " array([], dtype=float64),\n",
        " array([], dtype=float64)]"
       ]
      }
     ],
     "prompt_number": 5
    },
    {
     "cell_type": "code",
     "collapsed": false,
     "input": [
      "pth = './data/ecoregions/tiffs/'"
     ],
     "language": "python",
     "metadata": {},
     "outputs": [],
     "prompt_number": 6
    },
    {
     "cell_type": "code",
     "collapsed": false,
     "input": [
      "ct = 0\n",
      "for er in ecoregions:\n",
      "    if len(er) == 1:\n",
      "        flpth = pth+er[0]\n",
      "        cells = [] # initialize the cells\n",
      "        raster = gdal.Open(flpth, GA_ReadOnly) # open the raster\n",
      "        r = np.array(raster.GetRasterBand(1).ReadAsArray(), dtype=np.float32) # load the raster into memory \n",
      "        m,n = np.shape(r) # get the shape\n",
      "        r[r == -9999] = np.NaN # deal with no data values\n",
      "        r = np.reshape(r,[m*n,1]) # reshape the raster\n",
      "        r = r[np.isnan(r) == 0] # remove nans\n",
      "        cells.extend(np.unique(r)) # grab the unique values and add to the cells index list\n",
      "        print len(np.unique(r))\n",
      "        er_idx[ct] = cells # save the cells index list to a structure\n",
      "    else: \n",
      "        cells = [] # see notes above\n",
      "        for fl in er:\n",
      "            flpth = pth+fl\n",
      "            raster = gdal.Open(flpth, GA_ReadOnly)\n",
      "            r = np.array(raster.GetRasterBand(1).ReadAsArray(), dtype=np.float32)\n",
      "            m,n = np.shape(r)\n",
      "            r[r==-9999] = np.NaN\n",
      "            r = np.reshape(r,[m*n,1])\n",
      "            r = r[np.isnan(r) == 0]\n",
      "            cells.extend(np.unique(r))\n",
      "            print len(np.unique(r))\n",
      "        \n",
      "        er_idx[ct] = cells\n",
      "        \n",
      "    ct += 1"
     ],
     "language": "python",
     "metadata": {},
     "outputs": [
      {
       "output_type": "stream",
       "stream": "stdout",
       "text": [
        "1347\n",
        "1584"
       ]
      },
      {
       "output_type": "stream",
       "stream": "stdout",
       "text": [
        "\n",
        "901\n",
        "1395\n",
        "1342"
       ]
      },
      {
       "output_type": "stream",
       "stream": "stdout",
       "text": [
        "\n",
        "584"
       ]
      },
      {
       "output_type": "stream",
       "stream": "stdout",
       "text": [
        "\n",
        "2531\n",
        "4802\n",
        "1757\n",
        "2057"
       ]
      },
      {
       "output_type": "stream",
       "stream": "stdout",
       "text": [
        "\n",
        "3990\n",
        "1220\n",
        "3862\n",
        "8263"
       ]
      },
      {
       "output_type": "stream",
       "stream": "stdout",
       "text": [
        "\n",
        "1557\n"
       ]
      }
     ],
     "prompt_number": 7
    },
    {
     "cell_type": "code",
     "collapsed": false,
     "input": [
      "# make a data frame of the index cells and a code for the ecoregions\n",
      "df = pd.DataFrame({'idx':[],'rc':[]})\n",
      "ct = 1\n",
      "for er in er_idx:\n",
      "    cells = er\n",
      "    rc = np.repeat(ct,len(cells))\n",
      "    tmp = pd.DataFrame({'idx':cells,'rc':rc})\n",
      "    df = pd.concat([df,tmp])\n",
      "    ct += 1\n",
      "    del cells,tmp"
     ],
     "language": "python",
     "metadata": {},
     "outputs": [],
     "prompt_number": 10
    },
    {
     "cell_type": "code",
     "collapsed": false,
     "input": [
      "df.to_pickle('./ecoregion_cells.df')"
     ],
     "language": "python",
     "metadata": {},
     "outputs": [],
     "prompt_number": 11
    },
    {
     "cell_type": "code",
     "collapsed": false,
     "input": [],
     "language": "python",
     "metadata": {},
     "outputs": []
    }
   ],
   "metadata": {}
  }
 ]
}