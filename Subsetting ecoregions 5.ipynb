{
 "metadata": {
  "name": "",
  "signature": "sha256:48678df833eaebaba431c0afc2e4166d8c5c9bcfd60e75d0cd33c5d38538f6d7"
 },
 "nbformat": 3,
 "nbformat_minor": 0,
 "worksheets": [
  {
   "cells": [
    {
     "cell_type": "code",
     "collapsed": false,
     "input": [
      "from osgeo import ogr\n",
      "import gdal\n",
      "from gdalconst import GDT_Float32\n",
      "from gdalconst import GA_ReadOnly\n",
      "\n",
      "import numpy as np\n",
      "import pandas as pd\n",
      "\n",
      "import glob"
     ],
     "language": "python",
     "metadata": {},
     "outputs": [],
     "prompt_number": 2
    },
    {
     "cell_type": "code",
     "collapsed": false,
     "input": [
      "cascades = ['cascades.tif']\n",
      "ecascades = ['e_cascades.tif']\n",
      "ncascades = ['n_cascades.tif']\n",
      "sierra = ['sierra.tif']\n",
      "klamath = ['klamath.tif']\n",
      "nrockies = ['northern_rockies.tif']\n",
      "mrockies = ['middle_rockies.tif']\n",
      "carockies = ['canadian_rockies.tif']\n",
      "idbath = ['id_batholith.tif']\n",
      "bluemtns = ['blue_mtns.tif']\n",
      "nbar = ['north_basin_and_range.tif']\n",
      "wasatch = ['wasatch_uinta.tif']\n",
      "srockies = ['souther_rockies.tif']\n",
      "cbar = ['central_basin_and_range.tif']\n",
      "coastrange = ['coast_ranges.tif']"
     ],
     "language": "python",
     "metadata": {},
     "outputs": [],
     "prompt_number": 5
    },
    {
     "cell_type": "code",
     "collapsed": false,
     "input": [
      "ecoregions = [cascades,ecascades,ncascades,sierra,klamath,nrockies,mrockies,carockies,idbath,\n",
      "              bluemtns,nbar,wasatch,srockies,cbar,coastrange]"
     ],
     "language": "python",
     "metadata": {},
     "outputs": [],
     "prompt_number": 7
    },
    {
     "cell_type": "code",
     "collapsed": false,
     "input": [
      "# preallocate index cells\n",
      "\n",
      "cascades_idx = np.array([])\n",
      "ecascades_idx = np.array([])\n",
      "ncascades_idx = np.array([])\n",
      "sierra_idx = np.array([])\n",
      "klamath_idx = np.array([])\n",
      "nrockies_idx = np.array([])\n",
      "mrockies_idx = np.array([])\n",
      "carockies_idx = np.array([])\n",
      "idbath_idx = np.array([])\n",
      "bluemtns_idx = np.array([])\n",
      "nbar_idx = np.array([])\n",
      "wasatch_idx = np.array([])\n",
      "srockies_idx = np.array([])\n",
      "cbar_idx = np.array([])\n",
      "coastrange_idx = np.array([])\n",
      "\n",
      "er_idx = [cascades_idx,ecascades_idx,ncascades_idx,sierra_idx,klamath_idx,nrockies_idx,mrockies_idx,carockies_idx,idbath_idx,\n",
      "              bluemtns_idx,nbar_idx,wasatch_idx,srockies_idx,cbar_idx,coastrange_idx]"
     ],
     "language": "python",
     "metadata": {},
     "outputs": [],
     "prompt_number": 10
    },
    {
     "cell_type": "code",
     "collapsed": false,
     "input": [
      "er_idx"
     ],
     "language": "python",
     "metadata": {},
     "outputs": [
      {
       "metadata": {},
       "output_type": "pyout",
       "prompt_number": 11,
       "text": [
        "[array([], dtype=float64),\n",
        " array([], dtype=float64),\n",
        " array([], dtype=float64),\n",
        " array([], dtype=float64),\n",
        " array([], dtype=float64),\n",
        " array([], dtype=float64),\n",
        " array([], dtype=float64),\n",
        " array([], dtype=float64),\n",
        " array([], dtype=float64),\n",
        " array([], dtype=float64),\n",
        " array([], dtype=float64),\n",
        " array([], dtype=float64),\n",
        " array([], dtype=float64),\n",
        " array([], dtype=float64),\n",
        " array([], dtype=float64)]"
       ]
      }
     ],
     "prompt_number": 11
    },
    {
     "cell_type": "code",
     "collapsed": false,
     "input": [
      "pth = './data/ecoregions/tiffs/'"
     ],
     "language": "python",
     "metadata": {},
     "outputs": [],
     "prompt_number": 12
    },
    {
     "cell_type": "code",
     "collapsed": false,
     "input": [
      "ct = 0\n",
      "for er in ecoregions:\n",
      "    if len(er) == 1:\n",
      "        flpth = pth+er[0]\n",
      "        cells = [] # initialize the cells\n",
      "        raster = gdal.Open(flpth, GA_ReadOnly) # open the raster\n",
      "        r = np.array(raster.GetRasterBand(1).ReadAsArray(), dtype=np.float32) # load the raster into memory \n",
      "        m,n = np.shape(r) # get the shape\n",
      "        r[r == -9999] = np.NaN # deal with no data values\n",
      "        r = np.reshape(r,[m*n,1]) # reshape the raster\n",
      "        r = r[np.isnan(r) == 0] # remove nans\n",
      "        cells.extend(np.unique(r)) # grab the unique values and add to the cells index list\n",
      "        print len(np.unique(r))\n",
      "        er_idx[ct] = cells # save the cells index list to a structure\n",
      "    else: \n",
      "        cells = [] # see notes above\n",
      "        for fl in er:\n",
      "            flpth = pth+fl\n",
      "            raster = gdal.Open(flpth, GA_ReadOnly)\n",
      "            r = np.array(raster.GetRasterBand(1).ReadAsArray(), dtype=np.float32)\n",
      "            m,n = np.shape(r)\n",
      "            r[r==-9999] = np.NaN\n",
      "            r = np.reshape(r,[m*n,1])\n",
      "            r = r[np.isnan(r) == 0]\n",
      "            cells.extend(np.unique(r))\n",
      "            print len(np.unique(r))\n",
      "        \n",
      "        er_idx[ct] = cells\n",
      "        \n",
      "    ct += 1"
     ],
     "language": "python",
     "metadata": {},
     "outputs": [
      {
       "output_type": "stream",
       "stream": "stdout",
       "text": [
        "1347\n",
        "1584\n",
        "901"
       ]
      },
      {
       "output_type": "stream",
       "stream": "stdout",
       "text": [
        "\n",
        "1395\n",
        "1342\n",
        "2531"
       ]
      },
      {
       "output_type": "stream",
       "stream": "stdout",
       "text": [
        "\n",
        "4802\n",
        "584\n",
        "1757\n",
        "2057"
       ]
      },
      {
       "output_type": "stream",
       "stream": "stdout",
       "text": [
        "\n",
        "3990\n",
        "1220\n",
        "3862\n",
        "8263"
       ]
      },
      {
       "output_type": "stream",
       "stream": "stdout",
       "text": [
        "\n",
        "1557\n"
       ]
      }
     ],
     "prompt_number": 13
    },
    {
     "cell_type": "code",
     "collapsed": false,
     "input": [
      "# make a data frame of the index cells and a code for the ecoregions\n",
      "df = pd.DataFrame({'idx':[],'rc':[]})\n",
      "ct = 1\n",
      "for er in er_idx:\n",
      "    cells = er\n",
      "    rc = np.repeat(ct,len(cells))\n",
      "    tmp = pd.DataFrame({'idx':cells,'rc':rc})\n",
      "    df = pd.concat([df,tmp])\n",
      "    ct += 1\n",
      "    del cells,tmp"
     ],
     "language": "python",
     "metadata": {},
     "outputs": [],
     "prompt_number": 15
    },
    {
     "cell_type": "code",
     "collapsed": false,
     "input": [
      "df.to_pickle('./ecoregion_cells_all.df')"
     ],
     "language": "python",
     "metadata": {},
     "outputs": [],
     "prompt_number": 16
    },
    {
     "cell_type": "code",
     "collapsed": false,
     "input": [],
     "language": "python",
     "metadata": {},
     "outputs": []
    }
   ],
   "metadata": {}
  }
 ]
}