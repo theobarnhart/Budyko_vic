{
 "metadata": {
  "name": "",
  "signature": "sha256:d18970e7f18b50cd8493fbe9108ade8847d1547a910c8550bdfab4fa831197cc"
 },
 "nbformat": 3,
 "nbformat_minor": 0,
 "worksheets": []
}