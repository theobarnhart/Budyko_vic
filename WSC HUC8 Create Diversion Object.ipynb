{
 "cells": [
  {
   "cell_type": "raw",
   "metadata": {},
   "source": [
    "class waterDiversion(object):\n",
    "    Name = \"\"\n",
    "    From = \"\"\n",
    "    To = \"\"\n",
    "    \n",
    "    Allocation = 0.0\n",
    "    Units = \"\"\n",
    "    \n",
    "    HUC8FromName = \"\"\n",
    "    HUC8ToName = \"\"\n",
    "    HUC8From = 0\n",
    "    HUC8To = 0\n",
    "    \n",
    "    def __init__(self, Name, From, To, Allocation, Units, HUC8FromName,\n",
    "                 HUC8ToName, HUC8From, HUC8To):\n",
    "        self.name = Name\n",
    "        self.From = From\n",
    "        self.To = To\n",
    "        self.Allocation = Allocation \n",
    "        self.Units = Units\n",
    "        self.HUC8FromName = HUC8FromName \n",
    "        self.HUC8ToName = HUC8ToName\n",
    "        self.Huc8From = Huc8From \n",
    "        self.Huc8To = Huc8To "
   ]
  },
  {
   "cell_type": "code",
   "execution_count": 2,
   "metadata": {
    "collapsed": false
   },
   "outputs": [],
   "source": [
    "import pandas as pd"
   ]
  },
  {
   "cell_type": "code",
   "execution_count": 3,
   "metadata": {
    "collapsed": false
   },
   "outputs": [],
   "source": [
    "data = pd.read_excel('/Volumes/shareProjects/WSC/data/diversions/Transbasin_Structures_detailed_TBB.xlsx')"
   ]
  },
  {
   "cell_type": "code",
   "execution_count": 4,
   "metadata": {
    "collapsed": false
   },
   "outputs": [
    {
     "data": {
      "text/html": [
       "<div style=\"max-height:1000px;max-width:1500px;overflow:auto;\">\n",
       "<table border=\"1\" class=\"dataframe\">\n",
       "  <thead>\n",
       "    <tr style=\"text-align: right;\">\n",
       "      <th></th>\n",
       "      <th>Priority</th>\n",
       "      <th>From Basin</th>\n",
       "      <th>To Basin</th>\n",
       "      <th>Diversion Name</th>\n",
       "      <th>Allocation</th>\n",
       "      <th>Units</th>\n",
       "      <th>2000 Diversion</th>\n",
       "      <th>1980-2012 Average</th>\n",
       "      <th>wdid</th>\n",
       "      <th>HUC8FromName</th>\n",
       "      <th>HUC8From</th>\n",
       "      <th>HUC8ToName</th>\n",
       "      <th>Huc8To</th>\n",
       "    </tr>\n",
       "  </thead>\n",
       "  <tbody>\n",
       "    <tr>\n",
       "      <th>0</th>\n",
       "      <td> 1935</td>\n",
       "      <td> Colorado</td>\n",
       "      <td> South Platte</td>\n",
       "      <td>      Adams Tunnel</td>\n",
       "      <td>  550</td>\n",
       "      <td> CFS</td>\n",
       "      <td> 247735</td>\n",
       "      <td> 232587.0</td>\n",
       "      <td> 5104634</td>\n",
       "      <td> Colorado Headwaters</td>\n",
       "      <td> 14010001</td>\n",
       "      <td>        Big Thompson</td>\n",
       "      <td> 10190006</td>\n",
       "    </tr>\n",
       "    <tr>\n",
       "      <th>1</th>\n",
       "      <td> 1952</td>\n",
       "      <td> Colorado</td>\n",
       "      <td> South Platte</td>\n",
       "      <td>    Roberts Tunnel</td>\n",
       "      <td>  520</td>\n",
       "      <td> CFS</td>\n",
       "      <td>  93645</td>\n",
       "      <td>  61899.2</td>\n",
       "      <td> 3604684</td>\n",
       "      <td>                Blue</td>\n",
       "      <td> 14010002</td>\n",
       "      <td>  Upper South Platte</td>\n",
       "      <td> 10190002</td>\n",
       "    </tr>\n",
       "    <tr>\n",
       "      <th>2</th>\n",
       "      <td> 1957</td>\n",
       "      <td> Colorado</td>\n",
       "      <td>     Arkansas</td>\n",
       "      <td>   Boustead Tunnel</td>\n",
       "      <td> 1000</td>\n",
       "      <td> CFS</td>\n",
       "      <td>  44830</td>\n",
       "      <td>  57942.8</td>\n",
       "      <td> 3804625</td>\n",
       "      <td>        Roaring Fork</td>\n",
       "      <td> 14010004</td>\n",
       "      <td> Arkansas Headwaters</td>\n",
       "      <td> 11020001</td>\n",
       "    </tr>\n",
       "    <tr>\n",
       "      <th>3</th>\n",
       "      <td> 1921</td>\n",
       "      <td> Colorado</td>\n",
       "      <td> South Platte</td>\n",
       "      <td>     Moffat Tunnel</td>\n",
       "      <td>  928</td>\n",
       "      <td> CFS</td>\n",
       "      <td>  51726</td>\n",
       "      <td>  53084.3</td>\n",
       "      <td> 5104655</td>\n",
       "      <td> Colorado Headwaters</td>\n",
       "      <td> 14010001</td>\n",
       "      <td>           St. Vrain</td>\n",
       "      <td> 10190005</td>\n",
       "    </tr>\n",
       "    <tr>\n",
       "      <th>4</th>\n",
       "      <td> 1930</td>\n",
       "      <td> Colorado</td>\n",
       "      <td>     Arkansas</td>\n",
       "      <td> Twin Lakes Tunnel</td>\n",
       "      <td>  625</td>\n",
       "      <td> CFS</td>\n",
       "      <td>  42117</td>\n",
       "      <td>  40900.3</td>\n",
       "      <td> 3804617</td>\n",
       "      <td>        Roaring Fork</td>\n",
       "      <td> 14010004</td>\n",
       "      <td> Arkansas Headwaters</td>\n",
       "      <td> 11020001</td>\n",
       "    </tr>\n",
       "  </tbody>\n",
       "</table>\n",
       "</div>"
      ],
      "text/plain": [
       "  Priority From Basin      To Basin     Diversion Name  Allocation Units  \\\n",
       "0     1935   Colorado  South Platte       Adams Tunnel         550   CFS   \n",
       "1     1952   Colorado  South Platte     Roberts Tunnel         520   CFS   \n",
       "2     1957   Colorado      Arkansas    Boustead Tunnel        1000   CFS   \n",
       "3     1921   Colorado  South Platte      Moffat Tunnel         928   CFS   \n",
       "4     1930   Colorado      Arkansas  Twin Lakes Tunnel         625   CFS   \n",
       "\n",
       "   2000 Diversion  1980-2012 Average     wdid         HUC8FromName  HUC8From  \\\n",
       "0          247735           232587.0  5104634  Colorado Headwaters  14010001   \n",
       "1           93645            61899.2  3604684                 Blue  14010002   \n",
       "2           44830            57942.8  3804625         Roaring Fork  14010004   \n",
       "3           51726            53084.3  5104655  Colorado Headwaters  14010001   \n",
       "4           42117            40900.3  3804617         Roaring Fork  14010004   \n",
       "\n",
       "            HUC8ToName    Huc8To  \n",
       "0         Big Thompson  10190006  \n",
       "1   Upper South Platte  10190002  \n",
       "2  Arkansas Headwaters  11020001  \n",
       "3            St. Vrain  10190005  \n",
       "4  Arkansas Headwaters  11020001  "
      ]
     },
     "execution_count": 4,
     "metadata": {},
     "output_type": "execute_result"
    }
   ],
   "source": [
    "data.head()"
   ]
  },
  {
   "cell_type": "code",
   "execution_count": 5,
   "metadata": {
    "collapsed": false
   },
   "outputs": [
    {
     "ename": "TypeError",
     "evalue": "__init__() takes exactly 10 arguments (3 given)",
     "output_type": "error",
     "traceback": [
      "\u001b[0;31m---------------------------------------------------------------------------\u001b[0m\n\u001b[0;31mTypeError\u001b[0m                                 Traceback (most recent call last)",
      "\u001b[0;32m<ipython-input-5-d503e4833e65>\u001b[0m in \u001b[0;36m<module>\u001b[0;34m()\u001b[0m\n\u001b[1;32m      5\u001b[0m     \u001b[0mfrm\u001b[0m \u001b[0;34m=\u001b[0m \u001b[0mdata\u001b[0m\u001b[0;34m[\u001b[0m\u001b[0;34m'From Basin'\u001b[0m\u001b[0;34m]\u001b[0m\u001b[0;34m[\u001b[0m\u001b[0mid\u001b[0m\u001b[0;34m]\u001b[0m\u001b[0;34m\u001b[0m\u001b[0m\n\u001b[1;32m      6\u001b[0m \u001b[0;34m\u001b[0m\u001b[0m\n\u001b[0;32m----> 7\u001b[0;31m     \u001b[0mdiv\u001b[0m \u001b[0;34m=\u001b[0m \u001b[0mwaterDiversion\u001b[0m\u001b[0;34m(\u001b[0m\u001b[0mname\u001b[0m\u001b[0;34m,\u001b[0m\u001b[0mfrm\u001b[0m\u001b[0;34m)\u001b[0m\u001b[0;34m\u001b[0m\u001b[0m\n\u001b[0m",
      "\u001b[0;31mTypeError\u001b[0m: __init__() takes exactly 10 arguments (3 given)"
     ]
    }
   ],
   "source": [
    "Diversions = []\n",
    "for id in data.index:\n",
    "    \n",
    "    name = data['Diversion Name'][id]\n",
    "    frm = data['From Basin'][id]\n",
    "    \n",
    "    div = waterDiversion(name,frm)"
   ]
  },
  {
   "cell_type": "code",
   "execution_count": null,
   "metadata": {
    "collapsed": false
   },
   "outputs": [],
   "source": []
  }
 ],
 "metadata": {
  "kernelspec": {
   "display_name": "Python 2",
   "language": "python",
   "name": "python2"
  },
  "language_info": {
   "codemirror_mode": {
    "name": "ipython",
    "version": 2
   },
   "file_extension": ".py",
   "mimetype": "text/x-python",
   "name": "python",
   "nbconvert_exporter": "python",
   "pygments_lexer": "ipython2",
   "version": "2.7.11"
  }
 },
 "nbformat": 4,
 "nbformat_minor": 0
}
