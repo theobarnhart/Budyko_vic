{
 "cells": [
  {
   "cell_type": "code",
   "execution_count": 2,
   "metadata": {
    "collapsed": true
   },
   "outputs": [],
   "source": [
    "from osgeo import ogr\n",
    "from osgeo import gdal"
   ]
  },
  {
   "cell_type": "code",
   "execution_count": 4,
   "metadata": {
    "collapsed": false
   },
   "outputs": [],
   "source": [
    "# load the UCRB cells from work w/ Brian Thomas\n",
    "\n",
    "rastpth = '../snowmelt_gw/data/gis/ucrb_cells.tif' # path to the raster\n",
    "ds = gdal.Open(rastpth)\n",
    "rast = np.array(ds.GetRasterBand(1).ReadAsArray())\n",
    "rast[rast==-9999] = np.NaN\n",
    "\n",
    "cells = np.unique(rast[np.isnan(rast)==False])"
   ]
  },
  {
   "cell_type": "code",
   "execution_count": 33,
   "metadata": {
    "collapsed": false
   },
   "outputs": [],
   "source": [
    "# load the buydko data frame\n",
    "data = pd.read_hdf('../budyko_working.hdf','df')"
   ]
  },
  {
   "cell_type": "code",
   "execution_count": 35,
   "metadata": {
    "collapsed": false
   },
   "outputs": [],
   "source": [
    "data2 = pd.DataFrame({'idx':cells})"
   ]
  },
  {
   "cell_type": "code",
   "execution_count": 36,
   "metadata": {
    "collapsed": false
   },
   "outputs": [],
   "source": [
    "data2 = data2.merge(data,on='idx')"
   ]
  },
  {
   "cell_type": "code",
   "execution_count": 41,
   "metadata": {
    "collapsed": false
   },
   "outputs": [
    {
     "data": {
      "text/html": [
       "<div>\n",
       "<table border=\"1\" class=\"dataframe\">\n",
       "  <thead>\n",
       "    <tr style=\"text-align: right;\">\n",
       "      <th></th>\n",
       "      <th>idx</th>\n",
       "      <th>frlon</th>\n",
       "      <th>PETpenmanvic</th>\n",
       "      <th>P</th>\n",
       "      <th>ET</th>\n",
       "      <th>frlat</th>\n",
       "      <th>Sf</th>\n",
       "      <th>meanablseason</th>\n",
       "      <th>meandosnowfree</th>\n",
       "      <th>meanpeakswe</th>\n",
       "      <th>...</th>\n",
       "      <th>bf</th>\n",
       "      <th>sm3</th>\n",
       "      <th>sm2</th>\n",
       "      <th>sm1</th>\n",
       "      <th>prate</th>\n",
       "      <th>rr</th>\n",
       "      <th>spaidx</th>\n",
       "      <th>lat_y</th>\n",
       "      <th>lon_y</th>\n",
       "      <th>DEMelev</th>\n",
       "    </tr>\n",
       "  </thead>\n",
       "  <tbody>\n",
       "    <tr>\n",
       "      <th>0</th>\n",
       "      <td>76923</td>\n",
       "      <td>-107.90625</td>\n",
       "      <td>3.217317</td>\n",
       "      <td>0.816253</td>\n",
       "      <td>0.752405</td>\n",
       "      <td>35.53125</td>\n",
       "      <td>0.168015</td>\n",
       "      <td>13.412698</td>\n",
       "      <td>119.301587</td>\n",
       "      <td>16.913863</td>\n",
       "      <td>...</td>\n",
       "      <td>0.037556</td>\n",
       "      <td>128.583999</td>\n",
       "      <td>70.557069</td>\n",
       "      <td>25.917927</td>\n",
       "      <td>1.873416</td>\n",
       "      <td>1.613467</td>\n",
       "      <td>35.53125-107.90625</td>\n",
       "      <td>35.53125</td>\n",
       "      <td>-107.90625</td>\n",
       "      <td>2296</td>\n",
       "    </tr>\n",
       "  </tbody>\n",
       "</table>\n",
       "<p>1 rows × 98 columns</p>\n",
       "</div>"
      ],
      "text/plain": [
       "     idx      frlon  PETpenmanvic         P        ET     frlat        Sf  \\\n",
       "0  76923 -107.90625      3.217317  0.816253  0.752405  35.53125  0.168015   \n",
       "\n",
       "   meanablseason  meandosnowfree  meanpeakswe   ...           bf         sm3  \\\n",
       "0      13.412698      119.301587    16.913863   ...     0.037556  128.583999   \n",
       "\n",
       "         sm2        sm1     prate        rr              spaidx     lat_y  \\\n",
       "0  70.557069  25.917927  1.873416  1.613467  35.53125-107.90625  35.53125   \n",
       "\n",
       "       lon_y  DEMelev  \n",
       "0 -107.90625     2296  \n",
       "\n",
       "[1 rows x 98 columns]"
      ]
     },
     "execution_count": 41,
     "metadata": {},
     "output_type": "execute_result"
    }
   ],
   "source": [
    "# test a value to be sure its there\n",
    "data2.loc[data2.idx==cells[0]]"
   ]
  },
  {
   "cell_type": "code",
   "execution_count": 42,
   "metadata": {
    "collapsed": false
   },
   "outputs": [
    {
     "data": {
      "text/html": [
       "<div>\n",
       "<table border=\"1\" class=\"dataframe\">\n",
       "  <thead>\n",
       "    <tr style=\"text-align: right;\">\n",
       "      <th></th>\n",
       "      <th>idx</th>\n",
       "      <th>frlon</th>\n",
       "      <th>PETpenmanvic</th>\n",
       "      <th>P</th>\n",
       "      <th>ET</th>\n",
       "      <th>frlat</th>\n",
       "      <th>Sf</th>\n",
       "      <th>meanablseason</th>\n",
       "      <th>meandosnowfree</th>\n",
       "      <th>meanpeakswe</th>\n",
       "      <th>...</th>\n",
       "      <th>bf</th>\n",
       "      <th>sm3</th>\n",
       "      <th>sm2</th>\n",
       "      <th>sm1</th>\n",
       "      <th>prate</th>\n",
       "      <th>rr</th>\n",
       "      <th>spaidx</th>\n",
       "      <th>lat_y</th>\n",
       "      <th>lon_y</th>\n",
       "      <th>DEMelev</th>\n",
       "    </tr>\n",
       "  </thead>\n",
       "  <tbody>\n",
       "    <tr>\n",
       "      <th>8562</th>\n",
       "      <td>176757</td>\n",
       "      <td>-110.09375</td>\n",
       "      <td>2.29333</td>\n",
       "      <td>1.858809</td>\n",
       "      <td>1.366059</td>\n",
       "      <td>43.46875</td>\n",
       "      <td>0.652633</td>\n",
       "      <td>40.873016</td>\n",
       "      <td>245.777778</td>\n",
       "      <td>315.920505</td>\n",
       "      <td>...</td>\n",
       "      <td>0.33994</td>\n",
       "      <td>264.393845</td>\n",
       "      <td>84.524053</td>\n",
       "      <td>21.975734</td>\n",
       "      <td>3.073819</td>\n",
       "      <td>1.74513</td>\n",
       "      <td>43.46875-110.09375</td>\n",
       "      <td>43.46875</td>\n",
       "      <td>-110.09375</td>\n",
       "      <td>2824</td>\n",
       "    </tr>\n",
       "  </tbody>\n",
       "</table>\n",
       "<p>1 rows × 98 columns</p>\n",
       "</div>"
      ],
      "text/plain": [
       "         idx      frlon  PETpenmanvic         P        ET     frlat        Sf  \\\n",
       "8562  176757 -110.09375       2.29333  1.858809  1.366059  43.46875  0.652633   \n",
       "\n",
       "      meanablseason  meandosnowfree  meanpeakswe   ...          bf  \\\n",
       "8562      40.873016      245.777778   315.920505   ...     0.33994   \n",
       "\n",
       "             sm3        sm2        sm1     prate       rr              spaidx  \\\n",
       "8562  264.393845  84.524053  21.975734  3.073819  1.74513  43.46875-110.09375   \n",
       "\n",
       "         lat_y      lon_y  DEMelev  \n",
       "8562  43.46875 -110.09375     2824  \n",
       "\n",
       "[1 rows x 98 columns]"
      ]
     },
     "execution_count": 42,
     "metadata": {},
     "output_type": "execute_result"
    }
   ],
   "source": [
    "data2.loc[data2.idx==cells[-1]]"
   ]
  },
  {
   "cell_type": "code",
   "execution_count": 40,
   "metadata": {
    "collapsed": false
   },
   "outputs": [
    {
     "name": "stdout",
     "output_type": "stream",
     "text": [
      "0\n"
     ]
    }
   ],
   "source": [
    "# check lengths to be sure everything is there\n",
    "print len(cells) - len(data2)"
   ]
  },
  {
   "cell_type": "code",
   "execution_count": 43,
   "metadata": {
    "collapsed": true
   },
   "outputs": [],
   "source": [
    "# looks good, export the data and the elevation data to make a map.\n",
    "data2.to_hdf('./barnhart_comps_data.hdf','df',format='fixed',complevel=5,complib='bzip2',fletcher32=True)"
   ]
  },
  {
   "cell_type": "code",
   "execution_count": null,
   "metadata": {
    "collapsed": true
   },
   "outputs": [],
   "source": []
  },
  {
   "cell_type": "code",
   "execution_count": 44,
   "metadata": {
    "collapsed": false
   },
   "outputs": [
    {
     "data": {
      "text/plain": [
       "Index([u'idx', u'frlon', u'PETpenmanvic', u'P', u'ET', u'frlat', u'Sf',\n",
       "       u'meanablseason', u'meandosnowfree', u'meanpeakswe', u'meanpeaket',\n",
       "       u'meandopeaket', u'lon_x', u'meanablslope', u'lat_x', u'meandopeakswe',\n",
       "       u'infilt', u'fs_active', u'l1_quartz', u'l3_Wpwp_FRACT', u'l3_bulkD',\n",
       "       u'l3_init_moist', u'annual_prec', u'l2_soil_density', u'l2_Ksat',\n",
       "       u'rough', u'l2_Wcr_FRACT', u'l2_depth', u'l2_quartz', u'l1_phi_s',\n",
       "       u'l3_bubble', u'l1_expt', u'Ws', u'l1_Ksat', u'l1_soil_density',\n",
       "       u'l1_resid_moisture', u'l2_phi_s', u'l2_init_moist', u'l2_expt',\n",
       "       u'l1_init_moist', u'l1_depth', u'off_gmt', u'l3_expt', u'l3_depth',\n",
       "       u'Dsmax', u'l1_Wpwp_FRACT', u'l3_resid_moisture', u'avg_T',\n",
       "       u'l3_soil_density', u'l3_phi_s', u'dp', u'c', u'l2_bulkD', u'l2_bubble',\n",
       "       u'l2_Wpwp_FRACT', u'l3_Ksat', u'l3_quartz', u'Ds', u'l1_bulkD',\n",
       "       u'l1_bubble', u'l2_resid_moisture', u'elev', u'snow_rough',\n",
       "       u'l1_Wcr_FRACT', u'l3_Wcr_FRACT', u'slope', u'rsquared_adj',\n",
       "       u'intercept', u'rsquared', u'pvalue', u'w_flux', u'w_flux2', u'w_flux3',\n",
       "       u'snowmelt', u'Sf2', u'Sf1', u'Sf_2', u'Sf_1', u'wflux4', u'wflux5',\n",
       "       u'rain', u'netSM', u'seas', u'MAT', u'RR_pval', u'RR_intercept',\n",
       "       u'RR_slope', u'RR_rsqrd', u'bf', u'sm3', u'sm2', u'sm1', u'prate',\n",
       "       u'rr', u'spaidx', u'lat_y', u'lon_y', u'DEMelev'],\n",
       "      dtype='object')"
      ]
     },
     "execution_count": 44,
     "metadata": {},
     "output_type": "execute_result"
    }
   ],
   "source": [
    "data2.columns"
   ]
  },
  {
   "cell_type": "code",
   "execution_count": 52,
   "metadata": {
    "collapsed": false
   },
   "outputs": [],
   "source": [
    "lat = data2['frlat']\n",
    "lon = data2['frlon']\n",
    "idx = data2['idx']\n",
    "meanpeakSWE = data2['meanpeakswe']\n",
    "elev = data2['DEMelev']"
   ]
  },
  {
   "cell_type": "code",
   "execution_count": 55,
   "metadata": {
    "collapsed": true
   },
   "outputs": [],
   "source": [
    "out = pd.DataFrame({'idx':idx,'lat':lat,'lon':lon,'elev':elev,'meanpeakSWE':meanpeakSWE})"
   ]
  },
  {
   "cell_type": "code",
   "execution_count": 57,
   "metadata": {
    "collapsed": false
   },
   "outputs": [],
   "source": [
    "out.to_csv('./barnhart_comps.csv', index=False)"
   ]
  }
 ],
 "metadata": {
  "kernelspec": {
   "display_name": "Python 2",
   "language": "python",
   "name": "python2"
  },
  "language_info": {
   "codemirror_mode": {
    "name": "ipython",
    "version": 2
   },
   "file_extension": ".py",
   "mimetype": "text/x-python",
   "name": "python",
   "nbconvert_exporter": "python",
   "pygments_lexer": "ipython2",
   "version": "2.7.10"
  }
 },
 "nbformat": 4,
 "nbformat_minor": 0
}
