{
 "cells": [
  {
   "cell_type": "code",
   "execution_count": 4,
   "metadata": {
    "collapsed": true
   },
   "outputs": [],
   "source": [
    "# load the data extracted earlier\n",
    "data = pd.read_csv('./barnhart_comps.csv')"
   ]
  },
  {
   "cell_type": "code",
   "execution_count": 5,
   "metadata": {
    "collapsed": false
   },
   "outputs": [
    {
     "data": {
      "text/html": [
       "<div>\n",
       "<table border=\"1\" class=\"dataframe\">\n",
       "  <thead>\n",
       "    <tr style=\"text-align: right;\">\n",
       "      <th></th>\n",
       "      <th>elev</th>\n",
       "      <th>idx</th>\n",
       "      <th>lat</th>\n",
       "      <th>lon</th>\n",
       "      <th>meanpeakSWE</th>\n",
       "    </tr>\n",
       "  </thead>\n",
       "  <tbody>\n",
       "    <tr>\n",
       "      <th>0</th>\n",
       "      <td>2296</td>\n",
       "      <td>76923</td>\n",
       "      <td>35.53125</td>\n",
       "      <td>-107.90625</td>\n",
       "      <td>16.913863</td>\n",
       "    </tr>\n",
       "    <tr>\n",
       "      <th>1</th>\n",
       "      <td>2312</td>\n",
       "      <td>76924</td>\n",
       "      <td>35.53125</td>\n",
       "      <td>-107.96875</td>\n",
       "      <td>17.873181</td>\n",
       "    </tr>\n",
       "    <tr>\n",
       "      <th>2</th>\n",
       "      <td>2174</td>\n",
       "      <td>77647</td>\n",
       "      <td>35.59375</td>\n",
       "      <td>-107.84375</td>\n",
       "      <td>10.739371</td>\n",
       "    </tr>\n",
       "    <tr>\n",
       "      <th>3</th>\n",
       "      <td>2208</td>\n",
       "      <td>77648</td>\n",
       "      <td>35.59375</td>\n",
       "      <td>-107.90625</td>\n",
       "      <td>11.838238</td>\n",
       "    </tr>\n",
       "    <tr>\n",
       "      <th>4</th>\n",
       "      <td>2211</td>\n",
       "      <td>77649</td>\n",
       "      <td>35.59375</td>\n",
       "      <td>-107.96875</td>\n",
       "      <td>12.396494</td>\n",
       "    </tr>\n",
       "  </tbody>\n",
       "</table>\n",
       "</div>"
      ],
      "text/plain": [
       "   elev    idx       lat        lon  meanpeakSWE\n",
       "0  2296  76923  35.53125 -107.90625    16.913863\n",
       "1  2312  76924  35.53125 -107.96875    17.873181\n",
       "2  2174  77647  35.59375 -107.84375    10.739371\n",
       "3  2208  77648  35.59375 -107.90625    11.838238\n",
       "4  2211  77649  35.59375 -107.96875    12.396494"
      ]
     },
     "execution_count": 5,
     "metadata": {},
     "output_type": "execute_result"
    }
   ],
   "source": [
    "data.head()"
   ]
  },
  {
   "cell_type": "code",
   "execution_count": 6,
   "metadata": {
    "collapsed": true
   },
   "outputs": [],
   "source": [
    "minelev = data.elev.min()\n",
    "maxelev = data.elev.max()"
   ]
  },
  {
   "cell_type": "code",
   "execution_count": 7,
   "metadata": {
    "collapsed": false
   },
   "outputs": [
    {
     "data": {
      "text/plain": [
       "1140.0"
      ]
     },
     "execution_count": 7,
     "metadata": {},
     "output_type": "execute_result"
    }
   ],
   "source": [
    "minelev"
   ]
  },
  {
   "cell_type": "code",
   "execution_count": 8,
   "metadata": {
    "collapsed": false
   },
   "outputs": [
    {
     "data": {
      "text/plain": [
       "3821.0"
      ]
     },
     "execution_count": 8,
     "metadata": {},
     "output_type": "execute_result"
    }
   ],
   "source": [
    "maxelev"
   ]
  },
  {
   "cell_type": "code",
   "execution_count": 9,
   "metadata": {
    "collapsed": true
   },
   "outputs": [],
   "source": [
    "# reset these values to generate the bins\n",
    "minelev = 1150\n",
    "maxelev = 3850 # use 50 m on either side of these values"
   ]
  },
  {
   "cell_type": "code",
   "execution_count": 10,
   "metadata": {
    "collapsed": true
   },
   "outputs": [],
   "source": [
    "bins = np.arange(minelev,maxelev,100) #generate bins"
   ]
  },
  {
   "cell_type": "code",
   "execution_count": 11,
   "metadata": {
    "collapsed": false
   },
   "outputs": [
    {
     "data": {
      "text/plain": [
       "array([1150, 1250, 1350, 1450, 1550, 1650, 1750, 1850, 1950, 2050, 2150,\n",
       "       2250, 2350, 2450, 2550, 2650, 2750, 2850, 2950, 3050, 3150, 3250,\n",
       "       3350, 3450, 3550, 3650, 3750])"
      ]
     },
     "execution_count": 11,
     "metadata": {},
     "output_type": "execute_result"
    }
   ],
   "source": [
    "bins"
   ]
  },
  {
   "cell_type": "code",
   "execution_count": 15,
   "metadata": {
    "collapsed": false
   },
   "outputs": [],
   "source": [
    "delev = 50\n",
    "area = []\n",
    "swe = []\n",
    "for bin in bins:\n",
    "    # compute bin edges\n",
    "    mielev = bin-delev\n",
    "    maelev = bin+delev\n",
    "    \n",
    "    #subset data\n",
    "    data2 = data.loc[(data.elev>mielev)&(data.elev<=maelev)]\n",
    "    \n",
    "    area2 = float(len(data2)) # get number of cells\n",
    "    tot_swe = data2.meanpeakSWE.sum() #sum SWE in elevation band\n",
    "    \n",
    "    #save data\n",
    "    area.append(area2)\n",
    "    swe.append(tot_swe)"
   ]
  },
  {
   "cell_type": "code",
   "execution_count": 18,
   "metadata": {
    "collapsed": true
   },
   "outputs": [],
   "source": [
    "out = pd.DataFrame({'bin':bins,'area':area,'swe':swe})"
   ]
  },
  {
   "cell_type": "code",
   "execution_count": 22,
   "metadata": {
    "collapsed": false
   },
   "outputs": [],
   "source": [
    "out['cum_area'] = out.area.cumsum()*(6.*6.) # convert cells to area and take the cumulative sum"
   ]
  },
  {
   "cell_type": "code",
   "execution_count": 24,
   "metadata": {
    "collapsed": true
   },
   "outputs": [],
   "source": [
    "out['cum_swe'] = out.swe.cumsum() # cumulative sum of SWE"
   ]
  },
  {
   "cell_type": "code",
   "execution_count": 55,
   "metadata": {
    "collapsed": false
   },
   "outputs": [],
   "source": [
    "maxSWE = out.cum_swe.max()"
   ]
  },
  {
   "cell_type": "code",
   "execution_count": 61,
   "metadata": {
    "collapsed": false
   },
   "outputs": [],
   "source": [
    "out['percent_swe'] = out['swe']/maxSWE*100\n",
    "out['cum_perc_swe'] = out.percent_swe.cumsum() # generate percents and cumulative percents of SWE"
   ]
  },
  {
   "cell_type": "code",
   "execution_count": 64,
   "metadata": {
    "collapsed": false
   },
   "outputs": [
    {
     "data": {
      "text/html": [
       "<div>\n",
       "<table border=\"1\" class=\"dataframe\">\n",
       "  <thead>\n",
       "    <tr style=\"text-align: right;\">\n",
       "      <th></th>\n",
       "      <th>area</th>\n",
       "      <th>bin</th>\n",
       "      <th>swe</th>\n",
       "      <th>cum_area</th>\n",
       "      <th>cum_swe</th>\n",
       "      <th>percent_swe</th>\n",
       "      <th>cum_perc_swe</th>\n",
       "    </tr>\n",
       "  </thead>\n",
       "  <tbody>\n",
       "    <tr>\n",
       "      <th>19</th>\n",
       "      <td>193</td>\n",
       "      <td>3050</td>\n",
       "      <td>70286.699278</td>\n",
       "      <td>284040</td>\n",
       "      <td>579094.206908</td>\n",
       "      <td>7.927505</td>\n",
       "      <td>65.314949</td>\n",
       "    </tr>\n",
       "  </tbody>\n",
       "</table>\n",
       "</div>"
      ],
      "text/plain": [
       "    area   bin           swe  cum_area        cum_swe  percent_swe  \\\n",
       "19   193  3050  70286.699278    284040  579094.206908     7.927505   \n",
       "\n",
       "    cum_perc_swe  \n",
       "19     65.314949  "
      ]
     },
     "execution_count": 64,
     "metadata": {},
     "output_type": "execute_result"
    }
   ],
   "source": [
    "out.loc[out.swe == 70286.699277774009] # Q1.1.3"
   ]
  },
  {
   "cell_type": "code",
   "execution_count": 65,
   "metadata": {
    "collapsed": false
   },
   "outputs": [
    {
     "data": {
      "image/png": "[encoded data removed]",
      "text/plain": [
       "<matplotlib.figure.Figure at 0x10e80ef50>"
      ]
     },
     "metadata": {},
     "output_type": "display_data"
    }
   ],
   "source": [
    "fz = 16\n",
    "plt.figure(figsize=(8,4))\n",
    "plt.plot(out.cum_area,out.bin, lw=4)\n",
    "plt.barh(out.bin-50, out.area*36., height=100,facecolor='0.5')\n",
    "plt.xlabel('Cumulative Land Area [km$^2$] \\n Land Area [km$^2$]', fontsize = fz)\n",
    "plt.ylabel('Elevation [m]', fontsize = fz)\n",
    "plt.title('Upper Colorado River Basin Hypsometric Curve', fontsize = fz-4, fontweight = 'bold')\n",
    "plt.savefig('./ucr_hypso.png', dpi = 300, bbox_inches = 'tight')"
   ]
  },
  {
   "cell_type": "code",
   "execution_count": 66,
   "metadata": {
    "collapsed": false
   },
   "outputs": [
    {
     "data": {
      "image/png": "[encoded data removed]",
      "text/plain": [
       "<matplotlib.figure.Figure at 0x10e91b950>"
      ]
     },
     "metadata": {},
     "output_type": "display_data"
    }
   ],
   "source": [
    "fz = 16\n",
    "plt.figure(figsize=(8,4))\n",
    "plt.plot(out.cum_swe,out.bin, lw=4)\n",
    "plt.barh(out.bin-50, out.swe, height=100,facecolor='0.5')\n",
    "plt.xlabel('Cumulative SWE [m] \\n SWE [m]', fontsize = fz)\n",
    "plt.ylabel('Elevation [m]', fontsize = fz)\n",
    "plt.title('Upper Colorado River Basin SWE', fontsize = fz-4, fontweight = 'bold')\n",
    "plt.savefig('./ucr_swe.png', dpi = 300, bbox_inches = 'tight')"
   ]
  },
  {
   "cell_type": "code",
   "execution_count": 67,
   "metadata": {
    "collapsed": false
   },
   "outputs": [
    {
     "data": {
      "text/html": [
       "<div>\n",
       "<table border=\"1\" class=\"dataframe\">\n",
       "  <thead>\n",
       "    <tr style=\"text-align: right;\">\n",
       "      <th></th>\n",
       "      <th>area</th>\n",
       "      <th>bin</th>\n",
       "      <th>swe</th>\n",
       "      <th>cum_area</th>\n",
       "      <th>cum_swe</th>\n",
       "      <th>percent_swe</th>\n",
       "      <th>cum_perc_swe</th>\n",
       "    </tr>\n",
       "  </thead>\n",
       "  <tbody>\n",
       "    <tr>\n",
       "      <th>0</th>\n",
       "      <td>21</td>\n",
       "      <td>1150</td>\n",
       "      <td>58.600779</td>\n",
       "      <td>756</td>\n",
       "      <td>58.600779</td>\n",
       "      <td>0.006609</td>\n",
       "      <td>0.006609</td>\n",
       "    </tr>\n",
       "    <tr>\n",
       "      <th>1</th>\n",
       "      <td>63</td>\n",
       "      <td>1250</td>\n",
       "      <td>259.710246</td>\n",
       "      <td>3024</td>\n",
       "      <td>318.311025</td>\n",
       "      <td>0.029292</td>\n",
       "      <td>0.035902</td>\n",
       "    </tr>\n",
       "    <tr>\n",
       "      <th>2</th>\n",
       "      <td>162</td>\n",
       "      <td>1350</td>\n",
       "      <td>1024.901022</td>\n",
       "      <td>8856</td>\n",
       "      <td>1343.212048</td>\n",
       "      <td>0.115597</td>\n",
       "      <td>0.151498</td>\n",
       "    </tr>\n",
       "    <tr>\n",
       "      <th>3</th>\n",
       "      <td>299</td>\n",
       "      <td>1450</td>\n",
       "      <td>2415.575149</td>\n",
       "      <td>19620</td>\n",
       "      <td>3758.787197</td>\n",
       "      <td>0.272448</td>\n",
       "      <td>0.423947</td>\n",
       "    </tr>\n",
       "    <tr>\n",
       "      <th>4</th>\n",
       "      <td>380</td>\n",
       "      <td>1550</td>\n",
       "      <td>3482.620011</td>\n",
       "      <td>33300</td>\n",
       "      <td>7241.407208</td>\n",
       "      <td>0.392798</td>\n",
       "      <td>0.816745</td>\n",
       "    </tr>\n",
       "    <tr>\n",
       "      <th>5</th>\n",
       "      <td>453</td>\n",
       "      <td>1650</td>\n",
       "      <td>4771.008438</td>\n",
       "      <td>49608</td>\n",
       "      <td>12012.415646</td>\n",
       "      <td>0.538113</td>\n",
       "      <td>1.354858</td>\n",
       "    </tr>\n",
       "    <tr>\n",
       "      <th>6</th>\n",
       "      <td>496</td>\n",
       "      <td>1750</td>\n",
       "      <td>6730.486044</td>\n",
       "      <td>67464</td>\n",
       "      <td>18742.901690</td>\n",
       "      <td>0.759119</td>\n",
       "      <td>2.113977</td>\n",
       "    </tr>\n",
       "    <tr>\n",
       "      <th>7</th>\n",
       "      <td>522</td>\n",
       "      <td>1850</td>\n",
       "      <td>9110.292617</td>\n",
       "      <td>86256</td>\n",
       "      <td>27853.194308</td>\n",
       "      <td>1.027533</td>\n",
       "      <td>3.141510</td>\n",
       "    </tr>\n",
       "    <tr>\n",
       "      <th>8</th>\n",
       "      <td>753</td>\n",
       "      <td>1950</td>\n",
       "      <td>15358.186843</td>\n",
       "      <td>113364</td>\n",
       "      <td>43211.381151</td>\n",
       "      <td>1.732221</td>\n",
       "      <td>4.873731</td>\n",
       "    </tr>\n",
       "    <tr>\n",
       "      <th>9</th>\n",
       "      <td>961</td>\n",
       "      <td>2050</td>\n",
       "      <td>21533.706805</td>\n",
       "      <td>147960</td>\n",
       "      <td>64745.087956</td>\n",
       "      <td>2.428746</td>\n",
       "      <td>7.302477</td>\n",
       "    </tr>\n",
       "    <tr>\n",
       "      <th>10</th>\n",
       "      <td>821</td>\n",
       "      <td>2150</td>\n",
       "      <td>27188.770497</td>\n",
       "      <td>177516</td>\n",
       "      <td>91933.858452</td>\n",
       "      <td>3.066570</td>\n",
       "      <td>10.369047</td>\n",
       "    </tr>\n",
       "    <tr>\n",
       "      <th>11</th>\n",
       "      <td>586</td>\n",
       "      <td>2250</td>\n",
       "      <td>32000.121090</td>\n",
       "      <td>198612</td>\n",
       "      <td>123933.979543</td>\n",
       "      <td>3.609234</td>\n",
       "      <td>13.978281</td>\n",
       "    </tr>\n",
       "    <tr>\n",
       "      <th>12</th>\n",
       "      <td>559</td>\n",
       "      <td>2350</td>\n",
       "      <td>40757.634287</td>\n",
       "      <td>218736</td>\n",
       "      <td>164691.613830</td>\n",
       "      <td>4.596977</td>\n",
       "      <td>18.575258</td>\n",
       "    </tr>\n",
       "    <tr>\n",
       "      <th>13</th>\n",
       "      <td>371</td>\n",
       "      <td>2450</td>\n",
       "      <td>47425.580213</td>\n",
       "      <td>232092</td>\n",
       "      <td>212117.194043</td>\n",
       "      <td>5.349042</td>\n",
       "      <td>23.924300</td>\n",
       "    </tr>\n",
       "    <tr>\n",
       "      <th>14</th>\n",
       "      <td>311</td>\n",
       "      <td>2550</td>\n",
       "      <td>49062.946502</td>\n",
       "      <td>243288</td>\n",
       "      <td>261180.140544</td>\n",
       "      <td>5.533718</td>\n",
       "      <td>29.458018</td>\n",
       "    </tr>\n",
       "    <tr>\n",
       "      <th>15</th>\n",
       "      <td>268</td>\n",
       "      <td>2650</td>\n",
       "      <td>58619.190717</td>\n",
       "      <td>252936</td>\n",
       "      <td>319799.331262</td>\n",
       "      <td>6.611549</td>\n",
       "      <td>36.069567</td>\n",
       "    </tr>\n",
       "    <tr>\n",
       "      <th>16</th>\n",
       "      <td>244</td>\n",
       "      <td>2750</td>\n",
       "      <td>59601.034746</td>\n",
       "      <td>261720</td>\n",
       "      <td>379400.366008</td>\n",
       "      <td>6.722289</td>\n",
       "      <td>42.791856</td>\n",
       "    </tr>\n",
       "    <tr>\n",
       "      <th>17</th>\n",
       "      <td>222</td>\n",
       "      <td>2850</td>\n",
       "      <td>60368.134032</td>\n",
       "      <td>269712</td>\n",
       "      <td>439768.500040</td>\n",
       "      <td>6.808809</td>\n",
       "      <td>49.600664</td>\n",
       "    </tr>\n",
       "    <tr>\n",
       "      <th>18</th>\n",
       "      <td>205</td>\n",
       "      <td>2950</td>\n",
       "      <td>69039.007590</td>\n",
       "      <td>277092</td>\n",
       "      <td>508807.507630</td>\n",
       "      <td>7.786780</td>\n",
       "      <td>57.387444</td>\n",
       "    </tr>\n",
       "    <tr>\n",
       "      <th>19</th>\n",
       "      <td>193</td>\n",
       "      <td>3050</td>\n",
       "      <td>70286.699278</td>\n",
       "      <td>284040</td>\n",
       "      <td>579094.206908</td>\n",
       "      <td>7.927505</td>\n",
       "      <td>65.314949</td>\n",
       "    </tr>\n",
       "    <tr>\n",
       "      <th>20</th>\n",
       "      <td>154</td>\n",
       "      <td>3150</td>\n",
       "      <td>59116.736243</td>\n",
       "      <td>289584</td>\n",
       "      <td>638210.943151</td>\n",
       "      <td>6.667666</td>\n",
       "      <td>71.982615</td>\n",
       "    </tr>\n",
       "    <tr>\n",
       "      <th>21</th>\n",
       "      <td>136</td>\n",
       "      <td>3250</td>\n",
       "      <td>64391.729600</td>\n",
       "      <td>294480</td>\n",
       "      <td>702602.672751</td>\n",
       "      <td>7.262622</td>\n",
       "      <td>79.245237</td>\n",
       "    </tr>\n",
       "    <tr>\n",
       "      <th>22</th>\n",
       "      <td>132</td>\n",
       "      <td>3350</td>\n",
       "      <td>57903.295944</td>\n",
       "      <td>299232</td>\n",
       "      <td>760505.968695</td>\n",
       "      <td>6.530804</td>\n",
       "      <td>85.776042</td>\n",
       "    </tr>\n",
       "    <tr>\n",
       "      <th>23</th>\n",
       "      <td>101</td>\n",
       "      <td>3450</td>\n",
       "      <td>47786.686025</td>\n",
       "      <td>302868</td>\n",
       "      <td>808292.654721</td>\n",
       "      <td>5.389771</td>\n",
       "      <td>91.165812</td>\n",
       "    </tr>\n",
       "    <tr>\n",
       "      <th>24</th>\n",
       "      <td>79</td>\n",
       "      <td>3550</td>\n",
       "      <td>42131.097340</td>\n",
       "      <td>305712</td>\n",
       "      <td>850423.752060</td>\n",
       "      <td>4.751887</td>\n",
       "      <td>95.917700</td>\n",
       "    </tr>\n",
       "    <tr>\n",
       "      <th>25</th>\n",
       "      <td>49</td>\n",
       "      <td>3650</td>\n",
       "      <td>25404.760551</td>\n",
       "      <td>307476</td>\n",
       "      <td>875828.512611</td>\n",
       "      <td>2.865355</td>\n",
       "      <td>98.783055</td>\n",
       "    </tr>\n",
       "    <tr>\n",
       "      <th>26</th>\n",
       "      <td>20</td>\n",
       "      <td>3750</td>\n",
       "      <td>10789.655625</td>\n",
       "      <td>308196</td>\n",
       "      <td>886618.168237</td>\n",
       "      <td>1.216945</td>\n",
       "      <td>100.000000</td>\n",
       "    </tr>\n",
       "  </tbody>\n",
       "</table>\n",
       "</div>"
      ],
      "text/plain": [
       "    area   bin           swe  cum_area        cum_swe  percent_swe  \\\n",
       "0     21  1150     58.600779       756      58.600779     0.006609   \n",
       "1     63  1250    259.710246      3024     318.311025     0.029292   \n",
       "2    162  1350   1024.901022      8856    1343.212048     0.115597   \n",
       "3    299  1450   2415.575149     19620    3758.787197     0.272448   \n",
       "4    380  1550   3482.620011     33300    7241.407208     0.392798   \n",
       "5    453  1650   4771.008438     49608   12012.415646     0.538113   \n",
       "6    496  1750   6730.486044     67464   18742.901690     0.759119   \n",
       "7    522  1850   9110.292617     86256   27853.194308     1.027533   \n",
       "8    753  1950  15358.186843    113364   43211.381151     1.732221   \n",
       "9    961  2050  21533.706805    147960   64745.087956     2.428746   \n",
       "10   821  2150  27188.770497    177516   91933.858452     3.066570   \n",
       "11   586  2250  32000.121090    198612  123933.979543     3.609234   \n",
       "12   559  2350  40757.634287    218736  164691.613830     4.596977   \n",
       "13   371  2450  47425.580213    232092  212117.194043     5.349042   \n",
       "14   311  2550  49062.946502    243288  261180.140544     5.533718   \n",
       "15   268  2650  58619.190717    252936  319799.331262     6.611549   \n",
       "16   244  2750  59601.034746    261720  379400.366008     6.722289   \n",
       "17   222  2850  60368.134032    269712  439768.500040     6.808809   \n",
       "18   205  2950  69039.007590    277092  508807.507630     7.786780   \n",
       "19   193  3050  70286.699278    284040  579094.206908     7.927505   \n",
       "20   154  3150  59116.736243    289584  638210.943151     6.667666   \n",
       "21   136  3250  64391.729600    294480  702602.672751     7.262622   \n",
       "22   132  3350  57903.295944    299232  760505.968695     6.530804   \n",
       "23   101  3450  47786.686025    302868  808292.654721     5.389771   \n",
       "24    79  3550  42131.097340    305712  850423.752060     4.751887   \n",
       "25    49  3650  25404.760551    307476  875828.512611     2.865355   \n",
       "26    20  3750  10789.655625    308196  886618.168237     1.216945   \n",
       "\n",
       "    cum_perc_swe  \n",
       "0       0.006609  \n",
       "1       0.035902  \n",
       "2       0.151498  \n",
       "3       0.423947  \n",
       "4       0.816745  \n",
       "5       1.354858  \n",
       "6       2.113977  \n",
       "7       3.141510  \n",
       "8       4.873731  \n",
       "9       7.302477  \n",
       "10     10.369047  \n",
       "11     13.978281  \n",
       "12     18.575258  \n",
       "13     23.924300  \n",
       "14     29.458018  \n",
       "15     36.069567  \n",
       "16     42.791856  \n",
       "17     49.600664  \n",
       "18     57.387444  \n",
       "19     65.314949  \n",
       "20     71.982615  \n",
       "21     79.245237  \n",
       "22     85.776042  \n",
       "23     91.165812  \n",
       "24     95.917700  \n",
       "25     98.783055  \n",
       "26    100.000000  "
      ]
     },
     "execution_count": 67,
     "metadata": {},
     "output_type": "execute_result"
    }
   ],
   "source": [
    "out"
   ]
  },
  {
   "cell_type": "code",
   "execution_count": null,
   "metadata": {
    "collapsed": true
   },
   "outputs": [],
   "source": []
  }
 ],
 "metadata": {
  "kernelspec": {
   "display_name": "Python 2",
   "language": "python",
   "name": "python2"
  },
  "language_info": {
   "codemirror_mode": {
    "name": "ipython",
    "version": 2
   },
   "file_extension": ".py",
   "mimetype": "text/x-python",
   "name": "python",
   "nbconvert_exporter": "python",
   "pygments_lexer": "ipython2",
   "version": "2.7.10"
  }
 },
 "nbformat": 4,
 "nbformat_minor": 0
}
