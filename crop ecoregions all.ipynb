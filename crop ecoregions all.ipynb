{
 "cells": [
  {
   "cell_type": "code",
   "execution_count": 1,
   "metadata": {
    "collapsed": false
   },
   "outputs": [],
   "source": [
    "import pandas as pd\n",
    "import numpy as np"
   ]
  },
  {
   "cell_type": "code",
   "execution_count": 2,
   "metadata": {
    "collapsed": false
   },
   "outputs": [],
   "source": [
    "df = pd.read_hdf('./budyko_working.hdf','df')\n",
    "df['idx2'] = df.idx.copy()"
   ]
  },
  {
   "cell_type": "code",
   "execution_count": 3,
   "metadata": {
    "collapsed": false
   },
   "outputs": [],
   "source": [
    "cells = pd.read_pickle('./ecoregion_cells_all.df')"
   ]
  },
  {
   "cell_type": "code",
   "execution_count": 4,
   "metadata": {
    "collapsed": false
   },
   "outputs": [],
   "source": [
    "idx = np.zeros([len(df)-len(cells)])\n",
    "idx[:] = np.NaN\n",
    "rc = idx.copy()"
   ]
  },
  {
   "cell_type": "code",
   "execution_count": 5,
   "metadata": {
    "collapsed": false
   },
   "outputs": [],
   "source": [
    "tmp = pd.DataFrame({'idx':idx,'rc':rc})"
   ]
  },
  {
   "cell_type": "code",
   "execution_count": 6,
   "metadata": {
    "collapsed": false
   },
   "outputs": [],
   "source": [
    "cells = pd.concat([cells,tmp])"
   ]
  },
  {
   "cell_type": "code",
   "execution_count": 7,
   "metadata": {
    "collapsed": false
   },
   "outputs": [],
   "source": [
    "df = pd.merge(df,cells, on='idx', left_index=True)"
   ]
  },
  {
   "cell_type": "code",
   "execution_count": 8,
   "metadata": {
    "collapsed": false
   },
   "outputs": [],
   "source": [
    "df.dropna(subset=['idx'],inplace=True)"
   ]
  },
  {
   "cell_type": "code",
   "execution_count": 9,
   "metadata": {
    "collapsed": false
   },
   "outputs": [
    {
     "data": {
      "text/plain": [
       "37192"
      ]
     },
     "execution_count": 9,
     "metadata": {},
     "output_type": "execute_result"
    }
   ],
   "source": [
    "len(df)"
   ]
  },
  {
   "cell_type": "code",
   "execution_count": 10,
   "metadata": {
    "collapsed": false
   },
   "outputs": [],
   "source": [
    "import matplotlib.pyplot as plt\n",
    "%matplotlib inline"
   ]
  },
  {
   "cell_type": "code",
   "execution_count": 11,
   "metadata": {
    "collapsed": false
   },
   "outputs": [
    {
     "data": {
      "text/plain": [
       "37192"
      ]
     },
     "execution_count": 11,
     "metadata": {},
     "output_type": "execute_result"
    }
   ],
   "source": [
    "len(np.unique(df.idx))"
   ]
  },
  {
   "cell_type": "code",
   "execution_count": 12,
   "metadata": {
    "collapsed": false
   },
   "outputs": [],
   "source": [
    "from palettable.colorbrewer.qualitative import Set3_12 as cbcust"
   ]
  },
  {
   "cell_type": "code",
   "execution_count": 13,
   "metadata": {
    "collapsed": false
   },
   "outputs": [
    {
     "name": "stdout",
     "output_type": "stream",
     "text": [
      "15\n"
     ]
    }
   ],
   "source": [
    "regions = ['Cascades','East Cascades','North Cascades','Sierra','Klamath','Northern Rockies','Middle Rockies',\n",
    "           'Canadian Rockies','Idaho Batholith','Blue Mountains','North Basin and Range','Wasatch',\n",
    "           'Southern Rockies','Central Basin and Range','Coast Range']\n",
    "\n",
    "print len(regions)"
   ]
  },
  {
   "cell_type": "raw",
   "metadata": {
    "collapsed": false
   },
   "source": [
    "plt.figure(figsize=[12,10])\n",
    "plt.scatter(df.frlon,df.frlat,s=20,c=df.rc, edgecolor = 'none', cmap=mpl.colors.ListedColormap(cbcust.mpl_colors))\n",
    "cb = plt.colorbar()\n",
    "cb.set_ticks(np.arange(1,16))\n",
    "cb.set_ticklabels(regions)\n",
    "plt.xlabel('Longitude', fontsize = 16)\n",
    "plt.ylabel('Latitude', fontsize = 16)\n",
    "plt.title('Ecoregion Groups', fontsize = 20)\n",
    "\n",
    "#plt.savefig('./figures/ecoregions.png', dpi=300)"
   ]
  },
  {
   "cell_type": "code",
   "execution_count": 14,
   "metadata": {
    "collapsed": false
   },
   "outputs": [
    {
     "data": {
      "text/html": [
       "<div>\n",
       "<table border=\"1\" class=\"dataframe\">\n",
       "  <thead>\n",
       "    <tr style=\"text-align: right;\">\n",
       "      <th></th>\n",
       "      <th>frlon</th>\n",
       "      <th>PETpenmanvic</th>\n",
       "      <th>P</th>\n",
       "      <th>ET</th>\n",
       "      <th>frlat</th>\n",
       "      <th>Sf</th>\n",
       "      <th>meanablseason</th>\n",
       "      <th>meandosnowfree</th>\n",
       "      <th>meanpeakswe</th>\n",
       "      <th>meanpeaket</th>\n",
       "      <th>...</th>\n",
       "      <th>rr</th>\n",
       "      <th>Tmean</th>\n",
       "      <th>idx</th>\n",
       "      <th>meanrunoff</th>\n",
       "      <th>spaidx</th>\n",
       "      <th>lat_y</th>\n",
       "      <th>lon_y</th>\n",
       "      <th>DEMelev</th>\n",
       "      <th>idx2</th>\n",
       "      <th>rc</th>\n",
       "    </tr>\n",
       "  </thead>\n",
       "  <tbody>\n",
       "    <tr>\n",
       "      <th>0</th>\n",
       "      <td>-105.53125</td>\n",
       "      <td>3.322108</td>\n",
       "      <td>1.145967</td>\n",
       "      <td>1.086948</td>\n",
       "      <td>35.34375</td>\n",
       "      <td>0.122730</td>\n",
       "      <td>9.269841</td>\n",
       "      <td>118.920635</td>\n",
       "      <td>15.495460</td>\n",
       "      <td>5.771660</td>\n",
       "      <td>...</td>\n",
       "      <td>2.317366</td>\n",
       "      <td>9.266</td>\n",
       "      <td>74722</td>\n",
       "      <td>0.025480</td>\n",
       "      <td>35.34375-105.53125</td>\n",
       "      <td>35.34375</td>\n",
       "      <td>-105.53125</td>\n",
       "      <td>2108</td>\n",
       "      <td>74722</td>\n",
       "      <td>13</td>\n",
       "    </tr>\n",
       "    <tr>\n",
       "      <th>1</th>\n",
       "      <td>-105.59375</td>\n",
       "      <td>3.255663</td>\n",
       "      <td>1.159279</td>\n",
       "      <td>1.100100</td>\n",
       "      <td>35.34375</td>\n",
       "      <td>0.139755</td>\n",
       "      <td>10.365079</td>\n",
       "      <td>123.682540</td>\n",
       "      <td>19.763906</td>\n",
       "      <td>5.697425</td>\n",
       "      <td>...</td>\n",
       "      <td>2.300832</td>\n",
       "      <td>8.635</td>\n",
       "      <td>74723</td>\n",
       "      <td>0.024501</td>\n",
       "      <td>35.34375-105.59375</td>\n",
       "      <td>35.34375</td>\n",
       "      <td>-105.59375</td>\n",
       "      <td>2220</td>\n",
       "      <td>74723</td>\n",
       "      <td>13</td>\n",
       "    </tr>\n",
       "    <tr>\n",
       "      <th>2</th>\n",
       "      <td>-105.53125</td>\n",
       "      <td>3.286356</td>\n",
       "      <td>1.205084</td>\n",
       "      <td>1.137650</td>\n",
       "      <td>35.40625</td>\n",
       "      <td>0.113579</td>\n",
       "      <td>8.031746</td>\n",
       "      <td>120.111111</td>\n",
       "      <td>14.156998</td>\n",
       "      <td>5.680984</td>\n",
       "      <td>...</td>\n",
       "      <td>2.476741</td>\n",
       "      <td>9.643</td>\n",
       "      <td>75442</td>\n",
       "      <td>0.029474</td>\n",
       "      <td>35.40625-105.53125</td>\n",
       "      <td>35.40625</td>\n",
       "      <td>-105.53125</td>\n",
       "      <td>2068</td>\n",
       "      <td>75442</td>\n",
       "      <td>13</td>\n",
       "    </tr>\n",
       "    <tr>\n",
       "      <th>3</th>\n",
       "      <td>-105.59375</td>\n",
       "      <td>3.216291</td>\n",
       "      <td>1.319941</td>\n",
       "      <td>1.239670</td>\n",
       "      <td>35.40625</td>\n",
       "      <td>0.139899</td>\n",
       "      <td>11.666667</td>\n",
       "      <td>125.222222</td>\n",
       "      <td>21.029316</td>\n",
       "      <td>5.706232</td>\n",
       "      <td>...</td>\n",
       "      <td>2.629906</td>\n",
       "      <td>8.686</td>\n",
       "      <td>75443</td>\n",
       "      <td>0.038096</td>\n",
       "      <td>35.40625-105.59375</td>\n",
       "      <td>35.40625</td>\n",
       "      <td>-105.59375</td>\n",
       "      <td>2226</td>\n",
       "      <td>75443</td>\n",
       "      <td>13</td>\n",
       "    </tr>\n",
       "    <tr>\n",
       "      <th>4</th>\n",
       "      <td>-105.34375</td>\n",
       "      <td>3.287146</td>\n",
       "      <td>1.108797</td>\n",
       "      <td>1.053074</td>\n",
       "      <td>35.46875</td>\n",
       "      <td>0.101935</td>\n",
       "      <td>7.190476</td>\n",
       "      <td>113.079365</td>\n",
       "      <td>11.065968</td>\n",
       "      <td>5.691173</td>\n",
       "      <td>...</td>\n",
       "      <td>2.320753</td>\n",
       "      <td>9.665</td>\n",
       "      <td>76159</td>\n",
       "      <td>0.023867</td>\n",
       "      <td>35.46875-105.34375</td>\n",
       "      <td>35.46875</td>\n",
       "      <td>-105.34375</td>\n",
       "      <td>2040</td>\n",
       "      <td>76159</td>\n",
       "      <td>13</td>\n",
       "    </tr>\n",
       "  </tbody>\n",
       "</table>\n",
       "<p>5 rows × 102 columns</p>\n",
       "</div>"
      ],
      "text/plain": [
       "       frlon  PETpenmanvic         P        ET     frlat        Sf  \\\n",
       "0 -105.53125      3.322108  1.145967  1.086948  35.34375  0.122730   \n",
       "1 -105.59375      3.255663  1.159279  1.100100  35.34375  0.139755   \n",
       "2 -105.53125      3.286356  1.205084  1.137650  35.40625  0.113579   \n",
       "3 -105.59375      3.216291  1.319941  1.239670  35.40625  0.139899   \n",
       "4 -105.34375      3.287146  1.108797  1.053074  35.46875  0.101935   \n",
       "\n",
       "   meanablseason  meandosnowfree  meanpeakswe  meanpeaket ...        rr  \\\n",
       "0       9.269841      118.920635    15.495460    5.771660 ...  2.317366   \n",
       "1      10.365079      123.682540    19.763906    5.697425 ...  2.300832   \n",
       "2       8.031746      120.111111    14.156998    5.680984 ...  2.476741   \n",
       "3      11.666667      125.222222    21.029316    5.706232 ...  2.629906   \n",
       "4       7.190476      113.079365    11.065968    5.691173 ...  2.320753   \n",
       "\n",
       "   Tmean    idx  meanrunoff              spaidx     lat_y      lon_y  DEMelev  \\\n",
       "0  9.266  74722    0.025480  35.34375-105.53125  35.34375 -105.53125     2108   \n",
       "1  8.635  74723    0.024501  35.34375-105.59375  35.34375 -105.59375     2220   \n",
       "2  9.643  75442    0.029474  35.40625-105.53125  35.40625 -105.53125     2068   \n",
       "3  8.686  75443    0.038096  35.40625-105.59375  35.40625 -105.59375     2226   \n",
       "4  9.665  76159    0.023867  35.46875-105.34375  35.46875 -105.34375     2040   \n",
       "\n",
       "    idx2  rc  \n",
       "0  74722  13  \n",
       "1  74723  13  \n",
       "2  75442  13  \n",
       "3  75443  13  \n",
       "4  76159  13  \n",
       "\n",
       "[5 rows x 102 columns]"
      ]
     },
     "execution_count": 14,
     "metadata": {},
     "output_type": "execute_result"
    }
   ],
   "source": [
    "df.head()"
   ]
  },
  {
   "cell_type": "code",
   "execution_count": 15,
   "metadata": {
    "collapsed": false
   },
   "outputs": [
    {
     "data": {
      "text/plain": [
       "Index([u'frlon', u'PETpenmanvic', u'P', u'ET', u'frlat', u'Sf',\n",
       "       u'meanablseason', u'meandosnowfree', u'meanpeakswe', u'meanpeaket',\n",
       "       ...\n",
       "       u'rr', u'Tmean', u'idx', u'meanrunoff', u'spaidx', u'lat_y', u'lon_y',\n",
       "       u'DEMelev', u'idx2', u'rc'],\n",
       "      dtype='object', length=102)"
      ]
     },
     "execution_count": 15,
     "metadata": {},
     "output_type": "execute_result"
    }
   ],
   "source": [
    "df.columns"
   ]
  },
  {
   "cell_type": "code",
   "execution_count": 16,
   "metadata": {
    "collapsed": false
   },
   "outputs": [],
   "source": [
    "df.to_hdf('./budyko_working_er_all.hdf','df',format='fixed',complevel=5,complib='bzip2',fletcher32=True)"
   ]
  },
  {
   "cell_type": "code",
   "execution_count": null,
   "metadata": {
    "collapsed": false
   },
   "outputs": [],
   "source": []
  }
 ],
 "metadata": {
  "kernelspec": {
   "display_name": "Python 2",
   "language": "python",
   "name": "python2"
  },
  "language_info": {
   "codemirror_mode": {
    "name": "ipython",
    "version": 2
   },
   "file_extension": ".py",
   "mimetype": "text/x-python",
   "name": "python",
   "nbconvert_exporter": "python",
   "pygments_lexer": "ipython2",
   "version": "2.7.11"
  }
 },
 "nbformat": 4,
 "nbformat_minor": 0
}
