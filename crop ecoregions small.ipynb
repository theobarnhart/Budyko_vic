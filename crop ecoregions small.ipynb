{
 "metadata": {
  "name": "",
  "signature": "sha256:6eb501c3f94171844fc0c18b037f177cec4eed5ea22a8727fc7371b9c48731c7"
 },
 "nbformat": 3,
 "nbformat_minor": 0,
 "worksheets": [
  {
   "cells": [
    {
     "cell_type": "code",
     "collapsed": false,
     "input": [
      "import pandas as pd\n",
      "import numpy as np"
     ],
     "language": "python",
     "metadata": {},
     "outputs": [],
     "prompt_number": 1
    },
    {
     "cell_type": "code",
     "collapsed": false,
     "input": [
      "df = pd.read_hdf('./budyko_working.hdf','df')\n",
      "df['idx2'] = df.idx.copy()"
     ],
     "language": "python",
     "metadata": {},
     "outputs": [],
     "prompt_number": 2
    },
    {
     "cell_type": "code",
     "collapsed": false,
     "input": [
      "cells = pd.read_pickle('./ecoregion_cells_sm.df')"
     ],
     "language": "python",
     "metadata": {},
     "outputs": [],
     "prompt_number": 3
    },
    {
     "cell_type": "code",
     "collapsed": false,
     "input": [
      "idx = np.zeros([len(df)-len(cells)])\n",
      "idx[:] = np.NaN\n",
      "rc = idx.copy()"
     ],
     "language": "python",
     "metadata": {},
     "outputs": [],
     "prompt_number": 4
    },
    {
     "cell_type": "code",
     "collapsed": false,
     "input": [
      "tmp = pd.DataFrame({'idx':idx,'rc':rc})"
     ],
     "language": "python",
     "metadata": {},
     "outputs": [],
     "prompt_number": 5
    },
    {
     "cell_type": "code",
     "collapsed": false,
     "input": [
      "cells = pd.concat([cells,tmp])"
     ],
     "language": "python",
     "metadata": {},
     "outputs": [],
     "prompt_number": 6
    },
    {
     "cell_type": "code",
     "collapsed": false,
     "input": [
      "df = pd.merge(df,cells, on='idx', left_index=True)"
     ],
     "language": "python",
     "metadata": {},
     "outputs": [],
     "prompt_number": 7
    },
    {
     "cell_type": "code",
     "collapsed": false,
     "input": [
      "df.columns"
     ],
     "language": "python",
     "metadata": {},
     "outputs": [
      {
       "metadata": {},
       "output_type": "pyout",
       "prompt_number": 8,
       "text": [
        "Index([u'frlon', u'PETpenmanvic', u'P', u'ET', u'frlat', u'Sf', u'meanablseason', u'meandosnowfree', u'meanpeakswe', u'meanpeaket', u'meandopeaket', u'meanablslope', u'meandopeakswe', u'infilt', u'fs_active', u'l1_quartz', u'l3_Wpwp_FRACT', u'l3_bulkD', u'l3_init_moist', u'annual_prec', u'l2_soil_density', u'l2_Ksat', u'rough', u'l2_Wcr_FRACT', u'l2_depth', u'l2_quartz', u'l1_phi_s', u'l3_bubble', u'l1_expt', u'Ws', u'l1_Ksat', u'l1_soil_density', u'l1_resid_moisture', u'l2_phi_s', u'l2_init_moist', u'l2_expt', u'l1_init_moist', u'l1_depth', u'off_gmt', u'l3_expt', u'l3_depth', u'Dsmax', u'l1_Wpwp_FRACT', u'l3_resid_moisture', u'avg_T', u'l3_soil_density', u'l3_phi_s', u'dp', u'c', u'l2_bulkD', u'l2_bubble', u'l2_Wpwp_FRACT', u'l3_Ksat', u'l3_quartz', u'Ds', u'l1_bulkD', u'l1_bubble', u'l2_resid_moisture', u'elev', u'snow_rough', u'l1_Wcr_FRACT', u'l3_Wcr_FRACT', u'slope', u'rsquared_adj', u'intercept', u'rsquared', u'pvalue', u'w_flux', u'w_flux2', u'w_flux3', u'snowmelt', u'Sf2', u'Sf1', u'Sf_2', u'Sf_1', u'wflux4', u'idx', u'idx2', u'rc'], dtype='object')"
       ]
      }
     ],
     "prompt_number": 8
    },
    {
     "cell_type": "code",
     "collapsed": false,
     "input": [
      "df.to_hdf('./budyko_working_er_sm_all.hdf','df',format='fixed',complevel=5,complib='bzip2',fletcher32=True)\n",
      "df[['frlon','frlat','rc']].to_csv('./budyko_working_er_sm_all.csv',fmt=['%1.6f','%1.6f','%i'],index=False,na_rep='-9999')"
     ],
     "language": "python",
     "metadata": {},
     "outputs": [],
     "prompt_number": 9
    },
    {
     "cell_type": "code",
     "collapsed": false,
     "input": [
      "df.dropna(subset=['idx'],inplace=True)"
     ],
     "language": "python",
     "metadata": {},
     "outputs": [],
     "prompt_number": 10
    },
    {
     "cell_type": "code",
     "collapsed": false,
     "input": [
      "len(df)"
     ],
     "language": "python",
     "metadata": {},
     "outputs": [
      {
       "metadata": {},
       "output_type": "pyout",
       "prompt_number": 11,
       "text": [
        "19983"
       ]
      }
     ],
     "prompt_number": 11
    },
    {
     "cell_type": "code",
     "collapsed": false,
     "input": [
      "import matplotlib.pyplot as plt\n",
      "%matplotlib inline"
     ],
     "language": "python",
     "metadata": {},
     "outputs": [],
     "prompt_number": 12
    },
    {
     "cell_type": "code",
     "collapsed": false,
     "input": [
      "len(np.unique(df.idx))"
     ],
     "language": "python",
     "metadata": {},
     "outputs": [
      {
       "metadata": {},
       "output_type": "pyout",
       "prompt_number": 13,
       "text": [
        "19983"
       ]
      }
     ],
     "prompt_number": 13
    },
    {
     "cell_type": "code",
     "collapsed": false,
     "input": [
      "from palettable.colorbrewer.qualitative import Set1_6 as cbcust"
     ],
     "language": "python",
     "metadata": {},
     "outputs": [],
     "prompt_number": 14
    },
    {
     "cell_type": "code",
     "collapsed": false,
     "input": [
      "regions = ['Cascades','Sierra','Northern Rockies','Middle Rockies',\n",
      "           'Wasatch and Uintas','Southern Rockies']"
     ],
     "language": "python",
     "metadata": {},
     "outputs": [],
     "prompt_number": 15
    },
    {
     "cell_type": "code",
     "collapsed": false,
     "input": [
      "plt.figure(figsize=[12,10])\n",
      "plt.scatter(df.frlon,df.frlat,s=20,c=df.rc, edgecolor = 'none', cmap=mpl.colors.ListedColormap(cbcust.mpl_colors))\n",
      "cb = plt.colorbar()\n",
      "cb.set_ticks(np.arange(1,12))\n",
      "cb.set_ticklabels(regions)\n",
      "plt.xlabel('Longitude', fontsize = 16)\n",
      "plt.ylabel('Latitude', fontsize = 16)\n",
      "plt.title('Ecoregion Groups', fontsize = 20)\n",
      "\n",
      "plt.savefig('./figures/ecoregions_small.png', dpi=300)"
     ],
     "language": "python",
     "metadata": {},
     "outputs": [
      {
       "metadata": {},
       "output_type": "display_data",
       "png": "[encoded data removed]",
       "text": [
        "<matplotlib.figure.Figure at 0x11620fb10>"
       ]
      }
     ],
     "prompt_number": 16
    },
    {
     "cell_type": "code",
     "collapsed": false,
     "input": [
      "df.head()"
     ],
     "language": "python",
     "metadata": {},
     "outputs": [
      {
       "html": [
        "<div style=\"max-height:1000px;max-width:1500px;overflow:auto;\">\n",
        "<table border=\"1\" class=\"dataframe\">\n",
        "  <thead>\n",
        "    <tr style=\"text-align: right;\">\n",
        "      <th></th>\n",
        "      <th>frlon</th>\n",
        "      <th>PETpenmanvic</th>\n",
        "      <th>P</th>\n",
        "      <th>ET</th>\n",
        "      <th>frlat</th>\n",
        "      <th>Sf</th>\n",
        "      <th>meanablseason</th>\n",
        "      <th>meandosnowfree</th>\n",
        "      <th>meanpeakswe</th>\n",
        "      <th>meanpeaket</th>\n",
        "      <th>...</th>\n",
        "      <th>w_flux3</th>\n",
        "      <th>snowmelt</th>\n",
        "      <th>Sf2</th>\n",
        "      <th>Sf1</th>\n",
        "      <th>Sf_2</th>\n",
        "      <th>Sf_1</th>\n",
        "      <th>wflux4</th>\n",
        "      <th>idx</th>\n",
        "      <th>idx2</th>\n",
        "      <th>rc</th>\n",
        "    </tr>\n",
        "  </thead>\n",
        "  <tbody>\n",
        "    <tr>\n",
        "      <th>0</th>\n",
        "      <td>-105.53125</td>\n",
        "      <td> 3.322108</td>\n",
        "      <td> 1.145967</td>\n",
        "      <td> 1.086948</td>\n",
        "      <td> 35.34375</td>\n",
        "      <td> 0.122730</td>\n",
        "      <td>  9.269841</td>\n",
        "      <td> 118.920635</td>\n",
        "      <td> 15.495460</td>\n",
        "      <td> 5.771660</td>\n",
        "      <td>...</td>\n",
        "      <td> 2.597807</td>\n",
        "      <td> 1.237106</td>\n",
        "      <td> 0.166958</td>\n",
        "      <td> 0.144092</td>\n",
        "      <td> 0.085067</td>\n",
        "      <td> 0.103047</td>\n",
        "      <td> 2.386495</td>\n",
        "      <td> 74722</td>\n",
        "      <td> 74722</td>\n",
        "      <td> 6</td>\n",
        "    </tr>\n",
        "    <tr>\n",
        "      <th>1</th>\n",
        "      <td>-105.59375</td>\n",
        "      <td> 3.255663</td>\n",
        "      <td> 1.159279</td>\n",
        "      <td> 1.100100</td>\n",
        "      <td> 35.34375</td>\n",
        "      <td> 0.139755</td>\n",
        "      <td> 10.365079</td>\n",
        "      <td> 123.682540</td>\n",
        "      <td> 19.763906</td>\n",
        "      <td> 5.697425</td>\n",
        "      <td>...</td>\n",
        "      <td> 2.638988</td>\n",
        "      <td> 1.472317</td>\n",
        "      <td> 0.188506</td>\n",
        "      <td> 0.163755</td>\n",
        "      <td> 0.097135</td>\n",
        "      <td> 0.117598</td>\n",
        "      <td> 2.415308</td>\n",
        "      <td> 74723</td>\n",
        "      <td> 74723</td>\n",
        "      <td> 6</td>\n",
        "    </tr>\n",
        "    <tr>\n",
        "      <th>2</th>\n",
        "      <td>-105.53125</td>\n",
        "      <td> 3.286356</td>\n",
        "      <td> 1.205084</td>\n",
        "      <td> 1.137650</td>\n",
        "      <td> 35.40625</td>\n",
        "      <td> 0.113579</td>\n",
        "      <td>  8.031746</td>\n",
        "      <td> 120.111111</td>\n",
        "      <td> 14.156998</td>\n",
        "      <td> 5.680984</td>\n",
        "      <td>...</td>\n",
        "      <td> 2.795014</td>\n",
        "      <td> 1.270724</td>\n",
        "      <td> 0.158253</td>\n",
        "      <td> 0.134982</td>\n",
        "      <td> 0.076582</td>\n",
        "      <td> 0.094048</td>\n",
        "      <td> 2.534081</td>\n",
        "      <td> 75442</td>\n",
        "      <td> 75442</td>\n",
        "      <td> 6</td>\n",
        "    </tr>\n",
        "    <tr>\n",
        "      <th>3</th>\n",
        "      <td>-105.59375</td>\n",
        "      <td> 3.216291</td>\n",
        "      <td> 1.319941</td>\n",
        "      <td> 1.239670</td>\n",
        "      <td> 35.40625</td>\n",
        "      <td> 0.139899</td>\n",
        "      <td> 11.666667</td>\n",
        "      <td> 125.222222</td>\n",
        "      <td> 21.029316</td>\n",
        "      <td> 5.706232</td>\n",
        "      <td>...</td>\n",
        "      <td> 3.020643</td>\n",
        "      <td> 1.380583</td>\n",
        "      <td> 0.190007</td>\n",
        "      <td> 0.164520</td>\n",
        "      <td> 0.096174</td>\n",
        "      <td> 0.117099</td>\n",
        "      <td> 2.682476</td>\n",
        "      <td> 75443</td>\n",
        "      <td> 75443</td>\n",
        "      <td> 6</td>\n",
        "    </tr>\n",
        "    <tr>\n",
        "      <th>4</th>\n",
        "      <td>-105.34375</td>\n",
        "      <td> 3.287146</td>\n",
        "      <td> 1.108797</td>\n",
        "      <td> 1.053074</td>\n",
        "      <td> 35.46875</td>\n",
        "      <td> 0.101935</td>\n",
        "      <td>  7.190476</td>\n",
        "      <td> 113.079365</td>\n",
        "      <td> 11.065968</td>\n",
        "      <td> 5.691173</td>\n",
        "      <td>...</td>\n",
        "      <td> 2.590928</td>\n",
        "      <td> 1.162109</td>\n",
        "      <td> 0.139070</td>\n",
        "      <td> 0.119848</td>\n",
        "      <td> 0.071489</td>\n",
        "      <td> 0.085742</td>\n",
        "      <td> 2.374662</td>\n",
        "      <td> 76159</td>\n",
        "      <td> 76159</td>\n",
        "      <td> 6</td>\n",
        "    </tr>\n",
        "  </tbody>\n",
        "</table>\n",
        "<p>5 rows \u00d7 79 columns</p>\n",
        "</div>"
       ],
       "metadata": {},
       "output_type": "pyout",
       "prompt_number": 17,
       "text": [
        "       frlon  PETpenmanvic         P        ET     frlat        Sf  \\\n",
        "0 -105.53125      3.322108  1.145967  1.086948  35.34375  0.122730   \n",
        "1 -105.59375      3.255663  1.159279  1.100100  35.34375  0.139755   \n",
        "2 -105.53125      3.286356  1.205084  1.137650  35.40625  0.113579   \n",
        "3 -105.59375      3.216291  1.319941  1.239670  35.40625  0.139899   \n",
        "4 -105.34375      3.287146  1.108797  1.053074  35.46875  0.101935   \n",
        "\n",
        "   meanablseason  meandosnowfree  meanpeakswe  meanpeaket ...   w_flux3  \\\n",
        "0       9.269841      118.920635    15.495460    5.771660 ...  2.597807   \n",
        "1      10.365079      123.682540    19.763906    5.697425 ...  2.638988   \n",
        "2       8.031746      120.111111    14.156998    5.680984 ...  2.795014   \n",
        "3      11.666667      125.222222    21.029316    5.706232 ...  3.020643   \n",
        "4       7.190476      113.079365    11.065968    5.691173 ...  2.590928   \n",
        "\n",
        "   snowmelt       Sf2       Sf1      Sf_2      Sf_1    wflux4    idx   idx2  \\\n",
        "0  1.237106  0.166958  0.144092  0.085067  0.103047  2.386495  74722  74722   \n",
        "1  1.472317  0.188506  0.163755  0.097135  0.117598  2.415308  74723  74723   \n",
        "2  1.270724  0.158253  0.134982  0.076582  0.094048  2.534081  75442  75442   \n",
        "3  1.380583  0.190007  0.164520  0.096174  0.117099  2.682476  75443  75443   \n",
        "4  1.162109  0.139070  0.119848  0.071489  0.085742  2.374662  76159  76159   \n",
        "\n",
        "   rc  \n",
        "0   6  \n",
        "1   6  \n",
        "2   6  \n",
        "3   6  \n",
        "4   6  \n",
        "\n",
        "[5 rows x 79 columns]"
       ]
      }
     ],
     "prompt_number": 17
    },
    {
     "cell_type": "code",
     "collapsed": false,
     "input": [
      "df.to_hdf('./budyko_working_er_sm.hdf','df',format='fixed',complevel=5,complib='bzip2',fletcher32=True)"
     ],
     "language": "python",
     "metadata": {},
     "outputs": [],
     "prompt_number": 18
    },
    {
     "cell_type": "code",
     "collapsed": false,
     "input": [],
     "language": "python",
     "metadata": {},
     "outputs": []
    }
   ],
   "metadata": {}
  }
 ]
}