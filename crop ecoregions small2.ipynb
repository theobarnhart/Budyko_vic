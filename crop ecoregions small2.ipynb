{
 "cells": [
  {
   "cell_type": "code",
   "execution_count": 1,
   "metadata": {
    "collapsed": false
   },
   "outputs": [],
   "source": [
    "import pandas as pd\n",
    "import numpy as np"
   ]
  },
  {
   "cell_type": "code",
   "execution_count": 2,
   "metadata": {
    "collapsed": false
   },
   "outputs": [],
   "source": [
    "df = pd.read_hdf('./budyko_working.hdf','df')\n",
    "df['idx2'] = df.idx.copy()"
   ]
  },
  {
   "cell_type": "code",
   "execution_count": 3,
   "metadata": {
    "collapsed": false
   },
   "outputs": [],
   "source": [
    "cells = pd.read_pickle('./ecoregion_cells_sm2.df')"
   ]
  },
  {
   "cell_type": "code",
   "execution_count": 4,
   "metadata": {
    "collapsed": false
   },
   "outputs": [],
   "source": [
    "idx = np.zeros([len(df)-len(cells)])\n",
    "idx[:] = np.NaN\n",
    "rc = idx.copy()"
   ]
  },
  {
   "cell_type": "code",
   "execution_count": 5,
   "metadata": {
    "collapsed": false
   },
   "outputs": [],
   "source": [
    "tmp = pd.DataFrame({'idx':idx,'rc':rc})"
   ]
  },
  {
   "cell_type": "code",
   "execution_count": 6,
   "metadata": {
    "collapsed": false
   },
   "outputs": [],
   "source": [
    "cells = pd.concat([cells,tmp])"
   ]
  },
  {
   "cell_type": "code",
   "execution_count": 7,
   "metadata": {
    "collapsed": false
   },
   "outputs": [],
   "source": [
    "df = pd.merge(df,cells, on='idx', left_index=True)"
   ]
  },
  {
   "cell_type": "code",
   "execution_count": 8,
   "metadata": {
    "collapsed": false
   },
   "outputs": [
    {
     "data": {
      "text/plain": [
       "Index([u'frlon', u'PETpenmanvic', u'P', u'ET', u'frlat', u'Sf',\n",
       "       u'meanablseason', u'meandosnowfree', u'meanpeakswe', u'meanpeaket', \n",
       "       ...\n",
       "       u'prate', u'rr', u'Tmean', u'idx', u'spaidx', u'lat_y', u'lon_y',\n",
       "       u'DEMelev', u'idx2', u'rc'],\n",
       "      dtype='object', length=101)"
      ]
     },
     "execution_count": 8,
     "metadata": {},
     "output_type": "execute_result"
    }
   ],
   "source": [
    "df.columns"
   ]
  },
  {
   "cell_type": "code",
   "execution_count": 9,
   "metadata": {
    "collapsed": false
   },
   "outputs": [],
   "source": [
    "df.to_hdf('./budyko_working_er_sm2_all.hdf','df',format='fixed',complevel=5,complib='bzip2',fletcher32=True)\n",
    "#df[['frlon','frlat','rc']].to_csv('./budyko_working_er_sm2_all.csv',fmt=['%1.6f','%1.6f','%i'],index=False,na_rep='-9999')"
   ]
  },
  {
   "cell_type": "code",
   "execution_count": 10,
   "metadata": {
    "collapsed": false
   },
   "outputs": [],
   "source": [
    "df.dropna(subset=['idx'],inplace=True)"
   ]
  },
  {
   "cell_type": "code",
   "execution_count": 11,
   "metadata": {
    "collapsed": false
   },
   "outputs": [
    {
     "data": {
      "text/plain": [
       "19983"
      ]
     },
     "execution_count": 11,
     "metadata": {},
     "output_type": "execute_result"
    }
   ],
   "source": [
    "len(df)"
   ]
  },
  {
   "cell_type": "code",
   "execution_count": 12,
   "metadata": {
    "collapsed": false
   },
   "outputs": [],
   "source": [
    "import matplotlib.pyplot as plt\n",
    "%matplotlib inline"
   ]
  },
  {
   "cell_type": "code",
   "execution_count": 13,
   "metadata": {
    "collapsed": false
   },
   "outputs": [
    {
     "data": {
      "text/plain": [
       "19983"
      ]
     },
     "execution_count": 13,
     "metadata": {},
     "output_type": "execute_result"
    }
   ],
   "source": [
    "len(np.unique(df.idx))"
   ]
  },
  {
   "cell_type": "code",
   "execution_count": 14,
   "metadata": {
    "collapsed": false
   },
   "outputs": [],
   "source": [
    "from palettable.colorbrewer.qualitative import Set1_6 as cbcust"
   ]
  },
  {
   "cell_type": "code",
   "execution_count": 15,
   "metadata": {
    "collapsed": false
   },
   "outputs": [],
   "source": [
    "regions = ['Cascades','Sierra','Northern Rockies',\n",
    "           'Wasatch and Uintas','Southern Rockies']"
   ]
  },
  {
   "cell_type": "raw",
   "metadata": {
    "collapsed": false
   },
   "source": [
    "plt.figure(figsize=[12,10])\n",
    "plt.scatter(df.frlon,df.frlat,s=20,c=df.rc, edgecolor = 'none', cmap=mpl.colors.ListedColormap(cbcust.mpl_colors))\n",
    "cb = plt.colorbar()\n",
    "cb.set_ticks(np.arange(1,12))\n",
    "cb.set_ticklabels(regions)\n",
    "plt.xlabel('Longitude', fontsize = 16)\n",
    "plt.ylabel('Latitude', fontsize = 16)\n",
    "plt.title('Ecoregion Groups', fontsize = 20)\n",
    "\n",
    "#plt.savefig('./figures/ecoregions_small.png', dpi=300)"
   ]
  },
  {
   "cell_type": "code",
   "execution_count": 16,
   "metadata": {
    "collapsed": false
   },
   "outputs": [
    {
     "data": {
      "text/html": [
       "<div>\n",
       "<table border=\"1\" class=\"dataframe\">\n",
       "  <thead>\n",
       "    <tr style=\"text-align: right;\">\n",
       "      <th></th>\n",
       "      <th>frlon</th>\n",
       "      <th>PETpenmanvic</th>\n",
       "      <th>P</th>\n",
       "      <th>ET</th>\n",
       "      <th>frlat</th>\n",
       "      <th>Sf</th>\n",
       "      <th>meanablseason</th>\n",
       "      <th>meandosnowfree</th>\n",
       "      <th>meanpeakswe</th>\n",
       "      <th>meanpeaket</th>\n",
       "      <th>...</th>\n",
       "      <th>prate</th>\n",
       "      <th>rr</th>\n",
       "      <th>Tmean</th>\n",
       "      <th>idx</th>\n",
       "      <th>spaidx</th>\n",
       "      <th>lat_y</th>\n",
       "      <th>lon_y</th>\n",
       "      <th>DEMelev</th>\n",
       "      <th>idx2</th>\n",
       "      <th>rc</th>\n",
       "    </tr>\n",
       "  </thead>\n",
       "  <tbody>\n",
       "    <tr>\n",
       "      <th>0</th>\n",
       "      <td>-105.53125</td>\n",
       "      <td>3.322108</td>\n",
       "      <td>1.145967</td>\n",
       "      <td>1.086948</td>\n",
       "      <td>35.34375</td>\n",
       "      <td>0.122730</td>\n",
       "      <td>9.269841</td>\n",
       "      <td>118.920635</td>\n",
       "      <td>15.495460</td>\n",
       "      <td>5.771660</td>\n",
       "      <td>...</td>\n",
       "      <td>2.585976</td>\n",
       "      <td>2.317366</td>\n",
       "      <td>9.266</td>\n",
       "      <td>74722</td>\n",
       "      <td>35.34375-105.53125</td>\n",
       "      <td>35.34375</td>\n",
       "      <td>-105.53125</td>\n",
       "      <td>2108</td>\n",
       "      <td>74722</td>\n",
       "      <td>5</td>\n",
       "    </tr>\n",
       "    <tr>\n",
       "      <th>1</th>\n",
       "      <td>-105.59375</td>\n",
       "      <td>3.255663</td>\n",
       "      <td>1.159279</td>\n",
       "      <td>1.100100</td>\n",
       "      <td>35.34375</td>\n",
       "      <td>0.139755</td>\n",
       "      <td>10.365079</td>\n",
       "      <td>123.682540</td>\n",
       "      <td>19.763906</td>\n",
       "      <td>5.697425</td>\n",
       "      <td>...</td>\n",
       "      <td>2.607708</td>\n",
       "      <td>2.300832</td>\n",
       "      <td>8.635</td>\n",
       "      <td>74723</td>\n",
       "      <td>35.34375-105.59375</td>\n",
       "      <td>35.34375</td>\n",
       "      <td>-105.59375</td>\n",
       "      <td>2220</td>\n",
       "      <td>74723</td>\n",
       "      <td>5</td>\n",
       "    </tr>\n",
       "    <tr>\n",
       "      <th>2</th>\n",
       "      <td>-105.53125</td>\n",
       "      <td>3.286356</td>\n",
       "      <td>1.205084</td>\n",
       "      <td>1.137650</td>\n",
       "      <td>35.40625</td>\n",
       "      <td>0.113579</td>\n",
       "      <td>8.031746</td>\n",
       "      <td>120.111111</td>\n",
       "      <td>14.156998</td>\n",
       "      <td>5.680984</td>\n",
       "      <td>...</td>\n",
       "      <td>2.742677</td>\n",
       "      <td>2.476741</td>\n",
       "      <td>9.643</td>\n",
       "      <td>75442</td>\n",
       "      <td>35.40625-105.53125</td>\n",
       "      <td>35.40625</td>\n",
       "      <td>-105.53125</td>\n",
       "      <td>2068</td>\n",
       "      <td>75442</td>\n",
       "      <td>5</td>\n",
       "    </tr>\n",
       "    <tr>\n",
       "      <th>3</th>\n",
       "      <td>-105.59375</td>\n",
       "      <td>3.216291</td>\n",
       "      <td>1.319941</td>\n",
       "      <td>1.239670</td>\n",
       "      <td>35.40625</td>\n",
       "      <td>0.139899</td>\n",
       "      <td>11.666667</td>\n",
       "      <td>125.222222</td>\n",
       "      <td>21.029316</td>\n",
       "      <td>5.706232</td>\n",
       "      <td>...</td>\n",
       "      <td>2.979715</td>\n",
       "      <td>2.629906</td>\n",
       "      <td>8.686</td>\n",
       "      <td>75443</td>\n",
       "      <td>35.40625-105.59375</td>\n",
       "      <td>35.40625</td>\n",
       "      <td>-105.59375</td>\n",
       "      <td>2226</td>\n",
       "      <td>75443</td>\n",
       "      <td>5</td>\n",
       "    </tr>\n",
       "    <tr>\n",
       "      <th>4</th>\n",
       "      <td>-105.34375</td>\n",
       "      <td>3.287146</td>\n",
       "      <td>1.108797</td>\n",
       "      <td>1.053074</td>\n",
       "      <td>35.46875</td>\n",
       "      <td>0.101935</td>\n",
       "      <td>7.190476</td>\n",
       "      <td>113.079365</td>\n",
       "      <td>11.065968</td>\n",
       "      <td>5.691173</td>\n",
       "      <td>...</td>\n",
       "      <td>2.524027</td>\n",
       "      <td>2.320753</td>\n",
       "      <td>9.665</td>\n",
       "      <td>76159</td>\n",
       "      <td>35.46875-105.34375</td>\n",
       "      <td>35.46875</td>\n",
       "      <td>-105.34375</td>\n",
       "      <td>2040</td>\n",
       "      <td>76159</td>\n",
       "      <td>5</td>\n",
       "    </tr>\n",
       "  </tbody>\n",
       "</table>\n",
       "<p>5 rows × 101 columns</p>\n",
       "</div>"
      ],
      "text/plain": [
       "       frlon  PETpenmanvic         P        ET     frlat        Sf  \\\n",
       "0 -105.53125      3.322108  1.145967  1.086948  35.34375  0.122730   \n",
       "1 -105.59375      3.255663  1.159279  1.100100  35.34375  0.139755   \n",
       "2 -105.53125      3.286356  1.205084  1.137650  35.40625  0.113579   \n",
       "3 -105.59375      3.216291  1.319941  1.239670  35.40625  0.139899   \n",
       "4 -105.34375      3.287146  1.108797  1.053074  35.46875  0.101935   \n",
       "\n",
       "   meanablseason  meandosnowfree  meanpeakswe  meanpeaket ...     prate  \\\n",
       "0       9.269841      118.920635    15.495460    5.771660 ...  2.585976   \n",
       "1      10.365079      123.682540    19.763906    5.697425 ...  2.607708   \n",
       "2       8.031746      120.111111    14.156998    5.680984 ...  2.742677   \n",
       "3      11.666667      125.222222    21.029316    5.706232 ...  2.979715   \n",
       "4       7.190476      113.079365    11.065968    5.691173 ...  2.524027   \n",
       "\n",
       "         rr  Tmean    idx              spaidx     lat_y      lon_y  DEMelev  \\\n",
       "0  2.317366  9.266  74722  35.34375-105.53125  35.34375 -105.53125     2108   \n",
       "1  2.300832  8.635  74723  35.34375-105.59375  35.34375 -105.59375     2220   \n",
       "2  2.476741  9.643  75442  35.40625-105.53125  35.40625 -105.53125     2068   \n",
       "3  2.629906  8.686  75443  35.40625-105.59375  35.40625 -105.59375     2226   \n",
       "4  2.320753  9.665  76159  35.46875-105.34375  35.46875 -105.34375     2040   \n",
       "\n",
       "    idx2  rc  \n",
       "0  74722   5  \n",
       "1  74723   5  \n",
       "2  75442   5  \n",
       "3  75443   5  \n",
       "4  76159   5  \n",
       "\n",
       "[5 rows x 101 columns]"
      ]
     },
     "execution_count": 16,
     "metadata": {},
     "output_type": "execute_result"
    }
   ],
   "source": [
    "df.head()"
   ]
  },
  {
   "cell_type": "code",
   "execution_count": 17,
   "metadata": {
    "collapsed": false
   },
   "outputs": [],
   "source": [
    "df.to_hdf('./budyko_working_er_sm2.hdf','df',format='fixed',complevel=5,complib='bzip2',fletcher32=True)"
   ]
  },
  {
   "cell_type": "code",
   "execution_count": 18,
   "metadata": {
    "collapsed": false
   },
   "outputs": [
    {
     "name": "stdout",
     "output_type": "stream",
     "text": [
      "total 8324212\n",
      "-rwx------  1 barnhatb  staff    12M Dec  9 11:33 \u001b[31mbudyko_working_er_sm2.hdf\u001b[m\u001b[m\n",
      "-rwx------  1 barnhatb  staff    13M Dec  9 11:33 \u001b[31mbudyko_working_er_sm2_all.hdf\u001b[m\u001b[m\n",
      "-rwx------  1 barnhatb  staff    33K Dec  9 11:30 \u001b[31mcrop ecoregions small2.ipynb\u001b[m\u001b[m\n",
      "-rwx------  1 barnhatb  staff    24K Dec  9 11:27 \u001b[31mMerge Computed Data.ipynb\u001b[m\u001b[m\n",
      "-rwx------  1 barnhatb  staff   252M Dec  9 11:25 \u001b[31mbudyko_working.hdf\u001b[m\u001b[m\n",
      "-rwx------  1 barnhatb  staff    58K Dec  9 11:24 \u001b[31mmean air temp processing.ipynb\u001b[m\u001b[m\n",
      "-rwx------  1 barnhatb  staff   1.3M Dec  9 11:23 \u001b[31mmean_temp.npz\u001b[m\u001b[m\n",
      "-rwx------  1 barnhatb  staff   2.2M Dec  8 14:43 \u001b[31mAnalyze Budyko Data Ecoregions Small2 Lumped.ipynb\u001b[m\u001b[m\n",
      "drwx------  1 barnhatb  staff    16K Dec  8 14:42 \u001b[34mfigures\u001b[m\u001b[m\n",
      "-rwx------  1 barnhatb  staff   760K Nov 23 10:52 \u001b[31mAnalyze Budyko Data Ecoregions All Small 3.ipynb\u001b[m\u001b[m\n",
      "drwx------  1 barnhatb  staff    16K Nov 23 10:47 \u001b[34mgroundtruth\u001b[m\u001b[m\n",
      "drwx------  1 barnhatb  staff    16K Nov  3 17:18 \u001b[34mcomps\u001b[m\u001b[m\n",
      "drwx------  1 barnhatb  staff    16K Sep 11 13:28 \u001b[34msnowmelt_gw\u001b[m\u001b[m\n",
      "-rwx------  1 barnhatb  staff    33K Aug 18 10:39 \u001b[31mLong-Term ET and PET.ipynb\u001b[m\u001b[m\n",
      "-rwx------  1 barnhatb  staff   1.6G Aug  3 13:01 \u001b[31mspl_ecoregion_cals.npz\u001b[m\u001b[m\n",
      "-rwx------  1 barnhatb  staff    19K Aug  3 13:01 \u001b[31mspl_er_L3_domain.npz\u001b[m\u001b[m\n",
      "-rwx------  1 barnhatb  staff   117K Aug  3 13:01 \u001b[31mspl_er_domain.npz\u001b[m\u001b[m\n",
      "-rwx------@ 1 barnhatb  staff   928B Aug  3 13:01 \u001b[31msubset_vic_data.sh\u001b[m\u001b[m\n",
      "-rwx------  1 barnhatb  staff   548K Aug  3 13:01 \u001b[31mtimecode.pcl\u001b[m\u001b[m\n",
      "-rwx------  1 barnhatb  staff   8.6K Aug  3 13:01 \u001b[31muncompress dom's domain.ipynb\u001b[m\u001b[m\n",
      "-rwx------@ 1 barnhatb  staff   186B Aug  3 13:01 \u001b[31muncompress_fluxes.sh\u001b[m\u001b[m\n",
      "-rwx------@ 1 barnhatb  staff   187B Aug  3 13:01 \u001b[31muncompress_forcing.sh\u001b[m\u001b[m\n",
      "-rwx------  1 barnhatb  staff   2.3M Aug  3 13:01 \u001b[31mw_flux4.npz\u001b[m\u001b[m\n",
      "-rwx------  1 barnhatb  staff   2.3M Aug  3 13:01 \u001b[31mw_flux5.npz\u001b[m\u001b[m\n",
      "-rwx------  1 barnhatb  staff   2.3M Aug  3 13:01 \u001b[31mwater_flux_method_1.npz\u001b[m\u001b[m\n",
      "-rwx------  1 barnhatb  staff   777K Aug  3 13:01 \u001b[31mwater_flux_method_2.npz\u001b[m\u001b[m\n",
      "-rwx------  1 barnhatb  staff   2.3M Aug  3 13:01 \u001b[31mwater_flux_method_3.npz\u001b[m\u001b[m\n",
      "-rwx------  1 barnhatb  staff    11M Aug  3 13:01 \u001b[31mwhole_domain_partitioning_results.npz\u001b[m\u001b[m\n",
      "-rwx------  1 barnhatb  staff   584B Aug  3 13:01 \u001b[31mwyears.npy\u001b[m\u001b[m\n",
      "-rwx------  1 barnhatb  staff   592B Aug  3 13:01 \u001b[31myears.npy\u001b[m\u001b[m\n",
      "-rwx------  1 barnhatb  staff   819M Aug  3 13:01 \u001b[31mspl_cals.npz\u001b[m\u001b[m\n",
      "-rwx------  1 barnhatb  staff    64K Aug  3 13:01 \u001b[31mspl_domain.npz\u001b[m\u001b[m\n",
      "-rwx------  1 barnhatb  staff   380M Aug  3 13:00 \u001b[31mspl_L3_ecoregion_cals_2.npz\u001b[m\u001b[m\n",
      "-rwx------  1 barnhatb  staff   8.9M Aug  3 13:00 \u001b[31mnew_Sf_sense.npz\u001b[m\u001b[m\n",
      "-rwx------  1 barnhatb  staff   8.7M Aug  3 13:00 \u001b[31mnew_budyko_data.npz\u001b[m\u001b[m\n",
      "-rwx------@ 1 barnhatb  staff    66B Aug  3 13:00 \u001b[31mno_code.tpl\u001b[m\u001b[m\n",
      "-rwx------@ 1 barnhatb  staff   1.0K Aug  3 13:00 \u001b[31mno_code_2.tpl\u001b[m\u001b[m\n",
      "-rwx------@ 1 barnhatb  staff   596B Aug  3 13:00 \u001b[31mno_code_3.tpl\u001b[m\u001b[m\n",
      "-rwx------  1 barnhatb  staff   4.1K Aug  3 13:00 \u001b[31mparallel test.ipynb\u001b[m\u001b[m\n",
      "-rwx------  1 barnhatb  staff    19M Aug  3 13:00 \u001b[31mrain processing-Copy0.ipynb\u001b[m\u001b[m\n",
      "-rwx------  1 barnhatb  staff   6.2K Aug  3 13:00 \u001b[31mrain processing.ipynb\u001b[m\u001b[m\n",
      "-rwx------  1 barnhatb  staff   2.3M Aug  3 13:00 \u001b[31mrain.npz\u001b[m\u001b[m\n",
      "-rwx------@ 1 barnhatb  staff   422B Aug  3 13:00 \u001b[31mreproject_er_subsets.sh\u001b[m\u001b[m\n",
      "-rwx------  1 barnhatb  staff   975B Aug  3 13:00 \u001b[31mscratch can delete.ipynb\u001b[m\u001b[m\n",
      "-rwx------  1 barnhatb  staff   8.9M Aug  3 13:00 \u001b[31msmbf.npz\u001b[m\u001b[m\n",
      "-rwx------  1 barnhatb  staff    12M Aug  3 13:00 \u001b[31msnowmelt and P processing.ipynb\u001b[m\u001b[m\n",
      "-rwx------  1 barnhatb  staff    11K Aug  3 13:00 \u001b[31msnowmelt and rain processing.ipynb\u001b[m\u001b[m\n",
      "-rwx------  1 barnhatb  staff   5.4K Aug  3 13:00 \u001b[31msnowmelt processing.ipynb\u001b[m\u001b[m\n",
      "-rwx------  1 barnhatb  staff   2.2M Aug  3 13:00 \u001b[31msnowmelt.npz\u001b[m\u001b[m\n",
      "drwx------  1 barnhatb  staff    16K Aug  3 13:00 \u001b[34mgrass_data\u001b[m\u001b[m\n",
      "-rwx------  1 barnhatb  staff    19K Aug  3 13:00 \u001b[31mground truth comparison - delete.ipynb\u001b[m\u001b[m\n",
      "-rwx------@ 1 barnhatb  staff    28K Aug  3 13:00 \u001b[31mlat.lon.etratio.petratio.snowratio.txt\u001b[m\u001b[m\n",
      "-rwx------  1 barnhatb  staff   2.5M Aug  3 13:00 \u001b[31mlatitudes.npy\u001b[m\u001b[m\n",
      "-rwx------  1 barnhatb  staff   2.5M Aug  3 13:00 \u001b[31mlongitudes.npy\u001b[m\u001b[m\n",
      "-rwx------  1 barnhatb  staff    19K Aug  3 13:00 \u001b[31mmerge interannual results.ipynb\u001b[m\u001b[m\n",
      "drwx------  1 barnhatb  staff    16K Aug  3 13:00 \u001b[34mmodels\u001b[m\u001b[m\n",
      "-rwx------  1 barnhatb  staff    14K Aug  3 13:00 \u001b[31mnet snowmelt processing.ipynb\u001b[m\u001b[m\n",
      "-rwx------  1 barnhatb  staff   2.2M Aug  3 13:00 \u001b[31mnet_snowmelt.npz\u001b[m\u001b[m\n",
      "-rwx------  1 barnhatb  staff   2.2M Aug  3 13:00 \u001b[31mnew_Sf_calc.npz\u001b[m\u001b[m\n",
      "-rwx------  1 barnhatb  staff    75M Aug  3 13:00 \u001b[31mforcing_fluxes_filenames_lat_lon_index.df\u001b[m\u001b[m\n",
      "-rwx------  1 barnhatb  staff    47M Aug  3 13:00 \u001b[31mforcings_files_lat_lon.dataframe\u001b[m\u001b[m\n",
      "-rwx------  1 barnhatb  staff   6.2K Aug  3 13:00 \u001b[31mgenerate SPL coords L3 ERs.ipynb\u001b[m\u001b[m\n",
      "-rwx------  1 barnhatb  staff   3.3K Aug  3 13:00 \u001b[31mgenerate SPL coords ecoregions.ipynb\u001b[m\u001b[m\n",
      "-rwx------  1 barnhatb  staff    29K Aug  3 13:00 \u001b[31mgenerate SPL coords states.ipynb\u001b[m\u001b[m\n",
      "-rwx------  1 barnhatb  staff   133M Aug  3 13:00 \u001b[31mforcing_fluxes_filenames_beach.dataframe\u001b[m\u001b[m\n",
      "-rwx------  1 barnhatb  staff    35M Aug  3 13:00 \u001b[31mfluxes_files_lat_lon.dataframe\u001b[m\u001b[m\n",
      "-rwx------  1 barnhatb  staff    68M Aug  3 13:00 \u001b[31mforcing_fluxes_filenames.dataframe\u001b[m\u001b[m\n",
      "drwx------  1 barnhatb  staff    16K Aug  3 13:00 \u001b[34mdata\u001b[m\u001b[m\n",
      "-rwx------  1 barnhatb  staff    10M Aug  3 13:00 \u001b[31mdominik_domain_vic.pcl\u001b[m\u001b[m\n",
      "-rwx------  1 barnhatb  staff   804K Aug  3 13:00 \u001b[31mdoms_domain_results.npz\u001b[m\u001b[m\n",
      "-rwx------  1 barnhatb  staff   872K Aug  3 13:00 \u001b[31mecoregion_cells.df\u001b[m\u001b[m\n",
      "-rwx------  1 barnhatb  staff   872K Aug  3 13:00 \u001b[31mecoregion_cells_all.df\u001b[m\u001b[m\n",
      "-rwx------  1 barnhatb  staff   469K Aug  3 13:00 \u001b[31mecoregion_cells_sm.df\u001b[m\u001b[m\n",
      "-rwx------  1 barnhatb  staff   469K Aug  3 13:00 \u001b[31mecoregion_cells_sm2.df\u001b[m\u001b[m\n",
      "-rwx------  1 barnhatb  staff   2.9K Aug  3 13:00 \u001b[31mecoregions_index.npz\u001b[m\u001b[m\n",
      "-rwx------  1 barnhatb  staff    99M Aug  3 12:59 \u001b[31mbudykodata_newSf_SWE.pcl\u001b[m\u001b[m\n",
      "-rwx------  1 barnhatb  staff   3.7M Aug  3 12:59 \u001b[31mbudykodata_newSf_SWE_clean.pcl\u001b[m\u001b[m\n",
      "-rwx------  1 barnhatb  staff    35K Aug  3 12:59 \u001b[31mcluster trial.ipynb\u001b[m\u001b[m\n",
      "-rwx------  1 barnhatb  staff   1.9K Aug  3 12:59 \u001b[31mcluster_test.ipynb\u001b[m\u001b[m\n",
      "-rwx------  1 barnhatb  staff    17K Aug  3 12:59 \u001b[31mcomparison_lats.txt\u001b[m\u001b[m\n",
      "-rwx------  1 barnhatb  staff    18K Aug  3 12:59 \u001b[31mcomparison_lons.txt\u001b[m\u001b[m\n",
      "-rwx------@ 1 barnhatb  staff   183B Aug  3 12:59 \u001b[31mcompress_fluxes.sh\u001b[m\u001b[m\n",
      "-rwx------@ 1 barnhatb  staff   184B Aug  3 12:59 \u001b[31mcompress_forcing.sh\u001b[m\u001b[m\n",
      "-rwx------  1 barnhatb  staff   118K Aug  3 12:59 \u001b[31mcrop ecoregions all.ipynb\u001b[m\u001b[m\n",
      "-rwx------  1 barnhatb  staff    85K Aug  3 12:59 \u001b[31mcrop ecoregions small.ipynb\u001b[m\u001b[m\n",
      "-rwx------  1 barnhatb  staff    36M Aug  3 12:59 \u001b[31mbudykodata_newSf.pcl\u001b[m\u001b[m\n",
      "-rwx------  1 barnhatb  staff   6.3M Aug  3 12:59 \u001b[31mbudyko_working_er_sm.hdf\u001b[m\u001b[m\n",
      "-rwx------  1 barnhatb  staff   468K Aug  3 12:59 \u001b[31mbudyko_working_er_sm2_all.csv\u001b[m\u001b[m\n",
      "-rwx------  1 barnhatb  staff   468K Aug  3 12:59 \u001b[31mbudyko_working_er_sm_all.csv\u001b[m\u001b[m\n",
      "-rwx------  1 barnhatb  staff   6.4M Aug  3 12:59 \u001b[31mbudyko_working_er_sm_all.hdf\u001b[m\u001b[m\n",
      "-rwx------  1 barnhatb  staff    31M Aug  3 12:59 \u001b[31mbudykodata.pcl\u001b[m\u001b[m\n",
      "-rwx------  1 barnhatb  staff   101M Aug  3 12:59 \u001b[31mbudyko_working_DEM.hdf\u001b[m\u001b[m\n",
      "-rwx------  1 barnhatb  staff   138K Aug  3 12:59 \u001b[31mbudyko_working_WSC_HUC10.hdf\u001b[m\u001b[m\n",
      "-rwx------  1 barnhatb  staff   1.6M Aug  3 12:59 \u001b[31mbudyko_working_WSC_HUC8.hdf\u001b[m\u001b[m\n",
      "-rwx------  1 barnhatb  staff    11M Aug  3 12:59 \u001b[31mbudyko_working_er.hdf\u001b[m\u001b[m\n",
      "-rwx------  1 barnhatb  staff    11M Aug  3 12:59 \u001b[31mbudyko_working_er_DEM.hdf\u001b[m\u001b[m\n",
      "-rwx------  1 barnhatb  staff    14M Aug  3 12:59 \u001b[31mbudyko_working_er_all.hdf\u001b[m\u001b[m\n",
      "-rwx------  1 barnhatb  staff    18M Aug  3 12:59 \u001b[31mVIC_SWE_metrics.pcl\u001b[m\u001b[m\n",
      "-rwx------  1 barnhatb  staff   8.8K Aug  3 12:59 \u001b[31mWSC HUC8 Create Diversion Object.ipynb\u001b[m\u001b[m\n",
      "-rwx------  1 barnhatb  staff    11M Aug  3 12:59 \u001b[31mWSC_HUC8_budyko.hdf\u001b[m\u001b[m\n",
      "-rwx------  1 barnhatb  staff   2.7M Aug  3 12:59 \u001b[31mWSC_HUC8_interannual.npz\u001b[m\u001b[m\n",
      "-rwx------  1 barnhatb  staff   2.1M Aug  3 12:59 \u001b[31mWSC_HUC8_interannual_wflux.npz\u001b[m\u001b[m\n",
      "-rwx------  1 barnhatb  staff   8.6M Aug  3 12:59 \u001b[31mbudyko_swe_data.npz\u001b[m\u001b[m\n",
      "-rwx------  1 barnhatb  staff    24M Aug  3 12:59 \u001b[31mbudyko_temp.pcl\u001b[m\u001b[m\n",
      "-rwx------  1 barnhatb  staff    15M Aug  3 12:59 \u001b[31mMAT and Seasonality Processing.ipynb\u001b[m\u001b[m\n",
      "-rwx------  1 barnhatb  staff   4.4M Aug  3 12:59 \u001b[31mMATseas.npz\u001b[m\u001b[m\n",
      "-rwx------  1 barnhatb  staff   4.4M Aug  3 12:59 \u001b[31mMATseas2.npz\u001b[m\u001b[m\n",
      "-rwx------  1 barnhatb  staff   4.4M Aug  3 12:59 \u001b[31mMATsignedseas.npz\u001b[m\u001b[m\n",
      "-rwx------  1 barnhatb  staff   393K Aug  3 12:59 \u001b[31mMake a raster of cell centers.ipynb\u001b[m\u001b[m\n",
      "-rwx------  1 barnhatb  staff   367K Aug  3 12:59 \u001b[31mMap Dom's box-Copy0.ipynb\u001b[m\u001b[m\n",
      "-rwx------  1 barnhatb  staff   367K Aug  3 12:59 \u001b[31mMap Dom's box.ipynb\u001b[m\u001b[m\n",
      "-rwx------  1 barnhatb  staff   157K Aug  3 12:59 \u001b[31mMap Ecoregion Values.ipynb\u001b[m\u001b[m\n",
      "-rwx------  1 barnhatb  staff    14K Aug  3 12:59 \u001b[31mMap Sensitivity.ipynb\u001b[m\u001b[m\n",
      "-rwx------  1 barnhatb  staff    15K Aug  3 12:59 \u001b[31mMerge SPL data Ecoregions.ipynb\u001b[m\u001b[m\n",
      "-rwx------  1 barnhatb  staff   9.0K Aug  3 12:59 \u001b[31mMerge SPL data States.ipynb\u001b[m\u001b[m\n",
      "-rwx------  1 barnhatb  staff    56K Aug  3 12:59 \u001b[31mNew Snow Fraction Calculation.ipynb\u001b[m\u001b[m\n",
      "-rwx------  1 barnhatb  staff    44K Aug  3 12:59 \u001b[31mP301 Cell Analysis.ipynb\u001b[m\u001b[m\n",
      "-rwx------  1 barnhatb  staff    16K Aug  3 12:59 \u001b[31mPartitioning Sensitivity.ipynb\u001b[m\u001b[m\n",
      "-rwx------  1 barnhatb  staff   4.9K Aug  3 12:59 \u001b[31mPrecip Rate.ipynb\u001b[m\u001b[m\n",
      "-rwx------  1 barnhatb  staff    13K Aug  3 12:59 \u001b[31mProcess ASCII Data 1.ipynb\u001b[m\u001b[m\n",
      "-rwx------  1 barnhatb  staff    68K Aug  3 12:59 \u001b[31mProcess Hydromet Cells.ipynb\u001b[m\u001b[m\n",
      "-rwx------  1 barnhatb  staff    19K Aug  3 12:59 \u001b[31mProcess Soil Data.ipynb\u001b[m\u001b[m\n",
      "-rwx------  1 barnhatb  staff   8.6M Aug  3 12:59 \u001b[31mRR_interannual_slope.npz\u001b[m\u001b[m\n",
      "-rwx------  1 barnhatb  staff    13K Aug  3 12:59 \u001b[31mRain Rate.ipynb\u001b[m\u001b[m\n",
      "-rwx------  1 barnhatb  staff   6.7M Aug  3 12:59 \u001b[31mRunoff Ratio Sensitivity Processing.ipynb\u001b[m\u001b[m\n",
      "-rwx------  1 barnhatb  staff   5.8K Aug  3 12:59 \u001b[31mSPL PET P processing Ecoregions.ipynb\u001b[m\u001b[m\n",
      "-rwx------  1 barnhatb  staff   7.4K Aug  3 12:59 \u001b[31mSPL PET P processing States.ipynb\u001b[m\u001b[m\n",
      "-rwx------  1 barnhatb  staff   4.6K Aug  3 12:59 \u001b[31mSf Calc Test.ipynb\u001b[m\u001b[m\n",
      "-rwx------  1 barnhatb  staff   9.7K Aug  3 12:59 \u001b[31mSoil Moisture and Baseflow Processing.ipynb\u001b[m\u001b[m\n",
      "-rwx------  1 barnhatb  staff   6.7K Aug  3 12:59 \u001b[31mSubset WSC Basins HUC10.ipynb\u001b[m\u001b[m\n",
      "-rwx------  1 barnhatb  staff   8.3K Aug  3 12:59 \u001b[31mSubset WSC Basins HUC8.ipynb\u001b[m\u001b[m\n",
      "-rwx------  1 barnhatb  staff    40K Aug  3 12:59 \u001b[31mSubsetting ecoregions 1.ipynb\u001b[m\u001b[m\n",
      "-rwx------  1 barnhatb  staff   8.0K Aug  3 12:59 \u001b[31mSubsetting ecoregions 2.ipynb\u001b[m\u001b[m\n",
      "-rwx------  1 barnhatb  staff   6.2K Aug  3 12:59 \u001b[31mSubsetting ecoregions 3.ipynb\u001b[m\u001b[m\n",
      "-rwx------  1 barnhatb  staff   6.2K Aug  3 12:59 \u001b[31mSubsetting ecoregions 4.ipynb\u001b[m\u001b[m\n",
      "-rwx------  1 barnhatb  staff   7.3K Aug  3 12:59 \u001b[31mSubsetting ecoregions 5.ipynb\u001b[m\u001b[m\n",
      "-rwx------  1 barnhatb  staff   8.7M Aug  3 12:59 \u001b[31mUncompress VIC Data.ipynb\u001b[m\u001b[m\n",
      "-rwx------  1 barnhatb  staff    31K Aug  3 12:59 \u001b[31mUntitled.ipynb\u001b[m\u001b[m\n",
      "-rwx------  1 barnhatb  staff   181B Aug  3 12:59 \u001b[31mUntitled0.ipynb\u001b[m\u001b[m\n",
      "-rwx------  1 barnhatb  staff   2.7M Aug  3 12:59 \u001b[31mAnalyze Budyko Data Ecoregions All.ipynb\u001b[m\u001b[m\n",
      "-rwx------  1 barnhatb  staff   3.3M Aug  3 12:59 \u001b[31mAnalyze Budyko Data Ecoregions Small.ipynb\u001b[m\u001b[m\n",
      "-rwx------  1 barnhatb  staff   699K Aug  3 12:59 \u001b[31mAnalyze Budyko Data Ecoregions Small2.ipynb\u001b[m\u001b[m\n",
      "-rwx------  1 barnhatb  staff   3.7M Aug  3 12:59 \u001b[31mAnalyze Budyko Data Ecoregions.ipynb\u001b[m\u001b[m\n",
      "-rwx------  1 barnhatb  staff   1.6M Aug  3 12:59 \u001b[31mAnalyze Budyko Data.ipynb\u001b[m\u001b[m\n",
      "-rwx------  1 barnhatb  staff    62K Aug  3 12:59 \u001b[31mAnalyze WSC HUC10.ipynb\u001b[m\u001b[m\n",
      "-rwx------  1 barnhatb  staff   1.1M Aug  3 12:59 \u001b[31mAnalyze WSC HUC8 Interannual Wyear.ipynb\u001b[m\u001b[m\n",
      "-rwx------  1 barnhatb  staff    63K Aug  3 12:59 \u001b[31mAnalyze WSC HUC8 Interannual.ipynb\u001b[m\u001b[m\n",
      "-rwx------  1 barnhatb  staff     0B Aug  3 12:59 \u001b[31mAnalyze WSC HUC8 Interannual.ipynb3PUyvQ\u001b[m\u001b[m\n",
      "-rwx------  1 barnhatb  staff    77K Aug  3 12:59 \u001b[31mAnalyze WSC HUC8.ipynb\u001b[m\u001b[m\n",
      "-rwx------  1 barnhatb  staff    21M Aug  3 12:59 \u001b[31mAnnual Water Flux Processing Method 1.ipynb\u001b[m\u001b[m\n",
      "-rwx------  1 barnhatb  staff    84K Aug  3 12:59 \u001b[31mAnnual Water Flux Processing Method 2.ipynb\u001b[m\u001b[m\n",
      "-rwx------  1 barnhatb  staff   7.6M Aug  3 12:59 \u001b[31mAnnual Water Flux Processing Method 3.ipynb\u001b[m\u001b[m\n",
      "-rwx------  1 barnhatb  staff   6.0K Aug  3 12:59 \u001b[31mCalc_Sf_parallel.ipynb\u001b[m\u001b[m\n",
      "-rwx------  1 barnhatb  staff    14K Aug  3 12:59 \u001b[31mCreate Filenames for Beach.ipynb\u001b[m\u001b[m\n",
      "-rwx------  1 barnhatb  staff    11K Aug  3 12:59 \u001b[31mCreate Files for Doms domain.ipynb\u001b[m\u001b[m\n",
      "-rwx------  1 barnhatb  staff    46K Aug  3 12:59 \u001b[31mCreate Simulation Grid.ipynb\u001b[m\u001b[m\n",
      "-rwx------  1 barnhatb  staff   4.4K Aug  3 12:59 \u001b[31mCrop WSC Basins HUC10.ipynb\u001b[m\u001b[m\n",
      "-rwx------  1 barnhatb  staff   4.8K Aug  3 12:59 \u001b[31mDEM Processing.ipynb\u001b[m\u001b[m\n",
      "-rwx------  1 barnhatb  staff   3.9K Aug  3 12:59 \u001b[31mExport SPL L3 data.ipynb\u001b[m\u001b[m\n",
      "-rwx------  1 barnhatb  staff   389K Aug  3 12:59 \u001b[31mIndex Raster West of Steamboat.ipynb\u001b[m\u001b[m\n",
      "-rwx------  1 barnhatb  staff    18K Aug  3 12:59 \u001b[31mInterannual Processing-Copy1.ipynb\u001b[m\u001b[m\n",
      "-rwx------  1 barnhatb  staff    18K Aug  3 12:59 \u001b[31mInterannual Processing-Copy2.ipynb\u001b[m\u001b[m\n",
      "-rwx------  1 barnhatb  staff    18K Aug  3 12:59 \u001b[31mInterannual Processing.ipynb\u001b[m\u001b[m\n",
      "-rwx------  1 barnhatb  staff     0B Aug  3 12:59 \u001b[31mInterannual Processing.ipynb9QIW55\u001b[m\u001b[m\n",
      "-rwx------  1 barnhatb  staff    12K Aug  3 12:59 \u001b[31mLong-Term P.ipynb\u001b[m\u001b[m\n",
      "-rwx------  1 barnhatb  staff    11K Aug  3 12:59 \u001b[31mLong-Term Q.ipynb\u001b[m\u001b[m\n",
      "-rwx------  1 barnhatb  staff    12K Aug  3 12:59 \u001b[31mLong-Term Runoff Ratio 2.ipynb\u001b[m\u001b[m\n",
      "-rwx------  1 barnhatb  staff   6.8K Aug  3 12:59 \u001b[31mLong-Term Runoff Ratio.ipynb\u001b[m\u001b[m\n",
      "-rwx------  1 barnhatb  staff    48K Aug  3 12:59 \u001b[31mAFX Cell Analysis.ipynb\u001b[m\u001b[m\n",
      "-rwx------  1 barnhatb  staff   7.8K Aug  3 12:59 \u001b[31mASCII Processing II.ipynb\u001b[m\u001b[m\n",
      "-rwx------  1 barnhatb  staff   8.9K Aug  3 12:59 \u001b[31mASCII SWE Processing.ipynb\u001b[m\u001b[m\n",
      "-rwx------  1 barnhatb  staff    18K Aug  3 12:59 \u001b[31mASCII Test.ipynb\u001b[m\u001b[m\n",
      "-rwx------  1 barnhatb  staff   206K Aug  3 12:59 \u001b[31mAnalysis Controls on Slope.ipynb\u001b[m\u001b[m\n",
      "-rwx------  1 barnhatb  staff   1.0M Aug  3 12:59 \u001b[31mAnalyze Budyko Data 2.ipynb\u001b[m\u001b[m\n",
      "-rwx------  1 barnhatb  staff   2.1M Aug  3 12:59 \u001b[31mAnalyze Budyko Data 3.ipynb\u001b[m\u001b[m\n",
      "-rwx------  1 barnhatb  staff   2.3M Aug  3 12:59 \u001b[31mAnalyze Budyko Data Ecoregions All.html\u001b[m\u001b[m\n"
     ]
    }
   ],
   "source": [
    "! ls -lth"
   ]
  },
  {
   "cell_type": "code",
   "execution_count": null,
   "metadata": {
    "collapsed": true
   },
   "outputs": [],
   "source": []
  }
 ],
 "metadata": {
  "kernelspec": {
   "display_name": "Python 2",
   "language": "python",
   "name": "python2"
  },
  "language_info": {
   "codemirror_mode": {
    "name": "ipython",
    "version": 2
   },
   "file_extension": ".py",
   "mimetype": "text/x-python",
   "name": "python",
   "nbconvert_exporter": "python",
   "pygments_lexer": "ipython2",
   "version": "2.7.10"
  }
 },
 "nbformat": 4,
 "nbformat_minor": 0
}
