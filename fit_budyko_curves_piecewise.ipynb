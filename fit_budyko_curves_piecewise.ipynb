{
 "cells": [
  {
   "cell_type": "code",
   "execution_count": 1,
   "metadata": {
    "collapsed": false
   },
   "outputs": [],
   "source": [
    "from budyko import curves as bc\n",
    "import statsmodels.formula.api as smf\n",
    "import matplotlib as mpl\n",
    "import statsmodels.api as sm\n",
    "from palettable.colorbrewer.qualitative import Paired_10 as cbcust\n",
    "regcs = [2,3,1,4,9,7,10,8,5,6] # \n",
    "cbcust2 = []\n",
    "for rc in regcs:\n",
    "    cbcust2.append(cbcust.mpl_colors[rc-1])\n",
    "    \n",
    "# x = x values\n",
    "# x0 = x threshold value p[0]\n",
    "# y0 = y threshold value p[1]\n",
    "# k1 = slope for first section p[2]\n",
    "# k2 = slope for second section p[3]\n",
    "def piecewise_linear(x, x0, y0, k1, k2):\n",
    "    return np.piecewise(x, [x < x0], [lambda x:k1*x + y0-k1*x0, lambda x:k2*x + y0-k2*x0])\n",
    "\n",
    "from scipy import optimize"
   ]
  },
  {
   "cell_type": "code",
   "execution_count": 2,
   "metadata": {
    "collapsed": false
   },
   "outputs": [],
   "source": [
    "regs = [1,2,3,4,6,7,8,9,12,13] # region codes\n",
    "regions = ['Cascades','East Cascades','North Cascades','Sierra','Northern Rockies','Middle Rockies',\n",
    "           'Canadian Rockies','Idaho Batholith','Wasatch',\n",
    "           'Southern Rockies']\n",
    "\n",
    "tmp = pd.read_hdf('./budyko_working_er_all.hdf','df')"
   ]
  },
  {
   "cell_type": "code",
   "execution_count": 3,
   "metadata": {
    "collapsed": false
   },
   "outputs": [],
   "source": [
    "data = tmp[(tmp[\"rc\"]==1) | (tmp[\"rc\"]==2) | (tmp[\"rc\"]==3) | (tmp[\"rc\"]==4) | (tmp[\"rc\"]==6) | (tmp[\"rc\"]==7) | (tmp[\"rc\"]==8) | (tmp[\"rc\"]==9) | (tmp[\"rc\"]==12) | (tmp[\"rc\"]==13)]"
   ]
  },
  {
   "cell_type": "code",
   "execution_count": 4,
   "metadata": {
    "collapsed": false
   },
   "outputs": [
    {
     "name": "stdout",
     "output_type": "stream",
     "text": [
      "frlon\n",
      "PETpenmanvic\n",
      "P\n",
      "ET\n",
      "frlat\n",
      "Sf\n",
      "meanablseason\n",
      "meandosnowfree\n",
      "meanpeakswe\n",
      "meanpeaket\n",
      "meandopeaket\n",
      "lon_x\n",
      "meanablslope\n",
      "lat_x\n",
      "meandopeakswe\n",
      "infilt\n",
      "fs_active\n",
      "l1_quartz\n",
      "l3_Wpwp_FRACT\n",
      "l3_bulkD\n",
      "l3_init_moist\n",
      "annual_prec\n",
      "l2_soil_density\n",
      "l2_Ksat\n",
      "rough\n",
      "l2_Wcr_FRACT\n",
      "l2_depth\n",
      "l2_quartz\n",
      "l1_phi_s\n",
      "l3_bubble\n",
      "l1_expt\n",
      "Ws\n",
      "l1_Ksat\n",
      "l1_soil_density\n",
      "l1_resid_moisture\n",
      "l2_phi_s\n",
      "l2_init_moist\n",
      "l2_expt\n",
      "l1_init_moist\n",
      "l1_depth\n",
      "off_gmt\n",
      "l3_expt\n",
      "l3_depth\n",
      "Dsmax\n",
      "l1_Wpwp_FRACT\n",
      "l3_resid_moisture\n",
      "avg_T\n",
      "l3_soil_density\n",
      "l3_phi_s\n",
      "dp\n",
      "c\n",
      "l2_bulkD\n",
      "l2_bubble\n",
      "l2_Wpwp_FRACT\n",
      "l3_Ksat\n",
      "l3_quartz\n",
      "Ds\n",
      "l1_bulkD\n",
      "l1_bubble\n",
      "l2_resid_moisture\n",
      "elev\n",
      "snow_rough\n",
      "l1_Wcr_FRACT\n",
      "l3_Wcr_FRACT\n",
      "slope\n",
      "rsquared_adj\n",
      "intercept\n",
      "rsquared\n",
      "pvalue\n",
      "w_flux\n",
      "w_flux2\n",
      "w_flux3\n",
      "snowmelt\n",
      "Sf2\n",
      "Sf1\n",
      "Sf_2\n",
      "Sf_1\n",
      "wflux4\n",
      "wflux5\n",
      "rain\n",
      "netSM\n",
      "seas\n",
      "MAT\n",
      "RR_pval\n",
      "RR_intercept\n",
      "RR_slope\n",
      "RR_rsqrd\n",
      "bf\n",
      "sm3\n",
      "sm2\n",
      "sm1\n",
      "prate\n",
      "rr\n",
      "Tmean\n",
      "idx\n",
      "spaidx\n",
      "lat_y\n",
      "lon_y\n",
      "DEMelev\n",
      "idx2\n",
      "rc\n"
     ]
    }
   ],
   "source": [
    "for c in data.columns:\n",
    "    print c"
   ]
  },
  {
   "cell_type": "code",
   "execution_count": 5,
   "metadata": {
    "collapsed": false
   },
   "outputs": [],
   "source": [
    "d = data[['PETpenmanvic','P','ET','snowmelt','bf','rc','rr']].copy()"
   ]
  },
  {
   "cell_type": "code",
   "execution_count": 29,
   "metadata": {
    "collapsed": false
   },
   "outputs": [
    {
     "data": {
      "image/png": "[encoded data removed]",
      "text/plain": [
       "<matplotlib.figure.Figure at 0x116c5ff10>"
      ]
     },
     "metadata": {},
     "output_type": "display_data"
    }
   ],
   "source": [
    "plt.hist(d.P.as_matrix(),100);"
   ]
  },
  {
   "cell_type": "code",
   "execution_count": 6,
   "metadata": {
    "collapsed": false
   },
   "outputs": [],
   "source": [
    "d['ET_P'] = d['ET']/d[\"P\"]"
   ]
  },
  {
   "cell_type": "code",
   "execution_count": 7,
   "metadata": {
    "collapsed": true
   },
   "outputs": [],
   "source": [
    "d['PET_P'] = d['PETpenmanvic']/d['P']"
   ]
  },
  {
   "cell_type": "code",
   "execution_count": 8,
   "metadata": {
    "collapsed": false
   },
   "outputs": [],
   "source": [
    "X = np.array([d.P,d.PETpenmanvic]) # split out PET and P for parameter estimation"
   ]
  },
  {
   "cell_type": "code",
   "execution_count": 9,
   "metadata": {
    "collapsed": true
   },
   "outputs": [],
   "source": [
    "y = d.ET_P.as_matrix()"
   ]
  },
  {
   "cell_type": "code",
   "execution_count": 10,
   "metadata": {
    "collapsed": true
   },
   "outputs": [],
   "source": [
    "PET = np.linspace(0.00001,20,10000) # generate a sequence of PET and P to plot the budyko curves\n",
    "P = np.linspace(1,2,10000)"
   ]
  },
  {
   "cell_type": "code",
   "execution_count": 11,
   "metadata": {
    "collapsed": false
   },
   "outputs": [],
   "source": [
    "X2 = np.array([P,PET])"
   ]
  },
  {
   "cell_type": "code",
   "execution_count": 12,
   "metadata": {
    "collapsed": true
   },
   "outputs": [],
   "source": [
    "curves = pd.DataFrame({'PET':PET,'P':P})\n",
    "curves['PET_P'] = curves['PET']/curves['P']"
   ]
  },
  {
   "cell_type": "code",
   "execution_count": 13,
   "metadata": {
    "collapsed": false
   },
   "outputs": [
    {
     "name": "stdout",
     "output_type": "stream",
     "text": [
      "Warning: Parameter out of range 0 < k <= 1.\n"
     ]
    }
   ],
   "source": [
    "n = bc.fit_mcy(X,y)\n",
    "omega = bc.fit_fuzhang(X,y)\n",
    "w = bc.fit_zhang(X,y)\n",
    "k = bc.fit_zhou(X,y)"
   ]
  },
  {
   "cell_type": "code",
   "execution_count": 14,
   "metadata": {
    "collapsed": false
   },
   "outputs": [],
   "source": [
    "curves['schreiber'] = bc.schreiber(X2)\n",
    "curves['oldekop'] = bc.oldekop(X2)\n",
    "curves['turc_pike'] = bc.turc_pike(X2)\n",
    "curves['budyko'] = bc.budyko(X2)\n",
    "curves['myc'] = bc.mcy(X2,n)\n",
    "curves['fuzhang'] = bc.fuzhang(X2,omega)\n",
    "curves['zhang'] = bc.zhang(X2,w)\n",
    "curves['sharif'] = bc.sharif(X2)\n",
    "curves['zhou'] = bc.zhou(X2,k)"
   ]
  },
  {
   "cell_type": "code",
   "execution_count": 15,
   "metadata": {
    "collapsed": false
   },
   "outputs": [
    {
     "data": {
      "text/plain": [
       "(0, 4)"
      ]
     },
     "execution_count": 15,
     "metadata": {},
     "output_type": "execute_result"
    },
    {
     "data": {
      "image/png": "[encoded data removed]",
      "text/plain": [
       "<matplotlib.figure.Figure at 0x116c76cd0>"
      ]
     },
     "metadata": {},
     "output_type": "display_data"
    }
   ],
   "source": [
    "fig = plt.figure(figsize=(10,5))\n",
    "ax = fig.add_subplot(111)\n",
    "\n",
    "ax.plot(d.PETpenmanvic/d.P,d.ET_P,'.',c='0.8',label='VIC data')\n",
    "\n",
    "ax.plot(curves.PET_P,curves.schreiber,'-',label='schreiber',lw=2)\n",
    "ax.plot(curves.PET_P,curves.oldekop,'-',label='oldekop',lw=2)\n",
    "ax.plot(curves.PET_P,curves.turc_pike,'-',label='turc-pike',lw=2)\n",
    "ax.plot(curves.PET_P,curves.budyko,'-',label='budyko',lw=4)\n",
    "ax.plot(curves.PET_P,curves.myc,'-',label='MYC',lw=2)\n",
    "ax.plot(curves.PET_P,curves.fuzhang,'-',label='fuzhang',lw=2)\n",
    "ax.plot(curves.PET_P,curves.zhang,'-',label='zhang',lw=2)\n",
    "ax.plot(curves.PET_P,curves.sharif,'--',label='sharif',lw=2)\n",
    "ax.plot(curves.PET_P,curves.zhou,'--',label='zhou',lw=2)\n",
    "\n",
    "ax.legend(loc ='lower right')\n",
    "ax.set_xlabel('Aridity Index', fontsize = 16)\n",
    "ax.set_ylabel('Dryness Index', fontsize = 16)\n",
    "\n",
    "ax.set_ylim(0,1.2)\n",
    "ax.set_xlim(0,4)"
   ]
  },
  {
   "cell_type": "code",
   "execution_count": 16,
   "metadata": {
    "collapsed": false
   },
   "outputs": [],
   "source": [
    "mean_bc = curves.schreiber.as_matrix()+curves.oldekop.as_matrix()+curves.turc_pike.as_matrix()+curves.budyko.as_matrix()+curves.myc.as_matrix()+curves.fuzhang.as_matrix()+curves.zhang.as_matrix()+curves.sharif.as_matrix()+curves.zhou.as_matrix()\n",
    "mean_bc /= 9"
   ]
  },
  {
   "cell_type": "code",
   "execution_count": 17,
   "metadata": {
    "collapsed": false
   },
   "outputs": [
    {
     "data": {
      "text/plain": [
       "0.19489529557809926"
      ]
     },
     "execution_count": 17,
     "metadata": {},
     "output_type": "execute_result"
    }
   ],
   "source": [
    "np.percentile(mean_bc,0.95)"
   ]
  },
  {
   "cell_type": "code",
   "execution_count": 18,
   "metadata": {
    "collapsed": false
   },
   "outputs": [],
   "source": [
    "# calculate estimates of ET/P for each cell for each equation\n",
    "d['schreiber'] = bc.schreiber(X)\n",
    "d['oldekop'] = bc.oldekop(X)\n",
    "d['turc_pike'] = bc.turc_pike(X)\n",
    "d['budyko'] = bc.budyko(X)\n",
    "d['myc'] = bc.mcy(X,n)\n",
    "d['fuzhang'] = bc.fuzhang(X,omega)\n",
    "d['zhang'] = bc.zhang(X,w)\n",
    "d['sharif'] = bc.sharif(X)\n",
    "d['zhou'] = bc.zhou(X,k)"
   ]
  },
  {
   "cell_type": "code",
   "execution_count": 19,
   "metadata": {
    "collapsed": true
   },
   "outputs": [],
   "source": [
    "# compute residuals\n",
    "d['schreiber_resid'] = d.ET_P - d.schreiber\n",
    "d['oldekop_resid'] = d.ET_P - d.oldekop\n",
    "d['turc_pike_resid'] = d.ET_P - d.turc_pike\n",
    "d['budyko_resid'] = d.ET_P - d.budyko\n",
    "d['myc_resid'] = d.ET_P - d.myc\n",
    "d['fuzhang_resid'] = d.ET_P - d.fuzhang\n",
    "d['zhang_resid'] = d.ET_P - d.zhang\n",
    "d['sharif_resid'] = d.ET_P - d.sharif\n",
    "d['zhou_resid'] = d.ET_P - d.zhou"
   ]
  },
  {
   "cell_type": "code",
   "execution_count": 20,
   "metadata": {
    "collapsed": false
   },
   "outputs": [],
   "source": [
    "ET_P_bar = d.ET_P.mean()\n",
    "SST = np.sum(np.square(d.ET_P-ET_P_bar))\n",
    "\n",
    "methods = ['schreiber','oldekop','turc_pike','budyko','myc','fuzhang','zhang','sharif','zhou']\n",
    "resids = ['schreiber_resid','oldekop_resid','turc_pike_resid','budyko_resid','myc_resid','fuzhang_resid','zhang_resid',\n",
    "          'sharif_resid','zhou_resid']\n",
    "obfx = pd.DataFrame({'curve_r2':np.zeros(len(methods))},index=methods)\n",
    "obfx['curve_rmse'] = np.nan\n",
    "for m,r in zip(methods,resids):\n",
    "    SSRes = np.sum(np.square(d[r]))\n",
    "    obfx.loc[m,'curve_r2'] = 1-(SSRes/SST)\n",
    "    obfx.loc[m,'curve_rmse'] = np.sqrt(np.sum(np.square(d[r]))/len(d[r]))"
   ]
  },
  {
   "cell_type": "code",
   "execution_count": 21,
   "metadata": {
    "collapsed": true
   },
   "outputs": [],
   "source": [
    "# compute anomalies\n",
    "anom = ['schreiber_anom','oldekop_anom','turc_pike_anom','budyko_anom','myc_anom','fuzhang_anom','zhang_anom',\n",
    "          'sharif_anom','zhou_anom']\n",
    "for m,a in zip(methods,anom):\n",
    "    d[a] = (1-d['ET_P'])-(1-d[m])\n",
    "    "
   ]
  },
  {
   "cell_type": "code",
   "execution_count": 22,
   "metadata": {
    "collapsed": false
   },
   "outputs": [],
   "source": [
    "mean_anom = d.schreiber_anom.as_matrix()+d.oldekop_anom.as_matrix()+d.turc_pike_anom.as_matrix()+d.budyko_anom.as_matrix()+\\\n",
    "d.myc_anom.as_matrix()+d.fuzhang_anom.as_matrix()+d.zhang_anom.as_matrix()+d.sharif_anom.as_matrix()+d.zhou_anom.as_matrix()\n",
    "mean_anom /= 9"
   ]
  },
  {
   "cell_type": "code",
   "execution_count": 23,
   "metadata": {
    "collapsed": false
   },
   "outputs": [
    {
     "ename": "NameError",
     "evalue": "name 'p' is not defined",
     "output_type": "error",
     "traceback": [
      "\u001b[0;31m---------------------------------------------------------------------------\u001b[0m",
      "\u001b[0;31mNameError\u001b[0m                                 Traceback (most recent call last)",
      "\u001b[0;32m<ipython-input-23-54f54c510aa4>\u001b[0m in \u001b[0;36m<module>\u001b[0;34m()\u001b[0m\n\u001b[1;32m      1\u001b[0m \u001b[0;31m# test a piecewise regression\u001b[0m\u001b[0;34m\u001b[0m\u001b[0;34m\u001b[0m\u001b[0m\n\u001b[1;32m      2\u001b[0m \u001b[0mX\u001b[0m \u001b[0;34m=\u001b[0m \u001b[0mnp\u001b[0m\u001b[0;34m.\u001b[0m\u001b[0mlinspace\u001b[0m\u001b[0;34m(\u001b[0m\u001b[0mtmp\u001b[0m\u001b[0;34m.\u001b[0m\u001b[0msnowmelt\u001b[0m\u001b[0;34m.\u001b[0m\u001b[0mmin\u001b[0m\u001b[0;34m(\u001b[0m\u001b[0;34m)\u001b[0m\u001b[0;34m,\u001b[0m\u001b[0mtmp\u001b[0m\u001b[0;34m.\u001b[0m\u001b[0msnowmelt\u001b[0m\u001b[0;34m.\u001b[0m\u001b[0mmax\u001b[0m\u001b[0;34m(\u001b[0m\u001b[0;34m)\u001b[0m\u001b[0;34m,\u001b[0m\u001b[0;36m500\u001b[0m\u001b[0;34m)\u001b[0m\u001b[0;34m\u001b[0m\u001b[0m\n\u001b[0;32m----> 3\u001b[0;31m \u001b[0myy\u001b[0m \u001b[0;34m=\u001b[0m \u001b[0mpiecewise_linear\u001b[0m\u001b[0;34m(\u001b[0m\u001b[0mX\u001b[0m\u001b[0;34m,\u001b[0m\u001b[0;34m*\u001b[0m\u001b[0mp\u001b[0m\u001b[0;34m)\u001b[0m\u001b[0;34m\u001b[0m\u001b[0m\n\u001b[0m\u001b[1;32m      4\u001b[0m \u001b[0mplt\u001b[0m\u001b[0;34m.\u001b[0m\u001b[0mplot\u001b[0m\u001b[0;34m(\u001b[0m\u001b[0mtmp\u001b[0m\u001b[0;34m.\u001b[0m\u001b[0msnowmelt\u001b[0m\u001b[0;34m,\u001b[0m\u001b[0mtmp\u001b[0m\u001b[0;34m.\u001b[0m\u001b[0mmean_anom\u001b[0m\u001b[0;34m,\u001b[0m\u001b[0;34m'.k'\u001b[0m\u001b[0;34m,\u001b[0m\u001b[0malpha\u001b[0m \u001b[0;34m=\u001b[0m \u001b[0;36m0.05\u001b[0m\u001b[0;34m)\u001b[0m\u001b[0;34m\u001b[0m\u001b[0m\n\u001b[1;32m      5\u001b[0m \u001b[0;34m\u001b[0m\u001b[0m\n",
      "\u001b[0;31mNameError\u001b[0m: name 'p' is not defined"
     ]
    }
   ],
   "source": [
    "# test a piecewise regression\n",
    "X = np.linspace(tmp.snowmelt.min(),tmp.snowmelt.max(),500)\n",
    "yy = piecewise_linear(X,*p)\n",
    "plt.plot(tmp.snowmelt,tmp.mean_anom,'.k',alpha = 0.05)\n",
    "\n",
    "plt.plot(X,yy,'-r')\n",
    "#plt.plot(tmp.snowmelt,mod.fittedvalues,'.r')\n",
    "plt.axvline(p[0],c='g')\n",
    "plt.axhline(p[1],c='b')\n",
    "\n",
    "tx = np.arange(0,25,1)\n",
    "plt.plot(tx,tx*p[2],'-c')\n",
    "plt.plot(tx,tx*p[3],'-c')"
   ]
  },
  {
   "cell_type": "code",
   "execution_count": 24,
   "metadata": {
    "collapsed": false
   },
   "outputs": [
    {
     "ename": "NameError",
     "evalue": "name 'p' is not defined",
     "output_type": "error",
     "traceback": [
      "\u001b[0;31m---------------------------------------------------------------------------\u001b[0m",
      "\u001b[0;31mNameError\u001b[0m                                 Traceback (most recent call last)",
      "\u001b[0;32m<ipython-input-24-e2dbdcf2f9c7>\u001b[0m in \u001b[0;36m<module>\u001b[0;34m()\u001b[0m\n\u001b[1;32m      1\u001b[0m \u001b[0;31m# Examine residuals\u001b[0m\u001b[0;34m\u001b[0m\u001b[0;34m\u001b[0m\u001b[0m\n\u001b[0;32m----> 2\u001b[0;31m \u001b[0mplt\u001b[0m\u001b[0;34m.\u001b[0m\u001b[0mplot\u001b[0m\u001b[0;34m(\u001b[0m\u001b[0mtmp\u001b[0m\u001b[0;34m.\u001b[0m\u001b[0msnowmelt\u001b[0m\u001b[0;34m,\u001b[0m\u001b[0my\u001b[0m\u001b[0;34m-\u001b[0m\u001b[0mpiecewise_linear\u001b[0m\u001b[0;34m(\u001b[0m\u001b[0mtmp\u001b[0m\u001b[0;34m.\u001b[0m\u001b[0msnowmelt\u001b[0m\u001b[0;34m.\u001b[0m\u001b[0mas_matrix\u001b[0m\u001b[0;34m(\u001b[0m\u001b[0;34m)\u001b[0m\u001b[0;34m,\u001b[0m\u001b[0;34m*\u001b[0m\u001b[0mp\u001b[0m\u001b[0;34m)\u001b[0m\u001b[0;34m,\u001b[0m\u001b[0;34m'.'\u001b[0m\u001b[0;34m)\u001b[0m\u001b[0;34m\u001b[0m\u001b[0m\n\u001b[0m\u001b[1;32m      3\u001b[0m \u001b[0mplt\u001b[0m\u001b[0;34m.\u001b[0m\u001b[0maxhline\u001b[0m\u001b[0;34m(\u001b[0m\u001b[0;36m0\u001b[0m\u001b[0;34m,\u001b[0m\u001b[0mc\u001b[0m\u001b[0;34m=\u001b[0m\u001b[0;34m'k'\u001b[0m\u001b[0;34m)\u001b[0m\u001b[0;34m\u001b[0m\u001b[0m\n\u001b[1;32m      4\u001b[0m \u001b[0mplt\u001b[0m\u001b[0;34m.\u001b[0m\u001b[0mxlim\u001b[0m\u001b[0;34m(\u001b[0m\u001b[0;36m0\u001b[0m\u001b[0;34m,\u001b[0m\u001b[0;36m22\u001b[0m\u001b[0;34m)\u001b[0m\u001b[0;34m\u001b[0m\u001b[0m\n\u001b[1;32m      5\u001b[0m \u001b[0mplt\u001b[0m\u001b[0;34m.\u001b[0m\u001b[0mylim\u001b[0m\u001b[0;34m(\u001b[0m\u001b[0;34m-\u001b[0m\u001b[0;36m0.5\u001b[0m\u001b[0;34m,\u001b[0m\u001b[0;36m0.5\u001b[0m\u001b[0;34m)\u001b[0m\u001b[0;34m\u001b[0m\u001b[0m\n",
      "\u001b[0;31mNameError\u001b[0m: name 'p' is not defined"
     ]
    }
   ],
   "source": [
    "# Examine residuals\n",
    "plt.plot(tmp.snowmelt,y-piecewise_linear(tmp.snowmelt.as_matrix(),*p),'.')\n",
    "plt.axhline(0,c='k')\n",
    "plt.xlim(0,22)\n",
    "plt.ylim(-0.5,0.5)"
   ]
  },
  {
   "cell_type": "code",
   "execution_count": 25,
   "metadata": {
    "collapsed": false
   },
   "outputs": [
    {
     "name": "stdout",
     "output_type": "stream",
     "text": [
      "Fitting schreiber_anom\n",
      "Fitting oldekop_anom\n",
      "Fitting turc_pike_anom\n",
      "Fitting budyko_anom\n",
      "Fitting fuzhang_anom\n",
      "Fitting zhang_anom\n",
      "Fitting sharif_anom\n",
      "Fitting zhou_anom\n"
     ]
    },
    {
     "name": "stderr",
     "output_type": "stream",
     "text": [
      "/Users/barnhatb/anaconda/lib/python2.7/site-packages/scipy/optimize/minpack.py:604: OptimizeWarning: Covariance of the parameters could not be estimated\n",
      "  category=OptimizeWarning)\n"
     ]
    }
   ],
   "source": [
    "# fit piecewise regression for all methods\n",
    "obfx2 = pd.DataFrame()\n",
    "for m,a in zip(methods,anom):\n",
    "    p,e = optimize.curve_fit(piecewise_linear,d.snowmelt.as_matrix(),d[a].as_matrix())\n",
    "    \n",
    "    if (p[0]<0) or (p[0]>d.snowmelt.max()): # if the break is negative, fit one linear regression\n",
    "        X = d.snowmelt.as_matrix()\n",
    "        X = sm.add_constant(X)\n",
    "        y = d[a].as_matrix()\n",
    "        m1 = sm.OLS(y,X).fit()\n",
    "        obfx2.loc[m,'breakx'] = np.NaN\n",
    "        obfx2.loc[m,'breaky'] = np.NaN\n",
    "        obfx2.loc[m,'b1'] = m1.params[1]\n",
    "        obfx2.loc[m,'b2'] = np.NaN\n",
    "        obfx2.loc[m,'r2'] = m1.rsquared\n",
    "        obfx2.loc[m,'s1'] = 1.\n",
    "        obfx2.loc[m,'s2'] = np.NaN\n",
    "        continue\n",
    "        \n",
    "    obfx2.loc[m,'breakx'] = p[0]\n",
    "    obfx2.loc[m,'breaky'] = p[1]\n",
    "    obfx2.loc[m,'b1'] = p[2]\n",
    "    obfx2.loc[m,'b2'] = p[3]\n",
    "    \n",
    "    SST = np.sum(np.square(d[a]-d[a].mean())) # compute SST\n",
    "    \n",
    "    # calculate r2\n",
    "    yy = piecewise_linear(d.snowmelt.as_matrix(),*p)\n",
    "    resid = d[a].as_matrix()-yy\n",
    "    \n",
    "    SSRes = np.sum(np.square(resid))\n",
    "    obfx2.loc[m,'r2'] = 1-(SSRes/SST)\n",
    "    obfx2.loc[m,'rmse'] = np.sqrt(np.sum(np.square(resid))/len(resid))\n",
    "    \n",
    "    X = d.snowmelt.as_matrix()\n",
    "        \n",
    "    obfx2.loc[m,'s1'] = len(X[X<p[0]])/float(len(X))\n",
    "    obfx2.loc[m,'s2'] = len(X[X>=p[0]])/float(len(X))\n",
    "    print 'Fitting '+a"
   ]
  },
  {
   "cell_type": "code",
   "execution_count": 26,
   "metadata": {
    "collapsed": false
   },
   "outputs": [],
   "source": [
    "# fit baseflow efficiency streamflow anomaly curves\n",
    "# but in obfx2 data frame with the piecewise regressions\n",
    "d['bf_P'] = d.bf/d.P\n",
    "for m,a in zip(methods,anom):\n",
    "    m1 = sm.formula.ols(a+' ~ bf_P +1',d).fit()\n",
    "    obfx2.loc[m,'slope_bf_P'] = m1.params['bf_P']\n",
    "    obfx2.loc[m,'intercept_bf_P'] = m1.params['Intercept']\n",
    "    obfx2.loc[m,'lin_r2_bf_P'] = m1.rsquared\n",
    "    obfx2.loc[m,'lin_pval_bf_P'] = m1.f_pvalue"
   ]
  },
  {
   "cell_type": "code",
   "execution_count": 27,
   "metadata": {
    "collapsed": false
   },
   "outputs": [
    {
     "data": {
      "text/plain": [
       "0      2.317366\n",
       "1      2.300832\n",
       "2      2.476741\n",
       "3      2.629906\n",
       "4      2.320753\n",
       "5      2.486159\n",
       "6      2.514384\n",
       "7      2.456168\n",
       "8      2.495076\n",
       "9      2.504043\n",
       "10     2.379419\n",
       "11     2.452743\n",
       "12     2.616761\n",
       "13     2.459760\n",
       "14     2.366754\n",
       "15     2.702726\n",
       "16     2.556492\n",
       "17     2.093205\n",
       "18     2.426181\n",
       "19     2.402855\n",
       "20     2.390473\n",
       "21     2.712428\n",
       "22     2.639729\n",
       "23     2.415373\n",
       "24     2.407840\n",
       "25     2.481266\n",
       "26     2.647131\n",
       "27     2.410066\n",
       "28     2.240955\n",
       "29     2.054088\n",
       "         ...   \n",
       "871    3.956198\n",
       "872    2.920380\n",
       "873    2.341584\n",
       "874    2.198771\n",
       "875    2.138039\n",
       "876    2.131060\n",
       "877    1.995772\n",
       "878    2.179457\n",
       "879    2.263191\n",
       "880    2.703246\n",
       "881    3.073958\n",
       "882    4.081568\n",
       "883    3.949136\n",
       "884    4.017766\n",
       "885    3.895282\n",
       "886    4.367691\n",
       "887    5.063093\n",
       "888    4.412128\n",
       "889    4.757856\n",
       "890    4.981433\n",
       "891    4.290989\n",
       "892    4.638658\n",
       "893    4.950250\n",
       "894    5.068653\n",
       "895    5.510510\n",
       "896    5.890827\n",
       "897    6.484263\n",
       "898    6.406709\n",
       "899    6.063589\n",
       "900    5.561098\n",
       "Name: rr, dtype: float64"
      ]
     },
     "execution_count": 27,
     "metadata": {},
     "output_type": "execute_result"
    }
   ],
   "source": [
    "d.rr"
   ]
  },
  {
   "cell_type": "code",
   "execution_count": null,
   "metadata": {
    "collapsed": true
   },
   "outputs": [],
   "source": [
    "d['runoff'] = d.rr"
   ]
  },
  {
   "cell_type": "code",
   "execution_count": 78,
   "metadata": {
    "collapsed": true
   },
   "outputs": [],
   "source": [
    "#obfx.to_excel('./figures/fit_curves_table.xlsx')"
   ]
  },
  {
   "cell_type": "code",
   "execution_count": 114,
   "metadata": {
    "collapsed": false
   },
   "outputs": [
    {
     "data": {
      "text/html": [
       "<div>\n",
       "<table border=\"1\" class=\"dataframe\">\n",
       "  <thead>\n",
       "    <tr style=\"text-align: right;\">\n",
       "      <th></th>\n",
       "      <th>breakx</th>\n",
       "      <th>breaky</th>\n",
       "      <th>b1</th>\n",
       "      <th>b2</th>\n",
       "      <th>r2</th>\n",
       "      <th>rmse</th>\n",
       "      <th>s1</th>\n",
       "      <th>s2</th>\n",
       "      <th>slope_bf_P</th>\n",
       "      <th>intercept_bf_P</th>\n",
       "      <th>lin_r2_bf_P</th>\n",
       "      <th>lin_pval_bf_P</th>\n",
       "    </tr>\n",
       "  </thead>\n",
       "  <tbody>\n",
       "    <tr>\n",
       "      <th>schreiber</th>\n",
       "      <td>10.726300</td>\n",
       "      <td>0.149023</td>\n",
       "      <td>0.017217</td>\n",
       "      <td>0.001319</td>\n",
       "      <td>0.278436</td>\n",
       "      <td>0.079904</td>\n",
       "      <td>0.950108</td>\n",
       "      <td>0.049892</td>\n",
       "      <td>0.422414</td>\n",
       "      <td>-0.049480</td>\n",
       "      <td>0.451128</td>\n",
       "      <td>0</td>\n",
       "    </tr>\n",
       "    <tr>\n",
       "      <th>oldekop</th>\n",
       "      <td>5.106147</td>\n",
       "      <td>0.189552</td>\n",
       "      <td>0.041618</td>\n",
       "      <td>0.006192</td>\n",
       "      <td>0.438083</td>\n",
       "      <td>0.081845</td>\n",
       "      <td>0.672722</td>\n",
       "      <td>0.327278</td>\n",
       "      <td>0.552679</td>\n",
       "      <td>0.010242</td>\n",
       "      <td>0.573219</td>\n",
       "      <td>0</td>\n",
       "    </tr>\n",
       "    <tr>\n",
       "      <th>turc_pike</th>\n",
       "      <td>7.141202</td>\n",
       "      <td>0.176485</td>\n",
       "      <td>0.028359</td>\n",
       "      <td>0.003493</td>\n",
       "      <td>0.396702</td>\n",
       "      <td>0.079846</td>\n",
       "      <td>0.817295</td>\n",
       "      <td>0.182705</td>\n",
       "      <td>0.516802</td>\n",
       "      <td>-0.020866</td>\n",
       "      <td>0.565407</td>\n",
       "      <td>0</td>\n",
       "    </tr>\n",
       "    <tr>\n",
       "      <th>budyko</th>\n",
       "      <td>5.533111</td>\n",
       "      <td>0.130031</td>\n",
       "      <td>0.028725</td>\n",
       "      <td>0.008489</td>\n",
       "      <td>0.353205</td>\n",
       "      <td>0.080090</td>\n",
       "      <td>0.709853</td>\n",
       "      <td>0.290147</td>\n",
       "      <td>0.482380</td>\n",
       "      <td>-0.020177</td>\n",
       "      <td>0.524903</td>\n",
       "      <td>0</td>\n",
       "    </tr>\n",
       "    <tr>\n",
       "      <th>myc</th>\n",
       "      <td>NaN</td>\n",
       "      <td>NaN</td>\n",
       "      <td>0.022212</td>\n",
       "      <td>NaN</td>\n",
       "      <td>0.441930</td>\n",
       "      <td>NaN</td>\n",
       "      <td>1.000000</td>\n",
       "      <td>NaN</td>\n",
       "      <td>0.577706</td>\n",
       "      <td>-0.112208</td>\n",
       "      <td>0.661443</td>\n",
       "      <td>0</td>\n",
       "    </tr>\n",
       "    <tr>\n",
       "      <th>fuzhang</th>\n",
       "      <td>8.799675</td>\n",
       "      <td>0.135857</td>\n",
       "      <td>0.027755</td>\n",
       "      <td>0.004634</td>\n",
       "      <td>0.474638</td>\n",
       "      <td>0.077567</td>\n",
       "      <td>0.892108</td>\n",
       "      <td>0.107892</td>\n",
       "      <td>0.585351</td>\n",
       "      <td>-0.113799</td>\n",
       "      <td>0.669316</td>\n",
       "      <td>0</td>\n",
       "    </tr>\n",
       "    <tr>\n",
       "      <th>zhang</th>\n",
       "      <td>9.422729</td>\n",
       "      <td>0.127869</td>\n",
       "      <td>0.024083</td>\n",
       "      <td>0.004746</td>\n",
       "      <td>0.421537</td>\n",
       "      <td>0.078035</td>\n",
       "      <td>0.915728</td>\n",
       "      <td>0.084272</td>\n",
       "      <td>0.538258</td>\n",
       "      <td>-0.108752</td>\n",
       "      <td>0.615707</td>\n",
       "      <td>0</td>\n",
       "    </tr>\n",
       "    <tr>\n",
       "      <th>sharif</th>\n",
       "      <td>8.595562</td>\n",
       "      <td>0.208647</td>\n",
       "      <td>0.039713</td>\n",
       "      <td>0.009194</td>\n",
       "      <td>0.651786</td>\n",
       "      <td>0.077135</td>\n",
       "      <td>0.883651</td>\n",
       "      <td>0.116349</td>\n",
       "      <td>0.803078</td>\n",
       "      <td>-0.133316</td>\n",
       "      <td>0.844397</td>\n",
       "      <td>0</td>\n",
       "    </tr>\n",
       "    <tr>\n",
       "      <th>zhou</th>\n",
       "      <td>8.905091</td>\n",
       "      <td>0.157804</td>\n",
       "      <td>0.036379</td>\n",
       "      <td>0.008974</td>\n",
       "      <td>0.622137</td>\n",
       "      <td>0.076968</td>\n",
       "      <td>0.896062</td>\n",
       "      <td>0.103938</td>\n",
       "      <td>0.757851</td>\n",
       "      <td>-0.170253</td>\n",
       "      <td>0.819548</td>\n",
       "      <td>0</td>\n",
       "    </tr>\n",
       "  </tbody>\n",
       "</table>\n",
       "</div>"
      ],
      "text/plain": [
       "              breakx    breaky        b1        b2        r2      rmse  \\\n",
       "schreiber  10.726300  0.149023  0.017217  0.001319  0.278436  0.079904   \n",
       "oldekop     5.106147  0.189552  0.041618  0.006192  0.438083  0.081845   \n",
       "turc_pike   7.141202  0.176485  0.028359  0.003493  0.396702  0.079846   \n",
       "budyko      5.533111  0.130031  0.028725  0.008489  0.353205  0.080090   \n",
       "myc              NaN       NaN  0.022212       NaN  0.441930       NaN   \n",
       "fuzhang     8.799675  0.135857  0.027755  0.004634  0.474638  0.077567   \n",
       "zhang       9.422729  0.127869  0.024083  0.004746  0.421537  0.078035   \n",
       "sharif      8.595562  0.208647  0.039713  0.009194  0.651786  0.077135   \n",
       "zhou        8.905091  0.157804  0.036379  0.008974  0.622137  0.076968   \n",
       "\n",
       "                 s1        s2  slope_bf_P  intercept_bf_P  lin_r2_bf_P  \\\n",
       "schreiber  0.950108  0.049892    0.422414       -0.049480     0.451128   \n",
       "oldekop    0.672722  0.327278    0.552679        0.010242     0.573219   \n",
       "turc_pike  0.817295  0.182705    0.516802       -0.020866     0.565407   \n",
       "budyko     0.709853  0.290147    0.482380       -0.020177     0.524903   \n",
       "myc        1.000000       NaN    0.577706       -0.112208     0.661443   \n",
       "fuzhang    0.892108  0.107892    0.585351       -0.113799     0.669316   \n",
       "zhang      0.915728  0.084272    0.538258       -0.108752     0.615707   \n",
       "sharif     0.883651  0.116349    0.803078       -0.133316     0.844397   \n",
       "zhou       0.896062  0.103938    0.757851       -0.170253     0.819548   \n",
       "\n",
       "           lin_pval_bf_P  \n",
       "schreiber              0  \n",
       "oldekop                0  \n",
       "turc_pike              0  \n",
       "budyko                 0  \n",
       "myc                    0  \n",
       "fuzhang                0  \n",
       "zhang                  0  \n",
       "sharif                 0  \n",
       "zhou                   0  "
      ]
     },
     "execution_count": 114,
     "metadata": {},
     "output_type": "execute_result"
    }
   ],
   "source": [
    "obfx2"
   ]
  },
  {
   "cell_type": "raw",
   "metadata": {
    "collapsed": false,
    "scrolled": true
   },
   "source": [
    "# fit equations for each ecoregion\n",
    "cols = [\"rc\",\"zhang_r2\",\"schreiber_r2\",\"oldekop_r2\",\"turc_pike_r2\",\"budyko_r2\",\"mcy_r2\",\"fuzhang_r2\",\n",
    "        \"sharif_r2\",\"zhou_r2\",\"mcy\",\"fuzhang\",\"zhang\",\"zhou\",\"zhang_asmpt\",\"schreiber_asmpt\",\n",
    "        \"oldekop_asmpt\",\"turc_pike_asmpt\",\"budyko_asmpt\",\"mcy_asmpt\",\"fuzhang_asmpt\",\"sharif_asmpt\",\n",
    "        \"zhou_asmpt\",\"mean_sm\",\"zhang_slp\",\"schreiber_slp\",\"oldekop_slp\",\"turc_pike_slp\",\"budyko_slp\",\n",
    "        \"mcy_slp\",\"fuzhang_slp\",\"sharif_slp\",\"zhou_slp\",\"zhang_p\",\"schreiber_p\",\"oldekop_p\",\n",
    "        \"turc_pike_p\",\"budyko_p\",\"mcy_p\",\"fuzhang_p\",\"sharif_p\",\"zhou_p\",\"zhang_int\",\"schreiber_int\",\n",
    "        \"oldekop_int\",\"turc_pike_int\",\"budyko_int\",\"mcy_int\",\"fuzhang_int\",\"sharif_int\",\"zhou_int\"]\n",
    "er_fits = pd.DataFrame(columns=cols)\n",
    "er_fits['rc'] = regs\n",
    "\n",
    "for er in regs:\n",
    "    # extract data for curve fitting\n",
    "    X = np.array([d[d.rc==er].P,d[d.rc==er].PETpenmanvic])\n",
    "    y = d[d.rc==er].ET_P.as_matrix() \n",
    "    SST = np.sum(np.square(y-np.mean(y)))\n",
    "    \n",
    "    # Zhang - param\n",
    "    param = bc.fit_zhang(X,y) # estimate w\n",
    "    model = bc.zhang(X,param) # generate zhang curve\n",
    "    r = (1.-y)-(1.-model) # compute residuals\n",
    "    df = pd.DataFrame({'snowmelt':d.loc[d.rc==er,'snowmelt'],'BA':r}) #construct data frame\n",
    "    m1 = smf.ols('BA ~ snowmelt +1', df).fit() # fit snowmelt rate BA model \n",
    "    er_fits.loc[er_fits.rc == er,'zhang'] = param\n",
    "    er_fits.loc[er_fits.rc == er,'zhang_r2'] = m1.rsquared\n",
    "    er_fits.loc[er_fits.rc == er,'zhang_slp'] = m1.params['snowmelt']\n",
    "    er_fits.loc[er_fits.rc == er,'zhang_p'] = m1.f_pvalue\n",
    "    er_fits.loc[er_fits.rc == er,'zhang_asmpt'] = model.max()\n",
    "    er_fits.loc[er_fits.rc == er,'zhang_int'] = m1.params['Intercept']\n",
    "    #print round(m1.params['snowmelt'],3)\n",
    "    print str(er)+' zhang '+str(m1.params.snowmelt)\n",
    "    \n",
    "    # schreiber\n",
    "    model = bc.schreiber(X) # generate zhang curve\n",
    "    r = (1.-y)-(1.-model) # compute residuals\n",
    "    df = pd.DataFrame({'snowmelt':d.loc[d.rc==er,'snowmelt'],'BA':r}) #construct data frame\n",
    "    m1 = smf.ols('BA ~ snowmelt +1', df).fit() # fit snowmelt rate BA model \n",
    "    er_fits.loc[er_fits.rc == er,'schreiber_r2'] = m1.rsquared\n",
    "    er_fits.loc[er_fits.rc == er,'schreiber_slp'] = m1.params['snowmelt']\n",
    "    er_fits.loc[er_fits.rc == er,'schreiber_p'] = m1.f_pvalue\n",
    "    er_fits.loc[er_fits.rc == er,'schreiber_asmpt'] = model.max()\n",
    "    er_fits.loc[er_fits.rc == er,'schreiber_int'] = m1.params['Intercept']\n",
    "    #print round(m1.params['snowmelt'],3)\n",
    "    print str(er)+' schreiber '+str(m1.params.snowmelt)\n",
    "    \n",
    "    # oldekop\n",
    "    model = bc.oldekop(X) # generate zhang curve\n",
    "    r = (1.-y)-(1.-model) # compute residuals\n",
    "    df = pd.DataFrame({'snowmelt':d.loc[d.rc==er,'snowmelt'],'BA':r}) #construct data frame\n",
    "    m1 = smf.ols('BA ~ snowmelt +1', df).fit() # fit snowmelt rate BA model \n",
    "    er_fits.loc[er_fits.rc == er,'oldekop_r2'] = m1.rsquared\n",
    "    er_fits.loc[er_fits.rc == er,'oldekop_slp'] = m1.params['snowmelt']\n",
    "    er_fits.loc[er_fits.rc == er,'oldekop_p'] = m1.f_pvalue\n",
    "    er_fits.loc[er_fits.rc == er,'oldekop_asmpt'] = model.max()\n",
    "    er_fits.loc[er_fits.rc == er,'oldekop_int'] = m1.params['Intercept']\n",
    "    #print round(m1.params['snowmelt'],3)\n",
    "    print str(er)+' oldekop '+str(m1.params.snowmelt)\n",
    "    \n",
    "    # turc_pike\n",
    "    model = bc.turc_pike(X) # generate zhang curve\n",
    "    r = (1.-y)-(1.-model) # compute residuals\n",
    "    df = pd.DataFrame({'snowmelt':d.loc[d.rc==er,'snowmelt'],'BA':r}) #construct data frame\n",
    "    m1 = smf.ols('BA ~ snowmelt +1', df).fit() # fit snowmelt rate BA model \n",
    "    er_fits.loc[er_fits.rc == er,'turc_pike_r2'] = m1.rsquared\n",
    "    er_fits.loc[er_fits.rc == er,'turc_pike_slp'] = m1.params['snowmelt']\n",
    "    er_fits.loc[er_fits.rc == er,'turc_pike_p'] = m1.f_pvalue\n",
    "    er_fits.loc[er_fits.rc == er,'turc_pike_asmpt'] = model.max()\n",
    "    er_fits.loc[er_fits.rc == er,'turc_pike_int'] = m1.params['Intercept']\n",
    "    #print round(m1.params['snowmelt'],3)\n",
    "    print str(er)+' turc_pike '+str(m1.params.snowmelt)\n",
    "    \n",
    "    # budyko\n",
    "    model = bc.budyko(X) # generate zhang curve\n",
    "    r = (1.-y)-(1.-model) # compute residuals\n",
    "    SSRes = np.sum(np.square(r)) \n",
    "    df = pd.DataFrame({'snowmelt':d.loc[d.rc==er,'snowmelt'],'BA':r}) #construct data frame\n",
    "    m1 = smf.ols('BA ~ snowmelt +1', df).fit() # fit snowmelt rate BA model \n",
    "    er_fits.loc[er_fits.rc == er,'budyko_r2'] = m1.rsquared\n",
    "    er_fits.loc[er_fits.rc == er,'budyko_slp'] = m1.params['snowmelt']\n",
    "    er_fits.loc[er_fits.rc == er,'budyko_p'] = m1.f_pvalue\n",
    "    er_fits.loc[er_fits.rc == er,'budyko_asmpt'] = model.max()\n",
    "    er_fits.loc[er_fits.rc == er,'budyko_int'] = m1.params['Intercept']\n",
    "    #print round(m1.params['snowmelt'],3)\n",
    "    print str(er)+' budyko '+str(m1.params.snowmelt)\n",
    "    \n",
    "    # mcy - param\n",
    "    param = bc.fit_mcy(X,y) # estimate w\n",
    "    model = bc.mcy(X,param) # generate zhang curve\n",
    "    r = (1.-y)-(1.-model) # compute residuals\n",
    "    df = pd.DataFrame({'snowmelt':d.loc[d.rc==er,'snowmelt'],'BA':r}) #construct data frame\n",
    "    m1 = smf.ols('BA ~ snowmelt +1', df).fit() # fit snowmelt rate BA model \n",
    "    er_fits.loc[er_fits.rc == er,'mcy'] = param\n",
    "    er_fits.loc[er_fits.rc == er,'mcy_r2'] = m1.rsquared\n",
    "    er_fits.loc[er_fits.rc == er,'mcy_slp'] = m1.params['snowmelt']\n",
    "    er_fits.loc[er_fits.rc == er,'mcy_p'] = m1.f_pvalue\n",
    "    er_fits.loc[er_fits.rc == er,'mcy_asmpt'] = model.max()\n",
    "    er_fits.loc[er_fits.rc == er,'mcy_int'] = m1.params['Intercept']\n",
    "    #print round(m1.params['snowmelt'],3)\n",
    "    print str(er)+' mcy '+str(m1.params.snowmelt)\n",
    "    \n",
    "    # fuzhang - param\n",
    "    param = bc.fit_fuzhang(X,y) # estimate w\n",
    "    model = bc.fuzhang(X,param) # generate zhang curve\n",
    "    r = (1.-y)-(1.-model) # compute residuals\n",
    "    df = pd.DataFrame({'snowmelt':d.loc[d.rc==er,'snowmelt'],'BA':r}) #construct data frame\n",
    "    m1 = smf.ols('BA ~ snowmelt +1', df).fit() # fit snowmelt rate BA model \n",
    "    er_fits.loc[er_fits.rc == er,'fuzhang'] = param\n",
    "    er_fits.loc[er_fits.rc == er,'fuzhang_r2'] = m1.rsquared\n",
    "    er_fits.loc[er_fits.rc == er,'fuzhang_slp'] = m1.params['snowmelt']\n",
    "    er_fits.loc[er_fits.rc == er,'fuzhang_p'] = m1.f_pvalue\n",
    "    er_fits.loc[er_fits.rc == er,'fuzhang_asmpt'] = model.max()\n",
    "    er_fits.loc[er_fits.rc == er,'fuzhang_int'] = m1.params['Intercept']\n",
    "    #print round(m1.params['snowmelt'],3)\n",
    "    print str(er)+' fuzhang '+str(m1.params.snowmelt)\n",
    "    \n",
    "    # sharif\n",
    "    model = bc.sharif(X) # generate zhang curve\n",
    "    r = (1.-y)-(1.-model) # compute residuals\n",
    "    df = pd.DataFrame({'snowmelt':d.loc[d.rc==er,'snowmelt'],'BA':r}) #construct data frame\n",
    "    m1 = smf.ols('BA ~ snowmelt +1', df).fit() # fit snowmelt rate BA model \n",
    "    er_fits.loc[er_fits.rc == er,'sharif_r2'] = m1.rsquared\n",
    "    er_fits.loc[er_fits.rc == er,'sharif_slp'] = m1.params['snowmelt']\n",
    "    er_fits.loc[er_fits.rc == er,'sharif_p'] = m1.f_pvalue\n",
    "    er_fits.loc[er_fits.rc == er,'sharif_asmpt'] = model.max()\n",
    "    er_fits.loc[er_fits.rc == er,'sharif_int'] = m1.params['Intercept']\n",
    "    #print round(m1.params['snowmelt'],3)\n",
    "    print str(er)+' sharif '+str(m1.params.snowmelt)\n",
    "    \n",
    "    # zhou - param\n",
    "    param = bc.fit_zhou(X,y) # estimate w\n",
    "    model = bc.zhou(X,param) # generate zhang curve\n",
    "    r = (1.-y)-(1.-model) # compute residuals\n",
    "    df = pd.DataFrame({'snowmelt':d.loc[d.rc==er,'snowmelt'],'BA':r}) #construct data frame\n",
    "    m1 = smf.ols('BA ~ snowmelt +1', df).fit() # fit snowmelt rate BA model \n",
    "    er_fits.loc[er_fits.rc == er,'zhou'] = param\n",
    "    er_fits.loc[er_fits.rc == er,'zhou_r2'] = m1.rsquared\n",
    "    er_fits.loc[er_fits.rc == er,'zhou_slp'] = m1.params['snowmelt']\n",
    "    er_fits.loc[er_fits.rc == er,'zhou_p'] = m1.f_pvalue\n",
    "    er_fits.loc[er_fits.rc == er,'zhou_asmpt'] = model.max()\n",
    "    er_fits.loc[er_fits.rc == er,'zhou_int'] = m1.params['Intercept']\n",
    "    #print round(m1.params['snowmelt'],3)\n",
    "    print str(er)+' zhou '+str(m1.params.snowmelt)\n",
    "    \n",
    "    er_fits.loc[er_fits.rc == er,'mean_sm'] = d.loc[d.rc==er,'snowmelt'].mean()\n",
    "    \n"
   ]
  },
  {
   "cell_type": "code",
   "execution_count": 172,
   "metadata": {
    "collapsed": false,
    "scrolled": true
   },
   "outputs": [],
   "source": [
    "# fit piecewise regression to ecoregion\n",
    "#cols = [\"rc\",\"zhang_r2\",\"schreiber_r2\",\"oldekop_r2\",\"turc_pike_r2\",\"budyko_r2\",\"mcy_r2\",\"fuzhang_r2\",\n",
    "#        \"sharif_r2\",\"zhou_r2\",\"mcy\",\"fuzhang\",\"zhang\",\"zhou\",\"zhang_asmpt\",\"schreiber_asmpt\",\n",
    "#        \"oldekop_asmpt\",\"turc_pike_asmpt\",\"budyko_asmpt\",\"mcy_asmpt\",\"fuzhang_asmpt\",\"sharif_asmpt\",\n",
    "#        \"zhou_asmpt\",\"mean_sm\",\"zhang_b1\",\"schreiber_b1\",\"oldekop_b1\",\"turc_pike_b1\",\"budyko_b1\",\n",
    "#        \"mcy_b1\",\"fuzhang_b1\",\"sharif_b1\",\"zhou_b1\",\"zhang_b2\",\"schreiber_b2\",\"oldekop_b2\",\n",
    "#        \"turc_pike_b2\",\"budyko_b2\",\n",
    "#        \"mcy_b2\",\"fuzhang_b2\",\"sharif_b2\",\"zhou_b2\",\"zhang_p\",\"schreiber_p\",\"oldekop_p\",\n",
    "#        \"turc_pike_p\",\"budyko_p\",\"mcy_p\",\"fuzhang_p\",\"sharif_p\",\"zhou_p\",\"zhang_int\",\"schreiber_int\",\n",
    "#        \"oldekop_int\",\"turc_pike_int\",\"budyko_int\",\"mcy_int\",\"fuzhang_int\",\"sharif_int\",\"zhou_int\"]\n",
    "#er_fits = pd.DataFrame(columns=cols)\n",
    "#er_fits['rc'] = regs\n",
    "\n",
    "er_fits = pd.DataFrame() # generate data frame for results\n",
    "er_fits['rc'] = regs # add the region codes\n",
    "\n",
    "for er in regs: # loop through each ecoregion\n",
    "    \n",
    "    \n",
    "    for m in methods: # loop through each method\n",
    "        X = d.loc[d.rc==er,'snowmelt'].as_matrix() # grab snowmelt for the ecoregion\n",
    "        y = d.loc[d.rc==er,m+'_anom'].as_matrix() # pull out y values\n",
    "        SST = np.sum(np.square(y-np.mean(y))) # compute SST\n",
    "        p,e = optimize.curve_fit(piecewise_linear,X,y) # fit piecewise regression\n",
    "        \n",
    "        if (p[0]<0) or (p[0]>d.snowmelt.max()): # if breakpoint is negative then fit a single regression\n",
    "            X = sm.add_constant(X) # add constant to X values\n",
    "            mod = sm.OLS(y,X).fit()\n",
    "            er_fits.loc[er_fits.rc==er,m+'_r2'] = mod.rsquared\n",
    "            er_fits.loc[er_fits.rc==er,m+'_b1'] = mod.params[1]\n",
    "            er_fits.loc[er_fits.rc==er,m+'_int'] = mod.params[0]\n",
    "            \n",
    "            er_fits.loc[er_fits.rc==er,m+'_b2'] = np.NaN\n",
    "            er_fits.loc[er_fits.rc==er,m+'_breakx'] = np.NaN\n",
    "            er_fits.loc[er_fits.rc==er,m+'_breaky'] = np.NaN\n",
    "            er_fits.loc[er_fits.rc==er,m+'_s1'] = np.NaN\n",
    "            er_fits.loc[er_fits.rc==er,m+'_s2'] = np.NaN\n",
    "            er_fits.loc[er_fits.rc==er,m+'_test'] = np.NaN\n",
    "            continue\n",
    "    \n",
    "            \n",
    "        yy = piecewise_linear(X,*p) # calculate fitted values\n",
    "        resid = y-yy # compute residuals\n",
    "        SSRes = np.sum(np.square(resid))\n",
    "        er_fits.loc[er_fits.rc==er,m+'_r2'] = 1-(SSRes/SST) # compute r2\n",
    "        #er_fits.loc[er_fits.rc==er,m+'_rmse'] = np.sqrt(np.sum(np.square(resid))/len(resid)) # compute rmse\n",
    "        er_fits.loc[er_fits.rc==er,m+'_b1'] = p[2]\n",
    "        er_fits.loc[er_fits.rc==er,m+'_b2'] = p[3]\n",
    "        er_fits.loc[er_fits.rc==er,m+'_breakx'] = p[0]\n",
    "        er_fits.loc[er_fits.rc==er,m+'_breaky'] = p[1]\n",
    "        s1 = len(X[X<p[0]])/float(len(X)) # percent of cells in each segment\n",
    "        s2 = len(X[X>=P[0]])/float(len(X))\n",
    "        er_fits.loc[er_fits.rc==er,m+'_int'] = np.NaN\n",
    "\n",
    "        er_fits.loc[er_fits.rc==er,m+'_s1'] = s1\n",
    "        er_fits.loc[er_fits.rc==er,m+'_s2'] = s2\n",
    "        er_fits.loc[er_fits.rc==er,m+'_test'] = s1+s2\n",
    "    \n",
    "        #print str(er)+' '+str(m)"
   ]
  },
  {
   "cell_type": "code",
   "execution_count": 173,
   "metadata": {
    "collapsed": false
   },
   "outputs": [
    {
     "data": {
      "text/html": [
       "<div>\n",
       "<table border=\"1\" class=\"dataframe\">\n",
       "  <thead>\n",
       "    <tr style=\"text-align: right;\">\n",
       "      <th></th>\n",
       "      <th>rc</th>\n",
       "      <th>schreiber_r2</th>\n",
       "      <th>schreiber_b1</th>\n",
       "      <th>schreiber_int</th>\n",
       "      <th>schreiber_b2</th>\n",
       "      <th>schreiber_breakx</th>\n",
       "      <th>schreiber_breaky</th>\n",
       "      <th>schreiber_s1</th>\n",
       "      <th>schreiber_s2</th>\n",
       "      <th>schreiber_test</th>\n",
       "      <th>...</th>\n",
       "      <th>sharif_test</th>\n",
       "      <th>zhou_r2</th>\n",
       "      <th>zhou_b1</th>\n",
       "      <th>zhou_int</th>\n",
       "      <th>zhou_b2</th>\n",
       "      <th>zhou_breakx</th>\n",
       "      <th>zhou_breaky</th>\n",
       "      <th>zhou_s1</th>\n",
       "      <th>zhou_s2</th>\n",
       "      <th>zhou_test</th>\n",
       "    </tr>\n",
       "  </thead>\n",
       "  <tbody>\n",
       "    <tr>\n",
       "      <th>0</th>\n",
       "      <td>1</td>\n",
       "      <td>0.733359</td>\n",
       "      <td>0.020735</td>\n",
       "      <td>-0.136140</td>\n",
       "      <td>NaN</td>\n",
       "      <td>NaN</td>\n",
       "      <td>NaN</td>\n",
       "      <td>NaN</td>\n",
       "      <td>NaN</td>\n",
       "      <td>NaN</td>\n",
       "      <td>...</td>\n",
       "      <td>NaN</td>\n",
       "      <td>0.812094</td>\n",
       "      <td>0.022254</td>\n",
       "      <td>-0.104429</td>\n",
       "      <td>NaN</td>\n",
       "      <td>NaN</td>\n",
       "      <td>NaN</td>\n",
       "      <td>NaN</td>\n",
       "      <td>NaN</td>\n",
       "      <td>NaN</td>\n",
       "    </tr>\n",
       "    <tr>\n",
       "      <th>1</th>\n",
       "      <td>2</td>\n",
       "      <td>0.011062</td>\n",
       "      <td>0.003711</td>\n",
       "      <td>0.046057</td>\n",
       "      <td>NaN</td>\n",
       "      <td>NaN</td>\n",
       "      <td>NaN</td>\n",
       "      <td>NaN</td>\n",
       "      <td>NaN</td>\n",
       "      <td>NaN</td>\n",
       "      <td>...</td>\n",
       "      <td>NaN</td>\n",
       "      <td>0.273722</td>\n",
       "      <td>0.015974</td>\n",
       "      <td>NaN</td>\n",
       "      <td>0.026100</td>\n",
       "      <td>4.837534</td>\n",
       "      <td>-0.008969</td>\n",
       "      <td>0.758207</td>\n",
       "      <td>0.989268</td>\n",
       "      <td>1.747475</td>\n",
       "    </tr>\n",
       "    <tr>\n",
       "      <th>2</th>\n",
       "      <td>3</td>\n",
       "      <td>0.079331</td>\n",
       "      <td>0.005045</td>\n",
       "      <td>0.074671</td>\n",
       "      <td>NaN</td>\n",
       "      <td>NaN</td>\n",
       "      <td>NaN</td>\n",
       "      <td>NaN</td>\n",
       "      <td>NaN</td>\n",
       "      <td>NaN</td>\n",
       "      <td>...</td>\n",
       "      <td>NaN</td>\n",
       "      <td>0.559902</td>\n",
       "      <td>0.014027</td>\n",
       "      <td>0.012602</td>\n",
       "      <td>NaN</td>\n",
       "      <td>NaN</td>\n",
       "      <td>NaN</td>\n",
       "      <td>NaN</td>\n",
       "      <td>NaN</td>\n",
       "      <td>NaN</td>\n",
       "    </tr>\n",
       "    <tr>\n",
       "      <th>3</th>\n",
       "      <td>4</td>\n",
       "      <td>0.406836</td>\n",
       "      <td>0.018787</td>\n",
       "      <td>NaN</td>\n",
       "      <td>0.004231</td>\n",
       "      <td>6.725385</td>\n",
       "      <td>0.165879</td>\n",
       "      <td>0.691039</td>\n",
       "      <td>0.999283</td>\n",
       "      <td>1.690323</td>\n",
       "      <td>...</td>\n",
       "      <td>1.704659</td>\n",
       "      <td>0.582443</td>\n",
       "      <td>0.025574</td>\n",
       "      <td>-0.035112</td>\n",
       "      <td>NaN</td>\n",
       "      <td>NaN</td>\n",
       "      <td>NaN</td>\n",
       "      <td>NaN</td>\n",
       "      <td>NaN</td>\n",
       "      <td>NaN</td>\n",
       "    </tr>\n",
       "    <tr>\n",
       "      <th>4</th>\n",
       "      <td>6</td>\n",
       "      <td>0.000204</td>\n",
       "      <td>0.000423</td>\n",
       "      <td>0.059124</td>\n",
       "      <td>NaN</td>\n",
       "      <td>NaN</td>\n",
       "      <td>NaN</td>\n",
       "      <td>NaN</td>\n",
       "      <td>NaN</td>\n",
       "      <td>NaN</td>\n",
       "      <td>...</td>\n",
       "      <td>NaN</td>\n",
       "      <td>0.250641</td>\n",
       "      <td>0.078210</td>\n",
       "      <td>NaN</td>\n",
       "      <td>0.014708</td>\n",
       "      <td>0.774014</td>\n",
       "      <td>-0.044741</td>\n",
       "      <td>0.000000</td>\n",
       "      <td>0.999210</td>\n",
       "      <td>0.999210</td>\n",
       "    </tr>\n",
       "    <tr>\n",
       "      <th>5</th>\n",
       "      <td>7</td>\n",
       "      <td>0.322946</td>\n",
       "      <td>0.027206</td>\n",
       "      <td>-0.066803</td>\n",
       "      <td>NaN</td>\n",
       "      <td>NaN</td>\n",
       "      <td>NaN</td>\n",
       "      <td>NaN</td>\n",
       "      <td>NaN</td>\n",
       "      <td>NaN</td>\n",
       "      <td>...</td>\n",
       "      <td>NaN</td>\n",
       "      <td>0.585190</td>\n",
       "      <td>-0.067793</td>\n",
       "      <td>NaN</td>\n",
       "      <td>0.047418</td>\n",
       "      <td>0.984553</td>\n",
       "      <td>-0.152100</td>\n",
       "      <td>0.132445</td>\n",
       "      <td>0.862141</td>\n",
       "      <td>0.994586</td>\n",
       "    </tr>\n",
       "    <tr>\n",
       "      <th>6</th>\n",
       "      <td>8</td>\n",
       "      <td>0.479050</td>\n",
       "      <td>0.016877</td>\n",
       "      <td>-0.031500</td>\n",
       "      <td>NaN</td>\n",
       "      <td>NaN</td>\n",
       "      <td>NaN</td>\n",
       "      <td>NaN</td>\n",
       "      <td>NaN</td>\n",
       "      <td>NaN</td>\n",
       "      <td>...</td>\n",
       "      <td>NaN</td>\n",
       "      <td>0.656714</td>\n",
       "      <td>0.027669</td>\n",
       "      <td>-0.097527</td>\n",
       "      <td>NaN</td>\n",
       "      <td>NaN</td>\n",
       "      <td>NaN</td>\n",
       "      <td>NaN</td>\n",
       "      <td>NaN</td>\n",
       "      <td>NaN</td>\n",
       "    </tr>\n",
       "    <tr>\n",
       "      <th>7</th>\n",
       "      <td>9</td>\n",
       "      <td>0.386661</td>\n",
       "      <td>0.024843</td>\n",
       "      <td>-0.080062</td>\n",
       "      <td>NaN</td>\n",
       "      <td>NaN</td>\n",
       "      <td>NaN</td>\n",
       "      <td>NaN</td>\n",
       "      <td>NaN</td>\n",
       "      <td>NaN</td>\n",
       "      <td>...</td>\n",
       "      <td>NaN</td>\n",
       "      <td>0.620219</td>\n",
       "      <td>0.039664</td>\n",
       "      <td>-0.201703</td>\n",
       "      <td>NaN</td>\n",
       "      <td>NaN</td>\n",
       "      <td>NaN</td>\n",
       "      <td>NaN</td>\n",
       "      <td>NaN</td>\n",
       "      <td>NaN</td>\n",
       "    </tr>\n",
       "    <tr>\n",
       "      <th>8</th>\n",
       "      <td>12</td>\n",
       "      <td>0.338892</td>\n",
       "      <td>-0.041195</td>\n",
       "      <td>NaN</td>\n",
       "      <td>0.031177</td>\n",
       "      <td>2.451304</td>\n",
       "      <td>-0.029897</td>\n",
       "      <td>0.438525</td>\n",
       "      <td>0.948361</td>\n",
       "      <td>1.386885</td>\n",
       "      <td>...</td>\n",
       "      <td>NaN</td>\n",
       "      <td>0.570095</td>\n",
       "      <td>-0.034249</td>\n",
       "      <td>NaN</td>\n",
       "      <td>0.050020</td>\n",
       "      <td>2.217101</td>\n",
       "      <td>-0.130493</td>\n",
       "      <td>0.358197</td>\n",
       "      <td>0.948361</td>\n",
       "      <td>1.306557</td>\n",
       "    </tr>\n",
       "    <tr>\n",
       "      <th>9</th>\n",
       "      <td>13</td>\n",
       "      <td>0.496884</td>\n",
       "      <td>-0.064562</td>\n",
       "      <td>NaN</td>\n",
       "      <td>0.046170</td>\n",
       "      <td>1.801642</td>\n",
       "      <td>-0.069587</td>\n",
       "      <td>0.425427</td>\n",
       "      <td>0.929570</td>\n",
       "      <td>1.354997</td>\n",
       "      <td>...</td>\n",
       "      <td>1.302693</td>\n",
       "      <td>0.701090</td>\n",
       "      <td>-0.056193</td>\n",
       "      <td>NaN</td>\n",
       "      <td>0.066847</td>\n",
       "      <td>1.685008</td>\n",
       "      <td>-0.175037</td>\n",
       "      <td>0.377784</td>\n",
       "      <td>0.929570</td>\n",
       "      <td>1.307354</td>\n",
       "    </tr>\n",
       "  </tbody>\n",
       "</table>\n",
       "<p>10 rows × 82 columns</p>\n",
       "</div>"
      ],
      "text/plain": [
       "   rc  schreiber_r2  schreiber_b1  schreiber_int  schreiber_b2  \\\n",
       "0   1      0.733359      0.020735      -0.136140           NaN   \n",
       "1   2      0.011062      0.003711       0.046057           NaN   \n",
       "2   3      0.079331      0.005045       0.074671           NaN   \n",
       "3   4      0.406836      0.018787            NaN      0.004231   \n",
       "4   6      0.000204      0.000423       0.059124           NaN   \n",
       "5   7      0.322946      0.027206      -0.066803           NaN   \n",
       "6   8      0.479050      0.016877      -0.031500           NaN   \n",
       "7   9      0.386661      0.024843      -0.080062           NaN   \n",
       "8  12      0.338892     -0.041195            NaN      0.031177   \n",
       "9  13      0.496884     -0.064562            NaN      0.046170   \n",
       "\n",
       "   schreiber_breakx  schreiber_breaky  schreiber_s1  schreiber_s2  \\\n",
       "0               NaN               NaN           NaN           NaN   \n",
       "1               NaN               NaN           NaN           NaN   \n",
       "2               NaN               NaN           NaN           NaN   \n",
       "3          6.725385          0.165879      0.691039      0.999283   \n",
       "4               NaN               NaN           NaN           NaN   \n",
       "5               NaN               NaN           NaN           NaN   \n",
       "6               NaN               NaN           NaN           NaN   \n",
       "7               NaN               NaN           NaN           NaN   \n",
       "8          2.451304         -0.029897      0.438525      0.948361   \n",
       "9          1.801642         -0.069587      0.425427      0.929570   \n",
       "\n",
       "   schreiber_test    ...      sharif_test   zhou_r2   zhou_b1  zhou_int  \\\n",
       "0             NaN    ...              NaN  0.812094  0.022254 -0.104429   \n",
       "1             NaN    ...              NaN  0.273722  0.015974       NaN   \n",
       "2             NaN    ...              NaN  0.559902  0.014027  0.012602   \n",
       "3        1.690323    ...         1.704659  0.582443  0.025574 -0.035112   \n",
       "4             NaN    ...              NaN  0.250641  0.078210       NaN   \n",
       "5             NaN    ...              NaN  0.585190 -0.067793       NaN   \n",
       "6             NaN    ...              NaN  0.656714  0.027669 -0.097527   \n",
       "7             NaN    ...              NaN  0.620219  0.039664 -0.201703   \n",
       "8        1.386885    ...              NaN  0.570095 -0.034249       NaN   \n",
       "9        1.354997    ...         1.302693  0.701090 -0.056193       NaN   \n",
       "\n",
       "    zhou_b2  zhou_breakx  zhou_breaky   zhou_s1   zhou_s2  zhou_test  \n",
       "0       NaN          NaN          NaN       NaN       NaN        NaN  \n",
       "1  0.026100     4.837534    -0.008969  0.758207  0.989268   1.747475  \n",
       "2       NaN          NaN          NaN       NaN       NaN        NaN  \n",
       "3       NaN          NaN          NaN       NaN       NaN        NaN  \n",
       "4  0.014708     0.774014    -0.044741  0.000000  0.999210   0.999210  \n",
       "5  0.047418     0.984553    -0.152100  0.132445  0.862141   0.994586  \n",
       "6       NaN          NaN          NaN       NaN       NaN        NaN  \n",
       "7       NaN          NaN          NaN       NaN       NaN        NaN  \n",
       "8  0.050020     2.217101    -0.130493  0.358197  0.948361   1.306557  \n",
       "9  0.066847     1.685008    -0.175037  0.377784  0.929570   1.307354  \n",
       "\n",
       "[10 rows x 82 columns]"
      ]
     },
     "execution_count": 173,
     "metadata": {},
     "output_type": "execute_result"
    }
   ],
   "source": [
    "er_fits"
   ]
  },
  {
   "cell_type": "code",
   "execution_count": 82,
   "metadata": {
    "collapsed": true
   },
   "outputs": [],
   "source": [
    "#er_fits.to_excel('./figures/ecoregion_fits_table_non_linear.xlsx')"
   ]
  },
  {
   "cell_type": "code",
   "execution_count": 83,
   "metadata": {
    "collapsed": false
   },
   "outputs": [
    {
     "data": {
      "text/plain": [
       "1.7778530284633198"
      ]
     },
     "execution_count": 83,
     "metadata": {},
     "output_type": "execute_result"
    }
   ],
   "source": [
    "np.nanmean(er_fits.loc[er_fits.rc==2].filter(regex='_break'))"
   ]
  },
  {
   "cell_type": "code",
   "execution_count": 174,
   "metadata": {
    "collapsed": false
   },
   "outputs": [],
   "source": [
    "#cols = ['rc','min_r2','mean_r2','max_r2','min_aspt','mean_aspt','max_aspt','min_p','mean_p','max_p',\n",
    "#       'min_b1','mean_b1','max_b1','min_b2','mean_b2','max_b2','min_int','mean_int','max_int', 'min_snowmelt', 'max_snowmelt',\n",
    "#        'mean_snowmelt','region']\n",
    "er_tab = pd.DataFrame()\n",
    "er_tab['rc'] = regs\n",
    "ct = 0\n",
    "\n",
    "for reg in regs:\n",
    "    # summarize snowmelt rate - BA r2\n",
    "    er_tab.loc[er_tab.rc==reg,'min_r2'] = np.nanmin(er_fits.loc[er_fits.rc==reg].filter(regex='_r2'))\n",
    "    er_tab.loc[er_tab.rc==reg,'mean_r2'] = np.nanmean(er_fits.loc[er_fits.rc==reg].filter(regex='_r2'))\n",
    "    er_tab.loc[er_tab.rc==reg,'max_r2'] = np.nanmax(er_fits.loc[er_fits.rc==reg].filter(regex='_r2'))\n",
    "    # summarize snowmelt rate - BA slope\n",
    "    er_tab.loc[er_tab.rc==reg,'min_b1'] = np.nanmin(er_fits.loc[er_fits.rc==reg].filter(regex='_b1'))\n",
    "    er_tab.loc[er_tab.rc==reg,'mean_b1'] = np.nanmean(er_fits.loc[er_fits.rc==reg].filter(regex='_b1'))\n",
    "    er_tab.loc[er_tab.rc==reg,'max_b1'] = np.nanmax(er_fits.loc[er_fits.rc==reg].filter(regex='_b1'))\n",
    "    er_tab.loc[er_tab.rc==reg,'min_b2'] = np.nanmin(er_fits.loc[er_fits.rc==reg].filter(regex='_b2'))\n",
    "    er_tab.loc[er_tab.rc==reg,'mean_b2'] = np.nanmean(er_fits.loc[er_fits.rc==reg].filter(regex='_b2'))\n",
    "    er_tab.loc[er_tab.rc==reg,'max_b2'] = np.nanmax(er_fits.loc[er_fits.rc==reg].filter(regex='_b2'))\n",
    "    # summarize snowmelt rate - BA breakpoint \n",
    "    er_tab.loc[er_tab.rc==reg,'min_breakx'] = np.nanmin(er_fits.loc[er_fits.rc==reg].filter(regex='_breakx'))\n",
    "    er_tab.loc[er_tab.rc==reg,'mean_breakx'] = np.nanmean(er_fits.loc[er_fits.rc==reg].filter(regex='_breakx'))\n",
    "    er_tab.loc[er_tab.rc==reg,'max_breakx'] = np.nanmax(er_fits.loc[er_fits.rc==reg].filter(regex='_breakx'))\n",
    "    er_tab.loc[er_tab.rc==reg,'min_breaky'] = np.nanmin(er_fits.loc[er_fits.rc==reg].filter(regex='_breaky'))\n",
    "    er_tab.loc[er_tab.rc==reg,'mean_breaky'] = np.nanmean(er_fits.loc[er_fits.rc==reg].filter(regex='_breaky'))\n",
    "    er_tab.loc[er_tab.rc==reg,'max_breaky'] = np.nanmax(er_fits.loc[er_fits.rc==reg].filter(regex='_breaky'))\n",
    "    # summarize intercept\n",
    "    er_tab.loc[er_tab.rc==reg,'min_int'] = np.nanmin(er_fits.loc[er_fits.rc==reg].filter(regex='_int'))\n",
    "    er_tab.loc[er_tab.rc==reg,'mean_int'] = np.nanmean(er_fits.loc[er_fits.rc==reg].filter(regex='_int'))\n",
    "    er_tab.loc[er_tab.rc==reg,'max_int'] = np.nanmax(er_fits.loc[er_fits.rc==reg].filter(regex='_int'))\n",
    "    # snowmelt data\n",
    "    er_tab.loc[er_tab.rc==reg,'min_snowmelt'] = d.loc[d.rc==reg,'snowmelt'].min()\n",
    "    er_tab.loc[er_tab.rc==reg,'mean_snowmelt'] = d.loc[d.rc==reg,'snowmelt'].mean()\n",
    "    er_tab.loc[er_tab.rc==reg,'max_snowmelt'] = d.loc[d.rc==reg,'snowmelt'].max()\n",
    "    \n",
    "    "
   ]
  },
  {
   "cell_type": "code",
   "execution_count": 175,
   "metadata": {
    "collapsed": false
   },
   "outputs": [
    {
     "data": {
      "text/html": [
       "<div>\n",
       "<table border=\"1\" class=\"dataframe\">\n",
       "  <thead>\n",
       "    <tr style=\"text-align: right;\">\n",
       "      <th></th>\n",
       "      <th>rc</th>\n",
       "      <th>min_r2</th>\n",
       "      <th>mean_r2</th>\n",
       "      <th>max_r2</th>\n",
       "      <th>min_b1</th>\n",
       "      <th>mean_b1</th>\n",
       "      <th>max_b1</th>\n",
       "      <th>min_b2</th>\n",
       "      <th>mean_b2</th>\n",
       "      <th>max_b2</th>\n",
       "      <th>...</th>\n",
       "      <th>max_breakx</th>\n",
       "      <th>min_breaky</th>\n",
       "      <th>mean_breaky</th>\n",
       "      <th>max_breaky</th>\n",
       "      <th>min_int</th>\n",
       "      <th>mean_int</th>\n",
       "      <th>max_int</th>\n",
       "      <th>min_snowmelt</th>\n",
       "      <th>mean_snowmelt</th>\n",
       "      <th>max_snowmelt</th>\n",
       "    </tr>\n",
       "  </thead>\n",
       "  <tbody>\n",
       "    <tr>\n",
       "      <th>0</th>\n",
       "      <td>1</td>\n",
       "      <td>0.553251</td>\n",
       "      <td>0.722435</td>\n",
       "      <td>0.812094</td>\n",
       "      <td>-0.042121</td>\n",
       "      <td>0.013976</td>\n",
       "      <td>0.022254</td>\n",
       "      <td>0.020081</td>\n",
       "      <td>0.020081</td>\n",
       "      <td>0.020081</td>\n",
       "      <td>...</td>\n",
       "      <td>2.303200</td>\n",
       "      <td>-0.046912</td>\n",
       "      <td>-0.046912</td>\n",
       "      <td>-0.046912</td>\n",
       "      <td>-0.144324</td>\n",
       "      <td>-0.103109</td>\n",
       "      <td>-0.045018</td>\n",
       "      <td>1.578520</td>\n",
       "      <td>8.177285</td>\n",
       "      <td>33.504125</td>\n",
       "    </tr>\n",
       "    <tr>\n",
       "      <th>1</th>\n",
       "      <td>2</td>\n",
       "      <td>0.011062</td>\n",
       "      <td>0.156120</td>\n",
       "      <td>0.328709</td>\n",
       "      <td>0.003711</td>\n",
       "      <td>0.017840</td>\n",
       "      <td>0.040496</td>\n",
       "      <td>0.009665</td>\n",
       "      <td>0.015877</td>\n",
       "      <td>0.026100</td>\n",
       "      <td>...</td>\n",
       "      <td>4.968111</td>\n",
       "      <td>-0.008969</td>\n",
       "      <td>0.062273</td>\n",
       "      <td>0.126002</td>\n",
       "      <td>-0.068978</td>\n",
       "      <td>-0.019416</td>\n",
       "      <td>0.046057</td>\n",
       "      <td>0.813247</td>\n",
       "      <td>3.575226</td>\n",
       "      <td>15.723258</td>\n",
       "    </tr>\n",
       "    <tr>\n",
       "      <th>2</th>\n",
       "      <td>3</td>\n",
       "      <td>0.017262</td>\n",
       "      <td>0.223843</td>\n",
       "      <td>0.569415</td>\n",
       "      <td>0.002798</td>\n",
       "      <td>0.007702</td>\n",
       "      <td>0.014552</td>\n",
       "      <td>NaN</td>\n",
       "      <td>NaN</td>\n",
       "      <td>NaN</td>\n",
       "      <td>...</td>\n",
       "      <td>NaN</td>\n",
       "      <td>NaN</td>\n",
       "      <td>NaN</td>\n",
       "      <td>NaN</td>\n",
       "      <td>0.012602</td>\n",
       "      <td>0.074696</td>\n",
       "      <td>0.166117</td>\n",
       "      <td>1.362559</td>\n",
       "      <td>9.065597</td>\n",
       "      <td>35.238598</td>\n",
       "    </tr>\n",
       "    <tr>\n",
       "      <th>3</th>\n",
       "      <td>4</td>\n",
       "      <td>0.406836</td>\n",
       "      <td>0.494138</td>\n",
       "      <td>0.601363</td>\n",
       "      <td>0.016909</td>\n",
       "      <td>0.022422</td>\n",
       "      <td>0.033793</td>\n",
       "      <td>-0.002494</td>\n",
       "      <td>0.005403</td>\n",
       "      <td>0.014385</td>\n",
       "      <td>...</td>\n",
       "      <td>7.747927</td>\n",
       "      <td>0.159265</td>\n",
       "      <td>0.191045</td>\n",
       "      <td>0.240960</td>\n",
       "      <td>-0.035112</td>\n",
       "      <td>0.055475</td>\n",
       "      <td>0.142116</td>\n",
       "      <td>0.920047</td>\n",
       "      <td>5.483745</td>\n",
       "      <td>12.923191</td>\n",
       "    </tr>\n",
       "    <tr>\n",
       "      <th>4</th>\n",
       "      <td>6</td>\n",
       "      <td>0.000204</td>\n",
       "      <td>0.164666</td>\n",
       "      <td>0.309492</td>\n",
       "      <td>-0.019371</td>\n",
       "      <td>0.016091</td>\n",
       "      <td>0.091337</td>\n",
       "      <td>0.005209</td>\n",
       "      <td>0.024050</td>\n",
       "      <td>0.035017</td>\n",
       "      <td>...</td>\n",
       "      <td>6.737216</td>\n",
       "      <td>-0.044741</td>\n",
       "      <td>0.022895</td>\n",
       "      <td>0.145941</td>\n",
       "      <td>-0.016458</td>\n",
       "      <td>0.035388</td>\n",
       "      <td>0.097943</td>\n",
       "      <td>0.899974</td>\n",
       "      <td>5.574560</td>\n",
       "      <td>16.412981</td>\n",
       "    </tr>\n",
       "    <tr>\n",
       "      <th>5</th>\n",
       "      <td>7</td>\n",
       "      <td>0.322946</td>\n",
       "      <td>0.493423</td>\n",
       "      <td>0.613803</td>\n",
       "      <td>-0.067793</td>\n",
       "      <td>0.027534</td>\n",
       "      <td>0.052697</td>\n",
       "      <td>0.009281</td>\n",
       "      <td>0.018453</td>\n",
       "      <td>0.047418</td>\n",
       "      <td>...</td>\n",
       "      <td>7.907307</td>\n",
       "      <td>-0.152100</td>\n",
       "      <td>0.128473</td>\n",
       "      <td>0.218244</td>\n",
       "      <td>-0.155519</td>\n",
       "      <td>-0.111161</td>\n",
       "      <td>-0.066803</td>\n",
       "      <td>0.312694</td>\n",
       "      <td>2.892802</td>\n",
       "      <td>11.467365</td>\n",
       "    </tr>\n",
       "    <tr>\n",
       "      <th>6</th>\n",
       "      <td>8</td>\n",
       "      <td>0.336441</td>\n",
       "      <td>0.514942</td>\n",
       "      <td>0.663235</td>\n",
       "      <td>0.013022</td>\n",
       "      <td>0.238004</td>\n",
       "      <td>1.000000</td>\n",
       "      <td>0.014973</td>\n",
       "      <td>0.017558</td>\n",
       "      <td>0.020144</td>\n",
       "      <td>...</td>\n",
       "      <td>0.168864</td>\n",
       "      <td>-0.065020</td>\n",
       "      <td>-0.013334</td>\n",
       "      <td>0.038352</td>\n",
       "      <td>-0.097527</td>\n",
       "      <td>-0.019051</td>\n",
       "      <td>0.110613</td>\n",
       "      <td>1.181430</td>\n",
       "      <td>7.468346</td>\n",
       "      <td>12.914454</td>\n",
       "    </tr>\n",
       "    <tr>\n",
       "      <th>7</th>\n",
       "      <td>9</td>\n",
       "      <td>0.386661</td>\n",
       "      <td>0.518094</td>\n",
       "      <td>0.644407</td>\n",
       "      <td>0.024843</td>\n",
       "      <td>0.032045</td>\n",
       "      <td>0.041653</td>\n",
       "      <td>NaN</td>\n",
       "      <td>NaN</td>\n",
       "      <td>NaN</td>\n",
       "      <td>...</td>\n",
       "      <td>NaN</td>\n",
       "      <td>NaN</td>\n",
       "      <td>NaN</td>\n",
       "      <td>NaN</td>\n",
       "      <td>-0.201703</td>\n",
       "      <td>-0.106302</td>\n",
       "      <td>-0.005751</td>\n",
       "      <td>1.043319</td>\n",
       "      <td>5.931484</td>\n",
       "      <td>12.518186</td>\n",
       "    </tr>\n",
       "    <tr>\n",
       "      <th>8</th>\n",
       "      <td>12</td>\n",
       "      <td>0.325794</td>\n",
       "      <td>0.463926</td>\n",
       "      <td>0.570095</td>\n",
       "      <td>-0.042986</td>\n",
       "      <td>-0.012012</td>\n",
       "      <td>0.037385</td>\n",
       "      <td>0.021913</td>\n",
       "      <td>0.037656</td>\n",
       "      <td>0.050020</td>\n",
       "      <td>...</td>\n",
       "      <td>7.590031</td>\n",
       "      <td>-0.130493</td>\n",
       "      <td>-0.021590</td>\n",
       "      <td>0.252821</td>\n",
       "      <td>-0.143059</td>\n",
       "      <td>-0.083804</td>\n",
       "      <td>-0.024549</td>\n",
       "      <td>0.508790</td>\n",
       "      <td>2.846349</td>\n",
       "      <td>9.458640</td>\n",
       "    </tr>\n",
       "    <tr>\n",
       "      <th>9</th>\n",
       "      <td>13</td>\n",
       "      <td>0.496884</td>\n",
       "      <td>0.627825</td>\n",
       "      <td>0.725845</td>\n",
       "      <td>-0.064562</td>\n",
       "      <td>-0.043174</td>\n",
       "      <td>0.045640</td>\n",
       "      <td>0.046170</td>\n",
       "      <td>0.058128</td>\n",
       "      <td>0.070214</td>\n",
       "      <td>...</td>\n",
       "      <td>1.801642</td>\n",
       "      <td>-0.175037</td>\n",
       "      <td>-0.101223</td>\n",
       "      <td>-0.011103</td>\n",
       "      <td>-0.091244</td>\n",
       "      <td>-0.091244</td>\n",
       "      <td>-0.091244</td>\n",
       "      <td>0.478671</td>\n",
       "      <td>2.471286</td>\n",
       "      <td>9.508663</td>\n",
       "    </tr>\n",
       "  </tbody>\n",
       "</table>\n",
       "<p>10 rows × 22 columns</p>\n",
       "</div>"
      ],
      "text/plain": [
       "   rc    min_r2   mean_r2    max_r2    min_b1   mean_b1    max_b1    min_b2  \\\n",
       "0   1  0.553251  0.722435  0.812094 -0.042121  0.013976  0.022254  0.020081   \n",
       "1   2  0.011062  0.156120  0.328709  0.003711  0.017840  0.040496  0.009665   \n",
       "2   3  0.017262  0.223843  0.569415  0.002798  0.007702  0.014552       NaN   \n",
       "3   4  0.406836  0.494138  0.601363  0.016909  0.022422  0.033793 -0.002494   \n",
       "4   6  0.000204  0.164666  0.309492 -0.019371  0.016091  0.091337  0.005209   \n",
       "5   7  0.322946  0.493423  0.613803 -0.067793  0.027534  0.052697  0.009281   \n",
       "6   8  0.336441  0.514942  0.663235  0.013022  0.238004  1.000000  0.014973   \n",
       "7   9  0.386661  0.518094  0.644407  0.024843  0.032045  0.041653       NaN   \n",
       "8  12  0.325794  0.463926  0.570095 -0.042986 -0.012012  0.037385  0.021913   \n",
       "9  13  0.496884  0.627825  0.725845 -0.064562 -0.043174  0.045640  0.046170   \n",
       "\n",
       "    mean_b2    max_b2      ...       max_breakx  min_breaky  mean_breaky  \\\n",
       "0  0.020081  0.020081      ...         2.303200   -0.046912    -0.046912   \n",
       "1  0.015877  0.026100      ...         4.968111   -0.008969     0.062273   \n",
       "2       NaN       NaN      ...              NaN         NaN          NaN   \n",
       "3  0.005403  0.014385      ...         7.747927    0.159265     0.191045   \n",
       "4  0.024050  0.035017      ...         6.737216   -0.044741     0.022895   \n",
       "5  0.018453  0.047418      ...         7.907307   -0.152100     0.128473   \n",
       "6  0.017558  0.020144      ...         0.168864   -0.065020    -0.013334   \n",
       "7       NaN       NaN      ...              NaN         NaN          NaN   \n",
       "8  0.037656  0.050020      ...         7.590031   -0.130493    -0.021590   \n",
       "9  0.058128  0.070214      ...         1.801642   -0.175037    -0.101223   \n",
       "\n",
       "   max_breaky   min_int  mean_int   max_int  min_snowmelt  mean_snowmelt  \\\n",
       "0   -0.046912 -0.144324 -0.103109 -0.045018      1.578520       8.177285   \n",
       "1    0.126002 -0.068978 -0.019416  0.046057      0.813247       3.575226   \n",
       "2         NaN  0.012602  0.074696  0.166117      1.362559       9.065597   \n",
       "3    0.240960 -0.035112  0.055475  0.142116      0.920047       5.483745   \n",
       "4    0.145941 -0.016458  0.035388  0.097943      0.899974       5.574560   \n",
       "5    0.218244 -0.155519 -0.111161 -0.066803      0.312694       2.892802   \n",
       "6    0.038352 -0.097527 -0.019051  0.110613      1.181430       7.468346   \n",
       "7         NaN -0.201703 -0.106302 -0.005751      1.043319       5.931484   \n",
       "8    0.252821 -0.143059 -0.083804 -0.024549      0.508790       2.846349   \n",
       "9   -0.011103 -0.091244 -0.091244 -0.091244      0.478671       2.471286   \n",
       "\n",
       "   max_snowmelt  \n",
       "0     33.504125  \n",
       "1     15.723258  \n",
       "2     35.238598  \n",
       "3     12.923191  \n",
       "4     16.412981  \n",
       "5     11.467365  \n",
       "6     12.914454  \n",
       "7     12.518186  \n",
       "8      9.458640  \n",
       "9      9.508663  \n",
       "\n",
       "[10 rows x 22 columns]"
      ]
     },
     "execution_count": 175,
     "metadata": {},
     "output_type": "execute_result"
    }
   ],
   "source": [
    "er_tab"
   ]
  },
  {
   "cell_type": "raw",
   "metadata": {},
   "source": [
    "    # grab min and max snowmelt rates\n",
    "    \n",
    "    sm = d.loc[d.rc==reg,'snowmelt']\n",
    "    \n",
    "    er_tab.loc[er_tab.rc==reg,'min_snowmelt'] = sm.min()\n",
    "    er_tab.loc[er_tab.rc==reg,'max_snowmelt'] = sm.max()\n",
    "    er_tab.loc[er_tab.rc==reg,'mean_snowmelt'] = sm.mean()\n",
    "    \n",
    "    \n",
    "    r2 = er_fits.loc[er_fits.rc==reg,[\"zhang_r2\",\"schreiber_r2\",\"oldekop_r2\",\"turc_pike_r2\",\n",
    "                            \"budyko_r2\",\"mcy_r2\",\"fuzhang_r2\",\"sharif_r2\",\"zhou_r2\"]]\n",
    "    \n",
    "    aspt = er_fits.loc[er_fits.rc==reg,[\"zhang_asmpt\",\"schreiber_asmpt\",\"oldekop_asmpt\",\n",
    "    \"turc_pike_asmpt\",\"budyko_asmpt\",\"mcy_asmpt\",\"fuzhang_asmpt\",\"sharif_asmpt\",\"zhou_asmpt\"]]\n",
    "    \n",
    "    p = er_fits.loc[er_fits.rc==reg,[\"zhang_p\",\"schreiber_p\",\"oldekop_p\",\"turc_pike_p\",\n",
    "                                     \"budyko_p\",\"mcy_p\",\"fuzhang_p\",\"sharif_p\",\"zhou_p\"]]\n",
    "    \n",
    "    b1 = er_fits.loc[er_fits.rc==reg,[\"zhang_b1\",\"schreiber_b1\",\"oldekop_b1\",\"turc_pike_b1\",\n",
    "                                     \"budyko_b1\",\"mcy_b1\",\"fuzhang_b1\",\"sharif_b1\",\"zhou_b1\"]]\n",
    "    \n",
    "    b2 = er_fits.loc[er_fits.rc==reg,[\"zhang_b2\",\"schreiber_b2\",\"oldekop_b2\",\"turc_pike_b2\",\n",
    "                                     \"budyko_b2\",\"mcy_b2\",\"fuzhang_b2\",\"sharif_b2\",\"zhou_b2\"]]\n",
    "    \n",
    "    cept = er_fits.loc[er_fits.rc==reg,[\"zhang_int\",\"schreiber_int\",\"oldekop_int\",\"turc_pike_int\",\n",
    "                                     \"budyko_int\",\"mcy_int\",\"fuzhang_int\",\"sharif_int\",\"zhou_int\"]]\n",
    "    # convert to arrays\n",
    "    r2 = np.array(r2)\n",
    "    aspt = np.array(aspt)\n",
    "    p = np.array(p)\n",
    "    b1 = np.array(b1)\n",
    "    b2 = np.array(b2)\n",
    "    cept = np.array(cept)\n",
    "    \n",
    "    # summarize snowmelt rate - BA r2\n",
    "    er_tab.loc[er_tab.rc==reg,'min_r2'] = round(r2.min(),3)\n",
    "    er_tab.loc[er_tab.rc==reg,'mean_r2'] = round(r2.mean(),3)\n",
    "    er_tab.loc[er_tab.rc==reg,'max_r2'] = round(r2.max(),3)\n",
    "    # summarize max_partitioning\n",
    "    er_tab.loc[er_tab.rc==reg,'min_aspt'] = round(aspt.min(),3)\n",
    "    er_tab.loc[er_tab.rc==reg,'mean_aspt'] = round(aspt.mean(),3)\n",
    "    er_tab.loc[er_tab.rc==reg,'max_aspt'] = round(aspt.max(),3)\n",
    "    # summarize snowmelt rate - BA slope\n",
    "    er_tab.loc[er_tab.rc==reg,'min_b1'] = round(b1.min(),3)\n",
    "    er_tab.loc[er_tab.rc==reg,'mean_b1'] = round(b1.mean(),3)\n",
    "    er_tab.loc[er_tab.rc==reg,'max_b1'] = round(b1.max(),3)\n",
    "    er_tab.loc[er_tab.rc==reg,'min_b2'] = round(b2.min(),3)\n",
    "    er_tab.loc[er_tab.rc==reg,'mean_b2'] = round(b2.mean(),3)\n",
    "    er_tab.loc[er_tab.rc==reg,'max_b2'] = round(b2.max(),3)\n",
    "    # summarize snowmelt rate - BA p value\n",
    "    er_tab.loc[er_tab.rc==reg,'min_p'] = round(p.min(),3)\n",
    "    er_tab.loc[er_tab.rc==reg,'mean_p'] = round(p.mean(),3)\n",
    "    er_tab.loc[er_tab.rc==reg,'max_p'] = round(p.max(),3)\n",
    "    # summarize snowmelt rate - BA intercept \n",
    "    er_tab.loc[er_tab.rc==reg,'min_int'] = round(cept.min(),3)\n",
    "    er_tab.loc[er_tab.rc==reg,'mean_int'] = round(cept.mean(),3)\n",
    "    er_tab.loc[er_tab.rc==reg,'max_int'] = round(cept.max(),3)\n",
    "    \n",
    "    # grab min and max snowmelt rates\n",
    "    \n",
    "    sm = d.loc[d.rc==reg,'snowmelt']\n",
    "    \n",
    "    er_tab.loc[er_tab.rc==reg,'min_snowmelt'] = sm.min()\n",
    "    er_tab.loc[er_tab.rc==reg,'max_snowmelt'] = sm.max()\n",
    "    er_tab.loc[er_tab.rc==reg,'mean_snowmelt'] = sm.mean()\n",
    "    \n",
    "    er_tab.loc[er_tab.rc==reg,'region'] = regions[ct]\n",
    "    ct +=1\n",
    "    \n",
    "er_tab.iloc[:,0:-2] = er_tab.iloc[:,0:-2].astype(float)"
   ]
  },
  {
   "cell_type": "raw",
   "metadata": {
    "collapsed": false
   },
   "source": [
    "cols = ['rc','min_r2','mean_r2','max_r2','min_aspt','mean_aspt','max_aspt','min_p','mean_p','max_p',\n",
    "       'min_slp','mean_slp','max_slp','min_int','mean_int','max_int', 'min_snowmelt', 'max_snowmelt',\n",
    "        'mean_snowmelt','region']\n",
    "er_tab = pd.DataFrame(columns=cols)\n",
    "er_tab['rc'] = regs\n",
    "ct = 0\n",
    "\n",
    "for reg in regs:\n",
    "    r2 = er_fits.loc[er_fits.rc==reg,[\"zhang_r2\",\"schreiber_r2\",\"oldekop_r2\",\"turc_pike_r2\",\n",
    "                            \"budyko_r2\",\"mcy_r2\",\"fuzhang_r2\",\"sharif_r2\",\"zhou_r2\"]]\n",
    "    \n",
    "    aspt = er_fits.loc[er_fits.rc==reg,[\"zhang_asmpt\",\"schreiber_asmpt\",\"oldekop_asmpt\",\n",
    "    \"turc_pike_asmpt\",\"budyko_asmpt\",\"mcy_asmpt\",\"fuzhang_asmpt\",\"sharif_asmpt\",\"zhou_asmpt\"]]\n",
    "    \n",
    "    p = er_fits.loc[er_fits.rc==reg,[\"zhang_p\",\"schreiber_p\",\"oldekop_p\",\"turc_pike_p\",\n",
    "                                     \"budyko_p\",\"mcy_p\",\"fuzhang_p\",\"sharif_p\",\"zhou_p\"]]\n",
    "    \n",
    "    slp = er_fits.loc[er_fits.rc==reg,[\"zhang_slp\",\"schreiber_slp\",\"oldekop_slp\",\"turc_pike_slp\",\n",
    "                                     \"budyko_slp\",\"mcy_slp\",\"fuzhang_slp\",\"sharif_slp\",\"zhou_slp\"]]\n",
    "    \n",
    "    cept = er_fits.loc[er_fits.rc==reg,[\"zhang_int\",\"schreiber_int\",\"oldekop_int\",\"turc_pike_int\",\n",
    "                                     \"budyko_int\",\"mcy_int\",\"fuzhang_int\",\"sharif_int\",\"zhou_int\"]]\n",
    "    # convert to arrays\n",
    "    r2 = np.array(r2)\n",
    "    aspt = np.array(aspt)\n",
    "    p = np.array(p)\n",
    "    slp = np.array(slp)\n",
    "    cept = np.array(cept)\n",
    "    \n",
    "    # summarize snowmelt rate - BA r2\n",
    "    er_tab.loc[er_tab.rc==reg,'min_r2'] = round(r2.min(),3)\n",
    "    er_tab.loc[er_tab.rc==reg,'mean_r2'] = round(r2.mean(),3)\n",
    "    er_tab.loc[er_tab.rc==reg,'max_r2'] = round(r2.max(),3)\n",
    "    # summarize max_partitioning\n",
    "    er_tab.loc[er_tab.rc==reg,'min_aspt'] = round(aspt.min(),3)\n",
    "    er_tab.loc[er_tab.rc==reg,'mean_aspt'] = round(aspt.mean(),3)\n",
    "    er_tab.loc[er_tab.rc==reg,'max_aspt'] = round(aspt.max(),3)\n",
    "    # summarize snowmelt rate - BA slope\n",
    "    er_tab.loc[er_tab.rc==reg,'min_slp'] = round(slp.min(),3)\n",
    "    er_tab.loc[er_tab.rc==reg,'mean_slp'] = round(slp.mean(),3)\n",
    "    er_tab.loc[er_tab.rc==reg,'max_slp'] = round(slp.max(),3)\n",
    "    # summarize snowmelt rate - BA p value\n",
    "    er_tab.loc[er_tab.rc==reg,'min_p'] = round(p.min(),3)\n",
    "    er_tab.loc[er_tab.rc==reg,'mean_p'] = round(p.mean(),3)\n",
    "    er_tab.loc[er_tab.rc==reg,'max_p'] = round(p.max(),3)\n",
    "    # summarize snowmelt rate - BA intercept \n",
    "    er_tab.loc[er_tab.rc==reg,'min_int'] = round(cept.min(),3)\n",
    "    er_tab.loc[er_tab.rc==reg,'mean_int'] = round(cept.mean(),3)\n",
    "    er_tab.loc[er_tab.rc==reg,'max_int'] = round(cept.max(),3)\n",
    "    \n",
    "    # grab min and max snowmelt rates\n",
    "    \n",
    "    sm = d.loc[d.rc==reg,'snowmelt']\n",
    "    \n",
    "    er_tab.loc[er_tab.rc==reg,'min_snowmelt'] = sm.min()\n",
    "    er_tab.loc[er_tab.rc==reg,'max_snowmelt'] = sm.max()\n",
    "    er_tab.loc[er_tab.rc==reg,'mean_snowmelt'] = sm.mean()\n",
    "    \n",
    "    er_tab.loc[er_tab.rc==reg,'region'] = regions[ct]\n",
    "    ct +=1\n",
    "    \n",
    "er_tab.iloc[:,0:-2] = er_tab.iloc[:,0:-2].astype(float)"
   ]
  },
  {
   "cell_type": "code",
   "execution_count": 98,
   "metadata": {
    "collapsed": false
   },
   "outputs": [
    {
     "name": "stdout",
     "output_type": "stream",
     "text": [
      "Warning: Parameter out of range 0 < w <= 1.\n",
      "Warning: Parameter out of range 0 < w <= 1.\n"
     ]
    }
   ],
   "source": [
    "zhang = pd.DataFrame()\n",
    "zhang['rc'] = regs\n",
    "\n",
    "for er in regs:\n",
    "    # extract data for curve fitting\n",
    "    X = np.array([d[d.rc==er].P,d[d.rc==er].PETpenmanvic])\n",
    "    y = d[d.rc==er].ET_P.as_matrix() \n",
    "    \n",
    "    # Zhang - param\n",
    "    param = bc.fit_zhang(X,y) # estimate w\n",
    "    model = bc.zhang(X,param) # generate zhang curve\n",
    "    zhang.loc[er_fits.rc == er,'param'] = param\n",
    "    zhang.loc[er_fits.rc == er,'asmpt'] = model.max()\n",
    "    zhang.loc[er_fits.rc == er,'mean_snowmelt'] = d.loc[d.rc==er,'snowmelt'].mean()\n",
    "    "
   ]
  },
  {
   "cell_type": "code",
   "execution_count": 99,
   "metadata": {
    "collapsed": false
   },
   "outputs": [
    {
     "data": {
      "text/html": [
       "<div>\n",
       "<table border=\"1\" class=\"dataframe\">\n",
       "  <thead>\n",
       "    <tr style=\"text-align: right;\">\n",
       "      <th></th>\n",
       "      <th>rc</th>\n",
       "      <th>param</th>\n",
       "      <th>asmpt</th>\n",
       "      <th>mean_snowmelt</th>\n",
       "    </tr>\n",
       "  </thead>\n",
       "  <tbody>\n",
       "    <tr>\n",
       "      <th>0</th>\n",
       "      <td>1</td>\n",
       "      <td>0.299543</td>\n",
       "      <td>0.763621</td>\n",
       "      <td>8.177285</td>\n",
       "    </tr>\n",
       "    <tr>\n",
       "      <th>1</th>\n",
       "      <td>2</td>\n",
       "      <td>0.483512</td>\n",
       "      <td>0.914517</td>\n",
       "      <td>3.575226</td>\n",
       "    </tr>\n",
       "    <tr>\n",
       "      <th>2</th>\n",
       "      <td>3</td>\n",
       "      <td>-0.032795</td>\n",
       "      <td>0.736976</td>\n",
       "      <td>9.065597</td>\n",
       "    </tr>\n",
       "    <tr>\n",
       "      <th>3</th>\n",
       "      <td>4</td>\n",
       "      <td>0.071390</td>\n",
       "      <td>0.861669</td>\n",
       "      <td>5.483745</td>\n",
       "    </tr>\n",
       "    <tr>\n",
       "      <th>4</th>\n",
       "      <td>6</td>\n",
       "      <td>0.382172</td>\n",
       "      <td>0.896499</td>\n",
       "      <td>5.574560</td>\n",
       "    </tr>\n",
       "    <tr>\n",
       "      <th>5</th>\n",
       "      <td>7</td>\n",
       "      <td>0.759527</td>\n",
       "      <td>0.964712</td>\n",
       "      <td>2.892802</td>\n",
       "    </tr>\n",
       "    <tr>\n",
       "      <th>6</th>\n",
       "      <td>8</td>\n",
       "      <td>0.130342</td>\n",
       "      <td>0.697511</td>\n",
       "      <td>7.468346</td>\n",
       "    </tr>\n",
       "    <tr>\n",
       "      <th>7</th>\n",
       "      <td>9</td>\n",
       "      <td>0.378985</td>\n",
       "      <td>0.891007</td>\n",
       "      <td>5.931484</td>\n",
       "    </tr>\n",
       "    <tr>\n",
       "      <th>8</th>\n",
       "      <td>12</td>\n",
       "      <td>0.874068</td>\n",
       "      <td>0.970024</td>\n",
       "      <td>2.846349</td>\n",
       "    </tr>\n",
       "    <tr>\n",
       "      <th>9</th>\n",
       "      <td>13</td>\n",
       "      <td>1.059129</td>\n",
       "      <td>0.968271</td>\n",
       "      <td>2.471286</td>\n",
       "    </tr>\n",
       "  </tbody>\n",
       "</table>\n",
       "</div>"
      ],
      "text/plain": [
       "   rc     param     asmpt  mean_snowmelt\n",
       "0   1  0.299543  0.763621       8.177285\n",
       "1   2  0.483512  0.914517       3.575226\n",
       "2   3 -0.032795  0.736976       9.065597\n",
       "3   4  0.071390  0.861669       5.483745\n",
       "4   6  0.382172  0.896499       5.574560\n",
       "5   7  0.759527  0.964712       2.892802\n",
       "6   8  0.130342  0.697511       7.468346\n",
       "7   9  0.378985  0.891007       5.931484\n",
       "8  12  0.874068  0.970024       2.846349\n",
       "9  13  1.059129  0.968271       2.471286"
      ]
     },
     "execution_count": 99,
     "metadata": {},
     "output_type": "execute_result"
    }
   ],
   "source": [
    "zhang"
   ]
  },
  {
   "cell_type": "code",
   "execution_count": 100,
   "metadata": {
    "collapsed": true
   },
   "outputs": [],
   "source": [
    "#er_tab.to_excel('./figures/ecoregion_summary_table_non_linear.xlsx')"
   ]
  },
  {
   "cell_type": "code",
   "execution_count": 101,
   "metadata": {
    "collapsed": false
   },
   "outputs": [
    {
     "data": {
      "image/png": "[encoded data removed]",
      "text/plain": [
       "<matplotlib.figure.Figure at 0x110ab2810>"
      ]
     },
     "metadata": {},
     "output_type": "display_data"
    }
   ],
   "source": [
    "for er in regs:\n",
    "    brkx = float(er_tab.loc[er_tab.rc == er,'mean_breakx'])\n",
    "    brky = float(er_tab.loc[er_tab.rc == er,'mean_breaky'])\n",
    "    k1 = float(er_tab.loc[er_tab.rc == er,'mean_b1'])\n",
    "    k2 = float(er_tab.loc[er_tab.rc == er,'mean_b2'])\n",
    "    min_sm = float(er_tab.loc[er_tab.rc == er,'min_snowmelt'])\n",
    "    max_sm = float(er_tab.loc[er_tab.rc == er,'max_snowmelt'])\n",
    "    \n",
    "    X = np.arange(min_sm,max_sm,0.1)\n",
    "    Y = piecewise_linear(X,brkx,brky,k1,k2)\n",
    "    plt.plot(X,Y)\n",
    "    plt.xlabel('snowmelt rate')\n",
    "    plt.ylabel('Budyko Anomaly')\n",
    "    plt.axhline(0,c='k')"
   ]
  },
  {
   "cell_type": "code",
   "execution_count": 102,
   "metadata": {
    "collapsed": false
   },
   "outputs": [
    {
     "data": {
      "text/plain": [
       "<matplotlib.text.Text at 0x11b8a1950>"
      ]
     },
     "execution_count": 102,
     "metadata": {},
     "output_type": "execute_result"
    },
    {
     "data": {
      "image/png": "[encoded data removed]",
      "text/plain": [
       "<matplotlib.figure.Figure at 0x11b75b190>"
      ]
     },
     "metadata": {},
     "output_type": "display_data"
    }
   ],
   "source": [
    "x = np.arange(2,10,0.01)\n",
    "res = smf.ols('asmpt ~ mean_snowmelt + 1', zhang).fit()\n",
    "\n",
    "plt.plot(zhang.mean_snowmelt,zhang.asmpt,'.')\n",
    "plt.plot(x,x*res.params[1]+res.params[0])\n",
    "plt.xlabel('Mean Ecoregion Melt Rate [mm/d]', fontsize = 20)\n",
    "plt.ylabel('Zhang Asymptote [ET/P]', fontsize = 20)\n",
    "\n",
    "plt.text(3,0.75,'r$^2$: '+str(round(res.rsquared,3)))\n",
    "plt.text(3,0.72,'pval: '+str(round(res.f_pvalue,4)))"
   ]
  },
  {
   "cell_type": "markdown",
   "metadata": {},
   "source": [
    "## Recreate the manuscript plots"
   ]
  },
  {
   "cell_type": "markdown",
   "metadata": {},
   "source": [
    "### Figure 3"
   ]
  },
  {
   "cell_type": "code",
   "execution_count": 110,
   "metadata": {
    "collapsed": true
   },
   "outputs": [],
   "source": [
    "d['ln_snowmelt'] = np.log(d.snowmelt)"
   ]
  },
  {
   "cell_type": "code",
   "execution_count": 115,
   "metadata": {
    "collapsed": false
   },
   "outputs": [
    {
     "data": {
      "text/html": [
       "<div>\n",
       "<table border=\"1\" class=\"dataframe\">\n",
       "  <thead>\n",
       "    <tr style=\"text-align: right;\">\n",
       "      <th></th>\n",
       "      <th>breakx</th>\n",
       "      <th>breaky</th>\n",
       "      <th>b1</th>\n",
       "      <th>b2</th>\n",
       "      <th>r2</th>\n",
       "      <th>rmse</th>\n",
       "      <th>s1</th>\n",
       "      <th>s2</th>\n",
       "      <th>slope_bf_P</th>\n",
       "      <th>intercept_bf_P</th>\n",
       "      <th>lin_r2_bf_P</th>\n",
       "      <th>lin_pval_bf_P</th>\n",
       "    </tr>\n",
       "  </thead>\n",
       "  <tbody>\n",
       "    <tr>\n",
       "      <th>schreiber</th>\n",
       "      <td>10.726300</td>\n",
       "      <td>0.149023</td>\n",
       "      <td>0.017217</td>\n",
       "      <td>0.001319</td>\n",
       "      <td>0.278436</td>\n",
       "      <td>0.079904</td>\n",
       "      <td>0.950108</td>\n",
       "      <td>0.049892</td>\n",
       "      <td>0.422414</td>\n",
       "      <td>-0.049480</td>\n",
       "      <td>0.451128</td>\n",
       "      <td>0</td>\n",
       "    </tr>\n",
       "    <tr>\n",
       "      <th>oldekop</th>\n",
       "      <td>5.106147</td>\n",
       "      <td>0.189552</td>\n",
       "      <td>0.041618</td>\n",
       "      <td>0.006192</td>\n",
       "      <td>0.438083</td>\n",
       "      <td>0.081845</td>\n",
       "      <td>0.672722</td>\n",
       "      <td>0.327278</td>\n",
       "      <td>0.552679</td>\n",
       "      <td>0.010242</td>\n",
       "      <td>0.573219</td>\n",
       "      <td>0</td>\n",
       "    </tr>\n",
       "    <tr>\n",
       "      <th>turc_pike</th>\n",
       "      <td>7.141202</td>\n",
       "      <td>0.176485</td>\n",
       "      <td>0.028359</td>\n",
       "      <td>0.003493</td>\n",
       "      <td>0.396702</td>\n",
       "      <td>0.079846</td>\n",
       "      <td>0.817295</td>\n",
       "      <td>0.182705</td>\n",
       "      <td>0.516802</td>\n",
       "      <td>-0.020866</td>\n",
       "      <td>0.565407</td>\n",
       "      <td>0</td>\n",
       "    </tr>\n",
       "    <tr>\n",
       "      <th>budyko</th>\n",
       "      <td>5.533111</td>\n",
       "      <td>0.130031</td>\n",
       "      <td>0.028725</td>\n",
       "      <td>0.008489</td>\n",
       "      <td>0.353205</td>\n",
       "      <td>0.080090</td>\n",
       "      <td>0.709853</td>\n",
       "      <td>0.290147</td>\n",
       "      <td>0.482380</td>\n",
       "      <td>-0.020177</td>\n",
       "      <td>0.524903</td>\n",
       "      <td>0</td>\n",
       "    </tr>\n",
       "    <tr>\n",
       "      <th>myc</th>\n",
       "      <td>NaN</td>\n",
       "      <td>NaN</td>\n",
       "      <td>0.022212</td>\n",
       "      <td>NaN</td>\n",
       "      <td>0.441930</td>\n",
       "      <td>NaN</td>\n",
       "      <td>1.000000</td>\n",
       "      <td>NaN</td>\n",
       "      <td>0.577706</td>\n",
       "      <td>-0.112208</td>\n",
       "      <td>0.661443</td>\n",
       "      <td>0</td>\n",
       "    </tr>\n",
       "    <tr>\n",
       "      <th>fuzhang</th>\n",
       "      <td>8.799675</td>\n",
       "      <td>0.135857</td>\n",
       "      <td>0.027755</td>\n",
       "      <td>0.004634</td>\n",
       "      <td>0.474638</td>\n",
       "      <td>0.077567</td>\n",
       "      <td>0.892108</td>\n",
       "      <td>0.107892</td>\n",
       "      <td>0.585351</td>\n",
       "      <td>-0.113799</td>\n",
       "      <td>0.669316</td>\n",
       "      <td>0</td>\n",
       "    </tr>\n",
       "    <tr>\n",
       "      <th>zhang</th>\n",
       "      <td>9.422729</td>\n",
       "      <td>0.127869</td>\n",
       "      <td>0.024083</td>\n",
       "      <td>0.004746</td>\n",
       "      <td>0.421537</td>\n",
       "      <td>0.078035</td>\n",
       "      <td>0.915728</td>\n",
       "      <td>0.084272</td>\n",
       "      <td>0.538258</td>\n",
       "      <td>-0.108752</td>\n",
       "      <td>0.615707</td>\n",
       "      <td>0</td>\n",
       "    </tr>\n",
       "    <tr>\n",
       "      <th>sharif</th>\n",
       "      <td>8.595562</td>\n",
       "      <td>0.208647</td>\n",
       "      <td>0.039713</td>\n",
       "      <td>0.009194</td>\n",
       "      <td>0.651786</td>\n",
       "      <td>0.077135</td>\n",
       "      <td>0.883651</td>\n",
       "      <td>0.116349</td>\n",
       "      <td>0.803078</td>\n",
       "      <td>-0.133316</td>\n",
       "      <td>0.844397</td>\n",
       "      <td>0</td>\n",
       "    </tr>\n",
       "    <tr>\n",
       "      <th>zhou</th>\n",
       "      <td>8.905091</td>\n",
       "      <td>0.157804</td>\n",
       "      <td>0.036379</td>\n",
       "      <td>0.008974</td>\n",
       "      <td>0.622137</td>\n",
       "      <td>0.076968</td>\n",
       "      <td>0.896062</td>\n",
       "      <td>0.103938</td>\n",
       "      <td>0.757851</td>\n",
       "      <td>-0.170253</td>\n",
       "      <td>0.819548</td>\n",
       "      <td>0</td>\n",
       "    </tr>\n",
       "  </tbody>\n",
       "</table>\n",
       "</div>"
      ],
      "text/plain": [
       "              breakx    breaky        b1        b2        r2      rmse  \\\n",
       "schreiber  10.726300  0.149023  0.017217  0.001319  0.278436  0.079904   \n",
       "oldekop     5.106147  0.189552  0.041618  0.006192  0.438083  0.081845   \n",
       "turc_pike   7.141202  0.176485  0.028359  0.003493  0.396702  0.079846   \n",
       "budyko      5.533111  0.130031  0.028725  0.008489  0.353205  0.080090   \n",
       "myc              NaN       NaN  0.022212       NaN  0.441930       NaN   \n",
       "fuzhang     8.799675  0.135857  0.027755  0.004634  0.474638  0.077567   \n",
       "zhang       9.422729  0.127869  0.024083  0.004746  0.421537  0.078035   \n",
       "sharif      8.595562  0.208647  0.039713  0.009194  0.651786  0.077135   \n",
       "zhou        8.905091  0.157804  0.036379  0.008974  0.622137  0.076968   \n",
       "\n",
       "                 s1        s2  slope_bf_P  intercept_bf_P  lin_r2_bf_P  \\\n",
       "schreiber  0.950108  0.049892    0.422414       -0.049480     0.451128   \n",
       "oldekop    0.672722  0.327278    0.552679        0.010242     0.573219   \n",
       "turc_pike  0.817295  0.182705    0.516802       -0.020866     0.565407   \n",
       "budyko     0.709853  0.290147    0.482380       -0.020177     0.524903   \n",
       "myc        1.000000       NaN    0.577706       -0.112208     0.661443   \n",
       "fuzhang    0.892108  0.107892    0.585351       -0.113799     0.669316   \n",
       "zhang      0.915728  0.084272    0.538258       -0.108752     0.615707   \n",
       "sharif     0.883651  0.116349    0.803078       -0.133316     0.844397   \n",
       "zhou       0.896062  0.103938    0.757851       -0.170253     0.819548   \n",
       "\n",
       "           lin_pval_bf_P  \n",
       "schreiber              0  \n",
       "oldekop                0  \n",
       "turc_pike              0  \n",
       "budyko                 0  \n",
       "myc                    0  \n",
       "fuzhang                0  \n",
       "zhang                  0  \n",
       "sharif                 0  \n",
       "zhou                   0  "
      ]
     },
     "execution_count": 115,
     "metadata": {},
     "output_type": "execute_result"
    }
   ],
   "source": [
    "obfx2"
   ]
  },
  {
   "cell_type": "code",
   "execution_count": 134,
   "metadata": {
    "collapsed": false,
    "scrolled": false
   },
   "outputs": [
    {
     "data": {
      "image/png": "[encoded data removed]",
      "text/plain": [
       "<matplotlib.figure.Figure at 0x121374110>"
      ]
     },
     "metadata": {},
     "output_type": "display_data"
    }
   ],
   "source": [
    "SF = 'Sf'\n",
    "c='0.6'\n",
    "rowcol = (1,27)\n",
    "figsize = (4,11)\n",
    "s = 5\n",
    "alpha = 0.5\n",
    "\n",
    "fontsize = 12\n",
    "fig = plt.figure(figsize=figsize)\n",
    "\n",
    "\n",
    "ax1 = fig.add_subplot(411)\n",
    "ax2 = fig.add_subplot(412)\n",
    "ax3 = fig.add_subplot(413)\n",
    "ax4 = fig.add_subplot(414)\n",
    "\n",
    "# Budyko Curve and Sf Qanom \n",
    "\n",
    "ax1.scatter(d.PET_P,d.ET_P,s = s,c=c, alpha=alpha, edgecolor='none')\n",
    "ax1.plot(curves.PET_P,mean_bc,'-k', lw=3)\n",
    "ax1.set_ylabel('evaporative index \\n ET/P',fontsize=fontsize)\n",
    "ax1.set_xlabel('dryness index PET/P', fontsize=fontsize)\n",
    "ax1.axhline(1,c='k')\n",
    "ax1.axvline(1,c='k')\n",
    "ax1.set_xlim(0,5);\n",
    "ax1.set_ylim(0,1.2);\n",
    "ax1.annotate('a',[0.1,1.1], fontsize = fontsize, fontweight = 'bold', color='k');\n",
    "\n",
    "## now Qanom vs Snowmelt rate\n",
    "\n",
    "p1 = ax2.scatter(d.snowmelt,mean_anom,s = s, c = c, alpha = alpha, edgecolor = 'none');\n",
    "\n",
    "X = np.arange(d.snowmelt.min(),d.snowmelt.max(),0.1)\n",
    "y = piecewise_linear(X,np.nanmean(er_tab.mean_breakx),np.nanmean(er_tab.mean_breaky),np.nanmean(er_tab.mean_b1),np.nanmean(er_tab.mean_b2))\n",
    "p1 = ax2.plot(X,y,'-k', lw = 3)\n",
    "\n",
    "ax2.set_xlabel('snowmelt rate [mm/d]', fontsize = fontsize);\n",
    "ax2.set_ylabel('streamflow anomaly \\n (sim. - pred. Q)/P', fontsize=fontsize)\n",
    "ax2.annotate('b',[1,0.72], fontsize = fontsize, fontweight = 'bold',color='k');\n",
    "ax2.axhline(0,c='k',lw=1)\n",
    "ax2.set_xlim(0,35)\n",
    "ax2.set_ylim(-.2,y.max())\n",
    "eq = 'b$_1$='+str(round(np.nanmean(obfx2.b1),3))+'\\nb$_2$='+str(round(np.nanmean(obfx2.b2),3))+'\\nr$^2$='+str(round(obfx2.r2.mean(),3))\n",
    "ax2.text(25,-0.10,eq,fontweight='bold');\n",
    "#print eq\n",
    "\n",
    "## Snowmelt rate vs baseflow\n",
    "xx = 'snowmelt'\n",
    "yy = 'bf_P'\n",
    "mod = smf.ols('bf_P ~ snowmelt + ln_snowmelt + 1',d).fit()\n",
    "#X = d.snowmelt.as_matrix()\n",
    "#y = d.bf_P.as_matrix()\n",
    "#p,e = optimize.curve_fit(piecewise_linear,X,y)\n",
    "\n",
    "xx = np.arange(d.snowmelt.min(),d.snowmelt.max(),0.1)\n",
    "yy = piecewise_linear(xx,*p)\n",
    "\n",
    "\n",
    "p2 = ax3.scatter(d.snowmelt,d.bf_P,s = s, c = c, edgecolor = 'none', alpha = alpha)\n",
    "ax3.set_xlabel('snowmelt rate [mm/d]', fontsize=fontsize)\n",
    "ax3.set_ylabel('Q$_{bf}$/P', fontsize=fontsize)\n",
    "ax3.annotate('c',[0.8,0.62], fontsize = fontsize, fontweight = 'bold',color='k');\n",
    "eq = 'y='+str(round(mod.params.snowmelt,3))+'x+'+str(round(mod.params['ln_snowmelt'],3))+'ln(x)+'+str(round(mod.params.Intercept,3))+'\\np<0.001 \\nr$^2$='+str(round(mod.rsquared,3))\n",
    "ax3.text(5,0.03,eq,fontweight='bold');\n",
    "ax3.set_xlim(0,25)\n",
    "ax3.set_ylim(0,0.7)\n",
    "xnew = np.linspace(0.31269355539464155,40,300)\n",
    "ynew = mod.params['Intercept'] + xnew*mod.params['snowmelt'] + np.log(xnew)*mod.params['ln_snowmelt']\n",
    "ax3.plot(xnew,ynew,'-k', lw = 3)\n",
    "#ax3.plot(xx,yy,'-k', lw = 3)\n",
    "\n",
    "## Baseflow vs Runoff anomaly\n",
    "\n",
    "X = np.arange(d.bf_P.min(),d.bf_P.max(),0.1)\n",
    "y = (X*obfx2.slope_bf_P.mean())+obfx2.intercept_bf_P.mean()\n",
    "\n",
    "p3 = ax4.scatter(d.bf_P,mean_anom,s = s, c = c, edgecolor = 'none', alpha = alpha)\n",
    "ax4.set_xlabel('Q$_{bf}$/P', fontsize=fontsize)\n",
    "ax4.set_ylabel('streamflow anomaly \\n (sim. - pred. Q)/P', fontsize=fontsize)\n",
    "eq = 'y='+str(round(obfx2.slope_bf_P.mean(),3))+'x'+str(round(obfx2.intercept_bf_P.mean(),3))+'\\n p<0.001 \\n r$^{2}$='+str(round(obfx2.lin_r2_bf_P.mean(),3))\n",
    "ax4.text(0.28,0.43,eq,fontweight='bold');\n",
    "ax4.set_xlim(0,0.6)\n",
    "ax4.set_ylim(-0.25,0.75)\n",
    "ax4.annotate('d',[0.025,0.64], fontsize = fontsize, fontweight = 'bold',color='k');\n",
    "ax4.plot(X,y,'-k', lw = 3);\n",
    "fig.tight_layout();\n",
    "    \n",
    "#plt.savefig('./figures/GRL_4_pannel_vert_rev1.png', bbox_inches='tight',dpi=300)\n",
    "#plt.savefig('./figures/comment_4_pannel_vert_rev1.pdf', bbox_inches='tight')"
   ]
  },
  {
   "cell_type": "code",
   "execution_count": 45,
   "metadata": {
    "collapsed": true
   },
   "outputs": [],
   "source": [
    "xx = 'snowmelt'\n",
    "yy = 'bf_P'\n",
    "mod = smf.ols('bf_P ~ snowmelt + 1',d).fit()"
   ]
  },
  {
   "cell_type": "code",
   "execution_count": 46,
   "metadata": {
    "collapsed": false
   },
   "outputs": [
    {
     "data": {
      "text/plain": [
       "0.0"
      ]
     },
     "execution_count": 46,
     "metadata": {},
     "output_type": "execute_result"
    }
   ],
   "source": [
    "mod.pvalues.snowmelt"
   ]
  },
  {
   "cell_type": "code",
   "execution_count": 47,
   "metadata": {
    "collapsed": false
   },
   "outputs": [
    {
     "data": {
      "text/html": [
       "<table class=\"simpletable\">\n",
       "<caption>OLS Regression Results</caption>\n",
       "<tr>\n",
       "  <th>Dep. Variable:</th>          <td>bf_P</td>       <th>  R-squared:         </th>  <td>   0.675</td> \n",
       "</tr>\n",
       "<tr>\n",
       "  <th>Model:</th>                   <td>OLS</td>       <th>  Adj. R-squared:    </th>  <td>   0.675</td> \n",
       "</tr>\n",
       "<tr>\n",
       "  <th>Method:</th>             <td>Least Squares</td>  <th>  F-statistic:       </th>  <td>4.154e+04</td>\n",
       "</tr>\n",
       "<tr>\n",
       "  <th>Date:</th>             <td>Mon, 21 Mar 2016</td> <th>  Prob (F-statistic):</th>   <td>  0.00</td>  \n",
       "</tr>\n",
       "<tr>\n",
       "  <th>Time:</th>                 <td>11:48:09</td>     <th>  Log-Likelihood:    </th>  <td>  20850.</td> \n",
       "</tr>\n",
       "<tr>\n",
       "  <th>No. Observations:</th>      <td> 19983</td>      <th>  AIC:               </th> <td>-4.170e+04</td>\n",
       "</tr>\n",
       "<tr>\n",
       "  <th>Df Residuals:</th>          <td> 19981</td>      <th>  BIC:               </th> <td>-4.168e+04</td>\n",
       "</tr>\n",
       "<tr>\n",
       "  <th>Df Model:</th>              <td>     1</td>      <th>                     </th>      <td> </td>    \n",
       "</tr>\n",
       "<tr>\n",
       "  <th>Covariance Type:</th>      <td>nonrobust</td>    <th>                     </th>      <td> </td>    \n",
       "</tr>\n",
       "</table>\n",
       "<table class=\"simpletable\">\n",
       "<tr>\n",
       "      <td></td>         <th>coef</th>     <th>std err</th>      <th>t</th>      <th>P>|t|</th> <th>[95.0% Conf. Int.]</th> \n",
       "</tr>\n",
       "<tr>\n",
       "  <th>Intercept</th> <td>    0.0378</td> <td>    0.001</td> <td>   36.658</td> <td> 0.000</td> <td>    0.036     0.040</td>\n",
       "</tr>\n",
       "<tr>\n",
       "  <th>snowmelt</th>  <td>    0.0387</td> <td>    0.000</td> <td>  203.822</td> <td> 0.000</td> <td>    0.038     0.039</td>\n",
       "</tr>\n",
       "</table>\n",
       "<table class=\"simpletable\">\n",
       "<tr>\n",
       "  <th>Omnibus:</th>       <td>2204.098</td> <th>  Durbin-Watson:     </th> <td>   0.476</td> \n",
       "</tr>\n",
       "<tr>\n",
       "  <th>Prob(Omnibus):</th>  <td> 0.000</td>  <th>  Jarque-Bera (JB):  </th> <td>19193.422</td>\n",
       "</tr>\n",
       "<tr>\n",
       "  <th>Skew:</th>           <td> 0.157</td>  <th>  Prob(JB):          </th> <td>    0.00</td> \n",
       "</tr>\n",
       "<tr>\n",
       "  <th>Kurtosis:</th>       <td> 7.791</td>  <th>  Cond. No.          </th> <td>    9.53</td> \n",
       "</tr>\n",
       "</table>"
      ],
      "text/plain": [
       "<class 'statsmodels.iolib.summary.Summary'>\n",
       "\"\"\"\n",
       "                            OLS Regression Results                            \n",
       "==============================================================================\n",
       "Dep. Variable:                   bf_P   R-squared:                       0.675\n",
       "Model:                            OLS   Adj. R-squared:                  0.675\n",
       "Method:                 Least Squares   F-statistic:                 4.154e+04\n",
       "Date:                Mon, 21 Mar 2016   Prob (F-statistic):               0.00\n",
       "Time:                        11:48:09   Log-Likelihood:                 20850.\n",
       "No. Observations:               19983   AIC:                        -4.170e+04\n",
       "Df Residuals:                   19981   BIC:                        -4.168e+04\n",
       "Df Model:                           1                                         \n",
       "Covariance Type:            nonrobust                                         \n",
       "==============================================================================\n",
       "                 coef    std err          t      P>|t|      [95.0% Conf. Int.]\n",
       "------------------------------------------------------------------------------\n",
       "Intercept      0.0378      0.001     36.658      0.000         0.036     0.040\n",
       "snowmelt       0.0387      0.000    203.822      0.000         0.038     0.039\n",
       "==============================================================================\n",
       "Omnibus:                     2204.098   Durbin-Watson:                   0.476\n",
       "Prob(Omnibus):                  0.000   Jarque-Bera (JB):            19193.422\n",
       "Skew:                           0.157   Prob(JB):                         0.00\n",
       "Kurtosis:                       7.791   Cond. No.                         9.53\n",
       "==============================================================================\n",
       "\n",
       "Warnings:\n",
       "[1] Standard Errors assume that the covariance matrix of the errors is correctly specified.\n",
       "\"\"\""
      ]
     },
     "execution_count": 47,
     "metadata": {},
     "output_type": "execute_result"
    }
   ],
   "source": [
    "mod.summary()"
   ]
  },
  {
   "cell_type": "code",
   "execution_count": 48,
   "metadata": {
    "collapsed": false
   },
   "outputs": [
    {
     "data": {
      "text/plain": [
       "<matplotlib.lines.Line2D at 0x11bc16190>"
      ]
     },
     "execution_count": 48,
     "metadata": {},
     "output_type": "execute_result"
    },
    {
     "data": {
      "image/png": "[encoded data removed]",
      "text/plain": [
       "<matplotlib.figure.Figure at 0x11bc16210>"
      ]
     },
     "metadata": {},
     "output_type": "display_data"
    }
   ],
   "source": [
    "plt.plot(d.snowmelt,mod.resid,'.')\n",
    "#plt.hexbin(d.snowmelt,mod.resid,gridsize=100)\n",
    "plt.xlim(0,20)\n",
    "plt.axhline(0,c='k',lw=2)"
   ]
  },
  {
   "cell_type": "code",
   "execution_count": 49,
   "metadata": {
    "collapsed": true
   },
   "outputs": [],
   "source": [
    "residuals = mod.resid"
   ]
  },
  {
   "cell_type": "code",
   "execution_count": 50,
   "metadata": {
    "collapsed": false
   },
   "outputs": [
    {
     "data": {
      "image/png": "[encoded data removed]",
      "text/plain": [
       "<matplotlib.figure.Figure at 0x11bc2a0d0>"
      ]
     },
     "metadata": {},
     "output_type": "display_data"
    }
   ],
   "source": [
    "plt.hist(mod.resid.as_matrix(),50);"
   ]
  },
  {
   "cell_type": "code",
   "execution_count": 2,
   "metadata": {
    "collapsed": true
   },
   "outputs": [],
   "source": [
    "from scipy import stats as ss"
   ]
  },
  {
   "cell_type": "code",
   "execution_count": 3,
   "metadata": {
    "collapsed": false
   },
   "outputs": [
    {
     "ename": "NameError",
     "evalue": "name 'mean_anom' is not defined",
     "output_type": "error",
     "traceback": [
      "\u001b[0;31m---------------------------------------------------------------------------\u001b[0m",
      "\u001b[0;31mNameError\u001b[0m                                 Traceback (most recent call last)",
      "\u001b[0;32m<ipython-input-3-061dc3250124>\u001b[0m in \u001b[0;36m<module>\u001b[0;34m()\u001b[0m\n\u001b[0;32m----> 1\u001b[0;31m \u001b[0mss\u001b[0m\u001b[0;34m.\u001b[0m\u001b[0mttest_1samp\u001b[0m\u001b[0;34m(\u001b[0m\u001b[0mmean_anom\u001b[0m\u001b[0;34m,\u001b[0m\u001b[0;36m0\u001b[0m\u001b[0;34m)\u001b[0m\u001b[0;34m\u001b[0m\u001b[0m\n\u001b[0m",
      "\u001b[0;31mNameError\u001b[0m: name 'mean_anom' is not defined"
     ]
    }
   ],
   "source": [
    "ss.ttest_1samp(mean_anom,0)"
   ]
  },
  {
   "cell_type": "markdown",
   "metadata": {},
   "source": [
    "### Figure 4"
   ]
  },
  {
   "cell_type": "raw",
   "metadata": {
    "collapsed": true
   },
   "source": [
    "for er in regs:\n",
    "    cept = float(er_tab.loc[er_tab.rc == er,'mean_int'])\n",
    "    slp = float(er_tab.loc[er_tab.rc == er,'mean_slp'])\n",
    "    min_sm = float(er_tab.loc[er_tab.rc == er,'min_snowmelt'])\n",
    "    max_sm = float(er_tab.loc[er_tab.rc == er,'max_snowmelt'])\n",
    "    \n",
    "    X = [min_sm,max_sm]\n",
    "    Y = [slp*min_sm + cept, slp*max_sm + cept]\n",
    "    plt.plot(X,Y)\n",
    "    plt.xlabel('snowmelt rate')\n",
    "    plt.ylabel('Budyko Anomaly')\n",
    "    plt.axhline(0,c='k')"
   ]
  },
  {
   "cell_type": "code",
   "execution_count": 135,
   "metadata": {
    "collapsed": false
   },
   "outputs": [
    {
     "data": {
      "text/html": [
       "<div>\n",
       "<table border=\"1\" class=\"dataframe\">\n",
       "  <thead>\n",
       "    <tr style=\"text-align: right;\">\n",
       "      <th></th>\n",
       "      <th>rc</th>\n",
       "      <th>min_r2</th>\n",
       "      <th>mean_r2</th>\n",
       "      <th>max_r2</th>\n",
       "      <th>min_b1</th>\n",
       "      <th>mean_b1</th>\n",
       "      <th>max_b1</th>\n",
       "      <th>min_b2</th>\n",
       "      <th>mean_b2</th>\n",
       "      <th>max_b2</th>\n",
       "      <th>min_breakx</th>\n",
       "      <th>mean_breakx</th>\n",
       "      <th>max_breakx</th>\n",
       "      <th>min_breaky</th>\n",
       "      <th>mean_breaky</th>\n",
       "      <th>max_breaky</th>\n",
       "      <th>min_snowmelt</th>\n",
       "      <th>mean_snowmelt</th>\n",
       "      <th>max_snowmelt</th>\n",
       "    </tr>\n",
       "  </thead>\n",
       "  <tbody>\n",
       "    <tr>\n",
       "      <th>0</th>\n",
       "      <td>1</td>\n",
       "      <td>0.553251</td>\n",
       "      <td>0.722435</td>\n",
       "      <td>0.812094</td>\n",
       "      <td>-0.042121</td>\n",
       "      <td>0.013976</td>\n",
       "      <td>0.022254</td>\n",
       "      <td>0.020081</td>\n",
       "      <td>0.020081</td>\n",
       "      <td>0.020081</td>\n",
       "      <td>2.303200</td>\n",
       "      <td>2.303200</td>\n",
       "      <td>2.303200</td>\n",
       "      <td>-0.046912</td>\n",
       "      <td>-0.046912</td>\n",
       "      <td>-0.046912</td>\n",
       "      <td>1.578520</td>\n",
       "      <td>8.177285</td>\n",
       "      <td>33.504125</td>\n",
       "    </tr>\n",
       "    <tr>\n",
       "      <th>1</th>\n",
       "      <td>2</td>\n",
       "      <td>0.011062</td>\n",
       "      <td>0.156120</td>\n",
       "      <td>0.328709</td>\n",
       "      <td>0.003711</td>\n",
       "      <td>0.017840</td>\n",
       "      <td>0.040496</td>\n",
       "      <td>0.009665</td>\n",
       "      <td>0.015877</td>\n",
       "      <td>0.026100</td>\n",
       "      <td>2.352007</td>\n",
       "      <td>3.493433</td>\n",
       "      <td>4.968111</td>\n",
       "      <td>-0.008969</td>\n",
       "      <td>0.062273</td>\n",
       "      <td>0.126002</td>\n",
       "      <td>0.813247</td>\n",
       "      <td>3.575226</td>\n",
       "      <td>15.723258</td>\n",
       "    </tr>\n",
       "    <tr>\n",
       "      <th>2</th>\n",
       "      <td>3</td>\n",
       "      <td>0.017262</td>\n",
       "      <td>0.223843</td>\n",
       "      <td>0.569415</td>\n",
       "      <td>0.002798</td>\n",
       "      <td>0.007702</td>\n",
       "      <td>0.014552</td>\n",
       "      <td>NaN</td>\n",
       "      <td>NaN</td>\n",
       "      <td>NaN</td>\n",
       "      <td>NaN</td>\n",
       "      <td>NaN</td>\n",
       "      <td>NaN</td>\n",
       "      <td>NaN</td>\n",
       "      <td>NaN</td>\n",
       "      <td>NaN</td>\n",
       "      <td>1.362559</td>\n",
       "      <td>9.065597</td>\n",
       "      <td>35.238598</td>\n",
       "    </tr>\n",
       "    <tr>\n",
       "      <th>3</th>\n",
       "      <td>4</td>\n",
       "      <td>0.406836</td>\n",
       "      <td>0.494138</td>\n",
       "      <td>0.601363</td>\n",
       "      <td>0.016909</td>\n",
       "      <td>0.022422</td>\n",
       "      <td>0.033793</td>\n",
       "      <td>-0.002494</td>\n",
       "      <td>0.005403</td>\n",
       "      <td>0.014385</td>\n",
       "      <td>6.725385</td>\n",
       "      <td>7.166786</td>\n",
       "      <td>7.747927</td>\n",
       "      <td>0.159265</td>\n",
       "      <td>0.191045</td>\n",
       "      <td>0.240960</td>\n",
       "      <td>0.920047</td>\n",
       "      <td>5.483745</td>\n",
       "      <td>12.923191</td>\n",
       "    </tr>\n",
       "    <tr>\n",
       "      <th>4</th>\n",
       "      <td>6</td>\n",
       "      <td>0.000204</td>\n",
       "      <td>0.164666</td>\n",
       "      <td>0.309492</td>\n",
       "      <td>-0.019371</td>\n",
       "      <td>0.016091</td>\n",
       "      <td>0.091337</td>\n",
       "      <td>0.005209</td>\n",
       "      <td>0.024050</td>\n",
       "      <td>0.035017</td>\n",
       "      <td>0.774014</td>\n",
       "      <td>4.381292</td>\n",
       "      <td>6.737216</td>\n",
       "      <td>-0.044741</td>\n",
       "      <td>0.022895</td>\n",
       "      <td>0.145941</td>\n",
       "      <td>0.899974</td>\n",
       "      <td>5.574560</td>\n",
       "      <td>16.412981</td>\n",
       "    </tr>\n",
       "    <tr>\n",
       "      <th>5</th>\n",
       "      <td>7</td>\n",
       "      <td>0.322946</td>\n",
       "      <td>0.493423</td>\n",
       "      <td>0.613803</td>\n",
       "      <td>-0.067793</td>\n",
       "      <td>0.027534</td>\n",
       "      <td>0.052697</td>\n",
       "      <td>0.009281</td>\n",
       "      <td>0.018453</td>\n",
       "      <td>0.047418</td>\n",
       "      <td>0.984553</td>\n",
       "      <td>6.049036</td>\n",
       "      <td>7.907307</td>\n",
       "      <td>-0.152100</td>\n",
       "      <td>0.128473</td>\n",
       "      <td>0.218244</td>\n",
       "      <td>0.312694</td>\n",
       "      <td>2.892802</td>\n",
       "      <td>11.467365</td>\n",
       "    </tr>\n",
       "    <tr>\n",
       "      <th>6</th>\n",
       "      <td>8</td>\n",
       "      <td>0.336441</td>\n",
       "      <td>0.514942</td>\n",
       "      <td>0.663235</td>\n",
       "      <td>0.013022</td>\n",
       "      <td>0.238004</td>\n",
       "      <td>1.000000</td>\n",
       "      <td>0.014973</td>\n",
       "      <td>0.017558</td>\n",
       "      <td>0.020144</td>\n",
       "      <td>0.119929</td>\n",
       "      <td>0.144396</td>\n",
       "      <td>0.168864</td>\n",
       "      <td>-0.065020</td>\n",
       "      <td>-0.013334</td>\n",
       "      <td>0.038352</td>\n",
       "      <td>1.181430</td>\n",
       "      <td>7.468346</td>\n",
       "      <td>12.914454</td>\n",
       "    </tr>\n",
       "    <tr>\n",
       "      <th>7</th>\n",
       "      <td>9</td>\n",
       "      <td>0.386661</td>\n",
       "      <td>0.518094</td>\n",
       "      <td>0.644407</td>\n",
       "      <td>0.024843</td>\n",
       "      <td>0.032045</td>\n",
       "      <td>0.041653</td>\n",
       "      <td>NaN</td>\n",
       "      <td>NaN</td>\n",
       "      <td>NaN</td>\n",
       "      <td>NaN</td>\n",
       "      <td>NaN</td>\n",
       "      <td>NaN</td>\n",
       "      <td>NaN</td>\n",
       "      <td>NaN</td>\n",
       "      <td>NaN</td>\n",
       "      <td>1.043319</td>\n",
       "      <td>5.931484</td>\n",
       "      <td>12.518186</td>\n",
       "    </tr>\n",
       "    <tr>\n",
       "      <th>8</th>\n",
       "      <td>12</td>\n",
       "      <td>0.325794</td>\n",
       "      <td>0.463926</td>\n",
       "      <td>0.570095</td>\n",
       "      <td>-0.042986</td>\n",
       "      <td>-0.012012</td>\n",
       "      <td>0.037385</td>\n",
       "      <td>0.021913</td>\n",
       "      <td>0.037656</td>\n",
       "      <td>0.050020</td>\n",
       "      <td>2.217101</td>\n",
       "      <td>3.053536</td>\n",
       "      <td>7.590031</td>\n",
       "      <td>-0.130493</td>\n",
       "      <td>-0.021590</td>\n",
       "      <td>0.252821</td>\n",
       "      <td>0.508790</td>\n",
       "      <td>2.846349</td>\n",
       "      <td>9.458640</td>\n",
       "    </tr>\n",
       "    <tr>\n",
       "      <th>9</th>\n",
       "      <td>13</td>\n",
       "      <td>0.496884</td>\n",
       "      <td>0.627825</td>\n",
       "      <td>0.725845</td>\n",
       "      <td>-0.064562</td>\n",
       "      <td>-0.043174</td>\n",
       "      <td>0.045640</td>\n",
       "      <td>0.046170</td>\n",
       "      <td>0.058128</td>\n",
       "      <td>0.070214</td>\n",
       "      <td>1.588000</td>\n",
       "      <td>1.697260</td>\n",
       "      <td>1.801642</td>\n",
       "      <td>-0.175037</td>\n",
       "      <td>-0.101223</td>\n",
       "      <td>-0.011103</td>\n",
       "      <td>0.478671</td>\n",
       "      <td>2.471286</td>\n",
       "      <td>9.508663</td>\n",
       "    </tr>\n",
       "  </tbody>\n",
       "</table>\n",
       "</div>"
      ],
      "text/plain": [
       "   rc    min_r2   mean_r2    max_r2    min_b1   mean_b1    max_b1    min_b2  \\\n",
       "0   1  0.553251  0.722435  0.812094 -0.042121  0.013976  0.022254  0.020081   \n",
       "1   2  0.011062  0.156120  0.328709  0.003711  0.017840  0.040496  0.009665   \n",
       "2   3  0.017262  0.223843  0.569415  0.002798  0.007702  0.014552       NaN   \n",
       "3   4  0.406836  0.494138  0.601363  0.016909  0.022422  0.033793 -0.002494   \n",
       "4   6  0.000204  0.164666  0.309492 -0.019371  0.016091  0.091337  0.005209   \n",
       "5   7  0.322946  0.493423  0.613803 -0.067793  0.027534  0.052697  0.009281   \n",
       "6   8  0.336441  0.514942  0.663235  0.013022  0.238004  1.000000  0.014973   \n",
       "7   9  0.386661  0.518094  0.644407  0.024843  0.032045  0.041653       NaN   \n",
       "8  12  0.325794  0.463926  0.570095 -0.042986 -0.012012  0.037385  0.021913   \n",
       "9  13  0.496884  0.627825  0.725845 -0.064562 -0.043174  0.045640  0.046170   \n",
       "\n",
       "    mean_b2    max_b2  min_breakx  mean_breakx  max_breakx  min_breaky  \\\n",
       "0  0.020081  0.020081    2.303200     2.303200    2.303200   -0.046912   \n",
       "1  0.015877  0.026100    2.352007     3.493433    4.968111   -0.008969   \n",
       "2       NaN       NaN         NaN          NaN         NaN         NaN   \n",
       "3  0.005403  0.014385    6.725385     7.166786    7.747927    0.159265   \n",
       "4  0.024050  0.035017    0.774014     4.381292    6.737216   -0.044741   \n",
       "5  0.018453  0.047418    0.984553     6.049036    7.907307   -0.152100   \n",
       "6  0.017558  0.020144    0.119929     0.144396    0.168864   -0.065020   \n",
       "7       NaN       NaN         NaN          NaN         NaN         NaN   \n",
       "8  0.037656  0.050020    2.217101     3.053536    7.590031   -0.130493   \n",
       "9  0.058128  0.070214    1.588000     1.697260    1.801642   -0.175037   \n",
       "\n",
       "   mean_breaky  max_breaky  min_snowmelt  mean_snowmelt  max_snowmelt  \n",
       "0    -0.046912   -0.046912      1.578520       8.177285     33.504125  \n",
       "1     0.062273    0.126002      0.813247       3.575226     15.723258  \n",
       "2          NaN         NaN      1.362559       9.065597     35.238598  \n",
       "3     0.191045    0.240960      0.920047       5.483745     12.923191  \n",
       "4     0.022895    0.145941      0.899974       5.574560     16.412981  \n",
       "5     0.128473    0.218244      0.312694       2.892802     11.467365  \n",
       "6    -0.013334    0.038352      1.181430       7.468346     12.914454  \n",
       "7          NaN         NaN      1.043319       5.931484     12.518186  \n",
       "8    -0.021590    0.252821      0.508790       2.846349      9.458640  \n",
       "9    -0.101223   -0.011103      0.478671       2.471286      9.508663  "
      ]
     },
     "execution_count": 135,
     "metadata": {},
     "output_type": "execute_result"
    }
   ],
   "source": [
    "er_tab"
   ]
  },
  {
   "cell_type": "code",
   "execution_count": 54,
   "metadata": {
    "collapsed": true
   },
   "outputs": [],
   "source": [
    "#er_tab.to_excel('/Users/barnhatb/Dropbox/CUB/manuscripts/VIC_snowmelt_rate_GRL/submission_2/sm_2_ecoregions_raw.xlsx')"
   ]
  },
  {
   "cell_type": "code",
   "execution_count": 140,
   "metadata": {
    "collapsed": false
   },
   "outputs": [],
   "source": [
    "er_tab['region'] = regions # add regions to the data frame"
   ]
  },
  {
   "cell_type": "code",
   "execution_count": 143,
   "metadata": {
    "collapsed": false
   },
   "outputs": [],
   "source": [
    "b1s = er_tab.mean_b1.as_matrix()\n",
    "b2s = er_tab.mean_b2.as_matrix()\n",
    "#pvals = er_tab.mean_p.as_matrix()\n",
    "rsqrds = er_tab.mean_r2.as_matrix()\n",
    "regions = er_tab.region.as_matrix()\n",
    "\n",
    "\n",
    "# sort everything by slope\n",
    "b1s2 = [x for (y,x) in sorted(zip(b1s,b1s))] \n",
    "b2s2 = [x for (y,x) in sorted(zip(b1s,b2s))]\n",
    "cbcust3 = [x for (y,x) in sorted(zip(b1s,cbcust2))] # sort the color ramp \n",
    "regs2 = [x for (y,x) in sorted(zip(b1s,regs))] # sort the region codes\n",
    "regions2 = [x for (y,x) in sorted(zip(b1s,regions))] # sort the region names\n",
    "#pvals2 = [x for (y,x) in sorted(zip(slopes,pvals))] # sort the p values\n",
    "rsqrds2 = [x for (y,x) in sorted(zip(b1s,rsqrds))] # sort the r squared\n",
    "\n",
    "#Sfs2 = [x for (y,x) in sorted(zip(slopes,Sfs))] # x values\n",
    "#mods2 = [x for (y,x) in sorted(zip(slopes,mods))] # y values\n",
    "\n",
    "# generate titles\n",
    "names = []\n",
    "for er,r,s1,s2 in zip(regions2,rsqrds2,b1s2,b2s2):\n",
    "    \n",
    "    names.append(er+':\\n b$_1$='+str(round(s1,3))+'b$_2$='+str(round(s2,3))+', r$^2$='+str(round(r,3)))"
   ]
  },
  {
   "cell_type": "code",
   "execution_count": 150,
   "metadata": {
    "collapsed": false
   },
   "outputs": [
    {
     "data": {
      "text/plain": [
       "0    8.177285\n",
       "1    3.575226\n",
       "2    9.065597\n",
       "3    5.483745\n",
       "4    5.574560\n",
       "5    2.892802\n",
       "6    7.468346\n",
       "7    5.931484\n",
       "8    2.846349\n",
       "9    2.471286\n",
       "Name: mean_snowmelt, dtype: float64"
      ]
     },
     "execution_count": 150,
     "metadata": {},
     "output_type": "execute_result"
    }
   ],
   "source": [
    "er_tab.mean_snowmelt"
   ]
  },
  {
   "cell_type": "code",
   "execution_count": 153,
   "metadata": {
    "collapsed": false
   },
   "outputs": [
    {
     "data": {
      "image/png": "[encoded data removed]",
      "text/plain": [
       "<matplotlib.figure.Figure at 0x1229eb550>"
      ]
     },
     "metadata": {},
     "output_type": "display_data"
    }
   ],
   "source": [
    "dim = 14.\n",
    "fig = plt.figure(figsize=(7,dim))\n",
    "ax1 = fig.add_subplot(313)\n",
    "ax2 = fig.add_subplot(311)\n",
    "ax3 = fig.add_subplot(312)\n",
    "\n",
    "p1 = ax1.scatter(mean_anom,d.snowmelt,s = 0, c = data.rc, alpha = 0.3, edgecolor = 'none', cmap=mpl.colors.ListedColormap(cbcust3));\n",
    "\n",
    "ct = 0\n",
    "\n",
    "for er in regs2:\n",
    "    b1 = float(er_tab.loc[er_tab.rc == er,'mean_b1'])\n",
    "    b2 = float(er_tab.loc[er_tab.rc == er,'mean_b2'])\n",
    "    brkx = float(er_tab.loc[er_tab.rc == er,'mean_breakx'])\n",
    "    brky = float(er_tab.loc[er_tab.rc == er,'mean_breaky'])\n",
    "    min_sm = float(er_tab.loc[er_tab.rc == er,'min_snowmelt'])\n",
    "    max_sm = float(er_tab.loc[er_tab.rc == er,'max_snowmelt'])\n",
    "    \n",
    "    X = np.arange(min_sm,max_sm,0.1)\n",
    "    Y = piecewise_linear(X,brkx,brky,b1,b2)\n",
    "    ax1.plot(X,Y, c='k', lw=4);\n",
    "    ax1.plot(X,Y, c=cbcust3[ct], lw=2.5);\n",
    "    ct += 1\n",
    "\n",
    "ax1.axhline(0,c='k')\n",
    "\n",
    "ax1.set_xlabel('Snowmelt Rate [mm/d]', fontsize = 14,fontweight = 'bold');\n",
    "ax1.set_ylabel('Budyko Anomaly \\n (sim. - pred. Q)/P', fontsize=14,fontweight = 'bold');\n",
    "\n",
    "ax1.axhline(0,c='k',lw=2);\n",
    "ax1.set_xlim(0,38);\n",
    "ax1.set_ylim(-.2,0.6);\n",
    "ax1.tick_params(width=2,length=5);\n",
    "ax1.text(1.0,0.56,'c', fontweight='bold', fontsize=14)\n",
    "\n",
    "#for l in cb.ax.yaxis.get_ticklabels():\n",
    "#    l.set_fontsize(14);\n",
    "#    l.set_fontweight('medium');\n",
    "    \n",
    "plt.setp(ax1.get_xticklabels(),fontsize=14,fontweight ='medium');\n",
    "plt.setp(ax1.get_yticklabels(),fontsize=14, fontweight = 'medium');\n",
    "\n",
    "# plot the different zhang curves\n",
    "ct = 0\n",
    "for er in regs2:\n",
    "    Y = bc.zhang(X2,zhang.loc[zhang.rc == er,'param'].as_matrix())\n",
    "    ax2.plot(X2[1]/X2[0],Y,c='k', lw=4)\n",
    "    ax2.plot(X2[1]/X2[0],Y,c=cbcust3[ct], lw=2.5)\n",
    "    ct += 1\n",
    "    \n",
    "ax2.axhline(1,c='k',lw=2)\n",
    "ax2.set_ylim(0,1.1)\n",
    "ax2.set_xlim(0,5)\n",
    "ax2.set_xlabel('PET/P', fontsize = 14,fontweight = 'bold')\n",
    "ax2.set_ylabel('ET/P', fontsize = 14,fontweight = 'bold')\n",
    "ax2.text(0.1,1.05,'a', fontweight='bold', fontsize=14)\n",
    "\n",
    "# plot the zhang asymptotes vs the average snowmelt rate\n",
    "x = np.arange(er_tab.mean_snowmelt.min(),er_tab.mean_snowmelt.max(),0.01)\n",
    "res = smf.ols('asmpt ~ mean_snowmelt + 1', zhang).fit()\n",
    "\n",
    "ax3.plot(x,x*res.params[1]+res.params[0], c='k',lw=4)\n",
    "ax3.scatter(zhang.mean_snowmelt,zhang.asmpt,s=70,c=cbcust3)\n",
    "ax3.set_xlabel('Snowmelt Rate [mm/d]', fontsize = 14,fontweight = 'bold');\n",
    "ax3.set_ylabel('Zhang Asymptote [ET/P]', fontsize = 14,fontweight = 'bold');\n",
    "eqn = 'y='+str(round(res.params[1],3))+'x+'+str(round(res.params[0],3))+'\\n p<0.001 \\n r$^2$='+str(round(res.rsquared,3))\n",
    "ax3.set_xlim(1,10)\n",
    "ax3.text(1.5,0.66,eqn,fontweight='bold',fontsize=12)\n",
    "ax3.text(1.1,0.98,'b', fontweight='bold', fontsize=14)\n",
    "plt.sca(ax1)\n",
    "cb=plt.colorbar(p1, spacing='uniform');\n",
    "strt = 1.6\n",
    "st = 1.18\n",
    "cb.set_ticks([strt,strt+st*1,strt+st*2,strt+st*3,strt+st*4,strt+st*5,strt+st*6,strt+st*7,strt+st*8,strt+st*9]);\n",
    "cb.set_ticklabels(names);\n",
    "cb.set_alpha(1);\n",
    "cb.draw_all();\n",
    "\n",
    "fig.tight_layout()\n",
    "\n",
    "#plt.savefig('./figures/small2_ecoregions_Qanom_netSnowmelt_rev1.png',bbox_inches='tight',dpi=300)\n",
    "#plt.savefig('./figures/small2_ecoregions_Qanom_netSnowmelt_rev1.pdf',bbox_inches='tight')"
   ]
  },
  {
   "cell_type": "code",
   "execution_count": 159,
   "metadata": {
    "collapsed": false
   },
   "outputs": [
    {
     "data": {
      "image/png": "[encoded data removed]",
      "text/plain": [
       "<matplotlib.figure.Figure at 0x110ac3a90>"
      ]
     },
     "metadata": {},
     "output_type": "display_data"
    }
   ],
   "source": [
    "fig = plt.figure(figsize=[10,10])\n",
    "ax1 = fig.add_subplot(111)\n",
    "ct = 0\n",
    "\n",
    "for er in regs2:\n",
    "    b1 = float(er_tab.loc[er_tab.rc == er,'mean_b1'])\n",
    "    b2 = float(er_tab.loc[er_tab.rc == er,'mean_b2'])\n",
    "    brkx = float(er_tab.loc[er_tab.rc == er,'mean_breakx'])\n",
    "    brky = float(er_tab.loc[er_tab.rc == er,'mean_breaky'])\n",
    "    min_sm = float(er_tab.loc[er_tab.rc == er,'min_snowmelt'])\n",
    "    max_sm = float(er_tab.loc[er_tab.rc == er,'max_snowmelt'])\n",
    "    \n",
    "    X = np.arange(min_sm,max_sm,0.1)\n",
    "    Y = piecewise_linear(X,brkx,brky,b1,b2)\n",
    "    ax1.plot(X,Y, c='k', lw=8);\n",
    "    ax1.plot(X,Y, c=cbcust3[ct], lw=4);\n",
    "    ct += 1\n",
    "\n",
    "ax1.axhline(0,c='k')\n",
    "\n",
    "ax1.set_xlabel('Snowmelt Rate [mm/d]', fontsize = 14,fontweight = 'bold');\n",
    "ax1.set_ylabel('Budyko Anomaly \\n (sim. - pred. Q)/P', fontsize=14,fontweight = 'bold');\n",
    "\n",
    "ax1.axhline(0,c='k',lw=2);\n",
    "ax1.set_xlim(0,38);\n",
    "ax1.set_ylim(-.2,0.6);\n",
    "ax1.tick_params(width=2,length=5);\n",
    "ax1.text(1.0,0.56,'c', fontweight='bold', fontsize=14)\n",
    "\n",
    "#for l in cb.ax.yaxis.get_ticklabels():\n",
    "#    l.set_fontsize(14);\n",
    "#    l.set_fontweight('medium');\n",
    "    \n",
    "plt.setp(ax1.get_xticklabels(),fontsize=14,fontweight ='medium');\n",
    "plt.setp(ax1.get_yticklabels(),fontsize=14, fontweight = 'medium');\n",
    "\n",
    "cb=plt.colorbar(p1, spacing='uniform');\n",
    "strt = 1.6\n",
    "st = 1.18\n",
    "cb.set_ticks([strt,strt+st*1,strt+st*2,strt+st*3,strt+st*4,strt+st*5,strt+st*6,strt+st*7,strt+st*8,strt+st*9]);\n",
    "cb.set_ticklabels(names);\n",
    "cb.set_alpha(1);\n",
    "cb.draw_all();\n"
   ]
  },
  {
   "cell_type": "code",
   "execution_count": 171,
   "metadata": {
    "collapsed": false
   },
   "outputs": [
    {
     "data": {
      "text/html": [
       "<div>\n",
       "<table border=\"1\" class=\"dataframe\">\n",
       "  <thead>\n",
       "    <tr style=\"text-align: right;\">\n",
       "      <th></th>\n",
       "      <th>mean_b1</th>\n",
       "      <th>mean_b2</th>\n",
       "      <th>region</th>\n",
       "    </tr>\n",
       "  </thead>\n",
       "  <tbody>\n",
       "    <tr>\n",
       "      <th>6</th>\n",
       "      <td>0.238004</td>\n",
       "      <td>0.017558</td>\n",
       "      <td>Canadian Rockies</td>\n",
       "    </tr>\n",
       "    <tr>\n",
       "      <th>7</th>\n",
       "      <td>0.032045</td>\n",
       "      <td>NaN</td>\n",
       "      <td>Idaho Batholith</td>\n",
       "    </tr>\n",
       "    <tr>\n",
       "      <th>5</th>\n",
       "      <td>0.027534</td>\n",
       "      <td>0.018453</td>\n",
       "      <td>Middle Rockies</td>\n",
       "    </tr>\n",
       "    <tr>\n",
       "      <th>3</th>\n",
       "      <td>0.022422</td>\n",
       "      <td>0.005403</td>\n",
       "      <td>Sierra</td>\n",
       "    </tr>\n",
       "    <tr>\n",
       "      <th>1</th>\n",
       "      <td>0.017840</td>\n",
       "      <td>0.015877</td>\n",
       "      <td>East Cascades</td>\n",
       "    </tr>\n",
       "    <tr>\n",
       "      <th>4</th>\n",
       "      <td>0.016091</td>\n",
       "      <td>0.024050</td>\n",
       "      <td>Northern Rockies</td>\n",
       "    </tr>\n",
       "    <tr>\n",
       "      <th>0</th>\n",
       "      <td>0.013976</td>\n",
       "      <td>0.020081</td>\n",
       "      <td>Cascades</td>\n",
       "    </tr>\n",
       "    <tr>\n",
       "      <th>2</th>\n",
       "      <td>0.007702</td>\n",
       "      <td>NaN</td>\n",
       "      <td>North Cascades</td>\n",
       "    </tr>\n",
       "    <tr>\n",
       "      <th>8</th>\n",
       "      <td>-0.012012</td>\n",
       "      <td>0.037656</td>\n",
       "      <td>Wasatch</td>\n",
       "    </tr>\n",
       "    <tr>\n",
       "      <th>9</th>\n",
       "      <td>-0.043174</td>\n",
       "      <td>0.058128</td>\n",
       "      <td>Southern Rockies</td>\n",
       "    </tr>\n",
       "  </tbody>\n",
       "</table>\n",
       "</div>"
      ],
      "text/plain": [
       "    mean_b1   mean_b2            region\n",
       "6  0.238004  0.017558  Canadian Rockies\n",
       "7  0.032045       NaN   Idaho Batholith\n",
       "5  0.027534  0.018453    Middle Rockies\n",
       "3  0.022422  0.005403            Sierra\n",
       "1  0.017840  0.015877     East Cascades\n",
       "4  0.016091  0.024050  Northern Rockies\n",
       "0  0.013976  0.020081          Cascades\n",
       "2  0.007702       NaN    North Cascades\n",
       "8 -0.012012  0.037656           Wasatch\n",
       "9 -0.043174  0.058128  Southern Rockies"
      ]
     },
     "execution_count": 171,
     "metadata": {},
     "output_type": "execute_result"
    }
   ],
   "source": [
    "er_tab.sort_values(by='mean_b1',ascending=False)[['mean_b1','mean_b2','region']]"
   ]
  },
  {
   "cell_type": "code",
   "execution_count": 62,
   "metadata": {
    "collapsed": false
   },
   "outputs": [
    {
     "data": {
      "text/plain": [
       "<matplotlib.text.Text at 0x12409c310>"
      ]
     },
     "execution_count": 62,
     "metadata": {},
     "output_type": "execute_result"
    },
    {
     "data": {
      "image/png": "[encoded data removed]",
      "text/plain": [
       "<matplotlib.figure.Figure at 0x11f780150>"
      ]
     },
     "metadata": {},
     "output_type": "display_data"
    }
   ],
   "source": [
    "fig = plt.figure(figsize=(4,4))\n",
    "ax2 = fig.add_subplot(111)\n",
    "# plot the different zhang curves\n",
    "ct = 0\n",
    "for er in regs2:\n",
    "    Y = bc.zhang(X2,er_fits.loc[er_fits.rc == er,'zhang'].as_matrix())\n",
    "    ax2.plot(X2[1]/X2[0],Y,c='k', lw=4)\n",
    "    ax2.plot(X2[1]/X2[0],Y,c=cbcust3[ct], lw=2.5)\n",
    "    ct += 1\n",
    "    \n",
    "ax2.set_ylim(0.75,0.98)\n",
    "ax2.set_xlim(4,5)\n",
    "ax2.set_xlabel('PET/P', fontsize = 14,fontweight = 'bold')\n",
    "ax2.set_ylabel('ET/P', fontsize = 14,fontweight = 'bold')"
   ]
  },
  {
   "cell_type": "code",
   "execution_count": null,
   "metadata": {
    "collapsed": false
   },
   "outputs": [],
   "source": [
    "for c,n in zip(cbcust3,regions2):\n",
    "    print '%s: %s,%s,%s'%(n,round(c[0]*255.,0),round(c[1]*255.,0),round(c[2]*255.,0))111"
   ]
  },
  {
   "cell_type": "markdown",
   "metadata": {
    "collapsed": false
   },
   "source": [
    "## from matplotlib import colors"
   ]
  },
  {
   "cell_type": "code",
   "execution_count": 113,
   "metadata": {
    "collapsed": false
   },
   "outputs": [
    {
     "data": {
      "text/plain": [
       "0.52381077339529558"
      ]
     },
     "execution_count": 113,
     "metadata": {},
     "output_type": "execute_result"
    }
   ],
   "source": [
    "mean_anom.max()"
   ]
  },
  {
   "cell_type": "code",
   "execution_count": null,
   "metadata": {
    "collapsed": false
   },
   "outputs": [],
   "source": [
    "len(X2[1])"
   ]
  },
  {
   "cell_type": "code",
   "execution_count": null,
   "metadata": {
    "collapsed": false
   },
   "outputs": [],
   "source": [
    "X2[0]/X2[1]"
   ]
  },
  {
   "cell_type": "code",
   "execution_count": null,
   "metadata": {
    "collapsed": false
   },
   "outputs": [],
   "source": [
    "d['mean_Qanom_P'] = mean_anom # add the mean anomaly"
   ]
  },
  {
   "cell_type": "code",
   "execution_count": null,
   "metadata": {
    "collapsed": false
   },
   "outputs": [],
   "source": [
    "sm_min = d.snowmelt.min()\n",
    "sm_max = d.snowmelt.max()\n",
    "st = 0.5\n",
    "sms = np.arange(sm_min,sm_max+st+st,st)"
   ]
  },
  {
   "cell_type": "code",
   "execution_count": null,
   "metadata": {
    "collapsed": false
   },
   "outputs": [],
   "source": [
    "d.loc[(d.snowmelt<sms[num]+(st/2.))&(d.snowmelt>=sms[num]-(st/2.)),'mean_Qanom_P'].mean()"
   ]
  },
  {
   "cell_type": "code",
   "execution_count": null,
   "metadata": {
    "collapsed": false
   },
   "outputs": [],
   "source": [
    "a = []\n",
    "sd = []\n",
    "for sm in sms:\n",
    "    a.append(d.loc[(d.snowmelt<sm+(st/2.))&(d.snowmelt>=sm-(st/2.)),'mean_Qanom_P'].mean())\n",
    "    sd.append(d.loc[(d.snowmelt<sm+(st/2.))&(d.snowmelt>=sm-(st/2.)),'mean_Qanom_P'].std())"
   ]
  },
  {
   "cell_type": "code",
   "execution_count": null,
   "metadata": {
    "collapsed": false
   },
   "outputs": [],
   "source": [
    "plt.errorbar(sms,a,yerr=sd)"
   ]
  },
  {
   "cell_type": "code",
   "execution_count": null,
   "metadata": {
    "collapsed": false
   },
   "outputs": [],
   "source": [
    "def ispositive(array):\n",
    "    # 0 == negative\n",
    "    # 1 == positive\n",
    "    # 3 == nan\n",
    "    \n",
    "    n = len(array)\n",
    "    out = np.empty(n)\n",
    "    ct = 0\n",
    "    for a in array:\n",
    "        if  a - np.abs(a) < 0:\n",
    "            out[ct] = 0 # set negative\n",
    "            ct += 1\n",
    "            continue\n",
    "        elif np.isnan(a):\n",
    "            out[ct] = 3 # set nan\n",
    "            ct += 1\n",
    "            continue\n",
    "        elif a-np.abs(a) >= 0:\n",
    "            out[ct] = 1\n",
    "            ct += 1\n",
    "    return out"
   ]
  },
  {
   "cell_type": "code",
   "execution_count": null,
   "metadata": {
    "collapsed": false
   },
   "outputs": [],
   "source": [
    "test = np.array(a)-2.*np.array(sd)"
   ]
  },
  {
   "cell_type": "code",
   "execution_count": null,
   "metadata": {
    "collapsed": false
   },
   "outputs": [],
   "source": [
    "sms[ispositive(test)==1][0]"
   ]
  },
  {
   "cell_type": "code",
   "execution_count": null,
   "metadata": {
    "collapsed": false
   },
   "outputs": [],
   "source": [
    "np.empty(5)"
   ]
  },
  {
   "cell_type": "code",
   "execution_count": null,
   "metadata": {
    "collapsed": true
   },
   "outputs": [],
   "source": []
  }
 ],
 "metadata": {
  "kernelspec": {
   "display_name": "Python 2",
   "language": "python",
   "name": "python2"
  },
  "language_info": {
   "codemirror_mode": {
    "name": "ipython",
    "version": 2
   },
   "file_extension": ".py",
   "mimetype": "text/x-python",
   "name": "python",
   "nbconvert_exporter": "python",
   "pygments_lexer": "ipython2",
   "version": "2.7.11"
  }
 },
 "nbformat": 4,
 "nbformat_minor": 0
}
