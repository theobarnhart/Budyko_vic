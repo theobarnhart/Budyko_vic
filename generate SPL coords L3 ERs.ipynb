{
 "cells": [
  {
   "cell_type": "code",
   "execution_count": 1,
   "metadata": {
    "collapsed": false
   },
   "outputs": [],
   "source": [
    "%matplotlib inline\n",
    "\n",
    "import pandas as pd\n",
    "import numpy as np\n",
    "import gdal\n",
    "from gdalconst import *\n",
    "import matplotlib.pyplot as plt\n",
    "\n",
    "import glob"
   ]
  },
  {
   "cell_type": "code",
   "execution_count": 2,
   "metadata": {
    "collapsed": true
   },
   "outputs": [],
   "source": [
    "ers = ['./data/ecoregions/L3_tiffs/13_1_1.tif','./data/ecoregions/L3_tiffs/middle_rockies.tif',\n",
    "      './data/ecoregions/L3_tiffs/wasatch_uinta.tif','./data/ecoregions/L3_tiffs/souther_rockies.tif']"
   ]
  },
  {
   "cell_type": "code",
   "execution_count": 3,
   "metadata": {
    "collapsed": false
   },
   "outputs": [],
   "source": [
    "ers = !ls ./data/ecoregions/L3_tiffs/*.tif"
   ]
  },
  {
   "cell_type": "code",
   "execution_count": 3,
   "metadata": {
    "collapsed": false
   },
   "outputs": [
    {
     "data": {
      "text/plain": [
       "['./data/ecoregions/L3_tiffs/10_1_2.tif',\n",
       " './data/ecoregions/L3_tiffs/10_1_4.tif',\n",
       " './data/ecoregions/L3_tiffs/10_1_6.tif',\n",
       " './data/ecoregions/L3_tiffs/10_1_7.tif',\n",
       " './data/ecoregions/L3_tiffs/10_1_8.tif',\n",
       " './data/ecoregions/L3_tiffs/10_2_1.tif',\n",
       " './data/ecoregions/L3_tiffs/10_2_2.tif',\n",
       " './data/ecoregions/L3_tiffs/10_2_4.tif',\n",
       " './data/ecoregions/L3_tiffs/11_1_1.tif',\n",
       " './data/ecoregions/L3_tiffs/11_1_2.tif',\n",
       " './data/ecoregions/L3_tiffs/11_1_3.tif',\n",
       " './data/ecoregions/L3_tiffs/12_1_1.tif',\n",
       " './data/ecoregions/L3_tiffs/13_1_1.tif',\n",
       " './data/ecoregions/L3_tiffs/7_1_7.tif',\n",
       " './data/ecoregions/L3_tiffs/7_1_9.tif',\n",
       " './data/ecoregions/L3_tiffs/9_3_1.tif',\n",
       " './data/ecoregions/L3_tiffs/9_3_3.tif',\n",
       " './data/ecoregions/L3_tiffs/9_4_3.tif',\n",
       " './data/ecoregions/L3_tiffs/blue_mtns.tif',\n",
       " './data/ecoregions/L3_tiffs/canadian_rockies.tif',\n",
       " './data/ecoregions/L3_tiffs/cascades.tif',\n",
       " './data/ecoregions/L3_tiffs/central_basin_and_range.tif',\n",
       " './data/ecoregions/L3_tiffs/coast_ranges.tif',\n",
       " './data/ecoregions/L3_tiffs/e_cascades.tif',\n",
       " './data/ecoregions/L3_tiffs/id_batholith.tif',\n",
       " './data/ecoregions/L3_tiffs/klamath.tif',\n",
       " './data/ecoregions/L3_tiffs/middle_rockies.tif',\n",
       " './data/ecoregions/L3_tiffs/n_cascades.tif',\n",
       " './data/ecoregions/L3_tiffs/north_basin_and_range.tif',\n",
       " './data/ecoregions/L3_tiffs/northern_rockies.tif',\n",
       " './data/ecoregions/L3_tiffs/sierra.tif',\n",
       " './data/ecoregions/L3_tiffs/souther_rockies.tif',\n",
       " './data/ecoregions/L3_tiffs/wasatch_uinta.tif']"
      ]
     },
     "execution_count": 3,
     "metadata": {},
     "output_type": "execute_result"
    }
   ],
   "source": [
    "ers"
   ]
  },
  {
   "cell_type": "code",
   "execution_count": 3,
   "metadata": {
    "collapsed": false
   },
   "outputs": [],
   "source": [
    "cells = []\n",
    "rcs = []\n",
    "rc = 1\n",
    "\n",
    "for er in ers:\n",
    "    rast = gdal.Open(er, GA_ReadOnly)\n",
    "    r = np.array(rast.GetRasterBand(1).ReadAsArray(), dtype=np.float32)\n",
    "    r[r == -9999] = np.NaN\n",
    "    r = r[np.isnan(r) == 0].astype(np.int64)\n",
    "    \n",
    "    n = len(r)\n",
    "    rcodes = np.repeat(rc,n)\n",
    "    rcs.extend(rcodes)\n",
    "    rc += 1\n",
    "    cells.extend(r)"
   ]
  },
  {
   "cell_type": "code",
   "execution_count": 4,
   "metadata": {
    "collapsed": false
   },
   "outputs": [
    {
     "data": {
      "text/plain": [
       "9361"
      ]
     },
     "execution_count": 4,
     "metadata": {},
     "output_type": "execute_result"
    }
   ],
   "source": [
    "len(cells)"
   ]
  },
  {
   "cell_type": "code",
   "execution_count": 5,
   "metadata": {
    "collapsed": false
   },
   "outputs": [
    {
     "data": {
      "text/plain": [
       "9361"
      ]
     },
     "execution_count": 5,
     "metadata": {},
     "output_type": "execute_result"
    }
   ],
   "source": [
    "len(rcs)"
   ]
  },
  {
   "cell_type": "code",
   "execution_count": 6,
   "metadata": {
    "collapsed": false
   },
   "outputs": [],
   "source": [
    "files = pd.read_pickle('./forcing_fluxes_filenames_lat_lon_index.df')"
   ]
  },
  {
   "cell_type": "code",
   "execution_count": 7,
   "metadata": {
    "collapsed": false
   },
   "outputs": [],
   "source": [
    "index = files.indexer.as_matrix()\n",
    "lat = files.lat.as_matrix()\n",
    "lon = files.lon.as_matrix()"
   ]
  },
  {
   "cell_type": "code",
   "execution_count": 8,
   "metadata": {
    "collapsed": false
   },
   "outputs": [],
   "source": [
    "lat2 = []\n",
    "lon2 = []\n",
    "\n",
    "for i in xrange(len(cells)):\n",
    "    lat2.extend(list(lat[index == cells[i]]))\n",
    "    lon2.extend(list(lon[index == cells[i]]))"
   ]
  },
  {
   "cell_type": "code",
   "execution_count": 9,
   "metadata": {
    "collapsed": false
   },
   "outputs": [
    {
     "data": {
      "text/plain": [
       "9361"
      ]
     },
     "execution_count": 9,
     "metadata": {},
     "output_type": "execute_result"
    }
   ],
   "source": [
    "len(lat2)"
   ]
  },
  {
   "cell_type": "code",
   "execution_count": 10,
   "metadata": {
    "collapsed": false
   },
   "outputs": [],
   "source": [
    "np.savez_compressed('./spl_er_L3_domain.npz',lat=lat2,lon=lon2,indexer = cells,rc = rcs)"
   ]
  },
  {
   "cell_type": "code",
   "execution_count": null,
   "metadata": {
    "collapsed": true
   },
   "outputs": [],
   "source": []
  }
 ],
 "metadata": {
  "kernelspec": {
   "display_name": "Python 2",
   "language": "python",
   "name": "python2"
  },
  "language_info": {
   "codemirror_mode": {
    "name": "ipython",
    "version": 2
   },
   "file_extension": ".py",
   "mimetype": "text/x-python",
   "name": "python",
   "nbconvert_exporter": "python",
   "pygments_lexer": "ipython2",
   "version": "2.7.10"
  }
 },
 "nbformat": 4,
 "nbformat_minor": 0
}
