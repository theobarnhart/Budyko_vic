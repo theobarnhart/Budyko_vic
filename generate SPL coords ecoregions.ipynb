{
 "metadata": {
  "name": "",
  "signature": "sha256:2edd21d96f8979bb0859e4e345d9320b639b42a8ebece3301b16fc127e5ee3e9"
 },
 "nbformat": 3,
 "nbformat_minor": 0,
 "worksheets": [
  {
   "cells": [
    {
     "cell_type": "code",
     "collapsed": false,
     "input": [
      "%matplotlib inline\n",
      "\n",
      "import pandas as pd\n",
      "import numpy as np\n",
      "import gdal\n",
      "from gdalconst import *\n",
      "import matplotlib.pyplot as plt\n",
      "\n",
      "import glob"
     ],
     "language": "python",
     "metadata": {},
     "outputs": [],
     "prompt_number": 3
    },
    {
     "cell_type": "code",
     "collapsed": false,
     "input": [
      "states = ['10','6','11','13']\n",
      "pth = './data/ecoregions/spl_tiffs/'"
     ],
     "language": "python",
     "metadata": {},
     "outputs": [],
     "prompt_number": 8
    },
    {
     "cell_type": "code",
     "collapsed": false,
     "input": [
      "cells = []\n",
      "\n",
      "for state in states:\n",
      "    fpath = pth+'l1_'+state+'.tif'\n",
      "    rast = gdal.Open(fpath, GA_ReadOnly)\n",
      "    r = np.array(rast.GetRasterBand(1).ReadAsArray(), dtype=np.float32)\n",
      "    r[r == -9999] = np.NaN\n",
      "    r = r[np.isnan(r) == 0].astype(np.int64)\n",
      "    cells.extend(r)"
     ],
     "language": "python",
     "metadata": {},
     "outputs": [],
     "prompt_number": 10
    },
    {
     "cell_type": "code",
     "collapsed": false,
     "input": [
      "len(cells)"
     ],
     "language": "python",
     "metadata": {},
     "outputs": [
      {
       "metadata": {},
       "output_type": "pyout",
       "prompt_number": 11,
       "text": [
        "67945"
       ]
      }
     ],
     "prompt_number": 11
    },
    {
     "cell_type": "code",
     "collapsed": false,
     "input": [
      "len(np.unique(cells))"
     ],
     "language": "python",
     "metadata": {},
     "outputs": [
      {
       "metadata": {},
       "output_type": "pyout",
       "prompt_number": 12,
       "text": [
        "67945"
       ]
      }
     ],
     "prompt_number": 12
    },
    {
     "cell_type": "code",
     "collapsed": false,
     "input": [
      "files = pd.read_pickle('./forcing_fluxes_filenames_lat_lon_index.df')"
     ],
     "language": "python",
     "metadata": {},
     "outputs": [],
     "prompt_number": 13
    },
    {
     "cell_type": "code",
     "collapsed": false,
     "input": [
      "index = files.indexer.as_matrix()\n",
      "lat = files.lat.as_matrix()\n",
      "lon = files.lon.as_matrix()"
     ],
     "language": "python",
     "metadata": {},
     "outputs": [],
     "prompt_number": 14
    },
    {
     "cell_type": "code",
     "collapsed": false,
     "input": [
      "lat2 = []\n",
      "lon2 = []\n",
      "\n",
      "for i in xrange(len(cells)):\n",
      "    lat2.extend(list(lat[index == cells[i]]))\n",
      "    lon2.extend(list(lon[index == cells[i]]))"
     ],
     "language": "python",
     "metadata": {},
     "outputs": [],
     "prompt_number": 15
    },
    {
     "cell_type": "code",
     "collapsed": false,
     "input": [
      "np.savez_compressed('./spl_er_domain.npz',lat=lat2,lon=lon2,indexer = cells)"
     ],
     "language": "python",
     "metadata": {},
     "outputs": [],
     "prompt_number": 16
    }
   ],
   "metadata": {}
  }
 ]
}