{
 "metadata": {
  "name": "",
  "signature": "sha256:825b2f10512951b9f3c5c16559d8e34636cec567aadf9a776ba226b6fcc05a0b"
 },
 "nbformat": 3,
 "nbformat_minor": 0,
 "worksheets": [
  {
   "cells": [
    {
     "cell_type": "code",
     "collapsed": false,
     "input": [
      "import pandas as pd\n",
      "import numpy as np"
     ],
     "language": "python",
     "metadata": {},
     "outputs": [],
     "prompt_number": 1
    },
    {
     "cell_type": "code",
     "collapsed": false,
     "input": [
      "vic = pd.DataFrame()\n",
      "data = np.load('/Volumes/data/Theo/projects/Budyko_vic/data/ground_truth_flux.npz')\n",
      "for key in data.keys():\n",
      "    vic[key] = data[key]"
     ],
     "language": "python",
     "metadata": {},
     "outputs": [],
     "prompt_number": 3
    },
    {
     "cell_type": "code",
     "collapsed": false,
     "input": [
      "vic.head()"
     ],
     "language": "python",
     "metadata": {},
     "outputs": [
      {
       "html": [
        "<div style=\"max-height:1000px;max-width:1500px;overflow:auto;\">\n",
        "<table border=\"1\" class=\"dataframe\">\n",
        "  <thead>\n",
        "    <tr style=\"text-align: right;\">\n",
        "      <th></th>\n",
        "      <th>Q</th>\n",
        "      <th>idx</th>\n",
        "      <th>years</th>\n",
        "    </tr>\n",
        "  </thead>\n",
        "  <tbody>\n",
        "    <tr>\n",
        "      <th>0</th>\n",
        "      <td>154.654149</td>\n",
        "      <td>0</td>\n",
        "      <td>1950</td>\n",
        "    </tr>\n",
        "    <tr>\n",
        "      <th>1</th>\n",
        "      <td>366.586020</td>\n",
        "      <td>0</td>\n",
        "      <td>1951</td>\n",
        "    </tr>\n",
        "    <tr>\n",
        "      <th>2</th>\n",
        "      <td>485.809605</td>\n",
        "      <td>0</td>\n",
        "      <td>1952</td>\n",
        "    </tr>\n",
        "    <tr>\n",
        "      <th>3</th>\n",
        "      <td>501.124642</td>\n",
        "      <td>0</td>\n",
        "      <td>1953</td>\n",
        "    </tr>\n",
        "    <tr>\n",
        "      <th>4</th>\n",
        "      <td>385.263873</td>\n",
        "      <td>0</td>\n",
        "      <td>1954</td>\n",
        "    </tr>\n",
        "  </tbody>\n",
        "</table>\n",
        "</div>"
       ],
       "metadata": {},
       "output_type": "pyout",
       "prompt_number": 4,
       "text": [
        "            Q  idx  years\n",
        "0  154.654149    0   1950\n",
        "1  366.586020    0   1951\n",
        "2  485.809605    0   1952\n",
        "3  501.124642    0   1953\n",
        "4  385.263873    0   1954"
       ]
      }
     ],
     "prompt_number": 4
    },
    {
     "cell_type": "code",
     "collapsed": false,
     "input": [
      "cells = pd.DataFrame()\n",
      "data = np.load('./data/VIC_cells_overlap.npz') # load the soil data\n",
      "\n",
      "# loop through the SWE data\n",
      "\n",
      "for key in data.keys():\n",
      "    cells[key] = data[key]"
     ],
     "language": "python",
     "metadata": {},
     "outputs": [],
     "prompt_number": 9
    },
    {
     "cell_type": "code",
     "collapsed": false,
     "input": [
      "hydro = np.load('/Volumes/data/Theo/projects/Budyko_vic/data/processed_observed_streamflow.pcl')"
     ],
     "language": "python",
     "metadata": {},
     "outputs": [],
     "prompt_number": 5
    },
    {
     "cell_type": "code",
     "collapsed": false,
     "input": [
      "cells.head()"
     ],
     "language": "python",
     "metadata": {},
     "outputs": [
      {
       "html": [
        "<div style=\"max-height:1000px;max-width:1500px;overflow:auto;\">\n",
        "<table border=\"1\" class=\"dataframe\">\n",
        "  <thead>\n",
        "    <tr style=\"text-align: right;\">\n",
        "      <th></th>\n",
        "      <th>gages</th>\n",
        "      <th>percent</th>\n",
        "      <th>cells</th>\n",
        "    </tr>\n",
        "  </thead>\n",
        "  <tbody>\n",
        "    <tr>\n",
        "      <th>0</th>\n",
        "      <td>1013500</td>\n",
        "      <td>0.03</td>\n",
        "      <td>220560</td>\n",
        "    </tr>\n",
        "    <tr>\n",
        "      <th>1</th>\n",
        "      <td>1013500</td>\n",
        "      <td>0.04</td>\n",
        "      <td>221438</td>\n",
        "    </tr>\n",
        "    <tr>\n",
        "      <th>2</th>\n",
        "      <td>1013500</td>\n",
        "      <td>0.07</td>\n",
        "      <td>221441</td>\n",
        "    </tr>\n",
        "    <tr>\n",
        "      <th>3</th>\n",
        "      <td>1013500</td>\n",
        "      <td>0.67</td>\n",
        "      <td>221442</td>\n",
        "    </tr>\n",
        "    <tr>\n",
        "      <th>4</th>\n",
        "      <td>1013500</td>\n",
        "      <td>0.74</td>\n",
        "      <td>221443</td>\n",
        "    </tr>\n",
        "  </tbody>\n",
        "</table>\n",
        "</div>"
       ],
       "metadata": {},
       "output_type": "pyout",
       "prompt_number": 10,
       "text": [
        "     gages  percent   cells\n",
        "0  1013500     0.03  220560\n",
        "1  1013500     0.04  221438\n",
        "2  1013500     0.07  221441\n",
        "3  1013500     0.67  221442\n",
        "4  1013500     0.74  221443"
       ]
      }
     ],
     "prompt_number": 10
    },
    {
     "cell_type": "code",
     "collapsed": false,
     "input": [
      "hydro.tail()"
     ],
     "language": "python",
     "metadata": {},
     "outputs": [
      {
       "html": [
        "<div style=\"max-height:1000px;max-width:1500px;overflow:auto;\">\n",
        "<table border=\"1\" class=\"dataframe\">\n",
        "  <thead>\n",
        "    <tr style=\"text-align: right;\">\n",
        "      <th></th>\n",
        "      <th>year</th>\n",
        "      <th>Q</th>\n",
        "      <th>gage</th>\n",
        "    </tr>\n",
        "  </thead>\n",
        "  <tbody>\n",
        "    <tr>\n",
        "      <th>26</th>\n",
        "      <td>2006</td>\n",
        "      <td>2896.472292</td>\n",
        "      <td>11532500</td>\n",
        "    </tr>\n",
        "    <tr>\n",
        "      <th>27</th>\n",
        "      <td>2007</td>\n",
        "      <td>1693.572576</td>\n",
        "      <td>11532500</td>\n",
        "    </tr>\n",
        "    <tr>\n",
        "      <th>28</th>\n",
        "      <td>2008</td>\n",
        "      <td>1851.259016</td>\n",
        "      <td>11532500</td>\n",
        "    </tr>\n",
        "    <tr>\n",
        "      <th>29</th>\n",
        "      <td>2009</td>\n",
        "      <td>1530.879632</td>\n",
        "      <td>11532500</td>\n",
        "    </tr>\n",
        "    <tr>\n",
        "      <th>30</th>\n",
        "      <td>2010</td>\n",
        "      <td>2684.789759</td>\n",
        "      <td>11532500</td>\n",
        "    </tr>\n",
        "  </tbody>\n",
        "</table>\n",
        "</div>"
       ],
       "metadata": {},
       "output_type": "pyout",
       "prompt_number": 6,
       "text": [
        "    year            Q      gage\n",
        "26  2006  2896.472292  11532500\n",
        "27  2007  1693.572576  11532500\n",
        "28  2008  1851.259016  11532500\n",
        "29  2009  1530.879632  11532500\n",
        "30  2010  2684.789759  11532500"
       ]
      }
     ],
     "prompt_number": 6
    },
    {
     "cell_type": "code",
     "collapsed": false,
     "input": [
      "strt = 1980\n",
      "nd = 2010"
     ],
     "language": "python",
     "metadata": {},
     "outputs": [],
     "prompt_number": 7
    },
    {
     "cell_type": "code",
     "collapsed": false,
     "input": [
      "gages = np.unique(cells.gages)"
     ],
     "language": "python",
     "metadata": {},
     "outputs": [],
     "prompt_number": 11
    },
    {
     "cell_type": "code",
     "collapsed": false,
     "input": [
      "gage = gages[0]\n",
      "gt = hydro.loc[hydro.gage==gage,:] # pull out the observations for that gage\n",
      "vcs = cells.loc[cells.gages==gage,:] # pull the cooresponding vic cells\n",
      "\n",
      "Q = []\n",
      "years = []\n",
      "for yr in gt.year:\n",
      "    Qtmp = 0.\n",
      "    for per,cell in zip(vcs.percent,vcs.cells):\n",
      "        Qtmp += vic.loc[(vic.idx==cell)&(vic.years==yr),'Q'].as_matrix()*per # add each cells contribution together\n",
      "    Q.extend(Qtmp)\n",
      "    years.append(yr)"
     ],
     "language": "python",
     "metadata": {},
     "outputs": [],
     "prompt_number": 32
    },
    {
     "cell_type": "code",
     "collapsed": false,
     "input": [
      "per"
     ],
     "language": "python",
     "metadata": {},
     "outputs": [
      {
       "metadata": {},
       "output_type": "pyout",
       "prompt_number": 36,
       "text": [
        "0.029999999999999999"
       ]
      }
     ],
     "prompt_number": 36
    },
    {
     "cell_type": "code",
     "collapsed": false,
     "input": [
      "len(cells)"
     ],
     "language": "python",
     "metadata": {},
     "outputs": [
      {
       "metadata": {},
       "output_type": "pyout",
       "prompt_number": 37,
       "text": [
        "17069"
       ]
      }
     ],
     "prompt_number": 37
    },
    {
     "cell_type": "code",
     "collapsed": false,
     "input": [
      "len(vcs)"
     ],
     "language": "python",
     "metadata": {},
     "outputs": [
      {
       "metadata": {},
       "output_type": "pyout",
       "prompt_number": 38,
       "text": [
        "99"
       ]
      }
     ],
     "prompt_number": 38
    },
    {
     "cell_type": "code",
     "collapsed": false,
     "input": [
      "len(np.unique(vcs.cells))"
     ],
     "language": "python",
     "metadata": {},
     "outputs": [
      {
       "metadata": {},
       "output_type": "pyout",
       "prompt_number": 40,
       "text": [
        "99"
       ]
      }
     ],
     "prompt_number": 40
    },
    {
     "cell_type": "code",
     "collapsed": false,
     "input": [
      "gage"
     ],
     "language": "python",
     "metadata": {},
     "outputs": [
      {
       "metadata": {},
       "output_type": "pyout",
       "prompt_number": 41,
       "text": [
        "1013500"
       ]
      }
     ],
     "prompt_number": 41
    },
    {
     "cell_type": "code",
     "collapsed": false,
     "input": [
      "hydro.loc[hydro.gage==gage]"
     ],
     "language": "python",
     "metadata": {},
     "outputs": [
      {
       "html": [
        "<div style=\"max-height:1000px;max-width:1500px;overflow:auto;\">\n",
        "<table border=\"1\" class=\"dataframe\">\n",
        "  <thead>\n",
        "    <tr style=\"text-align: right;\">\n",
        "      <th></th>\n",
        "      <th>year</th>\n",
        "      <th>Q</th>\n",
        "      <th>gage</th>\n",
        "    </tr>\n",
        "  </thead>\n",
        "  <tbody>\n",
        "    <tr>\n",
        "      <th>0</th>\n",
        "      <td>1980</td>\n",
        "      <td>372.121622</td>\n",
        "      <td>1013500</td>\n",
        "    </tr>\n",
        "    <tr>\n",
        "      <th>1</th>\n",
        "      <td>1981</td>\n",
        "      <td>754.789003</td>\n",
        "      <td>1013500</td>\n",
        "    </tr>\n",
        "    <tr>\n",
        "      <th>2</th>\n",
        "      <td>1982</td>\n",
        "      <td>520.905920</td>\n",
        "      <td>1013500</td>\n",
        "    </tr>\n",
        "    <tr>\n",
        "      <th>3</th>\n",
        "      <td>1983</td>\n",
        "      <td>755.157484</td>\n",
        "      <td>1013500</td>\n",
        "    </tr>\n",
        "    <tr>\n",
        "      <th>4</th>\n",
        "      <td>1984</td>\n",
        "      <td>700.583100</td>\n",
        "      <td>1013500</td>\n",
        "    </tr>\n",
        "    <tr>\n",
        "      <th>5</th>\n",
        "      <td>1985</td>\n",
        "      <td>433.860665</td>\n",
        "      <td>1013500</td>\n",
        "    </tr>\n",
        "    <tr>\n",
        "      <th>6</th>\n",
        "      <td>1986</td>\n",
        "      <td>609.771276</td>\n",
        "      <td>1013500</td>\n",
        "    </tr>\n",
        "    <tr>\n",
        "      <th>7</th>\n",
        "      <td>1987</td>\n",
        "      <td>457.633489</td>\n",
        "      <td>1013500</td>\n",
        "    </tr>\n",
        "    <tr>\n",
        "      <th>8</th>\n",
        "      <td>1988</td>\n",
        "      <td>459.861361</td>\n",
        "      <td>1013500</td>\n",
        "    </tr>\n",
        "    <tr>\n",
        "      <th>9</th>\n",
        "      <td>1989</td>\n",
        "      <td>446.684206</td>\n",
        "      <td>1013500</td>\n",
        "    </tr>\n",
        "    <tr>\n",
        "      <th>10</th>\n",
        "      <td>1990</td>\n",
        "      <td>649.834754</td>\n",
        "      <td>1013500</td>\n",
        "    </tr>\n",
        "    <tr>\n",
        "      <th>11</th>\n",
        "      <td>1991</td>\n",
        "      <td>663.112790</td>\n",
        "      <td>1013500</td>\n",
        "    </tr>\n",
        "    <tr>\n",
        "      <th>12</th>\n",
        "      <td>1992</td>\n",
        "      <td>555.638644</td>\n",
        "      <td>1013500</td>\n",
        "    </tr>\n",
        "    <tr>\n",
        "      <th>13</th>\n",
        "      <td>1993</td>\n",
        "      <td>568.281662</td>\n",
        "      <td>1013500</td>\n",
        "    </tr>\n",
        "    <tr>\n",
        "      <th>14</th>\n",
        "      <td>1994</td>\n",
        "      <td>599.154369</td>\n",
        "      <td>1013500</td>\n",
        "    </tr>\n",
        "    <tr>\n",
        "      <th>15</th>\n",
        "      <td>1995</td>\n",
        "      <td>480.666166</td>\n",
        "      <td>1013500</td>\n",
        "    </tr>\n",
        "    <tr>\n",
        "      <th>16</th>\n",
        "      <td>1996</td>\n",
        "      <td>712.824719</td>\n",
        "      <td>1013500</td>\n",
        "    </tr>\n",
        "    <tr>\n",
        "      <th>17</th>\n",
        "      <td>1997</td>\n",
        "      <td>553.699609</td>\n",
        "      <td>1013500</td>\n",
        "    </tr>\n",
        "    <tr>\n",
        "      <th>18</th>\n",
        "      <td>1998</td>\n",
        "      <td>549.816230</td>\n",
        "      <td>1013500</td>\n",
        "    </tr>\n",
        "    <tr>\n",
        "      <th>19</th>\n",
        "      <td>1999</td>\n",
        "      <td>552.106755</td>\n",
        "      <td>1013500</td>\n",
        "    </tr>\n",
        "    <tr>\n",
        "      <th>20</th>\n",
        "      <td>2000</td>\n",
        "      <td>584.628597</td>\n",
        "      <td>1013500</td>\n",
        "    </tr>\n",
        "    <tr>\n",
        "      <th>21</th>\n",
        "      <td>2001</td>\n",
        "      <td>370.012683</td>\n",
        "      <td>1013500</td>\n",
        "    </tr>\n",
        "    <tr>\n",
        "      <th>22</th>\n",
        "      <td>2002</td>\n",
        "      <td>384.845344</td>\n",
        "      <td>1013500</td>\n",
        "    </tr>\n",
        "    <tr>\n",
        "      <th>23</th>\n",
        "      <td>2003</td>\n",
        "      <td>755.162793</td>\n",
        "      <td>1013500</td>\n",
        "    </tr>\n",
        "    <tr>\n",
        "      <th>24</th>\n",
        "      <td>2004</td>\n",
        "      <td>545.109876</td>\n",
        "      <td>1013500</td>\n",
        "    </tr>\n",
        "    <tr>\n",
        "      <th>25</th>\n",
        "      <td>2005</td>\n",
        "      <td>935.563130</td>\n",
        "      <td>1013500</td>\n",
        "    </tr>\n",
        "    <tr>\n",
        "      <th>26</th>\n",
        "      <td>2006</td>\n",
        "      <td>755.996387</td>\n",
        "      <td>1013500</td>\n",
        "    </tr>\n",
        "    <tr>\n",
        "      <th>27</th>\n",
        "      <td>2007</td>\n",
        "      <td>530.190138</td>\n",
        "      <td>1013500</td>\n",
        "    </tr>\n",
        "    <tr>\n",
        "      <th>28</th>\n",
        "      <td>2008</td>\n",
        "      <td>824.288434</td>\n",
        "      <td>1013500</td>\n",
        "    </tr>\n",
        "    <tr>\n",
        "      <th>29</th>\n",
        "      <td>2009</td>\n",
        "      <td>645.871732</td>\n",
        "      <td>1013500</td>\n",
        "    </tr>\n",
        "    <tr>\n",
        "      <th>30</th>\n",
        "      <td>2010</td>\n",
        "      <td>696.854759</td>\n",
        "      <td>1013500</td>\n",
        "    </tr>\n",
        "  </tbody>\n",
        "</table>\n",
        "</div>"
       ],
       "metadata": {},
       "output_type": "pyout",
       "prompt_number": 44,
       "text": [
        "    year           Q     gage\n",
        "0   1980  372.121622  1013500\n",
        "1   1981  754.789003  1013500\n",
        "2   1982  520.905920  1013500\n",
        "3   1983  755.157484  1013500\n",
        "4   1984  700.583100  1013500\n",
        "5   1985  433.860665  1013500\n",
        "6   1986  609.771276  1013500\n",
        "7   1987  457.633489  1013500\n",
        "8   1988  459.861361  1013500\n",
        "9   1989  446.684206  1013500\n",
        "10  1990  649.834754  1013500\n",
        "11  1991  663.112790  1013500\n",
        "12  1992  555.638644  1013500\n",
        "13  1993  568.281662  1013500\n",
        "14  1994  599.154369  1013500\n",
        "15  1995  480.666166  1013500\n",
        "16  1996  712.824719  1013500\n",
        "17  1997  553.699609  1013500\n",
        "18  1998  549.816230  1013500\n",
        "19  1999  552.106755  1013500\n",
        "20  2000  584.628597  1013500\n",
        "21  2001  370.012683  1013500\n",
        "22  2002  384.845344  1013500\n",
        "23  2003  755.162793  1013500\n",
        "24  2004  545.109876  1013500\n",
        "25  2005  935.563130  1013500\n",
        "26  2006  755.996387  1013500\n",
        "27  2007  530.190138  1013500\n",
        "28  2008  824.288434  1013500\n",
        "29  2009  645.871732  1013500\n",
        "30  2010  696.854759  1013500"
       ]
      }
     ],
     "prompt_number": 44
    },
    {
     "cell_type": "code",
     "collapsed": false,
     "input": [
      "Q"
     ],
     "language": "python",
     "metadata": {},
     "outputs": [
      {
       "metadata": {},
       "output_type": "pyout",
       "prompt_number": 45,
       "text": [
        "[21332.970384708875,\n",
        " 37506.215729300842,\n",
        " 28381.470435199572,\n",
        " 36538.114049230491,\n",
        " 44567.84068153418,\n",
        " 19017.696936173605,\n",
        " 29281.43710195928,\n",
        " 21248.625025195826,\n",
        " 24137.421282096049,\n",
        " 21301.938844620709,\n",
        " 27243.749570228425,\n",
        " 41777.688252688225,\n",
        " 30681.840103573129,\n",
        " 27244.881766114388,\n",
        " 35577.459053545368,\n",
        " 26682.750916288591,\n",
        " 35882.582274535955,\n",
        " 31701.52742225524,\n",
        " 28395.608815695763,\n",
        " 31526.660485699471,\n",
        " 35474.466571109187,\n",
        " 19425.727256092745,\n",
        " 21471.51685878307,\n",
        " 33283.312696956164,\n",
        " 30194.18637343702,\n",
        " 55962.763337753437,\n",
        " 51194.702319027761,\n",
        " 31618.986826185828,\n",
        " 58332.033585320998,\n",
        " 39253.374476000099,\n",
        " 38953.307069731476]"
       ]
      }
     ],
     "prompt_number": 45
    },
    {
     "cell_type": "code",
     "collapsed": false,
     "input": [],
     "language": "python",
     "metadata": {},
     "outputs": []
    }
   ],
   "metadata": {}
  }
 ]
}