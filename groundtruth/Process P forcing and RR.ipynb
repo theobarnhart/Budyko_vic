{
 "cells": [
  {
   "cell_type": "code",
   "execution_count": 1,
   "metadata": {
    "collapsed": false
   },
   "outputs": [],
   "source": [
    "import numpy as np\n",
    "import pandas as pd\n",
    "import glob\n",
    "import ntpath"
   ]
  },
  {
   "cell_type": "code",
   "execution_count": 2,
   "metadata": {
    "collapsed": true
   },
   "outputs": [],
   "source": [
    "names = ['HUC_02','GAGE_ID','GAGE_NAME','LATITUDE','LONGITUDE','ELEVATION']\n",
    "gauges = pd.read_table('/Volumes/data/basin_dataset_public/basin_metadata/gauge_information.txt',usecols=[0,1,2,3,4,5],names=names,skiprows=1)"
   ]
  },
  {
   "cell_type": "code",
   "execution_count": 3,
   "metadata": {
    "collapsed": false
   },
   "outputs": [],
   "source": [
    "names = ['HUC_02','GAGE_ID','AREA','Elevation','SLOPE','PERC_FOREST']\n",
    "basins = pd.read_table('/Volumes/data/basin_dataset_public/basin_metadata/basin_physical_characteristics.txt',delim_whitespace=True,skiprows=0,names=names,header=False)"
   ]
  },
  {
   "cell_type": "code",
   "execution_count": 4,
   "metadata": {
    "collapsed": false
   },
   "outputs": [],
   "source": [
    "data = pd.merge(gauges,basins,on='GAGE_ID')"
   ]
  },
  {
   "cell_type": "code",
   "execution_count": 5,
   "metadata": {
    "collapsed": false
   },
   "outputs": [],
   "source": [
    "data['DAYMET_P'] = np.NaN\n",
    "data['MAURER_P'] = np.NaN\n",
    "data['NLDAS_P'] = np.NaN"
   ]
  },
  {
   "cell_type": "code",
   "execution_count": 6,
   "metadata": {
    "collapsed": false
   },
   "outputs": [],
   "source": [
    "daymet = glob.glob('/Volumes/data/basin_dataset_public/basin_mean_forcing/daymet/*/*.txt')"
   ]
  },
  {
   "cell_type": "code",
   "execution_count": 7,
   "metadata": {
    "collapsed": false
   },
   "outputs": [],
   "source": [
    "names = ['year','month','day','hour','dayl','P','srad','SWE','tmax','tmin','vp']\n",
    "\n",
    "for dspth in daymet:\n",
    "    ds = pd.read_table(dspth,skiprows=3,names=names, delim_whitespace=True,header=False)\n",
    "\n",
    "    path,basename = ntpath.split(dspth)\n",
    "    bsn = int(basename.split('_')[0])\n",
    "\n",
    "    data.loc[data.GAGE_ID==bsn,'DAYMET_P'] = ds.P.sum() # [mm]"
   ]
  },
  {
   "cell_type": "code",
   "execution_count": 8,
   "metadata": {
    "collapsed": false
   },
   "outputs": [],
   "source": [
    "maurer = glob.glob('/Volumes/data/basin_dataset_public/basin_mean_forcing/maurer/*/*.txt')"
   ]
  },
  {
   "cell_type": "code",
   "execution_count": 9,
   "metadata": {
    "collapsed": false
   },
   "outputs": [],
   "source": [
    "names = ['year','month','day','hour','dayl','P','srad','SWE','tmax','tmin','vp']\n",
    "\n",
    "for dspth in maurer:\n",
    "    ds = pd.read_table(dspth,skiprows=3,names=names, delim_whitespace=True,header=False)\n",
    "\n",
    "    path,basename = ntpath.split(dspth)\n",
    "    bsn = int(basename.split('_')[0])\n",
    "\n",
    "    data.loc[data.GAGE_ID==bsn,'MAURER_P'] = ds.P.sum() # [mm]"
   ]
  },
  {
   "cell_type": "code",
   "execution_count": 10,
   "metadata": {
    "collapsed": false
   },
   "outputs": [],
   "source": [
    "nldas = glob.glob('/Volumes/data/basin_dataset_public/basin_mean_forcing/nldas/*/*.txt')"
   ]
  },
  {
   "cell_type": "code",
   "execution_count": 11,
   "metadata": {
    "collapsed": false
   },
   "outputs": [],
   "source": [
    "names = ['year','month','day','hour','dayl','P','srad','SWE','tmax','tmin','vp']\n",
    "\n",
    "for dspth in nldas:\n",
    "    ds = pd.read_table(dspth,skiprows=3,names=names, delim_whitespace=True,header=False)\n",
    "\n",
    "    path,basename = ntpath.split(dspth)\n",
    "    bsn = int(basename.split('_')[0])\n",
    "\n",
    "    data.loc[data.GAGE_ID==bsn,'NLDAS_P'] = ds.P.sum() # [mm]"
   ]
  },
  {
   "cell_type": "markdown",
   "metadata": {},
   "source": [
    "## Bring in the Discharge data and Compute the runoff ratios"
   ]
  },
  {
   "cell_type": "code",
   "execution_count": 16,
   "metadata": {
    "collapsed": false
   },
   "outputs": [],
   "source": [
    "strm = pd.read_pickle('../data/processed_observed_streamflow_sums.pcl')"
   ]
  },
  {
   "cell_type": "code",
   "execution_count": 20,
   "metadata": {
    "collapsed": false
   },
   "outputs": [],
   "source": [
    "strm.columns = ['Q','GAGE_ID']"
   ]
  },
  {
   "cell_type": "code",
   "execution_count": 21,
   "metadata": {
    "collapsed": false
   },
   "outputs": [],
   "source": [
    "data = pd.merge(data,strm,on='GAGE_ID')"
   ]
  },
  {
   "cell_type": "code",
   "execution_count": 22,
   "metadata": {
    "collapsed": false
   },
   "outputs": [
    {
     "data": {
      "text/html": [
       "<div style=\"max-height:1000px;max-width:1500px;overflow:auto;\">\n",
       "<table border=\"1\" class=\"dataframe\">\n",
       "  <thead>\n",
       "    <tr style=\"text-align: right;\">\n",
       "      <th></th>\n",
       "      <th>HUC_02_x</th>\n",
       "      <th>GAGE_ID</th>\n",
       "      <th>GAGE_NAME</th>\n",
       "      <th>LATITUDE</th>\n",
       "      <th>LONGITUDE</th>\n",
       "      <th>ELEVATION</th>\n",
       "      <th>HUC_02_y</th>\n",
       "      <th>AREA</th>\n",
       "      <th>Elevation</th>\n",
       "      <th>SLOPE</th>\n",
       "      <th>PERC_FOREST</th>\n",
       "      <th>DAYMET_P</th>\n",
       "      <th>MAURER_P</th>\n",
       "      <th>NLDAS_P</th>\n",
       "      <th>Q</th>\n",
       "    </tr>\n",
       "  </thead>\n",
       "  <tbody>\n",
       "    <tr>\n",
       "      <th>0</th>\n",
       "      <td>1</td>\n",
       "      <td>1013500</td>\n",
       "      <td>Fish River near Fort Kent, M...</td>\n",
       "      <td>47.23739</td>\n",
       "      <td>-68.58264</td>\n",
       "      <td>2252.70</td>\n",
       "      <td>1</td>\n",
       "      <td>2303.95</td>\n",
       "      <td>250.31</td>\n",
       "      <td>21.64152</td>\n",
       "      <td>0.9063</td>\n",
       "      <td>36456.73</td>\n",
       "      <td>28607.88</td>\n",
       "      <td>29348.66</td>\n",
       "      <td>18425.027697</td>\n",
       "    </tr>\n",
       "    <tr>\n",
       "      <th>1</th>\n",
       "      <td>1</td>\n",
       "      <td>1022500</td>\n",
       "      <td>Narraguagus River at Cherryfield, M...</td>\n",
       "      <td>44.60797</td>\n",
       "      <td>-67.93524</td>\n",
       "      <td>573.60</td>\n",
       "      <td>1</td>\n",
       "      <td>620.38</td>\n",
       "      <td>92.68</td>\n",
       "      <td>17.79072</td>\n",
       "      <td>0.9232</td>\n",
       "      <td>41918.23</td>\n",
       "      <td>35027.79</td>\n",
       "      <td>33562.56</td>\n",
       "      <td>22496.532338</td>\n",
       "    </tr>\n",
       "    <tr>\n",
       "      <th>2</th>\n",
       "      <td>1</td>\n",
       "      <td>1030500</td>\n",
       "      <td>Mattawamkeag River near Mattawamkeag, M...</td>\n",
       "      <td>45.50097</td>\n",
       "      <td>-68.30596</td>\n",
       "      <td>3676.17</td>\n",
       "      <td>1</td>\n",
       "      <td>3676.09</td>\n",
       "      <td>143.80</td>\n",
       "      <td>12.79195</td>\n",
       "      <td>0.8782</td>\n",
       "      <td>37845.36</td>\n",
       "      <td>31471.68</td>\n",
       "      <td>32952.08</td>\n",
       "      <td>20261.683804</td>\n",
       "    </tr>\n",
       "    <tr>\n",
       "      <th>3</th>\n",
       "      <td>1</td>\n",
       "      <td>1031500</td>\n",
       "      <td>Piscataquis River near Dover-Foxcroft, M...</td>\n",
       "      <td>45.17501</td>\n",
       "      <td>-69.31470</td>\n",
       "      <td>769.05</td>\n",
       "      <td>1</td>\n",
       "      <td>766.53</td>\n",
       "      <td>247.80</td>\n",
       "      <td>29.56035</td>\n",
       "      <td>0.9548</td>\n",
       "      <td>40376.67</td>\n",
       "      <td>33670.00</td>\n",
       "      <td>34245.20</td>\n",
       "      <td>22637.790215</td>\n",
       "    </tr>\n",
       "    <tr>\n",
       "      <th>4</th>\n",
       "      <td>1</td>\n",
       "      <td>1047000</td>\n",
       "      <td>Carrabassett River near North Anson, M...</td>\n",
       "      <td>44.86920</td>\n",
       "      <td>-69.95510</td>\n",
       "      <td>909.10</td>\n",
       "      <td>1</td>\n",
       "      <td>904.94</td>\n",
       "      <td>310.38</td>\n",
       "      <td>49.92122</td>\n",
       "      <td>0.9906</td>\n",
       "      <td>38581.42</td>\n",
       "      <td>33415.72</td>\n",
       "      <td>36097.74</td>\n",
       "      <td>24011.176958</td>\n",
       "    </tr>\n",
       "  </tbody>\n",
       "</table>\n",
       "</div>"
      ],
      "text/plain": [
       "   HUC_02_x  GAGE_ID                                          GAGE_NAME  \\\n",
       "0         1  1013500                    Fish River near Fort Kent, M...   \n",
       "1         1  1022500             Narraguagus River at Cherryfield, M...   \n",
       "2         1  1030500         Mattawamkeag River near Mattawamkeag, M...   \n",
       "3         1  1031500        Piscataquis River near Dover-Foxcroft, M...   \n",
       "4         1  1047000          Carrabassett River near North Anson, M...   \n",
       "\n",
       "   LATITUDE  LONGITUDE  ELEVATION  HUC_02_y     AREA  Elevation     SLOPE  \\\n",
       "0  47.23739  -68.58264    2252.70         1  2303.95     250.31  21.64152   \n",
       "1  44.60797  -67.93524     573.60         1   620.38      92.68  17.79072   \n",
       "2  45.50097  -68.30596    3676.17         1  3676.09     143.80  12.79195   \n",
       "3  45.17501  -69.31470     769.05         1   766.53     247.80  29.56035   \n",
       "4  44.86920  -69.95510     909.10         1   904.94     310.38  49.92122   \n",
       "\n",
       "   PERC_FOREST  DAYMET_P  MAURER_P   NLDAS_P             Q  \n",
       "0       0.9063  36456.73  28607.88  29348.66  18425.027697  \n",
       "1       0.9232  41918.23  35027.79  33562.56  22496.532338  \n",
       "2       0.8782  37845.36  31471.68  32952.08  20261.683804  \n",
       "3       0.9548  40376.67  33670.00  34245.20  22637.790215  \n",
       "4       0.9906  38581.42  33415.72  36097.74  24011.176958  "
      ]
     },
     "execution_count": 22,
     "metadata": {},
     "output_type": "execute_result"
    }
   ],
   "source": [
    "data.head()"
   ]
  },
  {
   "cell_type": "code",
   "execution_count": 23,
   "metadata": {
    "collapsed": false
   },
   "outputs": [],
   "source": [
    "data['DAYMET_RR'] = data.Q/data.DAYMET_P\n",
    "data['MAURER_RR'] = data.Q/data.MAURER_P\n",
    "data['NLDAS_RR'] = data.Q/data.NLDAS_P"
   ]
  },
  {
   "cell_type": "code",
   "execution_count": 24,
   "metadata": {
    "collapsed": false
   },
   "outputs": [],
   "source": [
    "data.to_pickle('../data/newman_RRs.pcl')"
   ]
  }
 ],
 "metadata": {
  "kernelspec": {
   "display_name": "Python 2",
   "language": "python",
   "name": "python2"
  },
  "language_info": {
   "codemirror_mode": {
    "name": "ipython",
    "version": 2
   },
   "file_extension": ".py",
   "mimetype": "text/x-python",
   "name": "python",
   "nbconvert_exporter": "python",
   "pygments_lexer": "ipython2",
   "version": "2.7.12"
  }
 },
 "nbformat": 4,
 "nbformat_minor": 0
}
