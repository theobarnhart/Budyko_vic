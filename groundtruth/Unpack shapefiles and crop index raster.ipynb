{
 "cells": [
  {
   "cell_type": "code",
   "execution_count": 1,
   "metadata": {
    "collapsed": false
   },
   "outputs": [],
   "source": [
    "import pandas as pd\n",
    "import numpy as np\n",
    "import matplotlib.pyplot as plt\n",
    "from osgeo import ogr\n",
    "from osgeo import gdal\n",
    "import glob as glob\n",
    "import os\n",
    "import ntpath\n",
    "%matplotlib inline"
   ]
  },
  {
   "cell_type": "markdown",
   "metadata": {},
   "source": [
    "## Crop the index raster to the basins"
   ]
  },
  {
   "cell_type": "code",
   "execution_count": 2,
   "metadata": {
    "collapsed": false
   },
   "outputs": [],
   "source": [
    "sfs = glob.glob('/Volumes/data/basin_dataset_public/shapefiles/*/*.shp') # get the paths to all the shapefiles"
   ]
  },
  {
   "cell_type": "code",
   "execution_count": 3,
   "metadata": {
    "collapsed": false
   },
   "outputs": [],
   "source": [
    "driver = ogr.GetDriverByName('ESRI Shapefile')"
   ]
  },
  {
   "cell_type": "code",
   "execution_count": 4,
   "metadata": {
    "collapsed": false
   },
   "outputs": [],
   "source": [
    "inpth = '/Volumes/data/Theo/projects/Budyko_vic/data/vic_index_new_small.tif'"
   ]
  },
  {
   "cell_type": "code",
   "execution_count": 5,
   "metadata": {
    "collapsed": false
   },
   "outputs": [],
   "source": [
    "for sf in sfs: # loop through shapefiles\n",
    "    data = driver.Open(sf)\n",
    "    layer = data.GetLayer()\n",
    "\n",
    "    features = []\n",
    "    for feature in layer:\n",
    "        features.append(feature.GetFieldAsString(\"GAGEID\")) # pull out all the gage IDs\n",
    "\n",
    "    features = np.unique(features) # create a list of unique features in the layer\n",
    "\n",
    "    for feature in features: # look through and crop the index raster by each basin\n",
    "        cmd = 'gdalwarp -t_srs \"+proj=longlat +datum=WGS84 +no_defs\" -cutline '+sf+' -cl '+layer.GetName()+\"\"\" -cwhere \"GAGEID = '\"\"\"+feature+\"\"\"'\" -crop_to_cutline \"\"\"+inpth+' /Volumes/data/basin_dataset_public/index_rasters/'+layer.GetName()+'_'+feature+'.tif'\n",
    "        os.system(cmd) # call the command on the system terminal"
   ]
  },
  {
   "cell_type": "markdown",
   "metadata": {},
   "source": [
    "## Process the new basin index rasters\n",
    "\n",
    "### Produce a list as such\n",
    "\n",
    "- Basin 12345678 Cell 1567 Percent 0.02\n",
    "- Basin 12345678 Cell 187635 Percent 1.0\n",
    "- Basin 12345678 Cell 293747 Percent 0.85\n",
    "- Basin 12345678 Cell 38723 Percent 0.42"
   ]
  },
  {
   "cell_type": "code",
   "execution_count": 6,
   "metadata": {
    "collapsed": false
   },
   "outputs": [],
   "source": [
    "rasters = glob.glob('/Volumes/data/basin_dataset_public/index_rasters/*.tif') # get paths to all the tifs just created"
   ]
  },
  {
   "cell_type": "code",
   "execution_count": 7,
   "metadata": {
    "collapsed": false
   },
   "outputs": [],
   "source": [
    "outcells = []\n",
    "outpercents = []\n",
    "outbasins = []\n",
    "\n",
    "for rastpth in rasters:\n",
    "\n",
    "    ds = gdal.Open(rastpth)\n",
    "    rast = np.array(ds.GetRasterBand(1).ReadAsArray())\n",
    "    rast[rast==-9999] = np.NaN\n",
    "\n",
    "    # grab the basin gageID from the file path\n",
    "    pth,basename = ntpath.split(rastpth)\n",
    "    bsn = int(basename.split('_')[-1].split('.')[0])\n",
    "\n",
    "    cells = np.unique(rast[np.isnan(rast)==False]) # find the number of VIC cells that contribute to the basin\n",
    "    n = len(cells) # get the number of cells\n",
    "\n",
    "    # compute the percent each cell contributes to the basin\n",
    "    percents = []\n",
    "    for cell in cells:\n",
    "        percents.append(len(rast[rast==cell])/100.)\n",
    "\n",
    "    outcells.extend(list(cells))\n",
    "    outpercents.extend(list(percents))\n",
    "    outbasins.extend(list(np.repeat(bsn,n)))# repeat the basin code so it is the same length as the number of cells"
   ]
  },
  {
   "cell_type": "code",
   "execution_count": 8,
   "metadata": {
    "collapsed": false
   },
   "outputs": [],
   "source": [
    "# save the output\n",
    "np.savez_compressed('/Volumes/data/Theo/projects/Budyko_vic/data/VIC_cells_overlap.npz',cells=outcells,percents=outpercents,basins=outbasins)"
   ]
  }
 ],
 "metadata": {
  "kernelspec": {
   "display_name": "Python 2",
   "language": "python",
   "name": "python2"
  },
  "language_info": {
   "codemirror_mode": {
    "name": "ipython",
    "version": 2
   },
   "file_extension": ".py",
   "mimetype": "text/x-python",
   "name": "python",
   "nbconvert_exporter": "python",
   "pygments_lexer": "ipython2",
   "version": "2.7.12"
  }
 },
 "nbformat": 4,
 "nbformat_minor": 0
}
