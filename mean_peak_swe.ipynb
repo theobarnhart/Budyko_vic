{
 "cells": [
  {
   "cell_type": "markdown",
   "metadata": {},
   "source": [
    "## Script to calculate the long term and shorter term runoff ratio from the VIC "
   ]
  },
  {
   "cell_type": "code",
   "execution_count": 1,
   "metadata": {
    "collapsed": false
   },
   "outputs": [],
   "source": [
    "import numpy as np\n",
    "import pandas as pd\n",
    "import ipyparallel as pr\n",
    "import livneh.tools as lt\n",
    "import rhessys.utilities as rt\n",
    "import time"
   ]
  },
  {
   "cell_type": "code",
   "execution_count": 2,
   "metadata": {
    "collapsed": false
   },
   "outputs": [],
   "source": [
    "c = pr.Client() # start the parallel environment"
   ]
  },
  {
   "cell_type": "code",
   "execution_count": 3,
   "metadata": {
    "collapsed": false
   },
   "outputs": [],
   "source": [
    "view = c.load_balanced_view() # access the first 4 engines"
   ]
  },
  {
   "cell_type": "code",
   "execution_count": 4,
   "metadata": {
    "collapsed": false
   },
   "outputs": [],
   "source": [
    "%%px\n",
    "import pandas as pd\n",
    "import numpy as np\n",
    "import rhessys.utilities as rt\n",
    "dates = pd.read_pickle('/Volumes/data/projects/Budyko_vic/timecode.pcl')\n",
    "fluxes_columns = ['y','m','d','ET','R','BF','sm1','sm2','sm3','SWE','Cs','Qs','Ql','Qg','NR','PEText','PETtrc','PETsrc']\n",
    "tmp = pd.read_table('/Volumes/data/vic/fluxes/ascii/latitude.46.15625/flux_snow_46.15625_-120.40625', sep='\\t',names=fluxes_columns)\n",
    "tmp.index = dates\n",
    "wateryears = tmp.index.map(rt.wateryear)\n",
    "wyears = np.load('/Volumes/data/projects/Budyko_vic/wyears.npy')"
   ]
  },
  {
   "cell_type": "code",
   "execution_count": 5,
   "metadata": {
    "collapsed": true
   },
   "outputs": [],
   "source": [
    "def fluxproc(idx,fl):\n",
    "    flux = pd.read_table(fl, sep='\\t', names = fluxes_columns) # read fluxes\n",
    "    flux.index = pd.DatetimeIndex(dates)\n",
    "    flux['wateryear'] = wateryears # add water years to the data frame\n",
    "    flux = flux.loc[(flux.wateryear>=wyears[0])&(flux.wateryear<=wyears[-1])] # subset to complete water years\n",
    "    \n",
    "    return idx,flux.groupby(by='wateryear').SWE.max().mean()"
   ]
  },
  {
   "cell_type": "code",
   "execution_count": 6,
   "metadata": {
    "collapsed": true
   },
   "outputs": [],
   "source": [
    "files = pd.read_pickle('/Volumes/data/projects/Budyko_vic/forcing_fluxes_filenames_lat_lon_index.df')"
   ]
  },
  {
   "cell_type": "code",
   "execution_count": 8,
   "metadata": {
    "collapsed": false
   },
   "outputs": [],
   "source": [
    "res = view.map(fluxproc,files[0:1000].indexer,files[0:1000].flux)"
   ]
  },
  {
   "cell_type": "code",
   "execution_count": 10,
   "metadata": {
    "collapsed": false
   },
   "outputs": [],
   "source": [
    "while res.ready() == False:\n",
    "    perc = round(float(res.progress)/float(1000)*100.,2)\n",
    "    print '#'*int(perc/4) # print a simple progress bar\n",
    "    print str(perc)+'% Completed'\n",
    "    time.sleep(60) # wait 60 seconds"
   ]
  },
  {
   "cell_type": "code",
   "execution_count": 12,
   "metadata": {
    "collapsed": false
   },
   "outputs": [],
   "source": [
    "idx,meanpeakswe = zip(*res.result)"
   ]
  },
  {
   "cell_type": "code",
   "execution_count": 13,
   "metadata": {
    "collapsed": false
   },
   "outputs": [],
   "source": [
    "mps = pd.DataFrame({'idx':idx,'meanpeakswe':meanpeakswe}) # generate data frame\n",
    "mps.to_pickle('./data/meanpeakswe.pcl') # save as df for conus forest snow analyses"
   ]
  },
  {
   "cell_type": "raw",
   "metadata": {},
   "source": [
    "# dev scratch\n",
    "#fluxes_columns = ['y','m','d','ET','R','BF','sm1','sm2','sm3','SWE','Cs','Qs','Ql','Qg','NR','PEText','PETtrc','PETsrc']\n",
    "#tmp = pd.read_table('/Volumes/data/vic/fluxes/ascii/latitude.46.15625/flux_snow_46.15625_-120.40625', #sep='\\t',names=fluxes_columns)\n",
    "#dates = pd.read_pickle('/Volumes/data/projects/Budyko_vic/timecode.pcl')\n",
    "#wyears = np.load('/Volumes/data/projects/Budyko_vic/wyears.npy')\n",
    "#tmp.index = dates\n",
    "#wateryears = tmp.index.map(rt.wateryear)\n",
    "#tmp['wateryear'] = wateryears"
   ]
  },
  {
   "cell_type": "raw",
   "metadata": {},
   "source": [
    "#tmp = tmp.loc[(tmp.wateryear>=wyears[0])&(tmp.wateryear<=wyears[-1])]"
   ]
  },
  {
   "cell_type": "raw",
   "metadata": {},
   "source": [
    "#tmp.loc[tmp.wateryear==1951,'SWE'].max()"
   ]
  },
  {
   "cell_type": "raw",
   "metadata": {},
   "source": [
    "#tmp.groupby(by='wateryear').SWE.max().mean()"
   ]
  }
 ],
 "metadata": {
  "kernelspec": {
   "display_name": "Python 2",
   "language": "python",
   "name": "python2"
  },
  "language_info": {
   "codemirror_mode": {
    "name": "ipython",
    "version": 2
   },
   "file_extension": ".py",
   "mimetype": "text/x-python",
   "name": "python",
   "nbconvert_exporter": "python",
   "pygments_lexer": "ipython2",
   "version": "2.7.11"
  }
 },
 "nbformat": 4,
 "nbformat_minor": 0
}
