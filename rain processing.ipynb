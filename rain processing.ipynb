{
 "cells": [
  {
   "cell_type": "code",
   "execution_count": null,
   "metadata": {
    "collapsed": false
   },
   "outputs": [],
   "source": [
    "from IPython import parallel as p"
   ]
  },
  {
   "cell_type": "code",
   "execution_count": null,
   "metadata": {
    "collapsed": false
   },
   "outputs": [],
   "source": [
    "pc = p.Client()"
   ]
  },
  {
   "cell_type": "code",
   "execution_count": null,
   "metadata": {
    "collapsed": false
   },
   "outputs": [],
   "source": [
    "pc.ids"
   ]
  },
  {
   "cell_type": "code",
   "execution_count": null,
   "metadata": {
    "collapsed": false
   },
   "outputs": [],
   "source": [
    "view = pc.load_balanced_view()"
   ]
  },
  {
   "cell_type": "code",
   "execution_count": null,
   "metadata": {
    "collapsed": false
   },
   "outputs": [],
   "source": [
    "%%px\n",
    "import numpy as np\n",
    "import pandas as pd\n",
    "dates = pd.read_pickle('/Volumes/Users/Theo/projects/Budyko_vic/timecode.pcl')\n",
    "wyears = np.load('/Volumes/Users/Theo/projects/Budyko_vic/wyears.npy')\n",
    "fluxes_columns = ['y','m','d','ET','R','BF','sm1','sm2','sm3','SWE','Cs','Qs','Ql','Qg','NR','PEText','PETtrc','PETsrc']\n",
    "forcing_columns = ['P','Tmax','Tmin','W']\n"
   ]
  },
  {
   "cell_type": "code",
   "execution_count": null,
   "metadata": {
    "collapsed": false
   },
   "outputs": [],
   "source": [
    "import pandas as pd\n",
    "import numpy as np\n",
    "import glob\n",
    "\n",
    "dates = pd.read_pickle('./timecode.pcl')\n",
    "wyears = np.load('./wyears.npy')\n",
    "fluxes_columns = ['y','m','d','ET','R','BF','sm1','sm2','sm3','SWE','Cs','Qs','Ql','Qg','NR','PEText','PETtrc','PETsrc']\n",
    "forcing_columns = ['P','Tmax','Tmin','W']"
   ]
  },
  {
   "cell_type": "code",
   "execution_count": null,
   "metadata": {
    "collapsed": false
   },
   "outputs": [],
   "source": [
    "def snowmeltflux(fl,fr):\n",
    "    lat = float(fl.split('_')[-2]) # extract latitude from file name\n",
    "    lon = float(fl.split('_')[-1]) # extract longitude from file name\n",
    "\n",
    "    # load the fluxes data\n",
    "    flux = pd.read_table(fl, sep='\\t', names=fluxes_columns)\n",
    "    flux.index = pd.DatetimeIndex(dates)\n",
    "    \n",
    "    force = pd.read_table(fr, sep=' ', names=forcing_columns)\n",
    "    force.index = pd.DatetimeIndex(dates)\n",
    "    \n",
    "    flux['melt'] = np.NaN # preallocate the melt column\n",
    "    \n",
    "    s1 = flux.SWE[0:-1].as_matrix()\n",
    "    s2 = flux.SWE[1:].as_matrix()\n",
    "    \n",
    "    melt = s1-s2\n",
    "    \n",
    "    melt = np.append(0,melt) # make melt the correct size\n",
    "    \n",
    "    coef = (0.-force.Tmin)/(np.abs(force.Tmax-force.Tmin))\n",
    "    \n",
    "    coef[coef<0] = 0.\n",
    "    coef[coef>1] = 1.\n",
    "    \n",
    "    rain = force.P.as_matrix()*(1-coef) # compute rain\n",
    "    \n",
    "    \n",
    "    rain[melt<0] = 0. # remove any flux values when there was accumulation\n",
    "    \n",
    "    sflength = len(rain[rain>0])\n",
    "    \n",
    "    if sflength > 0.:\n",
    "        sfmelt = np.nansum(rain[rain>0])/sflength\n",
    "    else:\n",
    "        sfmelt = 0.\n",
    "        \n",
    "    return lat,lon,sfmelt"
   ]
  },
  {
   "cell_type": "code",
   "execution_count": null,
   "metadata": {
    "collapsed": false
   },
   "outputs": [],
   "source": [
    "files = pd.read_pickle('./forcing_fluxes_filenames_lat_lon_index.df')"
   ]
  },
  {
   "cell_type": "code",
   "execution_count": null,
   "metadata": {
    "collapsed": false
   },
   "outputs": [],
   "source": [
    "files.head()"
   ]
  },
  {
   "cell_type": "code",
   "execution_count": null,
   "metadata": {
    "collapsed": false
   },
   "outputs": [],
   "source": [
    "%time snowmeltflux(files.flux[270000],files.forcing[270000])"
   ]
  },
  {
   "cell_type": "raw",
   "metadata": {},
   "source": [
    "%time snowmeltflux(files.flux[270000])"
   ]
  },
  {
   "cell_type": "raw",
   "metadata": {},
   "source": [
    "SWE = np.array([5,4,3,4,6,5,4,3])\n",
    "s1 = SWE[0:-1]\n",
    "s2 = SWE[1:]\n",
    "melt = s1-s2"
   ]
  },
  {
   "cell_type": "raw",
   "metadata": {},
   "source": [
    "melt"
   ]
  },
  {
   "cell_type": "raw",
   "metadata": {},
   "source": [
    "s2"
   ]
  },
  {
   "cell_type": "code",
   "execution_count": null,
   "metadata": {
    "collapsed": false
   },
   "outputs": [],
   "source": [
    "res = view.map(snowmeltflux,files.flux,files.forcing)"
   ]
  },
  {
   "cell_type": "code",
   "execution_count": null,
   "metadata": {
    "collapsed": false
   },
   "outputs": [],
   "source": [
    "import ProgressBar as pb"
   ]
  },
  {
   "cell_type": "code",
   "execution_count": null,
   "metadata": {
    "collapsed": false
   },
   "outputs": [],
   "source": [
    "prog = pb.ProgressBar(len(files.forcing))\n",
    "\n",
    "while res.ready() == False:\n",
    "    prog.animate(res.progress)"
   ]
  },
  {
   "cell_type": "code",
   "execution_count": null,
   "metadata": {
    "collapsed": false
   },
   "outputs": [],
   "source": [
    "res.ready()"
   ]
  },
  {
   "cell_type": "code",
   "execution_count": null,
   "metadata": {
    "collapsed": false
   },
   "outputs": [],
   "source": [
    "lat,lon,rain = zip(*res.result)"
   ]
  },
  {
   "cell_type": "code",
   "execution_count": null,
   "metadata": {
    "collapsed": false
   },
   "outputs": [],
   "source": [
    "np.savez_compressed('./rain.npz',lat=lat,lon=lon,rain=rain)"
   ]
  },
  {
   "cell_type": "code",
   "execution_count": null,
   "metadata": {
    "collapsed": false
   },
   "outputs": [],
   "source": []
  }
 ],
 "metadata": {
  "kernelspec": {
   "display_name": "Python 2",
   "language": "python",
   "name": "python2"
  },
  "language_info": {
   "codemirror_mode": {
    "name": "ipython",
    "version": 2
   },
   "file_extension": ".py",
   "mimetype": "text/x-python",
   "name": "python",
   "nbconvert_exporter": "python",
   "pygments_lexer": "ipython2",
   "version": "2.7.11"
  }
 },
 "nbformat": 4,
 "nbformat_minor": 0
}
