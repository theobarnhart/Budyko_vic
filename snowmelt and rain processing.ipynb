{
 "metadata": {
  "name": "",
  "signature": "sha256:c0176796d45ec721689c18108bd290735bd193fe98ed49a7dccfc42a00239e84"
 },
 "nbformat": 3,
 "nbformat_minor": 0,
 "worksheets": [
  {
   "cells": [
    {
     "cell_type": "code",
     "collapsed": false,
     "input": [
      "from IPython import parallel as p"
     ],
     "language": "python",
     "metadata": {},
     "outputs": [],
     "prompt_number": 1
    },
    {
     "cell_type": "code",
     "collapsed": false,
     "input": [
      "pc = p.Client()"
     ],
     "language": "python",
     "metadata": {},
     "outputs": [],
     "prompt_number": 2
    },
    {
     "cell_type": "code",
     "collapsed": false,
     "input": [
      "pc.ids"
     ],
     "language": "python",
     "metadata": {},
     "outputs": [
      {
       "metadata": {},
       "output_type": "pyout",
       "prompt_number": 3,
       "text": [
        "[0, 1, 2]"
       ]
      }
     ],
     "prompt_number": 3
    },
    {
     "cell_type": "code",
     "collapsed": false,
     "input": [
      "view = pc.load_balanced_view()"
     ],
     "language": "python",
     "metadata": {},
     "outputs": [],
     "prompt_number": 4
    },
    {
     "cell_type": "code",
     "collapsed": false,
     "input": [
      "%%px\n",
      "import numpy as np\n",
      "import pandas as pd\n",
      "dates = pd.read_pickle('/Volumes/Users/Theo/projects/Budyko_vic/timecode.pcl')\n",
      "wyears = np.load('/Volumes/Users/Theo/projects/Budyko_vic/wyears.npy')\n",
      "fluxes_columns = ['y','m','d','ET','R','BF','sm1','sm2','sm3','SWE','Cs','Qs','Ql','Qg','NR','PEText','PETtrc','PETsrc']\n",
      "forcing_columns = ['P','Tmax','Tmin','W']\n"
     ],
     "language": "python",
     "metadata": {},
     "outputs": [],
     "prompt_number": 5
    },
    {
     "cell_type": "code",
     "collapsed": false,
     "input": [
      "import pandas as pd\n",
      "import numpy as np\n",
      "import glob\n",
      "\n",
      "dates = pd.read_pickle('./timecode.pcl')\n",
      "wyears = np.load('./wyears.npy')\n",
      "fluxes_columns = ['y','m','d','ET','R','BF','sm1','sm2','sm3','SWE','Cs','Qs','Ql','Qg','NR','PEText','PETtrc','PETsrc']\n",
      "forcing_columns = ['P','Tmax','Tmin','W']"
     ],
     "language": "python",
     "metadata": {},
     "outputs": [],
     "prompt_number": 6
    },
    {
     "cell_type": "code",
     "collapsed": false,
     "input": [
      "def snowmeltflux(fl,fr):\n",
      "    lat = float(fl.split('_')[-2]) # extract latitude from file name\n",
      "    lon = float(fl.split('_')[-1]) # extract longitude from file name\n",
      "\n",
      "    # load the fluxes data\n",
      "    flux = pd.read_table(fl, sep='\\t', names=fluxes_columns)\n",
      "    flux.index = pd.DatetimeIndex(dates)\n",
      "    \n",
      "    force = pd.read_table(fr, sep=' ', names=forcing_columns)\n",
      "    force.index = pd.DatetimeIndex(dates)\n",
      "    \n",
      "    flux['melt'] = np.NaN # preallocate the melt column\n",
      "    #offset = pd.datetools.timedelta(1)\n",
      "    \n",
      "    s1 = flux.SWE[0:-1].as_matrix()\n",
      "    s2 = flux.SWE[1:].as_matrix()\n",
      "    \n",
      "    melt = s1-s2\n",
      "    \n",
      "    melt = np.append(0,melt) # make melt the correct size\n",
      "    \n",
      "    coef = (0.-force.Tmin)/(np.abs(force.Tmax-force.Tmin))\n",
      "    \n",
      "    coef[coef<0] = 0.\n",
      "    coef[coef>1] = 1.\n",
      "    \n",
      "    rain = force.P.as_matrix()*(1-coef) # compute rain\n",
      "    \n",
      "    wflux = rain + melt # compute the water flux\n",
      "    \n",
      "    wflux[melt<0] = 0. # remove any flux values when there was accumulation\n",
      "    \n",
      "    sflength = len(wflux[wflux>0])\n",
      "    \n",
      "    if sflength > 0.:\n",
      "        sfmelt = np.nansum(wflux[wflux>0])/sflength\n",
      "    else:\n",
      "        sfmelt = 0.\n",
      "        \n",
      "    return lat,lon,sfmelt"
     ],
     "language": "python",
     "metadata": {},
     "outputs": [],
     "prompt_number": 11
    },
    {
     "cell_type": "code",
     "collapsed": false,
     "input": [
      "files = pd.read_pickle('./forcing_fluxes_filenames_lat_lon_index.df')"
     ],
     "language": "python",
     "metadata": {},
     "outputs": [],
     "prompt_number": 12
    },
    {
     "cell_type": "code",
     "collapsed": false,
     "input": [
      "files.head()"
     ],
     "language": "python",
     "metadata": {},
     "outputs": [
      {
       "html": [
        "<div style=\"max-height:1000px;max-width:1500px;overflow:auto;\">\n",
        "<table border=\"1\" class=\"dataframe\">\n",
        "  <thead>\n",
        "    <tr style=\"text-align: right;\">\n",
        "      <th></th>\n",
        "      <th>exists</th>\n",
        "      <th>flux</th>\n",
        "      <th>forcing</th>\n",
        "      <th>lat</th>\n",
        "      <th>lon</th>\n",
        "      <th>indexer</th>\n",
        "    </tr>\n",
        "  </thead>\n",
        "  <tbody>\n",
        "    <tr>\n",
        "      <th>0</th>\n",
        "      <td> True</td>\n",
        "      <td> /Users/barnhatb/research/vic/fluxes/ascii/lati...</td>\n",
        "      <td> /Users/barnhatb/research/vic/forcing/ascii/lat...</td>\n",
        "      <td> 25.03125</td>\n",
        "      <td>-100.03125</td>\n",
        "      <td> 1</td>\n",
        "    </tr>\n",
        "    <tr>\n",
        "      <th>1</th>\n",
        "      <td> True</td>\n",
        "      <td> /Users/barnhatb/research/vic/fluxes/ascii/lati...</td>\n",
        "      <td> /Users/barnhatb/research/vic/forcing/ascii/lat...</td>\n",
        "      <td> 25.03125</td>\n",
        "      <td>-100.09375</td>\n",
        "      <td> 2</td>\n",
        "    </tr>\n",
        "    <tr>\n",
        "      <th>2</th>\n",
        "      <td> True</td>\n",
        "      <td> /Users/barnhatb/research/vic/fluxes/ascii/lati...</td>\n",
        "      <td> /Users/barnhatb/research/vic/forcing/ascii/lat...</td>\n",
        "      <td> 25.03125</td>\n",
        "      <td>-100.15625</td>\n",
        "      <td> 3</td>\n",
        "    </tr>\n",
        "    <tr>\n",
        "      <th>3</th>\n",
        "      <td> True</td>\n",
        "      <td> /Users/barnhatb/research/vic/fluxes/ascii/lati...</td>\n",
        "      <td> /Users/barnhatb/research/vic/forcing/ascii/lat...</td>\n",
        "      <td> 25.03125</td>\n",
        "      <td>-100.21875</td>\n",
        "      <td> 4</td>\n",
        "    </tr>\n",
        "    <tr>\n",
        "      <th>4</th>\n",
        "      <td> True</td>\n",
        "      <td> /Users/barnhatb/research/vic/fluxes/ascii/lati...</td>\n",
        "      <td> /Users/barnhatb/research/vic/forcing/ascii/lat...</td>\n",
        "      <td> 25.03125</td>\n",
        "      <td>-100.28125</td>\n",
        "      <td> 5</td>\n",
        "    </tr>\n",
        "  </tbody>\n",
        "</table>\n",
        "</div>"
       ],
       "metadata": {},
       "output_type": "pyout",
       "prompt_number": 13,
       "text": [
        "  exists                                               flux  \\\n",
        "0   True  /Users/barnhatb/research/vic/fluxes/ascii/lati...   \n",
        "1   True  /Users/barnhatb/research/vic/fluxes/ascii/lati...   \n",
        "2   True  /Users/barnhatb/research/vic/fluxes/ascii/lati...   \n",
        "3   True  /Users/barnhatb/research/vic/fluxes/ascii/lati...   \n",
        "4   True  /Users/barnhatb/research/vic/fluxes/ascii/lati...   \n",
        "\n",
        "                                             forcing       lat        lon  \\\n",
        "0  /Users/barnhatb/research/vic/forcing/ascii/lat...  25.03125 -100.03125   \n",
        "1  /Users/barnhatb/research/vic/forcing/ascii/lat...  25.03125 -100.09375   \n",
        "2  /Users/barnhatb/research/vic/forcing/ascii/lat...  25.03125 -100.15625   \n",
        "3  /Users/barnhatb/research/vic/forcing/ascii/lat...  25.03125 -100.21875   \n",
        "4  /Users/barnhatb/research/vic/forcing/ascii/lat...  25.03125 -100.28125   \n",
        "\n",
        "   indexer  \n",
        "0        1  \n",
        "1        2  \n",
        "2        3  \n",
        "3        4  \n",
        "4        5  "
       ]
      }
     ],
     "prompt_number": 13
    },
    {
     "cell_type": "code",
     "collapsed": false,
     "input": [
      "%time snowmeltflux(files.flux[270000],files.forcing[270000])"
     ],
     "language": "python",
     "metadata": {},
     "outputs": [
      {
       "output_type": "stream",
       "stream": "stdout",
       "text": [
        "CPU times: user 83.8 ms, sys: 17.7 ms, total: 102 ms\n",
        "Wall time: 99 ms\n"
       ]
      },
      {
       "metadata": {},
       "output_type": "pyout",
       "prompt_number": 14,
       "text": [
        "(50.21875, -118.53125, 3.874120668461476)"
       ]
      }
     ],
     "prompt_number": 14
    },
    {
     "cell_type": "raw",
     "metadata": {},
     "source": [
      "%time snowmeltflux(files.flux[270000])"
     ]
    },
    {
     "cell_type": "raw",
     "metadata": {},
     "source": [
      "SWE = np.array([5,4,3,4,6,5,4,3])\n",
      "s1 = SWE[0:-1]\n",
      "s2 = SWE[1:]\n",
      "melt = s1-s2"
     ]
    },
    {
     "cell_type": "raw",
     "metadata": {},
     "source": [
      "melt"
     ]
    },
    {
     "cell_type": "raw",
     "metadata": {},
     "source": [
      "s2"
     ]
    },
    {
     "cell_type": "code",
     "collapsed": false,
     "input": [
      "res = view.map(snowmeltflux,files.flux,files.forcing)"
     ],
     "language": "python",
     "metadata": {},
     "outputs": [],
     "prompt_number": 15
    },
    {
     "cell_type": "code",
     "collapsed": false,
     "input": [
      "import ProgressBar as pb"
     ],
     "language": "python",
     "metadata": {},
     "outputs": [],
     "prompt_number": 16
    },
    {
     "cell_type": "code",
     "collapsed": false,
     "input": [
      "prog = pb.ProgressBar(len(files.forcing))\n",
      "\n",
      "while res.ready() == False:\n",
      "    prog.animate(res.progress)"
     ],
     "language": "python",
     "metadata": {},
     "outputs": [],
     "prompt_number": 18
    },
    {
     "cell_type": "code",
     "collapsed": false,
     "input": [
      "res.ready()"
     ],
     "language": "python",
     "metadata": {},
     "outputs": [
      {
       "metadata": {},
       "output_type": "pyout",
       "prompt_number": 19,
       "text": [
        "True"
       ]
      }
     ],
     "prompt_number": 19
    },
    {
     "cell_type": "code",
     "collapsed": false,
     "input": [
      "lat,lon,wflux5 = zip(*res.result)"
     ],
     "language": "python",
     "metadata": {},
     "outputs": [],
     "prompt_number": 20
    },
    {
     "cell_type": "code",
     "collapsed": false,
     "input": [
      "np.savez_compressed('./w_flux5.npz',lat=lat,lon=lon,wflux5=wflux5)"
     ],
     "language": "python",
     "metadata": {},
     "outputs": [],
     "prompt_number": 21
    },
    {
     "cell_type": "code",
     "collapsed": false,
     "input": [],
     "language": "python",
     "metadata": {},
     "outputs": []
    }
   ],
   "metadata": {}
  }
 ]
}