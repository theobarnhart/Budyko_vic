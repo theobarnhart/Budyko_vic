{
 "metadata": {
  "name": "",
  "signature": "sha256:9b4100713b05fea12ea1d5f9be1c0646d78d273c216ac31a89a4aaefe3044dae"
 },
 "nbformat": 3,
 "nbformat_minor": 0,
 "worksheets": [
  {
   "cells": [
    {
     "cell_type": "code",
     "collapsed": false,
     "input": [
      "from IPython import parallel as p"
     ],
     "language": "python",
     "metadata": {},
     "outputs": []
    },
    {
     "cell_type": "code",
     "collapsed": false,
     "input": [
      "pc = p.Client()"
     ],
     "language": "python",
     "metadata": {},
     "outputs": []
    },
    {
     "cell_type": "code",
     "collapsed": false,
     "input": [
      "pc.ids"
     ],
     "language": "python",
     "metadata": {},
     "outputs": []
    },
    {
     "cell_type": "code",
     "collapsed": false,
     "input": [
      "view = pc.load_balanced_view()"
     ],
     "language": "python",
     "metadata": {},
     "outputs": []
    },
    {
     "cell_type": "code",
     "collapsed": false,
     "input": [
      "%%px\n",
      "import numpy as np\n",
      "import pandas as pd\n",
      "dates = pd.read_pickle('/Volumes/Users/Theo/projects/Budyko_vic/timecode.pcl')\n",
      "wyears = np.load('/Volumes/Users/Theo/projects/Budyko_vic/wyears.npy')\n",
      "fluxes_columns = ['y','m','d','ET','R','BF','sm1','sm2','sm3','SWE','Cs','Qs','Ql','Qg','NR','PEText','PETtrc','PETsrc']\n",
      "forcing_columns = ['P','Tmax','Tmin','W']"
     ],
     "language": "python",
     "metadata": {},
     "outputs": []
    },
    {
     "cell_type": "code",
     "collapsed": false,
     "input": [
      "import pandas as pd\n",
      "import numpy as np\n",
      "import glob\n",
      "\n",
      "dates = pd.read_pickle('./timecode.pcl')\n",
      "wyears = np.load('./wyears.npy')\n",
      "fluxes_columns = ['y','m','d','ET','R','BF','sm1','sm2','sm3','SWE','Cs','Qs','Ql','Qg','NR','PEText','PETtrc','PETsrc']\n",
      "forcing_columns = ['P','Tmax','Tmin','W']"
     ],
     "language": "python",
     "metadata": {},
     "outputs": []
    },
    {
     "cell_type": "code",
     "collapsed": false,
     "input": [
      "def snowmeltflux(fl):\n",
      "    lat = float(fl.split('_')[-2]) # extract latitude from file name\n",
      "    lon = float(fl.split('_')[-1]) # extract longitude from file name\n",
      "\n",
      "    # load the fluxes data\n",
      "    flux = pd.read_table(fl, sep='\\t', names=fluxes_columns)\n",
      "    flux.index = pd.DatetimeIndex(dates)\n",
      "    \n",
      "    flux['melt'] = np.NaN # preallocate the melt column\n",
      "    \n",
      "    melt = (flux.SWE[1:-1]-flux.SWE[0:-2])*-1. # compute snowmelt\n",
      "    \n",
      "    flux.ix[1:-1,'melt'] = melt\n",
      "    \n",
      "    flux.loc[flux.melt < 0,'melt'] = 0. # if snowmelt is negative (accumulatoion) then zero it\n",
      "    \n",
      "    smlength = len(flux.loc[flux.melt > 0,:].melt)\n",
      "    \n",
      "    if smlength > 0.:\n",
      "        smelt = flux.loc[flux.melt > 0,:].melt.sum()/smlength # compute long term average daily snowmelt\n",
      "    else:\n",
      "        smelt = 0.\n",
      "        \n",
      "    return lat,lon,smelt"
     ],
     "language": "python",
     "metadata": {},
     "outputs": []
    },
    {
     "cell_type": "code",
     "collapsed": false,
     "input": [
      "files = pd.read_pickle('./forcing_fluxes_filenames.dataframe')"
     ],
     "language": "python",
     "metadata": {},
     "outputs": []
    },
    {
     "cell_type": "code",
     "collapsed": false,
     "input": [
      "files.head()"
     ],
     "language": "python",
     "metadata": {},
     "outputs": []
    },
    {
     "cell_type": "code",
     "collapsed": false,
     "input": [
      "snowmeltflux(files.flux[270000])"
     ],
     "language": "python",
     "metadata": {},
     "outputs": []
    },
    {
     "cell_type": "code",
     "collapsed": false,
     "input": [
      "res = view.map(snowmeltflux,files.flux)"
     ],
     "language": "python",
     "metadata": {},
     "outputs": []
    },
    {
     "cell_type": "code",
     "collapsed": false,
     "input": [
      "import ProgressBar as pb"
     ],
     "language": "python",
     "metadata": {},
     "outputs": []
    },
    {
     "cell_type": "code",
     "collapsed": false,
     "input": [
      "prog = pb.ProgressBar(len(files.forcing))\n",
      "\n",
      "while res.ready() == False:\n",
      "    prog.animate(res.progress)"
     ],
     "language": "python",
     "metadata": {},
     "outputs": []
    },
    {
     "cell_type": "code",
     "collapsed": false,
     "input": [
      "res.ready()"
     ],
     "language": "python",
     "metadata": {},
     "outputs": []
    },
    {
     "cell_type": "code",
     "collapsed": false,
     "input": [
      "lat,lon,snowmelt = zip(*res.result)"
     ],
     "language": "python",
     "metadata": {},
     "outputs": []
    },
    {
     "cell_type": "code",
     "collapsed": false,
     "input": [
      "np.savez_compressed('./snowmelt.npz',lat=lat,lon=lon,snowmelt=snowmelt)"
     ],
     "language": "python",
     "metadata": {},
     "outputs": []
    },
    {
     "cell_type": "code",
     "collapsed": false,
     "input": [
      "(res.elapsed/60./60.)"
     ],
     "language": "python",
     "metadata": {},
     "outputs": []
    },
    {
     "cell_type": "code",
     "collapsed": false,
     "input": [],
     "language": "python",
     "metadata": {},
     "outputs": []
    }
   ],
   "metadata": {}
  }
 ]
}