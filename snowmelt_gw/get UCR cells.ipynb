{
 "cells": [
  {
   "cell_type": "code",
   "execution_count": 3,
   "metadata": {
    "collapsed": true
   },
   "outputs": [],
   "source": [
    "from osgeo import ogr\n",
    "from osgeo import gdal\n",
    "import os"
   ]
  },
  {
   "cell_type": "code",
   "execution_count": 5,
   "metadata": {
    "collapsed": false
   },
   "outputs": [
    {
     "data": {
      "text/plain": [
       "0"
      ]
     },
     "execution_count": 5,
     "metadata": {},
     "output_type": "execute_result"
    }
   ],
   "source": [
    "shp = './data/gis/crb_upper_wtshd.shp' # cutting shapefile\n",
    "inpth = '/Volumes/Users/Theo/projects/Budyko_vic/data/vic_index_new_small.tif' # raster path\n",
    "cmd = 'gdalwarp -t_srs \"+proj=longlat +datum=WGS84 +no_defs\" -cutline '+shp+\"\"\" -crop_to_cutline \"\"\"+inpth+' ./data/gis/ucrb_cells.tif'\n",
    "os.system(cmd) # call the command on the system terminal"
   ]
  },
  {
   "cell_type": "code",
   "execution_count": 6,
   "metadata": {
    "collapsed": true
   },
   "outputs": [],
   "source": [
    "# extract cell IDs from the cropped raster\n",
    "rastpth = './data/gis/ucrb_cells.tif'\n",
    "ds = gdal.Open(rastpth) # open connection to the raster\n",
    "rast = np.array(ds.GetRasterBand(1).ReadAsArray()) # read raster as array\n",
    "rast[rast==-9999] = np.NaN # handle no data values\n",
    "\n",
    "cells = np.unique(rast[np.isnan(rast)==False]) # get the unique cell IDs"
   ]
  },
  {
   "cell_type": "code",
   "execution_count": 7,
   "metadata": {
    "collapsed": false
   },
   "outputs": [
    {
     "data": {
      "text/plain": [
       "8563"
      ]
     },
     "execution_count": 7,
     "metadata": {},
     "output_type": "execute_result"
    }
   ],
   "source": [
    "len(cells)"
   ]
  }
 ],
 "metadata": {
  "kernelspec": {
   "display_name": "Python 2",
   "language": "python",
   "name": "python2"
  },
  "language_info": {
   "codemirror_mode": {
    "name": "ipython",
    "version": 2
   },
   "file_extension": ".py",
   "mimetype": "text/x-python",
   "name": "python",
   "nbconvert_exporter": "python",
   "pygments_lexer": "ipython2",
   "version": "2.7.10"
  }
 },
 "nbformat": 4,
 "nbformat_minor": 0
}
