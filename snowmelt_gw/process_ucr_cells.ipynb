{
 "cells": [
  {
   "cell_type": "code",
   "execution_count": 1,
   "metadata": {
    "collapsed": true
   },
   "outputs": [],
   "source": [
    "from IPython import parallel as p"
   ]
  },
  {
   "cell_type": "code",
   "execution_count": 2,
   "metadata": {
    "collapsed": true
   },
   "outputs": [],
   "source": [
    "cp = p.Client()"
   ]
  },
  {
   "cell_type": "code",
   "execution_count": 3,
   "metadata": {
    "collapsed": true
   },
   "outputs": [],
   "source": [
    "cells = np.load('./data/ucrb_cells.npy')"
   ]
  },
  {
   "cell_type": "code",
   "execution_count": 4,
   "metadata": {
    "collapsed": true
   },
   "outputs": [],
   "source": [
    "pths = pd.read_pickle('/Volumes/Users/Theo/projects/Budyko_vic/forcing_fluxes_filenames_lat_lon_index.df')\n",
    "dates = pd.read_pickle('/Volumes/Users/Theo/projects/Budyko_vic/timecode.pcl')\n",
    "fluxes_columns = ['y','m','d','ET','R','BF','sm1','sm2','sm3','SWE','Cs','Qs','Ql','Qg','NR','PEText','PETtrc','PETsrc']\n",
    "\n",
    "def wateryear(index):\n",
    "    year = index.year\n",
    "    strt = pd.datetime(year,10,1) # start of the next water year+1\n",
    "    \n",
    "    if index<strt:\n",
    "        wyear = year\n",
    "    elif index>=strt: \n",
    "        wyear = year+1\n",
    "\n",
    "    return wyear\n",
    "\n",
    "def computesnowmelt(swe):\n",
    "    swe = swe.as_matrix() # convert SWE to a matrix\n",
    "    smelt = swe[0:-1]-swe[1:] # compute snowmelt for each day\n",
    "    smelt = np.append(0,smelt)\n",
    "    \n",
    "    smelt[smelt<0]=0 # set accumulation events to 0\n",
    "    \n",
    "    return np.nanmean(smelt[smelt>0]) # compute the average snowmelt rate"
   ]
  },
  {
   "cell_type": "code",
   "execution_count": 5,
   "metadata": {
    "collapsed": false
   },
   "outputs": [],
   "source": [
    "%%px\n",
    "pths = pd.read_pickle('/Volumes/Users/Theo/projects/Budyko_vic/forcing_fluxes_filenames_lat_lon_index.df')\n",
    "dates = pd.read_pickle('/Volumes/Users/Theo/projects/Budyko_vic/timecode.pcl')\n",
    "fluxes_columns = ['y','m','d','ET','R','BF','sm1','sm2','sm3','SWE','Cs','Qs','Ql','Qg','NR','PEText','PETtrc','PETsrc']\n",
    "\n",
    "def wateryear(index):\n",
    "    year = index.year\n",
    "    strt = pd.datetime(year,10,1) # start of the next water year+1\n",
    "    \n",
    "    if index<strt:\n",
    "        wyear = year\n",
    "    elif index>=strt: \n",
    "        wyear = year+1\n",
    "\n",
    "    return wyear\n",
    "\n",
    "def computesnowmelt(swe):\n",
    "    swe = swe.as_matrix() # convert SWE to a matrix\n",
    "    smelt = swe[0:-1]-swe[1:] # compute snowmelt for each day\n",
    "    smelt = np.append(0,smelt)\n",
    "    \n",
    "    smelt[smelt<0]=0 # set accumulation events to 0\n",
    "    \n",
    "    return np.nanmean(smelt[smelt>0]) # compute the average snowmelt rate\n",
    "    "
   ]
  },
  {
   "cell_type": "code",
   "execution_count": 6,
   "metadata": {
    "collapsed": false
   },
   "outputs": [],
   "source": [
    "def ucr_met(cell):\n",
    "    \n",
    "    # get path from cell\n",
    "    fl = pths.loc[pths.index == cell,'flux'].as_matrix()[0] # flux path\n",
    "\n",
    "    flux = pd.read_table(fl, sep='\\t', names = fluxes_columns) # load the data file\n",
    "    flux.index = pd.DatetimeIndex(dates) \n",
    "\n",
    "    flux['wateryear'] = flux.index.map(wateryear) # compute water years\n",
    "    \n",
    "    # preallocate\n",
    "    wys = []\n",
    "    april1 = []\n",
    "    peakswe = []\n",
    "    smr = []\n",
    "    \n",
    "    # loop through each water year:\n",
    "    for wy in np.unique(flux['wateryear'])[1:-1]: # iterate through the 2nd through 1 before the last water year\n",
    "        # initialize lists for storage\n",
    "\n",
    "        wys.append(wy)\n",
    "        april1.append(flux.loc[str(wy)+'-04-01','SWE']) # compute april 1 SWE\n",
    "        peakswe.append(pkswe) = flux.loc[flux.wateryear==wy,'SWE'].max() # compute peak SWE\n",
    "        smr.append(computesnowmelt(flux.loc[flux.wateryear == wy,'SWE'])) # compute snowmelt\n",
    "        \n",
    "    n = len(wys)\n",
    "\n",
    "    wys = np.reshape(wys,[1,n])[0,:]\n",
    "    april1 = np.reshape(april1,[1,n])[0,:]\n",
    "    peakswe = np.reshape(peakswe,[1,n])[0,:]\n",
    "    smr = np.reshape(smr,[1,n])[0,:]\n",
    "\n",
    "    outdf = pd.DataFrame()\n",
    "    outdf['water_year'] = wys\n",
    "    outdf['april_1_swe'] = april1\n",
    "    outdf['peak_swe'] = peakswe\n",
    "    outdf['snowmelt_rate'] = smr\n",
    "    outdf.to_csv('/Volumes/Users/Theo/projects/Budyko_vic/snowmelt_gw/data/out/vic_'+str(int(cell))+'.csv', index=False)"
   ]
  },
  {
   "cell_type": "code",
   "execution_count": 7,
   "metadata": {
    "collapsed": true
   },
   "outputs": [],
   "source": [
    "view = cp.load_balanced_view()"
   ]
  },
  {
   "cell_type": "code",
   "execution_count": 8,
   "metadata": {
    "collapsed": true
   },
   "outputs": [],
   "source": [
    "res = view.map(ucr_met,cells)"
   ]
  },
  {
   "cell_type": "code",
   "execution_count": 58,
   "metadata": {
    "collapsed": false
   },
   "outputs": [
    {
     "data": {
      "text/plain": [
       "1729"
      ]
     },
     "execution_count": 58,
     "metadata": {},
     "output_type": "execute_result"
    }
   ],
   "source": [
    "res.progress"
   ]
  },
  {
   "cell_type": "code",
   "execution_count": 59,
   "metadata": {
    "collapsed": false
   },
   "outputs": [
    {
     "data": {
      "text/plain": [
       "8563"
      ]
     },
     "execution_count": 59,
     "metadata": {},
     "output_type": "execute_result"
    }
   ],
   "source": [
    "res.progress"
   ]
  },
  {
   "cell_type": "markdown",
   "metadata": {},
   "source": [
    "### Create a list of lat, lon, and indexers for Brian Thomas"
   ]
  },
  {
   "cell_type": "code",
   "execution_count": 61,
   "metadata": {
    "collapsed": false
   },
   "outputs": [],
   "source": [
    "pths2 = pths[[\"lat\",\"lon\",'indexer']]"
   ]
  },
  {
   "cell_type": "code",
   "execution_count": 63,
   "metadata": {
    "collapsed": false
   },
   "outputs": [],
   "source": [
    "pths2.to_csv('./data/cell_centers_indexer.csv', index=False)"
   ]
  }
 ],
 "metadata": {
  "kernelspec": {
   "display_name": "Python 2",
   "language": "python",
   "name": "python2"
  },
  "language_info": {
   "codemirror_mode": {
    "name": "ipython",
    "version": 2
   },
   "file_extension": ".py",
   "mimetype": "text/x-python",
   "name": "python",
   "nbconvert_exporter": "python",
   "pygments_lexer": "ipython2",
   "version": "2.7.10"
  }
 },
 "nbformat": 4,
 "nbformat_minor": 0
}
