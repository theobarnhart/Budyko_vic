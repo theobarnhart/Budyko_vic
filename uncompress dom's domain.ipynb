{
 "metadata": {
  "name": "",
  "signature": "sha256:294ce9e2ac2524efd69cb46b2136f55624403abc1b7a5293d8e7146a6f195400"
 },
 "nbformat": 3,
 "nbformat_minor": 0,
 "worksheets": [
  {
   "cells": [
    {
     "cell_type": "code",
     "collapsed": false,
     "input": [
      "import pandas as pd\n",
      "from IPython import parallel as p\n",
      "import subprocess"
     ],
     "language": "python",
     "metadata": {},
     "outputs": [],
     "prompt_number": 1
    },
    {
     "cell_type": "code",
     "collapsed": false,
     "input": [
      "cp = p.Client()"
     ],
     "language": "python",
     "metadata": {},
     "outputs": [],
     "prompt_number": 2
    },
    {
     "cell_type": "code",
     "collapsed": false,
     "input": [
      "cp.ids"
     ],
     "language": "python",
     "metadata": {},
     "outputs": [
      {
       "metadata": {},
       "output_type": "pyout",
       "prompt_number": 3,
       "text": [
        "[0, 1, 2, 3]"
       ]
      }
     ],
     "prompt_number": 3
    },
    {
     "cell_type": "code",
     "collapsed": false,
     "input": [
      "view = cp.direct_view()"
     ],
     "language": "python",
     "metadata": {},
     "outputs": [],
     "prompt_number": 4
    },
    {
     "cell_type": "code",
     "collapsed": false,
     "input": [
      "%%px\n",
      "import numpy as np\n",
      "import pandas as pd\n",
      "import subprocess"
     ],
     "language": "python",
     "metadata": {},
     "outputs": [],
     "prompt_number": 5
    },
    {
     "cell_type": "code",
     "collapsed": false,
     "input": [
      "def uncompress(fr,fl):\n",
      "    \n",
      "    subprocess.call(['/usr/bin/bzip2','-d',fr])\n",
      "    subprocess.call(['/usr/bin/bzip2','-d',fl])\n",
      "    \n",
      "    return fr,fl"
     ],
     "language": "python",
     "metadata": {},
     "outputs": [],
     "prompt_number": 6
    },
    {
     "cell_type": "code",
     "collapsed": false,
     "input": [
      "files = pd.read_pickle('./dominik_domain_vic.pcl')"
     ],
     "language": "python",
     "metadata": {},
     "outputs": [],
     "prompt_number": 7
    },
    {
     "cell_type": "code",
     "collapsed": false,
     "input": [
      "files.head()"
     ],
     "language": "python",
     "metadata": {},
     "outputs": [
      {
       "html": [
        "<div style=\"max-height:1000px;max-width:1500px;overflow:auto;\">\n",
        "<table border=\"1\" class=\"dataframe\">\n",
        "  <thead>\n",
        "    <tr style=\"text-align: right;\">\n",
        "      <th></th>\n",
        "      <th>exists</th>\n",
        "      <th>flux</th>\n",
        "      <th>forcing</th>\n",
        "      <th>comp_flx</th>\n",
        "      <th>comp_frc</th>\n",
        "      <th>lat</th>\n",
        "      <th>lon</th>\n",
        "    </tr>\n",
        "  </thead>\n",
        "  <tbody>\n",
        "    <tr>\n",
        "      <th>50063</th>\n",
        "      <td> True</td>\n",
        "      <td> /Users/barnhatb/research/vic/fluxes/ascii/lati...</td>\n",
        "      <td> /Users/barnhatb/research/vic/forcing/ascii/lat...</td>\n",
        "      <td> /Users/barnhatb/research/vic/fluxes/ascii/lati...</td>\n",
        "      <td> /Users/barnhatb/research/vic/forcing/ascii/lat...</td>\n",
        "      <td> 33.03125</td>\n",
        "      <td>-104.15625</td>\n",
        "    </tr>\n",
        "    <tr>\n",
        "      <th>50064</th>\n",
        "      <td> True</td>\n",
        "      <td> /Users/barnhatb/research/vic/fluxes/ascii/lati...</td>\n",
        "      <td> /Users/barnhatb/research/vic/forcing/ascii/lat...</td>\n",
        "      <td> /Users/barnhatb/research/vic/fluxes/ascii/lati...</td>\n",
        "      <td> /Users/barnhatb/research/vic/forcing/ascii/lat...</td>\n",
        "      <td> 33.03125</td>\n",
        "      <td>-104.21875</td>\n",
        "    </tr>\n",
        "    <tr>\n",
        "      <th>50065</th>\n",
        "      <td> True</td>\n",
        "      <td> /Users/barnhatb/research/vic/fluxes/ascii/lati...</td>\n",
        "      <td> /Users/barnhatb/research/vic/forcing/ascii/lat...</td>\n",
        "      <td> /Users/barnhatb/research/vic/fluxes/ascii/lati...</td>\n",
        "      <td> /Users/barnhatb/research/vic/forcing/ascii/lat...</td>\n",
        "      <td> 33.03125</td>\n",
        "      <td>-104.28125</td>\n",
        "    </tr>\n",
        "    <tr>\n",
        "      <th>50066</th>\n",
        "      <td> True</td>\n",
        "      <td> /Users/barnhatb/research/vic/fluxes/ascii/lati...</td>\n",
        "      <td> /Users/barnhatb/research/vic/forcing/ascii/lat...</td>\n",
        "      <td> /Users/barnhatb/research/vic/fluxes/ascii/lati...</td>\n",
        "      <td> /Users/barnhatb/research/vic/forcing/ascii/lat...</td>\n",
        "      <td> 33.03125</td>\n",
        "      <td>-104.34375</td>\n",
        "    </tr>\n",
        "    <tr>\n",
        "      <th>50067</th>\n",
        "      <td> True</td>\n",
        "      <td> /Users/barnhatb/research/vic/fluxes/ascii/lati...</td>\n",
        "      <td> /Users/barnhatb/research/vic/forcing/ascii/lat...</td>\n",
        "      <td> /Users/barnhatb/research/vic/fluxes/ascii/lati...</td>\n",
        "      <td> /Users/barnhatb/research/vic/forcing/ascii/lat...</td>\n",
        "      <td> 33.03125</td>\n",
        "      <td>-104.40625</td>\n",
        "    </tr>\n",
        "  </tbody>\n",
        "</table>\n",
        "</div>"
       ],
       "metadata": {},
       "output_type": "pyout",
       "prompt_number": 8,
       "text": [
        "      exists                                               flux  \\\n",
        "50063   True  /Users/barnhatb/research/vic/fluxes/ascii/lati...   \n",
        "50064   True  /Users/barnhatb/research/vic/fluxes/ascii/lati...   \n",
        "50065   True  /Users/barnhatb/research/vic/fluxes/ascii/lati...   \n",
        "50066   True  /Users/barnhatb/research/vic/fluxes/ascii/lati...   \n",
        "50067   True  /Users/barnhatb/research/vic/fluxes/ascii/lati...   \n",
        "\n",
        "                                                 forcing  \\\n",
        "50063  /Users/barnhatb/research/vic/forcing/ascii/lat...   \n",
        "50064  /Users/barnhatb/research/vic/forcing/ascii/lat...   \n",
        "50065  /Users/barnhatb/research/vic/forcing/ascii/lat...   \n",
        "50066  /Users/barnhatb/research/vic/forcing/ascii/lat...   \n",
        "50067  /Users/barnhatb/research/vic/forcing/ascii/lat...   \n",
        "\n",
        "                                                comp_flx  \\\n",
        "50063  /Users/barnhatb/research/vic/fluxes/ascii/lati...   \n",
        "50064  /Users/barnhatb/research/vic/fluxes/ascii/lati...   \n",
        "50065  /Users/barnhatb/research/vic/fluxes/ascii/lati...   \n",
        "50066  /Users/barnhatb/research/vic/fluxes/ascii/lati...   \n",
        "50067  /Users/barnhatb/research/vic/fluxes/ascii/lati...   \n",
        "\n",
        "                                                comp_frc       lat        lon  \n",
        "50063  /Users/barnhatb/research/vic/forcing/ascii/lat...  33.03125 -104.15625  \n",
        "50064  /Users/barnhatb/research/vic/forcing/ascii/lat...  33.03125 -104.21875  \n",
        "50065  /Users/barnhatb/research/vic/forcing/ascii/lat...  33.03125 -104.28125  \n",
        "50066  /Users/barnhatb/research/vic/forcing/ascii/lat...  33.03125 -104.34375  \n",
        "50067  /Users/barnhatb/research/vic/forcing/ascii/lat...  33.03125 -104.40625  "
       ]
      }
     ],
     "prompt_number": 8
    },
    {
     "cell_type": "code",
     "collapsed": false,
     "input": [
      "res = view.map(uncompress,files.comp_frc, files.comp_flx)"
     ],
     "language": "python",
     "metadata": {},
     "outputs": [],
     "prompt_number": 9
    },
    {
     "cell_type": "code",
     "collapsed": false,
     "input": [
      "res.ready()"
     ],
     "language": "python",
     "metadata": {},
     "outputs": [
      {
       "metadata": {},
       "output_type": "pyout",
       "prompt_number": 19,
       "text": [
        "True"
       ]
      }
     ],
     "prompt_number": 19
    },
    {
     "cell_type": "code",
     "collapsed": false,
     "input": [
      "files.iloc[0,:].comp_flx"
     ],
     "language": "python",
     "metadata": {},
     "outputs": [
      {
       "metadata": {},
       "output_type": "pyout",
       "prompt_number": 90,
       "text": [
        "'/Users/barnhatb/research/vic/fluxes/ascii/latitude.33.03125/flux_snow_33.03125_-104.15625.bz2'"
       ]
      }
     ],
     "prompt_number": 90
    },
    {
     "cell_type": "code",
     "collapsed": false,
     "input": [],
     "language": "python",
     "metadata": {},
     "outputs": []
    }
   ],
   "metadata": {}
  }
 ]
}